{
 "cells": [
  {
   "cell_type": "code",
   "execution_count": 3,
   "metadata": {},
   "outputs": [
    {
     "name": "stdout",
     "output_type": "stream",
     "text": [
      "Collecting dataclasses\n",
      "  Using cached dataclasses-0.6-py3-none-any.whl (14 kB)\n",
      "Installing collected packages: dataclasses\n",
      "Successfully installed dataclasses-0.6\n",
      "Note: you may need to restart the kernel to use updated packages.\n"
     ]
    },
    {
     "name": "stderr",
     "output_type": "stream",
     "text": [
      "WARNING: You are using pip version 21.0.1; however, version 21.1.2 is available.\n",
      "You should consider upgrading via the 'c:\\rajesh\\jupyter\\venv\\scripts\\python.exe -m pip install --upgrade pip' command.\n"
     ]
    }
   ],
   "source": [
    "pip install dataclasses"
   ]
  },
  {
   "cell_type": "markdown",
   "metadata": {},
   "source": [
    "## Without dataclass"
   ]
  },
  {
   "cell_type": "code",
   "execution_count": 23,
   "metadata": {},
   "outputs": [
    {
     "name": "stdout",
     "output_type": "stream",
     "text": [
      "Address(street=Bond st., city=Orcland, zip_code=1234)\n",
      "9040440680602743490\n",
      "False\n",
      "True\n"
     ]
    }
   ],
   "source": [
    "class Address:\n",
    "    def __init__(self,street,city,zip_code)-> None:\n",
    "        self.street = street\n",
    "        self.city = city\n",
    "        self.zip_code = zip_code\n",
    "    \n",
    "    def __repr__(self)-> str:\n",
    "        return f\"Address(street={self.street}, city={self.city}, zip_code={self.zip_code})\"\n",
    "    \n",
    "    def __hash__(self)-> int:\n",
    "        return hash((self.street, self.city, self.zip_code))\n",
    "    \n",
    "    def __eq__(self, other)-> bool:\n",
    "        if not isinstance(other, Address) :\n",
    "            return NotImplemented\n",
    "        \n",
    "        return(\n",
    "           (self.street, self.city, self.zip_code) == (other.street, other.city, other.zip_code)\n",
    "        )\n",
    "    \n",
    "my_address = Address(\"Bond st.\", \"Orcland\", \"1234\")\n",
    "\n",
    "print(my_address)\n",
    "print(hash(my_address))\n",
    "\n",
    "his_address = Address(\"Poopoo St.\", \"Pongyang\", \"0000\")\n",
    "\n",
    "wife_address = Address(\"Bond st.\", \"Orcland\", \"1234\")\n",
    "\n",
    "print(my_address == his_address)\n",
    "print(my_address == wife_address)"
   ]
  },
  {
   "cell_type": "markdown",
   "metadata": {},
   "source": [
    "## With Dataclass"
   ]
  },
  {
   "cell_type": "code",
   "execution_count": 27,
   "metadata": {},
   "outputs": [
    {
     "name": "stdout",
     "output_type": "stream",
     "text": [
      "Address(street='Bond st.', city='Orcland', zip_code='1234')\n",
      "False\n",
      "True\n"
     ]
    },
    {
     "ename": "TypeError",
     "evalue": "unhashable type: 'Address'",
     "output_type": "error",
     "traceback": [
      "\u001b[0;31m---------------------------------------------------------------------------\u001b[0m",
      "\u001b[0;31mTypeError\u001b[0m                                 Traceback (most recent call last)",
      "\u001b[0;32m/tmp/ipykernel_29/671780229.py\u001b[0m in \u001b[0;36m<module>\u001b[0;34m\u001b[0m\n\u001b[1;32m     18\u001b[0m \u001b[0mprint\u001b[0m\u001b[0;34m(\u001b[0m\u001b[0mmy_address\u001b[0m \u001b[0;34m==\u001b[0m \u001b[0mwife_address\u001b[0m\u001b[0;34m)\u001b[0m\u001b[0;34m\u001b[0m\u001b[0;34m\u001b[0m\u001b[0m\n\u001b[1;32m     19\u001b[0m \u001b[0;34m\u001b[0m\u001b[0m\n\u001b[0;32m---> 20\u001b[0;31m \u001b[0mprint\u001b[0m\u001b[0;34m(\u001b[0m\u001b[0mhash\u001b[0m\u001b[0;34m(\u001b[0m\u001b[0mmy_address\u001b[0m\u001b[0;34m)\u001b[0m\u001b[0;34m)\u001b[0m\u001b[0;34m\u001b[0m\u001b[0;34m\u001b[0m\u001b[0m\n\u001b[0m",
      "\u001b[0;31mTypeError\u001b[0m: unhashable type: 'Address'"
     ]
    }
   ],
   "source": [
    "from dataclasses import dataclass\n",
    "\n",
    "@dataclass\n",
    "class Address:\n",
    "    street: str\n",
    "    city: str\n",
    "    zip_code: str\n",
    "\n",
    "my_address = Address(\"Bond st.\", \"Orcland\", \"1234\")\n",
    "\n",
    "print(my_address)\n",
    "\n",
    "his_address = Address(\"Poopoo St.\", \"Pongyang\", \"0000\")\n",
    "\n",
    "wife_address = Address(\"Bond st.\", \"Orcland\", \"1234\")\n",
    "\n",
    "print(my_address == his_address)\n",
    "print(my_address == wife_address)\n",
    "\n",
    "print(hash(my_address))"
   ]
  },
  {
   "cell_type": "markdown",
   "metadata": {},
   "source": [
    "#### Although not recommended, you can force dataclass() to create a __hash__() method with unsafe_hash=True. This might be the case if your class is logically immutable but can nonetheless be mutated. This is a specialized use case and should be considered carefully."
   ]
  },
  {
   "cell_type": "code",
   "execution_count": 28,
   "metadata": {},
   "outputs": [
    {
     "name": "stdout",
     "output_type": "stream",
     "text": [
      "9040440680602743490\n"
     ]
    }
   ],
   "source": [
    "from dataclasses import dataclass\n",
    "\n",
    "@dataclass(unsafe_hash=True)\n",
    "class Address:\n",
    "    street: str\n",
    "    city: str\n",
    "    zip_code: str\n",
    "        \n",
    "    \n",
    "\n",
    "my_address = Address(\"Bond st.\", \"Orcland\", \"1234\")\n",
    "\n",
    "print(hash(my_address))"
   ]
  },
  {
   "cell_type": "code",
   "execution_count": 24,
   "metadata": {},
   "outputs": [
    {
     "name": "stdout",
     "output_type": "stream",
     "text": [
      "[User(id=3, name='Scooby Doe'), User(id=1, name='John Doe'), User(id=2, name='Jane Doe')]\n",
      "[User(id=1, name='John Doe'), User(id=2, name='Jane Doe'), User(id=3, name='Scooby Doe')]\n",
      "[UserUnordered(id=3, name='Scooby Doe'), UserUnordered(id=1, name='John Doe'), UserUnordered(id=2, name='Jane Doe')]\n"
     ]
    }
   ],
   "source": [
    "from dataclasses import dataclass\n",
    "\n",
    "@dataclass(order=True)\n",
    "class User:\n",
    "    id : int\n",
    "    name : str\n",
    "\n",
    "\n",
    "        \n",
    "user1 = User(id=1 , name=\"John Doe\")   \n",
    "user2 = User(id=2 , name=\"Jane Doe\") \n",
    "user3 = User(id=3 , name=\"Scooby Doe\") \n",
    "users_list=[user3,user1,user2]\n",
    "print(users_list)\n",
    "print(sorted(users_list))\n",
    "\n",
    "### This will not work with sorted\n",
    "@dataclass()\n",
    "class UserUnordered:\n",
    "    id : int\n",
    "    name : str\n",
    "        \n",
    "user1 = UserUnordered(id=1 , name=\"John Doe\")   \n",
    "user2 = UserUnordered(id=2 , name=\"Jane Doe\") \n",
    "user3 = UserUnordered(id=3 , name=\"Scooby Doe\") \n",
    "users_list=[user3,user1,user2]\n",
    "print(users_list)\n",
    "# print(sorted(users_list))"
   ]
  },
  {
   "cell_type": "markdown",
   "metadata": {},
   "source": [
    "### Use all to check whether all elements in an iterable meet the criteria"
   ]
  },
  {
   "cell_type": "code",
   "execution_count": 14,
   "metadata": {},
   "outputs": [
    {
     "name": "stdout",
     "output_type": "stream",
     "text": [
      "Garage is True\n",
      "Garage is True\n"
     ]
    }
   ],
   "source": [
    "from dataclasses import dataclass\n",
    "from enum import Enum\n",
    "from typing import List\n",
    "\n",
    "class ParkingSpotStatus(str, Enum):\n",
    "    FREE = \"FREE\"\n",
    "    OCCUPIED = \"OCCUPIED\"\n",
    "    \n",
    "\n",
    "@dataclass\n",
    "class ParkingSpot:\n",
    "    number: int\n",
    "    status: ParkingSpotStatus\n",
    "        \n",
    "# with for and if\n",
    "@dataclass\n",
    "class Garage:\n",
    "    parking_spots: List[ParkingSpot]\n",
    "        \n",
    "    def is_full(self)-> bool:\n",
    "        full: bool = True\n",
    "        \n",
    "        for spot in self.parking_spots:\n",
    "            if spot.status == ParkingSpotStatus.FREE:\n",
    "                full = False\n",
    "                break\n",
    "        \n",
    "        return full\n",
    "\n",
    "garage = Garage(parking_spots=[ParkingSpot(number=1, status=ParkingSpotStatus.OCCUPIED)])\n",
    "print(f\"Garage is {garage.is_full()}\")\n",
    "\n",
    "# with all\n",
    "@dataclass\n",
    "class Garage:\n",
    "    parking_spots: List[ParkingSpot]\n",
    "        \n",
    "    def is_full(self)-> bool:\n",
    "        return all(spot.status == ParkingSpotStatus.OCCUPIED for spot in self.parking_spots)\n",
    "\n",
    "garage = Garage(parking_spots=[ParkingSpot(number=1, status=ParkingSpotStatus.OCCUPIED)])\n",
    "print(f\"Garage is {garage.is_full()}\")"
   ]
  },
  {
   "cell_type": "code",
   "execution_count": 22,
   "metadata": {},
   "outputs": [
    {
     "name": "stdout",
     "output_type": "stream",
     "text": [
      "26.6815\n",
      "31.39\n"
     ]
    }
   ],
   "source": [
    "from dataclasses import dataclass\n",
    "\n",
    "@dataclass\n",
    "class Product:\n",
    "    price: float\n",
    "        \n",
    "@dataclass\n",
    "class DiscountCoupon:\n",
    "    rate: float\n",
    "\n",
    "@dataclass\n",
    "class Cart:\n",
    "    products: list[Product]\n",
    "    discount_coupon: DiscountCoupon\n",
    "        \n",
    "    def subtotal(self)-> float:\n",
    "        return sum(product.price for product in self.products)\n",
    "    \n",
    "    def total(self)-> float:\n",
    "        if self.discount_coupon is None:\n",
    "            return self.subtotal()\n",
    "        else:\n",
    "            return self.subtotal() * (1 - self.discount_coupon.rate)\n",
    "        \n",
    "cart = Cart([Product(10.14), Product(21.25)], DiscountCoupon(0.15))\n",
    "print(cart.total())\n",
    "\n",
    "cart = Cart([Product(10.14), Product(21.25)], None)\n",
    "print(cart.total())"
   ]
  },
  {
   "cell_type": "code",
   "execution_count": 38,
   "metadata": {},
   "outputs": [
    {
     "name": "stdout",
     "output_type": "stream",
     "text": [
      "Male\n",
      "Student(height='Male', sex=69.9, weight=159.9)\n",
      "69.9\n"
     ]
    }
   ],
   "source": [
    "from dataclasses import dataclass\n",
    "\n",
    "@dataclass\n",
    "class Student:\n",
    "    height: float\n",
    "    sex : str\n",
    "    weight: float\n",
    "\n",
    "student_1 = Student(159.9, \"Male\", 69.9)\n",
    "print(student_1.sex)\n",
    "\n",
    "student_2 = Student(\"Male\", 69.9,159.9)\n",
    "print(student_2)\n",
    "print(student_2.sex)\n"
   ]
  },
  {
   "cell_type": "code",
   "execution_count": 36,
   "metadata": {},
   "outputs": [
    {
     "ename": "TypeError",
     "evalue": "Student() takes no arguments",
     "output_type": "error",
     "traceback": [
      "\u001b[0;31m---------------------------------------------------------------------------\u001b[0m",
      "\u001b[0;31mTypeError\u001b[0m                                 Traceback (most recent call last)",
      "\u001b[0;32m/tmp/ipykernel_29/2445479730.py\u001b[0m in \u001b[0;36m<module>\u001b[0;34m\u001b[0m\n\u001b[1;32m      4\u001b[0m     \u001b[0mweight\u001b[0m\u001b[0;34m:\u001b[0m \u001b[0mfloat\u001b[0m\u001b[0;34m\u001b[0m\u001b[0;34m\u001b[0m\u001b[0m\n\u001b[1;32m      5\u001b[0m \u001b[0;34m\u001b[0m\u001b[0m\n\u001b[0;32m----> 6\u001b[0;31m \u001b[0mstudent_3\u001b[0m \u001b[0;34m=\u001b[0m \u001b[0mStudent\u001b[0m\u001b[0;34m(\u001b[0m\u001b[0;36m159.9\u001b[0m\u001b[0;34m,\u001b[0m \u001b[0;34m\"Male\"\u001b[0m\u001b[0;34m,\u001b[0m \u001b[0;36m69.9\u001b[0m\u001b[0;34m)\u001b[0m\u001b[0;34m\u001b[0m\u001b[0;34m\u001b[0m\u001b[0m\n\u001b[0m\u001b[1;32m      7\u001b[0m \u001b[0mprint\u001b[0m\u001b[0;34m(\u001b[0m\u001b[0mstudent_3\u001b[0m\u001b[0;34m.\u001b[0m\u001b[0msex\u001b[0m\u001b[0;34m)\u001b[0m\u001b[0;34m\u001b[0m\u001b[0;34m\u001b[0m\u001b[0m\n",
      "\u001b[0;31mTypeError\u001b[0m: Student() takes no arguments"
     ]
    }
   ],
   "source": [
    "class Student:\n",
    "    height: float\n",
    "    sex: str\n",
    "    weight: float\n",
    "\n",
    "student_3 = Student(159.9, \"Male\", 69.9)\n",
    "print(student_3.sex)"
   ]
  },
  {
   "cell_type": "code",
   "execution_count": null,
   "metadata": {},
   "outputs": [],
   "source": []
  }
 ],
 "metadata": {
  "kernelspec": {
   "display_name": "Python 3 (ipykernel)",
   "language": "python",
   "name": "python3"
  },
  "language_info": {
   "codemirror_mode": {
    "name": "ipython",
    "version": 3
   },
   "file_extension": ".py",
   "mimetype": "text/x-python",
   "name": "python",
   "nbconvert_exporter": "python",
   "pygments_lexer": "ipython3",
   "version": "3.9.7"
  }
 },
 "nbformat": 4,
 "nbformat_minor": 4
}
