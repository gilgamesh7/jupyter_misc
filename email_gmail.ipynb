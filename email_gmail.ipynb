{
 "cells": [
  {
   "cell_type": "code",
   "execution_count": 27,
   "id": "d5ae4a96",
   "metadata": {},
   "outputs": [
    {
     "name": "stderr",
     "output_type": "stream",
     "text": [
      "2021-12-06 08:16:52,179 INFO MainThread Mailbot Starting email bot\n"
     ]
    },
    {
     "name": "stdout",
     "output_type": "stream",
     "text": [
      "Enter Password : ········\n"
     ]
    },
    {
     "name": "stderr",
     "output_type": "stream",
     "text": [
      "2021-12-06 08:17:00,419 INFO MainThread Mailbot Mail sent\n"
     ]
    }
   ],
   "source": [
    "import smtplib\n",
    "import ssl\n",
    "\n",
    "import getpass\n",
    "\n",
    "import logging\n",
    "\n",
    "logger = logging.getLogger()\n",
    "logger.setLevel(logging.DEBUG)\n",
    "\n",
    "try:\n",
    "    # Set up logger\n",
    "    logging.basicConfig(format=\"%(asctime)s %(levelname)s %(threadName)s %(name)s %(message)s\")\n",
    "    logger = logging.getLogger(\"Mailbot\")\n",
    "    logger.setLevel(logging.INFO)\n",
    "    logger.info(\"Starting email bot\")\n",
    "                        \n",
    "    port = 465\n",
    "    smtp_server = \"smtp.gmail.com\"\n",
    "    sender_email = \"felidaesrule@gmail.com\"\n",
    "    receiver_email = \"felidaesrule@yahoo.com\"\n",
    "    password = getpass.getpass(\"Enter Password : \")\n",
    "    \n",
    "    context = ssl.create_default_context()\n",
    "    \n",
    "    with smtplib.SMTP_SSL(smtp_server, port, context=context) as server:\n",
    "        server.login(sender_email, password)\n",
    "        result = server.sendmail(sender_email, receiver_email, \"In God We Trust!\")\n",
    "        logger.info(\"Mail sent\")\n",
    "except Exception as err:\n",
    "    logger.error(err)"
   ]
  },
  {
   "cell_type": "code",
   "execution_count": null,
   "id": "d3670234",
   "metadata": {},
   "outputs": [],
   "source": []
  }
 ],
 "metadata": {
  "kernelspec": {
   "display_name": "Python 3 (ipykernel)",
   "language": "python",
   "name": "python3"
  },
  "language_info": {
   "codemirror_mode": {
    "name": "ipython",
    "version": 3
   },
   "file_extension": ".py",
   "mimetype": "text/x-python",
   "name": "python",
   "nbconvert_exporter": "python",
   "pygments_lexer": "ipython3",
   "version": "3.9.7"
  }
 },
 "nbformat": 4,
 "nbformat_minor": 5
}
