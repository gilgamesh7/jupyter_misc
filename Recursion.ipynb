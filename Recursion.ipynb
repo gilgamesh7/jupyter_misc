{
 "cells": [
  {
   "cell_type": "markdown",
   "metadata": {},
   "source": [
    "# RECURSION"
   ]
  },
  {
   "cell_type": "markdown",
   "metadata": {},
   "source": [
    "## Limitations\n",
    "<ul>\n",
    "    <li>\n",
    "Python’s mutable data structures don’t support structural sharing, so treating them like immutable data structures is going to negatively affect your space and GC (garbage collection) efficiency because you are going to end up unnecessarily copying a lot of mutable objects. \n",
    "    <li>\n",
    "Python doesn’t have support for tail-call elimination. As a result, you can cause a stack overflow if you end up using more stack frames than the default call stack depth\n",
    "    </ul>"
   ]
  },
  {
   "cell_type": "code",
   "execution_count": 31,
   "metadata": {},
   "outputs": [
    {
     "data": {
      "text/plain": [
       "3000"
      ]
     },
     "execution_count": 31,
     "metadata": {},
     "output_type": "execute_result"
    }
   ],
   "source": [
    "import sys\n",
    "sys.getrecursionlimit()"
   ]
  },
  {
   "cell_type": "markdown",
   "metadata": {},
   "source": [
    "### Iterative"
   ]
  },
  {
   "cell_type": "code",
   "execution_count": 4,
   "metadata": {},
   "outputs": [],
   "source": [
    "houses=[\"Eric's House\", \"Kelly's House\", \"Kyle's House\", \"Harry's House\"]\n",
    "\n",
    "def deliver_presents_iteratively():\n",
    "    for house in houses :\n",
    "        print(f\"Deliver presents to {house}\")\n",
    "        \n",
    "    return True\n",
    "    \n",
    "    "
   ]
  },
  {
   "cell_type": "code",
   "execution_count": 5,
   "metadata": {},
   "outputs": [
    {
     "name": "stdout",
     "output_type": "stream",
     "text": [
      "Deliver presents to Eric's House\n",
      "Deliver presents to Kelly's House\n",
      "Deliver presents to Kyle's House\n",
      "Deliver presents to Harry's House\n"
     ]
    },
    {
     "data": {
      "text/plain": [
       "True"
      ]
     },
     "execution_count": 5,
     "metadata": {},
     "output_type": "execute_result"
    }
   ],
   "source": [
    "deliver_presents_iteratively()"
   ]
  },
  {
   "cell_type": "markdown",
   "metadata": {},
   "source": [
    "### Recursive\n",
    "Appoint an elf and give all the work to him <br>\n",
    "Assign titles and responsibilities to the elves based on the number of houses for which they are responsible: <br>\n",
    "\\> 1 : He is a manager and can appoint two elves and divide his work among them\n",
    "<br>\n",
    "= 1 : He is a worker and has to deliver the presents to the house assigned to him"
   ]
  },
  {
   "cell_type": "code",
   "execution_count": 18,
   "metadata": {},
   "outputs": [
    {
     "name": "stdout",
     "output_type": "stream",
     "text": [
      "I am a manager - 5\n",
      "Deliver to first Half\n",
      "I am a manager - 2\n",
      "Deliver to first Half\n",
      "Deliver presents to Eric's house\n",
      "Deliver to second Half\n",
      "Deliver presents to Kenny's house\n",
      "Deliver to second Half\n",
      "I am a manager - 3\n",
      "Deliver to first Half\n",
      "Deliver presents to Kyle's house\n",
      "Deliver to second Half\n",
      "I am a manager - 2\n",
      "Deliver to first Half\n",
      "Deliver presents to Stan's house\n",
      "Deliver to second Half\n",
      "Deliver presents to Harry's House\n"
     ]
    }
   ],
   "source": [
    "houses = [\"Eric's house\", \"Kenny's house\", \"Kyle's house\", \"Stan's house\",\"Harry's House\"]\n",
    "\n",
    "# Each function call represents an Elf doing his duty\n",
    "def deliver_presents_recursively(in_houses):\n",
    "    # Worker elf - doing work\n",
    "    if len(in_houses)== 1:\n",
    "        house = in_houses[0]\n",
    "        print(f\"Deliver presents to {house}\")\n",
    "    # Manager elf - distributes work\n",
    "    else :\n",
    "        print(f\"I am a manager - {len(in_houses)}\")\n",
    "        # Modulo length to get midpoint\n",
    "        mid=len(in_houses)//2\n",
    "        first_half=in_houses[:mid]\n",
    "        second_half=in_houses[mid:]\n",
    "        \n",
    "        # Divide work\n",
    "        print(f\"Deliver to first Half\")\n",
    "        deliver_presents_recursively(first_half)\n",
    "        print(f\"Deliver to second Half\")\n",
    "        deliver_presents_recursively(second_half)\n",
    "\n",
    "deliver_presents_recursively(houses)"
   ]
  },
  {
   "cell_type": "markdown",
   "metadata": {},
   "source": [
    "### A recursive function is a function defined in terms of itself via self-referential expressions.\n",
    "\n",
    "This means that the function will continue to call itself and repeat its behavior until some condition is met to return a result. <br>\n",
    "All recursive functions share a common structure made up of two parts: <br>\n",
    "<ol>\n",
    "<li> base case \n",
    "<li> recursive case\n",
    "</ol>"
   ]
  },
  {
   "cell_type": "markdown",
   "metadata": {},
   "source": [
    "### Calculate n!"
   ]
  },
  {
   "cell_type": "code",
   "execution_count": 21,
   "metadata": {},
   "outputs": [
    {
     "name": "stdout",
     "output_type": "stream",
     "text": [
      "Reached base case : n=1\n",
      "In recursive case : n = 2 and factorial value : 2\n",
      "In recursive case : n = 3 and factorial value : 6\n",
      "In recursive case : n = 4 and factorial value : 24\n",
      "In recursive case : n = 5 and factorial value : 120\n"
     ]
    },
    {
     "data": {
      "text/plain": [
       "120"
      ]
     },
     "execution_count": 21,
     "metadata": {},
     "output_type": "execute_result"
    }
   ],
   "source": [
    "def factorial_recursive(n):\n",
    "    # Base case : 1! = 1\n",
    "    if n==1:\n",
    "        print(f\"Reached base case : n={n}\")\n",
    "        return 1\n",
    "    \n",
    "    # recursive case : n! = n * (n-1)!\n",
    "    else:\n",
    "        val = n * factorial_recursive(n-1)\n",
    "        print (f\"In recursive case : n = {n} and factorial value : {val}\")\n",
    "        return val\n",
    "#         return n * factorial_recursive(n-1)\n",
    "    \n",
    "    \n",
    "factorial_recursive(5)\n",
    "    "
   ]
  },
  {
   "cell_type": "markdown",
   "metadata": {},
   "source": [
    "### Maintaining State\n",
    "When dealing with recursive functions, keep in mind that each recursive call has its own execution context, so to maintain state during recursion you have to either:<br>\n",
    "<ol>\n",
    "<li> Thread the state through each recursive call so that the current state is part of the current call’s execution context\n",
    "<li> Keep the state in global scope\n",
    "    </ol>"
   ]
  },
  {
   "cell_type": "markdown",
   "metadata": {},
   "source": [
    "#### (1) Thread state through each recursive call"
   ]
  },
  {
   "cell_type": "code",
   "execution_count": 27,
   "metadata": {},
   "outputs": [
    {
     "name": "stdout",
     "output_type": "stream",
     "text": [
      "In Recursive case : curent : 2 , Accumulated : 0\n",
      "In Recursive case : curent : 3 , Accumulated : 1\n",
      "In Recursive case : curent : 4 , Accumulated : 3\n",
      "In Recursive case : curent : 5 , Accumulated : 6\n",
      "In Recursive case : curent : 6 , Accumulated : 10\n",
      "In Recursive case : curent : 7 , Accumulated : 15\n",
      "In Recursive case : curent : 8 , Accumulated : 21\n",
      "In Recursive case : curent : 9 , Accumulated : 28\n",
      "In Recursive case : curent : 10 , Accumulated : 36\n",
      "In Recursive case : curent : 11 , Accumulated : 45\n",
      "In Base case : curent : 11 , Accumulated : 55\n"
     ]
    },
    {
     "data": {
      "text/plain": [
       "55"
      ]
     },
     "execution_count": 27,
     "metadata": {},
     "output_type": "execute_result"
    }
   ],
   "source": [
    "def sum_recursive(current_number, accumulated_sum):\n",
    "    # Base case\n",
    "    if current_number == 11:\n",
    "        print(f\"In Base case : curent : {current_number} , Accumulated : {accumulated_sum}\")\n",
    "        return accumulated_sum\n",
    "    \n",
    "    # Recursive case\n",
    "    else:\n",
    "        print(f\"In Recursive case : curent : {current_number + 1} , Accumulated : {accumulated_sum}\")\n",
    "        \n",
    "        return sum_recursive(current_number + 1, accumulated_sum + current_number)\n",
    "    \n",
    "sum_recursive(1,0)\n"
   ]
  },
  {
   "cell_type": "markdown",
   "metadata": {},
   "source": [
    "#### 2. Global Scope"
   ]
  },
  {
   "cell_type": "code",
   "execution_count": 30,
   "metadata": {},
   "outputs": [
    {
     "data": {
      "text/plain": [
       "55"
      ]
     },
     "execution_count": 30,
     "metadata": {},
     "output_type": "execute_result"
    }
   ],
   "source": [
    "# Global mutable state\n",
    "current_number = 1\n",
    "accumulated_sum = 0\n",
    "\n",
    "def sum_recursive():\n",
    "    global current_number\n",
    "    global accumulated_sum\n",
    "    \n",
    "    # Base case\n",
    "    if current_number == 11:\n",
    "        return accumulated_sum\n",
    "    \n",
    "    # Recursive case\n",
    "    else:\n",
    "        accumulated_sum += current_number\n",
    "        current_number += 1\n",
    "        \n",
    "        return sum_recursive()\n",
    "    \n",
    "sum_recursive()"
   ]
  },
  {
   "cell_type": "markdown",
   "metadata": {},
   "source": [
    "### Recursive data structures - List"
   ]
  },
  {
   "cell_type": "code",
   "execution_count": 36,
   "metadata": {},
   "outputs": [
    {
     "name": "stdout",
     "output_type": "stream",
     "text": [
      "[1, 2]\n",
      "[4, 3, 2, 1]\n"
     ]
    }
   ],
   "source": [
    "def attach_head(element, input_list):\n",
    "    input_list.append(element)\n",
    "    return input_list\n",
    "\n",
    "print(attach_head(2,[1]))\n",
    "print(attach_head(1, attach_head(2, attach_head(3, attach_head(4,[])))))"
   ]
  },
  {
   "cell_type": "markdown",
   "metadata": {},
   "source": [
    "#### Recursion sum using List"
   ]
  },
  {
   "cell_type": "code",
   "execution_count": 39,
   "metadata": {},
   "outputs": [
    {
     "data": {
      "text/plain": [
       "55"
      ]
     },
     "execution_count": 39,
     "metadata": {},
     "output_type": "execute_result"
    }
   ],
   "source": [
    "def list_sum_recursive(input_list, accumulated_sum):\n",
    "    # base case\n",
    "    if len(input_list) == 0:\n",
    "        return accumulated_sum\n",
    "    \n",
    "    # recursive case\n",
    "    else:\n",
    "        number_to_be_added = input_list[0]\n",
    "        input_list.remove(number_to_be_added)\n",
    "        return list_sum_recursive(input_list,accumulated_sum + number_to_be_added)\n",
    "    \n",
    "list_sum_recursive([1,2,3,4,5,6,7,8,9,10],0)\n",
    "        "
   ]
  },
  {
   "cell_type": "markdown",
   "metadata": {},
   "source": [
    "#### Fibonacci numbers"
   ]
  },
  {
   "cell_type": "markdown",
   "metadata": {},
   "source": [
    "##### 1. No LRU cache"
   ]
  },
  {
   "cell_type": "code",
   "execution_count": 41,
   "metadata": {},
   "outputs": [
    {
     "name": "stdout",
     "output_type": "stream",
     "text": [
      "Calculating F(5)\n",
      "Calculating F(4)\n",
      "Calculating F(3)\n",
      "Calculating F(2)\n",
      "Calculating F(1)\n",
      "Calculating F(0)\n",
      "Calculating F(1)\n",
      "Calculating F(2)\n",
      "Calculating F(1)\n",
      "Calculating F(0)\n",
      "Calculating F(3)\n",
      "Calculating F(2)\n",
      "Calculating F(1)\n",
      "Calculating F(0)\n",
      "Calculating F(1)\n"
     ]
    },
    {
     "data": {
      "text/plain": [
       "5"
      ]
     },
     "execution_count": 41,
     "metadata": {},
     "output_type": "execute_result"
    }
   ],
   "source": [
    "def fibonacci_recursive(n):\n",
    "    print(f\"Calculating F({n})\")\n",
    "    # base case\n",
    "    if n == 0:\n",
    "        return 0\n",
    "    elif n == 1:\n",
    "        return 1\n",
    "    \n",
    "    # Recursive case\n",
    "    else:\n",
    "        return fibonacci_recursive(n-1) + fibonacci_recursive(n-2)\n",
    "\n",
    "fibonacci_recursive(5)"
   ]
  },
  {
   "cell_type": "markdown",
   "metadata": {},
   "source": [
    "##### 2. With LRU cache"
   ]
  },
  {
   "cell_type": "code",
   "execution_count": 43,
   "metadata": {},
   "outputs": [
    {
     "name": "stdout",
     "output_type": "stream",
     "text": [
      "Calculating F(5)\n",
      "Calculating F(4)\n",
      "Calculating F(3)\n",
      "Calculating F(2)\n",
      "Calculating F(1)\n",
      "Calculating F(0)\n"
     ]
    },
    {
     "data": {
      "text/plain": [
       "5"
      ]
     },
     "execution_count": 43,
     "metadata": {},
     "output_type": "execute_result"
    }
   ],
   "source": [
    "from functools import lru_cache\n",
    "\n",
    "@lru_cache(maxsize=None)\n",
    "def fibonacci_recursive(n):\n",
    "    print(f\"Calculating F({n})\")\n",
    "    # base case\n",
    "    if n == 0:\n",
    "        return 0\n",
    "    elif n == 1:\n",
    "        return 1\n",
    "    \n",
    "    # Recursive case\n",
    "    else:\n",
    "        return fibonacci_recursive(n-1) + fibonacci_recursive(n-2)\n",
    "\n",
    "fibonacci_recursive(5)"
   ]
  },
  {
   "cell_type": "markdown",
   "metadata": {},
   "source": [
    "### Flatten list using recursion & generators"
   ]
  },
  {
   "cell_type": "code",
   "execution_count": 3,
   "metadata": {},
   "outputs": [
    {
     "name": "stdout",
     "output_type": "stream",
     "text": [
      "considering item 1\n",
      "Base case for item 1\n",
      "considering item [2, 3]\n",
      "Recursive case for item [2, 3]\n",
      "considering item 2\n",
      "Base case for item 2\n",
      "considering item 3\n",
      "Base case for item 3\n",
      "considering item [4, [5, [6, 7, 8], 9], 10]\n",
      "Recursive case for item [4, [5, [6, 7, 8], 9], 10]\n",
      "considering item 4\n",
      "Base case for item 4\n",
      "considering item [5, [6, 7, 8], 9]\n",
      "Recursive case for item [5, [6, 7, 8], 9]\n",
      "considering item 5\n",
      "Base case for item 5\n",
      "considering item [6, 7, 8]\n",
      "Recursive case for item [6, 7, 8]\n",
      "considering item 6\n",
      "Base case for item 6\n",
      "considering item 7\n",
      "Base case for item 7\n",
      "considering item 8\n",
      "Base case for item 8\n",
      "considering item 9\n",
      "Base case for item 9\n",
      "considering item 10\n",
      "Base case for item 10\n",
      "[1, 2, 3, 4, 5, 6, 7, 8, 9, 10]\n"
     ]
    }
   ],
   "source": [
    "items = [1, [2,3],[4,[5,[6,7,8],9],10]]\n",
    "\n",
    "def flatten(items):\n",
    "    for item in items:\n",
    "        print(f\"considering item {item}\")\n",
    "        if not isinstance(item,(list,tuple)):\n",
    "            print(f\"Base case for item {item}\")\n",
    "            yield item\n",
    "        else:\n",
    "            print(f\"Recursive case for item {item}\")\n",
    "            yield from flatten(item)\n",
    "\n",
    "    return True\n",
    "\n",
    "print(list(flatten(items)))"
   ]
  },
  {
   "cell_type": "code",
   "execution_count": null,
   "metadata": {},
   "outputs": [],
   "source": []
  }
 ],
 "metadata": {
  "kernelspec": {
   "display_name": "Python 3",
   "language": "python",
   "name": "python3"
  },
  "language_info": {
   "codemirror_mode": {
    "name": "ipython",
    "version": 3
   },
   "file_extension": ".py",
   "mimetype": "text/x-python",
   "name": "python",
   "nbconvert_exporter": "python",
   "pygments_lexer": "ipython3",
   "version": "3.7.3"
  }
 },
 "nbformat": 4,
 "nbformat_minor": 4
}
