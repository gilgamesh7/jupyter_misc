{
 "cells": [
  {
   "cell_type": "code",
   "execution_count": 3,
   "metadata": {},
   "outputs": [
    {
     "name": "stdout",
     "output_type": "stream",
     "text": [
      "1\n"
     ]
    }
   ],
   "source": [
    "from enum import Enum\n",
    "\n",
    "\n",
    "class Season(Enum):\n",
    "    SPRING = 1\n",
    "    SUMMER = 2\n",
    "    AUTUMN = 3\n",
    "    WINTER = 4\n",
    "\n",
    "print(f'{Season.SPRING.value}')"
   ]
  },
  {
   "cell_type": "markdown",
   "metadata": {},
   "source": [
    "### reduce and accumulate"
   ]
  },
  {
   "cell_type": "code",
   "execution_count": 2,
   "metadata": {},
   "outputs": [
    {
     "name": "stdout",
     "output_type": "stream",
     "text": [
      "10\n",
      "24\n"
     ]
    }
   ],
   "source": [
    "from functools import reduce\n",
    "from operator import add, mul\n",
    "\n",
    "print(reduce(add,[1,2,3,4]))\n",
    "\n",
    "print(reduce(mul,[1,2,3,4]))"
   ]
  },
  {
   "cell_type": "code",
   "execution_count": 5,
   "metadata": {},
   "outputs": [
    {
     "name": "stdout",
     "output_type": "stream",
     "text": [
      "[1, 3, 6, 10]\n",
      "[1, 2, 6, 24]\n"
     ]
    }
   ],
   "source": [
    "from itertools import accumulate\n",
    "from operator import add, mul\n",
    "\n",
    "print(list(accumulate([1,2,3,4], add)))\n",
    "\n",
    "print(list(accumulate([1,2,3,4], mul)))"
   ]
  },
  {
   "cell_type": "code",
   "execution_count": 10,
   "metadata": {},
   "outputs": [
    {
     "name": "stdout",
     "output_type": "stream",
     "text": [
      "1.15\n",
      "30.6\n",
      "11.862499999999999\n"
     ]
    }
   ],
   "source": [
    "# Use dict instead of if - else\n",
    "\n",
    "from typing import List\n",
    "\n",
    "def get_min_price(prices_list: List[float])-> float:\n",
    "    return min(prices_list)\n",
    "\n",
    "def get_max_price(prices_list: List[float])-> float:\n",
    "    return max(prices_list)\n",
    "\n",
    "def get_avg_price(prices_list: List[float])-> float:\n",
    "    return sum(prices_list) / len(prices_list)\n",
    "\n",
    "\n",
    "WHAT_PRICE={\n",
    "    \"min\" : get_min_price,\n",
    "    \"max\" : get_max_price,\n",
    "    \"avg\" : get_avg_price\n",
    "}\n",
    "\n",
    "def nuqneh(strategy: str, price_list: List[float])-> None:\n",
    "    return WHAT_PRICE[strategy](price_list)\n",
    "\n",
    "prices = [10.20, 5.50, 30.60, 1.15]\n",
    "print(nuqneh(\"min\", prices))\n",
    "print(nuqneh(\"max\", prices))\n",
    "print(nuqneh(\"avg\", prices))"
   ]
  },
  {
   "cell_type": "markdown",
   "metadata": {},
   "source": []
  },
  {
   "cell_type": "code",
   "execution_count": 24,
   "metadata": {},
   "outputs": [
    {
     "data": {
      "text/plain": [
       "True"
      ]
     },
     "execution_count": 24,
     "metadata": {},
     "output_type": "execute_result"
    }
   ],
   "source": [
    "import webbrowser\n",
    "import tempfile\n",
    "\n",
    "html_page=\"\"\"\n",
    "<html>\n",
    "    <head>\n",
    "        <title> testdriven.io</title>\n",
    "    </head>\n",
    "    <body>\n",
    "        <h1> Opening using browser </h1>\n",
    "    </body>\n",
    "</html>\n",
    "\"\"\"\n",
    "\n",
    "with tempfile.NamedTemporaryFile('w', delete=False, suffix='.html') as temp_file:\n",
    "    url = 'file://' + temp_file.name\n",
    "    temp_file.write(html_page)\n",
    "\n",
    "webbrowser.open(url)"
   ]
  },
  {
   "cell_type": "markdown",
   "metadata": {},
   "source": [
    "### Scope , Mutability & Duck typing Oddities\n",
    "\n",
    "[Talk - Trey Hunner: Python Oddities Explained](https://www.youtube.com/watch?v=nWC73Llo170&list=PL2Uw4_HvXqvYeXy8ab7iRHjA-9HiYhRQl&index=34)"
   ]
  },
  {
   "cell_type": "code",
   "execution_count": 2,
   "metadata": {},
   "outputs": [
    {
     "name": "stdout",
     "output_type": "stream",
     "text": [
      "[1, 2, 3, 1, 2, 3]\n"
     ]
    }
   ],
   "source": [
    "# Scope in functions and lists\n",
    "\n",
    "# Normal\n",
    "numbers = [1,2,3]\n",
    "for number in numbers:\n",
    "    numbers = numbers + [number]\n",
    "print(numbers)"
   ]
  },
  {
   "cell_type": "code",
   "execution_count": 3,
   "metadata": {},
   "outputs": [
    {
     "ename": "UnboundLocalError",
     "evalue": "local variable 'numbers' referenced before assignment",
     "output_type": "error",
     "traceback": [
      "\u001b[0;31m---------------------------------------------------------------------------\u001b[0m",
      "\u001b[0;31mUnboundLocalError\u001b[0m                         Traceback (most recent call last)",
      "\u001b[0;32m/var/folders/nc/9qhrjynn6vjfcdgr9x5llf180000gn/T/ipykernel_3470/1751825711.py\u001b[0m in \u001b[0;36m<module>\u001b[0;34m\u001b[0m\n\u001b[1;32m      5\u001b[0m         \u001b[0mnumbers\u001b[0m \u001b[0;34m=\u001b[0m \u001b[0mnumbers\u001b[0m \u001b[0;34m+\u001b[0m \u001b[0;34m[\u001b[0m\u001b[0mnumber\u001b[0m\u001b[0;34m]\u001b[0m\u001b[0;34m\u001b[0m\u001b[0;34m\u001b[0m\u001b[0m\n\u001b[1;32m      6\u001b[0m \u001b[0;34m\u001b[0m\u001b[0m\n\u001b[0;32m----> 7\u001b[0;31m \u001b[0madd_numbers\u001b[0m\u001b[0;34m(\u001b[0m\u001b[0;34m[\u001b[0m\u001b[0;36m3\u001b[0m\u001b[0;34m,\u001b[0m\u001b[0;36m4\u001b[0m\u001b[0;34m,\u001b[0m\u001b[0;36m5\u001b[0m\u001b[0;34m]\u001b[0m\u001b[0;34m)\u001b[0m\u001b[0;34m\u001b[0m\u001b[0;34m\u001b[0m\u001b[0m\n\u001b[0m",
      "\u001b[0;32m/var/folders/nc/9qhrjynn6vjfcdgr9x5llf180000gn/T/ipykernel_3470/1751825711.py\u001b[0m in \u001b[0;36madd_numbers\u001b[0;34m(nums)\u001b[0m\n\u001b[1;32m      3\u001b[0m \u001b[0;32mdef\u001b[0m \u001b[0madd_numbers\u001b[0m\u001b[0;34m(\u001b[0m\u001b[0mnums\u001b[0m\u001b[0;34m)\u001b[0m\u001b[0;34m:\u001b[0m\u001b[0;34m\u001b[0m\u001b[0;34m\u001b[0m\u001b[0m\n\u001b[1;32m      4\u001b[0m     \u001b[0;32mfor\u001b[0m \u001b[0mnumber\u001b[0m \u001b[0;32min\u001b[0m \u001b[0mnums\u001b[0m\u001b[0;34m:\u001b[0m\u001b[0;34m\u001b[0m\u001b[0;34m\u001b[0m\u001b[0m\n\u001b[0;32m----> 5\u001b[0;31m         \u001b[0mnumbers\u001b[0m \u001b[0;34m=\u001b[0m \u001b[0mnumbers\u001b[0m \u001b[0;34m+\u001b[0m \u001b[0;34m[\u001b[0m\u001b[0mnumber\u001b[0m\u001b[0;34m]\u001b[0m\u001b[0;34m\u001b[0m\u001b[0;34m\u001b[0m\u001b[0m\n\u001b[0m\u001b[1;32m      6\u001b[0m \u001b[0;34m\u001b[0m\u001b[0m\n\u001b[1;32m      7\u001b[0m \u001b[0madd_numbers\u001b[0m\u001b[0;34m(\u001b[0m\u001b[0;34m[\u001b[0m\u001b[0;36m3\u001b[0m\u001b[0;34m,\u001b[0m\u001b[0;36m4\u001b[0m\u001b[0;34m,\u001b[0m\u001b[0;36m5\u001b[0m\u001b[0;34m]\u001b[0m\u001b[0;34m)\u001b[0m\u001b[0;34m\u001b[0m\u001b[0;34m\u001b[0m\u001b[0m\n",
      "\u001b[0;31mUnboundLocalError\u001b[0m: local variable 'numbers' referenced before assignment"
     ]
    }
   ],
   "source": [
    "# In a function\n",
    "numbers = [1,2,3]\n",
    "def add_numbers(nums):\n",
    "    for number in nums:\n",
    "        numbers = numbers + [number]\n",
    "\n",
    "add_numbers([3,4,5])"
   ]
  },
  {
   "cell_type": "code",
   "execution_count": 5,
   "metadata": {},
   "outputs": [
    {
     "name": "stdout",
     "output_type": "stream",
     "text": [
      "[1, 2, 3, 3, 4, 5]\n"
     ]
    }
   ],
   "source": [
    "# Use global\n",
    "numbers = [1,2,3]\n",
    "def add_numbers(nums):\n",
    "    global numbers \n",
    "    for number in nums:\n",
    "        numbers = numbers + [number]\n",
    "\n",
    "    print(numbers)\n",
    "\n",
    "add_numbers([3,4,5])"
   ]
  },
  {
   "cell_type": "code",
   "execution_count": 6,
   "metadata": {},
   "outputs": [
    {
     "name": "stdout",
     "output_type": "stream",
     "text": [
      "[1, 2, 3, 3, 4, 5]\n"
     ]
    }
   ],
   "source": [
    "# Assignment statements change the value pointed to by vraiable\n",
    "# Mutation using functions change the object itself\n",
    "numbers = [1,2,3]\n",
    "def add_numbers(nums):\n",
    "    numbers.extend(nums)\n",
    "\n",
    "    print(numbers)\n",
    "\n",
    "add_numbers([3,4,5])"
   ]
  },
  {
   "cell_type": "code",
   "execution_count": 7,
   "metadata": {},
   "outputs": [
    {
     "name": "stdout",
     "output_type": "stream",
     "text": [
      "[1, 2, 3]\n"
     ]
    }
   ],
   "source": [
    "# Reading is fine\n",
    "numbers = [1,2,3]\n",
    "def add_numbers(nums):\n",
    "    print(numbers)\n",
    "\n",
    "add_numbers([3,4,5])"
   ]
  },
  {
   "cell_type": "code",
   "execution_count": 20,
   "metadata": {},
   "outputs": [
    {
     "name": "stdout",
     "output_type": "stream",
     "text": [
      "(1, 2)\n",
      "(1, 2)\n",
      "(1, 2, 3, 4)\n",
      "(1, 2)\n"
     ]
    }
   ],
   "source": [
    "# assignmnet operator on tuples\n",
    "a = b = (1,2)\n",
    "\n",
    "print(a)\n",
    "print(b)\n",
    "\n",
    "a += (3,4)\n",
    "print(a)\n",
    "print(b)"
   ]
  },
  {
   "cell_type": "code",
   "execution_count": 21,
   "metadata": {},
   "outputs": [
    {
     "name": "stdout",
     "output_type": "stream",
     "text": [
      "[1, 2]\n",
      "[1, 2]\n",
      "[1, 2, 3, 4]\n",
      "[1, 2, 3, 4]\n"
     ]
    }
   ],
   "source": [
    "# assignmnet operator on lists\n",
    "a = b = [1,2]\n",
    "\n",
    "print(a)\n",
    "print(b)\n",
    "\n",
    "a += [3,4]\n",
    "print(a)\n",
    "print(b)"
   ]
  },
  {
   "cell_type": "code",
   "execution_count": 11,
   "metadata": {},
   "outputs": [
    {
     "name": "stdout",
     "output_type": "stream",
     "text": [
      "[1, 2, 3, 4]\n",
      "[1, 2, 3, 4]\n",
      "True\n",
      "Numbers : 4475143232 , Numbers2 : 4475143232\n"
     ]
    }
   ],
   "source": [
    "# 2 variables can refer to the same object\n",
    "numbers = [1,2,3]\n",
    "numbers2 = numbers\n",
    "numbers2.append(4)\n",
    "print(numbers2)\n",
    "print(numbers)\n",
    "print(numbers is numbers2)\n",
    "print(f\"Numbers : {id(numbers)} , Numbers2 : {id(numbers2)}\")"
   ]
  },
  {
   "cell_type": "code",
   "execution_count": 13,
   "metadata": {},
   "outputs": [
    {
     "name": "stdout",
     "output_type": "stream",
     "text": [
      "([1], [2])\n",
      "([1, 2], [2])\n",
      "([1, 2, 3], [2])\n"
     ]
    }
   ],
   "source": [
    "# Mutable tuples ???\n",
    "# No - Lists & Tuples contain pointers to objects , not objects\n",
    "\n",
    "x=([1],[2])\n",
    "print(x)\n",
    "\n",
    "x[0].append(2)\n",
    "print(x)\n",
    "\n",
    "y = x[0]\n",
    "y.append(3)\n",
    "print(x)"
   ]
  },
  {
   "cell_type": "code",
   "execution_count": 18,
   "metadata": {},
   "outputs": [
    {
     "name": "stdout",
     "output_type": "stream",
     "text": [
      "['mallard', 'eider', 'pekin']\n"
     ]
    },
    {
     "ename": "TypeError",
     "evalue": "can only concatenate str (not \"tuple\") to str",
     "output_type": "error",
     "traceback": [
      "\u001b[0;31m---------------------------------------------------------------------------\u001b[0m",
      "\u001b[0;31mTypeError\u001b[0m                                 Traceback (most recent call last)",
      "\u001b[0;32m/var/folders/nc/9qhrjynn6vjfcdgr9x5llf180000gn/T/ipykernel_3470/557306303.py\u001b[0m in \u001b[0;36m<module>\u001b[0;34m\u001b[0m\n\u001b[1;32m      5\u001b[0m \u001b[0;34m\u001b[0m\u001b[0m\n\u001b[1;32m      6\u001b[0m \u001b[0mduck_tuple\u001b[0m \u001b[0;34m=\u001b[0m \u001b[0;34m(\u001b[0m\u001b[0;34m'mallard'\u001b[0m\u001b[0;34m)\u001b[0m\u001b[0;34m\u001b[0m\u001b[0;34m\u001b[0m\u001b[0m\n\u001b[0;32m----> 7\u001b[0;31m \u001b[0mduck_tuple\u001b[0m \u001b[0;34m+=\u001b[0m \u001b[0;34m(\u001b[0m\u001b[0;34m'eider'\u001b[0m\u001b[0;34m,\u001b[0m \u001b[0;34m'pekin'\u001b[0m\u001b[0;34m)\u001b[0m\u001b[0;34m\u001b[0m\u001b[0;34m\u001b[0m\u001b[0m\n\u001b[0m\u001b[1;32m      8\u001b[0m \u001b[0mprint\u001b[0m\u001b[0;34m(\u001b[0m\u001b[0mduck_tuple\u001b[0m\u001b[0;34m)\u001b[0m\u001b[0;34m\u001b[0m\u001b[0;34m\u001b[0m\u001b[0m\n\u001b[1;32m      9\u001b[0m \u001b[0;34m\u001b[0m\u001b[0m\n",
      "\u001b[0;31mTypeError\u001b[0m: can only concatenate str (not \"tuple\") to str"
     ]
    }
   ],
   "source": [
    "# Assigning lists <-> tuples\n",
    "duck_list = ['mallard']\n",
    "duck_list += ('eider', 'pekin')\n",
    "print(duck_list)\n",
    "\n",
    "duck_tuple = ('mallard')\n",
    "duck_tuple += ('eider', 'pekin')\n",
    "print(duck_tuple)\n",
    "\n",
    "\n",
    "duck_tuple = ('mallard')\n",
    "duck_tuple += ['eider', 'pekin']\n",
    "print(duck_tuple)"
   ]
  },
  {
   "cell_type": "code",
   "execution_count": 19,
   "metadata": {},
   "outputs": [
    {
     "data": {
      "text/plain": [
       "{'a': 'b', 'c': 'd'}"
      ]
     },
     "execution_count": 19,
     "metadata": {},
     "output_type": "execute_result"
    }
   ],
   "source": [
    "# Duck Typing\n",
    "# Accepts any iterable as long as it fits the shape & style\n",
    "dict(('ab','cd'))"
   ]
  },
  {
   "cell_type": "markdown",
   "metadata": {},
   "source": [
    "# Referential Transparency"
   ]
  },
  {
   "cell_type": "code",
   "execution_count": 2,
   "metadata": {},
   "outputs": [
    {
     "data": {
      "text/plain": [
       "10"
      ]
     },
     "execution_count": 2,
     "metadata": {},
     "output_type": "execute_result"
    }
   ],
   "source": [
    "# No referntia transparency\n",
    "# substituting 0for sum will only return the last number\n",
    "\n",
    "from typing import List\n",
    "def add_numbers_1(num_list: List[int]) -> int:\n",
    "    sum = 0\n",
    "    for i in num_list :\n",
    "        sum = sum + i\n",
    "\n",
    "    return sum\n",
    "\n",
    "add_numbers_1([1,2,3,4])\n",
    "\n",
    "    "
   ]
  },
  {
   "cell_type": "code",
   "execution_count": 4,
   "metadata": {},
   "outputs": [
    {
     "data": {
      "text/plain": [
       "10"
      ]
     },
     "execution_count": 4,
     "metadata": {},
     "output_type": "execute_result"
    }
   ],
   "source": [
    "# Referential Transparency\n",
    "# using recursion\n",
    "\n",
    "def add_numbers_2(num_list:List[int])-> int:\n",
    "    return num_list[0] if len(num_list) == 1 else num_list[0] + add_numbers_2(num_list[1::])\n",
    "\n",
    "add_numbers_2([1,2,3,4])\n",
    "\n"
   ]
  },
  {
   "cell_type": "code",
   "execution_count": 5,
   "metadata": {},
   "outputs": [
    {
     "data": {
      "text/plain": [
       "10"
      ]
     },
     "execution_count": 5,
     "metadata": {},
     "output_type": "execute_result"
    }
   ],
   "source": [
    "# Referential Transparency\n",
    "# using higher order function\n",
    "\n",
    "from functools import reduce\n",
    "\n",
    "def add_numbers_3(num_list:List[int])-> int:\n",
    "    return reduce(lambda a,b:a+b,num_list)\n",
    "\n",
    "add_numbers_2([1,2,3,4])"
   ]
  },
  {
   "cell_type": "code",
   "execution_count": 1,
   "metadata": {},
   "outputs": [
    {
     "ename": "NameError",
     "evalue": "name '__file__' is not defined",
     "output_type": "error",
     "traceback": [
      "\u001b[0;31m---------------------------------------------------------------------------\u001b[0m",
      "\u001b[0;31mNameError\u001b[0m                                 Traceback (most recent call last)",
      "\u001b[0;32m/var/folders/nc/9qhrjynn6vjfcdgr9x5llf180000gn/T/ipykernel_90494/388179377.py\u001b[0m in \u001b[0;36m<module>\u001b[0;34m\u001b[0m\n\u001b[1;32m      2\u001b[0m \u001b[0;34m\u001b[0m\u001b[0m\n\u001b[1;32m      3\u001b[0m \u001b[0;31m# Build paths inside the project like this: BASE_DIR / 'subdir'.\u001b[0m\u001b[0;34m\u001b[0m\u001b[0;34m\u001b[0m\u001b[0m\n\u001b[0;32m----> 4\u001b[0;31m \u001b[0mBASE_DIR\u001b[0m \u001b[0;34m=\u001b[0m \u001b[0mPath\u001b[0m\u001b[0;34m(\u001b[0m\u001b[0m__file__\u001b[0m\u001b[0;34m)\u001b[0m\u001b[0;34m.\u001b[0m\u001b[0mresolve\u001b[0m\u001b[0;34m(\u001b[0m\u001b[0;34m)\u001b[0m\u001b[0;34m.\u001b[0m\u001b[0mparent\u001b[0m\u001b[0;34m.\u001b[0m\u001b[0mparent\u001b[0m\u001b[0;34m\u001b[0m\u001b[0;34m\u001b[0m\u001b[0m\n\u001b[0m\u001b[1;32m      5\u001b[0m \u001b[0;34m\u001b[0m\u001b[0m\n\u001b[1;32m      6\u001b[0m \u001b[0mprint\u001b[0m\u001b[0;34m(\u001b[0m\u001b[0mBASE_DIR\u001b[0m\u001b[0;34m)\u001b[0m\u001b[0;34m\u001b[0m\u001b[0;34m\u001b[0m\u001b[0m\n",
      "\u001b[0;31mNameError\u001b[0m: name '__file__' is not defined"
     ]
    }
   ],
   "source": [
    "from pathlib import Path\n",
    "\n",
    "print(__file__)\n",
    "# Build paths inside the project like this: BASE_DIR / 'subdir'.\n",
    "BASE_DIR = Path(__file__).resolve().parent.parent\n",
    "\n",
    "print(BASE_DIR)"
   ]
  },
  {
   "cell_type": "code",
   "execution_count": 1,
   "metadata": {},
   "outputs": [
    {
     "name": "stdout",
     "output_type": "stream",
     "text": [
      "{'title': 'MV Leif Ericson', 'extract': 'The MV Leif Ericson is a commercial passenger/vehicle ferry in service with the Canadian operator Marine Atlantic. She is currently the oldest vessel in the Marine Atlantic fleet. She was built along with two sister ships by Fosen Mekaniske Verksteder, Norway in the early 1990s. These two are Oslofjord and Patria Seaways.', 'url': 'https://en.wikipedia.org/wiki/MV_Leif_Ericson'}\n"
     ]
    }
   ],
   "source": [
    "# get wikipedia article using request\n",
    "import json\n",
    "from urllib import request\n",
    "\n",
    "try:\n",
    "    data = json.load(request.urlopen('https://en.wikipedia.org/api/rest_v1/page/random/summary'))\n",
    "\n",
    "    print({'title': data['title'],\n",
    "            'extract': data['extract'],\n",
    "            'url': data['content_urls']['desktop']['page']}) \n",
    "\n",
    "\n",
    "except Exception as error:\n",
    "    raise error"
   ]
  },
  {
   "cell_type": "markdown",
   "metadata": {},
   "source": [
    "# Type hints\n",
    "- [Arjan Codes Video](https://www.youtube.com/watch?v=dgBCEB2jVU0) \n",
    "- [Luhn Algorithm](https://en.wikipedia.org/wiki/Luhn_algorithm)\n"
   ]
  },
  {
   "cell_type": "code",
   "execution_count": 15,
   "metadata": {},
   "outputs": [
    {
     "name": "stdout",
     "output_type": "stream",
     "text": [
      "odd\n",
      "even\n"
     ]
    }
   ],
   "source": [
    "# Complex code for odd or even \n",
    "# https://t.co/KSva0phc5z\n",
    "def even_or_odd(num: int)-> str:\n",
    "    return \"eovdedn\"[num % 2::2]\n",
    "\n",
    "print(even_or_odd(111))\n",
    "print(even_or_odd(120))"
   ]
  },
  {
   "cell_type": "code",
   "execution_count": 3,
   "metadata": {},
   "outputs": [],
   "source": [
    "# NO type hints\n",
    "\n",
    "def luhn_checksum(number): # number is a string, not int! \n",
    "    def digits_of(nr): # nr is also string and it return a list of ints\n",
    "        return [int(d) for d in nr]\n",
    "\n",
    "    digits = digits_of(number)\n",
    "    odd_digits = digits[-1::-2]\n",
    "    even_digits = digits[-2::-2]\n",
    "\n",
    "    checksum = 0\n",
    "    checksum += sum(odd_digits)\n",
    "\n",
    "    for digit in even_digits:\n",
    "        checksum += sum(digits_of(str(digit * 2)))\n",
    "\n",
    "    return checksum % 10 == 0     # Return type is bool\n"
   ]
  },
  {
   "cell_type": "code",
   "execution_count": 12,
   "metadata": {},
   "outputs": [
    {
     "name": "stdout",
     "output_type": "stream",
     "text": [
      "Is 123456789 a valid crad number ? False\n",
      "Is 4137931454745344 a valid crad number ? True\n",
      "Is 355869115177031 a valid IMEI ? True\n",
      "Is 455869115177031 a valid IMEI ? False\n"
     ]
    }
   ],
   "source": [
    "from faker import Faker\n",
    "\n",
    "fake = Faker()\n",
    "\n",
    "fake_cc = fake.credit_card_number()\n",
    "fake_imei = \"355869115177031\"\n",
    "fake_imei_wrong = \"455869115177031\"\n",
    "\n",
    "print(f\"Is 123456789 a valid crad number ? {luhn_checksum('123456789')}\")\n",
    "print(f\"Is {fake_cc} a valid crad number ? {luhn_checksum(fake_cc)}\")\n",
    "print(f\"Is {fake_imei} a valid IMEI ? {luhn_checksum(fake_imei)}\")\n",
    "print(f\"Is {fake_imei_wrong} a valid IMEI ? {luhn_checksum(fake_imei_wrong)}\")\n"
   ]
  },
  {
   "cell_type": "code",
   "execution_count": null,
   "metadata": {},
   "outputs": [],
   "source": [
    "# With Type Hints\n",
    "def luhn_checksum(number: str)-> bool: \n",
    "    def digits_of(nr: str)-> list[int]:\n",
    "        return [int(d) for d in nr]\n",
    "\n",
    "    digits = digits_of(number)\n",
    "    odd_digits = digits[-1::-2]\n",
    "    even_digits = digits[-2::-2]\n",
    "\n",
    "    checksum = 0\n",
    "    checksum += sum(odd_digits)\n",
    "\n",
    "    for digit in even_digits:\n",
    "        checksum += sum(digits_of(str(digit * 2)))\n",
    "\n",
    "    return checksum % 10 == 0"
   ]
  },
  {
   "cell_type": "markdown",
   "metadata": {},
   "source": [
    "### Python venv Notes\n",
    "\n",
    "[Real Python Course](https://realpython.com/python-virtual-environments-a-primer/?__s=hbgzohut8js4gstozbvu)"
   ]
  },
  {
   "cell_type": "markdown",
   "metadata": {},
   "source": [
    "#### To avoid \"WARNING: You are using pip version 21.2.4; however, version 22.0.4 is available.\"\n",
    "python3 -m venv venv --upgrade-deps"
   ]
  },
  {
   "cell_type": "code",
   "execution_count": 8,
   "metadata": {},
   "outputs": [
    {
     "name": "stdout",
     "output_type": "stream",
     "text": [
      "Purelib Path : /Users/vrbabu/Documents/code/jupyter_misc/venv/lib/python3.10/site-packages\n",
      "Platlib Path : /Users/vrbabu/Documents/code/jupyter_misc/venv/lib/python3.10/site-packages\n",
      "Executable : /Users/vrbabu/Documents/code/jupyter_misc/venv/bin/python\n",
      "['/Users/vrbabu/Documents/code/jupyter_misc',\n",
      " '/Users/vrbabu/.vscode/extensions/ms-toolsai.jupyter-2022.3.1000901801/pythonFiles',\n",
      " '/Users/vrbabu/.vscode/extensions/ms-toolsai.jupyter-2022.3.1000901801/pythonFiles/lib/python',\n",
      " '/Library/Frameworks/Python.framework/Versions/3.10/lib/python310.zip',\n",
      " '/Library/Frameworks/Python.framework/Versions/3.10/lib/python3.10',\n",
      " '/Library/Frameworks/Python.framework/Versions/3.10/lib/python3.10/lib-dynload',\n",
      " '',\n",
      " '/Users/vrbabu/Documents/code/jupyter_misc/venv/lib/python3.10/site-packages',\n",
      " '/Users/vrbabu/Documents/code/jupyter_misc/venv/lib/python3.10/site-packages/IPython/extensions',\n",
      " '/Users/vrbabu/.ipython',\n",
      " '/Users/vrbabu/Library/Python/3.10/lib/python/site-packages']\n",
      "Package              Version\n",
      "-------------------- ---------\n",
      "anyio                3.3.0\n",
      "appnope              0.1.2\n",
      "argon2-cffi          21.1.0\n",
      "argon2-cffi-bindings 21.2.0\n",
      "asttokens            2.0.5\n",
      "attrs                21.2.0\n",
      "Babel                2.9.1\n",
      "backcall             0.2.0\n",
      "bleach               4.1.0\n",
      "certifi              2021.5.30\n",
      "cffi                 1.14.6\n",
      "charset-normalizer   2.0.4\n",
      "cycler               0.10.0\n",
      "debugpy              1.4.1\n",
      "decorator            5.0.9\n",
      "defusedxml           0.7.1\n",
      "entrypoints          0.3\n",
      "executing            0.8.3\n",
      "idna                 3.2\n",
      "ipykernel            6.3.1\n",
      "ipython              7.27.0\n",
      "ipython-genutils     0.2.0\n",
      "ipywidgets           7.6.5\n",
      "jedi                 0.18.0\n",
      "Jinja2               3.0.1\n",
      "json5                0.9.6\n",
      "jsonschema           3.2.0\n",
      "jupyter              1.0.0\n",
      "jupyter-client       7.0.2\n",
      "jupyter-console      6.4.0\n",
      "jupyter-core         4.7.1\n",
      "jupyter-server       1.10.2\n",
      "jupyterlab           3.1.10\n",
      "jupyterlab-pygments  0.1.2\n",
      "jupyterlab-server    2.7.2\n",
      "jupyterlab-widgets   1.0.2\n",
      "kiwisolver           1.3.2\n",
      "lxml                 4.6.3\n",
      "MarkupSafe           2.0.1\n",
      "matplotlib           3.4.3\n",
      "matplotlib-inline    0.1.2\n",
      "mistune              0.8.4\n",
      "nbclassic            0.3.1\n",
      "nbclient             0.5.4\n",
      "nbconvert            6.1.0\n",
      "nbformat             5.1.3\n",
      "nest-asyncio         1.5.1\n",
      "notebook             6.4.3\n",
      "numpy                1.21.2\n",
      "packaging            21.0\n",
      "pandocfilters        1.4.3\n",
      "parso                0.8.2\n",
      "pexpect              4.8.0\n",
      "pickleshare          0.7.5\n",
      "Pillow               8.3.2\n",
      "pip                  21.2.4\n",
      "prometheus-client    0.11.0\n",
      "prompt-toolkit       3.0.20\n",
      "psutil               5.9.0\n",
      "ptyprocess           0.7.0\n",
      "pure-eval            0.2.2\n",
      "pycparser            2.20\n",
      "Pygments             2.10.0\n",
      "pyparsing            2.4.7\n",
      "pyrsistent           0.18.0\n",
      "python-dateutil      2.8.2\n",
      "pytube               12.0.0\n",
      "pytz                 2021.1\n",
      "pyzmq                22.2.1\n",
      "qtconsole            5.2.2\n",
      "QtPy                 2.0.0\n",
      "requests             2.26.0\n",
      "requests-unixsocket  0.2.0\n",
      "Send2Trash           1.8.0\n",
      "setuptools           58.1.0\n",
      "six                  1.16.0\n",
      "sniffio              1.2.0\n",
      "stack-data           0.2.0\n",
      "terminado            0.11.1\n",
      "testpath             0.5.0\n",
      "tornado              6.1\n",
      "traitlets            5.1.0\n",
      "urllib3              1.26.6\n",
      "wcwidth              0.2.5\n",
      "webencodings         0.5.1\n",
      "websocket-client     1.2.1\n",
      "widgetsnbextension   3.5.2\n"
     ]
    },
    {
     "name": "stderr",
     "output_type": "stream",
     "text": [
      "WARNING: You are using pip version 21.2.4; however, version 22.0.4 is available.\n",
      "You should consider upgrading via the '/Users/vrbabu/Documents/code/jupyter_misc/venv/bin/python -m pip install --upgrade pip' command.\n"
     ]
    },
    {
     "data": {
      "text/plain": [
       "0"
      ]
     },
     "execution_count": 8,
     "metadata": {},
     "output_type": "execute_result"
    }
   ],
   "source": [
    "# Sysconfig for purelib and platlib\n",
    "import sysconfig\n",
    "\n",
    "print(f\"Purelib Path : {sysconfig.get_path('purelib')}\")\n",
    "print(f\"Platlib Path : {sysconfig.get_path('platlib')}\")\n",
    "\n",
    "import sys\n",
    "print(f\"Executable : {sys.executable}\")\n",
    "from pprint import pp\n",
    "pp(sys.path)\n",
    "\n",
    "import os\n",
    "os.system('python -m pip list')"
   ]
  },
  {
   "cell_type": "markdown",
   "metadata": {},
   "source": [
    "### Magic of \"Self\" in Python"
   ]
  },
  {
   "cell_type": "code",
   "execution_count": 12,
   "metadata": {},
   "outputs": [],
   "source": [
    "class Guitar:\n",
    "    def __init__(self, name: str)-> None:\n",
    "        self.name = name\n",
    "\n",
    "    def play_note(self, note: str)-> None:\n",
    "        print(f\"My {self.name} played the note {note!r}\")\n",
    "\n",
    "    "
   ]
  },
  {
   "cell_type": "code",
   "execution_count": 13,
   "metadata": {},
   "outputs": [
    {
     "data": {
      "text/plain": [
       "'Warwick Streamer'"
      ]
     },
     "execution_count": 13,
     "metadata": {},
     "output_type": "execute_result"
    }
   ],
   "source": [
    "warwick = Guitar(\"Warwick Streamer\")\n",
    "warwick.name"
   ]
  },
  {
   "cell_type": "code",
   "execution_count": 14,
   "metadata": {},
   "outputs": [
    {
     "name": "stdout",
     "output_type": "stream",
     "text": [
      "My Warwick Streamer played the note 'C#'\n"
     ]
    }
   ],
   "source": [
    "warwick.play_note(\"C#\")"
   ]
  },
  {
   "cell_type": "code",
   "execution_count": 16,
   "metadata": {},
   "outputs": [
    {
     "data": {
      "text/plain": [
       "<function __main__.Guitar.play_note(self, note: str) -> None>"
      ]
     },
     "execution_count": 16,
     "metadata": {},
     "output_type": "execute_result"
    }
   ],
   "source": [
    "# The method is just a function object\n",
    "Guitar.play_note"
   ]
  },
  {
   "cell_type": "code",
   "execution_count": 17,
   "metadata": {},
   "outputs": [
    {
     "data": {
      "text/plain": [
       "<bound method Guitar.play_note of <__main__.Guitar object at 0x10adc21d0>>"
      ]
     },
     "execution_count": 17,
     "metadata": {},
     "output_type": "execute_result"
    }
   ],
   "source": [
    "# bound via class attribute to warwick\n",
    "warwick.play_note"
   ]
  },
  {
   "cell_type": "markdown",
   "metadata": {},
   "source": [
    "The Descriptor Protocol <br>\n",
    "<ol>\n",
    "<li> Descriptor objectscan customise attribute look-up, assignment & deletion\n",
    "<li> Use special dunder methods\n",
    "<ul>\n",
    "<li> __get__\n",
    "<li> __set__\n",
    "<li> __delete\n",
    "</ul>\n",
    "<li> Function use __get__\n",
    "</ol>"
   ]
  },
  {
   "cell_type": "code",
   "execution_count": 28,
   "metadata": {},
   "outputs": [],
   "source": [
    "# Implementing custom __get__\n",
    "class FavouriteDescriptor:\n",
    "    def __get__(self, instance, owner):\n",
    "        if instance is None:\n",
    "            return self\n",
    "\n",
    "        return instance.name == \"warwick streamer\"\n",
    "        \n",
    "class Guitar:\n",
    "    def __init__(self, name: str)-> None:\n",
    "        self.name = name\n",
    "\n",
    "    def play_note(self, note: str)-> None:\n",
    "        print(f\"My {self.name} played the note {note!r}\")\n",
    "        \n",
    "    is_my_favourite = FavouriteDescriptor()\n",
    "\n",
    "\n",
    "\n"
   ]
  },
  {
   "cell_type": "code",
   "execution_count": 23,
   "metadata": {},
   "outputs": [],
   "source": [
    "warwick = Guitar(name=\"warwick streamer\")\n",
    "fender = Guitar(\"Jazz fender\")"
   ]
  },
  {
   "cell_type": "code",
   "execution_count": 24,
   "metadata": {},
   "outputs": [
    {
     "data": {
      "text/plain": [
       "True"
      ]
     },
     "execution_count": 24,
     "metadata": {},
     "output_type": "execute_result"
    }
   ],
   "source": [
    "warwick.is_my_favourite"
   ]
  },
  {
   "cell_type": "code",
   "execution_count": 25,
   "metadata": {},
   "outputs": [
    {
     "data": {
      "text/plain": [
       "False"
      ]
     },
     "execution_count": 25,
     "metadata": {},
     "output_type": "execute_result"
    }
   ],
   "source": [
    "fender.is_my_favourite"
   ]
  },
  {
   "cell_type": "code",
   "execution_count": 26,
   "metadata": {},
   "outputs": [
    {
     "data": {
      "text/plain": [
       "<__main__.FavouriteDescriptor at 0x10adc2fb0>"
      ]
     },
     "execution_count": 26,
     "metadata": {},
     "output_type": "execute_result"
    }
   ],
   "source": [
    "Guitar.is_my_favourite"
   ]
  },
  {
   "cell_type": "code",
   "execution_count": 32,
   "metadata": {},
   "outputs": [
    {
     "name": "stdout",
     "output_type": "stream",
     "text": [
      "<function Guitar.play_note at 0x10a8d5c60>\n",
      "<function Guitar.play_note at 0x10a8d5c60>\n",
      "<bound method Guitar.play_note of <__main__.Guitar object at 0x10adc26b0>>\n"
     ]
    }
   ],
   "source": [
    "print(Guitar.play_note)\n",
    "print(Guitar.play_note.__get__(None, Guitar))\n",
    "print(Guitar.play_note.__get__(warwick, Guitar))"
   ]
  },
  {
   "cell_type": "code",
   "execution_count": 33,
   "metadata": {},
   "outputs": [],
   "source": [
    "# classmethod descriptor binds function to class and not instance\n",
    "class Guitar:\n",
    "    @classmethod\n",
    "    def print_class_name(cls):\n",
    "        print(f\"The name of the class is {cls.__name__}\")"
   ]
  },
  {
   "cell_type": "code",
   "execution_count": 35,
   "metadata": {},
   "outputs": [
    {
     "name": "stdout",
     "output_type": "stream",
     "text": [
      "<bound method Guitar.print_class_name of <class '__main__.Guitar'>>\n",
      "The name of the class is Guitar\n",
      "None\n"
     ]
    }
   ],
   "source": [
    "print(Guitar.print_class_name)\n",
    "print(Guitar.print_class_name())"
   ]
  },
  {
   "cell_type": "code",
   "execution_count": 36,
   "metadata": {},
   "outputs": [],
   "source": [
    "# staticmethod descriptor returns function without binding\n",
    "class Guitar:\n",
    "    @staticmethod\n",
    "    def my_static_method():\n",
    "        print(f\"I am not bound to anything\")"
   ]
  },
  {
   "cell_type": "code",
   "execution_count": 38,
   "metadata": {},
   "outputs": [
    {
     "name": "stdout",
     "output_type": "stream",
     "text": [
      "<function Guitar.my_static_method at 0x10a8d5a20>\n",
      "I am not bound to anything\n",
      "None\n"
     ]
    }
   ],
   "source": [
    "print(Guitar.my_static_method)\n",
    "print(Guitar.my_static_method())"
   ]
  },
  {
   "cell_type": "code",
   "execution_count": 39,
   "metadata": {},
   "outputs": [],
   "source": [
    "# property descriptor easily creates the dunders\n",
    "class Guitar:\n",
    "    @property\n",
    "    def price(self):\n",
    "        return self._price\n",
    "\n",
    "    @price.setter\n",
    "    def price(self, new_price):\n",
    "        self._price = new_price"
   ]
  },
  {
   "cell_type": "code",
   "execution_count": 9,
   "metadata": {},
   "outputs": [
    {
     "data": {
      "text/plain": [
       "'/Users/vrbabu/Documents/code/jupyter_misc/Dont brush that spot human.mp4'"
      ]
     },
     "execution_count": 9,
     "metadata": {},
     "output_type": "execute_result"
    }
   ],
   "source": [
    "# Download You Tube videos\n",
    "\n",
    "from pytube import YouTube\n",
    "\n",
    "video_url = \"https://www.youtube.com/watch?v=kUGQkXTcJns\"\n",
    "video_obj = YouTube(video_url)\n",
    "\n",
    "stream = video_obj.streams.get_highest_resolution()\n",
    "\n",
    "stream.download()"
   ]
  },
  {
   "cell_type": "code",
   "execution_count": 1,
   "metadata": {},
   "outputs": [
    {
     "name": "stdout",
     "output_type": "stream",
     "text": [
      "16.5\n",
      "16.5\n"
     ]
    }
   ],
   "source": [
    "# Use sum() with list comprehension\n",
    "\n",
    "prices=[1.5 , 2.0, 3.5, 4.0, 5.5]\n",
    "\n",
    "# without list comprehension and sum()\n",
    "def add_prices()-> float:\n",
    "    total = 0\n",
    "    for price in prices:\n",
    "        total += price\n",
    "\n",
    "    return total\n",
    "\n",
    "print(add_prices())\n",
    "\n",
    "# with list comprehension & sum\n",
    "def add_prices_fast()-> float:\n",
    "    return sum(price for price in prices)\n",
    "\n",
    "print(add_prices_fast())\n"
   ]
  },
  {
   "cell_type": "code",
   "execution_count": 3,
   "metadata": {},
   "outputs": [
    {
     "name": "stdout",
     "output_type": "stream",
     "text": [
      "x=Ellipsis\n"
     ]
    }
   ],
   "source": [
    "# Ellipses\n",
    "x=...\n",
    "if x is ...:\n",
    "    print(f\"{x=}\")\n",
    "\n"
   ]
  },
  {
   "cell_type": "code",
   "execution_count": 5,
   "metadata": {},
   "outputs": [
    {
     "name": "stdout",
     "output_type": "stream",
     "text": [
      "{'Tybalt', 'Benvolio', 'Juliet', 'Mercutio'}\n"
     ]
    }
   ],
   "source": [
    "# .symmetric_difference() to get a new set containing elements that are either in first or second set but not in both\n",
    "\n",
    "winners={\"Romeo\",\"Juliet\"}\n",
    "players={\"Mercutio\",\"Romeo\",\"Benvolio\",\"Tybalt\"}\n",
    "\n",
    "print(players.symmetric_difference(winners))"
   ]
  },
  {
   "cell_type": "code",
   "execution_count": 10,
   "metadata": {},
   "outputs": [
    {
     "name": "stdout",
     "output_type": "stream",
     "text": [
      "Employee(name='Leonardo', role=<Role.MANAGER: 1>, age=30)\n",
      "('Leonardo', 'MANAGER', 30)\n",
      "1 2 3\n"
     ]
    }
   ],
   "source": [
    "# Enum with auto()\n",
    "\n",
    "from enum import Enum, auto\n",
    "from dataclasses import dataclass\n",
    "\n",
    "class Role(Enum):\n",
    "    MANAGER = auto()\n",
    "    VICEPRESIDENT = auto()\n",
    "    PRESIDENT = auto()\n",
    "\n",
    "@dataclass\n",
    "class Employee:\n",
    "    name : str\n",
    "    role : Role\n",
    "    age : int\n",
    "\n",
    "    @property\n",
    "    def employee_details(self):\n",
    "        return(self.name, self.role.name, self.age)\n",
    "\n",
    "leo = Employee(\"Leonardo\", Role.MANAGER , 30)\n",
    "print(leo)\n",
    "print(leo.employee_details)\n",
    "print(Role.MANAGER.value, Role.VICEPRESIDENT.value , Role.PRESIDENT.value)\n"
   ]
  },
  {
   "cell_type": "code",
   "execution_count": 18,
   "metadata": {},
   "outputs": [
    {
     "name": "stdout",
     "output_type": "stream",
     "text": [
      "[[1], [2, 3], [4, [5, 6, [7, 8, [9, [10, 11, 12]]]]]]\n",
      "<itertools.chain object at 0x1101a0550>\n",
      "[1, 2, 3, 4, [5, 6, [7, 8, [9, [10, 11, 12]]]]]\n",
      "[1, 2, 3, 4, 5, 6, 7, 8, 9, 10, 11, 12]\n"
     ]
    }
   ],
   "source": [
    "# Flatten a list\n",
    "\n",
    "numbers = [[1],[2,3],[4,[5,6,[7,8,[9,[10,11,12]]]]]]\n",
    "print(numbers)\n",
    "\n",
    "from itertools import chain\n",
    "\n",
    "print(chain.from_iterable(numbers))\n",
    "#  itertools.chain only goes one level deep\n",
    "print(list(chain.from_iterable(numbers)))\n",
    "\n",
    "# use recursion to fix this issue\n",
    "from typing import List\n",
    "def flatten(numbers:List)-> int:\n",
    "    for number in numbers:\n",
    "        if (isinstance(number, int)):\n",
    "            yield number\n",
    "        else:\n",
    "            yield from flatten(number)\n",
    "\n",
    "print(list(flatten(numbers)))\n"
   ]
  },
  {
   "cell_type": "code",
   "execution_count": 26,
   "metadata": {},
   "outputs": [
    {
     "name": "stdout",
     "output_type": "stream",
     "text": [
      "Undecorated invoke method output : Dog is walking\n",
      "Animal.walk() missing 1 required positional argument: 'self'\n",
      "classmethod invoke class output : Animal is walking\n",
      "classmethod invoke class output : Animal is walking\n",
      "staticclass object : Animal is walking\n"
     ]
    }
   ],
   "source": [
    "# classmethods & staticmethods\n",
    "\n",
    "# undecorated methods in class\n",
    "class Animal:\n",
    "    def __init__(self, animal_type=\"cat\"):\n",
    "        self.animal_type = animal_type\n",
    "\n",
    "    def walk(self):\n",
    "        return (f\"{self.animal_type} is walking\")\n",
    "\n",
    "animal = Animal(\"Dog\")\n",
    "print(f\"Undecorated invoke method output : {animal.walk()}\")\n",
    "try :\n",
    "    print(f\"Undecorated invoke class output : {Animal.walk()}\")\n",
    "except Exception as err:\n",
    "    print(f\"{err}\")\n",
    "\n",
    "\n",
    "# @classmethod methods in class\n",
    "class Animal:\n",
    "    def __init__(self, animal_type=\"cat\"):\n",
    "        self.animal_type = animal_type\n",
    "\n",
    "    @classmethod\n",
    "    def walk(cls):\n",
    "        return (f\"Animal is walking\")\n",
    "\n",
    "try :\n",
    "    print(f\"classmethod invoke class output : {Animal.walk()}\")\n",
    "except Exception as err:\n",
    "    print(f\"{err}\")\n",
    "\n",
    "\n",
    "# @staticmethod methods in class\n",
    "class Animal:\n",
    "    def __init__(self, animal_type=\"cat\"):\n",
    "        self.animal_type = animal_type\n",
    "\n",
    "    @staticmethod\n",
    "    def walk():\n",
    "        return (f\"Animal is walking\")\n",
    "\n",
    "try :\n",
    "    print(f\"classmethod invoke class output : {Animal.walk()}\")\n",
    "except Exception as err:\n",
    "    print(f\"{err}\")\n",
    "\n",
    "animal = Animal()\n",
    "print(f\"staticclass object : {animal.walk()}\")"
   ]
  },
  {
   "cell_type": "code",
   "execution_count": 38,
   "metadata": {},
   "outputs": [
    {
     "name": "stdout",
     "output_type": "stream",
     "text": [
      "{'{': '}', '[': ']', '<': '>', '(': ')'}\n",
      "{'{': '}', '[': ']', '<': '>', '(': ')'}\n"
     ]
    }
   ],
   "source": [
    "# dictionary comprehension & zip\n",
    "# https://twitter.com/mathsppblog/status/1469733621523259398?t=P-UzIG8F_eXmeeaosadI-A&s=03\n",
    "\n",
    "\n",
    "OPENING, CLOSING = \"{[<(\",\"}]>)\"\n",
    "\n",
    "# Dictionary Comprehsension\n",
    "CLOSE_WITH = {opener : closer for opener,closer in zip(OPENING,CLOSING)}\n",
    "print(CLOSE_WITH)\n",
    "\n",
    "# dict\n",
    "CLOSE_WITH = dict(zip(OPENING, CLOSING))\n",
    "print(CLOSE_WITH)"
   ]
  },
  {
   "cell_type": "code",
   "execution_count": 10,
   "metadata": {},
   "outputs": [
    {
     "name": "stdout",
     "output_type": "stream",
     "text": [
      "[        hello   \n",
      "          world\n",
      "    ]\n",
      "['hello   \\n  world\\n']\n"
     ]
    }
   ],
   "source": [
    "# dedent to remove leading whitespaces\n",
    "from textwrap import dedent\n",
    "\n",
    "def test() -> str:\n",
    "    my_string = '''\\\n",
    "        hello   \n",
    "          world\n",
    "    '''\n",
    "\n",
    "    return my_string\n",
    "\n",
    "\n",
    "print(f\"[{test()}]\")\n",
    "\n",
    "print(f\"{[dedent(test())]}\")\n"
   ]
  },
  {
   "cell_type": "code",
   "execution_count": 13,
   "metadata": {},
   "outputs": [
    {
     "ename": "no_holidays_remaining",
     "evalue": "(10, 5, 'You dont have enough days for a holiday')",
     "output_type": "error",
     "traceback": [
      "\u001b[0;31m---------------------------------------------------------------------------\u001b[0m",
      "\u001b[0;31mno_holidays_remaining\u001b[0m                     Traceback (most recent call last)",
      "\u001b[0;32m/var/folders/nc/9qhrjynn6vjfcdgr9x5llf180000gn/T/ipykernel_1034/3854716521.py\u001b[0m in \u001b[0;36m<module>\u001b[0;34m\u001b[0m\n\u001b[1;32m     13\u001b[0m \u001b[0;34m\u001b[0m\u001b[0m\n\u001b[1;32m     14\u001b[0m \u001b[0;34m\u001b[0m\u001b[0m\n\u001b[0;32m---> 15\u001b[0;31m \u001b[0;32mraise\u001b[0m \u001b[0mno_holidays_remaining\u001b[0m\u001b[0;34m(\u001b[0m\u001b[0;36m10\u001b[0m\u001b[0;34m,\u001b[0m \u001b[0;36m5\u001b[0m \u001b[0;34m,\u001b[0m \u001b[0;34m\"You dont have enough days for a holiday\"\u001b[0m\u001b[0;34m)\u001b[0m\u001b[0;34m\u001b[0m\u001b[0;34m\u001b[0m\u001b[0m\n\u001b[0m",
      "\u001b[0;31mno_holidays_remaining\u001b[0m: (10, 5, 'You dont have enough days for a holiday')"
     ]
    }
   ],
   "source": [
    "# Creating & raising your own exception\n",
    "\n",
    "from dataclasses import dataclass\n",
    "\n",
    "@dataclass\n",
    "class no_holidays_remaining(Exception):\n",
    "    requested_days : int\n",
    "    remaining_days : int\n",
    "    error_message : str\n",
    "\n",
    "    def __post_init__(self):\n",
    "        super().__init__(self.error_message)\n",
    "\n",
    "\n",
    "raise no_holidays_remaining(10, 5 , \"You dont have enough days for a holiday\")"
   ]
  },
  {
   "cell_type": "code",
   "execution_count": 10,
   "metadata": {},
   "outputs": [
    {
     "name": "stdout",
     "output_type": "stream",
     "text": [
      "If I had a large amount of money I should certainly found a hospital for those whose grip upon the world is so tenuous that they can be severely offended by words and phrases and yet remain all unoffended by the injustice, violence and oppression that howls daily about our ears.\n",
      "\n",
      "\n",
      "If I had a large amount of money I\n",
      "should certainly found a hospital for\n",
      "those whose grip upon the world is so\n",
      "tenuous that they can be severely\n",
      "offended by words and phrases and yet\n",
      "remain all unoffended by the injustice,\n",
      "violence and oppression that howls daily\n",
      "about our ears.\n"
     ]
    }
   ],
   "source": [
    "# print text wrapped into a column\n",
    "from textwrap import wrap\n",
    "\n",
    "my_text = (\"If I had a large amount of money I should certainly found a hospital for those whose \"\n",
    "\"grip upon the world is so tenuous that they can be severely offended by words and phrases and yet remain all unoffended \"\n",
    "\"by the injustice, violence and oppression that howls daily about our ears.\")\n",
    "\n",
    "print(my_text)\n",
    "print(\"\\n\")\n",
    "for line in wrap(my_text, width=40):\n",
    "    print(line)"
   ]
  },
  {
   "cell_type": "code",
   "execution_count": 35,
   "metadata": {},
   "outputs": [
    {
     "name": "stdout",
     "output_type": "stream",
     "text": [
      "45 days notice + Customer gave 45 days notice : 0.6666666666666666\n",
      "45 days notice + Termination notice given : 0.42105263157894735\n",
      "45 days notice + notice given for termination of billing : 0.22641509433962265\n",
      "Highest score : 0.6666666666666666\n",
      "\n",
      "\n",
      "customer gave notice + Customer gave 45 days notice : 0.7916666666666666\n",
      "customer gave notice + Termination notice given : 0.45454545454545453\n",
      "customer gave notice + notice given for termination of billing : 0.2033898305084746\n",
      "Highest score : 0.7916666666666666\n",
      "\n",
      "\n",
      "terminate notice given + Customer gave 45 days notice : 0.48\n",
      "terminate notice given + Termination notice given : 0.8695652173913043\n",
      "terminate notice given + notice given for termination of billing : 0.39344262295081966\n",
      "Highest score : 0.8695652173913043\n"
     ]
    }
   ],
   "source": [
    "# Find similarity ratio\n",
    "# https://twitter.com/bbelderbos/status/1473545486929907722?t=4JrYW9dSjjvhgyBbEIwE4w&s=03\n",
    "\n",
    "from itertools import combinations\n",
    "from difflib import SequenceMatcher\n",
    "\n",
    "def notice_phrase_generator() -> str :\n",
    "    yield \"Customer gave 45 days notice\"\n",
    "    yield \"Termination notice given\"\n",
    "    yield \"notice given for termination of billing\"\n",
    "\n",
    "notice_phrases_list = notice_phrase_generator()\n",
    "\n",
    "phrase1 = \"45 days notice\"\n",
    "phrase2 = \"customer gave notice\"\n",
    "phrase3 = \"terminate notice given\"\n",
    "\n",
    "notice_phrases_list = notice_phrase_generator()\n",
    "score_list = []\n",
    "for phrase in notice_phrases_list :\n",
    "    similarity = SequenceMatcher(None, phrase1, phrase).ratio()\n",
    "    print(f\"{phrase1} + {phrase} : {similarity}\")\n",
    "    score_list.append(similarity)\n",
    "print(f\"Highest score : {sorted(score_list)[2]}\")\n",
    "\n",
    "print(\"\\n\")\n",
    "\n",
    "notice_phrases_list = notice_phrase_generator()\n",
    "score_list = []\n",
    "for phrase in notice_phrases_list :\n",
    "    similarity = SequenceMatcher(None, phrase2, phrase).ratio()\n",
    "    print(f\"{phrase2} + {phrase} : {similarity}\")\n",
    "    score_list.append(similarity)\n",
    "print(f\"Highest score : {sorted(score_list)[2]}\")\n",
    "\n",
    "print(\"\\n\")\n",
    "\n",
    "notice_phrases_list = notice_phrase_generator()\n",
    "score_list = []\n",
    "for phrase in notice_phrases_list :\n",
    "    similarity = SequenceMatcher(None, phrase3, phrase).ratio()\n",
    "    print(f\"{phrase3} + {phrase} : {similarity}\")\n",
    "    score_list.append(similarity)\n",
    "print(f\"Highest score : {sorted(score_list)[2]}\")\n"
   ]
  },
  {
   "cell_type": "code",
   "execution_count": 3,
   "metadata": {},
   "outputs": [
    {
     "name": "stdout",
     "output_type": "stream",
     "text": [
      "Largest : 100 , Smallest : 1\n"
     ]
    }
   ],
   "source": [
    "# Get largest & smallest at the same time\n",
    "my_list = [81, 98, 100, 43, 23, 56, 1, 50 , 30 , 21, 78]\n",
    "\n",
    "small, *_, large = sorted(my_list)\n",
    "\n",
    "print(f\"Largest : {large} , Smallest : {small}\")"
   ]
  },
  {
   "cell_type": "code",
   "execution_count": 3,
   "metadata": {},
   "outputs": [
    {
     "name": "stdout",
     "output_type": "stream",
     "text": [
      "SPARKLES\n",
      "✨\n"
     ]
    }
   ],
   "source": [
    "# unicode names\n",
    "from unicodedata import name as unicode_name\n",
    "\n",
    "print(unicode_name('\\u2728'))\n",
    "print('\\u2728')"
   ]
  },
  {
   "cell_type": "code",
   "execution_count": 11,
   "metadata": {},
   "outputs": [
    {
     "name": "stdout",
     "output_type": "stream",
     "text": [
      "[4, 8, 12, 16, 20, 24, 28, 32, 36, 40, 44, 48, 52, 56, 60, 64, 68, 72, 76, 80, 84, 88, 92, 96, 104, 108, 112, 116, 120, 124, 128, 132, 136, 140, 144, 148, 152, 156, 160, 164, 168, 172, 176, 180, 184, 188, 192, 196, 204, 208, 212, 216, 220, 224, 228, 232, 236, 240, 244, 248, 252, 256, 260, 264, 268, 272, 276, 280, 284, 288, 292, 296, 304, 308, 312, 316, 320, 324, 328, 332, 336, 340, 344, 348, 352, 356, 360, 364, 368, 372, 376, 380, 384, 388, 392, 396, 400, 404, 408, 412, 416, 420, 424, 428, 432, 436, 440, 444, 448, 452, 456, 460, 464, 468, 472, 476, 480, 484, 488, 492, 496, 504, 508, 512, 516, 520, 524, 528, 532, 536, 540, 544, 548, 552, 556, 560, 564, 568, 572, 576, 580, 584, 588, 592, 596, 604, 608, 612, 616, 620, 624, 628, 632, 636, 640, 644, 648, 652, 656, 660, 664, 668, 672, 676, 680, 684, 688, 692, 696, 704, 708, 712, 716, 720, 724, 728, 732, 736, 740, 744, 748, 752, 756, 760, 764, 768, 772, 776, 780, 784, 788, 792, 796, 800, 804, 808, 812, 816, 820, 824, 828, 832, 836, 840, 844, 848, 852, 856, 860, 864, 868, 872, 876, 880, 884, 888, 892, 896, 904, 908, 912, 916, 920, 924, 928, 932, 936, 940, 944, 948, 952, 956, 960, 964, 968, 972, 976, 980, 984, 988, 992, 996, 1004, 1008, 1012, 1016, 1020, 1024, 1028, 1032, 1036, 1040, 1044, 1048, 1052, 1056, 1060, 1064, 1068, 1072, 1076, 1080, 1084, 1088, 1092, 1096, 1104, 1108, 1112, 1116, 1120, 1124, 1128, 1132, 1136, 1140, 1144, 1148, 1152, 1156, 1160, 1164, 1168, 1172, 1176, 1180, 1184, 1188, 1192, 1196, 1200, 1204, 1208, 1212, 1216, 1220, 1224, 1228, 1232, 1236, 1240, 1244, 1248, 1252, 1256, 1260, 1264, 1268, 1272, 1276, 1280, 1284, 1288, 1292, 1296, 1304, 1308, 1312, 1316, 1320, 1324, 1328, 1332, 1336, 1340, 1344, 1348, 1352, 1356, 1360, 1364, 1368, 1372, 1376, 1380, 1384, 1388, 1392, 1396, 1404, 1408, 1412, 1416, 1420, 1424, 1428, 1432, 1436, 1440, 1444, 1448, 1452, 1456, 1460, 1464, 1468, 1472, 1476, 1480, 1484, 1488, 1492, 1496, 1504, 1508, 1512, 1516, 1520, 1524, 1528, 1532, 1536, 1540, 1544, 1548, 1552, 1556, 1560, 1564, 1568, 1572, 1576, 1580, 1584, 1588, 1592, 1596, 1600, 1604, 1608, 1612, 1616, 1620, 1624, 1628, 1632, 1636, 1640, 1644, 1648, 1652, 1656, 1660, 1664, 1668, 1672, 1676, 1680, 1684, 1688, 1692, 1696, 1704, 1708, 1712, 1716, 1720, 1724, 1728, 1732, 1736, 1740, 1744, 1748, 1752, 1756, 1760, 1764, 1768, 1772, 1776, 1780, 1784, 1788, 1792, 1796, 1804, 1808, 1812, 1816, 1820, 1824, 1828, 1832, 1836, 1840, 1844, 1848, 1852, 1856, 1860, 1864, 1868, 1872, 1876, 1880, 1884, 1888, 1892, 1896, 1904, 1908, 1912, 1916, 1920, 1924, 1928, 1932, 1936, 1940, 1944, 1948, 1952, 1956, 1960, 1964, 1968, 1972, 1976, 1980, 1984, 1988, 1992, 1996, 2000, 2004, 2008, 2012, 2016, 2020, 2024, 2028, 2032, 2036, 2040, 2044, 2048, 2052, 2056, 2060, 2064, 2068, 2072, 2076, 2080, 2084, 2088, 2092, 2096, 2104, 2108, 2112, 2116, 2120, 2124, 2128, 2132, 2136, 2140, 2144, 2148, 2152, 2156, 2160, 2164, 2168, 2172, 2176, 2180, 2184, 2188, 2192, 2196, 2204, 2208, 2212, 2216, 2220, 2224, 2228, 2232, 2236, 2240, 2244, 2248, 2252, 2256, 2260, 2264, 2268, 2272, 2276, 2280, 2284, 2288, 2292, 2296, 2304, 2308, 2312, 2316, 2320, 2324, 2328, 2332, 2336, 2340, 2344, 2348, 2352, 2356, 2360, 2364, 2368, 2372, 2376, 2380, 2384, 2388, 2392, 2396, 2400, 2404, 2408, 2412, 2416, 2420, 2424, 2428, 2432, 2436, 2440, 2444, 2448, 2452, 2456, 2460, 2464, 2468, 2472, 2476, 2480, 2484, 2488, 2492, 2496, 2504, 2508, 2512, 2516, 2520, 2524, 2528, 2532, 2536, 2540, 2544, 2548, 2552, 2556, 2560, 2564, 2568, 2572, 2576, 2580, 2584, 2588, 2592, 2596, 2604, 2608, 2612, 2616, 2620, 2624, 2628, 2632, 2636, 2640, 2644, 2648, 2652, 2656, 2660, 2664, 2668, 2672, 2676, 2680, 2684, 2688, 2692, 2696, 2704, 2708, 2712, 2716, 2720, 2724, 2728, 2732, 2736, 2740, 2744, 2748, 2752, 2756, 2760, 2764, 2768, 2772, 2776, 2780, 2784, 2788, 2792, 2796, 2800, 2804, 2808, 2812, 2816, 2820, 2824, 2828, 2832, 2836, 2840, 2844, 2848, 2852, 2856, 2860, 2864, 2868, 2872, 2876, 2880, 2884, 2888, 2892, 2896, 2904, 2908, 2912, 2916, 2920, 2924, 2928, 2932, 2936, 2940, 2944, 2948, 2952, 2956, 2960, 2964, 2968, 2972, 2976, 2980, 2984, 2988, 2992, 2996, 3004, 3008, 3012, 3016, 3020, 3024, 3028, 3032, 3036, 3040, 3044, 3048, 3052, 3056, 3060, 3064, 3068, 3072, 3076, 3080, 3084, 3088, 3092, 3096, 3104, 3108, 3112, 3116, 3120, 3124, 3128, 3132, 3136, 3140, 3144, 3148, 3152, 3156, 3160, 3164, 3168, 3172, 3176, 3180, 3184, 3188, 3192, 3196, 3200, 3204, 3208, 3212, 3216, 3220, 3224, 3228, 3232, 3236, 3240, 3244, 3248, 3252, 3256, 3260, 3264, 3268, 3272, 3276, 3280, 3284, 3288, 3292, 3296, 3304, 3308, 3312, 3316, 3320, 3324, 3328, 3332, 3336, 3340, 3344, 3348, 3352, 3356, 3360, 3364, 3368, 3372, 3376, 3380, 3384, 3388, 3392, 3396, 3404, 3408, 3412, 3416, 3420, 3424, 3428, 3432, 3436, 3440, 3444, 3448, 3452, 3456, 3460, 3464, 3468, 3472, 3476, 3480, 3484, 3488, 3492, 3496, 3504, 3508, 3512, 3516, 3520, 3524, 3528, 3532, 3536, 3540, 3544, 3548, 3552, 3556, 3560, 3564, 3568, 3572, 3576, 3580, 3584, 3588, 3592, 3596, 3600, 3604, 3608, 3612, 3616, 3620, 3624, 3628, 3632, 3636, 3640, 3644, 3648, 3652, 3656, 3660, 3664, 3668, 3672, 3676, 3680, 3684, 3688, 3692, 3696, 3704, 3708, 3712, 3716, 3720, 3724, 3728, 3732, 3736, 3740, 3744, 3748, 3752, 3756, 3760, 3764, 3768, 3772, 3776, 3780, 3784, 3788, 3792, 3796, 3804, 3808, 3812, 3816, 3820, 3824, 3828, 3832, 3836, 3840, 3844, 3848, 3852, 3856, 3860, 3864, 3868, 3872, 3876, 3880, 3884, 3888, 3892, 3896, 3904, 3908, 3912, 3916, 3920, 3924, 3928, 3932, 3936, 3940, 3944, 3948, 3952, 3956, 3960, 3964, 3968, 3972, 3976, 3980, 3984, 3988, 3992, 3996, 4000, 4004, 4008, 4012, 4016, 4020, 4024, 4028, 4032, 4036, 4040, 4044, 4048, 4052, 4056, 4060, 4064, 4068, 4072, 4076, 4080, 4084, 4088, 4092, 4096, 4104, 4108, 4112, 4116, 4120, 4124, 4128, 4132, 4136, 4140, 4144, 4148, 4152, 4156, 4160, 4164, 4168, 4172, 4176, 4180, 4184, 4188, 4192, 4196, 4204, 4208, 4212, 4216, 4220, 4224, 4228, 4232, 4236, 4240, 4244, 4248, 4252, 4256, 4260, 4264, 4268, 4272, 4276, 4280, 4284, 4288, 4292, 4296, 4304, 4308, 4312, 4316, 4320, 4324, 4328, 4332, 4336, 4340, 4344, 4348, 4352, 4356, 4360, 4364, 4368, 4372, 4376, 4380, 4384, 4388, 4392, 4396, 4400, 4404, 4408, 4412, 4416, 4420, 4424, 4428, 4432, 4436, 4440, 4444, 4448, 4452, 4456, 4460, 4464, 4468, 4472, 4476, 4480, 4484, 4488, 4492, 4496, 4504, 4508, 4512, 4516, 4520, 4524, 4528, 4532, 4536, 4540, 4544, 4548, 4552, 4556, 4560, 4564, 4568, 4572, 4576, 4580, 4584, 4588, 4592, 4596, 4604, 4608, 4612, 4616, 4620, 4624, 4628, 4632, 4636, 4640, 4644, 4648, 4652, 4656, 4660, 4664, 4668, 4672, 4676, 4680, 4684, 4688, 4692, 4696, 4704, 4708, 4712, 4716, 4720, 4724, 4728, 4732, 4736, 4740, 4744, 4748, 4752, 4756, 4760, 4764, 4768, 4772, 4776, 4780, 4784, 4788, 4792, 4796, 4800, 4804, 4808, 4812, 4816, 4820, 4824, 4828, 4832, 4836, 4840, 4844, 4848, 4852, 4856, 4860, 4864, 4868, 4872, 4876, 4880, 4884, 4888, 4892, 4896, 4904, 4908, 4912, 4916, 4920, 4924, 4928, 4932, 4936, 4940, 4944, 4948, 4952, 4956, 4960, 4964, 4968, 4972, 4976, 4980, 4984, 4988, 4992, 4996, 5004, 5008, 5012, 5016, 5020, 5024, 5028, 5032, 5036, 5040, 5044, 5048, 5052, 5056, 5060, 5064, 5068, 5072, 5076, 5080, 5084, 5088, 5092, 5096, 5104, 5108, 5112, 5116, 5120, 5124, 5128, 5132, 5136, 5140, 5144, 5148, 5152, 5156, 5160, 5164, 5168, 5172, 5176, 5180, 5184, 5188, 5192, 5196, 5200, 5204, 5208, 5212, 5216, 5220, 5224, 5228, 5232, 5236, 5240, 5244, 5248, 5252, 5256, 5260, 5264, 5268, 5272, 5276, 5280, 5284, 5288, 5292, 5296, 5304, 5308, 5312, 5316, 5320, 5324, 5328, 5332, 5336, 5340, 5344, 5348, 5352, 5356, 5360, 5364, 5368, 5372, 5376, 5380, 5384, 5388, 5392, 5396, 5404, 5408, 5412, 5416, 5420, 5424, 5428, 5432, 5436, 5440, 5444, 5448, 5452, 5456, 5460, 5464, 5468, 5472, 5476, 5480, 5484, 5488, 5492, 5496, 5504, 5508, 5512, 5516, 5520, 5524, 5528, 5532, 5536, 5540, 5544, 5548, 5552, 5556, 5560, 5564, 5568, 5572, 5576, 5580, 5584, 5588, 5592, 5596, 5600, 5604, 5608, 5612, 5616, 5620, 5624, 5628, 5632, 5636, 5640, 5644, 5648, 5652, 5656, 5660, 5664, 5668, 5672, 5676, 5680, 5684, 5688, 5692, 5696, 5704, 5708, 5712, 5716, 5720, 5724, 5728, 5732, 5736, 5740, 5744, 5748, 5752, 5756, 5760, 5764, 5768, 5772, 5776, 5780, 5784, 5788, 5792, 5796, 5804, 5808, 5812, 5816, 5820, 5824, 5828, 5832, 5836, 5840, 5844, 5848, 5852, 5856, 5860, 5864, 5868, 5872, 5876, 5880, 5884, 5888, 5892, 5896, 5904, 5908, 5912, 5916, 5920, 5924, 5928, 5932, 5936, 5940, 5944, 5948, 5952, 5956, 5960, 5964, 5968, 5972, 5976, 5980, 5984, 5988, 5992, 5996, 6000, 6004, 6008, 6012, 6016, 6020, 6024, 6028, 6032, 6036, 6040, 6044, 6048, 6052, 6056, 6060, 6064, 6068, 6072, 6076, 6080, 6084, 6088, 6092, 6096, 6104, 6108, 6112, 6116, 6120, 6124, 6128, 6132, 6136, 6140, 6144, 6148, 6152, 6156, 6160, 6164, 6168, 6172, 6176, 6180, 6184, 6188, 6192, 6196, 6204, 6208, 6212, 6216, 6220, 6224, 6228, 6232, 6236, 6240, 6244, 6248, 6252, 6256, 6260, 6264, 6268, 6272, 6276, 6280, 6284, 6288, 6292, 6296, 6304, 6308, 6312, 6316, 6320, 6324, 6328, 6332, 6336, 6340, 6344, 6348, 6352, 6356, 6360, 6364, 6368, 6372, 6376, 6380, 6384, 6388, 6392, 6396, 6400, 6404, 6408, 6412, 6416, 6420, 6424, 6428, 6432, 6436, 6440, 6444, 6448, 6452, 6456, 6460, 6464, 6468, 6472, 6476, 6480, 6484, 6488, 6492, 6496, 6504, 6508, 6512, 6516, 6520, 6524, 6528, 6532, 6536, 6540, 6544, 6548, 6552, 6556, 6560, 6564, 6568, 6572, 6576, 6580, 6584, 6588, 6592, 6596, 6604, 6608, 6612, 6616, 6620, 6624, 6628, 6632, 6636, 6640, 6644, 6648, 6652, 6656, 6660, 6664, 6668, 6672, 6676, 6680, 6684, 6688, 6692, 6696, 6704, 6708, 6712, 6716, 6720, 6724, 6728, 6732, 6736, 6740, 6744, 6748, 6752, 6756, 6760, 6764, 6768, 6772, 6776, 6780, 6784, 6788, 6792, 6796, 6800, 6804, 6808, 6812, 6816, 6820, 6824, 6828, 6832, 6836, 6840, 6844, 6848, 6852, 6856, 6860, 6864, 6868, 6872, 6876, 6880, 6884, 6888, 6892, 6896, 6904, 6908, 6912, 6916, 6920, 6924, 6928, 6932, 6936, 6940, 6944, 6948, 6952, 6956, 6960, 6964, 6968, 6972, 6976, 6980, 6984, 6988, 6992, 6996, 7004, 7008, 7012, 7016, 7020, 7024, 7028, 7032, 7036, 7040, 7044, 7048, 7052, 7056, 7060, 7064, 7068, 7072, 7076, 7080, 7084, 7088, 7092, 7096, 7104, 7108, 7112, 7116, 7120, 7124, 7128, 7132, 7136, 7140, 7144, 7148, 7152, 7156, 7160, 7164, 7168, 7172, 7176, 7180, 7184, 7188, 7192, 7196, 7200, 7204, 7208, 7212, 7216, 7220, 7224, 7228, 7232, 7236, 7240, 7244, 7248, 7252, 7256, 7260, 7264, 7268, 7272, 7276, 7280, 7284, 7288, 7292, 7296, 7304, 7308, 7312, 7316, 7320, 7324, 7328, 7332, 7336, 7340, 7344, 7348, 7352, 7356, 7360, 7364, 7368, 7372, 7376, 7380, 7384, 7388, 7392, 7396, 7404, 7408, 7412, 7416, 7420, 7424, 7428, 7432, 7436, 7440, 7444, 7448, 7452, 7456, 7460, 7464, 7468, 7472, 7476, 7480, 7484, 7488, 7492, 7496, 7504, 7508, 7512, 7516, 7520, 7524, 7528, 7532, 7536, 7540, 7544, 7548, 7552, 7556, 7560, 7564, 7568, 7572, 7576, 7580, 7584, 7588, 7592, 7596, 7600, 7604, 7608, 7612, 7616, 7620, 7624, 7628, 7632, 7636, 7640, 7644, 7648, 7652, 7656, 7660, 7664, 7668, 7672, 7676, 7680, 7684, 7688, 7692, 7696, 7704, 7708, 7712, 7716, 7720, 7724, 7728, 7732, 7736, 7740, 7744, 7748, 7752, 7756, 7760, 7764, 7768, 7772, 7776, 7780, 7784, 7788, 7792, 7796, 7804, 7808, 7812, 7816, 7820, 7824, 7828, 7832, 7836, 7840, 7844, 7848, 7852, 7856, 7860, 7864, 7868, 7872, 7876, 7880, 7884, 7888, 7892, 7896, 7904, 7908, 7912, 7916, 7920, 7924, 7928, 7932, 7936, 7940, 7944, 7948, 7952, 7956, 7960, 7964, 7968, 7972, 7976, 7980, 7984, 7988, 7992, 7996, 8000, 8004, 8008, 8012, 8016, 8020, 8024, 8028, 8032, 8036, 8040, 8044, 8048, 8052, 8056, 8060, 8064, 8068, 8072, 8076, 8080, 8084, 8088, 8092, 8096, 8104, 8108, 8112, 8116, 8120, 8124, 8128, 8132, 8136, 8140, 8144, 8148, 8152, 8156, 8160, 8164, 8168, 8172, 8176, 8180, 8184, 8188, 8192, 8196, 8204, 8208, 8212, 8216, 8220, 8224, 8228, 8232, 8236, 8240, 8244, 8248, 8252, 8256, 8260, 8264, 8268, 8272, 8276, 8280, 8284, 8288, 8292, 8296, 8304, 8308, 8312, 8316, 8320, 8324, 8328, 8332, 8336, 8340, 8344, 8348, 8352, 8356, 8360, 8364, 8368, 8372, 8376, 8380, 8384, 8388, 8392, 8396, 8400, 8404, 8408, 8412, 8416, 8420, 8424, 8428, 8432, 8436, 8440, 8444, 8448, 8452, 8456, 8460, 8464, 8468, 8472, 8476, 8480, 8484, 8488, 8492, 8496, 8504, 8508, 8512, 8516, 8520, 8524, 8528, 8532, 8536, 8540, 8544, 8548, 8552, 8556, 8560, 8564, 8568, 8572, 8576, 8580, 8584, 8588, 8592, 8596, 8604, 8608, 8612, 8616, 8620, 8624, 8628, 8632, 8636, 8640, 8644, 8648, 8652, 8656, 8660, 8664, 8668, 8672, 8676, 8680, 8684, 8688, 8692, 8696, 8704, 8708, 8712, 8716, 8720, 8724, 8728, 8732, 8736, 8740, 8744, 8748, 8752, 8756, 8760, 8764, 8768, 8772, 8776, 8780, 8784, 8788, 8792, 8796, 8800, 8804, 8808, 8812, 8816, 8820, 8824, 8828, 8832, 8836, 8840, 8844, 8848, 8852, 8856, 8860, 8864, 8868, 8872, 8876, 8880, 8884, 8888, 8892, 8896, 8904, 8908, 8912, 8916, 8920, 8924, 8928, 8932, 8936, 8940, 8944, 8948, 8952, 8956, 8960, 8964, 8968, 8972, 8976, 8980, 8984, 8988, 8992, 8996, 9004, 9008, 9012, 9016, 9020, 9024, 9028, 9032, 9036, 9040, 9044, 9048, 9052, 9056, 9060, 9064, 9068, 9072, 9076, 9080, 9084, 9088, 9092, 9096, 9104, 9108, 9112, 9116, 9120, 9124, 9128, 9132, 9136, 9140, 9144, 9148, 9152, 9156, 9160, 9164, 9168, 9172, 9176, 9180, 9184, 9188, 9192, 9196, 9200, 9204, 9208, 9212, 9216, 9220, 9224, 9228, 9232, 9236, 9240, 9244, 9248, 9252, 9256, 9260, 9264, 9268, 9272, 9276, 9280, 9284, 9288, 9292, 9296, 9304, 9308, 9312, 9316, 9320, 9324, 9328, 9332, 9336, 9340, 9344, 9348, 9352, 9356, 9360, 9364, 9368, 9372, 9376, 9380, 9384, 9388, 9392, 9396, 9404, 9408, 9412, 9416, 9420, 9424, 9428, 9432, 9436, 9440, 9444, 9448, 9452, 9456, 9460, 9464, 9468, 9472, 9476, 9480, 9484, 9488, 9492, 9496, 9504, 9508, 9512, 9516, 9520, 9524, 9528, 9532, 9536, 9540, 9544, 9548, 9552, 9556, 9560, 9564, 9568, 9572, 9576, 9580, 9584, 9588, 9592, 9596, 9600, 9604, 9608, 9612, 9616, 9620, 9624, 9628, 9632, 9636, 9640, 9644, 9648, 9652, 9656, 9660, 9664, 9668, 9672, 9676, 9680, 9684, 9688, 9692, 9696, 9704, 9708, 9712, 9716, 9720, 9724, 9728, 9732, 9736, 9740, 9744, 9748, 9752, 9756, 9760, 9764, 9768, 9772, 9776, 9780, 9784, 9788, 9792, 9796, 9804, 9808, 9812, 9816, 9820, 9824, 9828, 9832, 9836, 9840, 9844, 9848, 9852, 9856, 9860, 9864, 9868, 9872, 9876, 9880, 9884, 9888, 9892, 9896, 9904, 9908, 9912, 9916, 9920, 9924, 9928, 9932, 9936, 9940, 9944, 9948, 9952, 9956, 9960, 9964, 9968, 9972, 9976, 9980, 9984, 9988, 9992, 9996] has size 20536\n",
      "<generator object <genexpr> at 0x10e653ed0> has size 104\n",
      "4\n",
      "8\n",
      "12\n",
      "16\n"
     ]
    }
   ],
   "source": [
    "# generator expressions vs list comprehension\n",
    "import calendar\n",
    "import sys\n",
    "\n",
    "list_comp = [year for year in range(1,10000) if calendar.isleap(year)]\n",
    "print(f\"{list_comp} has size {sys.getsizeof(list_comp)}\")\n",
    "\n",
    "generator_expression = (year for year in range(1,1000) if calendar.isleap(year))\n",
    "print(f\"{generator_expression} has size {sys.getsizeof(generator_expression)}\")\n",
    "\n",
    "print(next(generator_expression))\n",
    "print(next(generator_expression))\n",
    "print(next(generator_expression))\n",
    "print(next(generator_expression))\n",
    "\n",
    "\n",
    "\n",
    "\n"
   ]
  },
  {
   "cell_type": "markdown",
   "metadata": {},
   "source": [
    "# WATERMARKS"
   ]
  },
  {
   "cell_type": "code",
   "execution_count": 12,
   "metadata": {},
   "outputs": [
    {
     "name": "stdout",
     "output_type": "stream",
     "text": [
      "Numbers : [2, 1, 4, 6] , Labels : ['Electric', 'Solar', 'Diesel', 'Unleaded'] , Positions : [0, 1, 2, 3]\n"
     ]
    },
    {
     "data": {
      "image/png": "[encoded data removed]",
      "text/plain": [
       "<Figure size 360x576 with 1 Axes>"
      ]
     },
     "metadata": {
      "needs_background": "light"
     },
     "output_type": "display_data"
    }
   ],
   "source": [
    "import matplotlib.pyplot as plt\n",
    "from dataclasses import dataclass,field\n",
    "\n",
    "@dataclass\n",
    "class Barchart:\n",
    "    numbers:list=field(default_factory=list)\n",
    "    labels:list=field(default_factory=list)\n",
    "    pos:list=field(default_factory=list)\n",
    "        \n",
    "    @property\n",
    "    def bar_chart_data(self):\n",
    "        return f\"Numbers : {self.numbers} , Labels : {self.labels} , Positions : {self.pos}\"\n",
    "    \n",
    "    def draw_bar_chart(self):\n",
    "        fig = plt.figure(figsize=(5,8))\n",
    "        plt.bar(self.pos,self.numbers,color='red')\n",
    "        plt.xticks(ticks=self.pos, labels=self.labels)\n",
    "        \n",
    "        # watermark\n",
    "        fig.text(1,0.15, 'Rajesh Rulz', fontsize=45, color='purple', ha='right', va='bottom', alpha=0.4, rotation=25)\n",
    "        \n",
    "        #display graph\n",
    "        plt.show()\n",
    "\n",
    "my_bar_chart = Barchart([2,1,4,6],['Electric','Solar','Diesel','Unleaded'],list(range(4)))\n",
    "\n",
    "print(f\"{my_bar_chart.bar_chart_data}\")\n",
    "\n",
    "my_bar_chart.draw_bar_chart()\n"
   ]
  },
  {
   "cell_type": "code",
   "execution_count": 19,
   "metadata": {},
   "outputs": [
    {
     "name": "stdout",
     "output_type": "stream",
     "text": [
      "0\n",
      "6\n"
     ]
    }
   ],
   "source": [
    "# simple recursion\n",
    "\n",
    "from typing import List\n",
    "\n",
    "def my_recursive_sum(num_list:List[int])->int:\n",
    "    if len(num_list) == 0:\n",
    "        return 0\n",
    "    \n",
    "    return num_list[0]+ my_recursive_sum(num_list[1:])\n",
    "\n",
    "print(my_recursive_sum([]))\n",
    "print(my_recursive_sum([1,2,3]))\n"
   ]
  },
  {
   "cell_type": "code",
   "execution_count": 46,
   "metadata": {},
   "outputs": [
    {
     "name": "stdout",
     "output_type": "stream",
     "text": [
      "{'John', 'Daisy', 'Bob', 'Mary'}\n",
      "{'John', 'Mary'}\n",
      "False , True\n"
     ]
    }
   ],
   "source": [
    "# .union() & .intersection() & issubset()\n",
    "\n",
    "winners = {\"John\", \"Mary\"}\n",
    "players = {\"Daisy\",\"John\",\"Bob\",\"Mary\"}\n",
    "\n",
    "print(winners.union(players))\n",
    "\n",
    "print(players.intersection(winners))\n",
    "\n",
    "print(f\"{players.issubset(winners)} , {winners.issubset(players)}\")"
   ]
  },
  {
   "cell_type": "code",
   "execution_count": 56,
   "metadata": {},
   "outputs": [
    {
     "name": "stdout",
     "output_type": "stream",
     "text": [
      "It is True that Point is a subclass of tuple\n",
      "Point(x=2, y=4)\n",
      "2 4\n"
     ]
    }
   ],
   "source": [
    "# Named tuples\n",
    "\n",
    "from collections import namedtuple\n",
    "\n",
    "Point = namedtuple(\"Point\", \"x y\")\n",
    "\n",
    "print(f\"It is {issubclass(Point, tuple)} that Point is a subclass of tuple\")\n",
    "\n",
    "point = Point(2,4)\n",
    "print(point)\n",
    "print(point[0] , getattr(point,'y'))"
   ]
  },
  {
   "cell_type": "code",
   "execution_count": 69,
   "metadata": {},
   "outputs": [
    {
     "name": "stdout",
     "output_type": "stream",
     "text": [
      "Julian | 6\n",
      "Bob | 1\n",
      "Martin | 5\n",
      "Rodolfo | 4\n",
      "Julian               | 6\n",
      "Bob                  | 1\n",
      "Martin               | 5\n",
      "Rodolfo              | 4\n",
      "              Julian | 6\n",
      "                 Bob | 1\n",
      "              Martin | 5\n",
      "             Rodolfo | 4\n",
      "       Julian        | 6\n",
      "        Bob          | 1\n",
      "       Martin        | 5\n",
      "      Rodolfo        | 4\n"
     ]
    }
   ],
   "source": [
    "# print justification\n",
    "\n",
    "import random\n",
    "\n",
    "names = 'Julian Bob Martin Rodolfo'.split()\n",
    "scores = random.sample(range(1,11), len(names))\n",
    "\n",
    "for name,score in zip(names, scores):\n",
    "    print(f\"{name} | {score}\")\n",
    "\n",
    "for name,score in zip(names, scores):\n",
    "    print(f\"{name:<20} | {score}\")\n",
    "\n",
    "for name,score in zip(names, scores):\n",
    "    print(f\"{name:>20} | {score}\")\n",
    "    \n",
    "\n",
    "for name,score in zip(names, scores):\n",
    "    print(f\"{name:^20} | {score}\")\n",
    "    \n"
   ]
  },
  {
   "cell_type": "code",
   "execution_count": 72,
   "metadata": {},
   "outputs": [
    {
     "name": "stdout",
     "output_type": "stream",
     "text": [
      "Done\n",
      "Elapsed Time for my_func : 2.005199909210205\n"
     ]
    }
   ],
   "source": [
    "# timer decorator\n",
    "\n",
    "from functools import wraps\n",
    "from time import time, sleep\n",
    "\n",
    "def timer(my_func):\n",
    "    @wraps(my_func)\n",
    "    def wrapper(*args, **kwargs):\n",
    "        start = time()\n",
    "        my_func(*args, **kwargs)\n",
    "        end = time()\n",
    "\n",
    "        results = f\"Elapsed Time for {my_func.__name__} : {end-start}\"\n",
    "\n",
    "        return results\n",
    "\n",
    "    return wrapper\n",
    "\n",
    "@timer\n",
    "def my_func():\n",
    "    sleep(2)\n",
    "    print(\"Done\")\n",
    "\n",
    "\n",
    "print(my_func())"
   ]
  },
  {
   "cell_type": "code",
   "execution_count": 44,
   "metadata": {},
   "outputs": [
    {
     "name": "stdout",
     "output_type": "stream",
     "text": [
      "['__class__', '__class_getitem__', '__contains__', '__delattr__', '__delitem__', '__dir__', '__doc__', '__eq__', '__format__', '__ge__', '__getattribute__', '__getitem__', '__gt__', '__hash__', '__init__', '__init_subclass__', '__ior__', '__iter__', '__le__', '__len__', '__lt__', '__ne__', '__new__', '__or__', '__reduce__', '__reduce_ex__', '__repr__', '__reversed__', '__ror__', '__setattr__', '__setitem__', '__sizeof__', '__str__', '__subclasshook__', 'clear', 'copy', 'fromkeys', 'get', 'items', 'keys', 'pop', 'popitem', 'setdefault', 'update', 'values']\n",
      "\n",
      "['__class__', '__class_getitem__', '__contains__', '__delattr__', '__delitem__', '__dir__', '__doc__', '__eq__', '__format__', '__ge__', '__getattribute__', '__getitem__', '__gt__', '__hash__', '__init__', '__init_subclass__', '__ior__', '__iter__', '__le__', '__len__', '__lt__', '__ne__', '__new__', '__or__', '__reduce__', '__reduce_ex__', '__repr__', '__reversed__', '__ror__', '__setattr__', '__setitem__', '__sizeof__', '__str__', '__subclasshook__', 'clear', 'copy', 'fromkeys', 'get', 'items', 'keys', 'pop', 'popitem', 'setdefault', 'update', 'values']\n",
      "\n",
      "['clear', 'copy', 'fromkeys', 'get', 'items', 'keys', 'pop', 'popitem', 'setdefault', 'update', 'values']\n",
      "Keys : dict_keys(['bob', 'julian', 'tim', 'sara'])\n",
      "Values : dict_values(['11', '22', '33', '44'])\n",
      "Items : dict_items([('bob', '11'), ('julian', '22'), ('tim', '33'), ('sara', '44')])\n",
      "Get bob : 11\n",
      "Get bob boolean: True\n",
      "Get bob2 boolean: False\n",
      "Tim popped : dict_items([('bob', '11'), ('julian', '22'), ('sara', '44')])\n",
      "First item popped : ('sara', '44')\n",
      "Update with Frank : {'bob': '11', 'julian': '22', 'frank': '55'}\n",
      "{}\n"
     ]
    }
   ],
   "source": [
    "# Dictionaries - get attributes & methods & try them out\n",
    "\n",
    "my_dictionary = {'bob': '11','julian':'22','tim':'33','sara':'44'}\n",
    "\n",
    "print(f\"{dir(my_dictionary)}\", end='\\n\\n')\n",
    "print(f\"{[attr for attr in dir(my_dictionary)]}\", end='\\n\\n')\n",
    "print([attr for attr in dir(my_dictionary) if not attr.startswith('__')])\n",
    "\n",
    "print(f\"Keys : {my_dictionary.keys()}\")\n",
    "print(f\"Values : {my_dictionary.values()}\")\n",
    "print(f\"Items : {my_dictionary.items()}\")\n",
    "print(f\"Get bob : {my_dictionary.get('bob')}\")\n",
    "print(f\"Get bob boolean: {my_dictionary.get('bob') is not None}\")\n",
    "print(f\"Get bob2 boolean: {my_dictionary.get('bob2') is not None}\")\n",
    "# remove tim with pop\n",
    "my_dictionary.pop('tim')\n",
    "print(f\"Tim popped : {my_dictionary.items()}\")\n",
    "# pop & retrieve item popped\n",
    "popped_item = my_dictionary.popitem()\n",
    "print(f\"First item popped : {popped_item}\")\n",
    "# update with new value\n",
    "my_dictionary.update({'frank':'55'})\n",
    "print(f\"Update with Frank : {my_dictionary}\")\n",
    "\n",
    "# clear everything\n",
    "my_dictionary.clear()\n",
    "print(my_dictionary)\n"
   ]
  },
  {
   "cell_type": "code",
   "execution_count": 32,
   "metadata": {},
   "outputs": [
    {
     "data": {
      "text/plain": [
       "10"
      ]
     },
     "execution_count": 32,
     "metadata": {},
     "output_type": "execute_result"
    }
   ],
   "source": [
    "import multiprocessing\n",
    "\n",
    "multiprocessing.cpu_count()"
   ]
  },
  {
   "cell_type": "markdown",
   "metadata": {},
   "source": [
    "# SHORT CIRCUIT"
   ]
  },
  {
   "cell_type": "code",
   "execution_count": 18,
   "metadata": {},
   "outputs": [
    {
     "name": "stdout",
     "output_type": "stream",
     "text": [
      "False\n",
      "False\n",
      "True\n",
      "True\n",
      "0\n",
      "0\n",
      "6\n",
      "3\n",
      "6\n",
      "6\n",
      "odd\n",
      "even\n"
     ]
    }
   ],
   "source": [
    "# Short circuiting\n",
    "\n",
    "# print(1/0 and False) # ZeroDivisionError: division by zero\n",
    "\n",
    "# This is fine due to shortcircuiting - Python only looks at the right operand of a Boolean operator IF it needs it.\n",
    "print(False and 1/0)\n",
    "\n",
    "# strings and ints are always true\n",
    "print(bool(0))\n",
    "print(bool(\"False\"))\n",
    "print(bool(3))\n",
    "\n",
    "# Python returns the last operand it evalutes\n",
    "print(6 and 0)\n",
    "print(0 and 6)\n",
    "print(3 and 6)\n",
    "print(6 and 3)\n",
    "print(0 or 6)\n",
    "print(6 or 3)\n",
    "\n",
    "f = lambda x : x%2 and \"odd\" or \"even\"\n",
    "print(f(15))\n",
    "print(f(20))"
   ]
  },
  {
   "cell_type": "code",
   "execution_count": 19,
   "metadata": {},
   "outputs": [
    {
     "name": "stdout",
     "output_type": "stream",
     "text": [
      "I am Rajesh. Rajesh hero is Major Dutch. Rajesh thinks Major Dutch is the greatest\n"
     ]
    }
   ],
   "source": [
    "# use walrus operator in f-strings\n",
    "\n",
    "my_name = \"Rajesh\"\n",
    "my_hero = \"Major Dutch\"\n",
    "\n",
    "print(f'I am {(me:=my_name)}. {me} hero is {my_hero}. {me} thinks {my_hero} is the greatest')"
   ]
  },
  {
   "cell_type": "code",
   "execution_count": 4,
   "metadata": {},
   "outputs": [
    {
     "name": "stdout",
     "output_type": "stream",
     "text": [
      "Found\n"
     ]
    }
   ],
   "source": [
    "tariffId='101055'\n",
    "my_str='101055,101054,101034'\n",
    "my_tariffs = tuple(my_str.split(','))\n",
    "\n",
    "print(\"Not Found\" if tariffId not in my_tariffs else \"Found\")"
   ]
  },
  {
   "cell_type": "code",
   "execution_count": 4,
   "metadata": {},
   "outputs": [
    {
     "name": "stdout",
     "output_type": "stream",
     "text": [
      "{1: 'yes', 2: 'No'}\n",
      "yes\n",
      "No\n"
     ]
    }
   ],
   "source": [
    "myDict={\n",
    "    1:\"yes\",\n",
    "    2:\"No\"\n",
    "}\n",
    "print(myDict)\n",
    "print(myDict[1])\n",
    "print(myDict[2])"
   ]
  },
  {
   "cell_type": "code",
   "execution_count": 1,
   "metadata": {},
   "outputs": [],
   "source": [
    "thisdict = {\n",
    "  \"brand\": \"Ford\",\n",
    "  \"model\": \"Mustang\",\n",
    "  \"year\": 1964\n",
    "}"
   ]
  },
  {
   "cell_type": "code",
   "execution_count": 2,
   "metadata": {},
   "outputs": [
    {
     "name": "stdout",
     "output_type": "stream",
     "text": [
      "brand\n",
      "model\n",
      "year\n"
     ]
    }
   ],
   "source": [
    "for item in thisdict:\n",
    "    print(f\"{item}\")"
   ]
  },
  {
   "cell_type": "code",
   "execution_count": 3,
   "metadata": {},
   "outputs": [
    {
     "name": "stdout",
     "output_type": "stream",
     "text": [
      "('brand', 'Ford')\n",
      "('model', 'Mustang')\n",
      "('year', 1964)\n"
     ]
    }
   ],
   "source": [
    "for item in thisdict.items():\n",
    "    print(f\"{item}\")"
   ]
  },
  {
   "cell_type": "code",
   "execution_count": 4,
   "metadata": {},
   "outputs": [
    {
     "name": "stdout",
     "output_type": "stream",
     "text": [
      "brand --> Ford\n",
      "model --> Mustang\n",
      "year --> 1964\n"
     ]
    }
   ],
   "source": [
    "for name,value in thisdict.items():\n",
    "    print(f\"{name} --> {value}\")"
   ]
  },
  {
   "cell_type": "code",
   "execution_count": 15,
   "metadata": {},
   "outputs": [
    {
     "name": "stdout",
     "output_type": "stream",
     "text": [
      "1 --> brand --> Ford\n",
      "2 --> model --> Mustang\n",
      "3 --> year --> 1964\n"
     ]
    }
   ],
   "source": [
    "for count,(name,value) in enumerate(thisdict.items()):\n",
    "    print(f\"{count+1} --> {name} --> {value}\")"
   ]
  },
  {
   "cell_type": "code",
   "execution_count": 25,
   "metadata": {},
   "outputs": [
    {
     "name": "stdout",
     "output_type": "stream",
     "text": [
      "{'voucherId': 'VID001', 'accNum': '1234567', 'lineno': '8901234'}\n",
      "{\"voucherId\": \"VID001\", \"accNum\": \"1234567\", \"lineno\": \"8901234\"}\n"
     ]
    }
   ],
   "source": [
    "import json\n",
    "\n",
    "data={\n",
    "    \"voucherId\":\"VID001\",\n",
    "    \"accNum\" : \"1234567\",\n",
    "#     \"lineno\" : \"8901234\"\n",
    "    \"lineno\" : \"8901234\"\n",
    "}\n",
    "jdata=json.dumps(data)\n",
    "print(f\"{data}\")\n",
    "print(f\"{jdata}\")\n",
    "# print(f\"{jdata.voucherId} - {jdata.accNum} - {jdata.lineno}\")"
   ]
  },
  {
   "cell_type": "code",
   "execution_count": 3,
   "metadata": {
    "scrolled": true
   },
   "outputs": [
    {
     "name": "stdout",
     "output_type": "stream",
     "text": [
      "00\n"
     ]
    }
   ],
   "source": [
    "in_json={\n",
    "   \"pco_authenticateuipath_url\":\"https://devuipath.internal.spark.co.nz/api/Account/Authenticate\",\n",
    "   \"pco_putmessage_url\":\"https://devuipath.internal.spark.co.nz/odata/Queues/UiPathODataSvc.AddQueueItem\",\n",
    "   \"uploadEmailAttachments_url_v2\":\"http://mailservice-ramses.dev.ocp.internal.spark.co.nz/api/v2/uploadAttachment\",\n",
    "   \"sendEmail_url_v2\":\"http://mailservice-ramses.dev.ocp.internal.spark.co.nz/api/v2/sendEmail\",\n",
    "   \"BidagwP_ORACLEDB\":{\n",
    "      \"name\":\"BidagwP_ORACLEDB\",\n",
    "      \"username\":\"probe_ro\",\n",
    "      \"password\":\"gAAAAABgJDooS17JNyma9hIZ8gfuwb9dkWrb-J9s2z1r5IiFr6sR4U1uqiNKsRX_TuVnRXHyRAjvMmruNxd2AxM9LLvnaqWHGjB55FokvHuAGcS3RyKiTxI=\",\n",
    "      \"host\":\"capobig06\",\n",
    "      \"port\":1554,\n",
    "      \"service\":\"BidagwP\",\n",
    "      \"lastUpdatedDate\":{\n",
    "         \"$date\":1612986920658\n",
    "      }\n",
    "   },\n",
    "   \"DB\":{\n",
    "      \"name\":\"Automation_MongoDB\",\n",
    "      \"username\":\"admin\",\n",
    "      \"password\":\"gAAAAABf_7rKYQWT7qxxlCmW4Epoa1qooCFWhqZLA_YFjcVfXn-gORbYd1vE1t162H-VkZSSwfvzLVfjbs1uClk_CAjAqObKBQ==\",\n",
    "      \"host\":\"chilaut02.telecom.tcnz.net\",\n",
    "      \"port\":27017,\n",
    "      \"service\":\"chilaut02.telecom.tcnz.net\",\n",
    "      \"lastUpdatedDate\":{\n",
    "         \"$date\":1592871914254\n",
    "      }\n",
    "   },\n",
    "   \"EDW_DB2DB\":{\n",
    "      \"name\":\"EDW_DB2DB\",\n",
    "      \"username\":\"t966957\",\n",
    "      \"password\":\"gAAAAABgJDonnADgtNOv9bTeVee7B5HFOjpffb6oK4WRpeXTzXvO-umznH0G7cliWVoJi4IxqLePM32LjxfeB-NOMlDF1uvkvA==\",\n",
    "      \"host\":\"PDOAPROD\",\n",
    "      \"port\":50000,\n",
    "      \"service\":\"NA\",\n",
    "      \"lastUpdatedDate\":{\n",
    "         \"$date\":1612986919958\n",
    "      }\n",
    "   },\n",
    "   \"Automation_MongoDB\":{\n",
    "      \"name\":\"Automation_MongoDB\",\n",
    "      \"username\":\"admin\",\n",
    "      \"password\":\"gAAAAABf_7rKYQWT7qxxlCmW4Epoa1qooCFWhqZLA_YFjcVfXn-gORbYd1vE1t162H-VkZSSwfvzLVfjbs1uClk_CAjAqObKBQ==\",\n",
    "      \"host\":\"chilaut02.telecom.tcnz.net\",\n",
    "      \"port\":27017,\n",
    "      \"service\":\"chilaut02.telecom.tcnz.net\",\n",
    "      \"lastUpdatedDate\":{\n",
    "         \"$date\":1592871914254\n",
    "      }\n",
    "   },\n",
    "   \"EDWSQL_getresponsibleperson\":\"select PERSON_RESPONSIBLE from EDWP_D2PM.SAP_WBS_ELEMENTS where WBSE_CODE = ? and Delete_Flag = 'C' order by insert_timestamp desc\",\n",
    "   \"BidagwPSQL_getactivitytypecostrate\":\"select EMP_NUMBER,COST_CENTER,ACTIVITY_TYPE,ZTOTHR from V_EMP_ZFACT where EMP_NUMBER like :tnum and Activity_Type like 'G%' order by EMP_Number\",\n",
    "   \"snowsap_uipath_queuename\":\"SNOW_SAP_YPF_QUEUE\",\n",
    "   \"snowsap_uipath_wbsequeuename\":\"SNOW_SAP_WBSE_QUEUE\",\n",
    "   \"pco_uipath_username\":\"Admin\",\n",
    "   \"pco_uipath_password\":\"MXNRwexx2\",\n",
    "   \"pco_uipath_tenancyname\":\"Development\",\n",
    "   \"from_email_id\":\"automationinbox@spark.co.nz\",\n",
    "   \"snowsap_to_email\":\"Rajesh.Babu@spark.co.nz\",\n",
    "   \"snowsap_cc_email\":\"Rajesh.Babu@spark.co.nz,Sudha.Sachidanandam@spark.co.nz\",\n",
    "   \"snowsap_email_template\":\"SNOW_SAP_WBSE_REPORT\",\n",
    "   \"new\":\"new\",\n",
    "   \"automated\":\"automated\",\n",
    "   \"snowsap_day\":\"00\",\n",
    "   \"snowsap_getdata_start_hour\":\"08\",\n",
    "   \"snowsap_getdata_start_minute\":\"00\",\n",
    "   \"snowsap_sendreport_start_hour\":\"08\",\n",
    "   \"snowsap_sendreport_start_minute\":\"20\"\n",
    "}\n",
    "\n",
    "print(in_json['snowsap_day'])"
   ]
  },
  {
   "cell_type": "code",
   "execution_count": 24,
   "metadata": {},
   "outputs": [
    {
     "name": "stdout",
     "output_type": "stream",
     "text": [
      "1\n",
      "0123456\n"
     ]
    }
   ],
   "source": [
    "lineno=\"123456\"\n",
    "print(lineno[0])\n",
    "lineno = lineno if lineno[0] == \"0\" else f\"0{lineno}\" \n",
    "print(lineno)"
   ]
  },
  {
   "cell_type": "code",
   "execution_count": 45,
   "metadata": {},
   "outputs": [
    {
     "name": "stdout",
     "output_type": "stream",
     "text": [
      "<class 'set'>\n",
      "NOT None processing of {None}\n",
      "<class 'NoneType'>\n",
      "None processing of None\n",
      "<class 'str'>\n",
      "NOT None processing of \"None\"\n"
     ]
    }
   ],
   "source": [
    "my_str={None}\n",
    "print(type(my_str))\n",
    "if my_str == None :\n",
    "    print(f\"None processing of {my_str}\")\n",
    "else :\n",
    "    print(f\"NOT None processing of {my_str}\")\n",
    "\n",
    "my_str=None\n",
    "print(type(my_str))\n",
    "if my_str == None :\n",
    "    print(f\"None processing of {my_str}\")\n",
    "else :\n",
    "    print(f\"NOT None processing of {my_str}\")\n",
    "\n",
    "import json\n",
    "my_str=json.dumps(\"None\")\n",
    "print(type(my_str))\n",
    "if my_str == \"None\" :\n",
    "    print(f\"None processing of {my_str}\")\n",
    "else :\n",
    "    print(f\"NOT None processing of {my_str}\")\n",
    "    "
   ]
  },
  {
   "cell_type": "code",
   "execution_count": 4,
   "metadata": {},
   "outputs": [
    {
     "name": "stdout",
     "output_type": "stream",
     "text": [
      "Number is 42\n",
      "If I add 3 to 42, I get num + 3 = 45\n"
     ]
    }
   ],
   "source": [
    "num = 42\n",
    "\n",
    "print(f\"Number is {num}\")\n",
    "\n",
    "print(f\"If I add 3 to {num}, I get {num + 3 = }\")"
   ]
  },
  {
   "cell_type": "code",
   "execution_count": null,
   "metadata": {},
   "outputs": [],
   "source": []
  },
  {
   "cell_type": "markdown",
   "metadata": {},
   "source": [
    "# Itertools"
   ]
  },
  {
   "cell_type": "markdown",
   "metadata": {},
   "source": [
    "### cycle"
   ]
  },
  {
   "cell_type": "code",
   "execution_count": 10,
   "metadata": {},
   "outputs": [
    {
     "name": "stdout",
     "output_type": "stream",
     "text": [
      "['Red', 'Green', 'Amber']\n",
      "<itertools.cycle object at 0x0000016A67090AF8>\n",
      "Red\n",
      "Green\n",
      "Amber\n",
      "Red\n",
      "Green\n",
      "Amber\n"
     ]
    }
   ],
   "source": [
    "from itertools import cycle\n",
    "lights = \"Red Green Amber\".split()\n",
    "print(lights)\n",
    "states=cycle(lights)\n",
    "print(states)\n",
    "print(next(states))\n",
    "print(next(states))\n",
    "print(next(states))\n",
    "print(next(states))\n",
    "print(next(states))\n",
    "print(next(states))"
   ]
  },
  {
   "cell_type": "code",
   "execution_count": 5,
   "metadata": {},
   "outputs": [
    {
     "name": "stdout",
     "output_type": "stream",
     "text": [
      "['foo', 'bar', 0, 1, 2, 3, 4, 'cmd', 'ls -lrt']\n"
     ]
    }
   ],
   "source": [
    "from itertools import chain\n",
    "\n",
    "my_list = ['foo','bar']\n",
    "numbers_list = list(range(5))\n",
    "cmd_list = ['cmd', 'ls -lrt']\n",
    "\n",
    "print(list(chain(my_list,numbers_list,cmd_list)))"
   ]
  },
  {
   "cell_type": "code",
   "execution_count": 31,
   "metadata": {},
   "outputs": [
    {
     "name": "stdout",
     "output_type": "stream",
     "text": [
      "['A']\n",
      "['B']\n",
      "['C']\n",
      "['D']\n",
      "['E']\n",
      "['F']\n",
      "['G']\n",
      "['H']\n",
      "['I']\n",
      "['J']\n",
      "['K']\n",
      "['L']\n",
      "['M']\n",
      "['N']\n",
      "['O']\n",
      "['P']\n",
      "['Q']\n",
      "['R']\n",
      "['S']\n",
      "['T']\n"
     ]
    }
   ],
   "source": [
    "from itertools import cycle\n",
    "from string import ascii_uppercase\n",
    "\n",
    "chars = cycle(ascii_uppercase)\n",
    "for _ in range(20):\n",
    " print([x for x in next(chars)])"
   ]
  },
  {
   "cell_type": "code",
   "execution_count": 12,
   "metadata": {},
   "outputs": [
    {
     "name": "stdout",
     "output_type": "stream",
     "text": [
      "['380 Driving Creek Road', 'Coromandel', '3506']\n"
     ]
    },
    {
     "data": {
      "text/plain": [
       "['Coromandel']"
      ]
     },
     "execution_count": 12,
     "metadata": {},
     "output_type": "execute_result"
    }
   ],
   "source": [
    "list_1 = ['380 Driving Creek Road', ' Coromandel', ' 3506'] \n",
    "list_2 = ['Coromandel']\n",
    "stripped_list=[place.strip(' ') for place in list_1]\n",
    "print(stripped_list)\n",
    "[i for i in stripped_list if i in list_2]"
   ]
  },
  {
   "cell_type": "markdown",
   "metadata": {},
   "source": [
    "### Count"
   ]
  },
  {
   "cell_type": "code",
   "execution_count": 214,
   "metadata": {},
   "outputs": [
    {
     "name": "stdout",
     "output_type": "stream",
     "text": [
      "20\n",
      "21\n",
      "22\n",
      "23\n",
      "24\n"
     ]
    }
   ],
   "source": [
    "from itertools import count\n",
    "counter=count(20)\n",
    "print(next(counter))\n",
    "print(next(counter))\n",
    "print(next(counter))\n",
    "print(next(counter))\n",
    "print(next(counter))\n"
   ]
  },
  {
   "cell_type": "markdown",
   "metadata": {},
   "source": [
    "### accumulate"
   ]
  },
  {
   "cell_type": "code",
   "execution_count": 2,
   "metadata": {},
   "outputs": [
    {
     "name": "stdout",
     "output_type": "stream",
     "text": [
      "<itertools.accumulate object at 0x000002254EC68D88>\n",
      "[10, 30, 60, 100, 150, 210, 280]\n"
     ]
    }
   ],
   "source": [
    "from itertools import accumulate\n",
    "\n",
    "sales=[10,20,30,40,50,60,70]\n",
    "print(accumulate(sales))\n",
    "print(list(accumulate(sales)))"
   ]
  },
  {
   "cell_type": "markdown",
   "metadata": {},
   "source": [
    "### product"
   ]
  },
  {
   "cell_type": "code",
   "execution_count": 4,
   "metadata": {},
   "outputs": [
    {
     "name": "stdout",
     "output_type": "stream",
     "text": [
      "1-A\n",
      "1-B\n",
      "1-C\n",
      "2-A\n",
      "2-B\n",
      "2-C\n",
      "3-A\n",
      "3-B\n",
      "3-C\n",
      "4-A\n",
      "4-B\n",
      "4-C\n"
     ]
    }
   ],
   "source": [
    "# Without product\n",
    "for i in range(1,5):\n",
    "    for j in 'ABC':\n",
    "        print(f\"{i}-{j}\")"
   ]
  },
  {
   "cell_type": "code",
   "execution_count": 5,
   "metadata": {},
   "outputs": [
    {
     "name": "stdout",
     "output_type": "stream",
     "text": [
      "1-A\n",
      "1-B\n",
      "1-C\n",
      "2-A\n",
      "2-B\n",
      "2-C\n",
      "3-A\n",
      "3-B\n",
      "3-C\n",
      "4-A\n",
      "4-B\n",
      "4-C\n"
     ]
    }
   ],
   "source": [
    "from itertools import product\n",
    "# With product\n",
    "for (i,j) in product(range(1,5),'ABC'):\n",
    "    print(f\"{i}-{j}\")"
   ]
  },
  {
   "cell_type": "markdown",
   "metadata": {},
   "source": [
    "### Rock,Paper,Scissors with itertools"
   ]
  },
  {
   "cell_type": "code",
   "execution_count": 6,
   "metadata": {},
   "outputs": [
    {
     "data": {
      "text/plain": [
       "[('rock', 'rock'),\n",
       " ('rock', 'paper'),\n",
       " ('rock', 'scissors'),\n",
       " ('rock', 'lizard'),\n",
       " ('rock', 'spock'),\n",
       " ('paper', 'rock'),\n",
       " ('paper', 'paper'),\n",
       " ('paper', 'scissors'),\n",
       " ('paper', 'lizard'),\n",
       " ('paper', 'spock'),\n",
       " ('scissors', 'rock'),\n",
       " ('scissors', 'paper'),\n",
       " ('scissors', 'scissors'),\n",
       " ('scissors', 'lizard'),\n",
       " ('scissors', 'spock'),\n",
       " ('lizard', 'rock'),\n",
       " ('lizard', 'paper'),\n",
       " ('lizard', 'scissors'),\n",
       " ('lizard', 'lizard'),\n",
       " ('lizard', 'spock'),\n",
       " ('spock', 'rock'),\n",
       " ('spock', 'paper'),\n",
       " ('spock', 'scissors'),\n",
       " ('spock', 'lizard'),\n",
       " ('spock', 'spock')]"
      ]
     },
     "execution_count": 6,
     "metadata": {},
     "output_type": "execute_result"
    }
   ],
   "source": [
    "from itertools import product\n",
    "rolls = ['rock','paper','scissors','lizard','spock']\n",
    "product(rolls, repeat=2)\n",
    "list(product(rolls, repeat=2))\n"
   ]
  },
  {
   "cell_type": "markdown",
   "metadata": {},
   "source": [
    "### itertools - groupby"
   ]
  },
  {
   "cell_type": "code",
   "execution_count": 16,
   "metadata": {},
   "outputs": [
    {
     "name": "stdout",
     "output_type": "stream",
     "text": [
      "DE - ['DE123456789']\n",
      "AT - ['ATU99999999', 'ATU00000000']\n",
      "BG - ['BG999999999']\n",
      "IT - ['IT12345678900']\n",
      "DE - ['DE987654321']\n"
     ]
    }
   ],
   "source": [
    "from itertools import groupby\n",
    "import re\n",
    "\n",
    "tax_ids = [\n",
    "    'DE123456789',\n",
    "    'ATU99999999',\n",
    "    'ATU00000000',\n",
    "    'BG999999999',\n",
    "    'IT12345678900',\n",
    "    'DE987654321'\n",
    "]\n",
    "\n",
    "grouped_tax_ids = groupby(\n",
    "    tax_ids,\n",
    "    key=lambda tax_id: re.match(r'[A-Z]{2}', tax_id).group()\n",
    ")\n",
    "\n",
    "for country, country_tax_ids in grouped_tax_ids:\n",
    "    print(f\"{country} - {list(country_tax_ids)}\")"
   ]
  },
  {
   "cell_type": "markdown",
   "metadata": {},
   "source": [
    "### takewhile\n",
    "itertools.takewhile takes items from an iterable until a specified condition becomes false. \n",
    "\n",
    "Here this is the character \"c\" based on the predicate we defined (test_func)."
   ]
  },
  {
   "cell_type": "code",
   "execution_count": 21,
   "metadata": {},
   "outputs": [
    {
     "name": "stdout",
     "output_type": "stream",
     "text": [
      "['1', 'a', '2', 'b', '3', 'c', '4']\n"
     ]
    }
   ],
   "source": [
    "from itertools import takewhile\n",
    "\n",
    "s = \"1a2b3c4d5e6f\"\n",
    "\n",
    "def test_func(ch):\n",
    "    return ch.isdigit() or ch in \"abc\"\n",
    "\n",
    "print(f\"{list(takewhile(test_func, s))}\")"
   ]
  },
  {
   "cell_type": "markdown",
   "metadata": {},
   "source": [
    "#### Exception Handling"
   ]
  },
  {
   "cell_type": "code",
   "execution_count": 12,
   "metadata": {},
   "outputs": [
    {
     "name": "stdout",
     "output_type": "stream",
     "text": [
      "win32\n",
      "This code runs on linux only.\n"
     ]
    }
   ],
   "source": [
    "import sys\n",
    "\n",
    "try :\n",
    "    print(sys.platform)\n",
    "    assert('linux' in sys.platform),\"This code runs on linux only.\"\n",
    "except Exception as err:\n",
    "    print(err)"
   ]
  },
  {
   "cell_type": "code",
   "execution_count": 15,
   "metadata": {},
   "outputs": [
    {
     "name": "stdout",
     "output_type": "stream",
     "text": [
      "[Errno 2] No such file or directory: 'file.log'\n"
     ]
    }
   ],
   "source": [
    "try :\n",
    "    with open('file.log') as my_file:\n",
    "        read_data = my_file.read()\n",
    "except FileNotFoundError as fnf_error:\n",
    "    print(fnf_error)"
   ]
  },
  {
   "cell_type": "code",
   "execution_count": 27,
   "metadata": {},
   "outputs": [
    {
     "name": "stdout",
     "output_type": "stream",
     "text": [
      "Toodle OO!\n"
     ]
    }
   ],
   "source": [
    "try :\n",
    "   raise Exception(\"Thi is a test\")\n",
    "except Exception as e:\n",
    "    if \"This is a test\" in getattr(e, 'message', repr(e)) :\n",
    "        print(e)\n",
    "    else :\n",
    "        print(\"Toodle OO!\")"
   ]
  },
  {
   "cell_type": "code",
   "execution_count": 62,
   "metadata": {},
   "outputs": [
    {
     "name": "stdout",
     "output_type": "stream",
     "text": [
      "win32\n",
      "In God We Trust! All others must pay in cash\n",
      "In God we Trust!\n"
     ]
    }
   ],
   "source": [
    "import sys\n",
    "\n",
    "try :\n",
    "    print(sys.platform)\n",
    "    assert('win' in sys.platform), \"This code runs in windows only\"\n",
    "    \n",
    "    print(\"In God We Trust! All others must pay in cash\")\n",
    "except AssertionError as err:\n",
    "    print(err)\n",
    "else :\n",
    "    print(\"In God we Trust!\")"
   ]
  },
  {
   "cell_type": "code",
   "execution_count": 64,
   "metadata": {},
   "outputs": [
    {
     "name": "stdout",
     "output_type": "stream",
     "text": [
      "win32\n",
      "Got past the assertion in try\n",
      "[Errno 2] No such file or directory: 'filwe.log'\n",
      "Cleaning up finally\n"
     ]
    }
   ],
   "source": [
    "import sys\n",
    "\n",
    "try :\n",
    "    print(sys.platform)\n",
    "    assert('win' in sys.platform), \"This code runs in windows only\"\n",
    "    print(\"Got past the assertion in try\")\n",
    "except AssertionError as err:\n",
    "    print(err)\n",
    "else:\n",
    "    try : \n",
    "        with open('filwe.log') as myfile:\n",
    "            read_data = myfile.read()\n",
    "    except FileNotFoundError as fnf_err:\n",
    "        print(fnf_err)\n",
    "finally:\n",
    "    print(\"Cleaning up finally\")\n",
    "        "
   ]
  },
  {
   "cell_type": "code",
   "execution_count": 67,
   "metadata": {},
   "outputs": [
    {
     "name": "stderr",
     "output_type": "stream",
     "text": [
      "ERROR:root:invalid literal for int() with base 10: 'foo'\n",
      "ERROR:root:Caught an error\n",
      "Traceback (most recent call last):\n",
      "  File \"<ipython-input-67-32d4ee31e6b0>\", line 7, in <module>\n",
      "    x=get_number()\n",
      "  File \"<ipython-input-67-32d4ee31e6b0>\", line 4, in get_number\n",
      "    return int('foo')\n",
      "ValueError: invalid literal for int() with base 10: 'foo'\n"
     ]
    }
   ],
   "source": [
    "import logging\n",
    "\n",
    "def get_number():\n",
    "    return int('foo')\n",
    "\n",
    "try:\n",
    "    x=get_number()\n",
    "    print(x)\n",
    "except Exception as err:\n",
    "    logging.error(err)\n",
    "    logging.exception('Caught an error')"
   ]
  },
  {
   "cell_type": "code",
   "execution_count": 75,
   "metadata": {},
   "outputs": [
    {
     "name": "stdout",
     "output_type": "stream",
     "text": [
      "Traceback (most recent call last):\n",
      "  File \"<ipython-input-75-e384d93dcdad>\", line 15, in <module>\n",
      "    x=get_number()\n",
      "  File \"<ipython-input-75-e384d93dcdad>\", line 4, in get_number\n",
      "    return int('foo')\n",
      "ValueError: invalid literal for int() with base 10: 'foo'\n",
      "\n"
     ]
    }
   ],
   "source": [
    "import traceback\n",
    "\n",
    "def get_number():\n",
    "    return int('foo')\n",
    "\n",
    "    \n",
    "def log_traceback(err):\n",
    "    tb_lines = traceback.format_exception(err.__class__, err, err.__traceback__)\n",
    "    tb_text = ''.join(tb_lines)\n",
    "    \n",
    "#     exception_logger.log(tb_text)\n",
    "    print(tb_text)\n",
    "\n",
    "try :\n",
    "    x=get_number()\n",
    "    print(x)\n",
    "except Exception as err:\n",
    "    log_traceback(err)"
   ]
  },
  {
   "cell_type": "markdown",
   "metadata": {},
   "source": [
    "### NamedTuple\n",
    "##### https://realpython.com/python-namedtuple/"
   ]
  },
  {
   "cell_type": "markdown",
   "metadata": {},
   "source": [
    "#### Simple point"
   ]
  },
  {
   "cell_type": "code",
   "execution_count": 43,
   "metadata": {},
   "outputs": [
    {
     "name": "stdout",
     "output_type": "stream",
     "text": [
      "Point(x=2, y=4)\n",
      "2\n",
      "4\n",
      "2\n"
     ]
    }
   ],
   "source": [
    "from collections import namedtuple\n",
    "\n",
    "Point = namedtuple(\"Point\", \"x y\")\n",
    "\n",
    "point = Point(2,4)\n",
    "\n",
    "print(point)\n",
    "print(point.x)\n",
    "print(point.y)\n",
    "\n",
    "print(point[0])"
   ]
  },
  {
   "cell_type": "markdown",
   "metadata": {},
   "source": [
    "#### People & children"
   ]
  },
  {
   "cell_type": "code",
   "execution_count": 111,
   "metadata": {},
   "outputs": [
    {
     "name": "stdout",
     "output_type": "stream",
     "text": [
      "Person(name='John Doe', children=['Jimmy Doe', 'Johnny Doe'])\n",
      "John Doe ['Jimmy Doe', 'Johnny Doe']\n",
      "['Jimmy Doe', 'Johnny Doe']\n",
      "['Jimmy Doe', 'Johnny Doe', 'Tina Doe']\n",
      "Johnny Doe\n"
     ]
    }
   ],
   "source": [
    "from collections import namedtuple\n",
    "\n",
    "Person = namedtuple(\"Person\", \"name children\")\n",
    "\n",
    "john = Person(\"John Doe\", ['Jimmy Doe', 'Johnny Doe'])\n",
    "\n",
    "print(john)\n",
    "\n",
    "print(*john)\n",
    "print(john.children)\n",
    "john.children.append('Tina Doe')\n",
    "print(john.children)\n",
    "print(john.children[1])"
   ]
  },
  {
   "cell_type": "markdown",
   "metadata": {},
   "source": [
    "#### ways to pass typename & field_names"
   ]
  },
  {
   "cell_type": "code",
   "execution_count": 57,
   "metadata": {},
   "outputs": [
    {
     "name": "stdout",
     "output_type": "stream",
     "text": [
      "<class '__main__.Point'>\n",
      "Point(x=2, y=4)\n",
      "<class '__main__.Point'>\n",
      "Point(x=4, y=8)\n",
      "<class '__main__.Point'>\n",
      "Point(x=8, y=16)\n"
     ]
    }
   ],
   "source": [
    "from collections import namedtuple\n",
    "\n",
    "# A list of strings for the field names\n",
    "Point = namedtuple(\"Point\", [\"x\", \"y\"])\n",
    "print(Point)\n",
    "\n",
    "print(Point(2, 4))\n",
    "\n",
    "\n",
    "# A string with comma-separated field names\n",
    "Point = namedtuple(\"Point\", \"x, y\")\n",
    "print(Point)\n",
    "\n",
    "print(Point(4, 8))\n",
    "\n",
    "\n",
    "# A generator expression for the field names\n",
    "Point = namedtuple(\"Point\", (field for field in \"xy\"))\n",
    "print(Point)\n",
    "\n",
    "print(Point(8, 16))\n"
   ]
  },
  {
   "cell_type": "markdown",
   "metadata": {},
   "source": [
    "#### Dont use unordered iteratbles for field_names"
   ]
  },
  {
   "cell_type": "code",
   "execution_count": 61,
   "metadata": {},
   "outputs": [
    {
     "name": "stdout",
     "output_type": "stream",
     "text": [
      "Point(y=2, x=3)\n"
     ]
    }
   ],
   "source": [
    "from collections import namedtuple\n",
    "\n",
    "Point = namedtuple(\"Point\",{\"x\",\"y\"})\n",
    "\n",
    "my_point = Point(2,3)\n",
    "print(my_point)"
   ]
  },
  {
   "cell_type": "markdown",
   "metadata": {},
   "source": [
    "#### Dictionary can be used to initialise field_name values"
   ]
  },
  {
   "cell_type": "code",
   "execution_count": 67,
   "metadata": {},
   "outputs": [
    {
     "name": "stdout",
     "output_type": "stream",
     "text": [
      "Point(x=2, y=4)\n"
     ]
    }
   ],
   "source": [
    "from collections import namedtuple\n",
    "\n",
    "Point = namedtuple(\"Point\", \"x,y\")\n",
    "\n",
    "points_dict = {\"x\":2, \"y\":4}\n",
    "\n",
    "my_point = Point(**points_dict)\n",
    "print(my_point)\n",
    "\n"
   ]
  },
  {
   "cell_type": "markdown",
   "metadata": {},
   "source": [
    "##### the namedtuple() factory function also takes the following optional arguments:\n",
    "rename\n",
    "defaults\n",
    "module"
   ]
  },
  {
   "cell_type": "markdown",
   "metadata": {},
   "source": [
    "##### defaults"
   ]
  },
  {
   "cell_type": "code",
   "execution_count": 71,
   "metadata": {},
   "outputs": [
    {
     "name": "stdout",
     "output_type": "stream",
     "text": [
      "Profile(name='John', grade='Junior', lang='Python')\n",
      "Profile(name='', grade='Junior', lang='Python')\n"
     ]
    }
   ],
   "source": [
    "from collections import namedtuple\n",
    "\n",
    "Profile = namedtuple(\"Profile\",\"name, grade, lang\", defaults=[\"Junior\", \"Python\"])\n",
    "\n",
    "john = Profile(\"John\")\n",
    "print(john)\n",
    "john = Profile(\"\")\n",
    "print(john)\n"
   ]
  },
  {
   "cell_type": "markdown",
   "metadata": {},
   "source": [
    "##### module - this is used for pickling if necessary"
   ]
  },
  {
   "cell_type": "code",
   "execution_count": 75,
   "metadata": {},
   "outputs": [
    {
     "name": "stdout",
     "output_type": "stream",
     "text": [
      "Person(name='John', age='12', job='Engineer')\n",
      "customperson\n"
     ]
    }
   ],
   "source": [
    "from collections import namedtuple\n",
    "\n",
    "Person = namedtuple(\"Person\", \"name age job\", module=\"customperson\")\n",
    "\n",
    "john = Person(\"John\",\"12\", \"Engineer\")\n",
    "\n",
    "print(john)\n",
    "print(john.__module__)"
   ]
  },
  {
   "cell_type": "markdown",
   "metadata": {},
   "source": [
    "##### rename"
   ]
  },
  {
   "cell_type": "code",
   "execution_count": 88,
   "metadata": {},
   "outputs": [
    {
     "name": "stdout",
     "output_type": "stream",
     "text": [
      "Person(name='John Doe', _1='30', job='Engineer')\n"
     ]
    }
   ],
   "source": [
    "from collections import namedtuple\n",
    "\n",
    "def get_column_names()-> str:\n",
    "    return \"name, _age, job\"\n",
    "\n",
    "# This wil return valueError: Field names cannot start with an underscore: '_age'\n",
    "# Person = namedtuple(\"Person\", get_column_names())\n",
    "Person = namedtuple(\"Person\", get_column_names(), rename=True)\n",
    "john = Person(\"John Doe\", \"30\", \"Engineer\")\n",
    "print(john)\n",
    "\n"
   ]
  },
  {
   "cell_type": "markdown",
   "metadata": {},
   "source": [
    "### Additional features"
   ]
  },
  {
   "cell_type": "markdown",
   "metadata": {},
   "source": [
    "#### Creating namedtuple Instances From Iterables"
   ]
  },
  {
   "cell_type": "code",
   "execution_count": 91,
   "metadata": {},
   "outputs": [
    {
     "name": "stdout",
     "output_type": "stream",
     "text": [
      "Person(name='John Doe', age='12', job='Engineer')\n"
     ]
    }
   ],
   "source": [
    "from collections import namedtuple\n",
    "\n",
    "Person = namedtuple(\"Person\", \"name age job\")\n",
    "\n",
    "# Will give TypeError: <lambda>() missing 2 required positional arguments: 'age' and 'job'\n",
    "# john = Person(['John Doe', '12', 'Engineer'])\n",
    "\n",
    "john = Person._make(['John Doe', '12', 'Engineer'])\n",
    "print(john)"
   ]
  },
  {
   "cell_type": "markdown",
   "metadata": {},
   "source": [
    "##### Converting namedtuple Instances Into Dictionaries"
   ]
  },
  {
   "cell_type": "code",
   "execution_count": 94,
   "metadata": {},
   "outputs": [
    {
     "name": "stdout",
     "output_type": "stream",
     "text": [
      "<bound method Person._asdict of Person(name='John Doe', age='12', job='Engineer')>\n",
      "{'name': 'John Doe', 'age': '12', 'job': 'Engineer'}\n"
     ]
    }
   ],
   "source": [
    "from collections import namedtuple\n",
    "\n",
    "Person = namedtuple(\"Person\", \"name age job\")\n",
    "\n",
    "john = Person._make(['John Doe', '12', 'Engineer'])\n",
    "print(john._asdict)\n",
    "\n",
    "jane = Person._make(['Jane Doe', '10', 'Product Owner'])\n",
    "print(john._asdict())"
   ]
  },
  {
   "cell_type": "markdown",
   "metadata": {},
   "source": [
    "##### Replacing Fields in Existing namedtuple Instances"
   ]
  },
  {
   "cell_type": "code",
   "execution_count": 96,
   "metadata": {},
   "outputs": [
    {
     "name": "stdout",
     "output_type": "stream",
     "text": [
      "Person(name='John Doe', age='12', job='Engineer')\n",
      "Person(name='John Doe', age=35, job='Engineer')\n"
     ]
    }
   ],
   "source": [
    "from collections import namedtuple\n",
    "\n",
    "Person = namedtuple(\"Person\", \"name age job\")\n",
    "\n",
    "john = Person._make(['John Doe', '12', 'Engineer'])\n",
    "print(john)\n",
    "john = john._replace(age=35)\n",
    "print(john)"
   ]
  },
  {
   "cell_type": "markdown",
   "metadata": {},
   "source": [
    "##### Create new namedtuple from existing ones"
   ]
  },
  {
   "cell_type": "code",
   "execution_count": 101,
   "metadata": {},
   "outputs": [
    {
     "name": "stdout",
     "output_type": "stream",
     "text": [
      "ExtendedPerson(name='Jane Doe', age=30, height=152, weight=60)\n",
      "30\n"
     ]
    }
   ],
   "source": [
    "from collections import namedtuple\n",
    "\n",
    "Person = namedtuple(\"Person\",\"name age height\")\n",
    "\n",
    "ExtendedPerson = namedtuple(\"ExtendedPerson\", [*Person._fields, \"weight\"])\n",
    "\n",
    "jane = ExtendedPerson(\"Jane Doe\", 30, 152, 60)\n",
    "print(jane)\n",
    "print(jane.age)"
   ]
  },
  {
   "cell_type": "markdown",
   "metadata": {},
   "source": [
    "##### ._fields to iterate over the fields and the values in a given namedtuple instance using Python’s zip()"
   ]
  },
  {
   "cell_type": "code",
   "execution_count": 102,
   "metadata": {},
   "outputs": [
    {
     "name": "stdout",
     "output_type": "stream",
     "text": [
      "name -> Jane\n",
      "age -> 26\n",
      "height -> 1.75\n",
      "weight -> 67\n"
     ]
    }
   ],
   "source": [
    "from collections import namedtuple\n",
    "\n",
    "Person = namedtuple(\"Person\", \"name age height weight\")\n",
    "jane = Person(\"Jane\", 26, 1.75, 67)\n",
    "for field, value in zip(jane._fields, jane):\n",
    "    print(field, \"->\", value)"
   ]
  },
  {
   "cell_type": "code",
   "execution_count": 103,
   "metadata": {},
   "outputs": [
    {
     "data": {
      "text/plain": [
       "{'country': 'Canada'}"
      ]
     },
     "execution_count": 103,
     "metadata": {},
     "output_type": "execute_result"
    }
   ],
   "source": [
    "from collections import namedtuple\n",
    "\n",
    "Person = namedtuple(\n",
    "    \"Person\",\n",
    "    \"name age height weight country\",\n",
    "    defaults=[\"Canada\"]\n",
    ")\n",
    "\n",
    "Person._field_defaults"
   ]
  },
  {
   "cell_type": "markdown",
   "metadata": {},
   "source": [
    "##### Pythonic code using namedtuple - Clarity of return arguments"
   ]
  },
  {
   "cell_type": "code",
   "execution_count": 106,
   "metadata": {},
   "outputs": [
    {
     "name": "stdout",
     "output_type": "stream",
     "text": [
      "(2, 0)\n",
      "DivMod(quotient=2, remainder=0)\n"
     ]
    }
   ],
   "source": [
    "print(divmod(8,4))\n",
    "\n",
    "\n",
    "from collections import namedtuple\n",
    "\n",
    "def custom_divmod(a, b):\n",
    "    DivMod = namedtuple(\"DivMod\", \"quotient remainder\")\n",
    "    return DivMod(*divmod(a, b))\n",
    "\n",
    "\n",
    "print(custom_divmod(8, 4))\n",
    "\n",
    "\n"
   ]
  },
  {
   "cell_type": "markdown",
   "metadata": {},
   "source": [
    "##### Pythonic code using namedtuple - Reducing the Number of Arguments to Functions"
   ]
  },
  {
   "cell_type": "code",
   "execution_count": 107,
   "metadata": {},
   "outputs": [],
   "source": [
    "User = namedtuple(\"User\", \"username client_name plan\")\n",
    "user = User(\"john\", \"John Doe\", \"Premium\")\n",
    "\n",
    "def create_user(db, user):\n",
    "    db.add_user(user.username)\n",
    "    db.complete_user_profile(\n",
    "        user.username,\n",
    "        user.client_name,\n",
    "        user.plan\n",
    "    )"
   ]
  },
  {
   "cell_type": "markdown",
   "metadata": {},
   "source": [
    "## Miscellaneous"
   ]
  },
  {
   "cell_type": "code",
   "execution_count": 36,
   "metadata": {},
   "outputs": [
    {
     "name": "stdout",
     "output_type": "stream",
     "text": [
      "1\n",
      "0\n",
      "2\n"
     ]
    }
   ],
   "source": [
    "null = None\n",
    "\n",
    "# Legacy comes first\n",
    "response = {\"header\":[{\"ACCNUM\":\"733546972\",\"BBSUBIDD\":null,\"CHARGEAGGRID\":\"063465989\",\"CUSNUM\":\"733546956\",\"EMAILID\":\"irene.avison@gmail.com\",\"NAME\":\"Spark Product\",\"OFFERID\":\"sparkproductSPO\",\"OPENORDER\":0,\"PAR_ASSET_ID\":null,\"PRODTYPE\":\"Legacy\",\"PRODUCTID\":\"1-2HKGYIPB\",\"PROD_CD\":\"Product\",\"PROM_INTEG_ID\":null,\"ROOT_ASSET_ID\":\"1-2HKGYIPB\",\"SERVICETYPE\":null,\"VIPDATAPACK\":null},{\"ACCNUM\":\"733546972\",\"BBSUBIDD\":\"1-2HIW8ASV\",\"CHARGEAGGRID\":\"063465989\",\"CUSNUM\":\"733546956\",\"EMAILID\":\"irene.avison@gmail.com\",\"NAME\":\"Unplan Netflix Fibre 100 with Landline Open\",\"OFFERID\":\"bvbundle050900\",\"OPENORDER\":0,\"PAR_ASSET_ID\":null,\"PRODTYPE\":\"Fibre\",\"PRODUCTID\":\"1-2HIW8ASU\",\"PROD_CD\":\"Promotion\",\"PROM_INTEG_ID\":null,\"ROOT_ASSET_ID\":\"1-2HKIKHWU\",\"SERVICETYPE\":null,\"VIPDATAPACK\":null}],\"headercount\":2}\n",
    "index = int([i for (i,item) in enumerate(response['header']) if item['PRODTYPE'] != \"Legacy\"][0])\n",
    "print(index)\n",
    "\n",
    "# Legacy comes second\n",
    "response = {\"header\":[{\"ACCNUM\":\"733546972\",\"BBSUBIDD\":\"1-2HIW8ASV\",\"CHARGEAGGRID\":\"063465989\",\"CUSNUM\":\"733546956\",\"EMAILID\":\"irene.avison@gmail.com\",\"NAME\":\"Unplan Netflix Fibre 100 with Landline Open\",\"OFFERID\":\"bvbundle050900\",\"OPENORDER\":0,\"PAR_ASSET_ID\":null,\"PRODTYPE\":\"Fibre\",\"PRODUCTID\":\"1-2HIW8ASU\",\"PROD_CD\":\"Promotion\",\"PROM_INTEG_ID\":null,\"ROOT_ASSET_ID\":\"1-2HKIKHWU\",\"SERVICETYPE\":null,\"VIPDATAPACK\":null}, {\"ACCNUM\":\"733546972\",\"BBSUBIDD\":null,\"CHARGEAGGRID\":\"063465989\",\"CUSNUM\":\"733546956\",\"EMAILID\":\"irene.avison@gmail.com\",\"NAME\":\"Spark Product\",\"OFFERID\":\"sparkproductSPO\",\"OPENORDER\":0,\"PAR_ASSET_ID\":null,\"PRODTYPE\":\"Legacy\",\"PRODUCTID\":\"1-2HKGYIPB\",\"PROD_CD\":\"Product\",\"PROM_INTEG_ID\":null,\"ROOT_ASSET_ID\":\"1-2HKGYIPB\",\"SERVICETYPE\":null,\"VIPDATAPACK\":null}],\"headercount\":2}\n",
    "index = int([i for (i,item) in enumerate(response['header']) if item['PRODTYPE'] != \"Legacy\"][0])\n",
    "print(index)\n",
    "\n",
    "# Legacy comes first two, three records\n",
    "response = {\"header\":[{\"ACCNUM\":\"733546972\",\"BBSUBIDD\":null,\"CHARGEAGGRID\":\"063465989\",\"CUSNUM\":\"733546956\",\"EMAILID\":\"irene.avison@gmail.com\",\"NAME\":\"Spark Product\",\"OFFERID\":\"sparkproductSPO\",\"OPENORDER\":0,\"PAR_ASSET_ID\":null,\"PRODTYPE\":\"Legacy\",\"PRODUCTID\":\"1-2HKGYIPB\",\"PROD_CD\":\"Product\",\"PROM_INTEG_ID\":null,\"ROOT_ASSET_ID\":\"1-2HKGYIPB\",\"SERVICETYPE\":null,\"VIPDATAPACK\":null},{\"ACCNUM\":\"733546972\",\"BBSUBIDD\":null,\"CHARGEAGGRID\":\"063465989\",\"CUSNUM\":\"733546956\",\"EMAILID\":\"irene.avison@gmail.com\",\"NAME\":\"Spark Product\",\"OFFERID\":\"sparkproductSPO\",\"OPENORDER\":0,\"PAR_ASSET_ID\":null,\"PRODTYPE\":\"Legacy\",\"PRODUCTID\":\"1-2HKGYIPB\",\"PROD_CD\":\"Product\",\"PROM_INTEG_ID\":null,\"ROOT_ASSET_ID\":\"1-2HKGYIPB\",\"SERVICETYPE\":null,\"VIPDATAPACK\":null}, {\"ACCNUM\":\"733546972\",\"BBSUBIDD\":\"1-2HIW8ASV\",\"CHARGEAGGRID\":\"063465989\",\"CUSNUM\":\"733546956\",\"EMAILID\":\"irene.avison@gmail.com\",\"NAME\":\"Unplan Netflix Fibre 100 with Landline Open\",\"OFFERID\":\"bvbundle050900\",\"OPENORDER\":0,\"PAR_ASSET_ID\":null,\"PRODTYPE\":\"Fibre\",\"PRODUCTID\":\"1-2HIW8ASU\",\"PROD_CD\":\"Promotion\",\"PROM_INTEG_ID\":null,\"ROOT_ASSET_ID\":\"1-2HKIKHWU\",\"SERVICETYPE\":null,\"VIPDATAPACK\":null}],\"headercount\":2}\n",
    "index = int([i for (i,item) in enumerate(response['header']) if item['PRODTYPE'] != \"Legacy\"][0])\n",
    "print(index)\n",
    "\n",
    "\n"
   ]
  },
  {
   "cell_type": "code",
   "execution_count": 26,
   "metadata": {},
   "outputs": [
    {
     "data": {
      "text/plain": [
       "'AUTO-SSCREDIT-8f78e50c'"
      ]
     },
     "execution_count": 26,
     "metadata": {},
     "output_type": "execute_result"
    }
   ],
   "source": [
    "import uuid\n",
    "\n",
    "f\"AUTO-SSCREDIT-{str(uuid.uuid4().hex[:8])}\""
   ]
  },
  {
   "cell_type": "code",
   "execution_count": 22,
   "metadata": {},
   "outputs": [
    {
     "data": {
      "text/plain": [
       "'my_func'"
      ]
     },
     "execution_count": 22,
     "metadata": {},
     "output_type": "execute_result"
    }
   ],
   "source": [
    "def my_func()-> None:\n",
    "    print(\"In God We Trust\")\n",
    "    \n",
    "my_func.__name__"
   ]
  },
  {
   "cell_type": "code",
   "execution_count": 6,
   "metadata": {},
   "outputs": [
    {
     "data": {
      "text/plain": [
       "[(0, 'In'), (1, 'God'), (2, 'we'), (3, 'Trust')]"
      ]
     },
     "execution_count": 6,
     "metadata": {},
     "output_type": "execute_result"
    }
   ],
   "source": [
    "my_list = ['In', 'God', 'we','Trust']\n",
    "\n",
    "list(enumerate(my_list))"
   ]
  },
  {
   "cell_type": "markdown",
   "metadata": {},
   "source": [
    "### Intern\n",
    "#### https://www.youtube.com/watch?v=0Om2gYU6clE"
   ]
  },
  {
   "cell_type": "code",
   "execution_count": 62,
   "metadata": {},
   "outputs": [
    {
     "name": "stdout",
     "output_type": "stream",
     "text": [
      "x : 0x7ff49c99c9b0\n",
      "y : 0x7ff49c99c9b0\n",
      "== : True\n",
      "is : True\n",
      "x : 0x7ff49a6ecd50\n",
      "y : 0x7ff49a6ecd50\n",
      "== : True\n",
      "is : True\n",
      "x : 0x7ff49c99c9d0 ; y : 0x7ff49a6ecd50\n",
      "== : False\n",
      "is : False\n",
      "x:0x7ff49850d580   y:0x7ff49850d580\n",
      "x:0x7ff49850d580   y:0x7ff49850d580\n",
      "== : True\n",
      "is : False\n"
     ]
    }
   ],
   "source": [
    "x = 5\n",
    "print(f\"x : {hex(id(x))}\")\n",
    "y = x\n",
    "print(f\"y : {hex(id(y))}\")\n",
    "print(f\"== : {x==y}\")\n",
    "print(f\"is : {x is y}\")\n",
    "\n",
    "x = 257\n",
    "print(f\"x : {hex(id(x))}\")\n",
    "y = x\n",
    "print(f\"y : {hex(id(y))}\")\n",
    "print(f\"== : {x==y}\")\n",
    "print(f\"is : {x is y}\")\n",
    "\n",
    "\n",
    "x = 6\n",
    "print(f\"x : {hex(id(x))} ; y : {hex(id(y))}\")\n",
    "print(f\"== : {x==y}\")\n",
    "print(f\"is : {x is y}\")\n",
    "\n",
    "x = [1,2,3]\n",
    "y = x\n",
    "print(f\"x:{hex(id(x))}   y:{hex(id(y))}\")\n",
    "y.append(4)\n",
    "print(f\"x:{hex(id(x))}   y:{hex(id(y))}\")\n",
    "\n",
    "x = [1,2,3]\n",
    "y = [1,2,3]\n",
    "print(f\"== : {x == y}\")\n",
    "print(f\"is : {x is y}\")\n"
   ]
  },
  {
   "cell_type": "code",
   "execution_count": 69,
   "metadata": {},
   "outputs": [
    {
     "name": "stdout",
     "output_type": "stream",
     "text": [
      "<class 'tuple'>\n",
      "<class 'int'>\n",
      "<class 'list'>\n",
      "(1, 2, [1, 2, 3])\n"
     ]
    },
    {
     "ename": "TypeError",
     "evalue": "'tuple' object does not support item assignment",
     "output_type": "error",
     "traceback": [
      "\u001b[0;31m---------------------------------------------------------------------------\u001b[0m",
      "\u001b[0;31mTypeError\u001b[0m                                 Traceback (most recent call last)",
      "\u001b[0;32m/tmp/ipykernel_52/3286643128.py\u001b[0m in \u001b[0;36m<module>\u001b[0;34m\u001b[0m\n\u001b[1;32m      6\u001b[0m \u001b[0mprint\u001b[0m\u001b[0;34m(\u001b[0m\u001b[0mx\u001b[0m\u001b[0;34m)\u001b[0m\u001b[0;34m\u001b[0m\u001b[0;34m\u001b[0m\u001b[0m\n\u001b[1;32m      7\u001b[0m \u001b[0;34m\u001b[0m\u001b[0m\n\u001b[0;32m----> 8\u001b[0;31m \u001b[0mx\u001b[0m\u001b[0;34m[\u001b[0m\u001b[0;36m2\u001b[0m\u001b[0;34m]\u001b[0m \u001b[0;34m=\u001b[0m \u001b[0mx\u001b[0m\u001b[0;34m[\u001b[0m\u001b[0;36m2\u001b[0m\u001b[0;34m]\u001b[0m\u001b[0;34m+\u001b[0m\u001b[0;34m[\u001b[0m\u001b[0;36m4\u001b[0m\u001b[0;34m,\u001b[0m\u001b[0;36m5\u001b[0m\u001b[0;34m]\u001b[0m\u001b[0;34m\u001b[0m\u001b[0;34m\u001b[0m\u001b[0m\n\u001b[0m\u001b[1;32m      9\u001b[0m \u001b[0mprint\u001b[0m\u001b[0;34m(\u001b[0m\u001b[0mx\u001b[0m\u001b[0;34m)\u001b[0m\u001b[0;34m\u001b[0m\u001b[0;34m\u001b[0m\u001b[0m\n",
      "\u001b[0;31mTypeError\u001b[0m: 'tuple' object does not support item assignment"
     ]
    }
   ],
   "source": [
    "x = 1,2, [1,2]\n",
    "print(type(x))\n",
    "print(type(x[0]))\n",
    "print(type(x[2]))\n",
    "x[2].append(3)\n",
    "print(x)\n",
    "\n",
    "x[2] = x[2]+[4,5]\n",
    "print(x)"
   ]
  },
  {
   "cell_type": "code",
   "execution_count": 43,
   "metadata": {},
   "outputs": [
    {
     "name": "stdout",
     "output_type": "stream",
     "text": [
      "Dictionary : {'name': 'Peter', 'age': 42}\n",
      "JSON using dumps : {\"name\": \"Peter\", \"age\": 42}\n",
      "Dict of JSON using loads : {'name': 'Peter', 'age': 42}\n"
     ]
    }
   ],
   "source": [
    "import json\n",
    "\n",
    "my_dict={\"name\": \"Peter\", \"age\": 42}\n",
    "print(f\"Dictionary : {my_dict}\")\n",
    "my_json = json.dumps(my_dict)\n",
    "print(f\"JSON using dumps : {my_json}\")\n",
    "print(f\"Dict of JSON using loads : {json.loads(my_json)}\")"
   ]
  },
  {
   "cell_type": "code",
   "execution_count": 39,
   "metadata": {},
   "outputs": [
    {
     "name": "stdout",
     "output_type": "stream",
     "text": [
      "I'm a Teapot\n",
      "Server refuses to brew coffee because it is a teapot.\n"
     ]
    }
   ],
   "source": [
    "from http import HTTPStatus\n",
    "\n",
    "\n",
    "print(HTTPStatus(418).phrase)\n",
    "print(HTTPStatus(418).description)"
   ]
  },
  {
   "cell_type": "code",
   "execution_count": 23,
   "metadata": {},
   "outputs": [
    {
     "name": "stdout",
     "output_type": "stream",
     "text": [
      "cpython\n",
      "sys.version_info(major=3, minor=9, micro=5, releaselevel='final', serial=0)\n"
     ]
    }
   ],
   "source": [
    "import sys\n",
    "\n",
    "print(sys.implementation.name)\n",
    "\n",
    "print(sys.implementation.version)"
   ]
  },
  {
   "cell_type": "code",
   "execution_count": 27,
   "metadata": {},
   "outputs": [
    {
     "data": {
      "text/plain": [
       "'andy'"
      ]
     },
     "execution_count": 27,
     "metadata": {},
     "output_type": "execute_result"
    }
   ],
   "source": [
    "mys_str='andy samberg.jpg'\n",
    "mys_str.split(' ')[0]"
   ]
  },
  {
   "cell_type": "code",
   "execution_count": 35,
   "metadata": {},
   "outputs": [
    {
     "name": "stdout",
     "output_type": "stream",
     "text": [
      "Window name : and y\n",
      "Imread image : imag1\n",
      "Window name : meli  ssa\n",
      "Imread image : image2\n",
      "Window name : jo e\n",
      "Imread image : image3\n"
     ]
    }
   ],
   "source": [
    "my_dict={'and y':'imag1', 'meli  ssa':'image2','jo e':'image3'}\n",
    "\n",
    "for win_name, image_to_display in my_dict.items():\n",
    "    print(f\"Window name : {win_name}\")\n",
    "    print(f\"Imread image : {image_to_display}\")"
   ]
  },
  {
   "cell_type": "markdown",
   "metadata": {},
   "source": [
    "## Easter Eggs"
   ]
  },
  {
   "cell_type": "code",
   "execution_count": 1,
   "metadata": {},
   "outputs": [
    {
     "name": "stdout",
     "output_type": "stream",
     "text": [
      "The Zen of Python, by Tim Peters\n",
      "\n",
      "Beautiful is better than ugly.\n",
      "Explicit is better than implicit.\n",
      "Simple is better than complex.\n",
      "Complex is better than complicated.\n",
      "Flat is better than nested.\n",
      "Sparse is better than dense.\n",
      "Readability counts.\n",
      "Special cases aren't special enough to break the rules.\n",
      "Although practicality beats purity.\n",
      "Errors should never pass silently.\n",
      "Unless explicitly silenced.\n",
      "In the face of ambiguity, refuse the temptation to guess.\n",
      "There should be one-- and preferably only one --obvious way to do it.\n",
      "Although that way may not be obvious at first unless you're Dutch.\n",
      "Now is better than never.\n",
      "Although never is often better than *right* now.\n",
      "If the implementation is hard to explain, it's a bad idea.\n",
      "If the implementation is easy to explain, it may be a good idea.\n",
      "Namespaces are one honking great idea -- let's do more of those!\n"
     ]
    }
   ],
   "source": [
    "import this\n",
    "# source coed is interesting as well : https://github.com/python/cpython/blob/main/Lib/this.py"
   ]
  },
  {
   "cell_type": "code",
   "execution_count": 5,
   "metadata": {},
   "outputs": [],
   "source": [
    "import antigravity # works only from REPL"
   ]
  },
  {
   "cell_type": "code",
   "execution_count": 6,
   "metadata": {},
   "outputs": [
    {
     "name": "stdout",
     "output_type": "stream",
     "text": [
      "Hello world!\n"
     ]
    }
   ],
   "source": [
    "import __hello__"
   ]
  },
  {
   "cell_type": "code",
   "execution_count": 7,
   "metadata": {},
   "outputs": [
    {
     "ename": "SyntaxError",
     "evalue": "not a chance (3905450354.py, line 1)",
     "output_type": "error",
     "traceback": [
      "\u001b[0;36m  File \u001b[0;32m\"/tmp/ipykernel_12/3905450354.py\"\u001b[0;36m, line \u001b[0;32m1\u001b[0m\n\u001b[0;31m    from __future__ import braces\u001b[0m\n\u001b[0m    ^\u001b[0m\n\u001b[0;31mSyntaxError\u001b[0m\u001b[0;31m:\u001b[0m not a chance\n"
     ]
    }
   ],
   "source": [
    "from __future__ import braces"
   ]
  },
  {
   "cell_type": "code",
   "execution_count": 12,
   "metadata": {},
   "outputs": [
    {
     "name": "stdout",
     "output_type": "stream",
     "text": [
      "314159\n",
      "0\n"
     ]
    }
   ],
   "source": [
    "print(hash(float('inf')))\n",
    "\n",
    "print(hash(float('nan')))"
   ]
  },
  {
   "cell_type": "code",
   "execution_count": 19,
   "metadata": {},
   "outputs": [
    {
     "ename": "SyntaxError",
     "evalue": "with Barry as BDFL, use '<>' instead of '!=' (1891218216.py, line 3)",
     "output_type": "error",
     "traceback": [
      "\u001b[0;36m  File \u001b[0;32m\"/tmp/ipykernel_12/1891218216.py\"\u001b[0;36m, line \u001b[0;32m3\u001b[0m\n\u001b[0;31m    print(0 != 1)\u001b[0m\n\u001b[0m            ^\u001b[0m\n\u001b[0;31mSyntaxError\u001b[0m\u001b[0;31m:\u001b[0m with Barry as BDFL, use '<>' instead of '!='\n"
     ]
    }
   ],
   "source": [
    "from __future__ import barry_as_FLUFL\n",
    "\n",
    "print(0 != 1)\n",
    "# print(0 <> 1)\n"
   ]
  },
  {
   "cell_type": "code",
   "execution_count": 20,
   "metadata": {},
   "outputs": [
    {
     "name": "stdout",
     "output_type": "stream",
     "text": [
      "\n",
      "Tim,ID\n",
      "Sara,BR\n",
      "Chris,RU\n",
      "Mario,PL\n",
      "Paul,CN\n",
      "\n",
      "\n",
      "Tim,ID\n",
      "Sara,BR\n",
      "Chris,RU\n",
      "Mario,PL\n",
      "Paul,CN\n",
      "defaultdict(<class 'list'>, {})\n"
     ]
    }
   ],
   "source": [
    "from collections import defaultdict\n",
    "\n",
    "data = \"\"\"\n",
    "Tim,ID\n",
    "Sara,BR\n",
    "Chris,RU\n",
    "Mario,PL\n",
    "Paul,CN\n",
    "\"\"\"\n",
    "countries=defaultdict(list)\n",
    "\n",
    "print(data)\n",
    "\n",
    "for line in data.splitlines():\n",
    "    print(line)\n",
    "#     name, country = line.split(',')\n",
    "#     countries[country_code].append(name)\n",
    "\n",
    "print(countries)"
   ]
  },
  {
   "cell_type": "code",
   "execution_count": 8,
   "metadata": {},
   "outputs": [
    {
     "name": "stdout",
     "output_type": "stream",
     "text": [
      "operator.itemgetter(0, 6)\n",
      "('mon', 'sun')\n",
      "('I', 'e')\n",
      "('chest', 'ears', 'dog')\n"
     ]
    }
   ],
   "source": [
    "from operator import itemgetter\n",
    "\n",
    "days=['mon','tue','wed','thu','fri','sat','sun']\n",
    "\n",
    "f=itemgetter(0,6)\n",
    "\n",
    "print(f)\n",
    "print(f(days))\n",
    "\n",
    "my_str=\"InGodWeTrust!\"\n",
    "print(f(my_str))\n",
    "\n",
    "workouts={\n",
    "    'mon':'chest',\n",
    "    'tue' : 'biceps',\n",
    "    'wed':'legs',\n",
    "    'thu':'arms',\n",
    "    'fri':'ears',\n",
    "    'sat':'cat',\n",
    "    'sun':'dog'\n",
    "}\n",
    "print(itemgetter('mon','fri','sun')(workouts))"
   ]
  },
  {
   "cell_type": "code",
   "execution_count": 10,
   "metadata": {},
   "outputs": [
    {
     "name": "stdout",
     "output_type": "stream",
     "text": [
      "In God We Trust. All Others Must Pay in Cash\n",
      "In God We Trust. All Others Must Pay in $what\n"
     ]
    }
   ],
   "source": [
    "from string import Template\n",
    "\n",
    "s = Template(\"In $who We Trust. All Others Must Pay in $what\")\n",
    "\n",
    "print(s.substitute(who=\"God\", what=\"Cash\"))\n",
    "print(s.safe_substitute(who=\"God\"))\n",
    "\n",
    "\n",
    "\n",
    "# This will raise KeyError\n",
    "# s.substitute(who=\"God\")\n",
    "# print(s)\n",
    "\n"
   ]
  },
  {
   "cell_type": "markdown",
   "metadata": {},
   "source": [
    "#### Generate ordinal numbers"
   ]
  },
  {
   "cell_type": "code",
   "execution_count": 10,
   "metadata": {},
   "outputs": [
    {
     "name": "stdout",
     "output_type": "stream",
     "text": [
      "['1st', '2nd', '3rd', '4th', '5th', '6th', '7th', '8th', '9th', '10th']\n"
     ]
    }
   ],
   "source": [
    "ordinal = lambda n: \"%d%s\" % (n,\"tsnrhtdd\"[(n//10%10!=1)*(n%10<4)*n%10::4])\n",
    "\n",
    "\n",
    "print([ordinal(n) for n in range(1,11)])\n"
   ]
  },
  {
   "cell_type": "code",
   "execution_count": 13,
   "metadata": {},
   "outputs": [
    {
     "name": "stdout",
     "output_type": "stream",
     "text": [
      "['1st', '2nd', '3rd', '4th', '5th', '6th', '7th', '8th', '9th', '10th', '11th', '12th', '13th', '14th', '15th', '16th', '17th', '18th', '19th', '20th', '21st', '22nd', '23rd', '24th', '25th', '26th', '27th', '28th', '29th', '30th', '31st']\n"
     ]
    }
   ],
   "source": [
    "suf = lambda n: \"%d%s\"%(n,{1:\"st\",2:\"nd\",3:\"rd\"}.get(n if n<20 else n%10,\"th\"))\n",
    "\n",
    "print([suf(n) for n in range(1,32)])"
   ]
  },
  {
   "cell_type": "code",
   "execution_count": 14,
   "metadata": {},
   "outputs": [
    {
     "name": "stdout",
     "output_type": "stream",
     "text": [
      "['1st', '2nd', '3rd', '4th', '5th', '6th', '7th', '8th', '9th', '10th', '11th', '12th', '13th', '14th', '15th', '16th', '17th', '18th', '19th', '20th', '21st', '22nd', '23rd', '24th', '25th', '26th', '27th', '28th', '29th']\n"
     ]
    }
   ],
   "source": [
    "def make_ordinal(n):\n",
    "    '''\n",
    "    Convert an integer into its ordinal representation::\n",
    "\n",
    "        make_ordinal(0)   => '0th'\n",
    "        make_ordinal(3)   => '3rd'\n",
    "        make_ordinal(122) => '122nd'\n",
    "        make_ordinal(213) => '213th'\n",
    "    '''\n",
    "    n = int(n)\n",
    "    suffix = ['th', 'st', 'nd', 'rd', 'th'][min(n % 10, 4)]\n",
    "    if 11 <= (n % 100) <= 13:\n",
    "        suffix = 'th'\n",
    "    return str(n) + suffix\n",
    "\n",
    "print([make_ordinal(n) for n in range(1,30)])"
   ]
  },
  {
   "cell_type": "code",
   "execution_count": 18,
   "metadata": {},
   "outputs": [
    {
     "name": "stdout",
     "output_type": "stream",
     "text": [
      "[1, 2, 3, 4, 4, 4, 4, 4, 4, 0]\n"
     ]
    }
   ],
   "source": [
    "print([min(n%10,4) for n in range(1,11)])"
   ]
  },
  {
   "cell_type": "markdown",
   "metadata": {},
   "source": [
    "#### Create recurring dates"
   ]
  },
  {
   "cell_type": "code",
   "execution_count": 29,
   "metadata": {},
   "outputs": [
    {
     "name": "stdout",
     "output_type": "stream",
     "text": [
      "[datetime.datetime(2021, 7, 6, 16, 0),\n",
      " datetime.datetime(2021, 7, 8, 16, 0),\n",
      " datetime.datetime(2021, 7, 13, 16, 0),\n",
      " datetime.datetime(2021, 7, 15, 16, 0),\n",
      " datetime.datetime(2021, 7, 20, 16, 0),\n",
      " datetime.datetime(2021, 7, 22, 16, 0),\n",
      " datetime.datetime(2021, 7, 27, 16, 0),\n",
      " datetime.datetime(2021, 7, 29, 16, 0),\n",
      " datetime.datetime(2021, 8, 3, 16, 0),\n",
      " datetime.datetime(2021, 8, 5, 16, 0)]\n",
      "['Tue Jul  6 16:00:00 2021',\n",
      " 'Thu Jul  8 16:00:00 2021',\n",
      " 'Tue Jul 13 16:00:00 2021',\n",
      " 'Thu Jul 15 16:00:00 2021',\n",
      " 'Tue Jul 20 16:00:00 2021',\n",
      " 'Thu Jul 22 16:00:00 2021',\n",
      " 'Tue Jul 27 16:00:00 2021',\n",
      " 'Thu Jul 29 16:00:00 2021',\n",
      " 'Tue Aug  3 16:00:00 2021',\n",
      " 'Thu Aug  5 16:00:00 2021']\n"
     ]
    }
   ],
   "source": [
    "from dateutil.rrule import rrule, WEEKLY, SU, TU, TH\n",
    "from dateutil.parser import parse\n",
    "from pprint import pprint as pp\n",
    "\n",
    "dates = rrule(\n",
    "    WEEKLY,\n",
    "    count=10,\n",
    "    wkst=SU,\n",
    "    byweekday=(TU,TH),\n",
    "    dtstart=parse(\"20210705T160000\")\n",
    ")\n",
    "\n",
    "pp(list(dates))\n",
    "\n",
    "dates_fmt = [date_fmt.ctime() for date_fmt in list(dates)]\n",
    "pp(dates_fmt)                                                   "
   ]
  },
  {
   "cell_type": "markdown",
   "metadata": {},
   "source": [
    "#### re.sub example"
   ]
  },
  {
   "cell_type": "code",
   "execution_count": 35,
   "metadata": {},
   "outputs": [
    {
     "name": "stdout",
     "output_type": "stream",
     "text": [
      "{'fr*m r*nd*m *np*rt s*mpl*'}\n",
      "{('fr*m r*nd*m *np*rt s*mpl*', 7)}\n"
     ]
    }
   ],
   "source": [
    "import re\n",
    "my_str = \"from random inport sample\"\n",
    "print({re.sub(\"[aeiou]\",\"*\",my_str)})\n",
    "\n",
    "print({re.subn(\"[aeiou]\",\"*\",my_str)})\n"
   ]
  },
  {
   "cell_type": "markdown",
   "metadata": {},
   "source": [
    "### sample generation"
   ]
  },
  {
   "cell_type": "code",
   "execution_count": 39,
   "metadata": {},
   "outputs": [
    {
     "name": "stdout",
     "output_type": "stream",
     "text": [
      "[50, 40, 34, 30, 28]\n",
      "[96, 52, 34, 80, 64]\n",
      "[12, 16, 64, 86, 96]\n"
     ]
    }
   ],
   "source": [
    "from random import sample\n",
    "\n",
    "numbers = range(10,100,2)\n",
    "\n",
    "for _ in range(3):\n",
    "    print(sample(numbers,5))"
   ]
  },
  {
   "cell_type": "markdown",
   "metadata": {},
   "source": [
    "#### urlretrieve to download file"
   ]
  },
  {
   "cell_type": "code",
   "execution_count": 22,
   "metadata": {},
   "outputs": [
    {
     "name": "stdout",
     "output_type": "stream",
     "text": [
      "C:\\Users\\T810235\\AppData\\Local\\Temp\n",
      "C:\\Users\\T810235\\AppData\\Local\\Temp\\dirnames\n"
     ]
    },
    {
     "ename": "HTTPError",
     "evalue": "HTTP Error 403: Forbidden",
     "output_type": "error",
     "traceback": [
      "\u001b[1;31m---------------------------------------------------------------------------\u001b[0m",
      "\u001b[1;31mHTTPError\u001b[0m                                 Traceback (most recent call last)",
      "\u001b[1;32m<ipython-input-22-c7642c394724>\u001b[0m in \u001b[0;36m<module>\u001b[1;34m\u001b[0m\n\u001b[0;32m      7\u001b[0m \u001b[0mtemp_file\u001b[0m\u001b[1;33m=\u001b[0m\u001b[0mtmp\u001b[0m \u001b[1;33m/\u001b[0m \u001b[1;34m\"dirnames\"\u001b[0m\u001b[1;33m\u001b[0m\u001b[1;33m\u001b[0m\u001b[0m\n\u001b[0;32m      8\u001b[0m \u001b[0mprint\u001b[0m\u001b[1;33m(\u001b[0m\u001b[0mtemp_file\u001b[0m\u001b[1;33m)\u001b[0m\u001b[1;33m\u001b[0m\u001b[1;33m\u001b[0m\u001b[0m\n\u001b[1;32m----> 9\u001b[1;33m \u001b[0murlretrieve\u001b[0m\u001b[1;33m(\u001b[0m\u001b[1;34m\"https://filesamples.com/samples/document/txt/sample3.txt\"\u001b[0m\u001b[1;33m)\u001b[0m\u001b[1;33m\u001b[0m\u001b[1;33m\u001b[0m\u001b[0m\n\u001b[0m",
      "\u001b[1;32mC:\\rajesh\\python3\\lib\\urllib\\request.py\u001b[0m in \u001b[0;36murlretrieve\u001b[1;34m(url, filename, reporthook, data)\u001b[0m\n\u001b[0;32m    245\u001b[0m     \u001b[0murl_type\u001b[0m\u001b[1;33m,\u001b[0m \u001b[0mpath\u001b[0m \u001b[1;33m=\u001b[0m \u001b[0msplittype\u001b[0m\u001b[1;33m(\u001b[0m\u001b[0murl\u001b[0m\u001b[1;33m)\u001b[0m\u001b[1;33m\u001b[0m\u001b[1;33m\u001b[0m\u001b[0m\n\u001b[0;32m    246\u001b[0m \u001b[1;33m\u001b[0m\u001b[0m\n\u001b[1;32m--> 247\u001b[1;33m     \u001b[1;32mwith\u001b[0m \u001b[0mcontextlib\u001b[0m\u001b[1;33m.\u001b[0m\u001b[0mclosing\u001b[0m\u001b[1;33m(\u001b[0m\u001b[0murlopen\u001b[0m\u001b[1;33m(\u001b[0m\u001b[0murl\u001b[0m\u001b[1;33m,\u001b[0m \u001b[0mdata\u001b[0m\u001b[1;33m)\u001b[0m\u001b[1;33m)\u001b[0m \u001b[1;32mas\u001b[0m \u001b[0mfp\u001b[0m\u001b[1;33m:\u001b[0m\u001b[1;33m\u001b[0m\u001b[1;33m\u001b[0m\u001b[0m\n\u001b[0m\u001b[0;32m    248\u001b[0m         \u001b[0mheaders\u001b[0m \u001b[1;33m=\u001b[0m \u001b[0mfp\u001b[0m\u001b[1;33m.\u001b[0m\u001b[0minfo\u001b[0m\u001b[1;33m(\u001b[0m\u001b[1;33m)\u001b[0m\u001b[1;33m\u001b[0m\u001b[1;33m\u001b[0m\u001b[0m\n\u001b[0;32m    249\u001b[0m \u001b[1;33m\u001b[0m\u001b[0m\n",
      "\u001b[1;32mC:\\rajesh\\python3\\lib\\urllib\\request.py\u001b[0m in \u001b[0;36murlopen\u001b[1;34m(url, data, timeout, cafile, capath, cadefault, context)\u001b[0m\n\u001b[0;32m    220\u001b[0m     \u001b[1;32melse\u001b[0m\u001b[1;33m:\u001b[0m\u001b[1;33m\u001b[0m\u001b[1;33m\u001b[0m\u001b[0m\n\u001b[0;32m    221\u001b[0m         \u001b[0mopener\u001b[0m \u001b[1;33m=\u001b[0m \u001b[0m_opener\u001b[0m\u001b[1;33m\u001b[0m\u001b[1;33m\u001b[0m\u001b[0m\n\u001b[1;32m--> 222\u001b[1;33m     \u001b[1;32mreturn\u001b[0m \u001b[0mopener\u001b[0m\u001b[1;33m.\u001b[0m\u001b[0mopen\u001b[0m\u001b[1;33m(\u001b[0m\u001b[0murl\u001b[0m\u001b[1;33m,\u001b[0m \u001b[0mdata\u001b[0m\u001b[1;33m,\u001b[0m \u001b[0mtimeout\u001b[0m\u001b[1;33m)\u001b[0m\u001b[1;33m\u001b[0m\u001b[1;33m\u001b[0m\u001b[0m\n\u001b[0m\u001b[0;32m    223\u001b[0m \u001b[1;33m\u001b[0m\u001b[0m\n\u001b[0;32m    224\u001b[0m \u001b[1;32mdef\u001b[0m \u001b[0minstall_opener\u001b[0m\u001b[1;33m(\u001b[0m\u001b[0mopener\u001b[0m\u001b[1;33m)\u001b[0m\u001b[1;33m:\u001b[0m\u001b[1;33m\u001b[0m\u001b[1;33m\u001b[0m\u001b[0m\n",
      "\u001b[1;32mC:\\rajesh\\python3\\lib\\urllib\\request.py\u001b[0m in \u001b[0;36mopen\u001b[1;34m(self, fullurl, data, timeout)\u001b[0m\n\u001b[0;32m    529\u001b[0m         \u001b[1;32mfor\u001b[0m \u001b[0mprocessor\u001b[0m \u001b[1;32min\u001b[0m \u001b[0mself\u001b[0m\u001b[1;33m.\u001b[0m\u001b[0mprocess_response\u001b[0m\u001b[1;33m.\u001b[0m\u001b[0mget\u001b[0m\u001b[1;33m(\u001b[0m\u001b[0mprotocol\u001b[0m\u001b[1;33m,\u001b[0m \u001b[1;33m[\u001b[0m\u001b[1;33m]\u001b[0m\u001b[1;33m)\u001b[0m\u001b[1;33m:\u001b[0m\u001b[1;33m\u001b[0m\u001b[1;33m\u001b[0m\u001b[0m\n\u001b[0;32m    530\u001b[0m             \u001b[0mmeth\u001b[0m \u001b[1;33m=\u001b[0m \u001b[0mgetattr\u001b[0m\u001b[1;33m(\u001b[0m\u001b[0mprocessor\u001b[0m\u001b[1;33m,\u001b[0m \u001b[0mmeth_name\u001b[0m\u001b[1;33m)\u001b[0m\u001b[1;33m\u001b[0m\u001b[1;33m\u001b[0m\u001b[0m\n\u001b[1;32m--> 531\u001b[1;33m             \u001b[0mresponse\u001b[0m \u001b[1;33m=\u001b[0m \u001b[0mmeth\u001b[0m\u001b[1;33m(\u001b[0m\u001b[0mreq\u001b[0m\u001b[1;33m,\u001b[0m \u001b[0mresponse\u001b[0m\u001b[1;33m)\u001b[0m\u001b[1;33m\u001b[0m\u001b[1;33m\u001b[0m\u001b[0m\n\u001b[0m\u001b[0;32m    532\u001b[0m \u001b[1;33m\u001b[0m\u001b[0m\n\u001b[0;32m    533\u001b[0m         \u001b[1;32mreturn\u001b[0m \u001b[0mresponse\u001b[0m\u001b[1;33m\u001b[0m\u001b[1;33m\u001b[0m\u001b[0m\n",
      "\u001b[1;32mC:\\rajesh\\python3\\lib\\urllib\\request.py\u001b[0m in \u001b[0;36mhttp_response\u001b[1;34m(self, request, response)\u001b[0m\n\u001b[0;32m    639\u001b[0m         \u001b[1;32mif\u001b[0m \u001b[1;32mnot\u001b[0m \u001b[1;33m(\u001b[0m\u001b[1;36m200\u001b[0m \u001b[1;33m<=\u001b[0m \u001b[0mcode\u001b[0m \u001b[1;33m<\u001b[0m \u001b[1;36m300\u001b[0m\u001b[1;33m)\u001b[0m\u001b[1;33m:\u001b[0m\u001b[1;33m\u001b[0m\u001b[1;33m\u001b[0m\u001b[0m\n\u001b[0;32m    640\u001b[0m             response = self.parent.error(\n\u001b[1;32m--> 641\u001b[1;33m                 'http', request, response, code, msg, hdrs)\n\u001b[0m\u001b[0;32m    642\u001b[0m \u001b[1;33m\u001b[0m\u001b[0m\n\u001b[0;32m    643\u001b[0m         \u001b[1;32mreturn\u001b[0m \u001b[0mresponse\u001b[0m\u001b[1;33m\u001b[0m\u001b[1;33m\u001b[0m\u001b[0m\n",
      "\u001b[1;32mC:\\rajesh\\python3\\lib\\urllib\\request.py\u001b[0m in \u001b[0;36merror\u001b[1;34m(self, proto, *args)\u001b[0m\n\u001b[0;32m    567\u001b[0m         \u001b[1;32mif\u001b[0m \u001b[0mhttp_err\u001b[0m\u001b[1;33m:\u001b[0m\u001b[1;33m\u001b[0m\u001b[1;33m\u001b[0m\u001b[0m\n\u001b[0;32m    568\u001b[0m             \u001b[0margs\u001b[0m \u001b[1;33m=\u001b[0m \u001b[1;33m(\u001b[0m\u001b[0mdict\u001b[0m\u001b[1;33m,\u001b[0m \u001b[1;34m'default'\u001b[0m\u001b[1;33m,\u001b[0m \u001b[1;34m'http_error_default'\u001b[0m\u001b[1;33m)\u001b[0m \u001b[1;33m+\u001b[0m \u001b[0morig_args\u001b[0m\u001b[1;33m\u001b[0m\u001b[1;33m\u001b[0m\u001b[0m\n\u001b[1;32m--> 569\u001b[1;33m             \u001b[1;32mreturn\u001b[0m \u001b[0mself\u001b[0m\u001b[1;33m.\u001b[0m\u001b[0m_call_chain\u001b[0m\u001b[1;33m(\u001b[0m\u001b[1;33m*\u001b[0m\u001b[0margs\u001b[0m\u001b[1;33m)\u001b[0m\u001b[1;33m\u001b[0m\u001b[1;33m\u001b[0m\u001b[0m\n\u001b[0m\u001b[0;32m    570\u001b[0m \u001b[1;33m\u001b[0m\u001b[0m\n\u001b[0;32m    571\u001b[0m \u001b[1;31m# XXX probably also want an abstract factory that knows when it makes\u001b[0m\u001b[1;33m\u001b[0m\u001b[1;33m\u001b[0m\u001b[1;33m\u001b[0m\u001b[0m\n",
      "\u001b[1;32mC:\\rajesh\\python3\\lib\\urllib\\request.py\u001b[0m in \u001b[0;36m_call_chain\u001b[1;34m(self, chain, kind, meth_name, *args)\u001b[0m\n\u001b[0;32m    501\u001b[0m         \u001b[1;32mfor\u001b[0m \u001b[0mhandler\u001b[0m \u001b[1;32min\u001b[0m \u001b[0mhandlers\u001b[0m\u001b[1;33m:\u001b[0m\u001b[1;33m\u001b[0m\u001b[1;33m\u001b[0m\u001b[0m\n\u001b[0;32m    502\u001b[0m             \u001b[0mfunc\u001b[0m \u001b[1;33m=\u001b[0m \u001b[0mgetattr\u001b[0m\u001b[1;33m(\u001b[0m\u001b[0mhandler\u001b[0m\u001b[1;33m,\u001b[0m \u001b[0mmeth_name\u001b[0m\u001b[1;33m)\u001b[0m\u001b[1;33m\u001b[0m\u001b[1;33m\u001b[0m\u001b[0m\n\u001b[1;32m--> 503\u001b[1;33m             \u001b[0mresult\u001b[0m \u001b[1;33m=\u001b[0m \u001b[0mfunc\u001b[0m\u001b[1;33m(\u001b[0m\u001b[1;33m*\u001b[0m\u001b[0margs\u001b[0m\u001b[1;33m)\u001b[0m\u001b[1;33m\u001b[0m\u001b[1;33m\u001b[0m\u001b[0m\n\u001b[0m\u001b[0;32m    504\u001b[0m             \u001b[1;32mif\u001b[0m \u001b[0mresult\u001b[0m \u001b[1;32mis\u001b[0m \u001b[1;32mnot\u001b[0m \u001b[1;32mNone\u001b[0m\u001b[1;33m:\u001b[0m\u001b[1;33m\u001b[0m\u001b[1;33m\u001b[0m\u001b[0m\n\u001b[0;32m    505\u001b[0m                 \u001b[1;32mreturn\u001b[0m \u001b[0mresult\u001b[0m\u001b[1;33m\u001b[0m\u001b[1;33m\u001b[0m\u001b[0m\n",
      "\u001b[1;32mC:\\rajesh\\python3\\lib\\urllib\\request.py\u001b[0m in \u001b[0;36mhttp_error_default\u001b[1;34m(self, req, fp, code, msg, hdrs)\u001b[0m\n\u001b[0;32m    647\u001b[0m \u001b[1;32mclass\u001b[0m \u001b[0mHTTPDefaultErrorHandler\u001b[0m\u001b[1;33m(\u001b[0m\u001b[0mBaseHandler\u001b[0m\u001b[1;33m)\u001b[0m\u001b[1;33m:\u001b[0m\u001b[1;33m\u001b[0m\u001b[1;33m\u001b[0m\u001b[0m\n\u001b[0;32m    648\u001b[0m     \u001b[1;32mdef\u001b[0m \u001b[0mhttp_error_default\u001b[0m\u001b[1;33m(\u001b[0m\u001b[0mself\u001b[0m\u001b[1;33m,\u001b[0m \u001b[0mreq\u001b[0m\u001b[1;33m,\u001b[0m \u001b[0mfp\u001b[0m\u001b[1;33m,\u001b[0m \u001b[0mcode\u001b[0m\u001b[1;33m,\u001b[0m \u001b[0mmsg\u001b[0m\u001b[1;33m,\u001b[0m \u001b[0mhdrs\u001b[0m\u001b[1;33m)\u001b[0m\u001b[1;33m:\u001b[0m\u001b[1;33m\u001b[0m\u001b[1;33m\u001b[0m\u001b[0m\n\u001b[1;32m--> 649\u001b[1;33m         \u001b[1;32mraise\u001b[0m \u001b[0mHTTPError\u001b[0m\u001b[1;33m(\u001b[0m\u001b[0mreq\u001b[0m\u001b[1;33m.\u001b[0m\u001b[0mfull_url\u001b[0m\u001b[1;33m,\u001b[0m \u001b[0mcode\u001b[0m\u001b[1;33m,\u001b[0m \u001b[0mmsg\u001b[0m\u001b[1;33m,\u001b[0m \u001b[0mhdrs\u001b[0m\u001b[1;33m,\u001b[0m \u001b[0mfp\u001b[0m\u001b[1;33m)\u001b[0m\u001b[1;33m\u001b[0m\u001b[1;33m\u001b[0m\u001b[0m\n\u001b[0m\u001b[0;32m    650\u001b[0m \u001b[1;33m\u001b[0m\u001b[0m\n\u001b[0;32m    651\u001b[0m \u001b[1;32mclass\u001b[0m \u001b[0mHTTPRedirectHandler\u001b[0m\u001b[1;33m(\u001b[0m\u001b[0mBaseHandler\u001b[0m\u001b[1;33m)\u001b[0m\u001b[1;33m:\u001b[0m\u001b[1;33m\u001b[0m\u001b[1;33m\u001b[0m\u001b[0m\n",
      "\u001b[1;31mHTTPError\u001b[0m: HTTP Error 403: Forbidden"
     ]
    }
   ],
   "source": [
    "import os\n",
    "from pathlib import Path\n",
    "from urllib.request import urlretrieve\n",
    "\n",
    "tmp=Path(os.getenv(\"TMP\",\"/tmp\"))\n",
    "print(tmp)\n",
    "temp_file=tmp / \"dirnames\"\n",
    "print(temp_file)\n",
    "urlretrieve(\"https://filesamples.com/samples/document/txt/sample3.txt\")"
   ]
  },
  {
   "cell_type": "markdown",
   "metadata": {},
   "source": [
    "### Duplicate classes"
   ]
  },
  {
   "cell_type": "code",
   "execution_count": 10,
   "metadata": {},
   "outputs": [
    {
     "name": "stdout",
     "output_type": "stream",
     "text": [
      "Object name : Rajesh\n",
      "Object name after second class definition with same name : Pawan\n"
     ]
    }
   ],
   "source": [
    "#Define class the first time\n",
    "class MyClass:\n",
    "    my_name=\"Rajesh\"\n",
    "\n",
    "# Instantiate and print class variable\n",
    "my_obj_1 = MyClass()\n",
    "print(f\"Object name : {my_obj_1.my_name}\")\n",
    "\n",
    "#Define class the second time with same name\n",
    "class MyClass():\n",
    "    my_name=\"Pawan\"\n",
    "\n",
    "# Instantiate and print class variable\n",
    "my_obj_1 = MyClass()\n",
    "print(f\"Object name after second class definition with same name : {my_obj_1.my_name}\")\n"
   ]
  },
  {
   "cell_type": "markdown",
   "metadata": {},
   "source": [
    "### Create random Keys"
   ]
  },
  {
   "cell_type": "code",
   "execution_count": 8,
   "metadata": {},
   "outputs": [
    {
     "name": "stdout",
     "output_type": "stream",
     "text": [
      "abcdefghijklmnopqrstuvwxyz0123456789\n",
      "sicd2jqz60l5t9xghfak\n",
      "eqy34bo1ghrz90x7dvp8\n",
      "p7jfiba9ky5t2l0uzds4\n",
      "q97ws52jyegcoaz8u4bn\n"
     ]
    }
   ],
   "source": [
    "import random\n",
    "import string\n",
    "\n",
    "chars = string.ascii_lowercase + string.digits\n",
    "print(chars)\n",
    "\n",
    "for _ in range(4):\n",
    "    print(''.join(random.sample(chars,20)))"
   ]
  },
  {
   "cell_type": "markdown",
   "metadata": {},
   "source": [
    "### Method Resolution Order (MRO)"
   ]
  },
  {
   "cell_type": "code",
   "execution_count": 15,
   "metadata": {},
   "outputs": [
    {
     "name": "stdout",
     "output_type": "stream",
     "text": [
      "(<class '__main__.MyList'>,\n",
      " <class 'collections.UserList'>,\n",
      " <class 'collections.abc.MutableSequence'>,\n",
      " <class 'collections.abc.Sequence'>,\n",
      " <class 'collections.abc.Reversible'>,\n",
      " <class 'collections.abc.Collection'>,\n",
      " <class 'collections.abc.Sized'>,\n",
      " <class 'collections.abc.Iterable'>,\n",
      " <class 'collections.abc.Container'>,\n",
      " <class 'object'>)\n",
      "mappingproxy({'__abstractmethods__': frozenset(),\n",
      "              '__doc__': None,\n",
      "              '__module__': '__main__',\n",
      "              '_abc_impl': <_abc_data object at 0x0000021936DF07B0>})\n"
     ]
    }
   ],
   "source": [
    "from collections import UserList\n",
    "from pprint import pprint as pp\n",
    "class MyList(UserList):\n",
    "    pass\n",
    "\n",
    "pp(MyList.__mro__)\n",
    "\n",
    "pp(MyList.__dict__)\n"
   ]
  },
  {
   "cell_type": "markdown",
   "metadata": {},
   "source": [
    "### isinstance()"
   ]
  },
  {
   "cell_type": "code",
   "execution_count": 27,
   "metadata": {},
   "outputs": [
    {
     "name": "stdout",
     "output_type": "stream",
     "text": [
      "True\n",
      "False\n",
      "False\n",
      "True\n",
      "True\n",
      "True\n",
      "True\n"
     ]
    }
   ],
   "source": [
    "from collections import UserList\n",
    "from collections.abc import Sequence\n",
    "from collections.abc import Reversible\n",
    "\n",
    "class MyList(UserList):\n",
    "    pass\n",
    "\n",
    "my_list=MyList()\n",
    "\n",
    "print(type(my_list) is MyList)\n",
    "print(type(my_list) is Sequence)\n",
    "print(type(my_list) is object)\n",
    "\n",
    "\n",
    "print(isinstance(my_list,MyList))\n",
    "print(isinstance(my_list, Sequence))\n",
    "print(isinstance(my_list, Reversible))\n",
    "print(isinstance(my_list, object))"
   ]
  },
  {
   "cell_type": "markdown",
   "metadata": {},
   "source": [
    "### Timer & reader for feeds\n",
    "\n",
    "- retrieve, store, and manage Atom, RSS, and JSON feeds\n",
    "- mark entries as read or important\n",
    "- add tags and metadata to feeds\n",
    "- filter feeds and articles\n",
    "- full-text search articles"
   ]
  },
  {
   "cell_type": "code",
   "execution_count": 4,
   "metadata": {},
   "outputs": [
    {
     "name": "stdout",
     "output_type": "stream",
     "text": [
      "Collecting readerNote: you may need to restart the kernel to use updated packages.\n"
     ]
    },
    {
     "name": "stderr",
     "output_type": "stream",
     "text": [
      "WARNING: You are using pip version 21.0.1; however, version 21.1.2 is available.\n",
      "You should consider upgrading via the 'c:\\rajesh\\jupyter\\venv\\scripts\\python.exe -m pip install --upgrade pip' command.\n"
     ]
    },
    {
     "name": "stdout",
     "output_type": "stream",
     "text": [
      "\n",
      "  Downloading reader-1.19-py3-none-any.whl (119 kB)\n",
      "Collecting iso8601\n",
      "  Downloading iso8601-0.1.14-py2.py3-none-any.whl (9.5 kB)\n",
      "Requirement already satisfied: requests>=2.18 in c:\\rajesh\\jupyter\\venv\\lib\\site-packages (from reader) (2.25.1)\n",
      "Requirement already satisfied: typing-extensions in c:\\rajesh\\jupyter\\venv\\lib\\site-packages (from reader) (3.7.4.3)\n",
      "Collecting feedparser>=6\n",
      "  Downloading feedparser-6.0.8-py3-none-any.whl (81 kB)\n",
      "Collecting sgmllib3k\n",
      "  Downloading sgmllib3k-1.0.0.tar.gz (5.8 kB)\n",
      "Requirement already satisfied: certifi>=2017.4.17 in c:\\rajesh\\jupyter\\venv\\lib\\site-packages (from requests>=2.18->reader) (2020.12.5)\n",
      "Requirement already satisfied: urllib3<1.27,>=1.21.1 in c:\\rajesh\\jupyter\\venv\\lib\\site-packages (from requests>=2.18->reader) (1.26.4)\n",
      "Requirement already satisfied: idna<3,>=2.5 in c:\\rajesh\\jupyter\\venv\\lib\\site-packages (from requests>=2.18->reader) (2.10)\n",
      "Requirement already satisfied: chardet<5,>=3.0.2 in c:\\rajesh\\jupyter\\venv\\lib\\site-packages (from requests>=2.18->reader) (4.0.0)\n",
      "Using legacy 'setup.py install' for sgmllib3k, since package 'wheel' is not installed.\n",
      "Installing collected packages: sgmllib3k, iso8601, feedparser, reader\n",
      "    Running setup.py install for sgmllib3k: started\n",
      "    Running setup.py install for sgmllib3k: finished with status 'done'\n",
      "Successfully installed feedparser-6.0.8 iso8601-0.1.14 reader-1.19 sgmllib3k-1.0.0\n"
     ]
    }
   ],
   "source": [
    "pip install reader"
   ]
  },
  {
   "cell_type": "code",
   "execution_count": 11,
   "metadata": {},
   "outputs": [
    {
     "ename": "AttributeError",
     "evalue": "type object 'Reader' has no attribute 'feed'",
     "output_type": "error",
     "traceback": [
      "\u001b[1;31m---------------------------------------------------------------------------\u001b[0m",
      "\u001b[1;31mAttributeError\u001b[0m                            Traceback (most recent call last)",
      "\u001b[1;32m<ipython-input-11-0d71a4c14c04>\u001b[0m in \u001b[0;36m<module>\u001b[1;34m\u001b[0m\n\u001b[0;32m      4\u001b[0m \u001b[0mtic\u001b[0m \u001b[1;33m=\u001b[0m \u001b[0mtime\u001b[0m\u001b[1;33m.\u001b[0m\u001b[0mperf_counter\u001b[0m\u001b[1;33m(\u001b[0m\u001b[1;33m)\u001b[0m\u001b[1;33m\u001b[0m\u001b[1;33m\u001b[0m\u001b[0m\n\u001b[0;32m      5\u001b[0m \u001b[1;31m# time.sleep(4)\u001b[0m\u001b[1;33m\u001b[0m\u001b[1;33m\u001b[0m\u001b[1;33m\u001b[0m\u001b[0m\n\u001b[1;32m----> 6\u001b[1;33m \u001b[0mtutorial\u001b[0m \u001b[1;33m=\u001b[0m \u001b[0mReader\u001b[0m\u001b[1;33m.\u001b[0m\u001b[0mfeed\u001b[0m\u001b[1;33m.\u001b[0m\u001b[0mget_article\u001b[0m\u001b[1;33m(\u001b[0m\u001b[1;36m0\u001b[0m\u001b[1;33m)\u001b[0m\u001b[1;33m\u001b[0m\u001b[1;33m\u001b[0m\u001b[0m\n\u001b[0m\u001b[0;32m      7\u001b[0m \u001b[0mtoc\u001b[0m \u001b[1;33m=\u001b[0m \u001b[0mtime\u001b[0m\u001b[1;33m.\u001b[0m\u001b[0mperf_counter\u001b[0m\u001b[1;33m(\u001b[0m\u001b[1;33m)\u001b[0m\u001b[1;33m\u001b[0m\u001b[1;33m\u001b[0m\u001b[0m\n\u001b[0;32m      8\u001b[0m \u001b[0mprint\u001b[0m\u001b[1;33m(\u001b[0m\u001b[1;34mf\"Time taken : {toc-tic}\"\u001b[0m\u001b[1;33m)\u001b[0m\u001b[1;33m\u001b[0m\u001b[1;33m\u001b[0m\u001b[0m\n",
      "\u001b[1;31mAttributeError\u001b[0m: type object 'Reader' has no attribute 'feed'"
     ]
    }
   ],
   "source": [
    "import time\n",
    "from reader import Reader \n",
    "\n",
    "tic = time.perf_counter()\n",
    "# time.sleep(4)\n",
    "tutorial = Reader.feed.get_article(0)\n",
    "toc = time.perf_counter()\n",
    "print(f\"Time taken : {toc-tic}\")"
   ]
  },
  {
   "cell_type": "markdown",
   "metadata": {},
   "source": [
    "#### NamedTuple from typing\n",
    "####### This isnt working "
   ]
  },
  {
   "cell_type": "code",
   "execution_count": 85,
   "metadata": {},
   "outputs": [],
   "source": [
    "from typing import NamedTuple\n",
    "\n",
    "class Karma(NamedTuple):\n",
    "    giver:str\n",
    "    receiver: str\n",
    "    score: int\n",
    "\n",
    "myKarma=Karma('Bob', 'Julian', 10)\n",
    "\n",
    "myKarma=Karma('Bob', 'Julian', 'rty')\n"
   ]
  },
  {
   "cell_type": "markdown",
   "metadata": {},
   "source": [
    "#### Force use of function arguments"
   ]
  },
  {
   "cell_type": "code",
   "execution_count": 46,
   "metadata": {
    "scrolled": true
   },
   "outputs": [
    {
     "name": "stdout",
     "output_type": "stream",
     "text": [
      "2.0\n",
      "divide_numbers in line 6 encountered exception <class 'ZeroDivisionError'>\n",
      "None\n",
      "0.5\n"
     ]
    },
    {
     "ename": "TypeError",
     "evalue": "divide_numbers() got an unexpected keyword argument 'foo'",
     "output_type": "error",
     "traceback": [
      "\u001b[1;31m---------------------------------------------------------------------------\u001b[0m",
      "\u001b[1;31mTypeError\u001b[0m                                 Traceback (most recent call last)",
      "\u001b[1;32m<ipython-input-46-844798a3f7c5>\u001b[0m in \u001b[0;36m<module>\u001b[1;34m\u001b[0m\n\u001b[0;32m     12\u001b[0m \u001b[0mprint\u001b[0m\u001b[1;33m(\u001b[0m\u001b[0mdivide_numbers\u001b[0m\u001b[1;33m(\u001b[0m\u001b[0mnumerator\u001b[0m\u001b[1;33m=\u001b[0m\u001b[1;36m2\u001b[0m\u001b[1;33m,\u001b[0m\u001b[0mdenominator\u001b[0m\u001b[1;33m=\u001b[0m\u001b[1;36m0\u001b[0m\u001b[1;33m)\u001b[0m\u001b[1;33m)\u001b[0m\u001b[1;33m\u001b[0m\u001b[1;33m\u001b[0m\u001b[0m\n\u001b[0;32m     13\u001b[0m \u001b[0mprint\u001b[0m\u001b[1;33m(\u001b[0m\u001b[0mdivide_numbers\u001b[0m\u001b[1;33m(\u001b[0m\u001b[0mdenominator\u001b[0m\u001b[1;33m=\u001b[0m\u001b[1;36m2\u001b[0m\u001b[1;33m,\u001b[0m\u001b[0mnumerator\u001b[0m\u001b[1;33m=\u001b[0m\u001b[1;36m1\u001b[0m\u001b[1;33m)\u001b[0m\u001b[1;33m)\u001b[0m\u001b[1;33m\u001b[0m\u001b[1;33m\u001b[0m\u001b[0m\n\u001b[1;32m---> 14\u001b[1;33m \u001b[0mprint\u001b[0m\u001b[1;33m(\u001b[0m\u001b[0mdivide_numbers\u001b[0m\u001b[1;33m(\u001b[0m\u001b[0mfoo\u001b[0m\u001b[1;33m=\u001b[0m\u001b[1;34m'bar'\u001b[0m\u001b[1;33m,\u001b[0m\u001b[0mdenominator\u001b[0m\u001b[1;33m=\u001b[0m\u001b[1;36m2\u001b[0m\u001b[1;33m,\u001b[0m\u001b[0mnumerator\u001b[0m\u001b[1;33m=\u001b[0m\u001b[1;36m1\u001b[0m\u001b[1;33m)\u001b[0m\u001b[1;33m)\u001b[0m\u001b[1;33m\u001b[0m\u001b[1;33m\u001b[0m\u001b[0m\n\u001b[0m",
      "\u001b[1;31mTypeError\u001b[0m: divide_numbers() got an unexpected keyword argument 'foo'"
     ]
    }
   ],
   "source": [
    "import inspect\n",
    "import sys\n",
    "\n",
    "def divide_numbers(*, numerator, denominator):\n",
    "    try:\n",
    "        return (int(numerator)/int(denominator))\n",
    "    except:\n",
    "        exc_type, exc_obj, exc_tb = sys.exc_info()\n",
    "        print(f\"{inspect.stack()[0][3]} in line {exc_tb.tb_lineno} encountered exception {exc_type}\")\n",
    "        \n",
    "print(divide_numbers(numerator=2,denominator=1))\n",
    "print(divide_numbers(numerator=2,denominator=0))\n",
    "print(divide_numbers(denominator=2,numerator=1))\n",
    "print(divide_numbers(foo='bar',denominator=2,numerator=1))"
   ]
  },
  {
   "cell_type": "markdown",
   "metadata": {},
   "source": [
    "### zip - use as transpose"
   ]
  },
  {
   "cell_type": "code",
   "execution_count": 32,
   "metadata": {},
   "outputs": [
    {
     "name": "stdout",
     "output_type": "stream",
     "text": [
      "[[1, 2, 3], [4, 5, 6], [7, 8, 9]]\n",
      "[(1, 4, 7), (2, 5, 8), (3, 6, 9)]\n"
     ]
    }
   ],
   "source": [
    "my_list=[[1,2,3],[4,5,6],[7,8,9]]\n",
    "print(my_list)\n",
    "print(list(zip(*my_list)))"
   ]
  },
  {
   "cell_type": "markdown",
   "metadata": {},
   "source": [
    "#### zip - loop over a sequence twice comparing the current item with the previous one"
   ]
  },
  {
   "cell_type": "code",
   "execution_count": 3,
   "metadata": {},
   "outputs": [
    {
     "name": "stdout",
     "output_type": "stream",
     "text": [
      "{1: 'a', 2: 'b', 3: 'c'}\n",
      "1 2 3\n",
      "1|2|3\n"
     ]
    }
   ],
   "source": [
    "d = dict(zip(range(1,4),'abc'))\n",
    "print(d)\n",
    "# Only keys\n",
    "print(*d)\n",
    "# With seperator\n",
    "print(*d, sep='|')"
   ]
  },
  {
   "cell_type": "code",
   "execution_count": 7,
   "metadata": {
    "scrolled": true
   },
   "outputs": [
    {
     "name": "stdout",
     "output_type": "stream",
     "text": [
      "Today - Yesterday = 2\n",
      "Today - Yesterday = 3\n",
      "Today - Yesterday = 4\n",
      "Today - Yesterday = 5\n",
      "Today - Yesterday = 10\n",
      "Today - Yesterday = 13\n",
      "Today - Yesterday = 3\n",
      "Today - Yesterday = 59\n"
     ]
    }
   ],
   "source": [
    "sales=[1,3,6,10,15,25,38,41,100]\n",
    "for yesterday,today in zip(sales,sales[1:]):\n",
    "    print(f\"Today - Yesterday = {today-yesterday}\")"
   ]
  },
  {
   "cell_type": "markdown",
   "metadata": {},
   "source": [
    "### zip - Extract keys"
   ]
  },
  {
   "cell_type": "code",
   "execution_count": 66,
   "metadata": {},
   "outputs": [
    {
     "name": "stdout",
     "output_type": "stream",
     "text": [
      "('2021-22', '2021-16', '2021-14')\n",
      "(2, 3, 4)\n"
     ]
    }
   ],
   "source": [
    "weekly_changes = {\n",
    "    '2021-22':2,\n",
    "    '2021-16':3,\n",
    "    '2021-14':4\n",
    "}\n",
    "weekly_changes.items()\n",
    "# list(zip(*weekly_changes.items()))\n",
    "dates,numbers=zip(*weekly_changes.items())\n",
    "print(dates)\n",
    "print(numbers)"
   ]
  },
  {
   "cell_type": "markdown",
   "metadata": {},
   "source": [
    "### Json 2 HTML\n",
    "##### https://pypi.org/project/json2html/"
   ]
  },
  {
   "cell_type": "code",
   "execution_count": 17,
   "metadata": {
    "scrolled": true
   },
   "outputs": [
    {
     "name": "stdout",
     "output_type": "stream",
     "text": [
      "Collecting json2htmlNote: you may need to restart the kernel to use updated packages.\n",
      "\n",
      "  Downloading json2html-1.3.0.tar.gz (7.0 kB)\n",
      "Using legacy 'setup.py install' for json2html, since package 'wheel' is not installed.\n",
      "Installing collected packages: json2html\n",
      "    Running setup.py install for json2html: started\n",
      "    Running setup.py install for json2html: finished with status 'done'\n",
      "Successfully installed json2html-1.3.0\n"
     ]
    }
   ],
   "source": [
    "pip install json2html"
   ]
  },
  {
   "cell_type": "code",
   "execution_count": 2,
   "metadata": {},
   "outputs": [],
   "source": [
    "from json2html import *\n",
    "input = {\n",
    "        \"name\": \"json2html\",\n",
    "        \"description\": \"Converts JSON to HTML tabular representation\"\n",
    "}\n",
    "data_table = json2html.convert(json = input)\n",
    "print(data_table)"
   ]
  },
  {
   "cell_type": "code",
   "execution_count": 4,
   "metadata": {},
   "outputs": [
    {
     "name": "stdout",
     "output_type": "stream",
     "text": [
      "<table border=\"1\"><tr><th>sample</th><td><table border=\"1\"><thead><tr><th>a</th><th>b</th><th>c</th></tr></thead><tbody><tr><td>1</td><td>2</td><td>3</td></tr><tr><td>5</td><td>6</td><td>7</td></tr></tbody></table></td></tr></table>\n"
     ]
    }
   ],
   "source": [
    "from json2html import *\n",
    "input = {\n",
    "        \"sample\": [{\n",
    "                \"a\":1, \"b\":2, \"c\":3\n",
    "        }, {\n",
    "                \"a\":5, \"b\":6, \"c\":7\n",
    "        }]\n",
    "}\n",
    "data_table = json2html.convert(json = input)\n",
    "print(data_table)"
   ]
  },
  {
   "cell_type": "code",
   "execution_count": 14,
   "metadata": {},
   "outputs": [
    {
     "name": "stdout",
     "output_type": "stream",
     "text": [
      "<table border='1'><thead><tr><th>ORDERNO</th><th>ORDERCREATED</th><th>ORDERSTATUS</th><th>AIRPOD_USER_LOGON</th></tr></thead><tbody><tr><td>1-11111</td><td>2021-04-24</td><td>Complete</td><td>T810235</td></tr><tr><td>1-11113</td><td>2021-04-23</td><td>Complete</td><td>T811235</td></tr><tr><td>1-11115</td><td>2021-04-22</td><td>Complete</td><td>T812235</td></tr></tbody></table>\n"
     ]
    }
   ],
   "source": [
    "from json2html import *\n",
    "input = [{\n",
    "                \"ORDERNO\":\"1-11111\", \"ORDERCREATED\":\"2021-04-24\", \"ORDERSTATUS\":\"Complete\", \"AIRPOD_USER_LOGON\":\"T810235\"\n",
    "        }, {\n",
    "                \"ORDERNO\":\"1-11113\", \"ORDERCREATED\":\"2021-04-23\", \"ORDERSTATUS\":\"Complete\", \"AIRPOD_USER_LOGON\":\"T811235\"\n",
    "        }, {\n",
    "                \"ORDERNO\":\"1-11115\", \"ORDERCREATED\":\"2021-04-22\", \"ORDERSTATUS\":\"Complete\", \"AIRPOD_USER_LOGON\":\"T812235\"\n",
    "        }]\n",
    "\n",
    "data_table_tmp = json2html.convert(json = input)\n",
    "data_table = data_table_tmp.replace(\"\\\"\",\"'\")\n",
    "print(data_table)"
   ]
  },
  {
   "cell_type": "markdown",
   "metadata": {},
   "source": [
    "## Camelot"
   ]
  },
  {
   "cell_type": "code",
   "execution_count": 13,
   "metadata": {},
   "outputs": [],
   "source": [
    "# python -m pip install --upgrade pip    ## DO THIS ON CMD"
   ]
  },
  {
   "cell_type": "code",
   "execution_count": 14,
   "metadata": {},
   "outputs": [
    {
     "name": "stdout",
     "output_type": "stream",
     "text": [
      "pip 21.0.1 from c:\\rajesh\\jupyter\\venv\\lib\\site-packages\\pip (python 3.7)\n",
      "\n",
      "Note: you may need to restart the kernel to use updated packages.\n"
     ]
    }
   ],
   "source": [
    "pip --version"
   ]
  },
  {
   "cell_type": "code",
   "execution_count": 2,
   "metadata": {
    "scrolled": false
   },
   "outputs": [
    {
     "name": "stdout",
     "output_type": "stream",
     "text": [
      "Collecting python3-ghostscriptNote: you may need to restart the kernel to use updated packages.\n",
      "\n",
      "  Downloading python3_ghostscript-0.5.0-py3-none-any.whl (14 kB)\n",
      "Requirement already satisfied: setuptools in c:\\rajesh\\jupyter\\venv\\lib\\site-packages (from python3-ghostscript) (40.8.0)\n",
      "Installing collected packages: python3-ghostscript\n",
      "Successfully installed python3-ghostscript-0.5.0\n"
     ]
    }
   ],
   "source": [
    "pip install \"camelot-py[cv]\"\n"
   ]
  },
  {
   "cell_type": "code",
   "execution_count": 8,
   "metadata": {},
   "outputs": [
    {
     "name": "stdout",
     "output_type": "stream",
     "text": [
      "None\n",
      "None\n"
     ]
    }
   ],
   "source": [
    "import ctypes\n",
    "from ctypes.util import find_library\n",
    "print(find_library(\"gs\"))\n",
    "print(find_library(\"\".join((\"gsdll\", str(ctypes.sizeof(ctypes.c_voidp) * 8), \".dll\"))))"
   ]
  },
  {
   "cell_type": "code",
   "execution_count": 13,
   "metadata": {
    "scrolled": true
   },
   "outputs": [
    {
     "name": "stdout",
     "output_type": "stream",
     "text": [
      "<TableList n=1>\n",
      "<Table shape=(12, 7)>\n",
      "{'accuracy': 95.87, 'whitespace': 38.1, 'order': 1, 'page': 1}\n"
     ]
    },
    {
     "data": {
      "text/html": [
       "<div>\n",
       "<style scoped>\n",
       "    .dataframe tbody tr th:only-of-type {\n",
       "        vertical-align: middle;\n",
       "    }\n",
       "\n",
       "    .dataframe tbody tr th {\n",
       "        vertical-align: top;\n",
       "    }\n",
       "\n",
       "    .dataframe thead th {\n",
       "        text-align: right;\n",
       "    }\n",
       "</style>\n",
       "<table border=\"1\" class=\"dataframe\">\n",
       "  <thead>\n",
       "    <tr style=\"text-align: right;\">\n",
       "      <th></th>\n",
       "      <th>0</th>\n",
       "      <th>1</th>\n",
       "      <th>2</th>\n",
       "      <th>3</th>\n",
       "      <th>4</th>\n",
       "      <th>5</th>\n",
       "      <th>6</th>\n",
       "    </tr>\n",
       "  </thead>\n",
       "  <tbody>\n",
       "    <tr>\n",
       "      <th>0</th>\n",
       "      <td>reducing the number of stops in high KI cycles...</td>\n",
       "      <td></td>\n",
       "      <td></td>\n",
       "      <td></td>\n",
       "      <td></td>\n",
       "      <td></td>\n",
       "      <td></td>\n",
       "    </tr>\n",
       "    <tr>\n",
       "      <th>1</th>\n",
       "      <td></td>\n",
       "      <td>Table 2-1. Simulated fuel savings from isolate...</td>\n",
       "      <td></td>\n",
       "      <td></td>\n",
       "      <td></td>\n",
       "      <td></td>\n",
       "      <td></td>\n",
       "    </tr>\n",
       "    <tr>\n",
       "      <th>2</th>\n",
       "      <td></td>\n",
       "      <td></td>\n",
       "      <td></td>\n",
       "      <td></td>\n",
       "      <td></td>\n",
       "      <td>Percent Fuel Savings</td>\n",
       "      <td></td>\n",
       "    </tr>\n",
       "    <tr>\n",
       "      <th>3</th>\n",
       "      <td>Cycle</td>\n",
       "      <td>KI</td>\n",
       "      <td>Distance</td>\n",
       "      <td></td>\n",
       "      <td></td>\n",
       "      <td></td>\n",
       "      <td></td>\n",
       "    </tr>\n",
       "    <tr>\n",
       "      <th>4</th>\n",
       "      <td></td>\n",
       "      <td></td>\n",
       "      <td></td>\n",
       "      <td>Improved</td>\n",
       "      <td>Decreased</td>\n",
       "      <td>Eliminate</td>\n",
       "      <td>Decreased</td>\n",
       "    </tr>\n",
       "    <tr>\n",
       "      <th>5</th>\n",
       "      <td>Name</td>\n",
       "      <td>(1/km)</td>\n",
       "      <td>(mi)</td>\n",
       "      <td></td>\n",
       "      <td></td>\n",
       "      <td></td>\n",
       "      <td></td>\n",
       "    </tr>\n",
       "    <tr>\n",
       "      <th>6</th>\n",
       "      <td></td>\n",
       "      <td></td>\n",
       "      <td></td>\n",
       "      <td>Speed</td>\n",
       "      <td>Accel</td>\n",
       "      <td>Stops</td>\n",
       "      <td>Idle</td>\n",
       "    </tr>\n",
       "    <tr>\n",
       "      <th>7</th>\n",
       "      <td>2012_2</td>\n",
       "      <td>3.30</td>\n",
       "      <td>1.3</td>\n",
       "      <td>5.9%</td>\n",
       "      <td>9.5%</td>\n",
       "      <td>29.2%</td>\n",
       "      <td>17.4%</td>\n",
       "    </tr>\n",
       "    <tr>\n",
       "      <th>8</th>\n",
       "      <td>2145_1</td>\n",
       "      <td>0.68</td>\n",
       "      <td>11.2</td>\n",
       "      <td>2.4%</td>\n",
       "      <td>0.1%</td>\n",
       "      <td>9.5%</td>\n",
       "      <td>2.7%</td>\n",
       "    </tr>\n",
       "    <tr>\n",
       "      <th>9</th>\n",
       "      <td>4234_1</td>\n",
       "      <td>0.59</td>\n",
       "      <td>58.7</td>\n",
       "      <td>8.5%</td>\n",
       "      <td>1.3%</td>\n",
       "      <td>8.5%</td>\n",
       "      <td>3.3%</td>\n",
       "    </tr>\n",
       "    <tr>\n",
       "      <th>10</th>\n",
       "      <td>2032_2</td>\n",
       "      <td>0.17</td>\n",
       "      <td>57.8</td>\n",
       "      <td>21.7%</td>\n",
       "      <td>0.3%</td>\n",
       "      <td>2.7%</td>\n",
       "      <td>1.2%</td>\n",
       "    </tr>\n",
       "    <tr>\n",
       "      <th>11</th>\n",
       "      <td>4171_1</td>\n",
       "      <td>0.07</td>\n",
       "      <td>173.9</td>\n",
       "      <td>58.1%</td>\n",
       "      <td>1.6%</td>\n",
       "      <td>2.1%</td>\n",
       "      <td>0.5%</td>\n",
       "    </tr>\n",
       "  </tbody>\n",
       "</table>\n",
       "</div>"
      ],
      "text/plain": [
       "                                                    0  \\\n",
       "0   reducing the number of stops in high KI cycles...   \n",
       "1                                                       \n",
       "2                                                       \n",
       "3                                               Cycle   \n",
       "4                                                       \n",
       "5                                                Name   \n",
       "6                                                       \n",
       "7                                              2012_2   \n",
       "8                                              2145_1   \n",
       "9                                              4234_1   \n",
       "10                                             2032_2   \n",
       "11                                             4171_1   \n",
       "\n",
       "                                                    1         2         3  \\\n",
       "0                                                                           \n",
       "1   Table 2-1. Simulated fuel savings from isolate...                       \n",
       "2                                                                           \n",
       "3                                                  KI  Distance             \n",
       "4                                                                Improved   \n",
       "5                                              (1/km)      (mi)             \n",
       "6                                                                   Speed   \n",
       "7                                                3.30       1.3      5.9%   \n",
       "8                                                0.68      11.2      2.4%   \n",
       "9                                                0.59      58.7      8.5%   \n",
       "10                                               0.17      57.8     21.7%   \n",
       "11                                               0.07     173.9     58.1%   \n",
       "\n",
       "            4                     5          6  \n",
       "0                                               \n",
       "1                                               \n",
       "2              Percent Fuel Savings             \n",
       "3                                               \n",
       "4   Decreased             Eliminate  Decreased  \n",
       "5                                               \n",
       "6       Accel                 Stops       Idle  \n",
       "7        9.5%                 29.2%      17.4%  \n",
       "8        0.1%                  9.5%       2.7%  \n",
       "9        1.3%                  8.5%       3.3%  \n",
       "10       0.3%                  2.7%       1.2%  \n",
       "11       1.6%                  2.1%       0.5%  "
      ]
     },
     "execution_count": 13,
     "metadata": {},
     "output_type": "execute_result"
    }
   ],
   "source": [
    "import camelot\n",
    "\n",
    "# Import table from foo.pdf\n",
    "tables = camelot.read_pdf('C:\\\\rajesh\\\\python3TRG\\\\jupyter\\\\myWork\\\\data\\\\foo.pdf',flavor='stream')\n",
    "print(tables)\n",
    "print(tables[0])\n",
    "print(tables[0].parsing_report)\n",
    "\n",
    "# Write to file : to_csv, to_json, to_excel, to_html\n",
    "tables[0].to_json('C:\\\\rajesh\\\\python3TRG\\\\jupyter\\\\myWork\\\\data\\\\foo.json')\n",
    "\n",
    "# Export to file & compress : f= csv, json, excel, html\n",
    "tables.export('C:\\\\rajesh\\\\python3TRG\\\\jupyter\\\\myWork\\\\data\\\\foo.xlsx', f='excel', compress=True) \n",
    "\n",
    "# Dataframe\n",
    "tables[0].df"
   ]
  },
  {
   "cell_type": "markdown",
   "metadata": {},
   "source": [
    "# Comprehension : List & Lambda"
   ]
  },
  {
   "cell_type": "markdown",
   "metadata": {},
   "source": [
    "Lambda Function : <br>\n",
    "A lambda function is a small anonymous function. <br>\n",
    "A lambda function can take any number of arguments, but can only have one expression. <br>\n",
    "Syntax : lambda arguments : expression<br>\n",
    "<br>\n",
    "Filter : <br>\n",
    "The filter() method constructs an iterator from elements of an iterable for which a function returns true.<br>\n",
    "Syntax :<br>\n",
    "filter(function, iterable)"
   ]
  },
  {
   "cell_type": "code",
   "execution_count": 24,
   "metadata": {},
   "outputs": [
    {
     "name": "stdout",
     "output_type": "stream",
     "text": [
      "6\n",
      "<filter object at 0x000002A1AD414F28>\n",
      "['Python', 'Perl']\n",
      "['Python', 'Java', 'Perl', 'C++', 'Ruby', 'Javascript']\n",
      "['Python', 'Perl']\n"
     ]
    }
   ],
   "source": [
    "languages = ['Python','Java','Perl','C++','Ruby','Javascript']\n",
    "\n",
    "# Use Lambda & Filter\n",
    "x=lambda lang : len(lang)\n",
    "print(x(languages))\n",
    "\n",
    "p_only=filter(lambda lang :lang.startswith('P') , languages)\n",
    "print(p_only)\n",
    "\n",
    "p_only = list(filter(lambda lang :lang.startswith('P') , languages))\n",
    "print(p_only)\n",
    "\n",
    "# Use list comprehension\n",
    "p_only = [lang for lang in languages]\n",
    "print(p_only)\n",
    "p_only = [lang for lang in languages if lang.startswith('P')]\n",
    "print(p_only)"
   ]
  },
  {
   "cell_type": "markdown",
   "metadata": {},
   "source": [
    "### Dict comprehension + Reversal of keys & values\n"
   ]
  },
  {
   "cell_type": "code",
   "execution_count": 38,
   "metadata": {},
   "outputs": [
    {
     "name": "stdout",
     "output_type": "stream",
     "text": [
      "{'white': 10, 'yellow': 50, 'orange': 100, 'green': 150, 'blue': 200}\n"
     ]
    }
   ],
   "source": [
    "belts = {\n",
    "    10 : \"white\",\n",
    "    50: \"yellow\",\n",
    "    100: \"orange\",\n",
    "    150: \"green\",\n",
    "    200 : \"blue\"\n",
    "}\n",
    "\n",
    "print({belt: score for score, belt in belts.items()})"
   ]
  },
  {
   "cell_type": "markdown",
   "metadata": {},
   "source": [
    "#### Python to log into a PHP website\n",
    "##### https://linuxhint.com/logging_into_websites_python/"
   ]
  },
  {
   "cell_type": "code",
   "execution_count": 22,
   "metadata": {
    "collapsed": true
   },
   "outputs": [
    {
     "ename": "SyntaxError",
     "evalue": "invalid syntax (<ipython-input-22-743aa356f9d0>, line 2)",
     "output_type": "error",
     "traceback": [
      "\u001b[1;36m  File \u001b[1;32m\"<ipython-input-22-743aa356f9d0>\"\u001b[1;36m, line \u001b[1;32m2\u001b[0m\n\u001b[1;33m    pip install BeautifulSoup4\u001b[0m\n\u001b[1;37m              ^\u001b[0m\n\u001b[1;31mSyntaxError\u001b[0m\u001b[1;31m:\u001b[0m invalid syntax\n"
     ]
    }
   ],
   "source": [
    "pip install requests"
   ]
  },
  {
   "cell_type": "code",
   "execution_count": 23,
   "metadata": {},
   "outputs": [
    {
     "name": "stdout",
     "output_type": "stream",
     "text": [
      "Collecting BeautifulSoup4\n",
      "  Downloading beautifulsoup4-4.9.3-py3-none-any.whl (115 kB)\n",
      "Collecting soupsieve>1.2\n",
      "  Downloading soupsieve-2.2.1-py3-none-any.whl (33 kB)\n",
      "Installing collected packages: soupsieve, BeautifulSoup4\n",
      "Successfully installed BeautifulSoup4-4.9.3 soupsieve-2.2.1\n",
      "Note: you may need to restart the kernel to use updated packages.\n"
     ]
    }
   ],
   "source": [
    "pip install BeautifulSoup4"
   ]
  },
  {
   "cell_type": "code",
   "execution_count": 44,
   "metadata": {
    "scrolled": false
   },
   "outputs": [
    {
     "name": "stdout",
     "output_type": "stream",
     "text": [
      "<div class=\"card card-body pb-0\" data-k1317129bfef8a691ecf58be3fa61139d=\"25d74ab0c9868f79c04b713657a4c132\" id=\"auth\" style=\"opacity:0.2\">\n",
      "<div class=\"form-group\">\n",
      "<label for=\"login-username\">Username: <span class=\"text-danger\">*</span></label>\n",
      "<input class=\"form-control\" id=\"login-username\" name=\"username\" placeholder=\"Username (Required)\" required=\"\" type=\"text\" value=\"\"/>\n",
      "</div>\n",
      "<div class=\"form-group\">\n",
      "<label for=\"login-password\">Password: <span class=\"text-danger\">*</span></label>\n",
      "<div class=\"input-group password-group mb-0\">\n",
      "<input class=\"form-control\" id=\"login-password\" name=\"password\" placeholder=\"Password (Required)\" required=\"\" type=\"password\"/>\n",
      "</div>\n",
      "</div>\n",
      "</div>\n"
     ]
    }
   ],
   "source": [
    "import requests\n",
    "from bs4 import BeautifulSoup\n",
    "\n",
    "login_url='https://parentportal.northcote.school.nz/index.php'\n",
    "home_url='https://parentportal.northcote.school.nz/index.php/b89c3a92d522e69c9bfcf869e98e63c7/0db58d1735f62e8208d7ba8597b4d989'\n",
    "protected_url = 'https://parentportal.northcote.school.nz/index.php/home'\n",
    "login_data = {'username':'20035','password':'berGen2a'}\n",
    "\n",
    "try :\n",
    "    # Get session \n",
    "    with requests.Session() as request_session :\n",
    "        # Get token\n",
    "        login_page = request_session.get(login_url)\n",
    "        bs4_login = bs(login_page.content, \"html.parser\")\n",
    "#         token = bs4_login.find(\"div\",{\"class\":\"card card-body pb-0\"})[\"data-kd64eef73261c8d328f3073bd1f35c617\"]\n",
    "        token = bs4_login.find(\"div\",{\"class\":\"card card-body pb-0\"})\n",
    "        print(token)\n",
    "#         login_data['kd64eef73261c8d328f3073bd1f35c617'] = token\n",
    "        # construct cookie\n",
    "#         request_cookie = {\n",
    "#             \"_ga\":\"GA1.3.1216223358.1618211006\",\n",
    "#             \"AzureAppProxyAnalyticCookie_017a2f2a-2df6-46ab-8eee-4a6fefa13b91_1.3\":\"3|9j1Dlkp8T+TfXOPSQ/bBgre/CThV9rc+lrcZO/6Y2uFxJpCT16s4hQAN4FlvaeorMaKcNcJzJVpMExtDRtMpQyVHjIuEba0AsKvxmqTblb9lh2KHxjXXxlgY3wVPU+8ZNRBQCE/8cjuk2t/vpG1UAA==\",\n",
    "#             \"csrf_kamar_cn\":\"76252ba2137506d7f99e7749b3214063\"\n",
    "#         }\n",
    "#         request_cookie['kamar_session'] = token\n",
    "#         print(login_data)\n",
    "#         prepare_request = requests.Request('POST',home_url,data=login_data)\n",
    "#         prepared_request = prepare_request.prepare()\n",
    "#         print(f\"Method : {prepared_request.method} URL: {prepared_request.url} Header : {prepared_request.headers}\")\n",
    "        # POST to login\n",
    "#         login_response=request_session.post(home_url,login_data)\n",
    "#         print(login_response.content)\n",
    "#         print(login_response.cookies)\n",
    "#         home_page=request_session.get(protected_url,cookies=request_cookie)\n",
    "#         print(home_page.content)\n",
    "        \n",
    "        \n",
    "except Exception as error:\n",
    "    print(error)\n",
    "    raise error\n",
    "\n"
   ]
  },
  {
   "cell_type": "markdown",
   "metadata": {},
   "source": [
    "## Faker\n",
    "#### https://www.geeksforgeeks.org/python-faker-library/"
   ]
  },
  {
   "cell_type": "code",
   "execution_count": 45,
   "metadata": {},
   "outputs": [
    {
     "name": "stdout",
     "output_type": "stream",
     "text": [
      "Collecting faker\n",
      "  Downloading Faker-8.1.1-py3-none-any.whl (1.2 MB)\n",
      "Requirement already satisfied: python-dateutil>=2.4 in c:\\rajesh\\jupyter\\venv\\lib\\site-packages (from faker) (2.8.1)\n",
      "Collecting text-unidecode==1.3\n",
      "  Downloading text_unidecode-1.3-py2.py3-none-any.whl (78 kB)\n",
      "Requirement already satisfied: six>=1.5 in c:\\rajesh\\jupyter\\venv\\lib\\site-packages (from python-dateutil>=2.4->faker) (1.15.0)\n",
      "Installing collected packages: text-unidecode, faker\n",
      "Successfully installed faker-8.1.1 text-unidecode-1.3\n",
      "Note: you may need to restart the kernel to use updated packages.\n"
     ]
    }
   ],
   "source": [
    "pip install faker"
   ]
  },
  {
   "cell_type": "code",
   "execution_count": 16,
   "metadata": {},
   "outputs": [
    {
     "data": {
      "text/plain": [
       "['__class__',\n",
       " '__delattr__',\n",
       " '__dict__',\n",
       " '__dir__',\n",
       " '__doc__',\n",
       " '__eq__',\n",
       " '__format__',\n",
       " '__ge__',\n",
       " '__getattr__',\n",
       " '__getattribute__',\n",
       " '__getitem__',\n",
       " '__gt__',\n",
       " '__hash__',\n",
       " '__init__',\n",
       " '__init_subclass__',\n",
       " '__le__',\n",
       " '__lt__',\n",
       " '__module__',\n",
       " '__ne__',\n",
       " '__new__',\n",
       " '__reduce__',\n",
       " '__reduce_ex__',\n",
       " '__repr__',\n",
       " '__setattr__',\n",
       " '__sizeof__',\n",
       " '__str__',\n",
       " '__subclasshook__',\n",
       " '__weakref__',\n",
       " '_factories',\n",
       " '_factory_map',\n",
       " '_locales',\n",
       " '_map_provider_method',\n",
       " '_select_factory',\n",
       " '_unique_proxy',\n",
       " '_weights',\n",
       " 'add_provider',\n",
       " 'address',\n",
       " 'administrative_unit',\n",
       " 'am_pm',\n",
       " 'android_platform_token',\n",
       " 'ascii_company_email',\n",
       " 'ascii_email',\n",
       " 'ascii_free_email',\n",
       " 'ascii_safe_email',\n",
       " 'bank_country',\n",
       " 'bban',\n",
       " 'binary',\n",
       " 'boolean',\n",
       " 'bothify',\n",
       " 'bs',\n",
       " 'building_number',\n",
       " 'cache_pattern',\n",
       " 'catch_phrase',\n",
       " 'century',\n",
       " 'chrome',\n",
       " 'city',\n",
       " 'city_prefix',\n",
       " 'city_suffix',\n",
       " 'color',\n",
       " 'color_name',\n",
       " 'company',\n",
       " 'company_email',\n",
       " 'company_suffix',\n",
       " 'coordinate',\n",
       " 'country',\n",
       " 'country_calling_code',\n",
       " 'country_code',\n",
       " 'credit_card_expire',\n",
       " 'credit_card_full',\n",
       " 'credit_card_number',\n",
       " 'credit_card_provider',\n",
       " 'credit_card_security_code',\n",
       " 'cryptocurrency',\n",
       " 'cryptocurrency_code',\n",
       " 'cryptocurrency_name',\n",
       " 'csv',\n",
       " 'currency',\n",
       " 'currency_code',\n",
       " 'currency_name',\n",
       " 'currency_symbol',\n",
       " 'current_country',\n",
       " 'current_country_code',\n",
       " 'date',\n",
       " 'date_between',\n",
       " 'date_between_dates',\n",
       " 'date_object',\n",
       " 'date_of_birth',\n",
       " 'date_this_century',\n",
       " 'date_this_decade',\n",
       " 'date_this_month',\n",
       " 'date_this_year',\n",
       " 'date_time',\n",
       " 'date_time_ad',\n",
       " 'date_time_between',\n",
       " 'date_time_between_dates',\n",
       " 'date_time_this_century',\n",
       " 'date_time_this_decade',\n",
       " 'date_time_this_month',\n",
       " 'date_time_this_year',\n",
       " 'day_of_month',\n",
       " 'day_of_week',\n",
       " 'del_arguments',\n",
       " 'dga',\n",
       " 'domain_name',\n",
       " 'domain_word',\n",
       " 'dsv',\n",
       " 'ean',\n",
       " 'ean13',\n",
       " 'ean8',\n",
       " 'ein',\n",
       " 'email',\n",
       " 'factories',\n",
       " 'file_extension',\n",
       " 'file_name',\n",
       " 'file_path',\n",
       " 'firefox',\n",
       " 'first_name',\n",
       " 'first_name_female',\n",
       " 'first_name_male',\n",
       " 'first_name_nonbinary',\n",
       " 'fixed_width',\n",
       " 'format',\n",
       " 'free_email',\n",
       " 'free_email_domain',\n",
       " 'future_date',\n",
       " 'future_datetime',\n",
       " 'generator_attrs',\n",
       " 'get_arguments',\n",
       " 'get_formatter',\n",
       " 'get_providers',\n",
       " 'hex_color',\n",
       " 'hexify',\n",
       " 'hostname',\n",
       " 'http_method',\n",
       " 'iban',\n",
       " 'image_url',\n",
       " 'internet_explorer',\n",
       " 'invalid_ssn',\n",
       " 'ios_platform_token',\n",
       " 'ipv4',\n",
       " 'ipv4_network_class',\n",
       " 'ipv4_private',\n",
       " 'ipv4_public',\n",
       " 'ipv6',\n",
       " 'isbn10',\n",
       " 'isbn13',\n",
       " 'iso8601',\n",
       " 'items',\n",
       " 'itin',\n",
       " 'job',\n",
       " 'json',\n",
       " 'language_code',\n",
       " 'language_name',\n",
       " 'last_name',\n",
       " 'last_name_female',\n",
       " 'last_name_male',\n",
       " 'last_name_nonbinary',\n",
       " 'latitude',\n",
       " 'latlng',\n",
       " 'lexify',\n",
       " 'license_plate',\n",
       " 'linux_platform_token',\n",
       " 'linux_processor',\n",
       " 'local_latlng',\n",
       " 'locale',\n",
       " 'locales',\n",
       " 'localized_ean',\n",
       " 'localized_ean13',\n",
       " 'localized_ean8',\n",
       " 'location_on_land',\n",
       " 'longitude',\n",
       " 'mac_address',\n",
       " 'mac_platform_token',\n",
       " 'mac_processor',\n",
       " 'md5',\n",
       " 'military_apo',\n",
       " 'military_dpo',\n",
       " 'military_ship',\n",
       " 'military_state',\n",
       " 'mime_type',\n",
       " 'month',\n",
       " 'month_name',\n",
       " 'msisdn',\n",
       " 'name',\n",
       " 'name_female',\n",
       " 'name_male',\n",
       " 'name_nonbinary',\n",
       " 'null_boolean',\n",
       " 'numerify',\n",
       " 'opera',\n",
       " 'paragraph',\n",
       " 'paragraphs',\n",
       " 'parse',\n",
       " 'password',\n",
       " 'past_date',\n",
       " 'past_datetime',\n",
       " 'phone_number',\n",
       " 'port_number',\n",
       " 'postalcode',\n",
       " 'postalcode_in_state',\n",
       " 'postalcode_plus4',\n",
       " 'postcode',\n",
       " 'postcode_in_state',\n",
       " 'prefix',\n",
       " 'prefix_female',\n",
       " 'prefix_male',\n",
       " 'prefix_nonbinary',\n",
       " 'pricetag',\n",
       " 'profile',\n",
       " 'provider',\n",
       " 'providers',\n",
       " 'psv',\n",
       " 'pybool',\n",
       " 'pydecimal',\n",
       " 'pydict',\n",
       " 'pyfloat',\n",
       " 'pyint',\n",
       " 'pyiterable',\n",
       " 'pylist',\n",
       " 'pyset',\n",
       " 'pystr',\n",
       " 'pystr_format',\n",
       " 'pystruct',\n",
       " 'pytimezone',\n",
       " 'pytuple',\n",
       " 'random',\n",
       " 'random_choices',\n",
       " 'random_digit',\n",
       " 'random_digit_not_null',\n",
       " 'random_digit_not_null_or_empty',\n",
       " 'random_digit_or_empty',\n",
       " 'random_element',\n",
       " 'random_elements',\n",
       " 'random_int',\n",
       " 'random_letter',\n",
       " 'random_letters',\n",
       " 'random_lowercase_letter',\n",
       " 'random_number',\n",
       " 'random_sample',\n",
       " 'random_uppercase_letter',\n",
       " 'randomize_nb_elements',\n",
       " 'rgb_color',\n",
       " 'rgb_css_color',\n",
       " 'safari',\n",
       " 'safe_color_name',\n",
       " 'safe_domain_name',\n",
       " 'safe_email',\n",
       " 'safe_hex_color',\n",
       " 'secondary_address',\n",
       " 'seed',\n",
       " 'seed_instance',\n",
       " 'seed_locale',\n",
       " 'sentence',\n",
       " 'sentences',\n",
       " 'set_arguments',\n",
       " 'set_formatter',\n",
       " 'sha1',\n",
       " 'sha256',\n",
       " 'simple_profile',\n",
       " 'slug',\n",
       " 'ssn',\n",
       " 'state',\n",
       " 'state_abbr',\n",
       " 'street_address',\n",
       " 'street_name',\n",
       " 'street_suffix',\n",
       " 'suffix',\n",
       " 'suffix_female',\n",
       " 'suffix_male',\n",
       " 'suffix_nonbinary',\n",
       " 'swift',\n",
       " 'swift11',\n",
       " 'swift8',\n",
       " 'tar',\n",
       " 'text',\n",
       " 'texts',\n",
       " 'time',\n",
       " 'time_delta',\n",
       " 'time_object',\n",
       " 'time_series',\n",
       " 'timezone',\n",
       " 'tld',\n",
       " 'tsv',\n",
       " 'unique',\n",
       " 'unix_device',\n",
       " 'unix_partition',\n",
       " 'unix_time',\n",
       " 'upc_a',\n",
       " 'upc_e',\n",
       " 'uri',\n",
       " 'uri_extension',\n",
       " 'uri_page',\n",
       " 'uri_path',\n",
       " 'url',\n",
       " 'user_agent',\n",
       " 'user_name',\n",
       " 'uuid4',\n",
       " 'weights',\n",
       " 'windows_platform_token',\n",
       " 'word',\n",
       " 'words',\n",
       " 'year',\n",
       " 'zip',\n",
       " 'zipcode',\n",
       " 'zipcode_in_state',\n",
       " 'zipcode_plus4']"
      ]
     },
     "execution_count": 16,
     "metadata": {},
     "output_type": "execute_result"
    }
   ],
   "source": [
    "dir(fake)"
   ]
  },
  {
   "cell_type": "markdown",
   "metadata": {},
   "source": [
    "#### Common Examples"
   ]
  },
  {
   "cell_type": "code",
   "execution_count": 19,
   "metadata": {},
   "outputs": [
    {
     "name": "stdout",
     "output_type": "stream",
     "text": [
      "Hi ! Elizabeth Wilson from Poland living at 72391 Paula Isle Suite 316\n",
      "North Amber, CO 77763 can be contacted on paulmurray@white.com\n",
      "His home page is http://brown-howell.org/ and his location is -87.377223, -63.565758)\n",
      "He says Five audience option until when.\n",
      "Affect trip happen range. Hold professor writer president eye point sign. Good practice maybe billion group.\n",
      "Imagine lead hair leader couple. Assume well experience.\n"
     ]
    }
   ],
   "source": [
    "from faker import Faker \n",
    "\n",
    "fake = Faker()\n",
    "\n",
    "print(f\"Hi ! {fake.name()} from {fake.country()} living at {fake.address()} can be contacted on {fake.email()}\")\n",
    "print(f\"His home page is {fake.url()} and his location is {fake.latitude()}, {fake.longitude()})\")\n",
    "print( f\"He says {fake.text()}\")\n"
   ]
  },
  {
   "cell_type": "code",
   "execution_count": 31,
   "metadata": {},
   "outputs": [
    {
     "name": "stdout",
     "output_type": "stream",
     "text": [
      "['account', 'attention', 'local']\n",
      "16628\n",
      "Misc.\n",
      "$72.56\n",
      "4505\n",
      "0 --- {'before': 'ZQJAwDojBjmJjMANIBzz', 'front': 9823, 'himself': -855578313.856917, 'skin': datetime.datetime(2003, 4, 26, 14, 23, 33), 'report': 'http://duarte.com/search/category/login.htm', 'per': 'jameswaller@chase.com', 'military': 2435, 'tree': 'bwTvdAXdtZAbOdOQrNFG'}\n",
      "1 --- {'sure': 'lhTFGKctIikHiMPXIoyW', 'sign': Decimal('-1.44468942013502'), 'current': 'http://shelton.biz/', 'marriage': Decimal('-21364814570.156'), 'front': 518693463627.38, 'field': 'fpRuNQTpvNPlVipYwodr', 'particularly': 9633, 'ok': 'zlaaRzcxTuBOcwZfjiRB'}\n",
      "2 --- {'Republican': 39653.4691151378, 'somebody': 7217, 'pretty': 'hDKiVsrKJSqTssZbfNrb', 'mother': 9218, 'low': datetime.datetime(1976, 12, 29, 20, 44, 17), 'me': 'ZqGRyRRuguhYepRPiFQQ', 'green': datetime.datetime(2005, 12, 11, 3, 13, 17), 'various': 'guEolVsSaEncWffhNgOC'}\n",
      "3 --- {'white': datetime.datetime(2006, 10, 25, 8, 42, 42), 'and': 'OeICCVqenqLjmkyVAxcy', 'he': 281.811635191744, 'area': datetime.datetime(1988, 5, 25, 4, 52, 54), 'clearly': 'qLiaExBGOgiontYdstdQ', 'mention': Decimal('-5402816180577.68'), 'hold': 'FIAZsLvvmsNwACGdjEPo', 'may': 'FEBXtppJZGbuQdaofAvB', 'turn': 'xOHOYRNXvDNBPbwTjFXF', 'one': 'https://www.monroe.com/search/', 'hand': 'dHTHHmPFvnEpcILOfTcI'}\n",
      "4 --- {'she': 'http://www.rowland.com/explore/privacy/', 'think': 892, 'only': 99259.3787313848, 'six': 'FHVyiIDZQQtzeZqABtiz', 'any': 'ARWzyfKNCHmAvJTaJXGE', 'fight': datetime.datetime(2015, 4, 3, 17, 28, 41), 'thing': 'heatherandrews@yahoo.com', 'especially': 'PkLuKhCEkQVXtdnGrlyc', 'social': 'https://wong.com/'}\n"
     ]
    }
   ],
   "source": [
    "from faker import Faker \n",
    "\n",
    "fake = Faker()\n",
    "\n",
    "print(fake.words())\n",
    "print(fake.zipcode())\n",
    "print(fake.prefix_nonbinary())\n",
    "print(fake.pricetag())\n",
    "print(fake.random_int())\n",
    "for count,_ in enumerate(range(5)):\n",
    "    print(f\"{count} --- {fake.pydict()}\")"
   ]
  },
  {
   "cell_type": "markdown",
   "metadata": {},
   "source": [
    "Application 1 : Create a json of 100 students with name students.json that contains student name, address, location coordinates and student roll number."
   ]
  },
  {
   "cell_type": "code",
   "execution_count": 37,
   "metadata": {},
   "outputs": [
    {
     "name": "stdout",
     "output_type": "stream",
     "text": [
      "[{\"id\": 3948, \"prefix\": \"Dr.\", \"name\": \"Richard Miller\", \"address\": \"733 Martin Glens\\nCalderonton, WI 94043\", \"email\": \"jennifergordon@hotmail.com\"}, {\"id\": 768, \"prefix\": \"Mrs.\", \"name\": \"William Cervantes\", \"address\": \"3023 Brent Greens Apt. 975\\nJohnside, MO 69030\", \"email\": \"taylorhamilton@yahoo.com\"}, {\"id\": 1739, \"prefix\": \"Mrs.\", \"name\": \"Christy Collins\", \"address\": \"3080 Gina Mountains\\nHernandezbury, SD 27805\", \"email\": \"johnsonstephanie@sanders-green.org\"}, {\"id\": 1862, \"prefix\": \"Mrs.\", \"name\": \"Erik Wright\", \"address\": \"5658 Amy Via Apt. 895\\nBerryberg, WA 69735\", \"email\": \"austin08@yahoo.com\"}, {\"id\": 1660, \"prefix\": \"Dr.\", \"name\": \"Robert Rich\", \"address\": \"38021 Joanna Alley\\nHortonfort, AK 11519\", \"email\": \"gweaver@hammond.info\"}, {\"id\": 3969, \"prefix\": \"Mr.\", \"name\": \"Jon Watts\", \"address\": \"6140 Trevor Green\\nSouth Wendy, MI 53007\", \"email\": \"amanda30@ellis.com\"}, {\"id\": 5026, \"prefix\": \"Dr.\", \"name\": \"Krista Jackson\", \"address\": \"96939 Gibson Courts\\nGutierrezfurt, TN 36277\", \"email\": \"david30@yahoo.com\"}, {\"id\": 8606, \"prefix\": \"Mx.\", \"name\": \"Jennifer Conrad\", \"address\": \"29175 Daniels Unions Apt. 740\\nNew Oscarchester, CO 60246\", \"email\": \"rochalindsey@hotmail.com\"}, {\"id\": 4965, \"prefix\": \"Mr.\", \"name\": \"Joseph Williams\", \"address\": \"48047 Calderon Gardens Apt. 312\\nFrankmouth, WA 01994\", \"email\": \"lauren22@yahoo.com\"}, {\"id\": 1567, \"prefix\": \"Mrs.\", \"name\": \"Brandon Rice\", \"address\": \"Unit 7362 Box 5182\\nDPO AP 22385\", \"email\": \"jose27@owens.org\"}]\n"
     ]
    }
   ],
   "source": [
    "from faker import Faker\n",
    "import json\n",
    "\n",
    "fake = Faker()\n",
    "\n",
    "student_data_list=[]\n",
    "for _ in range(0,10):\n",
    "    student_data = {}\n",
    "    student_data['id']= fake.random_int()\n",
    "    student_data['prefix']= fake.prefix()\n",
    "    student_data['name']= fake.name()\n",
    "    student_data['address']= fake.address() \n",
    "    student_data['email']= fake.email() \n",
    "    \n",
    "    student_data_list.append(student_data)\n",
    "    \n",
    "print(json.dumps(student_data_list))"
   ]
  },
  {
   "cell_type": "markdown",
   "metadata": {},
   "source": [
    "Application 2: Create a fake profile repeatedly"
   ]
  },
  {
   "cell_type": "code",
   "execution_count": 46,
   "metadata": {},
   "outputs": [
    {
     "name": "stdout",
     "output_type": "stream",
     "text": [
      "{'job': 'Musician', 'company': 'Williams-Sheppard', 'ssn': '498-52-4970', 'residence': 'Unit 5938 Box 2421\\nDPO AP 33335', 'current_location': (Decimal('52.958961'), Decimal('143.143712')), 'blood_group': 'B+', 'website': ['http://www.rivera.com/', 'http://grimes-green.net/', 'http://www.larsen.com/'], 'username': 'leeashley', 'name': 'Gary Cross', 'sex': 'M', 'address': '711 Golden Overpass\\nWest Andreaville, MA 71317', 'mail': 'tamaramorrison@hotmail.com', 'birthdate': datetime.date(1944, 6, 19)}\n"
     ]
    }
   ],
   "source": [
    "from faker import Faker\n",
    "\n",
    "fake=Faker()\n",
    "\n",
    "Faker.seed(0)\n",
    "print(fake.profile())"
   ]
  },
  {
   "cell_type": "markdown",
   "metadata": {},
   "source": [
    "Application 3: Print data from the list you want."
   ]
  },
  {
   "cell_type": "code",
   "execution_count": 47,
   "metadata": {},
   "outputs": [
    {
     "name": "stdout",
     "output_type": "stream",
     "text": [
      "0 --- Order In Progress Customer Order Order In Progress.\n",
      "1 --- Completed Completed Customer.\n",
      "2 --- Completed Order Order Order.\n",
      "3 --- In Progress In Progress Completed Customer.\n"
     ]
    }
   ],
   "source": [
    "from faker import Faker\n",
    "\n",
    "fake=Faker()\n",
    "\n",
    "word_list = ['Order', 'Customer', 'Completed', 'In Progress']\n",
    "\n",
    "for count, _ in enumerate(range(0,4)):\n",
    "    print(f\"{count} --- {fake.sentence(ext_word_list=word_list)}\")\n",
    "    "
   ]
  },
  {
   "cell_type": "markdown",
   "metadata": {},
   "source": [
    "## Google Search"
   ]
  },
  {
   "cell_type": "code",
   "execution_count": 194,
   "metadata": {},
   "outputs": [
    {
     "name": "stdout",
     "output_type": "stream",
     "text": [
      "Collecting GoogleNewsNote: you may need to restart the kernel to use updated packages.\n",
      "  Downloading GoogleNews-1.5.8-py3-none-any.whl (7.7 kB)\n",
      "Requirement already satisfied: python-dateutil in c:\\rajesh\\jupyter\\venv\\lib\\site-packages (from GoogleNews) (2.8.1)\n",
      "Requirement already satisfied: beautifulsoup4 in c:\\rajesh\\jupyter\\venv\\lib\\site-packages (from GoogleNews) (4.9.3)\n",
      "Collecting dateparser\n",
      "  Downloading dateparser-1.0.0-py2.py3-none-any.whl (279 kB)\n",
      "Requirement already satisfied: soupsieve>1.2 in c:\\rajesh\\jupyter\\venv\\lib\\site-packages (from beautifulsoup4->GoogleNews) (2.2.1)\n",
      "Collecting regex!=2019.02.19\n",
      "  Downloading regex-2021.4.4-cp37-cp37m-win_amd64.whl (269 kB)\n",
      "Collecting tzlocal\n",
      "  Using cached tzlocal-2.1-py2.py3-none-any.whl (16 kB)\n",
      "Requirement already satisfied: pytz in c:\\rajesh\\jupyter\\venv\\lib\\site-packages (from dateparser->GoogleNews) (2020.5)\n",
      "Requirement already satisfied: six>=1.5 in c:\\rajesh\\jupyter\\venv\\lib\\site-packages (from python-dateutil->GoogleNews) (1.15.0)\n",
      "Installing collected packages: tzlocal, regex, dateparser, GoogleNews\n",
      "Successfully installed GoogleNews-1.5.8 dateparser-1.0.0 regex-2021.4.4 tzlocal-2.1\n",
      "\n"
     ]
    },
    {
     "name": "stderr",
     "output_type": "stream",
     "text": [
      "WARNING: You are using pip version 21.0.1; however, version 21.1.1 is available.\n",
      "You should consider upgrading via the 'c:\\rajesh\\jupyter\\venv\\scripts\\python.exe -m pip install --upgrade pip' command.\n"
     ]
    }
   ],
   "source": [
    "pip install GoogleNews"
   ]
  },
  {
   "cell_type": "raw",
   "metadata": {},
   "source": [
    "from GoogleNews import GoogleNews\n",
    "\n",
    "# googlenews = GoogleNews()\n",
    "googlenews = GoogleNews(period='7d')\n",
    "googlenews.search('In God We Trust')\n",
    "result = googlenews.result()\n",
    "\n",
    "for record in result:\n",
    "    print(f\"{record}\")\n",
    "    \n",
    "for record in result:\n",
    "    print(f\"{record['date']} - {record['title']} - {record['media']}\")\n"
   ]
  },
  {
   "cell_type": "markdown",
   "metadata": {},
   "source": [
    "## Collections"
   ]
  },
  {
   "cell_type": "markdown",
   "metadata": {},
   "source": [
    "### Dequeue"
   ]
  },
  {
   "cell_type": "code",
   "execution_count": 76,
   "metadata": {},
   "outputs": [
    {
     "name": "stdout",
     "output_type": "stream",
     "text": [
      "11.1 ms ± 273 µs per loop (mean ± std. dev. of 7 runs, 100 loops each)\n",
      "40.8 µs ± 464 ns per loop (mean ± std. dev. of 7 runs, 10000 loops each)\n"
     ]
    }
   ],
   "source": [
    "%timeit\n",
    "from collections import deque\n",
    "\n",
    "import random\n",
    "\n",
    "lst=list(range(1000000))\n",
    "deq=deque(range(1000000))\n",
    "\n",
    "def insert_and_delete(ds):\n",
    "    for _ in range(10):\n",
    "        index=random.choice(range(100))\n",
    "        ds.remove(index)\n",
    "        ds.insert(index,index)\n",
    "        \n",
    "%timeit insert_and_delete(lst)\n",
    "%timeit insert_and_delete(deq)"
   ]
  },
  {
   "cell_type": "code",
   "execution_count": 71,
   "metadata": {},
   "outputs": [
    {
     "name": "stdout",
     "output_type": "stream",
     "text": [
      "100    list:4.960003e-05 | deque:2.560002e-05\n",
      "1000   list:5.890000e-04 | deque:2.747000e-04\n",
      "10000  list:1.871890e-02 | deque:2.904400e-03\n",
      "100000 list:2.333279e+00 | deque:2.810370e-02\n"
     ]
    }
   ],
   "source": [
    "from collections import deque\n",
    "from timeit import timeit\n",
    "\n",
    "def time_fifo_testing(num):\n",
    "    integer_list = list(range(num))\n",
    "    integer_deque = deque(range(num))\n",
    "    \n",
    "    time_list = timeit(lambda : integer_list.pop(0), number=num)\n",
    "    time_deque = timeit(lambda : integer_deque.popleft(), number=num)\n",
    "    \n",
    "    return(f\"{num: <6} list:{time_list:.6e} | deque:{time_deque:.6e}\")\n",
    "#     return(f\"{num} list:{time_list} | deque:{time_deque}\")\n",
    "\n",
    "numbers = (100, 1000, 10000, 100000)\n",
    "\n",
    "for number in numbers :\n",
    "    print(time_fifo_testing(number))"
   ]
  },
  {
   "cell_type": "markdown",
   "metadata": {},
   "source": [
    "### Client Associate list processing example\n",
    "###### https://betterprogramming.pub/stop-using-python-lists-everywhere-consider-using-deques-instead-74d37441be4e\n",
    "    \n",
    "    We use a list object (clients) to hold data.\n",
    "    When a client enters the system, we append the client to the end of the waiting list.\n",
    "    Whenever an associate becomes available, we remove the first client in the waiting list by calling pop(0). This method doesn’t only return the first item in the list but also removes it from the list.\n",
    "\n",
    "It’s important to note that we need to check whether clients has any items first because calling pop() on an empty list will result in an IndexError. "
   ]
  },
  {
   "cell_type": "markdown",
   "metadata": {},
   "source": [
    "#### (1) With List"
   ]
  },
  {
   "cell_type": "code",
   "execution_count": 84,
   "metadata": {},
   "outputs": [
    {
     "name": "stdout",
     "output_type": "stream",
     "text": [
      "check_in : in : New client John joined the queue\n",
      "['John']\n",
      "check_in : in : New client Sam joined the queue\n",
      "['John', 'Sam']\n",
      "connect_to_associate : out : Remove client John, connecting to associate Emily\n",
      "['Sam']\n",
      "check_in : in : New client Danny joined the queue\n",
      "['Sam', 'Danny']\n",
      "connect_to_associate : out : Remove client Sam, connecting to associate Zoe\n",
      "connect_to_associate : out : Remove client Danny, connecting to associate Jack\n",
      "connect_to_associate : No mlre clients waiting\n",
      "[]\n",
      "check_in : in : New client John joined the queue\n",
      "['John']\n",
      "check_in : in : New client Sam joined the queue\n",
      "['John', 'Sam']\n",
      "connect_to_associate : out : Remove client John, connecting to associate Emily\n",
      "['Sam']\n",
      "check_in : in : New client Danny joined the queue\n",
      "['Sam', 'Danny']\n",
      "connect_to_associate : out : Remove client Sam, connecting to associate Zoe\n",
      "connect_to_associate : out : Remove client Danny, connecting to associate Jack\n",
      "connect_to_associate : No mlre clients waiting\n",
      "[]\n",
      "check_in : in : New client John joined the queue\n",
      "['John']\n",
      "check_in : in : New client Sam joined the queue\n",
      "['John', 'Sam']\n",
      "connect_to_associate : out : Remove client John, connecting to associate Emily\n",
      "['Sam']\n",
      "check_in : in : New client Danny joined the queue\n",
      "['Sam', 'Danny']\n",
      "connect_to_associate : out : Remove client Sam, connecting to associate Zoe\n",
      "connect_to_associate : out : Remove client Danny, connecting to associate Jack\n",
      "connect_to_associate : No mlre clients waiting\n",
      "[]\n",
      "check_in : in : New client John joined the queue\n",
      "['John']\n",
      "check_in : in : New client Sam joined the queue\n",
      "['John', 'Sam']\n",
      "connect_to_associate : out : Remove client John, connecting to associate Emily\n",
      "['Sam']\n",
      "check_in : in : New client Danny joined the queue\n",
      "['Sam', 'Danny']\n",
      "connect_to_associate : out : Remove client Sam, connecting to associate Zoe\n",
      "connect_to_associate : out : Remove client Danny, connecting to associate Jack\n",
      "connect_to_associate : No mlre clients waiting\n",
      "[]\n",
      "check_in : in : New client John joined the queue\n",
      "['John']\n",
      "check_in : in : New client Sam joined the queue\n",
      "['John', 'Sam']\n",
      "connect_to_associate : out : Remove client John, connecting to associate Emily\n",
      "['Sam']\n",
      "check_in : in : New client Danny joined the queue\n",
      "['Sam', 'Danny']\n",
      "connect_to_associate : out : Remove client Sam, connecting to associate Zoe\n",
      "connect_to_associate : out : Remove client Danny, connecting to associate Jack\n",
      "connect_to_associate : No mlre clients waiting\n",
      "[]\n",
      "check_in : in : New client John joined the queue\n",
      "['John']\n",
      "check_in : in : New client Sam joined the queue\n",
      "['John', 'Sam']\n",
      "connect_to_associate : out : Remove client John, connecting to associate Emily\n",
      "['Sam']\n",
      "check_in : in : New client Danny joined the queue\n",
      "['Sam', 'Danny']\n",
      "connect_to_associate : out : Remove client Sam, connecting to associate Zoe\n",
      "connect_to_associate : out : Remove client Danny, connecting to associate Jack\n",
      "connect_to_associate : No mlre clients waiting\n",
      "[]\n",
      "check_in : in : New client John joined the queue\n",
      "['John']\n",
      "check_in : in : New client Sam joined the queue\n",
      "['John', 'Sam']\n",
      "connect_to_associate : out : Remove client John, connecting to associate Emily\n",
      "['Sam']\n",
      "check_in : in : New client Danny joined the queue\n",
      "['Sam', 'Danny']\n",
      "connect_to_associate : out : Remove client Sam, connecting to associate Zoe\n",
      "connect_to_associate : out : Remove client Danny, connecting to associate Jack\n",
      "connect_to_associate : No mlre clients waiting\n",
      "[]\n",
      "check_in : in : New client John joined the queue\n",
      "['John']\n",
      "check_in : in : New client Sam joined the queue\n",
      "['John', 'Sam']\n",
      "connect_to_associate : out : Remove client John, connecting to associate Emily\n",
      "['Sam']\n",
      "check_in : in : New client Danny joined the queue\n",
      "['Sam', 'Danny']\n",
      "connect_to_associate : out : Remove client Sam, connecting to associate Zoe\n",
      "connect_to_associate : out : Remove client Danny, connecting to associate Jack\n",
      "connect_to_associate : No mlre clients waiting\n",
      "[]\n",
      "check_in : in : New client John joined the queue\n",
      "['John']\n",
      "check_in : in : New client Sam joined the queue\n",
      "['John', 'Sam']\n",
      "connect_to_associate : out : Remove client John, connecting to associate Emily\n",
      "['Sam']\n",
      "check_in : in : New client Danny joined the queue\n",
      "['Sam', 'Danny']\n",
      "connect_to_associate : out : Remove client Sam, connecting to associate Zoe\n",
      "connect_to_associate : out : Remove client Danny, connecting to associate Jack\n",
      "connect_to_associate : No mlre clients waiting\n",
      "[]\n",
      "check_in : in : New client John joined the queue\n",
      "['John']\n",
      "check_in : in : New client Sam joined the queue\n",
      "['John', 'Sam']\n",
      "connect_to_associate : out : Remove client John, connecting to associate Emily\n",
      "['Sam']\n",
      "check_in : in : New client Danny joined the queue\n",
      "['Sam', 'Danny']\n",
      "connect_to_associate : out : Remove client Sam, connecting to associate Zoe\n",
      "connect_to_associate : out : Remove client Danny, connecting to associate Jack\n",
      "connect_to_associate : No mlre clients waiting\n",
      "[]\n",
      "check_in : in : New client John joined the queue\n",
      "['John']\n",
      "check_in : in : New client Sam joined the queue\n",
      "['John', 'Sam']\n",
      "connect_to_associate : out : Remove client John, connecting to associate Emily\n",
      "['Sam']\n",
      "check_in : in : New client Danny joined the queue\n",
      "['Sam', 'Danny']\n",
      "connect_to_associate : out : Remove client Sam, connecting to associate Zoe\n",
      "connect_to_associate : out : Remove client Danny, connecting to associate Jack\n",
      "connect_to_associate : No mlre clients waiting\n",
      "[]\n",
      "check_in : in : New client John joined the queue\n",
      "['John']\n",
      "check_in : in : New client Sam joined the queue\n",
      "['John', 'Sam']\n",
      "connect_to_associate : out : Remove client John, connecting to associate Emily\n",
      "['Sam']\n",
      "check_in : in : New client Danny joined the queue\n",
      "['Sam', 'Danny']\n",
      "connect_to_associate : out : Remove client Sam, connecting to associate Zoe\n",
      "connect_to_associate : out : Remove client Danny, connecting to associate Jack\n",
      "connect_to_associate : No mlre clients waiting\n",
      "[]\n",
      "check_in : in : New client John joined the queue\n",
      "['John']\n",
      "check_in : in : New client Sam joined the queue\n",
      "['John', 'Sam']\n",
      "connect_to_associate : out : Remove client John, connecting to associate Emily\n",
      "['Sam']\n",
      "check_in : in : New client Danny joined the queue\n",
      "['Sam', 'Danny']\n",
      "connect_to_associate : out : Remove client Sam, connecting to associate Zoe\n",
      "connect_to_associate : out : Remove client Danny, connecting to associate Jack\n",
      "connect_to_associate : No mlre clients waiting\n",
      "[]\n",
      "check_in : in : New client John joined the queue\n",
      "['John']\n",
      "check_in : in : New client Sam joined the queue\n",
      "['John', 'Sam']\n",
      "connect_to_associate : out : Remove client John, connecting to associate Emily\n",
      "['Sam']\n",
      "check_in : in : New client Danny joined the queue\n",
      "['Sam', 'Danny']\n",
      "connect_to_associate : out : Remove client Sam, connecting to associate Zoe\n",
      "connect_to_associate : out : Remove client Danny, connecting to associate Jack\n",
      "connect_to_associate : No mlre clients waiting\n",
      "[]\n",
      "check_in : in : New client John joined the queue\n",
      "['John']\n",
      "check_in : in : New client Sam joined the queue\n",
      "['John', 'Sam']\n",
      "connect_to_associate : out : Remove client John, connecting to associate Emily\n",
      "['Sam']\n",
      "check_in : in : New client Danny joined the queue\n",
      "['Sam', 'Danny']\n",
      "connect_to_associate : out : Remove client Sam, connecting to associate Zoe\n",
      "connect_to_associate : out : Remove client Danny, connecting to associate Jack\n",
      "connect_to_associate : No mlre clients waiting\n",
      "[]\n",
      "check_in : in : New client John joined the queue\n",
      "['John']\n",
      "check_in : in : New client Sam joined the queue\n",
      "['John', 'Sam']\n",
      "connect_to_associate : out : Remove client John, connecting to associate Emily\n",
      "['Sam']\n",
      "check_in : in : New client Danny joined the queue\n",
      "['Sam', 'Danny']\n",
      "connect_to_associate : out : Remove client Sam, connecting to associate Zoe\n",
      "connect_to_associate : out : Remove client Danny, connecting to associate Jack\n",
      "connect_to_associate : No mlre clients waiting\n",
      "[]\n",
      "check_in : in : New client John joined the queue\n",
      "['John']\n",
      "check_in : in : New client Sam joined the queue\n",
      "['John', 'Sam']\n",
      "connect_to_associate : out : Remove client John, connecting to associate Emily\n",
      "['Sam']\n",
      "check_in : in : New client Danny joined the queue\n",
      "['Sam', 'Danny']\n",
      "connect_to_associate : out : Remove client Sam, connecting to associate Zoe\n",
      "connect_to_associate : out : Remove client Danny, connecting to associate Jack\n",
      "connect_to_associate : No mlre clients waiting\n",
      "[]\n",
      "check_in : in : New client John joined the queue\n",
      "['John']\n",
      "check_in : in : New client Sam joined the queue\n",
      "['John', 'Sam']\n",
      "connect_to_associate : out : Remove client John, connecting to associate Emily\n",
      "['Sam']\n"
     ]
    },
    {
     "name": "stdout",
     "output_type": "stream",
     "text": [
      "check_in : in : New client Danny joined the queue\n",
      "['Sam', 'Danny']\n",
      "connect_to_associate : out : Remove client Sam, connecting to associate Zoe\n",
      "connect_to_associate : out : Remove client Danny, connecting to associate Jack\n",
      "connect_to_associate : No mlre clients waiting\n",
      "[]\n",
      "check_in : in : New client John joined the queue\n",
      "['John']\n",
      "check_in : in : New client Sam joined the queue\n",
      "['John', 'Sam']\n",
      "connect_to_associate : out : Remove client John, connecting to associate Emily\n",
      "['Sam']\n",
      "check_in : in : New client Danny joined the queue\n",
      "['Sam', 'Danny']\n",
      "connect_to_associate : out : Remove client Sam, connecting to associate Zoe\n",
      "connect_to_associate : out : Remove client Danny, connecting to associate Jack\n",
      "connect_to_associate : No mlre clients waiting\n",
      "[]\n",
      "check_in : in : New client John joined the queue\n",
      "['John']\n",
      "check_in : in : New client Sam joined the queue\n",
      "['John', 'Sam']\n",
      "connect_to_associate : out : Remove client John, connecting to associate Emily\n",
      "['Sam']\n",
      "check_in : in : New client Danny joined the queue\n",
      "['Sam', 'Danny']\n",
      "connect_to_associate : out : Remove client Sam, connecting to associate Zoe\n",
      "connect_to_associate : out : Remove client Danny, connecting to associate Jack\n",
      "connect_to_associate : No mlre clients waiting\n",
      "[]\n",
      "check_in : in : New client John joined the queue\n",
      "['John']\n",
      "check_in : in : New client Sam joined the queue\n",
      "['John', 'Sam']\n",
      "connect_to_associate : out : Remove client John, connecting to associate Emily\n",
      "['Sam']\n",
      "check_in : in : New client Danny joined the queue\n",
      "['Sam', 'Danny']\n",
      "connect_to_associate : out : Remove client Sam, connecting to associate Zoe\n",
      "connect_to_associate : out : Remove client Danny, connecting to associate Jack\n",
      "connect_to_associate : No mlre clients waiting\n",
      "[]\n",
      "check_in : in : New client John joined the queue\n",
      "['John']\n",
      "check_in : in : New client Sam joined the queue\n",
      "['John', 'Sam']\n",
      "connect_to_associate : out : Remove client John, connecting to associate Emily\n",
      "['Sam']\n",
      "check_in : in : New client Danny joined the queue\n",
      "['Sam', 'Danny']\n",
      "connect_to_associate : out : Remove client Sam, connecting to associate Zoe\n",
      "connect_to_associate : out : Remove client Danny, connecting to associate Jack\n",
      "connect_to_associate : No mlre clients waiting\n",
      "[]\n",
      "check_in : in : New client John joined the queue\n",
      "['John']\n",
      "check_in : in : New client Sam joined the queue\n",
      "['John', 'Sam']\n",
      "connect_to_associate : out : Remove client John, connecting to associate Emily\n",
      "['Sam']\n",
      "check_in : in : New client Danny joined the queue\n",
      "['Sam', 'Danny']\n",
      "connect_to_associate : out : Remove client Sam, connecting to associate Zoe\n",
      "connect_to_associate : out : Remove client Danny, connecting to associate Jack\n",
      "connect_to_associate : No mlre clients waiting\n",
      "[]\n",
      "check_in : in : New client John joined the queue\n",
      "['John']\n",
      "check_in : in : New client Sam joined the queue\n",
      "['John', 'Sam']\n",
      "connect_to_associate : out : Remove client John, connecting to associate Emily\n",
      "['Sam']\n",
      "check_in : in : New client Danny joined the queue\n",
      "['Sam', 'Danny']\n",
      "connect_to_associate : out : Remove client Sam, connecting to associate Zoe\n",
      "connect_to_associate : out : Remove client Danny, connecting to associate Jack\n",
      "connect_to_associate : No mlre clients waiting\n",
      "[]\n",
      "check_in : in : New client John joined the queue\n",
      "['John']\n",
      "check_in : in : New client Sam joined the queue\n",
      "['John', 'Sam']\n",
      "connect_to_associate : out : Remove client John, connecting to associate Emily\n",
      "['Sam']\n",
      "check_in : in : New client Danny joined the queue\n",
      "['Sam', 'Danny']\n",
      "connect_to_associate : out : Remove client Sam, connecting to associate Zoe\n",
      "connect_to_associate : out : Remove client Danny, connecting to associate Jack\n",
      "connect_to_associate : No mlre clients waiting\n",
      "[]\n",
      "check_in : in : New client John joined the queue\n",
      "['John']\n",
      "check_in : in : New client Sam joined the queue\n",
      "['John', 'Sam']\n",
      "connect_to_associate : out : Remove client John, connecting to associate Emily\n",
      "['Sam']\n",
      "check_in : in : New client Danny joined the queue\n",
      "['Sam', 'Danny']\n",
      "connect_to_associate : out : Remove client Sam, connecting to associate Zoe\n",
      "connect_to_associate : out : Remove client Danny, connecting to associate Jack\n",
      "connect_to_associate : No mlre clients waiting\n",
      "[]\n",
      "check_in : in : New client John joined the queue\n",
      "['John']\n",
      "check_in : in : New client Sam joined the queue\n",
      "['John', 'Sam']\n",
      "connect_to_associate : out : Remove client John, connecting to associate Emily\n",
      "['Sam']\n",
      "check_in : in : New client Danny joined the queue\n",
      "['Sam', 'Danny']\n",
      "connect_to_associate : out : Remove client Sam, connecting to associate Zoe\n",
      "connect_to_associate : out : Remove client Danny, connecting to associate Jack\n",
      "connect_to_associate : No mlre clients waiting\n",
      "[]\n",
      "check_in : in : New client John joined the queue\n",
      "['John']\n",
      "check_in : in : New client Sam joined the queue\n",
      "['John', 'Sam']\n",
      "connect_to_associate : out : Remove client John, connecting to associate Emily\n",
      "['Sam']\n",
      "check_in : in : New client Danny joined the queue\n",
      "['Sam', 'Danny']\n",
      "connect_to_associate : out : Remove client Sam, connecting to associate Zoe\n",
      "connect_to_associate : out : Remove client Danny, connecting to associate Jack\n",
      "connect_to_associate : No mlre clients waiting\n",
      "[]\n",
      "check_in : in : New client John joined the queue\n",
      "['John']\n",
      "check_in : in : New client Sam joined the queue\n",
      "['John', 'Sam']\n",
      "connect_to_associate : out : Remove client John, connecting to associate Emily\n",
      "['Sam']\n",
      "check_in : in : New client Danny joined the queue\n",
      "['Sam', 'Danny']\n",
      "connect_to_associate : out : Remove client Sam, connecting to associate Zoe\n",
      "connect_to_associate : out : Remove client Danny, connecting to associate Jack\n",
      "connect_to_associate : No mlre clients waiting\n",
      "[]\n",
      "check_in : in : New client John joined the queue\n",
      "['John']\n",
      "check_in : in : New client Sam joined the queue\n",
      "['John', 'Sam']\n",
      "connect_to_associate : out : Remove client John, connecting to associate Emily\n",
      "['Sam']\n",
      "check_in : in : New client Danny joined the queue\n",
      "['Sam', 'Danny']\n",
      "connect_to_associate : out : Remove client Sam, connecting to associate Zoe\n",
      "connect_to_associate : out : Remove client Danny, connecting to associate Jack\n",
      "connect_to_associate : No mlre clients waiting\n",
      "[]\n",
      "check_in : in : New client John joined the queue\n",
      "['John']\n",
      "check_in : in : New client Sam joined the queue\n",
      "['John', 'Sam']\n",
      "connect_to_associate : out : Remove client John, connecting to associate Emily\n",
      "['Sam']\n",
      "check_in : in : New client Danny joined the queue\n",
      "['Sam', 'Danny']\n",
      "connect_to_associate : out : Remove client Sam, connecting to associate Zoe\n",
      "connect_to_associate : out : Remove client Danny, connecting to associate Jack\n",
      "connect_to_associate : No mlre clients waiting\n",
      "[]\n",
      "check_in : in : New client John joined the queue\n",
      "['John']\n",
      "check_in : in : New client Sam joined the queue\n",
      "['John', 'Sam']\n",
      "connect_to_associate : out : Remove client John, connecting to associate Emily\n",
      "['Sam']\n",
      "check_in : in : New client Danny joined the queue\n",
      "['Sam', 'Danny']\n",
      "connect_to_associate : out : Remove client Sam, connecting to associate Zoe\n",
      "connect_to_associate : out : Remove client Danny, connecting to associate Jack\n",
      "connect_to_associate : No mlre clients waiting\n",
      "[]\n",
      "check_in : in : New client John joined the queue\n",
      "['John']\n",
      "check_in : in : New client Sam joined the queue\n",
      "['John', 'Sam']\n",
      "connect_to_associate : out : Remove client John, connecting to associate Emily\n",
      "['Sam']\n",
      "check_in : in : New client Danny joined the queue\n",
      "['Sam', 'Danny']\n",
      "connect_to_associate : out : Remove client Sam, connecting to associate Zoe\n",
      "connect_to_associate : out : Remove client Danny, connecting to associate Jack\n",
      "connect_to_associate : No mlre clients waiting\n",
      "[]\n",
      "check_in : in : New client John joined the queue\n",
      "['John']\n",
      "check_in : in : New client Sam joined the queue\n",
      "['John', 'Sam']\n",
      "connect_to_associate : out : Remove client John, connecting to associate Emily\n",
      "['Sam']\n",
      "check_in : in : New client Danny joined the queue\n",
      "['Sam', 'Danny']\n",
      "connect_to_associate : out : Remove client Sam, connecting to associate Zoe\n",
      "connect_to_associate : out : Remove client Danny, connecting to associate Jack\n",
      "connect_to_associate : No mlre clients waiting\n",
      "[]\n",
      "check_in : in : New client John joined the queue\n",
      "['John']\n",
      "check_in : in : New client Sam joined the queue\n",
      "['John', 'Sam']\n",
      "connect_to_associate : out : Remove client John, connecting to associate Emily\n",
      "['Sam']\n",
      "check_in : in : New client Danny joined the queue\n",
      "['Sam', 'Danny']\n"
     ]
    },
    {
     "name": "stdout",
     "output_type": "stream",
     "text": [
      "connect_to_associate : out : Remove client Sam, connecting to associate Zoe\n",
      "connect_to_associate : out : Remove client Danny, connecting to associate Jack\n",
      "connect_to_associate : No mlre clients waiting\n",
      "[]\n",
      "check_in : in : New client John joined the queue\n",
      "['John']\n",
      "check_in : in : New client Sam joined the queue\n",
      "['John', 'Sam']\n",
      "connect_to_associate : out : Remove client John, connecting to associate Emily\n",
      "['Sam']\n",
      "check_in : in : New client Danny joined the queue\n",
      "['Sam', 'Danny']\n",
      "connect_to_associate : out : Remove client Sam, connecting to associate Zoe\n",
      "connect_to_associate : out : Remove client Danny, connecting to associate Jack\n",
      "connect_to_associate : No mlre clients waiting\n",
      "[]\n",
      "check_in : in : New client John joined the queue\n",
      "['John']\n",
      "check_in : in : New client Sam joined the queue\n",
      "['John', 'Sam']\n",
      "connect_to_associate : out : Remove client John, connecting to associate Emily\n",
      "['Sam']\n",
      "check_in : in : New client Danny joined the queue\n",
      "['Sam', 'Danny']\n",
      "connect_to_associate : out : Remove client Sam, connecting to associate Zoe\n",
      "connect_to_associate : out : Remove client Danny, connecting to associate Jack\n",
      "connect_to_associate : No mlre clients waiting\n",
      "[]\n",
      "check_in : in : New client John joined the queue\n",
      "['John']\n",
      "check_in : in : New client Sam joined the queue\n",
      "['John', 'Sam']\n",
      "connect_to_associate : out : Remove client John, connecting to associate Emily\n",
      "['Sam']\n",
      "check_in : in : New client Danny joined the queue\n",
      "['Sam', 'Danny']\n",
      "connect_to_associate : out : Remove client Sam, connecting to associate Zoe\n",
      "connect_to_associate : out : Remove client Danny, connecting to associate Jack\n",
      "connect_to_associate : No mlre clients waiting\n",
      "[]\n",
      "check_in : in : New client John joined the queue\n",
      "['John']\n",
      "check_in : in : New client Sam joined the queue\n",
      "['John', 'Sam']\n",
      "connect_to_associate : out : Remove client John, connecting to associate Emily\n",
      "['Sam']\n",
      "check_in : in : New client Danny joined the queue\n",
      "['Sam', 'Danny']\n",
      "connect_to_associate : out : Remove client Sam, connecting to associate Zoe\n",
      "connect_to_associate : out : Remove client Danny, connecting to associate Jack\n",
      "connect_to_associate : No mlre clients waiting\n",
      "[]\n",
      "check_in : in : New client John joined the queue\n",
      "['John']\n",
      "check_in : in : New client Sam joined the queue\n",
      "['John', 'Sam']\n",
      "connect_to_associate : out : Remove client John, connecting to associate Emily\n",
      "['Sam']\n",
      "check_in : in : New client Danny joined the queue\n",
      "['Sam', 'Danny']\n",
      "connect_to_associate : out : Remove client Sam, connecting to associate Zoe\n",
      "connect_to_associate : out : Remove client Danny, connecting to associate Jack\n",
      "connect_to_associate : No mlre clients waiting\n",
      "[]\n",
      "check_in : in : New client John joined the queue\n",
      "['John']\n",
      "check_in : in : New client Sam joined the queue\n",
      "['John', 'Sam']\n",
      "connect_to_associate : out : Remove client John, connecting to associate Emily\n",
      "['Sam']\n",
      "check_in : in : New client Danny joined the queue\n",
      "['Sam', 'Danny']\n",
      "connect_to_associate : out : Remove client Sam, connecting to associate Zoe\n",
      "connect_to_associate : out : Remove client Danny, connecting to associate Jack\n",
      "connect_to_associate : No mlre clients waiting\n",
      "[]\n",
      "check_in : in : New client John joined the queue\n",
      "['John']\n",
      "check_in : in : New client Sam joined the queue\n",
      "['John', 'Sam']\n",
      "connect_to_associate : out : Remove client John, connecting to associate Emily\n",
      "['Sam']\n",
      "check_in : in : New client Danny joined the queue\n",
      "['Sam', 'Danny']\n",
      "connect_to_associate : out : Remove client Sam, connecting to associate Zoe\n",
      "connect_to_associate : out : Remove client Danny, connecting to associate Jack\n",
      "connect_to_associate : No mlre clients waiting\n",
      "[]\n",
      "check_in : in : New client John joined the queue\n",
      "['John']\n",
      "check_in : in : New client Sam joined the queue\n",
      "['John', 'Sam']\n",
      "connect_to_associate : out : Remove client John, connecting to associate Emily\n",
      "['Sam']\n",
      "check_in : in : New client Danny joined the queue\n",
      "['Sam', 'Danny']\n",
      "connect_to_associate : out : Remove client Sam, connecting to associate Zoe\n",
      "connect_to_associate : out : Remove client Danny, connecting to associate Jack\n",
      "connect_to_associate : No mlre clients waiting\n",
      "[]\n",
      "check_in : in : New client John joined the queue\n",
      "['John']\n",
      "check_in : in : New client Sam joined the queue\n",
      "['John', 'Sam']\n",
      "connect_to_associate : out : Remove client John, connecting to associate Emily\n",
      "['Sam']\n",
      "check_in : in : New client Danny joined the queue\n",
      "['Sam', 'Danny']\n",
      "connect_to_associate : out : Remove client Sam, connecting to associate Zoe\n",
      "connect_to_associate : out : Remove client Danny, connecting to associate Jack\n",
      "connect_to_associate : No mlre clients waiting\n",
      "[]\n",
      "check_in : in : New client John joined the queue\n",
      "['John']\n",
      "check_in : in : New client Sam joined the queue\n",
      "['John', 'Sam']\n",
      "connect_to_associate : out : Remove client John, connecting to associate Emily\n",
      "['Sam']\n",
      "check_in : in : New client Danny joined the queue\n",
      "['Sam', 'Danny']\n",
      "connect_to_associate : out : Remove client Sam, connecting to associate Zoe\n",
      "connect_to_associate : out : Remove client Danny, connecting to associate Jack\n",
      "connect_to_associate : No mlre clients waiting\n",
      "[]\n",
      "check_in : in : New client John joined the queue\n",
      "['John']\n",
      "check_in : in : New client Sam joined the queue\n",
      "['John', 'Sam']\n",
      "connect_to_associate : out : Remove client John, connecting to associate Emily\n",
      "['Sam']\n",
      "check_in : in : New client Danny joined the queue\n",
      "['Sam', 'Danny']\n",
      "connect_to_associate : out : Remove client Sam, connecting to associate Zoe\n",
      "connect_to_associate : out : Remove client Danny, connecting to associate Jack\n",
      "connect_to_associate : No mlre clients waiting\n",
      "[]\n",
      "check_in : in : New client John joined the queue\n",
      "['John']\n",
      "check_in : in : New client Sam joined the queue\n",
      "['John', 'Sam']\n",
      "connect_to_associate : out : Remove client John, connecting to associate Emily\n",
      "['Sam']\n",
      "check_in : in : New client Danny joined the queue\n",
      "['Sam', 'Danny']\n",
      "connect_to_associate : out : Remove client Sam, connecting to associate Zoe\n",
      "connect_to_associate : out : Remove client Danny, connecting to associate Jack\n",
      "connect_to_associate : No mlre clients waiting\n",
      "[]\n",
      "check_in : in : New client John joined the queue\n",
      "['John']\n",
      "check_in : in : New client Sam joined the queue\n",
      "['John', 'Sam']\n",
      "connect_to_associate : out : Remove client John, connecting to associate Emily\n",
      "['Sam']\n",
      "check_in : in : New client Danny joined the queue\n",
      "['Sam', 'Danny']\n",
      "connect_to_associate : out : Remove client Sam, connecting to associate Zoe\n",
      "connect_to_associate : out : Remove client Danny, connecting to associate Jack\n",
      "connect_to_associate : No mlre clients waiting\n",
      "[]\n",
      "check_in : in : New client John joined the queue\n",
      "['John']\n",
      "check_in : in : New client Sam joined the queue\n",
      "['John', 'Sam']\n",
      "connect_to_associate : out : Remove client John, connecting to associate Emily\n",
      "['Sam']\n",
      "check_in : in : New client Danny joined the queue\n",
      "['Sam', 'Danny']\n",
      "connect_to_associate : out : Remove client Sam, connecting to associate Zoe\n",
      "connect_to_associate : out : Remove client Danny, connecting to associate Jack\n",
      "connect_to_associate : No mlre clients waiting\n",
      "[]\n",
      "check_in : in : New client John joined the queue\n",
      "['John']\n",
      "check_in : in : New client Sam joined the queue\n",
      "['John', 'Sam']\n",
      "connect_to_associate : out : Remove client John, connecting to associate Emily\n",
      "['Sam']\n",
      "check_in : in : New client Danny joined the queue\n",
      "['Sam', 'Danny']\n",
      "connect_to_associate : out : Remove client Sam, connecting to associate Zoe\n",
      "connect_to_associate : out : Remove client Danny, connecting to associate Jack\n",
      "connect_to_associate : No mlre clients waiting\n",
      "[]\n",
      "check_in : in : New client John joined the queue\n",
      "['John']\n",
      "check_in : in : New client Sam joined the queue\n",
      "['John', 'Sam']\n",
      "connect_to_associate : out : Remove client John, connecting to associate Emily\n",
      "['Sam']\n",
      "check_in : in : New client Danny joined the queue\n",
      "['Sam', 'Danny']\n",
      "connect_to_associate : out : Remove client Sam, connecting to associate Zoe\n",
      "connect_to_associate : out : Remove client Danny, connecting to associate Jack\n",
      "connect_to_associate : No mlre clients waiting\n",
      "[]\n",
      "check_in : in : New client John joined the queue\n",
      "['John']\n",
      "check_in : in : New client Sam joined the queue\n",
      "['John', 'Sam']\n",
      "connect_to_associate : out : Remove client John, connecting to associate Emily\n",
      "['Sam']\n",
      "check_in : in : New client Danny joined the queue\n",
      "['Sam', 'Danny']\n",
      "connect_to_associate : out : Remove client Sam, connecting to associate Zoe\n",
      "connect_to_associate : out : Remove client Danny, connecting to associate Jack\n",
      "connect_to_associate : No mlre clients waiting\n",
      "[]\n",
      "check_in : in : New client John joined the queue\n",
      "['John']\n",
      "check_in : in : New client Sam joined the queue\n",
      "['John', 'Sam']\n"
     ]
    },
    {
     "name": "stdout",
     "output_type": "stream",
     "text": [
      "connect_to_associate : out : Remove client John, connecting to associate Emily\n",
      "['Sam']\n",
      "check_in : in : New client Danny joined the queue\n",
      "['Sam', 'Danny']\n",
      "connect_to_associate : out : Remove client Sam, connecting to associate Zoe\n",
      "connect_to_associate : out : Remove client Danny, connecting to associate Jack\n",
      "connect_to_associate : No mlre clients waiting\n",
      "[]\n",
      "check_in : in : New client John joined the queue\n",
      "['John']\n",
      "check_in : in : New client Sam joined the queue\n",
      "['John', 'Sam']\n",
      "connect_to_associate : out : Remove client John, connecting to associate Emily\n",
      "['Sam']\n",
      "check_in : in : New client Danny joined the queue\n",
      "['Sam', 'Danny']\n",
      "connect_to_associate : out : Remove client Sam, connecting to associate Zoe\n",
      "connect_to_associate : out : Remove client Danny, connecting to associate Jack\n",
      "connect_to_associate : No mlre clients waiting\n",
      "[]\n",
      "check_in : in : New client John joined the queue\n",
      "['John']\n",
      "check_in : in : New client Sam joined the queue\n",
      "['John', 'Sam']\n",
      "connect_to_associate : out : Remove client John, connecting to associate Emily\n",
      "['Sam']\n",
      "check_in : in : New client Danny joined the queue\n",
      "['Sam', 'Danny']\n",
      "connect_to_associate : out : Remove client Sam, connecting to associate Zoe\n",
      "connect_to_associate : out : Remove client Danny, connecting to associate Jack\n",
      "connect_to_associate : No mlre clients waiting\n",
      "[]\n",
      "check_in : in : New client John joined the queue\n",
      "['John']\n",
      "check_in : in : New client Sam joined the queue\n",
      "['John', 'Sam']\n",
      "connect_to_associate : out : Remove client John, connecting to associate Emily\n",
      "['Sam']\n",
      "check_in : in : New client Danny joined the queue\n",
      "['Sam', 'Danny']\n",
      "connect_to_associate : out : Remove client Sam, connecting to associate Zoe\n",
      "connect_to_associate : out : Remove client Danny, connecting to associate Jack\n",
      "connect_to_associate : No mlre clients waiting\n",
      "[]\n",
      "check_in : in : New client John joined the queue\n",
      "['John']\n",
      "check_in : in : New client Sam joined the queue\n",
      "['John', 'Sam']\n",
      "connect_to_associate : out : Remove client John, connecting to associate Emily\n",
      "['Sam']\n",
      "check_in : in : New client Danny joined the queue\n",
      "['Sam', 'Danny']\n",
      "connect_to_associate : out : Remove client Sam, connecting to associate Zoe\n",
      "connect_to_associate : out : Remove client Danny, connecting to associate Jack\n",
      "connect_to_associate : No mlre clients waiting\n",
      "[]\n",
      "check_in : in : New client John joined the queue\n",
      "['John']\n",
      "check_in : in : New client Sam joined the queue\n",
      "['John', 'Sam']\n",
      "connect_to_associate : out : Remove client John, connecting to associate Emily\n",
      "['Sam']\n",
      "check_in : in : New client Danny joined the queue\n",
      "['Sam', 'Danny']\n",
      "connect_to_associate : out : Remove client Sam, connecting to associate Zoe\n",
      "connect_to_associate : out : Remove client Danny, connecting to associate Jack\n",
      "connect_to_associate : No mlre clients waiting\n",
      "[]\n",
      "check_in : in : New client John joined the queue\n",
      "['John']\n",
      "check_in : in : New client Sam joined the queue\n",
      "['John', 'Sam']\n",
      "connect_to_associate : out : Remove client John, connecting to associate Emily\n",
      "['Sam']\n",
      "check_in : in : New client Danny joined the queue\n",
      "['Sam', 'Danny']\n",
      "connect_to_associate : out : Remove client Sam, connecting to associate Zoe\n",
      "connect_to_associate : out : Remove client Danny, connecting to associate Jack\n",
      "connect_to_associate : No mlre clients waiting\n",
      "[]\n",
      "check_in : in : New client John joined the queue\n",
      "['John']\n",
      "check_in : in : New client Sam joined the queue\n",
      "['John', 'Sam']\n",
      "connect_to_associate : out : Remove client John, connecting to associate Emily\n",
      "['Sam']\n",
      "check_in : in : New client Danny joined the queue\n",
      "['Sam', 'Danny']\n",
      "connect_to_associate : out : Remove client Sam, connecting to associate Zoe\n",
      "connect_to_associate : out : Remove client Danny, connecting to associate Jack\n",
      "connect_to_associate : No mlre clients waiting\n",
      "[]\n",
      "check_in : in : New client John joined the queue\n",
      "['John']\n",
      "check_in : in : New client Sam joined the queue\n",
      "['John', 'Sam']\n",
      "connect_to_associate : out : Remove client John, connecting to associate Emily\n",
      "['Sam']\n",
      "check_in : in : New client Danny joined the queue\n",
      "['Sam', 'Danny']\n",
      "connect_to_associate : out : Remove client Sam, connecting to associate Zoe\n",
      "connect_to_associate : out : Remove client Danny, connecting to associate Jack\n",
      "connect_to_associate : No mlre clients waiting\n",
      "[]\n",
      "check_in : in : New client John joined the queue\n",
      "['John']\n",
      "check_in : in : New client Sam joined the queue\n",
      "['John', 'Sam']\n",
      "connect_to_associate : out : Remove client John, connecting to associate Emily\n",
      "['Sam']\n",
      "check_in : in : New client Danny joined the queue\n",
      "['Sam', 'Danny']\n",
      "connect_to_associate : out : Remove client Sam, connecting to associate Zoe\n",
      "connect_to_associate : out : Remove client Danny, connecting to associate Jack\n",
      "connect_to_associate : No mlre clients waiting\n",
      "[]\n",
      "check_in : in : New client John joined the queue\n",
      "['John']\n",
      "check_in : in : New client Sam joined the queue\n",
      "['John', 'Sam']\n",
      "connect_to_associate : out : Remove client John, connecting to associate Emily\n",
      "['Sam']\n",
      "check_in : in : New client Danny joined the queue\n",
      "['Sam', 'Danny']\n",
      "connect_to_associate : out : Remove client Sam, connecting to associate Zoe\n",
      "connect_to_associate : out : Remove client Danny, connecting to associate Jack\n",
      "connect_to_associate : No mlre clients waiting\n",
      "[]\n",
      "check_in : in : New client John joined the queue\n",
      "['John']\n",
      "check_in : in : New client Sam joined the queue\n",
      "['John', 'Sam']\n",
      "connect_to_associate : out : Remove client John, connecting to associate Emily\n",
      "['Sam']\n",
      "check_in : in : New client Danny joined the queue\n",
      "['Sam', 'Danny']\n",
      "connect_to_associate : out : Remove client Sam, connecting to associate Zoe\n",
      "connect_to_associate : out : Remove client Danny, connecting to associate Jack\n",
      "connect_to_associate : No mlre clients waiting\n",
      "[]\n",
      "check_in : in : New client John joined the queue\n",
      "['John']\n",
      "check_in : in : New client Sam joined the queue\n",
      "['John', 'Sam']\n",
      "connect_to_associate : out : Remove client John, connecting to associate Emily\n",
      "['Sam']\n",
      "check_in : in : New client Danny joined the queue\n",
      "['Sam', 'Danny']\n",
      "connect_to_associate : out : Remove client Sam, connecting to associate Zoe\n",
      "connect_to_associate : out : Remove client Danny, connecting to associate Jack\n",
      "connect_to_associate : No mlre clients waiting\n",
      "[]\n",
      "check_in : in : New client John joined the queue\n",
      "['John']\n",
      "check_in : in : New client Sam joined the queue\n",
      "['John', 'Sam']\n",
      "connect_to_associate : out : Remove client John, connecting to associate Emily\n",
      "['Sam']\n",
      "check_in : in : New client Danny joined the queue\n",
      "['Sam', 'Danny']\n",
      "connect_to_associate : out : Remove client Sam, connecting to associate Zoe\n",
      "connect_to_associate : out : Remove client Danny, connecting to associate Jack\n",
      "connect_to_associate : No mlre clients waiting\n",
      "[]\n",
      "check_in : in : New client John joined the queue\n",
      "['John']\n",
      "check_in : in : New client Sam joined the queue\n",
      "['John', 'Sam']\n",
      "connect_to_associate : out : Remove client John, connecting to associate Emily\n",
      "['Sam']\n",
      "check_in : in : New client Danny joined the queue\n",
      "['Sam', 'Danny']\n",
      "connect_to_associate : out : Remove client Sam, connecting to associate Zoe\n",
      "connect_to_associate : out : Remove client Danny, connecting to associate Jack\n",
      "connect_to_associate : No mlre clients waiting\n",
      "[]\n",
      "check_in : in : New client John joined the queue\n",
      "['John']\n",
      "check_in : in : New client Sam joined the queue\n",
      "['John', 'Sam']\n",
      "connect_to_associate : out : Remove client John, connecting to associate Emily\n",
      "['Sam']\n",
      "check_in : in : New client Danny joined the queue\n",
      "['Sam', 'Danny']\n",
      "connect_to_associate : out : Remove client Sam, connecting to associate Zoe\n",
      "connect_to_associate : out : Remove client Danny, connecting to associate Jack\n",
      "connect_to_associate : No mlre clients waiting\n",
      "[]\n",
      "check_in : in : New client John joined the queue\n",
      "['John']\n",
      "check_in : in : New client Sam joined the queue\n",
      "['John', 'Sam']\n",
      "connect_to_associate : out : Remove client John, connecting to associate Emily\n",
      "['Sam']\n",
      "check_in : in : New client Danny joined the queue\n",
      "['Sam', 'Danny']\n",
      "connect_to_associate : out : Remove client Sam, connecting to associate Zoe\n",
      "connect_to_associate : out : Remove client Danny, connecting to associate Jack\n",
      "connect_to_associate : No mlre clients waiting\n",
      "[]\n",
      "check_in : in : New client John joined the queue\n",
      "['John']\n",
      "check_in : in : New client Sam joined the queue\n",
      "['John', 'Sam']\n",
      "connect_to_associate : out : Remove client John, connecting to associate Emily\n",
      "['Sam']\n",
      "check_in : in : New client Danny joined the queue\n",
      "['Sam', 'Danny']\n",
      "connect_to_associate : out : Remove client Sam, connecting to associate Zoe\n",
      "connect_to_associate : out : Remove client Danny, connecting to associate Jack\n"
     ]
    },
    {
     "name": "stdout",
     "output_type": "stream",
     "text": [
      "connect_to_associate : No mlre clients waiting\n",
      "[]\n",
      "check_in : in : New client John joined the queue\n",
      "['John']\n",
      "check_in : in : New client Sam joined the queue\n",
      "['John', 'Sam']\n",
      "connect_to_associate : out : Remove client John, connecting to associate Emily\n",
      "['Sam']\n",
      "check_in : in : New client Danny joined the queue\n",
      "['Sam', 'Danny']\n",
      "connect_to_associate : out : Remove client Sam, connecting to associate Zoe\n",
      "connect_to_associate : out : Remove client Danny, connecting to associate Jack\n",
      "connect_to_associate : No mlre clients waiting\n",
      "[]\n",
      "check_in : in : New client John joined the queue\n",
      "['John']\n",
      "check_in : in : New client Sam joined the queue\n",
      "['John', 'Sam']\n",
      "connect_to_associate : out : Remove client John, connecting to associate Emily\n",
      "['Sam']\n",
      "check_in : in : New client Danny joined the queue\n",
      "['Sam', 'Danny']\n",
      "connect_to_associate : out : Remove client Sam, connecting to associate Zoe\n",
      "connect_to_associate : out : Remove client Danny, connecting to associate Jack\n",
      "connect_to_associate : No mlre clients waiting\n",
      "[]\n",
      "check_in : in : New client John joined the queue\n",
      "['John']\n",
      "check_in : in : New client Sam joined the queue\n",
      "['John', 'Sam']\n",
      "connect_to_associate : out : Remove client John, connecting to associate Emily\n",
      "['Sam']\n",
      "check_in : in : New client Danny joined the queue\n",
      "['Sam', 'Danny']\n",
      "connect_to_associate : out : Remove client Sam, connecting to associate Zoe\n",
      "connect_to_associate : out : Remove client Danny, connecting to associate Jack\n",
      "connect_to_associate : No mlre clients waiting\n",
      "[]\n",
      "check_in : in : New client John joined the queue\n",
      "['John']\n",
      "check_in : in : New client Sam joined the queue\n",
      "['John', 'Sam']\n",
      "connect_to_associate : out : Remove client John, connecting to associate Emily\n",
      "['Sam']\n",
      "check_in : in : New client Danny joined the queue\n",
      "['Sam', 'Danny']\n",
      "connect_to_associate : out : Remove client Sam, connecting to associate Zoe\n",
      "connect_to_associate : out : Remove client Danny, connecting to associate Jack\n",
      "connect_to_associate : No mlre clients waiting\n",
      "[]\n",
      "check_in : in : New client John joined the queue\n",
      "['John']\n",
      "check_in : in : New client Sam joined the queue\n",
      "['John', 'Sam']\n",
      "connect_to_associate : out : Remove client John, connecting to associate Emily\n",
      "['Sam']\n",
      "check_in : in : New client Danny joined the queue\n",
      "['Sam', 'Danny']\n",
      "connect_to_associate : out : Remove client Sam, connecting to associate Zoe\n",
      "connect_to_associate : out : Remove client Danny, connecting to associate Jack\n",
      "connect_to_associate : No mlre clients waiting\n",
      "[]\n",
      "check_in : in : New client John joined the queue\n",
      "['John']\n",
      "check_in : in : New client Sam joined the queue\n",
      "['John', 'Sam']\n",
      "connect_to_associate : out : Remove client John, connecting to associate Emily\n",
      "['Sam']\n",
      "check_in : in : New client Danny joined the queue\n",
      "['Sam', 'Danny']\n",
      "connect_to_associate : out : Remove client Sam, connecting to associate Zoe\n",
      "connect_to_associate : out : Remove client Danny, connecting to associate Jack\n",
      "connect_to_associate : No mlre clients waiting\n",
      "[]\n",
      "check_in : in : New client John joined the queue\n",
      "['John']\n",
      "check_in : in : New client Sam joined the queue\n",
      "['John', 'Sam']\n",
      "connect_to_associate : out : Remove client John, connecting to associate Emily\n",
      "['Sam']\n",
      "check_in : in : New client Danny joined the queue\n",
      "['Sam', 'Danny']\n",
      "connect_to_associate : out : Remove client Sam, connecting to associate Zoe\n",
      "connect_to_associate : out : Remove client Danny, connecting to associate Jack\n",
      "connect_to_associate : No mlre clients waiting\n",
      "[]\n",
      "check_in : in : New client John joined the queue\n",
      "['John']\n",
      "check_in : in : New client Sam joined the queue\n",
      "['John', 'Sam']\n",
      "connect_to_associate : out : Remove client John, connecting to associate Emily\n",
      "['Sam']\n",
      "check_in : in : New client Danny joined the queue\n",
      "['Sam', 'Danny']\n",
      "connect_to_associate : out : Remove client Sam, connecting to associate Zoe\n",
      "connect_to_associate : out : Remove client Danny, connecting to associate Jack\n",
      "connect_to_associate : No mlre clients waiting\n",
      "[]\n",
      "check_in : in : New client John joined the queue\n",
      "['John']\n",
      "check_in : in : New client Sam joined the queue\n",
      "['John', 'Sam']\n",
      "connect_to_associate : out : Remove client John, connecting to associate Emily\n",
      "['Sam']\n",
      "check_in : in : New client Danny joined the queue\n",
      "['Sam', 'Danny']\n",
      "connect_to_associate : out : Remove client Sam, connecting to associate Zoe\n",
      "connect_to_associate : out : Remove client Danny, connecting to associate Jack\n",
      "connect_to_associate : No mlre clients waiting\n",
      "[]\n",
      "check_in : in : New client John joined the queue\n",
      "['John']\n",
      "check_in : in : New client Sam joined the queue\n",
      "['John', 'Sam']\n",
      "connect_to_associate : out : Remove client John, connecting to associate Emily\n",
      "['Sam']\n",
      "check_in : in : New client Danny joined the queue\n",
      "['Sam', 'Danny']\n",
      "connect_to_associate : out : Remove client Sam, connecting to associate Zoe\n",
      "connect_to_associate : out : Remove client Danny, connecting to associate Jack\n",
      "connect_to_associate : No mlre clients waiting\n",
      "[]\n",
      "check_in : in : New client John joined the queue\n",
      "['John']\n",
      "check_in : in : New client Sam joined the queue\n",
      "['John', 'Sam']\n",
      "connect_to_associate : out : Remove client John, connecting to associate Emily\n",
      "['Sam']\n",
      "check_in : in : New client Danny joined the queue\n",
      "['Sam', 'Danny']\n",
      "connect_to_associate : out : Remove client Sam, connecting to associate Zoe\n",
      "connect_to_associate : out : Remove client Danny, connecting to associate Jack\n",
      "connect_to_associate : No mlre clients waiting\n",
      "[]\n",
      "check_in : in : New client John joined the queue\n",
      "['John']\n",
      "check_in : in : New client Sam joined the queue\n",
      "['John', 'Sam']\n",
      "connect_to_associate : out : Remove client John, connecting to associate Emily\n",
      "['Sam']\n",
      "check_in : in : New client Danny joined the queue\n",
      "['Sam', 'Danny']\n",
      "connect_to_associate : out : Remove client Sam, connecting to associate Zoe\n",
      "connect_to_associate : out : Remove client Danny, connecting to associate Jack\n",
      "connect_to_associate : No mlre clients waiting\n",
      "[]\n",
      "check_in : in : New client John joined the queue\n",
      "['John']\n",
      "check_in : in : New client Sam joined the queue\n",
      "['John', 'Sam']\n",
      "connect_to_associate : out : Remove client John, connecting to associate Emily\n",
      "['Sam']\n",
      "check_in : in : New client Danny joined the queue\n",
      "['Sam', 'Danny']\n",
      "connect_to_associate : out : Remove client Sam, connecting to associate Zoe\n",
      "connect_to_associate : out : Remove client Danny, connecting to associate Jack\n",
      "connect_to_associate : No mlre clients waiting\n",
      "[]\n",
      "check_in : in : New client John joined the queue\n",
      "['John']\n",
      "check_in : in : New client Sam joined the queue\n",
      "['John', 'Sam']\n",
      "connect_to_associate : out : Remove client John, connecting to associate Emily\n",
      "['Sam']\n",
      "check_in : in : New client Danny joined the queue\n",
      "['Sam', 'Danny']\n",
      "connect_to_associate : out : Remove client Sam, connecting to associate Zoe\n",
      "connect_to_associate : out : Remove client Danny, connecting to associate Jack\n",
      "connect_to_associate : No mlre clients waiting\n",
      "[]\n",
      "check_in : in : New client John joined the queue\n",
      "['John']\n",
      "check_in : in : New client Sam joined the queue\n",
      "['John', 'Sam']\n",
      "connect_to_associate : out : Remove client John, connecting to associate Emily\n",
      "['Sam']\n",
      "check_in : in : New client Danny joined the queue\n",
      "['Sam', 'Danny']\n",
      "connect_to_associate : out : Remove client Sam, connecting to associate Zoe\n",
      "connect_to_associate : out : Remove client Danny, connecting to associate Jack\n",
      "connect_to_associate : No mlre clients waiting\n",
      "[]\n",
      "check_in : in : New client John joined the queue\n",
      "['John']\n",
      "check_in : in : New client Sam joined the queue\n",
      "['John', 'Sam']\n",
      "connect_to_associate : out : Remove client John, connecting to associate Emily\n",
      "['Sam']\n",
      "check_in : in : New client Danny joined the queue\n",
      "['Sam', 'Danny']\n",
      "connect_to_associate : out : Remove client Sam, connecting to associate Zoe\n",
      "connect_to_associate : out : Remove client Danny, connecting to associate Jack\n",
      "connect_to_associate : No mlre clients waiting\n",
      "[]\n",
      "check_in : in : New client John joined the queue\n",
      "['John']\n",
      "check_in : in : New client Sam joined the queue\n",
      "['John', 'Sam']\n",
      "connect_to_associate : out : Remove client John, connecting to associate Emily\n",
      "['Sam']\n",
      "check_in : in : New client Danny joined the queue\n",
      "['Sam', 'Danny']\n",
      "connect_to_associate : out : Remove client Sam, connecting to associate Zoe\n",
      "connect_to_associate : out : Remove client Danny, connecting to associate Jack\n",
      "connect_to_associate : No mlre clients waiting\n",
      "[]\n"
     ]
    },
    {
     "name": "stdout",
     "output_type": "stream",
     "text": [
      "check_in : in : New client John joined the queue\n",
      "['John']\n",
      "check_in : in : New client Sam joined the queue\n",
      "['John', 'Sam']\n",
      "connect_to_associate : out : Remove client John, connecting to associate Emily\n",
      "['Sam']\n",
      "check_in : in : New client Danny joined the queue\n",
      "['Sam', 'Danny']\n",
      "connect_to_associate : out : Remove client Sam, connecting to associate Zoe\n",
      "connect_to_associate : out : Remove client Danny, connecting to associate Jack\n",
      "connect_to_associate : No mlre clients waiting\n",
      "[]\n",
      "check_in : in : New client John joined the queue\n",
      "['John']\n",
      "check_in : in : New client Sam joined the queue\n",
      "['John', 'Sam']\n",
      "connect_to_associate : out : Remove client John, connecting to associate Emily\n",
      "['Sam']\n",
      "check_in : in : New client Danny joined the queue\n",
      "['Sam', 'Danny']\n",
      "connect_to_associate : out : Remove client Sam, connecting to associate Zoe\n",
      "connect_to_associate : out : Remove client Danny, connecting to associate Jack\n",
      "connect_to_associate : No mlre clients waiting\n",
      "[]\n",
      "check_in : in : New client John joined the queue\n",
      "['John']\n",
      "check_in : in : New client Sam joined the queue\n",
      "['John', 'Sam']\n",
      "connect_to_associate : out : Remove client John, connecting to associate Emily\n",
      "['Sam']\n",
      "check_in : in : New client Danny joined the queue\n",
      "['Sam', 'Danny']\n",
      "connect_to_associate : out : Remove client Sam, connecting to associate Zoe\n",
      "connect_to_associate : out : Remove client Danny, connecting to associate Jack\n",
      "connect_to_associate : No mlre clients waiting\n",
      "[]\n",
      "check_in : in : New client John joined the queue\n",
      "['John']\n",
      "check_in : in : New client Sam joined the queue\n",
      "['John', 'Sam']\n",
      "connect_to_associate : out : Remove client John, connecting to associate Emily\n",
      "['Sam']\n",
      "check_in : in : New client Danny joined the queue\n",
      "['Sam', 'Danny']\n",
      "connect_to_associate : out : Remove client Sam, connecting to associate Zoe\n",
      "connect_to_associate : out : Remove client Danny, connecting to associate Jack\n",
      "connect_to_associate : No mlre clients waiting\n",
      "[]\n",
      "check_in : in : New client John joined the queue\n",
      "['John']\n",
      "check_in : in : New client Sam joined the queue\n",
      "['John', 'Sam']\n",
      "connect_to_associate : out : Remove client John, connecting to associate Emily\n",
      "['Sam']\n",
      "check_in : in : New client Danny joined the queue\n",
      "['Sam', 'Danny']\n",
      "connect_to_associate : out : Remove client Sam, connecting to associate Zoe\n",
      "connect_to_associate : out : Remove client Danny, connecting to associate Jack\n",
      "connect_to_associate : No mlre clients waiting\n",
      "[]\n",
      "check_in : in : New client John joined the queue\n",
      "['John']\n",
      "check_in : in : New client Sam joined the queue\n",
      "['John', 'Sam']\n",
      "connect_to_associate : out : Remove client John, connecting to associate Emily\n",
      "['Sam']\n",
      "check_in : in : New client Danny joined the queue\n",
      "['Sam', 'Danny']\n",
      "connect_to_associate : out : Remove client Sam, connecting to associate Zoe\n",
      "connect_to_associate : out : Remove client Danny, connecting to associate Jack\n",
      "connect_to_associate : No mlre clients waiting\n",
      "[]\n",
      "check_in : in : New client John joined the queue\n",
      "['John']\n",
      "check_in : in : New client Sam joined the queue\n",
      "['John', 'Sam']\n",
      "connect_to_associate : out : Remove client John, connecting to associate Emily\n",
      "['Sam']\n",
      "check_in : in : New client Danny joined the queue\n",
      "['Sam', 'Danny']\n",
      "connect_to_associate : out : Remove client Sam, connecting to associate Zoe\n",
      "connect_to_associate : out : Remove client Danny, connecting to associate Jack\n",
      "connect_to_associate : No mlre clients waiting\n",
      "[]\n",
      "check_in : in : New client John joined the queue\n",
      "['John']\n",
      "check_in : in : New client Sam joined the queue\n",
      "['John', 'Sam']\n",
      "connect_to_associate : out : Remove client John, connecting to associate Emily\n",
      "['Sam']\n",
      "check_in : in : New client Danny joined the queue\n",
      "['Sam', 'Danny']\n",
      "connect_to_associate : out : Remove client Sam, connecting to associate Zoe\n",
      "connect_to_associate : out : Remove client Danny, connecting to associate Jack\n",
      "connect_to_associate : No mlre clients waiting\n",
      "[]\n",
      "check_in : in : New client John joined the queue\n",
      "['John']\n",
      "check_in : in : New client Sam joined the queue\n",
      "['John', 'Sam']\n",
      "connect_to_associate : out : Remove client John, connecting to associate Emily\n",
      "['Sam']\n",
      "check_in : in : New client Danny joined the queue\n",
      "['Sam', 'Danny']\n",
      "connect_to_associate : out : Remove client Sam, connecting to associate Zoe\n",
      "connect_to_associate : out : Remove client Danny, connecting to associate Jack\n",
      "connect_to_associate : No mlre clients waiting\n",
      "[]\n",
      "check_in : in : New client John joined the queue\n",
      "['John']\n",
      "check_in : in : New client Sam joined the queue\n",
      "['John', 'Sam']\n",
      "connect_to_associate : out : Remove client John, connecting to associate Emily\n",
      "['Sam']\n",
      "check_in : in : New client Danny joined the queue\n",
      "['Sam', 'Danny']\n",
      "connect_to_associate : out : Remove client Sam, connecting to associate Zoe\n",
      "connect_to_associate : out : Remove client Danny, connecting to associate Jack\n",
      "connect_to_associate : No mlre clients waiting\n",
      "[]\n",
      "check_in : in : New client John joined the queue\n",
      "['John']\n",
      "check_in : in : New client Sam joined the queue\n",
      "['John', 'Sam']\n",
      "connect_to_associate : out : Remove client John, connecting to associate Emily\n",
      "['Sam']\n",
      "check_in : in : New client Danny joined the queue\n",
      "['Sam', 'Danny']\n",
      "connect_to_associate : out : Remove client Sam, connecting to associate Zoe\n",
      "connect_to_associate : out : Remove client Danny, connecting to associate Jack\n",
      "connect_to_associate : No mlre clients waiting\n",
      "[]\n",
      "check_in : in : New client John joined the queue\n",
      "['John']\n",
      "check_in : in : New client Sam joined the queue\n",
      "['John', 'Sam']\n",
      "connect_to_associate : out : Remove client John, connecting to associate Emily\n",
      "['Sam']\n",
      "check_in : in : New client Danny joined the queue\n",
      "['Sam', 'Danny']\n",
      "connect_to_associate : out : Remove client Sam, connecting to associate Zoe\n",
      "connect_to_associate : out : Remove client Danny, connecting to associate Jack\n",
      "connect_to_associate : No mlre clients waiting\n",
      "[]\n",
      "check_in : in : New client John joined the queue\n",
      "['John']\n",
      "check_in : in : New client Sam joined the queue\n",
      "['John', 'Sam']\n",
      "connect_to_associate : out : Remove client John, connecting to associate Emily\n",
      "['Sam']\n",
      "check_in : in : New client Danny joined the queue\n",
      "['Sam', 'Danny']\n",
      "connect_to_associate : out : Remove client Sam, connecting to associate Zoe\n",
      "connect_to_associate : out : Remove client Danny, connecting to associate Jack\n",
      "connect_to_associate : No mlre clients waiting\n",
      "[]\n",
      "check_in : in : New client John joined the queue\n",
      "['John']\n",
      "check_in : in : New client Sam joined the queue\n",
      "['John', 'Sam']\n",
      "connect_to_associate : out : Remove client John, connecting to associate Emily\n",
      "['Sam']\n",
      "check_in : in : New client Danny joined the queue\n",
      "['Sam', 'Danny']\n",
      "connect_to_associate : out : Remove client Sam, connecting to associate Zoe\n",
      "connect_to_associate : out : Remove client Danny, connecting to associate Jack\n",
      "connect_to_associate : No mlre clients waiting\n",
      "[]\n",
      "check_in : in : New client John joined the queue\n",
      "['John']\n",
      "check_in : in : New client Sam joined the queue\n",
      "['John', 'Sam']\n",
      "connect_to_associate : out : Remove client John, connecting to associate Emily\n",
      "['Sam']\n",
      "check_in : in : New client Danny joined the queue\n",
      "['Sam', 'Danny']\n",
      "connect_to_associate : out : Remove client Sam, connecting to associate Zoe\n",
      "connect_to_associate : out : Remove client Danny, connecting to associate Jack\n",
      "connect_to_associate : No mlre clients waiting\n",
      "[]\n",
      "check_in : in : New client John joined the queue\n",
      "['John']\n",
      "check_in : in : New client Sam joined the queue\n",
      "['John', 'Sam']\n",
      "connect_to_associate : out : Remove client John, connecting to associate Emily\n",
      "['Sam']\n",
      "check_in : in : New client Danny joined the queue\n",
      "['Sam', 'Danny']\n",
      "connect_to_associate : out : Remove client Sam, connecting to associate Zoe\n",
      "connect_to_associate : out : Remove client Danny, connecting to associate Jack\n",
      "connect_to_associate : No mlre clients waiting\n",
      "[]\n",
      "check_in : in : New client John joined the queue\n",
      "['John']\n",
      "check_in : in : New client Sam joined the queue\n",
      "['John', 'Sam']\n",
      "connect_to_associate : out : Remove client John, connecting to associate Emily\n",
      "['Sam']\n",
      "check_in : in : New client Danny joined the queue\n",
      "['Sam', 'Danny']\n",
      "connect_to_associate : out : Remove client Sam, connecting to associate Zoe\n",
      "connect_to_associate : out : Remove client Danny, connecting to associate Jack\n",
      "connect_to_associate : No mlre clients waiting\n",
      "[]\n",
      "check_in : in : New client John joined the queue\n",
      "['John']\n",
      "check_in : in : New client Sam joined the queue\n",
      "['John', 'Sam']\n",
      "connect_to_associate : out : Remove client John, connecting to associate Emily\n",
      "['Sam']\n",
      "check_in : in : New client Danny joined the queue\n",
      "['Sam', 'Danny']\n",
      "connect_to_associate : out : Remove client Sam, connecting to associate Zoe\n",
      "connect_to_associate : out : Remove client Danny, connecting to associate Jack\n",
      "connect_to_associate : No mlre clients waiting\n",
      "[]\n"
     ]
    },
    {
     "name": "stdout",
     "output_type": "stream",
     "text": [
      "check_in : in : New client John joined the queue\n",
      "['John']\n",
      "check_in : in : New client Sam joined the queue\n",
      "['John', 'Sam']\n",
      "connect_to_associate : out : Remove client John, connecting to associate Emily\n",
      "['Sam']\n",
      "check_in : in : New client Danny joined the queue\n",
      "['Sam', 'Danny']\n",
      "connect_to_associate : out : Remove client Sam, connecting to associate Zoe\n",
      "connect_to_associate : out : Remove client Danny, connecting to associate Jack\n",
      "connect_to_associate : No mlre clients waiting\n",
      "[]\n",
      "check_in : in : New client John joined the queue\n",
      "['John']\n",
      "check_in : in : New client Sam joined the queue\n",
      "['John', 'Sam']\n",
      "connect_to_associate : out : Remove client John, connecting to associate Emily\n",
      "['Sam']\n",
      "check_in : in : New client Danny joined the queue\n",
      "['Sam', 'Danny']\n",
      "connect_to_associate : out : Remove client Sam, connecting to associate Zoe\n",
      "connect_to_associate : out : Remove client Danny, connecting to associate Jack\n",
      "connect_to_associate : No mlre clients waiting\n",
      "[]\n",
      "check_in : in : New client John joined the queue\n",
      "['John']\n",
      "check_in : in : New client Sam joined the queue\n",
      "['John', 'Sam']\n",
      "connect_to_associate : out : Remove client John, connecting to associate Emily\n",
      "['Sam']\n",
      "check_in : in : New client Danny joined the queue\n",
      "['Sam', 'Danny']\n",
      "connect_to_associate : out : Remove client Sam, connecting to associate Zoe\n",
      "connect_to_associate : out : Remove client Danny, connecting to associate Jack\n",
      "connect_to_associate : No mlre clients waiting\n",
      "[]\n",
      "check_in : in : New client John joined the queue\n",
      "['John']\n",
      "check_in : in : New client Sam joined the queue\n",
      "['John', 'Sam']\n",
      "connect_to_associate : out : Remove client John, connecting to associate Emily\n",
      "['Sam']\n",
      "check_in : in : New client Danny joined the queue\n",
      "['Sam', 'Danny']\n",
      "connect_to_associate : out : Remove client Sam, connecting to associate Zoe\n",
      "connect_to_associate : out : Remove client Danny, connecting to associate Jack\n",
      "connect_to_associate : No mlre clients waiting\n",
      "[]\n",
      "check_in : in : New client John joined the queue\n",
      "['John']\n",
      "check_in : in : New client Sam joined the queue\n",
      "['John', 'Sam']\n",
      "connect_to_associate : out : Remove client John, connecting to associate Emily\n",
      "['Sam']\n",
      "check_in : in : New client Danny joined the queue\n",
      "['Sam', 'Danny']\n",
      "connect_to_associate : out : Remove client Sam, connecting to associate Zoe\n",
      "connect_to_associate : out : Remove client Danny, connecting to associate Jack\n",
      "connect_to_associate : No mlre clients waiting\n",
      "[]\n",
      "check_in : in : New client John joined the queue\n",
      "['John']\n",
      "check_in : in : New client Sam joined the queue\n",
      "['John', 'Sam']\n",
      "connect_to_associate : out : Remove client John, connecting to associate Emily\n",
      "['Sam']\n",
      "check_in : in : New client Danny joined the queue\n",
      "['Sam', 'Danny']\n",
      "connect_to_associate : out : Remove client Sam, connecting to associate Zoe\n",
      "connect_to_associate : out : Remove client Danny, connecting to associate Jack\n",
      "connect_to_associate : No mlre clients waiting\n",
      "[]\n",
      "check_in : in : New client John joined the queue\n",
      "['John']\n",
      "check_in : in : New client Sam joined the queue\n",
      "['John', 'Sam']\n",
      "connect_to_associate : out : Remove client John, connecting to associate Emily\n",
      "['Sam']\n",
      "check_in : in : New client Danny joined the queue\n",
      "['Sam', 'Danny']\n",
      "connect_to_associate : out : Remove client Sam, connecting to associate Zoe\n",
      "connect_to_associate : out : Remove client Danny, connecting to associate Jack\n",
      "connect_to_associate : No mlre clients waiting\n",
      "[]\n",
      "check_in : in : New client John joined the queue\n",
      "['John']\n",
      "check_in : in : New client Sam joined the queue\n",
      "['John', 'Sam']\n",
      "connect_to_associate : out : Remove client John, connecting to associate Emily\n",
      "['Sam']\n",
      "check_in : in : New client Danny joined the queue\n",
      "['Sam', 'Danny']\n",
      "connect_to_associate : out : Remove client Sam, connecting to associate Zoe\n",
      "connect_to_associate : out : Remove client Danny, connecting to associate Jack\n",
      "connect_to_associate : No mlre clients waiting\n",
      "[]\n",
      "check_in : in : New client John joined the queue\n",
      "['John']\n",
      "check_in : in : New client Sam joined the queue\n",
      "['John', 'Sam']\n",
      "connect_to_associate : out : Remove client John, connecting to associate Emily\n",
      "['Sam']\n",
      "check_in : in : New client Danny joined the queue\n",
      "['Sam', 'Danny']\n",
      "connect_to_associate : out : Remove client Sam, connecting to associate Zoe\n",
      "connect_to_associate : out : Remove client Danny, connecting to associate Jack\n",
      "connect_to_associate : No mlre clients waiting\n",
      "[]\n",
      "check_in : in : New client John joined the queue\n",
      "['John']\n",
      "check_in : in : New client Sam joined the queue\n",
      "['John', 'Sam']\n",
      "connect_to_associate : out : Remove client John, connecting to associate Emily\n",
      "['Sam']\n",
      "check_in : in : New client Danny joined the queue\n",
      "['Sam', 'Danny']\n",
      "connect_to_associate : out : Remove client Sam, connecting to associate Zoe\n",
      "connect_to_associate : out : Remove client Danny, connecting to associate Jack\n",
      "connect_to_associate : No mlre clients waiting\n",
      "[]\n",
      "check_in : in : New client John joined the queue\n",
      "['John']\n",
      "check_in : in : New client Sam joined the queue\n",
      "['John', 'Sam']\n",
      "connect_to_associate : out : Remove client John, connecting to associate Emily\n",
      "['Sam']\n",
      "check_in : in : New client Danny joined the queue\n",
      "['Sam', 'Danny']\n",
      "connect_to_associate : out : Remove client Sam, connecting to associate Zoe\n",
      "connect_to_associate : out : Remove client Danny, connecting to associate Jack\n",
      "connect_to_associate : No mlre clients waiting\n",
      "[]\n",
      "check_in : in : New client John joined the queue\n",
      "['John']\n",
      "check_in : in : New client Sam joined the queue\n",
      "['John', 'Sam']\n",
      "connect_to_associate : out : Remove client John, connecting to associate Emily\n",
      "['Sam']\n",
      "check_in : in : New client Danny joined the queue\n",
      "['Sam', 'Danny']\n",
      "connect_to_associate : out : Remove client Sam, connecting to associate Zoe\n",
      "connect_to_associate : out : Remove client Danny, connecting to associate Jack\n",
      "connect_to_associate : No mlre clients waiting\n",
      "[]\n",
      "check_in : in : New client John joined the queue\n",
      "['John']\n",
      "check_in : in : New client Sam joined the queue\n",
      "['John', 'Sam']\n",
      "connect_to_associate : out : Remove client John, connecting to associate Emily\n",
      "['Sam']\n",
      "check_in : in : New client Danny joined the queue\n",
      "['Sam', 'Danny']\n",
      "connect_to_associate : out : Remove client Sam, connecting to associate Zoe\n",
      "connect_to_associate : out : Remove client Danny, connecting to associate Jack\n",
      "connect_to_associate : No mlre clients waiting\n",
      "[]\n",
      "check_in : in : New client John joined the queue\n",
      "['John']\n",
      "check_in : in : New client Sam joined the queue\n",
      "['John', 'Sam']\n",
      "connect_to_associate : out : Remove client John, connecting to associate Emily\n",
      "['Sam']\n",
      "check_in : in : New client Danny joined the queue\n",
      "['Sam', 'Danny']\n",
      "connect_to_associate : out : Remove client Sam, connecting to associate Zoe\n",
      "connect_to_associate : out : Remove client Danny, connecting to associate Jack\n",
      "connect_to_associate : No mlre clients waiting\n",
      "[]\n",
      "check_in : in : New client John joined the queue\n",
      "['John']\n",
      "check_in : in : New client Sam joined the queue\n",
      "['John', 'Sam']\n",
      "connect_to_associate : out : Remove client John, connecting to associate Emily\n",
      "['Sam']\n",
      "check_in : in : New client Danny joined the queue\n",
      "['Sam', 'Danny']\n",
      "connect_to_associate : out : Remove client Sam, connecting to associate Zoe\n",
      "connect_to_associate : out : Remove client Danny, connecting to associate Jack\n",
      "connect_to_associate : No mlre clients waiting\n",
      "[]\n",
      "check_in : in : New client John joined the queue\n",
      "['John']\n",
      "check_in : in : New client Sam joined the queue\n",
      "['John', 'Sam']\n",
      "connect_to_associate : out : Remove client John, connecting to associate Emily\n",
      "['Sam']\n",
      "check_in : in : New client Danny joined the queue\n",
      "['Sam', 'Danny']\n",
      "connect_to_associate : out : Remove client Sam, connecting to associate Zoe\n",
      "connect_to_associate : out : Remove client Danny, connecting to associate Jack\n",
      "connect_to_associate : No mlre clients waiting\n",
      "[]\n",
      "check_in : in : New client John joined the queue\n",
      "['John']\n",
      "check_in : in : New client Sam joined the queue\n",
      "['John', 'Sam']\n",
      "connect_to_associate : out : Remove client John, connecting to associate Emily\n",
      "['Sam']\n",
      "check_in : in : New client Danny joined the queue\n",
      "['Sam', 'Danny']\n",
      "connect_to_associate : out : Remove client Sam, connecting to associate Zoe\n",
      "connect_to_associate : out : Remove client Danny, connecting to associate Jack\n",
      "connect_to_associate : No mlre clients waiting\n",
      "[]\n",
      "check_in : in : New client John joined the queue\n",
      "['John']\n",
      "check_in : in : New client Sam joined the queue\n",
      "['John', 'Sam']\n",
      "connect_to_associate : out : Remove client John, connecting to associate Emily\n",
      "['Sam']\n",
      "check_in : in : New client Danny joined the queue\n",
      "['Sam', 'Danny']\n",
      "connect_to_associate : out : Remove client Sam, connecting to associate Zoe\n",
      "connect_to_associate : out : Remove client Danny, connecting to associate Jack\n",
      "connect_to_associate : No mlre clients waiting\n",
      "[]\n"
     ]
    },
    {
     "name": "stdout",
     "output_type": "stream",
     "text": [
      "check_in : in : New client John joined the queue\n",
      "['John']\n",
      "check_in : in : New client Sam joined the queue\n",
      "['John', 'Sam']\n",
      "connect_to_associate : out : Remove client John, connecting to associate Emily\n",
      "['Sam']\n",
      "check_in : in : New client Danny joined the queue\n",
      "['Sam', 'Danny']\n",
      "connect_to_associate : out : Remove client Sam, connecting to associate Zoe\n",
      "connect_to_associate : out : Remove client Danny, connecting to associate Jack\n",
      "connect_to_associate : No mlre clients waiting\n",
      "[]\n",
      "check_in : in : New client John joined the queue\n",
      "['John']\n",
      "check_in : in : New client Sam joined the queue\n",
      "['John', 'Sam']\n",
      "connect_to_associate : out : Remove client John, connecting to associate Emily\n",
      "['Sam']\n",
      "check_in : in : New client Danny joined the queue\n",
      "['Sam', 'Danny']\n",
      "connect_to_associate : out : Remove client Sam, connecting to associate Zoe\n",
      "connect_to_associate : out : Remove client Danny, connecting to associate Jack\n",
      "connect_to_associate : No mlre clients waiting\n",
      "[]\n",
      "check_in : in : New client John joined the queue\n",
      "['John']\n",
      "check_in : in : New client Sam joined the queue\n",
      "['John', 'Sam']\n",
      "connect_to_associate : out : Remove client John, connecting to associate Emily\n",
      "['Sam']\n",
      "check_in : in : New client Danny joined the queue\n",
      "['Sam', 'Danny']\n",
      "connect_to_associate : out : Remove client Sam, connecting to associate Zoe\n",
      "connect_to_associate : out : Remove client Danny, connecting to associate Jack\n",
      "connect_to_associate : No mlre clients waiting\n",
      "[]\n",
      "check_in : in : New client John joined the queue\n",
      "['John']\n",
      "check_in : in : New client Sam joined the queue\n",
      "['John', 'Sam']\n",
      "connect_to_associate : out : Remove client John, connecting to associate Emily\n",
      "['Sam']\n",
      "check_in : in : New client Danny joined the queue\n",
      "['Sam', 'Danny']\n",
      "connect_to_associate : out : Remove client Sam, connecting to associate Zoe\n",
      "connect_to_associate : out : Remove client Danny, connecting to associate Jack\n",
      "connect_to_associate : No mlre clients waiting\n",
      "[]\n",
      "check_in : in : New client John joined the queue\n",
      "['John']\n",
      "check_in : in : New client Sam joined the queue\n",
      "['John', 'Sam']\n",
      "connect_to_associate : out : Remove client John, connecting to associate Emily\n",
      "['Sam']\n",
      "check_in : in : New client Danny joined the queue\n",
      "['Sam', 'Danny']\n",
      "connect_to_associate : out : Remove client Sam, connecting to associate Zoe\n",
      "connect_to_associate : out : Remove client Danny, connecting to associate Jack\n",
      "connect_to_associate : No mlre clients waiting\n",
      "[]\n",
      "check_in : in : New client John joined the queue\n",
      "['John']\n",
      "check_in : in : New client Sam joined the queue\n",
      "['John', 'Sam']\n",
      "connect_to_associate : out : Remove client John, connecting to associate Emily\n",
      "['Sam']\n",
      "check_in : in : New client Danny joined the queue\n",
      "['Sam', 'Danny']\n",
      "connect_to_associate : out : Remove client Sam, connecting to associate Zoe\n",
      "connect_to_associate : out : Remove client Danny, connecting to associate Jack\n",
      "connect_to_associate : No mlre clients waiting\n",
      "[]\n",
      "check_in : in : New client John joined the queue\n",
      "['John']\n",
      "check_in : in : New client Sam joined the queue\n",
      "['John', 'Sam']\n",
      "connect_to_associate : out : Remove client John, connecting to associate Emily\n",
      "['Sam']\n",
      "check_in : in : New client Danny joined the queue\n",
      "['Sam', 'Danny']\n",
      "connect_to_associate : out : Remove client Sam, connecting to associate Zoe\n",
      "connect_to_associate : out : Remove client Danny, connecting to associate Jack\n",
      "connect_to_associate : No mlre clients waiting\n",
      "[]\n",
      "check_in : in : New client John joined the queue\n",
      "['John']\n",
      "check_in : in : New client Sam joined the queue\n",
      "['John', 'Sam']\n",
      "connect_to_associate : out : Remove client John, connecting to associate Emily\n",
      "['Sam']\n",
      "check_in : in : New client Danny joined the queue\n",
      "['Sam', 'Danny']\n",
      "connect_to_associate : out : Remove client Sam, connecting to associate Zoe\n",
      "connect_to_associate : out : Remove client Danny, connecting to associate Jack\n",
      "connect_to_associate : No mlre clients waiting\n",
      "[]\n",
      "check_in : in : New client John joined the queue\n",
      "['John']\n",
      "check_in : in : New client Sam joined the queue\n",
      "['John', 'Sam']\n",
      "connect_to_associate : out : Remove client John, connecting to associate Emily\n",
      "['Sam']\n",
      "check_in : in : New client Danny joined the queue\n",
      "['Sam', 'Danny']\n",
      "connect_to_associate : out : Remove client Sam, connecting to associate Zoe\n",
      "connect_to_associate : out : Remove client Danny, connecting to associate Jack\n",
      "connect_to_associate : No mlre clients waiting\n",
      "[]\n",
      "check_in : in : New client John joined the queue\n",
      "['John']\n",
      "check_in : in : New client Sam joined the queue\n",
      "['John', 'Sam']\n",
      "connect_to_associate : out : Remove client John, connecting to associate Emily\n",
      "['Sam']\n",
      "check_in : in : New client Danny joined the queue\n",
      "['Sam', 'Danny']\n",
      "connect_to_associate : out : Remove client Sam, connecting to associate Zoe\n",
      "connect_to_associate : out : Remove client Danny, connecting to associate Jack\n",
      "connect_to_associate : No mlre clients waiting\n",
      "[]\n",
      "check_in : in : New client John joined the queue\n",
      "['John']\n",
      "check_in : in : New client Sam joined the queue\n",
      "['John', 'Sam']\n",
      "connect_to_associate : out : Remove client John, connecting to associate Emily\n",
      "['Sam']\n",
      "check_in : in : New client Danny joined the queue\n",
      "['Sam', 'Danny']\n",
      "connect_to_associate : out : Remove client Sam, connecting to associate Zoe\n",
      "connect_to_associate : out : Remove client Danny, connecting to associate Jack\n",
      "connect_to_associate : No mlre clients waiting\n",
      "[]\n",
      "check_in : in : New client John joined the queue\n",
      "['John']\n",
      "check_in : in : New client Sam joined the queue\n",
      "['John', 'Sam']\n",
      "connect_to_associate : out : Remove client John, connecting to associate Emily\n",
      "['Sam']\n",
      "check_in : in : New client Danny joined the queue\n",
      "['Sam', 'Danny']\n",
      "connect_to_associate : out : Remove client Sam, connecting to associate Zoe\n",
      "connect_to_associate : out : Remove client Danny, connecting to associate Jack\n",
      "connect_to_associate : No mlre clients waiting\n",
      "[]\n",
      "check_in : in : New client John joined the queue\n",
      "['John']\n",
      "check_in : in : New client Sam joined the queue\n",
      "['John', 'Sam']\n",
      "connect_to_associate : out : Remove client John, connecting to associate Emily\n",
      "['Sam']\n",
      "check_in : in : New client Danny joined the queue\n",
      "['Sam', 'Danny']\n",
      "connect_to_associate : out : Remove client Sam, connecting to associate Zoe\n",
      "connect_to_associate : out : Remove client Danny, connecting to associate Jack\n",
      "connect_to_associate : No mlre clients waiting\n",
      "[]\n",
      "check_in : in : New client John joined the queue\n",
      "['John']\n",
      "check_in : in : New client Sam joined the queue\n",
      "['John', 'Sam']\n",
      "connect_to_associate : out : Remove client John, connecting to associate Emily\n",
      "['Sam']\n",
      "check_in : in : New client Danny joined the queue\n",
      "['Sam', 'Danny']\n",
      "connect_to_associate : out : Remove client Sam, connecting to associate Zoe\n",
      "connect_to_associate : out : Remove client Danny, connecting to associate Jack\n",
      "connect_to_associate : No mlre clients waiting\n",
      "[]\n",
      "check_in : in : New client John joined the queue\n",
      "['John']\n",
      "check_in : in : New client Sam joined the queue\n",
      "['John', 'Sam']\n",
      "connect_to_associate : out : Remove client John, connecting to associate Emily\n",
      "['Sam']\n",
      "check_in : in : New client Danny joined the queue\n",
      "['Sam', 'Danny']\n",
      "connect_to_associate : out : Remove client Sam, connecting to associate Zoe\n",
      "connect_to_associate : out : Remove client Danny, connecting to associate Jack\n",
      "connect_to_associate : No mlre clients waiting\n",
      "[]\n",
      "check_in : in : New client John joined the queue\n",
      "['John']\n",
      "check_in : in : New client Sam joined the queue\n",
      "['John', 'Sam']\n",
      "connect_to_associate : out : Remove client John, connecting to associate Emily\n",
      "['Sam']\n",
      "check_in : in : New client Danny joined the queue\n",
      "['Sam', 'Danny']\n",
      "connect_to_associate : out : Remove client Sam, connecting to associate Zoe\n",
      "connect_to_associate : out : Remove client Danny, connecting to associate Jack\n",
      "connect_to_associate : No mlre clients waiting\n",
      "[]\n",
      "check_in : in : New client John joined the queue\n",
      "['John']\n",
      "check_in : in : New client Sam joined the queue\n",
      "['John', 'Sam']\n",
      "connect_to_associate : out : Remove client John, connecting to associate Emily\n",
      "['Sam']\n",
      "check_in : in : New client Danny joined the queue\n",
      "['Sam', 'Danny']\n",
      "connect_to_associate : out : Remove client Sam, connecting to associate Zoe\n",
      "connect_to_associate : out : Remove client Danny, connecting to associate Jack\n",
      "connect_to_associate : No mlre clients waiting\n",
      "[]\n",
      "check_in : in : New client John joined the queue\n",
      "['John']\n",
      "check_in : in : New client Sam joined the queue\n",
      "['John', 'Sam']\n",
      "connect_to_associate : out : Remove client John, connecting to associate Emily\n",
      "['Sam']\n",
      "check_in : in : New client Danny joined the queue\n",
      "['Sam', 'Danny']\n",
      "connect_to_associate : out : Remove client Sam, connecting to associate Zoe\n",
      "connect_to_associate : out : Remove client Danny, connecting to associate Jack\n",
      "connect_to_associate : No mlre clients waiting\n",
      "[]\n",
      "check_in : in : New client John joined the queue\n",
      "['John']\n"
     ]
    },
    {
     "name": "stdout",
     "output_type": "stream",
     "text": [
      "check_in : in : New client Sam joined the queue\n",
      "['John', 'Sam']\n",
      "connect_to_associate : out : Remove client John, connecting to associate Emily\n",
      "['Sam']\n",
      "check_in : in : New client Danny joined the queue\n",
      "['Sam', 'Danny']\n",
      "connect_to_associate : out : Remove client Sam, connecting to associate Zoe\n",
      "connect_to_associate : out : Remove client Danny, connecting to associate Jack\n",
      "connect_to_associate : No mlre clients waiting\n",
      "[]\n",
      "check_in : in : New client John joined the queue\n",
      "['John']\n",
      "check_in : in : New client Sam joined the queue\n",
      "['John', 'Sam']\n",
      "connect_to_associate : out : Remove client John, connecting to associate Emily\n",
      "['Sam']\n",
      "check_in : in : New client Danny joined the queue\n",
      "['Sam', 'Danny']\n",
      "connect_to_associate : out : Remove client Sam, connecting to associate Zoe\n",
      "connect_to_associate : out : Remove client Danny, connecting to associate Jack\n",
      "connect_to_associate : No mlre clients waiting\n",
      "[]\n",
      "check_in : in : New client John joined the queue\n",
      "['John']\n",
      "check_in : in : New client Sam joined the queue\n",
      "['John', 'Sam']\n",
      "connect_to_associate : out : Remove client John, connecting to associate Emily\n",
      "['Sam']\n",
      "check_in : in : New client Danny joined the queue\n",
      "['Sam', 'Danny']\n",
      "connect_to_associate : out : Remove client Sam, connecting to associate Zoe\n",
      "connect_to_associate : out : Remove client Danny, connecting to associate Jack\n",
      "connect_to_associate : No mlre clients waiting\n",
      "[]\n",
      "check_in : in : New client John joined the queue\n",
      "['John']\n",
      "check_in : in : New client Sam joined the queue\n",
      "['John', 'Sam']\n",
      "connect_to_associate : out : Remove client John, connecting to associate Emily\n",
      "['Sam']\n",
      "check_in : in : New client Danny joined the queue\n",
      "['Sam', 'Danny']\n",
      "connect_to_associate : out : Remove client Sam, connecting to associate Zoe\n",
      "connect_to_associate : out : Remove client Danny, connecting to associate Jack\n",
      "connect_to_associate : No mlre clients waiting\n",
      "[]\n",
      "check_in : in : New client John joined the queue\n",
      "['John']\n",
      "check_in : in : New client Sam joined the queue\n",
      "['John', 'Sam']\n",
      "connect_to_associate : out : Remove client John, connecting to associate Emily\n",
      "['Sam']\n",
      "check_in : in : New client Danny joined the queue\n",
      "['Sam', 'Danny']\n",
      "connect_to_associate : out : Remove client Sam, connecting to associate Zoe\n",
      "connect_to_associate : out : Remove client Danny, connecting to associate Jack\n",
      "connect_to_associate : No mlre clients waiting\n",
      "[]\n",
      "check_in : in : New client John joined the queue\n",
      "['John']\n",
      "check_in : in : New client Sam joined the queue\n",
      "['John', 'Sam']\n",
      "connect_to_associate : out : Remove client John, connecting to associate Emily\n",
      "['Sam']\n",
      "check_in : in : New client Danny joined the queue\n",
      "['Sam', 'Danny']\n",
      "connect_to_associate : out : Remove client Sam, connecting to associate Zoe\n",
      "connect_to_associate : out : Remove client Danny, connecting to associate Jack\n",
      "connect_to_associate : No mlre clients waiting\n",
      "[]\n",
      "check_in : in : New client John joined the queue\n",
      "['John']\n",
      "check_in : in : New client Sam joined the queue\n",
      "['John', 'Sam']\n",
      "connect_to_associate : out : Remove client John, connecting to associate Emily\n",
      "['Sam']\n",
      "check_in : in : New client Danny joined the queue\n",
      "['Sam', 'Danny']\n",
      "connect_to_associate : out : Remove client Sam, connecting to associate Zoe\n",
      "connect_to_associate : out : Remove client Danny, connecting to associate Jack\n",
      "connect_to_associate : No mlre clients waiting\n",
      "[]\n",
      "check_in : in : New client John joined the queue\n",
      "['John']\n",
      "check_in : in : New client Sam joined the queue\n",
      "['John', 'Sam']\n",
      "connect_to_associate : out : Remove client John, connecting to associate Emily\n",
      "['Sam']\n",
      "check_in : in : New client Danny joined the queue\n",
      "['Sam', 'Danny']\n",
      "connect_to_associate : out : Remove client Sam, connecting to associate Zoe\n",
      "connect_to_associate : out : Remove client Danny, connecting to associate Jack\n",
      "connect_to_associate : No mlre clients waiting\n",
      "[]\n",
      "check_in : in : New client John joined the queue\n",
      "['John']\n",
      "check_in : in : New client Sam joined the queue\n",
      "['John', 'Sam']\n",
      "connect_to_associate : out : Remove client John, connecting to associate Emily\n",
      "['Sam']\n",
      "check_in : in : New client Danny joined the queue\n",
      "['Sam', 'Danny']\n",
      "connect_to_associate : out : Remove client Sam, connecting to associate Zoe\n",
      "connect_to_associate : out : Remove client Danny, connecting to associate Jack\n",
      "connect_to_associate : No mlre clients waiting\n",
      "[]\n",
      "check_in : in : New client John joined the queue\n",
      "['John']\n",
      "check_in : in : New client Sam joined the queue\n",
      "['John', 'Sam']\n",
      "connect_to_associate : out : Remove client John, connecting to associate Emily\n",
      "['Sam']\n",
      "check_in : in : New client Danny joined the queue\n",
      "['Sam', 'Danny']\n",
      "connect_to_associate : out : Remove client Sam, connecting to associate Zoe\n",
      "connect_to_associate : out : Remove client Danny, connecting to associate Jack\n",
      "connect_to_associate : No mlre clients waiting\n",
      "[]\n",
      "check_in : in : New client John joined the queue\n",
      "['John']\n",
      "check_in : in : New client Sam joined the queue\n",
      "['John', 'Sam']\n",
      "connect_to_associate : out : Remove client John, connecting to associate Emily\n",
      "['Sam']\n",
      "check_in : in : New client Danny joined the queue\n",
      "['Sam', 'Danny']\n",
      "connect_to_associate : out : Remove client Sam, connecting to associate Zoe\n",
      "connect_to_associate : out : Remove client Danny, connecting to associate Jack\n",
      "connect_to_associate : No mlre clients waiting\n",
      "[]\n",
      "check_in : in : New client John joined the queue\n",
      "['John']\n",
      "check_in : in : New client Sam joined the queue\n",
      "['John', 'Sam']\n",
      "connect_to_associate : out : Remove client John, connecting to associate Emily\n",
      "['Sam']\n",
      "check_in : in : New client Danny joined the queue\n",
      "['Sam', 'Danny']\n",
      "connect_to_associate : out : Remove client Sam, connecting to associate Zoe\n",
      "connect_to_associate : out : Remove client Danny, connecting to associate Jack\n",
      "connect_to_associate : No mlre clients waiting\n",
      "[]\n",
      "check_in : in : New client John joined the queue\n",
      "['John']\n",
      "check_in : in : New client Sam joined the queue\n",
      "['John', 'Sam']\n",
      "connect_to_associate : out : Remove client John, connecting to associate Emily\n",
      "['Sam']\n",
      "check_in : in : New client Danny joined the queue\n",
      "['Sam', 'Danny']\n",
      "connect_to_associate : out : Remove client Sam, connecting to associate Zoe\n",
      "connect_to_associate : out : Remove client Danny, connecting to associate Jack\n",
      "connect_to_associate : No mlre clients waiting\n",
      "[]\n",
      "check_in : in : New client John joined the queue\n",
      "['John']\n",
      "check_in : in : New client Sam joined the queue\n",
      "['John', 'Sam']\n",
      "connect_to_associate : out : Remove client John, connecting to associate Emily\n",
      "['Sam']\n",
      "check_in : in : New client Danny joined the queue\n",
      "['Sam', 'Danny']\n",
      "connect_to_associate : out : Remove client Sam, connecting to associate Zoe\n",
      "connect_to_associate : out : Remove client Danny, connecting to associate Jack\n",
      "connect_to_associate : No mlre clients waiting\n",
      "[]\n",
      "check_in : in : New client John joined the queue\n",
      "['John']\n",
      "check_in : in : New client Sam joined the queue\n",
      "['John', 'Sam']\n",
      "connect_to_associate : out : Remove client John, connecting to associate Emily\n",
      "['Sam']\n",
      "check_in : in : New client Danny joined the queue\n",
      "['Sam', 'Danny']\n",
      "connect_to_associate : out : Remove client Sam, connecting to associate Zoe\n",
      "connect_to_associate : out : Remove client Danny, connecting to associate Jack\n",
      "connect_to_associate : No mlre clients waiting\n",
      "[]\n",
      "check_in : in : New client John joined the queue\n",
      "['John']\n",
      "check_in : in : New client Sam joined the queue\n",
      "['John', 'Sam']\n",
      "connect_to_associate : out : Remove client John, connecting to associate Emily\n",
      "['Sam']\n",
      "check_in : in : New client Danny joined the queue\n",
      "['Sam', 'Danny']\n",
      "connect_to_associate : out : Remove client Sam, connecting to associate Zoe\n",
      "connect_to_associate : out : Remove client Danny, connecting to associate Jack\n",
      "connect_to_associate : No mlre clients waiting\n",
      "[]\n",
      "check_in : in : New client John joined the queue\n",
      "['John']\n",
      "check_in : in : New client Sam joined the queue\n",
      "['John', 'Sam']\n",
      "connect_to_associate : out : Remove client John, connecting to associate Emily\n",
      "['Sam']\n",
      "check_in : in : New client Danny joined the queue\n",
      "['Sam', 'Danny']\n",
      "connect_to_associate : out : Remove client Sam, connecting to associate Zoe\n",
      "connect_to_associate : out : Remove client Danny, connecting to associate Jack\n",
      "connect_to_associate : No mlre clients waiting\n",
      "[]\n",
      "check_in : in : New client John joined the queue\n",
      "['John']\n",
      "check_in : in : New client Sam joined the queue\n",
      "['John', 'Sam']\n",
      "connect_to_associate : out : Remove client John, connecting to associate Emily\n",
      "['Sam']\n",
      "check_in : in : New client Danny joined the queue\n",
      "['Sam', 'Danny']\n",
      "connect_to_associate : out : Remove client Sam, connecting to associate Zoe\n",
      "connect_to_associate : out : Remove client Danny, connecting to associate Jack\n",
      "connect_to_associate : No mlre clients waiting\n",
      "[]\n"
     ]
    },
    {
     "name": "stdout",
     "output_type": "stream",
     "text": [
      "check_in : in : New client John joined the queue\n",
      "['John']\n",
      "check_in : in : New client Sam joined the queue\n",
      "['John', 'Sam']\n",
      "connect_to_associate : out : Remove client John, connecting to associate Emily\n",
      "['Sam']\n",
      "check_in : in : New client Danny joined the queue\n",
      "['Sam', 'Danny']\n",
      "connect_to_associate : out : Remove client Sam, connecting to associate Zoe\n",
      "connect_to_associate : out : Remove client Danny, connecting to associate Jack\n",
      "connect_to_associate : No mlre clients waiting\n",
      "[]\n",
      "check_in : in : New client John joined the queue\n",
      "['John']\n",
      "check_in : in : New client Sam joined the queue\n",
      "['John', 'Sam']\n",
      "connect_to_associate : out : Remove client John, connecting to associate Emily\n",
      "['Sam']\n",
      "check_in : in : New client Danny joined the queue\n",
      "['Sam', 'Danny']\n",
      "connect_to_associate : out : Remove client Sam, connecting to associate Zoe\n",
      "connect_to_associate : out : Remove client Danny, connecting to associate Jack\n",
      "connect_to_associate : No mlre clients waiting\n",
      "[]\n",
      "check_in : in : New client John joined the queue\n",
      "['John']\n",
      "check_in : in : New client Sam joined the queue\n",
      "['John', 'Sam']\n",
      "connect_to_associate : out : Remove client John, connecting to associate Emily\n",
      "['Sam']\n",
      "check_in : in : New client Danny joined the queue\n",
      "['Sam', 'Danny']\n",
      "connect_to_associate : out : Remove client Sam, connecting to associate Zoe\n",
      "connect_to_associate : out : Remove client Danny, connecting to associate Jack\n",
      "connect_to_associate : No mlre clients waiting\n",
      "[]\n",
      "check_in : in : New client John joined the queue\n",
      "['John']\n",
      "check_in : in : New client Sam joined the queue\n",
      "['John', 'Sam']\n",
      "connect_to_associate : out : Remove client John, connecting to associate Emily\n",
      "['Sam']\n",
      "check_in : in : New client Danny joined the queue\n",
      "['Sam', 'Danny']\n",
      "connect_to_associate : out : Remove client Sam, connecting to associate Zoe\n",
      "connect_to_associate : out : Remove client Danny, connecting to associate Jack\n",
      "connect_to_associate : No mlre clients waiting\n",
      "[]\n",
      "check_in : in : New client John joined the queue\n",
      "['John']\n",
      "check_in : in : New client Sam joined the queue\n",
      "['John', 'Sam']\n",
      "connect_to_associate : out : Remove client John, connecting to associate Emily\n",
      "['Sam']\n",
      "check_in : in : New client Danny joined the queue\n",
      "['Sam', 'Danny']\n",
      "connect_to_associate : out : Remove client Sam, connecting to associate Zoe\n",
      "connect_to_associate : out : Remove client Danny, connecting to associate Jack\n",
      "connect_to_associate : No mlre clients waiting\n",
      "[]\n",
      "check_in : in : New client John joined the queue\n",
      "['John']\n",
      "check_in : in : New client Sam joined the queue\n",
      "['John', 'Sam']\n",
      "connect_to_associate : out : Remove client John, connecting to associate Emily\n",
      "['Sam']\n",
      "check_in : in : New client Danny joined the queue\n",
      "['Sam', 'Danny']\n",
      "connect_to_associate : out : Remove client Sam, connecting to associate Zoe\n",
      "connect_to_associate : out : Remove client Danny, connecting to associate Jack\n",
      "connect_to_associate : No mlre clients waiting\n",
      "[]\n",
      "check_in : in : New client John joined the queue\n",
      "['John']\n",
      "check_in : in : New client Sam joined the queue\n",
      "['John', 'Sam']\n",
      "connect_to_associate : out : Remove client John, connecting to associate Emily\n",
      "['Sam']\n",
      "check_in : in : New client Danny joined the queue\n",
      "['Sam', 'Danny']\n",
      "connect_to_associate : out : Remove client Sam, connecting to associate Zoe\n",
      "connect_to_associate : out : Remove client Danny, connecting to associate Jack\n",
      "connect_to_associate : No mlre clients waiting\n",
      "[]\n",
      "check_in : in : New client John joined the queue\n",
      "['John']\n",
      "check_in : in : New client Sam joined the queue\n",
      "['John', 'Sam']\n",
      "connect_to_associate : out : Remove client John, connecting to associate Emily\n",
      "['Sam']\n",
      "check_in : in : New client Danny joined the queue\n",
      "['Sam', 'Danny']\n",
      "connect_to_associate : out : Remove client Sam, connecting to associate Zoe\n",
      "connect_to_associate : out : Remove client Danny, connecting to associate Jack\n",
      "connect_to_associate : No mlre clients waiting\n",
      "[]\n",
      "check_in : in : New client John joined the queue\n",
      "['John']\n",
      "check_in : in : New client Sam joined the queue\n",
      "['John', 'Sam']\n",
      "connect_to_associate : out : Remove client John, connecting to associate Emily\n",
      "['Sam']\n",
      "check_in : in : New client Danny joined the queue\n",
      "['Sam', 'Danny']\n",
      "connect_to_associate : out : Remove client Sam, connecting to associate Zoe\n",
      "connect_to_associate : out : Remove client Danny, connecting to associate Jack\n",
      "connect_to_associate : No mlre clients waiting\n",
      "[]\n",
      "check_in : in : New client John joined the queue\n",
      "['John']\n",
      "check_in : in : New client Sam joined the queue\n",
      "['John', 'Sam']\n",
      "connect_to_associate : out : Remove client John, connecting to associate Emily\n",
      "['Sam']\n",
      "check_in : in : New client Danny joined the queue\n",
      "['Sam', 'Danny']\n",
      "connect_to_associate : out : Remove client Sam, connecting to associate Zoe\n",
      "connect_to_associate : out : Remove client Danny, connecting to associate Jack\n",
      "connect_to_associate : No mlre clients waiting\n",
      "[]\n",
      "check_in : in : New client John joined the queue\n",
      "['John']\n",
      "check_in : in : New client Sam joined the queue\n",
      "['John', 'Sam']\n",
      "connect_to_associate : out : Remove client John, connecting to associate Emily\n",
      "['Sam']\n",
      "check_in : in : New client Danny joined the queue\n",
      "['Sam', 'Danny']\n",
      "connect_to_associate : out : Remove client Sam, connecting to associate Zoe\n",
      "connect_to_associate : out : Remove client Danny, connecting to associate Jack\n",
      "connect_to_associate : No mlre clients waiting\n",
      "[]\n",
      "check_in : in : New client John joined the queue\n",
      "['John']\n",
      "check_in : in : New client Sam joined the queue\n",
      "['John', 'Sam']\n",
      "connect_to_associate : out : Remove client John, connecting to associate Emily\n",
      "['Sam']\n",
      "check_in : in : New client Danny joined the queue\n",
      "['Sam', 'Danny']\n",
      "connect_to_associate : out : Remove client Sam, connecting to associate Zoe\n",
      "connect_to_associate : out : Remove client Danny, connecting to associate Jack\n",
      "connect_to_associate : No mlre clients waiting\n",
      "[]\n",
      "check_in : in : New client John joined the queue\n",
      "['John']\n",
      "check_in : in : New client Sam joined the queue\n",
      "['John', 'Sam']\n",
      "connect_to_associate : out : Remove client John, connecting to associate Emily\n",
      "['Sam']\n",
      "check_in : in : New client Danny joined the queue\n",
      "['Sam', 'Danny']\n",
      "connect_to_associate : out : Remove client Sam, connecting to associate Zoe\n",
      "connect_to_associate : out : Remove client Danny, connecting to associate Jack\n",
      "connect_to_associate : No mlre clients waiting\n",
      "[]\n",
      "check_in : in : New client John joined the queue\n",
      "['John']\n",
      "check_in : in : New client Sam joined the queue\n",
      "['John', 'Sam']\n",
      "connect_to_associate : out : Remove client John, connecting to associate Emily\n",
      "['Sam']\n",
      "check_in : in : New client Danny joined the queue\n",
      "['Sam', 'Danny']\n",
      "connect_to_associate : out : Remove client Sam, connecting to associate Zoe\n",
      "connect_to_associate : out : Remove client Danny, connecting to associate Jack\n",
      "connect_to_associate : No mlre clients waiting\n",
      "[]\n",
      "check_in : in : New client John joined the queue\n",
      "['John']\n",
      "check_in : in : New client Sam joined the queue\n",
      "['John', 'Sam']\n",
      "connect_to_associate : out : Remove client John, connecting to associate Emily\n",
      "['Sam']\n",
      "check_in : in : New client Danny joined the queue\n",
      "['Sam', 'Danny']\n",
      "connect_to_associate : out : Remove client Sam, connecting to associate Zoe\n",
      "connect_to_associate : out : Remove client Danny, connecting to associate Jack\n",
      "connect_to_associate : No mlre clients waiting\n",
      "[]\n",
      "check_in : in : New client John joined the queue\n",
      "['John']\n",
      "check_in : in : New client Sam joined the queue\n",
      "['John', 'Sam']\n",
      "connect_to_associate : out : Remove client John, connecting to associate Emily\n",
      "['Sam']\n",
      "check_in : in : New client Danny joined the queue\n",
      "['Sam', 'Danny']\n",
      "connect_to_associate : out : Remove client Sam, connecting to associate Zoe\n",
      "connect_to_associate : out : Remove client Danny, connecting to associate Jack\n",
      "connect_to_associate : No mlre clients waiting\n",
      "[]\n",
      "check_in : in : New client John joined the queue\n",
      "['John']\n",
      "check_in : in : New client Sam joined the queue\n",
      "['John', 'Sam']\n",
      "connect_to_associate : out : Remove client John, connecting to associate Emily\n",
      "['Sam']\n",
      "check_in : in : New client Danny joined the queue\n",
      "['Sam', 'Danny']\n",
      "connect_to_associate : out : Remove client Sam, connecting to associate Zoe\n",
      "connect_to_associate : out : Remove client Danny, connecting to associate Jack\n",
      "connect_to_associate : No mlre clients waiting\n",
      "[]\n",
      "check_in : in : New client John joined the queue\n",
      "['John']\n",
      "check_in : in : New client Sam joined the queue\n",
      "['John', 'Sam']\n"
     ]
    },
    {
     "name": "stdout",
     "output_type": "stream",
     "text": [
      "connect_to_associate : out : Remove client John, connecting to associate Emily\n",
      "['Sam']\n",
      "check_in : in : New client Danny joined the queue\n",
      "['Sam', 'Danny']\n",
      "connect_to_associate : out : Remove client Sam, connecting to associate Zoe\n",
      "connect_to_associate : out : Remove client Danny, connecting to associate Jack\n",
      "connect_to_associate : No mlre clients waiting\n",
      "[]\n",
      "check_in : in : New client John joined the queue\n",
      "['John']\n",
      "check_in : in : New client Sam joined the queue\n",
      "['John', 'Sam']\n",
      "connect_to_associate : out : Remove client John, connecting to associate Emily\n",
      "['Sam']\n",
      "check_in : in : New client Danny joined the queue\n",
      "['Sam', 'Danny']\n",
      "connect_to_associate : out : Remove client Sam, connecting to associate Zoe\n",
      "connect_to_associate : out : Remove client Danny, connecting to associate Jack\n",
      "connect_to_associate : No mlre clients waiting\n",
      "[]\n",
      "check_in : in : New client John joined the queue\n",
      "['John']\n",
      "check_in : in : New client Sam joined the queue\n",
      "['John', 'Sam']\n",
      "connect_to_associate : out : Remove client John, connecting to associate Emily\n",
      "['Sam']\n",
      "check_in : in : New client Danny joined the queue\n",
      "['Sam', 'Danny']\n",
      "connect_to_associate : out : Remove client Sam, connecting to associate Zoe\n",
      "connect_to_associate : out : Remove client Danny, connecting to associate Jack\n",
      "connect_to_associate : No mlre clients waiting\n",
      "[]\n",
      "check_in : in : New client John joined the queue\n",
      "['John']\n",
      "check_in : in : New client Sam joined the queue\n",
      "['John', 'Sam']\n",
      "connect_to_associate : out : Remove client John, connecting to associate Emily\n",
      "['Sam']\n",
      "check_in : in : New client Danny joined the queue\n",
      "['Sam', 'Danny']\n",
      "connect_to_associate : out : Remove client Sam, connecting to associate Zoe\n",
      "connect_to_associate : out : Remove client Danny, connecting to associate Jack\n",
      "connect_to_associate : No mlre clients waiting\n",
      "[]\n",
      "check_in : in : New client John joined the queue\n",
      "['John']\n",
      "check_in : in : New client Sam joined the queue\n",
      "['John', 'Sam']\n",
      "connect_to_associate : out : Remove client John, connecting to associate Emily\n",
      "['Sam']\n",
      "check_in : in : New client Danny joined the queue\n",
      "['Sam', 'Danny']\n",
      "connect_to_associate : out : Remove client Sam, connecting to associate Zoe\n",
      "connect_to_associate : out : Remove client Danny, connecting to associate Jack\n",
      "connect_to_associate : No mlre clients waiting\n",
      "[]\n",
      "check_in : in : New client John joined the queue\n",
      "['John']\n",
      "check_in : in : New client Sam joined the queue\n",
      "['John', 'Sam']\n",
      "connect_to_associate : out : Remove client John, connecting to associate Emily\n",
      "['Sam']\n",
      "check_in : in : New client Danny joined the queue\n",
      "['Sam', 'Danny']\n",
      "connect_to_associate : out : Remove client Sam, connecting to associate Zoe\n",
      "connect_to_associate : out : Remove client Danny, connecting to associate Jack\n",
      "connect_to_associate : No mlre clients waiting\n",
      "[]\n",
      "check_in : in : New client John joined the queue\n",
      "['John']\n",
      "check_in : in : New client Sam joined the queue\n",
      "['John', 'Sam']\n",
      "connect_to_associate : out : Remove client John, connecting to associate Emily\n",
      "['Sam']\n",
      "check_in : in : New client Danny joined the queue\n",
      "['Sam', 'Danny']\n",
      "connect_to_associate : out : Remove client Sam, connecting to associate Zoe\n",
      "connect_to_associate : out : Remove client Danny, connecting to associate Jack\n",
      "connect_to_associate : No mlre clients waiting\n",
      "[]\n",
      "check_in : in : New client John joined the queue\n",
      "['John']\n",
      "check_in : in : New client Sam joined the queue\n",
      "['John', 'Sam']\n",
      "connect_to_associate : out : Remove client John, connecting to associate Emily\n",
      "['Sam']\n",
      "check_in : in : New client Danny joined the queue\n",
      "['Sam', 'Danny']\n",
      "connect_to_associate : out : Remove client Sam, connecting to associate Zoe\n",
      "connect_to_associate : out : Remove client Danny, connecting to associate Jack\n",
      "connect_to_associate : No mlre clients waiting\n",
      "[]\n",
      "check_in : in : New client John joined the queue\n",
      "['John']\n",
      "check_in : in : New client Sam joined the queue\n",
      "['John', 'Sam']\n",
      "connect_to_associate : out : Remove client John, connecting to associate Emily\n",
      "['Sam']\n",
      "check_in : in : New client Danny joined the queue\n",
      "['Sam', 'Danny']\n",
      "connect_to_associate : out : Remove client Sam, connecting to associate Zoe\n",
      "connect_to_associate : out : Remove client Danny, connecting to associate Jack\n",
      "connect_to_associate : No mlre clients waiting\n",
      "[]\n",
      "check_in : in : New client John joined the queue\n",
      "['John']\n",
      "check_in : in : New client Sam joined the queue\n",
      "['John', 'Sam']\n",
      "connect_to_associate : out : Remove client John, connecting to associate Emily\n",
      "['Sam']\n",
      "check_in : in : New client Danny joined the queue\n",
      "['Sam', 'Danny']\n",
      "connect_to_associate : out : Remove client Sam, connecting to associate Zoe\n",
      "connect_to_associate : out : Remove client Danny, connecting to associate Jack\n",
      "connect_to_associate : No mlre clients waiting\n",
      "[]\n",
      "check_in : in : New client John joined the queue\n",
      "['John']\n",
      "check_in : in : New client Sam joined the queue\n",
      "['John', 'Sam']\n",
      "connect_to_associate : out : Remove client John, connecting to associate Emily\n",
      "['Sam']\n",
      "check_in : in : New client Danny joined the queue\n",
      "['Sam', 'Danny']\n",
      "connect_to_associate : out : Remove client Sam, connecting to associate Zoe\n",
      "connect_to_associate : out : Remove client Danny, connecting to associate Jack\n",
      "connect_to_associate : No mlre clients waiting\n",
      "[]\n",
      "check_in : in : New client John joined the queue\n",
      "['John']\n",
      "check_in : in : New client Sam joined the queue\n",
      "['John', 'Sam']\n",
      "connect_to_associate : out : Remove client John, connecting to associate Emily\n",
      "['Sam']\n",
      "check_in : in : New client Danny joined the queue\n",
      "['Sam', 'Danny']\n",
      "connect_to_associate : out : Remove client Sam, connecting to associate Zoe\n",
      "connect_to_associate : out : Remove client Danny, connecting to associate Jack\n",
      "connect_to_associate : No mlre clients waiting\n",
      "[]\n",
      "check_in : in : New client John joined the queue\n",
      "['John']\n",
      "check_in : in : New client Sam joined the queue\n",
      "['John', 'Sam']\n",
      "connect_to_associate : out : Remove client John, connecting to associate Emily\n",
      "['Sam']\n",
      "check_in : in : New client Danny joined the queue\n",
      "['Sam', 'Danny']\n",
      "connect_to_associate : out : Remove client Sam, connecting to associate Zoe\n",
      "connect_to_associate : out : Remove client Danny, connecting to associate Jack\n",
      "connect_to_associate : No mlre clients waiting\n",
      "[]\n",
      "check_in : in : New client John joined the queue\n",
      "['John']\n",
      "check_in : in : New client Sam joined the queue\n",
      "['John', 'Sam']\n",
      "connect_to_associate : out : Remove client John, connecting to associate Emily\n",
      "['Sam']\n",
      "check_in : in : New client Danny joined the queue\n",
      "['Sam', 'Danny']\n",
      "connect_to_associate : out : Remove client Sam, connecting to associate Zoe\n",
      "connect_to_associate : out : Remove client Danny, connecting to associate Jack\n",
      "connect_to_associate : No mlre clients waiting\n",
      "[]\n",
      "check_in : in : New client John joined the queue\n",
      "['John']\n",
      "check_in : in : New client Sam joined the queue\n",
      "['John', 'Sam']\n",
      "connect_to_associate : out : Remove client John, connecting to associate Emily\n",
      "['Sam']\n",
      "check_in : in : New client Danny joined the queue\n",
      "['Sam', 'Danny']\n",
      "connect_to_associate : out : Remove client Sam, connecting to associate Zoe\n",
      "connect_to_associate : out : Remove client Danny, connecting to associate Jack\n",
      "connect_to_associate : No mlre clients waiting\n",
      "[]\n",
      "check_in : in : New client John joined the queue\n",
      "['John']\n",
      "check_in : in : New client Sam joined the queue\n",
      "['John', 'Sam']\n",
      "connect_to_associate : out : Remove client John, connecting to associate Emily\n",
      "['Sam']\n",
      "check_in : in : New client Danny joined the queue\n",
      "['Sam', 'Danny']\n",
      "connect_to_associate : out : Remove client Sam, connecting to associate Zoe\n",
      "connect_to_associate : out : Remove client Danny, connecting to associate Jack\n",
      "connect_to_associate : No mlre clients waiting\n",
      "[]\n",
      "check_in : in : New client John joined the queue\n",
      "['John']\n",
      "check_in : in : New client Sam joined the queue\n",
      "['John', 'Sam']\n",
      "connect_to_associate : out : Remove client John, connecting to associate Emily\n",
      "['Sam']\n",
      "check_in : in : New client Danny joined the queue\n",
      "['Sam', 'Danny']\n",
      "connect_to_associate : out : Remove client Sam, connecting to associate Zoe\n",
      "connect_to_associate : out : Remove client Danny, connecting to associate Jack\n",
      "connect_to_associate : No mlre clients waiting\n",
      "[]\n",
      "check_in : in : New client John joined the queue\n",
      "['John']\n",
      "check_in : in : New client Sam joined the queue\n",
      "['John', 'Sam']\n",
      "connect_to_associate : out : Remove client John, connecting to associate Emily\n",
      "['Sam']\n",
      "check_in : in : New client Danny joined the queue\n",
      "['Sam', 'Danny']\n",
      "connect_to_associate : out : Remove client Sam, connecting to associate Zoe\n"
     ]
    },
    {
     "name": "stdout",
     "output_type": "stream",
     "text": [
      "connect_to_associate : out : Remove client Danny, connecting to associate Jack\n",
      "connect_to_associate : No mlre clients waiting\n",
      "[]\n",
      "check_in : in : New client John joined the queue\n",
      "['John']\n",
      "check_in : in : New client Sam joined the queue\n",
      "['John', 'Sam']\n",
      "connect_to_associate : out : Remove client John, connecting to associate Emily\n",
      "['Sam']\n",
      "check_in : in : New client Danny joined the queue\n",
      "['Sam', 'Danny']\n",
      "connect_to_associate : out : Remove client Sam, connecting to associate Zoe\n",
      "connect_to_associate : out : Remove client Danny, connecting to associate Jack\n",
      "connect_to_associate : No mlre clients waiting\n",
      "[]\n",
      "check_in : in : New client John joined the queue\n",
      "['John']\n",
      "check_in : in : New client Sam joined the queue\n",
      "['John', 'Sam']\n",
      "connect_to_associate : out : Remove client John, connecting to associate Emily\n",
      "['Sam']\n",
      "check_in : in : New client Danny joined the queue\n",
      "['Sam', 'Danny']\n",
      "connect_to_associate : out : Remove client Sam, connecting to associate Zoe\n",
      "connect_to_associate : out : Remove client Danny, connecting to associate Jack\n",
      "connect_to_associate : No mlre clients waiting\n",
      "[]\n",
      "check_in : in : New client John joined the queue\n",
      "['John']\n",
      "check_in : in : New client Sam joined the queue\n",
      "['John', 'Sam']\n",
      "connect_to_associate : out : Remove client John, connecting to associate Emily\n",
      "['Sam']\n",
      "check_in : in : New client Danny joined the queue\n",
      "['Sam', 'Danny']\n",
      "connect_to_associate : out : Remove client Sam, connecting to associate Zoe\n",
      "connect_to_associate : out : Remove client Danny, connecting to associate Jack\n",
      "connect_to_associate : No mlre clients waiting\n",
      "[]\n",
      "check_in : in : New client John joined the queue\n",
      "['John']\n",
      "check_in : in : New client Sam joined the queue\n",
      "['John', 'Sam']\n",
      "connect_to_associate : out : Remove client John, connecting to associate Emily\n",
      "['Sam']\n",
      "check_in : in : New client Danny joined the queue\n",
      "['Sam', 'Danny']\n",
      "connect_to_associate : out : Remove client Sam, connecting to associate Zoe\n",
      "connect_to_associate : out : Remove client Danny, connecting to associate Jack\n",
      "connect_to_associate : No mlre clients waiting\n",
      "[]\n",
      "check_in : in : New client John joined the queue\n",
      "['John']\n",
      "check_in : in : New client Sam joined the queue\n",
      "['John', 'Sam']\n",
      "connect_to_associate : out : Remove client John, connecting to associate Emily\n",
      "['Sam']\n",
      "check_in : in : New client Danny joined the queue\n",
      "['Sam', 'Danny']\n",
      "connect_to_associate : out : Remove client Sam, connecting to associate Zoe\n",
      "connect_to_associate : out : Remove client Danny, connecting to associate Jack\n",
      "connect_to_associate : No mlre clients waiting\n",
      "[]\n",
      "check_in : in : New client John joined the queue\n",
      "['John']\n",
      "check_in : in : New client Sam joined the queue\n",
      "['John', 'Sam']\n",
      "connect_to_associate : out : Remove client John, connecting to associate Emily\n",
      "['Sam']\n",
      "check_in : in : New client Danny joined the queue\n",
      "['Sam', 'Danny']\n",
      "connect_to_associate : out : Remove client Sam, connecting to associate Zoe\n",
      "connect_to_associate : out : Remove client Danny, connecting to associate Jack\n",
      "connect_to_associate : No mlre clients waiting\n",
      "[]\n",
      "31.21224780008197\n"
     ]
    }
   ],
   "source": [
    "import inspect\n",
    "from timeit import timeit\n",
    "\n",
    "clients = list()\n",
    "\n",
    "def check_in(client):\n",
    "    clients.append(client)\n",
    "    print(f\"{inspect.stack()[0][3]} : in : New client {client} joined the queue\")\n",
    "    \n",
    "    return True\n",
    "\n",
    "def connect_to_associate(associate):\n",
    "    if clients : \n",
    "        client_to_connect = clients.pop(0)\n",
    "        print(f\"{inspect.stack()[0][3]} : out : Remove client {client_to_connect}, connecting to associate {associate}\")\n",
    "    else:\n",
    "        print(f\"{inspect.stack()[0][3]} : No mlre clients waiting\")\n",
    "        \n",
    "    return True\n",
    "\n",
    "def run_trials():\n",
    "    check_in(\"John\")\n",
    "    print(f\"{clients}\")\n",
    "    check_in(\"Sam\")\n",
    "    print(f\"{clients}\")\n",
    "    connect_to_associate(\"Emily\")\n",
    "    print(f\"{clients}\")\n",
    "    check_in(\"Danny\")\n",
    "    print(f\"{clients}\")\n",
    "    connect_to_associate(\"Zoe\")\n",
    "    connect_to_associate(\"Jack\")\n",
    "    connect_to_associate(\"Aaron\")\n",
    "    print(f\"{clients}\")\n",
    "    \n",
    "    return True\n",
    "\n",
    "# %timeit run_trials()\n",
    "print(timeit(lambda: run_trails(), number=200))"
   ]
  },
  {
   "cell_type": "markdown",
   "metadata": {},
   "source": [
    "#### (2) With deque"
   ]
  },
  {
   "cell_type": "code",
   "execution_count": 83,
   "metadata": {},
   "outputs": [
    {
     "name": "stdout",
     "output_type": "stream",
     "text": [
      "check_in : in : New client John joined the queue\n",
      "deque(['John'])\n",
      "check_in : in : New client Sam joined the queue\n",
      "deque(['John', 'Sam'])\n",
      "connect_to_associate : out : Remove client John, connecting to associate Emily\n",
      "deque(['Sam'])\n",
      "check_in : in : New client Danny joined the queue\n",
      "deque(['Sam', 'Danny'])\n",
      "connect_to_associate : out : Remove client Sam, connecting to associate Zoe\n",
      "connect_to_associate : out : Remove client Danny, connecting to associate Jack\n",
      "connect_to_associate : No mlre clients waiting\n",
      "deque([])\n",
      "check_in : in : New client John joined the queue\n",
      "deque(['John'])\n",
      "check_in : in : New client Sam joined the queue\n",
      "deque(['John', 'Sam'])\n",
      "connect_to_associate : out : Remove client John, connecting to associate Emily\n",
      "deque(['Sam'])\n",
      "check_in : in : New client Danny joined the queue\n",
      "deque(['Sam', 'Danny'])\n",
      "connect_to_associate : out : Remove client Sam, connecting to associate Zoe\n",
      "connect_to_associate : out : Remove client Danny, connecting to associate Jack\n",
      "connect_to_associate : No mlre clients waiting\n",
      "deque([])\n",
      "check_in : in : New client John joined the queue\n",
      "deque(['John'])\n",
      "check_in : in : New client Sam joined the queue\n",
      "deque(['John', 'Sam'])\n",
      "connect_to_associate : out : Remove client John, connecting to associate Emily\n",
      "deque(['Sam'])\n",
      "check_in : in : New client Danny joined the queue\n",
      "deque(['Sam', 'Danny'])\n",
      "connect_to_associate : out : Remove client Sam, connecting to associate Zoe\n",
      "connect_to_associate : out : Remove client Danny, connecting to associate Jack\n",
      "connect_to_associate : No mlre clients waiting\n",
      "deque([])\n",
      "check_in : in : New client John joined the queue\n",
      "deque(['John'])\n",
      "check_in : in : New client Sam joined the queue\n",
      "deque(['John', 'Sam'])\n",
      "connect_to_associate : out : Remove client John, connecting to associate Emily\n",
      "deque(['Sam'])\n",
      "check_in : in : New client Danny joined the queue\n",
      "deque(['Sam', 'Danny'])\n",
      "connect_to_associate : out : Remove client Sam, connecting to associate Zoe\n",
      "connect_to_associate : out : Remove client Danny, connecting to associate Jack\n",
      "connect_to_associate : No mlre clients waiting\n",
      "deque([])\n",
      "check_in : in : New client John joined the queue\n",
      "deque(['John'])\n",
      "check_in : in : New client Sam joined the queue\n",
      "deque(['John', 'Sam'])\n",
      "connect_to_associate : out : Remove client John, connecting to associate Emily\n",
      "deque(['Sam'])\n",
      "check_in : in : New client Danny joined the queue\n",
      "deque(['Sam', 'Danny'])\n",
      "connect_to_associate : out : Remove client Sam, connecting to associate Zoe\n",
      "connect_to_associate : out : Remove client Danny, connecting to associate Jack\n",
      "connect_to_associate : No mlre clients waiting\n",
      "deque([])\n",
      "check_in : in : New client John joined the queue\n",
      "deque(['John'])\n",
      "check_in : in : New client Sam joined the queue\n",
      "deque(['John', 'Sam'])\n",
      "connect_to_associate : out : Remove client John, connecting to associate Emily\n",
      "deque(['Sam'])\n",
      "check_in : in : New client Danny joined the queue\n",
      "deque(['Sam', 'Danny'])\n",
      "connect_to_associate : out : Remove client Sam, connecting to associate Zoe\n",
      "connect_to_associate : out : Remove client Danny, connecting to associate Jack\n",
      "connect_to_associate : No mlre clients waiting\n",
      "deque([])\n",
      "check_in : in : New client John joined the queue\n",
      "deque(['John'])\n",
      "check_in : in : New client Sam joined the queue\n",
      "deque(['John', 'Sam'])\n",
      "connect_to_associate : out : Remove client John, connecting to associate Emily\n",
      "deque(['Sam'])\n",
      "check_in : in : New client Danny joined the queue\n",
      "deque(['Sam', 'Danny'])\n",
      "connect_to_associate : out : Remove client Sam, connecting to associate Zoe\n",
      "connect_to_associate : out : Remove client Danny, connecting to associate Jack\n",
      "connect_to_associate : No mlre clients waiting\n",
      "deque([])\n",
      "check_in : in : New client John joined the queue\n",
      "deque(['John'])\n",
      "check_in : in : New client Sam joined the queue\n",
      "deque(['John', 'Sam'])\n",
      "connect_to_associate : out : Remove client John, connecting to associate Emily\n",
      "deque(['Sam'])\n",
      "check_in : in : New client Danny joined the queue\n",
      "deque(['Sam', 'Danny'])\n",
      "connect_to_associate : out : Remove client Sam, connecting to associate Zoe\n",
      "connect_to_associate : out : Remove client Danny, connecting to associate Jack\n",
      "connect_to_associate : No mlre clients waiting\n",
      "deque([])\n",
      "check_in : in : New client John joined the queue\n",
      "deque(['John'])\n",
      "check_in : in : New client Sam joined the queue\n",
      "deque(['John', 'Sam'])\n",
      "connect_to_associate : out : Remove client John, connecting to associate Emily\n",
      "deque(['Sam'])\n",
      "check_in : in : New client Danny joined the queue\n",
      "deque(['Sam', 'Danny'])\n",
      "connect_to_associate : out : Remove client Sam, connecting to associate Zoe\n",
      "connect_to_associate : out : Remove client Danny, connecting to associate Jack\n",
      "connect_to_associate : No mlre clients waiting\n",
      "deque([])\n",
      "check_in : in : New client John joined the queue\n",
      "deque(['John'])\n",
      "check_in : in : New client Sam joined the queue\n",
      "deque(['John', 'Sam'])\n",
      "connect_to_associate : out : Remove client John, connecting to associate Emily\n",
      "deque(['Sam'])\n",
      "check_in : in : New client Danny joined the queue\n",
      "deque(['Sam', 'Danny'])\n",
      "connect_to_associate : out : Remove client Sam, connecting to associate Zoe\n",
      "connect_to_associate : out : Remove client Danny, connecting to associate Jack\n",
      "connect_to_associate : No mlre clients waiting\n",
      "deque([])\n",
      "check_in : in : New client John joined the queue\n",
      "deque(['John'])\n",
      "check_in : in : New client Sam joined the queue\n",
      "deque(['John', 'Sam'])\n",
      "connect_to_associate : out : Remove client John, connecting to associate Emily\n",
      "deque(['Sam'])\n",
      "check_in : in : New client Danny joined the queue\n",
      "deque(['Sam', 'Danny'])\n",
      "connect_to_associate : out : Remove client Sam, connecting to associate Zoe\n",
      "connect_to_associate : out : Remove client Danny, connecting to associate Jack\n",
      "connect_to_associate : No mlre clients waiting\n",
      "deque([])\n",
      "check_in : in : New client John joined the queue\n",
      "deque(['John'])\n",
      "check_in : in : New client Sam joined the queue\n",
      "deque(['John', 'Sam'])\n",
      "connect_to_associate : out : Remove client John, connecting to associate Emily\n",
      "deque(['Sam'])\n",
      "check_in : in : New client Danny joined the queue\n",
      "deque(['Sam', 'Danny'])\n",
      "connect_to_associate : out : Remove client Sam, connecting to associate Zoe\n",
      "connect_to_associate : out : Remove client Danny, connecting to associate Jack\n",
      "connect_to_associate : No mlre clients waiting\n",
      "deque([])\n",
      "check_in : in : New client John joined the queue\n",
      "deque(['John'])\n",
      "check_in : in : New client Sam joined the queue\n",
      "deque(['John', 'Sam'])\n",
      "connect_to_associate : out : Remove client John, connecting to associate Emily\n",
      "deque(['Sam'])\n",
      "check_in : in : New client Danny joined the queue\n",
      "deque(['Sam', 'Danny'])\n",
      "connect_to_associate : out : Remove client Sam, connecting to associate Zoe\n",
      "connect_to_associate : out : Remove client Danny, connecting to associate Jack\n",
      "connect_to_associate : No mlre clients waiting\n",
      "deque([])\n",
      "check_in : in : New client John joined the queue\n",
      "deque(['John'])\n",
      "check_in : in : New client Sam joined the queue\n",
      "deque(['John', 'Sam'])\n",
      "connect_to_associate : out : Remove client John, connecting to associate Emily\n",
      "deque(['Sam'])\n",
      "check_in : in : New client Danny joined the queue\n",
      "deque(['Sam', 'Danny'])\n",
      "connect_to_associate : out : Remove client Sam, connecting to associate Zoe\n",
      "connect_to_associate : out : Remove client Danny, connecting to associate Jack\n",
      "connect_to_associate : No mlre clients waiting\n",
      "deque([])\n",
      "check_in : in : New client John joined the queue\n",
      "deque(['John'])\n",
      "check_in : in : New client Sam joined the queue\n",
      "deque(['John', 'Sam'])\n",
      "connect_to_associate : out : Remove client John, connecting to associate Emily\n",
      "deque(['Sam'])\n",
      "check_in : in : New client Danny joined the queue\n",
      "deque(['Sam', 'Danny'])\n",
      "connect_to_associate : out : Remove client Sam, connecting to associate Zoe\n",
      "connect_to_associate : out : Remove client Danny, connecting to associate Jack\n",
      "connect_to_associate : No mlre clients waiting\n",
      "deque([])\n",
      "check_in : in : New client John joined the queue\n",
      "deque(['John'])\n",
      "check_in : in : New client Sam joined the queue\n",
      "deque(['John', 'Sam'])\n",
      "connect_to_associate : out : Remove client John, connecting to associate Emily\n",
      "deque(['Sam'])\n",
      "check_in : in : New client Danny joined the queue\n",
      "deque(['Sam', 'Danny'])\n",
      "connect_to_associate : out : Remove client Sam, connecting to associate Zoe\n",
      "connect_to_associate : out : Remove client Danny, connecting to associate Jack\n",
      "connect_to_associate : No mlre clients waiting\n",
      "deque([])\n",
      "check_in : in : New client John joined the queue\n",
      "deque(['John'])\n",
      "check_in : in : New client Sam joined the queue\n",
      "deque(['John', 'Sam'])\n",
      "connect_to_associate : out : Remove client John, connecting to associate Emily\n",
      "deque(['Sam'])\n",
      "check_in : in : New client Danny joined the queue\n",
      "deque(['Sam', 'Danny'])\n"
     ]
    },
    {
     "name": "stdout",
     "output_type": "stream",
     "text": [
      "connect_to_associate : out : Remove client Sam, connecting to associate Zoe\n",
      "connect_to_associate : out : Remove client Danny, connecting to associate Jack\n",
      "connect_to_associate : No mlre clients waiting\n",
      "deque([])\n",
      "check_in : in : New client John joined the queue\n",
      "deque(['John'])\n",
      "check_in : in : New client Sam joined the queue\n",
      "deque(['John', 'Sam'])\n",
      "connect_to_associate : out : Remove client John, connecting to associate Emily\n",
      "deque(['Sam'])\n",
      "check_in : in : New client Danny joined the queue\n",
      "deque(['Sam', 'Danny'])\n",
      "connect_to_associate : out : Remove client Sam, connecting to associate Zoe\n",
      "connect_to_associate : out : Remove client Danny, connecting to associate Jack\n",
      "connect_to_associate : No mlre clients waiting\n",
      "deque([])\n",
      "check_in : in : New client John joined the queue\n",
      "deque(['John'])\n",
      "check_in : in : New client Sam joined the queue\n",
      "deque(['John', 'Sam'])\n",
      "connect_to_associate : out : Remove client John, connecting to associate Emily\n",
      "deque(['Sam'])\n",
      "check_in : in : New client Danny joined the queue\n",
      "deque(['Sam', 'Danny'])\n",
      "connect_to_associate : out : Remove client Sam, connecting to associate Zoe\n",
      "connect_to_associate : out : Remove client Danny, connecting to associate Jack\n",
      "connect_to_associate : No mlre clients waiting\n",
      "deque([])\n",
      "check_in : in : New client John joined the queue\n",
      "deque(['John'])\n",
      "check_in : in : New client Sam joined the queue\n",
      "deque(['John', 'Sam'])\n",
      "connect_to_associate : out : Remove client John, connecting to associate Emily\n",
      "deque(['Sam'])\n",
      "check_in : in : New client Danny joined the queue\n",
      "deque(['Sam', 'Danny'])\n",
      "connect_to_associate : out : Remove client Sam, connecting to associate Zoe\n",
      "connect_to_associate : out : Remove client Danny, connecting to associate Jack\n",
      "connect_to_associate : No mlre clients waiting\n",
      "deque([])\n",
      "check_in : in : New client John joined the queue\n",
      "deque(['John'])\n",
      "check_in : in : New client Sam joined the queue\n",
      "deque(['John', 'Sam'])\n",
      "connect_to_associate : out : Remove client John, connecting to associate Emily\n",
      "deque(['Sam'])\n",
      "check_in : in : New client Danny joined the queue\n",
      "deque(['Sam', 'Danny'])\n",
      "connect_to_associate : out : Remove client Sam, connecting to associate Zoe\n",
      "connect_to_associate : out : Remove client Danny, connecting to associate Jack\n",
      "connect_to_associate : No mlre clients waiting\n",
      "deque([])\n",
      "check_in : in : New client John joined the queue\n",
      "deque(['John'])\n",
      "check_in : in : New client Sam joined the queue\n",
      "deque(['John', 'Sam'])\n",
      "connect_to_associate : out : Remove client John, connecting to associate Emily\n",
      "deque(['Sam'])\n",
      "check_in : in : New client Danny joined the queue\n",
      "deque(['Sam', 'Danny'])\n",
      "connect_to_associate : out : Remove client Sam, connecting to associate Zoe\n",
      "connect_to_associate : out : Remove client Danny, connecting to associate Jack\n",
      "connect_to_associate : No mlre clients waiting\n",
      "deque([])\n",
      "check_in : in : New client John joined the queue\n",
      "deque(['John'])\n",
      "check_in : in : New client Sam joined the queue\n",
      "deque(['John', 'Sam'])\n",
      "connect_to_associate : out : Remove client John, connecting to associate Emily\n",
      "deque(['Sam'])\n",
      "check_in : in : New client Danny joined the queue\n",
      "deque(['Sam', 'Danny'])\n",
      "connect_to_associate : out : Remove client Sam, connecting to associate Zoe\n",
      "connect_to_associate : out : Remove client Danny, connecting to associate Jack\n",
      "connect_to_associate : No mlre clients waiting\n",
      "deque([])\n",
      "check_in : in : New client John joined the queue\n",
      "deque(['John'])\n",
      "check_in : in : New client Sam joined the queue\n",
      "deque(['John', 'Sam'])\n",
      "connect_to_associate : out : Remove client John, connecting to associate Emily\n",
      "deque(['Sam'])\n",
      "check_in : in : New client Danny joined the queue\n",
      "deque(['Sam', 'Danny'])\n",
      "connect_to_associate : out : Remove client Sam, connecting to associate Zoe\n",
      "connect_to_associate : out : Remove client Danny, connecting to associate Jack\n",
      "connect_to_associate : No mlre clients waiting\n",
      "deque([])\n",
      "check_in : in : New client John joined the queue\n",
      "deque(['John'])\n",
      "check_in : in : New client Sam joined the queue\n",
      "deque(['John', 'Sam'])\n",
      "connect_to_associate : out : Remove client John, connecting to associate Emily\n",
      "deque(['Sam'])\n",
      "check_in : in : New client Danny joined the queue\n",
      "deque(['Sam', 'Danny'])\n",
      "connect_to_associate : out : Remove client Sam, connecting to associate Zoe\n",
      "connect_to_associate : out : Remove client Danny, connecting to associate Jack\n",
      "connect_to_associate : No mlre clients waiting\n",
      "deque([])\n",
      "check_in : in : New client John joined the queue\n",
      "deque(['John'])\n",
      "check_in : in : New client Sam joined the queue\n",
      "deque(['John', 'Sam'])\n",
      "connect_to_associate : out : Remove client John, connecting to associate Emily\n",
      "deque(['Sam'])\n",
      "check_in : in : New client Danny joined the queue\n",
      "deque(['Sam', 'Danny'])\n",
      "connect_to_associate : out : Remove client Sam, connecting to associate Zoe\n",
      "connect_to_associate : out : Remove client Danny, connecting to associate Jack\n",
      "connect_to_associate : No mlre clients waiting\n",
      "deque([])\n",
      "check_in : in : New client John joined the queue\n",
      "deque(['John'])\n",
      "check_in : in : New client Sam joined the queue\n",
      "deque(['John', 'Sam'])\n",
      "connect_to_associate : out : Remove client John, connecting to associate Emily\n",
      "deque(['Sam'])\n",
      "check_in : in : New client Danny joined the queue\n",
      "deque(['Sam', 'Danny'])\n",
      "connect_to_associate : out : Remove client Sam, connecting to associate Zoe\n",
      "connect_to_associate : out : Remove client Danny, connecting to associate Jack\n",
      "connect_to_associate : No mlre clients waiting\n",
      "deque([])\n",
      "check_in : in : New client John joined the queue\n",
      "deque(['John'])\n",
      "check_in : in : New client Sam joined the queue\n",
      "deque(['John', 'Sam'])\n",
      "connect_to_associate : out : Remove client John, connecting to associate Emily\n",
      "deque(['Sam'])\n",
      "check_in : in : New client Danny joined the queue\n",
      "deque(['Sam', 'Danny'])\n",
      "connect_to_associate : out : Remove client Sam, connecting to associate Zoe\n",
      "connect_to_associate : out : Remove client Danny, connecting to associate Jack\n",
      "connect_to_associate : No mlre clients waiting\n",
      "deque([])\n",
      "check_in : in : New client John joined the queue\n",
      "deque(['John'])\n",
      "check_in : in : New client Sam joined the queue\n",
      "deque(['John', 'Sam'])\n",
      "connect_to_associate : out : Remove client John, connecting to associate Emily\n",
      "deque(['Sam'])\n",
      "check_in : in : New client Danny joined the queue\n",
      "deque(['Sam', 'Danny'])\n",
      "connect_to_associate : out : Remove client Sam, connecting to associate Zoe\n",
      "connect_to_associate : out : Remove client Danny, connecting to associate Jack\n",
      "connect_to_associate : No mlre clients waiting\n",
      "deque([])\n",
      "check_in : in : New client John joined the queue\n",
      "deque(['John'])\n",
      "check_in : in : New client Sam joined the queue\n",
      "deque(['John', 'Sam'])\n",
      "connect_to_associate : out : Remove client John, connecting to associate Emily\n",
      "deque(['Sam'])\n",
      "check_in : in : New client Danny joined the queue\n",
      "deque(['Sam', 'Danny'])\n",
      "connect_to_associate : out : Remove client Sam, connecting to associate Zoe\n",
      "connect_to_associate : out : Remove client Danny, connecting to associate Jack\n",
      "connect_to_associate : No mlre clients waiting\n",
      "deque([])\n",
      "check_in : in : New client John joined the queue\n",
      "deque(['John'])\n",
      "check_in : in : New client Sam joined the queue\n",
      "deque(['John', 'Sam'])\n",
      "connect_to_associate : out : Remove client John, connecting to associate Emily\n",
      "deque(['Sam'])\n",
      "check_in : in : New client Danny joined the queue\n",
      "deque(['Sam', 'Danny'])\n",
      "connect_to_associate : out : Remove client Sam, connecting to associate Zoe\n",
      "connect_to_associate : out : Remove client Danny, connecting to associate Jack\n",
      "connect_to_associate : No mlre clients waiting\n",
      "deque([])\n",
      "check_in : in : New client John joined the queue\n",
      "deque(['John'])\n",
      "check_in : in : New client Sam joined the queue\n",
      "deque(['John', 'Sam'])\n",
      "connect_to_associate : out : Remove client John, connecting to associate Emily\n",
      "deque(['Sam'])\n",
      "check_in : in : New client Danny joined the queue\n",
      "deque(['Sam', 'Danny'])\n",
      "connect_to_associate : out : Remove client Sam, connecting to associate Zoe\n",
      "connect_to_associate : out : Remove client Danny, connecting to associate Jack\n",
      "connect_to_associate : No mlre clients waiting\n",
      "deque([])\n",
      "check_in : in : New client John joined the queue\n",
      "deque(['John'])\n",
      "check_in : in : New client Sam joined the queue\n",
      "deque(['John', 'Sam'])\n",
      "connect_to_associate : out : Remove client John, connecting to associate Emily\n",
      "deque(['Sam'])\n",
      "check_in : in : New client Danny joined the queue\n",
      "deque(['Sam', 'Danny'])\n",
      "connect_to_associate : out : Remove client Sam, connecting to associate Zoe\n"
     ]
    },
    {
     "name": "stdout",
     "output_type": "stream",
     "text": [
      "connect_to_associate : out : Remove client Danny, connecting to associate Jack\n",
      "connect_to_associate : No mlre clients waiting\n",
      "deque([])\n",
      "check_in : in : New client John joined the queue\n",
      "deque(['John'])\n",
      "check_in : in : New client Sam joined the queue\n",
      "deque(['John', 'Sam'])\n",
      "connect_to_associate : out : Remove client John, connecting to associate Emily\n",
      "deque(['Sam'])\n",
      "check_in : in : New client Danny joined the queue\n",
      "deque(['Sam', 'Danny'])\n",
      "connect_to_associate : out : Remove client Sam, connecting to associate Zoe\n",
      "connect_to_associate : out : Remove client Danny, connecting to associate Jack\n",
      "connect_to_associate : No mlre clients waiting\n",
      "deque([])\n",
      "check_in : in : New client John joined the queue\n",
      "deque(['John'])\n",
      "check_in : in : New client Sam joined the queue\n",
      "deque(['John', 'Sam'])\n",
      "connect_to_associate : out : Remove client John, connecting to associate Emily\n",
      "deque(['Sam'])\n",
      "check_in : in : New client Danny joined the queue\n",
      "deque(['Sam', 'Danny'])\n",
      "connect_to_associate : out : Remove client Sam, connecting to associate Zoe\n",
      "connect_to_associate : out : Remove client Danny, connecting to associate Jack\n",
      "connect_to_associate : No mlre clients waiting\n",
      "deque([])\n",
      "check_in : in : New client John joined the queue\n",
      "deque(['John'])\n",
      "check_in : in : New client Sam joined the queue\n",
      "deque(['John', 'Sam'])\n",
      "connect_to_associate : out : Remove client John, connecting to associate Emily\n",
      "deque(['Sam'])\n",
      "check_in : in : New client Danny joined the queue\n",
      "deque(['Sam', 'Danny'])\n",
      "connect_to_associate : out : Remove client Sam, connecting to associate Zoe\n",
      "connect_to_associate : out : Remove client Danny, connecting to associate Jack\n",
      "connect_to_associate : No mlre clients waiting\n",
      "deque([])\n",
      "check_in : in : New client John joined the queue\n",
      "deque(['John'])\n",
      "check_in : in : New client Sam joined the queue\n",
      "deque(['John', 'Sam'])\n",
      "connect_to_associate : out : Remove client John, connecting to associate Emily\n",
      "deque(['Sam'])\n",
      "check_in : in : New client Danny joined the queue\n",
      "deque(['Sam', 'Danny'])\n",
      "connect_to_associate : out : Remove client Sam, connecting to associate Zoe\n",
      "connect_to_associate : out : Remove client Danny, connecting to associate Jack\n",
      "connect_to_associate : No mlre clients waiting\n",
      "deque([])\n",
      "check_in : in : New client John joined the queue\n",
      "deque(['John'])\n",
      "check_in : in : New client Sam joined the queue\n",
      "deque(['John', 'Sam'])\n",
      "connect_to_associate : out : Remove client John, connecting to associate Emily\n",
      "deque(['Sam'])\n",
      "check_in : in : New client Danny joined the queue\n",
      "deque(['Sam', 'Danny'])\n",
      "connect_to_associate : out : Remove client Sam, connecting to associate Zoe\n",
      "connect_to_associate : out : Remove client Danny, connecting to associate Jack\n",
      "connect_to_associate : No mlre clients waiting\n",
      "deque([])\n",
      "check_in : in : New client John joined the queue\n",
      "deque(['John'])\n",
      "check_in : in : New client Sam joined the queue\n",
      "deque(['John', 'Sam'])\n",
      "connect_to_associate : out : Remove client John, connecting to associate Emily\n",
      "deque(['Sam'])\n",
      "check_in : in : New client Danny joined the queue\n",
      "deque(['Sam', 'Danny'])\n",
      "connect_to_associate : out : Remove client Sam, connecting to associate Zoe\n",
      "connect_to_associate : out : Remove client Danny, connecting to associate Jack\n",
      "connect_to_associate : No mlre clients waiting\n",
      "deque([])\n",
      "check_in : in : New client John joined the queue\n",
      "deque(['John'])\n",
      "check_in : in : New client Sam joined the queue\n",
      "deque(['John', 'Sam'])\n",
      "connect_to_associate : out : Remove client John, connecting to associate Emily\n",
      "deque(['Sam'])\n",
      "check_in : in : New client Danny joined the queue\n",
      "deque(['Sam', 'Danny'])\n",
      "connect_to_associate : out : Remove client Sam, connecting to associate Zoe\n",
      "connect_to_associate : out : Remove client Danny, connecting to associate Jack\n",
      "connect_to_associate : No mlre clients waiting\n",
      "deque([])\n",
      "check_in : in : New client John joined the queue\n",
      "deque(['John'])\n",
      "check_in : in : New client Sam joined the queue\n",
      "deque(['John', 'Sam'])\n",
      "connect_to_associate : out : Remove client John, connecting to associate Emily\n",
      "deque(['Sam'])\n",
      "check_in : in : New client Danny joined the queue\n",
      "deque(['Sam', 'Danny'])\n",
      "connect_to_associate : out : Remove client Sam, connecting to associate Zoe\n",
      "connect_to_associate : out : Remove client Danny, connecting to associate Jack\n",
      "connect_to_associate : No mlre clients waiting\n",
      "deque([])\n",
      "check_in : in : New client John joined the queue\n",
      "deque(['John'])\n",
      "check_in : in : New client Sam joined the queue\n",
      "deque(['John', 'Sam'])\n",
      "connect_to_associate : out : Remove client John, connecting to associate Emily\n",
      "deque(['Sam'])\n",
      "check_in : in : New client Danny joined the queue\n",
      "deque(['Sam', 'Danny'])\n",
      "connect_to_associate : out : Remove client Sam, connecting to associate Zoe\n",
      "connect_to_associate : out : Remove client Danny, connecting to associate Jack\n",
      "connect_to_associate : No mlre clients waiting\n",
      "deque([])\n",
      "check_in : in : New client John joined the queue\n",
      "deque(['John'])\n",
      "check_in : in : New client Sam joined the queue\n",
      "deque(['John', 'Sam'])\n",
      "connect_to_associate : out : Remove client John, connecting to associate Emily\n",
      "deque(['Sam'])\n",
      "check_in : in : New client Danny joined the queue\n",
      "deque(['Sam', 'Danny'])\n",
      "connect_to_associate : out : Remove client Sam, connecting to associate Zoe\n",
      "connect_to_associate : out : Remove client Danny, connecting to associate Jack\n",
      "connect_to_associate : No mlre clients waiting\n",
      "deque([])\n",
      "check_in : in : New client John joined the queue\n",
      "deque(['John'])\n",
      "check_in : in : New client Sam joined the queue\n",
      "deque(['John', 'Sam'])\n",
      "connect_to_associate : out : Remove client John, connecting to associate Emily\n",
      "deque(['Sam'])\n",
      "check_in : in : New client Danny joined the queue\n",
      "deque(['Sam', 'Danny'])\n",
      "connect_to_associate : out : Remove client Sam, connecting to associate Zoe\n",
      "connect_to_associate : out : Remove client Danny, connecting to associate Jack\n",
      "connect_to_associate : No mlre clients waiting\n",
      "deque([])\n",
      "check_in : in : New client John joined the queue\n",
      "deque(['John'])\n",
      "check_in : in : New client Sam joined the queue\n",
      "deque(['John', 'Sam'])\n",
      "connect_to_associate : out : Remove client John, connecting to associate Emily\n",
      "deque(['Sam'])\n",
      "check_in : in : New client Danny joined the queue\n",
      "deque(['Sam', 'Danny'])\n",
      "connect_to_associate : out : Remove client Sam, connecting to associate Zoe\n",
      "connect_to_associate : out : Remove client Danny, connecting to associate Jack\n",
      "connect_to_associate : No mlre clients waiting\n",
      "deque([])\n",
      "check_in : in : New client John joined the queue\n",
      "deque(['John'])\n",
      "check_in : in : New client Sam joined the queue\n",
      "deque(['John', 'Sam'])\n",
      "connect_to_associate : out : Remove client John, connecting to associate Emily\n",
      "deque(['Sam'])\n",
      "check_in : in : New client Danny joined the queue\n",
      "deque(['Sam', 'Danny'])\n",
      "connect_to_associate : out : Remove client Sam, connecting to associate Zoe\n",
      "connect_to_associate : out : Remove client Danny, connecting to associate Jack\n",
      "connect_to_associate : No mlre clients waiting\n",
      "deque([])\n",
      "check_in : in : New client John joined the queue\n",
      "deque(['John'])\n",
      "check_in : in : New client Sam joined the queue\n",
      "deque(['John', 'Sam'])\n",
      "connect_to_associate : out : Remove client John, connecting to associate Emily\n",
      "deque(['Sam'])\n",
      "check_in : in : New client Danny joined the queue\n",
      "deque(['Sam', 'Danny'])\n",
      "connect_to_associate : out : Remove client Sam, connecting to associate Zoe\n",
      "connect_to_associate : out : Remove client Danny, connecting to associate Jack\n",
      "connect_to_associate : No mlre clients waiting\n",
      "deque([])\n",
      "check_in : in : New client John joined the queue\n",
      "deque(['John'])\n",
      "check_in : in : New client Sam joined the queue\n",
      "deque(['John', 'Sam'])\n",
      "connect_to_associate : out : Remove client John, connecting to associate Emily\n",
      "deque(['Sam'])\n",
      "check_in : in : New client Danny joined the queue\n",
      "deque(['Sam', 'Danny'])\n",
      "connect_to_associate : out : Remove client Sam, connecting to associate Zoe\n",
      "connect_to_associate : out : Remove client Danny, connecting to associate Jack\n",
      "connect_to_associate : No mlre clients waiting\n",
      "deque([])\n",
      "check_in : in : New client John joined the queue\n",
      "deque(['John'])\n",
      "check_in : in : New client Sam joined the queue\n",
      "deque(['John', 'Sam'])\n",
      "connect_to_associate : out : Remove client John, connecting to associate Emily\n",
      "deque(['Sam'])\n",
      "check_in : in : New client Danny joined the queue\n",
      "deque(['Sam', 'Danny'])\n",
      "connect_to_associate : out : Remove client Sam, connecting to associate Zoe\n"
     ]
    },
    {
     "name": "stdout",
     "output_type": "stream",
     "text": [
      "connect_to_associate : out : Remove client Danny, connecting to associate Jack\n",
      "connect_to_associate : No mlre clients waiting\n",
      "deque([])\n",
      "check_in : in : New client John joined the queue\n",
      "deque(['John'])\n",
      "check_in : in : New client Sam joined the queue\n",
      "deque(['John', 'Sam'])\n",
      "connect_to_associate : out : Remove client John, connecting to associate Emily\n",
      "deque(['Sam'])\n",
      "check_in : in : New client Danny joined the queue\n",
      "deque(['Sam', 'Danny'])\n",
      "connect_to_associate : out : Remove client Sam, connecting to associate Zoe\n",
      "connect_to_associate : out : Remove client Danny, connecting to associate Jack\n",
      "connect_to_associate : No mlre clients waiting\n",
      "deque([])\n",
      "check_in : in : New client John joined the queue\n",
      "deque(['John'])\n",
      "check_in : in : New client Sam joined the queue\n",
      "deque(['John', 'Sam'])\n",
      "connect_to_associate : out : Remove client John, connecting to associate Emily\n",
      "deque(['Sam'])\n",
      "check_in : in : New client Danny joined the queue\n",
      "deque(['Sam', 'Danny'])\n",
      "connect_to_associate : out : Remove client Sam, connecting to associate Zoe\n",
      "connect_to_associate : out : Remove client Danny, connecting to associate Jack\n",
      "connect_to_associate : No mlre clients waiting\n",
      "deque([])\n",
      "check_in : in : New client John joined the queue\n",
      "deque(['John'])\n",
      "check_in : in : New client Sam joined the queue\n",
      "deque(['John', 'Sam'])\n",
      "connect_to_associate : out : Remove client John, connecting to associate Emily\n",
      "deque(['Sam'])\n",
      "check_in : in : New client Danny joined the queue\n",
      "deque(['Sam', 'Danny'])\n",
      "connect_to_associate : out : Remove client Sam, connecting to associate Zoe\n",
      "connect_to_associate : out : Remove client Danny, connecting to associate Jack\n",
      "connect_to_associate : No mlre clients waiting\n",
      "deque([])\n",
      "check_in : in : New client John joined the queue\n",
      "deque(['John'])\n",
      "check_in : in : New client Sam joined the queue\n",
      "deque(['John', 'Sam'])\n",
      "connect_to_associate : out : Remove client John, connecting to associate Emily\n",
      "deque(['Sam'])\n",
      "check_in : in : New client Danny joined the queue\n",
      "deque(['Sam', 'Danny'])\n",
      "connect_to_associate : out : Remove client Sam, connecting to associate Zoe\n",
      "connect_to_associate : out : Remove client Danny, connecting to associate Jack\n",
      "connect_to_associate : No mlre clients waiting\n",
      "deque([])\n",
      "check_in : in : New client John joined the queue\n",
      "deque(['John'])\n",
      "check_in : in : New client Sam joined the queue\n",
      "deque(['John', 'Sam'])\n",
      "connect_to_associate : out : Remove client John, connecting to associate Emily\n",
      "deque(['Sam'])\n",
      "check_in : in : New client Danny joined the queue\n",
      "deque(['Sam', 'Danny'])\n",
      "connect_to_associate : out : Remove client Sam, connecting to associate Zoe\n",
      "connect_to_associate : out : Remove client Danny, connecting to associate Jack\n",
      "connect_to_associate : No mlre clients waiting\n",
      "deque([])\n",
      "check_in : in : New client John joined the queue\n",
      "deque(['John'])\n",
      "check_in : in : New client Sam joined the queue\n",
      "deque(['John', 'Sam'])\n",
      "connect_to_associate : out : Remove client John, connecting to associate Emily\n",
      "deque(['Sam'])\n",
      "check_in : in : New client Danny joined the queue\n",
      "deque(['Sam', 'Danny'])\n",
      "connect_to_associate : out : Remove client Sam, connecting to associate Zoe\n",
      "connect_to_associate : out : Remove client Danny, connecting to associate Jack\n",
      "connect_to_associate : No mlre clients waiting\n",
      "deque([])\n",
      "check_in : in : New client John joined the queue\n",
      "deque(['John'])\n",
      "check_in : in : New client Sam joined the queue\n",
      "deque(['John', 'Sam'])\n",
      "connect_to_associate : out : Remove client John, connecting to associate Emily\n",
      "deque(['Sam'])\n",
      "check_in : in : New client Danny joined the queue\n",
      "deque(['Sam', 'Danny'])\n",
      "connect_to_associate : out : Remove client Sam, connecting to associate Zoe\n",
      "connect_to_associate : out : Remove client Danny, connecting to associate Jack\n",
      "connect_to_associate : No mlre clients waiting\n",
      "deque([])\n",
      "check_in : in : New client John joined the queue\n",
      "deque(['John'])\n",
      "check_in : in : New client Sam joined the queue\n",
      "deque(['John', 'Sam'])\n",
      "connect_to_associate : out : Remove client John, connecting to associate Emily\n",
      "deque(['Sam'])\n",
      "check_in : in : New client Danny joined the queue\n",
      "deque(['Sam', 'Danny'])\n",
      "connect_to_associate : out : Remove client Sam, connecting to associate Zoe\n",
      "connect_to_associate : out : Remove client Danny, connecting to associate Jack\n",
      "connect_to_associate : No mlre clients waiting\n",
      "deque([])\n",
      "check_in : in : New client John joined the queue\n",
      "deque(['John'])\n",
      "check_in : in : New client Sam joined the queue\n",
      "deque(['John', 'Sam'])\n",
      "connect_to_associate : out : Remove client John, connecting to associate Emily\n",
      "deque(['Sam'])\n",
      "check_in : in : New client Danny joined the queue\n",
      "deque(['Sam', 'Danny'])\n",
      "connect_to_associate : out : Remove client Sam, connecting to associate Zoe\n",
      "connect_to_associate : out : Remove client Danny, connecting to associate Jack\n",
      "connect_to_associate : No mlre clients waiting\n",
      "deque([])\n",
      "check_in : in : New client John joined the queue\n",
      "deque(['John'])\n",
      "check_in : in : New client Sam joined the queue\n",
      "deque(['John', 'Sam'])\n",
      "connect_to_associate : out : Remove client John, connecting to associate Emily\n",
      "deque(['Sam'])\n",
      "check_in : in : New client Danny joined the queue\n",
      "deque(['Sam', 'Danny'])\n",
      "connect_to_associate : out : Remove client Sam, connecting to associate Zoe\n",
      "connect_to_associate : out : Remove client Danny, connecting to associate Jack\n",
      "connect_to_associate : No mlre clients waiting\n",
      "deque([])\n",
      "check_in : in : New client John joined the queue\n",
      "deque(['John'])\n",
      "check_in : in : New client Sam joined the queue\n",
      "deque(['John', 'Sam'])\n",
      "connect_to_associate : out : Remove client John, connecting to associate Emily\n",
      "deque(['Sam'])\n",
      "check_in : in : New client Danny joined the queue\n",
      "deque(['Sam', 'Danny'])\n",
      "connect_to_associate : out : Remove client Sam, connecting to associate Zoe\n",
      "connect_to_associate : out : Remove client Danny, connecting to associate Jack\n",
      "connect_to_associate : No mlre clients waiting\n",
      "deque([])\n",
      "check_in : in : New client John joined the queue\n",
      "deque(['John'])\n",
      "check_in : in : New client Sam joined the queue\n",
      "deque(['John', 'Sam'])\n",
      "connect_to_associate : out : Remove client John, connecting to associate Emily\n",
      "deque(['Sam'])\n",
      "check_in : in : New client Danny joined the queue\n",
      "deque(['Sam', 'Danny'])\n",
      "connect_to_associate : out : Remove client Sam, connecting to associate Zoe\n",
      "connect_to_associate : out : Remove client Danny, connecting to associate Jack\n",
      "connect_to_associate : No mlre clients waiting\n",
      "deque([])\n",
      "check_in : in : New client John joined the queue\n",
      "deque(['John'])\n",
      "check_in : in : New client Sam joined the queue\n",
      "deque(['John', 'Sam'])\n",
      "connect_to_associate : out : Remove client John, connecting to associate Emily\n",
      "deque(['Sam'])\n",
      "check_in : in : New client Danny joined the queue\n",
      "deque(['Sam', 'Danny'])\n",
      "connect_to_associate : out : Remove client Sam, connecting to associate Zoe\n",
      "connect_to_associate : out : Remove client Danny, connecting to associate Jack\n",
      "connect_to_associate : No mlre clients waiting\n",
      "deque([])\n",
      "check_in : in : New client John joined the queue\n",
      "deque(['John'])\n",
      "check_in : in : New client Sam joined the queue\n",
      "deque(['John', 'Sam'])\n",
      "connect_to_associate : out : Remove client John, connecting to associate Emily\n",
      "deque(['Sam'])\n",
      "check_in : in : New client Danny joined the queue\n",
      "deque(['Sam', 'Danny'])\n",
      "connect_to_associate : out : Remove client Sam, connecting to associate Zoe\n",
      "connect_to_associate : out : Remove client Danny, connecting to associate Jack\n",
      "connect_to_associate : No mlre clients waiting\n",
      "deque([])\n",
      "check_in : in : New client John joined the queue\n",
      "deque(['John'])\n",
      "check_in : in : New client Sam joined the queue\n",
      "deque(['John', 'Sam'])\n",
      "connect_to_associate : out : Remove client John, connecting to associate Emily\n",
      "deque(['Sam'])\n",
      "check_in : in : New client Danny joined the queue\n",
      "deque(['Sam', 'Danny'])\n",
      "connect_to_associate : out : Remove client Sam, connecting to associate Zoe\n",
      "connect_to_associate : out : Remove client Danny, connecting to associate Jack\n",
      "connect_to_associate : No mlre clients waiting\n",
      "deque([])\n",
      "check_in : in : New client John joined the queue\n",
      "deque(['John'])\n",
      "check_in : in : New client Sam joined the queue\n",
      "deque(['John', 'Sam'])\n",
      "connect_to_associate : out : Remove client John, connecting to associate Emily\n",
      "deque(['Sam'])\n",
      "check_in : in : New client Danny joined the queue\n",
      "deque(['Sam', 'Danny'])\n",
      "connect_to_associate : out : Remove client Sam, connecting to associate Zoe\n",
      "connect_to_associate : out : Remove client Danny, connecting to associate Jack\n",
      "connect_to_associate : No mlre clients waiting\n",
      "deque([])\n",
      "check_in : in : New client John joined the queue\n",
      "deque(['John'])\n",
      "check_in : in : New client Sam joined the queue\n",
      "deque(['John', 'Sam'])\n",
      "connect_to_associate : out : Remove client John, connecting to associate Emily\n",
      "deque(['Sam'])\n"
     ]
    },
    {
     "name": "stdout",
     "output_type": "stream",
     "text": [
      "check_in : in : New client Danny joined the queue\n",
      "deque(['Sam', 'Danny'])\n",
      "connect_to_associate : out : Remove client Sam, connecting to associate Zoe\n",
      "connect_to_associate : out : Remove client Danny, connecting to associate Jack\n",
      "connect_to_associate : No mlre clients waiting\n",
      "deque([])\n",
      "check_in : in : New client John joined the queue\n",
      "deque(['John'])\n",
      "check_in : in : New client Sam joined the queue\n",
      "deque(['John', 'Sam'])\n",
      "connect_to_associate : out : Remove client John, connecting to associate Emily\n",
      "deque(['Sam'])\n",
      "check_in : in : New client Danny joined the queue\n",
      "deque(['Sam', 'Danny'])\n",
      "connect_to_associate : out : Remove client Sam, connecting to associate Zoe\n",
      "connect_to_associate : out : Remove client Danny, connecting to associate Jack\n",
      "connect_to_associate : No mlre clients waiting\n",
      "deque([])\n",
      "check_in : in : New client John joined the queue\n",
      "deque(['John'])\n",
      "check_in : in : New client Sam joined the queue\n",
      "deque(['John', 'Sam'])\n",
      "connect_to_associate : out : Remove client John, connecting to associate Emily\n",
      "deque(['Sam'])\n",
      "check_in : in : New client Danny joined the queue\n",
      "deque(['Sam', 'Danny'])\n",
      "connect_to_associate : out : Remove client Sam, connecting to associate Zoe\n",
      "connect_to_associate : out : Remove client Danny, connecting to associate Jack\n",
      "connect_to_associate : No mlre clients waiting\n",
      "deque([])\n",
      "check_in : in : New client John joined the queue\n",
      "deque(['John'])\n",
      "check_in : in : New client Sam joined the queue\n",
      "deque(['John', 'Sam'])\n",
      "connect_to_associate : out : Remove client John, connecting to associate Emily\n",
      "deque(['Sam'])\n",
      "check_in : in : New client Danny joined the queue\n",
      "deque(['Sam', 'Danny'])\n",
      "connect_to_associate : out : Remove client Sam, connecting to associate Zoe\n",
      "connect_to_associate : out : Remove client Danny, connecting to associate Jack\n",
      "connect_to_associate : No mlre clients waiting\n",
      "deque([])\n",
      "check_in : in : New client John joined the queue\n",
      "deque(['John'])\n",
      "check_in : in : New client Sam joined the queue\n",
      "deque(['John', 'Sam'])\n",
      "connect_to_associate : out : Remove client John, connecting to associate Emily\n",
      "deque(['Sam'])\n",
      "check_in : in : New client Danny joined the queue\n",
      "deque(['Sam', 'Danny'])\n",
      "connect_to_associate : out : Remove client Sam, connecting to associate Zoe\n",
      "connect_to_associate : out : Remove client Danny, connecting to associate Jack\n",
      "connect_to_associate : No mlre clients waiting\n",
      "deque([])\n",
      "check_in : in : New client John joined the queue\n",
      "deque(['John'])\n",
      "check_in : in : New client Sam joined the queue\n",
      "deque(['John', 'Sam'])\n",
      "connect_to_associate : out : Remove client John, connecting to associate Emily\n",
      "deque(['Sam'])\n",
      "check_in : in : New client Danny joined the queue\n",
      "deque(['Sam', 'Danny'])\n",
      "connect_to_associate : out : Remove client Sam, connecting to associate Zoe\n",
      "connect_to_associate : out : Remove client Danny, connecting to associate Jack\n",
      "connect_to_associate : No mlre clients waiting\n",
      "deque([])\n",
      "check_in : in : New client John joined the queue\n",
      "deque(['John'])\n",
      "check_in : in : New client Sam joined the queue\n",
      "deque(['John', 'Sam'])\n",
      "connect_to_associate : out : Remove client John, connecting to associate Emily\n",
      "deque(['Sam'])\n",
      "check_in : in : New client Danny joined the queue\n",
      "deque(['Sam', 'Danny'])\n",
      "connect_to_associate : out : Remove client Sam, connecting to associate Zoe\n",
      "connect_to_associate : out : Remove client Danny, connecting to associate Jack\n",
      "connect_to_associate : No mlre clients waiting\n",
      "deque([])\n",
      "check_in : in : New client John joined the queue\n",
      "deque(['John'])\n",
      "check_in : in : New client Sam joined the queue\n",
      "deque(['John', 'Sam'])\n",
      "connect_to_associate : out : Remove client John, connecting to associate Emily\n",
      "deque(['Sam'])\n",
      "check_in : in : New client Danny joined the queue\n",
      "deque(['Sam', 'Danny'])\n",
      "connect_to_associate : out : Remove client Sam, connecting to associate Zoe\n",
      "connect_to_associate : out : Remove client Danny, connecting to associate Jack\n",
      "connect_to_associate : No mlre clients waiting\n",
      "deque([])\n",
      "check_in : in : New client John joined the queue\n",
      "deque(['John'])\n",
      "check_in : in : New client Sam joined the queue\n",
      "deque(['John', 'Sam'])\n",
      "connect_to_associate : out : Remove client John, connecting to associate Emily\n",
      "deque(['Sam'])\n",
      "check_in : in : New client Danny joined the queue\n",
      "deque(['Sam', 'Danny'])\n",
      "connect_to_associate : out : Remove client Sam, connecting to associate Zoe\n",
      "connect_to_associate : out : Remove client Danny, connecting to associate Jack\n",
      "connect_to_associate : No mlre clients waiting\n",
      "deque([])\n",
      "check_in : in : New client John joined the queue\n",
      "deque(['John'])\n",
      "check_in : in : New client Sam joined the queue\n",
      "deque(['John', 'Sam'])\n",
      "connect_to_associate : out : Remove client John, connecting to associate Emily\n",
      "deque(['Sam'])\n",
      "check_in : in : New client Danny joined the queue\n",
      "deque(['Sam', 'Danny'])\n",
      "connect_to_associate : out : Remove client Sam, connecting to associate Zoe\n",
      "connect_to_associate : out : Remove client Danny, connecting to associate Jack\n",
      "connect_to_associate : No mlre clients waiting\n",
      "deque([])\n",
      "check_in : in : New client John joined the queue\n",
      "deque(['John'])\n",
      "check_in : in : New client Sam joined the queue\n",
      "deque(['John', 'Sam'])\n",
      "connect_to_associate : out : Remove client John, connecting to associate Emily\n",
      "deque(['Sam'])\n",
      "check_in : in : New client Danny joined the queue\n",
      "deque(['Sam', 'Danny'])\n",
      "connect_to_associate : out : Remove client Sam, connecting to associate Zoe\n",
      "connect_to_associate : out : Remove client Danny, connecting to associate Jack\n",
      "connect_to_associate : No mlre clients waiting\n",
      "deque([])\n",
      "check_in : in : New client John joined the queue\n",
      "deque(['John'])\n",
      "check_in : in : New client Sam joined the queue\n",
      "deque(['John', 'Sam'])\n",
      "connect_to_associate : out : Remove client John, connecting to associate Emily\n",
      "deque(['Sam'])\n",
      "check_in : in : New client Danny joined the queue\n",
      "deque(['Sam', 'Danny'])\n",
      "connect_to_associate : out : Remove client Sam, connecting to associate Zoe\n",
      "connect_to_associate : out : Remove client Danny, connecting to associate Jack\n",
      "connect_to_associate : No mlre clients waiting\n",
      "deque([])\n",
      "check_in : in : New client John joined the queue\n",
      "deque(['John'])\n",
      "check_in : in : New client Sam joined the queue\n",
      "deque(['John', 'Sam'])\n",
      "connect_to_associate : out : Remove client John, connecting to associate Emily\n",
      "deque(['Sam'])\n",
      "check_in : in : New client Danny joined the queue\n",
      "deque(['Sam', 'Danny'])\n",
      "connect_to_associate : out : Remove client Sam, connecting to associate Zoe\n",
      "connect_to_associate : out : Remove client Danny, connecting to associate Jack\n",
      "connect_to_associate : No mlre clients waiting\n",
      "deque([])\n",
      "check_in : in : New client John joined the queue\n",
      "deque(['John'])\n",
      "check_in : in : New client Sam joined the queue\n",
      "deque(['John', 'Sam'])\n",
      "connect_to_associate : out : Remove client John, connecting to associate Emily\n",
      "deque(['Sam'])\n",
      "check_in : in : New client Danny joined the queue\n",
      "deque(['Sam', 'Danny'])\n",
      "connect_to_associate : out : Remove client Sam, connecting to associate Zoe\n",
      "connect_to_associate : out : Remove client Danny, connecting to associate Jack\n",
      "connect_to_associate : No mlre clients waiting\n",
      "deque([])\n",
      "check_in : in : New client John joined the queue\n",
      "deque(['John'])\n",
      "check_in : in : New client Sam joined the queue\n",
      "deque(['John', 'Sam'])\n",
      "connect_to_associate : out : Remove client John, connecting to associate Emily\n",
      "deque(['Sam'])\n",
      "check_in : in : New client Danny joined the queue\n",
      "deque(['Sam', 'Danny'])\n",
      "connect_to_associate : out : Remove client Sam, connecting to associate Zoe\n",
      "connect_to_associate : out : Remove client Danny, connecting to associate Jack\n",
      "connect_to_associate : No mlre clients waiting\n",
      "deque([])\n",
      "check_in : in : New client John joined the queue\n",
      "deque(['John'])\n",
      "check_in : in : New client Sam joined the queue\n",
      "deque(['John', 'Sam'])\n",
      "connect_to_associate : out : Remove client John, connecting to associate Emily\n",
      "deque(['Sam'])\n",
      "check_in : in : New client Danny joined the queue\n",
      "deque(['Sam', 'Danny'])\n",
      "connect_to_associate : out : Remove client Sam, connecting to associate Zoe\n",
      "connect_to_associate : out : Remove client Danny, connecting to associate Jack\n",
      "connect_to_associate : No mlre clients waiting\n",
      "deque([])\n",
      "check_in : in : New client John joined the queue\n",
      "deque(['John'])\n",
      "check_in : in : New client Sam joined the queue\n",
      "deque(['John', 'Sam'])\n",
      "connect_to_associate : out : Remove client John, connecting to associate Emily\n",
      "deque(['Sam'])\n",
      "check_in : in : New client Danny joined the queue\n",
      "deque(['Sam', 'Danny'])\n",
      "connect_to_associate : out : Remove client Sam, connecting to associate Zoe\n",
      "connect_to_associate : out : Remove client Danny, connecting to associate Jack\n",
      "connect_to_associate : No mlre clients waiting\n",
      "deque([])\n",
      "check_in : in : New client John joined the queue\n",
      "deque(['John'])\n",
      "check_in : in : New client Sam joined the queue\n",
      "deque(['John', 'Sam'])\n",
      "connect_to_associate : out : Remove client John, connecting to associate Emily\n",
      "deque(['Sam'])\n",
      "check_in : in : New client Danny joined the queue\n",
      "deque(['Sam', 'Danny'])\n"
     ]
    },
    {
     "name": "stdout",
     "output_type": "stream",
     "text": [
      "connect_to_associate : out : Remove client Sam, connecting to associate Zoe\n",
      "connect_to_associate : out : Remove client Danny, connecting to associate Jack\n",
      "connect_to_associate : No mlre clients waiting\n",
      "deque([])\n",
      "check_in : in : New client John joined the queue\n",
      "deque(['John'])\n",
      "check_in : in : New client Sam joined the queue\n",
      "deque(['John', 'Sam'])\n",
      "connect_to_associate : out : Remove client John, connecting to associate Emily\n",
      "deque(['Sam'])\n",
      "check_in : in : New client Danny joined the queue\n",
      "deque(['Sam', 'Danny'])\n",
      "connect_to_associate : out : Remove client Sam, connecting to associate Zoe\n",
      "connect_to_associate : out : Remove client Danny, connecting to associate Jack\n",
      "connect_to_associate : No mlre clients waiting\n",
      "deque([])\n",
      "check_in : in : New client John joined the queue\n",
      "deque(['John'])\n",
      "check_in : in : New client Sam joined the queue\n",
      "deque(['John', 'Sam'])\n",
      "connect_to_associate : out : Remove client John, connecting to associate Emily\n",
      "deque(['Sam'])\n",
      "check_in : in : New client Danny joined the queue\n",
      "deque(['Sam', 'Danny'])\n",
      "connect_to_associate : out : Remove client Sam, connecting to associate Zoe\n",
      "connect_to_associate : out : Remove client Danny, connecting to associate Jack\n",
      "connect_to_associate : No mlre clients waiting\n",
      "deque([])\n",
      "check_in : in : New client John joined the queue\n",
      "deque(['John'])\n",
      "check_in : in : New client Sam joined the queue\n",
      "deque(['John', 'Sam'])\n",
      "connect_to_associate : out : Remove client John, connecting to associate Emily\n",
      "deque(['Sam'])\n",
      "check_in : in : New client Danny joined the queue\n",
      "deque(['Sam', 'Danny'])\n",
      "connect_to_associate : out : Remove client Sam, connecting to associate Zoe\n",
      "connect_to_associate : out : Remove client Danny, connecting to associate Jack\n",
      "connect_to_associate : No mlre clients waiting\n",
      "deque([])\n",
      "check_in : in : New client John joined the queue\n",
      "deque(['John'])\n",
      "check_in : in : New client Sam joined the queue\n",
      "deque(['John', 'Sam'])\n",
      "connect_to_associate : out : Remove client John, connecting to associate Emily\n",
      "deque(['Sam'])\n",
      "check_in : in : New client Danny joined the queue\n",
      "deque(['Sam', 'Danny'])\n",
      "connect_to_associate : out : Remove client Sam, connecting to associate Zoe\n",
      "connect_to_associate : out : Remove client Danny, connecting to associate Jack\n",
      "connect_to_associate : No mlre clients waiting\n",
      "deque([])\n",
      "check_in : in : New client John joined the queue\n",
      "deque(['John'])\n",
      "check_in : in : New client Sam joined the queue\n",
      "deque(['John', 'Sam'])\n",
      "connect_to_associate : out : Remove client John, connecting to associate Emily\n",
      "deque(['Sam'])\n",
      "check_in : in : New client Danny joined the queue\n",
      "deque(['Sam', 'Danny'])\n",
      "connect_to_associate : out : Remove client Sam, connecting to associate Zoe\n",
      "connect_to_associate : out : Remove client Danny, connecting to associate Jack\n",
      "connect_to_associate : No mlre clients waiting\n",
      "deque([])\n",
      "check_in : in : New client John joined the queue\n",
      "deque(['John'])\n",
      "check_in : in : New client Sam joined the queue\n",
      "deque(['John', 'Sam'])\n",
      "connect_to_associate : out : Remove client John, connecting to associate Emily\n",
      "deque(['Sam'])\n",
      "check_in : in : New client Danny joined the queue\n",
      "deque(['Sam', 'Danny'])\n",
      "connect_to_associate : out : Remove client Sam, connecting to associate Zoe\n",
      "connect_to_associate : out : Remove client Danny, connecting to associate Jack\n",
      "connect_to_associate : No mlre clients waiting\n",
      "deque([])\n",
      "check_in : in : New client John joined the queue\n",
      "deque(['John'])\n",
      "check_in : in : New client Sam joined the queue\n",
      "deque(['John', 'Sam'])\n",
      "connect_to_associate : out : Remove client John, connecting to associate Emily\n",
      "deque(['Sam'])\n",
      "check_in : in : New client Danny joined the queue\n",
      "deque(['Sam', 'Danny'])\n",
      "connect_to_associate : out : Remove client Sam, connecting to associate Zoe\n",
      "connect_to_associate : out : Remove client Danny, connecting to associate Jack\n",
      "connect_to_associate : No mlre clients waiting\n",
      "deque([])\n",
      "check_in : in : New client John joined the queue\n",
      "deque(['John'])\n",
      "check_in : in : New client Sam joined the queue\n",
      "deque(['John', 'Sam'])\n",
      "connect_to_associate : out : Remove client John, connecting to associate Emily\n",
      "deque(['Sam'])\n",
      "check_in : in : New client Danny joined the queue\n",
      "deque(['Sam', 'Danny'])\n",
      "connect_to_associate : out : Remove client Sam, connecting to associate Zoe\n",
      "connect_to_associate : out : Remove client Danny, connecting to associate Jack\n",
      "connect_to_associate : No mlre clients waiting\n",
      "deque([])\n",
      "check_in : in : New client John joined the queue\n",
      "deque(['John'])\n",
      "check_in : in : New client Sam joined the queue\n",
      "deque(['John', 'Sam'])\n",
      "connect_to_associate : out : Remove client John, connecting to associate Emily\n",
      "deque(['Sam'])\n",
      "check_in : in : New client Danny joined the queue\n",
      "deque(['Sam', 'Danny'])\n",
      "connect_to_associate : out : Remove client Sam, connecting to associate Zoe\n",
      "connect_to_associate : out : Remove client Danny, connecting to associate Jack\n",
      "connect_to_associate : No mlre clients waiting\n",
      "deque([])\n",
      "check_in : in : New client John joined the queue\n",
      "deque(['John'])\n",
      "check_in : in : New client Sam joined the queue\n",
      "deque(['John', 'Sam'])\n",
      "connect_to_associate : out : Remove client John, connecting to associate Emily\n",
      "deque(['Sam'])\n",
      "check_in : in : New client Danny joined the queue\n",
      "deque(['Sam', 'Danny'])\n",
      "connect_to_associate : out : Remove client Sam, connecting to associate Zoe\n",
      "connect_to_associate : out : Remove client Danny, connecting to associate Jack\n",
      "connect_to_associate : No mlre clients waiting\n",
      "deque([])\n",
      "check_in : in : New client John joined the queue\n",
      "deque(['John'])\n",
      "check_in : in : New client Sam joined the queue\n",
      "deque(['John', 'Sam'])\n",
      "connect_to_associate : out : Remove client John, connecting to associate Emily\n",
      "deque(['Sam'])\n",
      "check_in : in : New client Danny joined the queue\n",
      "deque(['Sam', 'Danny'])\n",
      "connect_to_associate : out : Remove client Sam, connecting to associate Zoe\n",
      "connect_to_associate : out : Remove client Danny, connecting to associate Jack\n",
      "connect_to_associate : No mlre clients waiting\n",
      "deque([])\n",
      "check_in : in : New client John joined the queue\n",
      "deque(['John'])\n",
      "check_in : in : New client Sam joined the queue\n",
      "deque(['John', 'Sam'])\n",
      "connect_to_associate : out : Remove client John, connecting to associate Emily\n",
      "deque(['Sam'])\n",
      "check_in : in : New client Danny joined the queue\n",
      "deque(['Sam', 'Danny'])\n",
      "connect_to_associate : out : Remove client Sam, connecting to associate Zoe\n",
      "connect_to_associate : out : Remove client Danny, connecting to associate Jack\n",
      "connect_to_associate : No mlre clients waiting\n",
      "deque([])\n",
      "check_in : in : New client John joined the queue\n",
      "deque(['John'])\n",
      "check_in : in : New client Sam joined the queue\n",
      "deque(['John', 'Sam'])\n",
      "connect_to_associate : out : Remove client John, connecting to associate Emily\n",
      "deque(['Sam'])\n",
      "check_in : in : New client Danny joined the queue\n",
      "deque(['Sam', 'Danny'])\n",
      "connect_to_associate : out : Remove client Sam, connecting to associate Zoe\n",
      "connect_to_associate : out : Remove client Danny, connecting to associate Jack\n",
      "connect_to_associate : No mlre clients waiting\n",
      "deque([])\n",
      "check_in : in : New client John joined the queue\n",
      "deque(['John'])\n",
      "check_in : in : New client Sam joined the queue\n",
      "deque(['John', 'Sam'])\n",
      "connect_to_associate : out : Remove client John, connecting to associate Emily\n",
      "deque(['Sam'])\n",
      "check_in : in : New client Danny joined the queue\n",
      "deque(['Sam', 'Danny'])\n",
      "connect_to_associate : out : Remove client Sam, connecting to associate Zoe\n",
      "connect_to_associate : out : Remove client Danny, connecting to associate Jack\n",
      "connect_to_associate : No mlre clients waiting\n",
      "deque([])\n",
      "check_in : in : New client John joined the queue\n",
      "deque(['John'])\n",
      "check_in : in : New client Sam joined the queue\n",
      "deque(['John', 'Sam'])\n",
      "connect_to_associate : out : Remove client John, connecting to associate Emily\n",
      "deque(['Sam'])\n",
      "check_in : in : New client Danny joined the queue\n",
      "deque(['Sam', 'Danny'])\n",
      "connect_to_associate : out : Remove client Sam, connecting to associate Zoe\n",
      "connect_to_associate : out : Remove client Danny, connecting to associate Jack\n",
      "connect_to_associate : No mlre clients waiting\n",
      "deque([])\n",
      "check_in : in : New client John joined the queue\n",
      "deque(['John'])\n",
      "check_in : in : New client Sam joined the queue\n",
      "deque(['John', 'Sam'])\n",
      "connect_to_associate : out : Remove client John, connecting to associate Emily\n",
      "deque(['Sam'])\n",
      "check_in : in : New client Danny joined the queue\n",
      "deque(['Sam', 'Danny'])\n",
      "connect_to_associate : out : Remove client Sam, connecting to associate Zoe\n",
      "connect_to_associate : out : Remove client Danny, connecting to associate Jack\n",
      "connect_to_associate : No mlre clients waiting\n",
      "deque([])\n",
      "check_in : in : New client John joined the queue\n",
      "deque(['John'])\n",
      "check_in : in : New client Sam joined the queue\n",
      "deque(['John', 'Sam'])\n",
      "connect_to_associate : out : Remove client John, connecting to associate Emily\n",
      "deque(['Sam'])\n",
      "check_in : in : New client Danny joined the queue\n",
      "deque(['Sam', 'Danny'])\n"
     ]
    },
    {
     "name": "stdout",
     "output_type": "stream",
     "text": [
      "connect_to_associate : out : Remove client Sam, connecting to associate Zoe\n",
      "connect_to_associate : out : Remove client Danny, connecting to associate Jack\n",
      "connect_to_associate : No mlre clients waiting\n",
      "deque([])\n",
      "check_in : in : New client John joined the queue\n",
      "deque(['John'])\n",
      "check_in : in : New client Sam joined the queue\n",
      "deque(['John', 'Sam'])\n",
      "connect_to_associate : out : Remove client John, connecting to associate Emily\n",
      "deque(['Sam'])\n",
      "check_in : in : New client Danny joined the queue\n",
      "deque(['Sam', 'Danny'])\n",
      "connect_to_associate : out : Remove client Sam, connecting to associate Zoe\n",
      "connect_to_associate : out : Remove client Danny, connecting to associate Jack\n",
      "connect_to_associate : No mlre clients waiting\n",
      "deque([])\n",
      "check_in : in : New client John joined the queue\n",
      "deque(['John'])\n",
      "check_in : in : New client Sam joined the queue\n",
      "deque(['John', 'Sam'])\n",
      "connect_to_associate : out : Remove client John, connecting to associate Emily\n",
      "deque(['Sam'])\n",
      "check_in : in : New client Danny joined the queue\n",
      "deque(['Sam', 'Danny'])\n",
      "connect_to_associate : out : Remove client Sam, connecting to associate Zoe\n",
      "connect_to_associate : out : Remove client Danny, connecting to associate Jack\n",
      "connect_to_associate : No mlre clients waiting\n",
      "deque([])\n",
      "check_in : in : New client John joined the queue\n",
      "deque(['John'])\n",
      "check_in : in : New client Sam joined the queue\n",
      "deque(['John', 'Sam'])\n",
      "connect_to_associate : out : Remove client John, connecting to associate Emily\n",
      "deque(['Sam'])\n",
      "check_in : in : New client Danny joined the queue\n",
      "deque(['Sam', 'Danny'])\n",
      "connect_to_associate : out : Remove client Sam, connecting to associate Zoe\n",
      "connect_to_associate : out : Remove client Danny, connecting to associate Jack\n",
      "connect_to_associate : No mlre clients waiting\n",
      "deque([])\n",
      "check_in : in : New client John joined the queue\n",
      "deque(['John'])\n",
      "check_in : in : New client Sam joined the queue\n",
      "deque(['John', 'Sam'])\n",
      "connect_to_associate : out : Remove client John, connecting to associate Emily\n",
      "deque(['Sam'])\n",
      "check_in : in : New client Danny joined the queue\n",
      "deque(['Sam', 'Danny'])\n",
      "connect_to_associate : out : Remove client Sam, connecting to associate Zoe\n",
      "connect_to_associate : out : Remove client Danny, connecting to associate Jack\n",
      "connect_to_associate : No mlre clients waiting\n",
      "deque([])\n",
      "check_in : in : New client John joined the queue\n",
      "deque(['John'])\n",
      "check_in : in : New client Sam joined the queue\n",
      "deque(['John', 'Sam'])\n",
      "connect_to_associate : out : Remove client John, connecting to associate Emily\n",
      "deque(['Sam'])\n",
      "check_in : in : New client Danny joined the queue\n",
      "deque(['Sam', 'Danny'])\n",
      "connect_to_associate : out : Remove client Sam, connecting to associate Zoe\n",
      "connect_to_associate : out : Remove client Danny, connecting to associate Jack\n",
      "connect_to_associate : No mlre clients waiting\n",
      "deque([])\n",
      "check_in : in : New client John joined the queue\n",
      "deque(['John'])\n",
      "check_in : in : New client Sam joined the queue\n",
      "deque(['John', 'Sam'])\n",
      "connect_to_associate : out : Remove client John, connecting to associate Emily\n",
      "deque(['Sam'])\n",
      "check_in : in : New client Danny joined the queue\n",
      "deque(['Sam', 'Danny'])\n",
      "connect_to_associate : out : Remove client Sam, connecting to associate Zoe\n",
      "connect_to_associate : out : Remove client Danny, connecting to associate Jack\n",
      "connect_to_associate : No mlre clients waiting\n",
      "deque([])\n",
      "check_in : in : New client John joined the queue\n",
      "deque(['John'])\n",
      "check_in : in : New client Sam joined the queue\n",
      "deque(['John', 'Sam'])\n",
      "connect_to_associate : out : Remove client John, connecting to associate Emily\n",
      "deque(['Sam'])\n",
      "check_in : in : New client Danny joined the queue\n",
      "deque(['Sam', 'Danny'])\n",
      "connect_to_associate : out : Remove client Sam, connecting to associate Zoe\n",
      "connect_to_associate : out : Remove client Danny, connecting to associate Jack\n",
      "connect_to_associate : No mlre clients waiting\n",
      "deque([])\n",
      "check_in : in : New client John joined the queue\n",
      "deque(['John'])\n",
      "check_in : in : New client Sam joined the queue\n",
      "deque(['John', 'Sam'])\n",
      "connect_to_associate : out : Remove client John, connecting to associate Emily\n",
      "deque(['Sam'])\n",
      "check_in : in : New client Danny joined the queue\n",
      "deque(['Sam', 'Danny'])\n",
      "connect_to_associate : out : Remove client Sam, connecting to associate Zoe\n",
      "connect_to_associate : out : Remove client Danny, connecting to associate Jack\n",
      "connect_to_associate : No mlre clients waiting\n",
      "deque([])\n",
      "check_in : in : New client John joined the queue\n",
      "deque(['John'])\n",
      "check_in : in : New client Sam joined the queue\n",
      "deque(['John', 'Sam'])\n",
      "connect_to_associate : out : Remove client John, connecting to associate Emily\n",
      "deque(['Sam'])\n",
      "check_in : in : New client Danny joined the queue\n",
      "deque(['Sam', 'Danny'])\n",
      "connect_to_associate : out : Remove client Sam, connecting to associate Zoe\n",
      "connect_to_associate : out : Remove client Danny, connecting to associate Jack\n",
      "connect_to_associate : No mlre clients waiting\n",
      "deque([])\n",
      "check_in : in : New client John joined the queue\n",
      "deque(['John'])\n",
      "check_in : in : New client Sam joined the queue\n",
      "deque(['John', 'Sam'])\n",
      "connect_to_associate : out : Remove client John, connecting to associate Emily\n",
      "deque(['Sam'])\n",
      "check_in : in : New client Danny joined the queue\n",
      "deque(['Sam', 'Danny'])\n",
      "connect_to_associate : out : Remove client Sam, connecting to associate Zoe\n",
      "connect_to_associate : out : Remove client Danny, connecting to associate Jack\n",
      "connect_to_associate : No mlre clients waiting\n",
      "deque([])\n",
      "check_in : in : New client John joined the queue\n",
      "deque(['John'])\n",
      "check_in : in : New client Sam joined the queue\n",
      "deque(['John', 'Sam'])\n",
      "connect_to_associate : out : Remove client John, connecting to associate Emily\n",
      "deque(['Sam'])\n",
      "check_in : in : New client Danny joined the queue\n",
      "deque(['Sam', 'Danny'])\n",
      "connect_to_associate : out : Remove client Sam, connecting to associate Zoe\n",
      "connect_to_associate : out : Remove client Danny, connecting to associate Jack\n",
      "connect_to_associate : No mlre clients waiting\n",
      "deque([])\n",
      "check_in : in : New client John joined the queue\n",
      "deque(['John'])\n",
      "check_in : in : New client Sam joined the queue\n",
      "deque(['John', 'Sam'])\n",
      "connect_to_associate : out : Remove client John, connecting to associate Emily\n",
      "deque(['Sam'])\n",
      "check_in : in : New client Danny joined the queue\n",
      "deque(['Sam', 'Danny'])\n",
      "connect_to_associate : out : Remove client Sam, connecting to associate Zoe\n",
      "connect_to_associate : out : Remove client Danny, connecting to associate Jack\n",
      "connect_to_associate : No mlre clients waiting\n",
      "deque([])\n",
      "check_in : in : New client John joined the queue\n",
      "deque(['John'])\n",
      "check_in : in : New client Sam joined the queue\n",
      "deque(['John', 'Sam'])\n",
      "connect_to_associate : out : Remove client John, connecting to associate Emily\n",
      "deque(['Sam'])\n",
      "check_in : in : New client Danny joined the queue\n",
      "deque(['Sam', 'Danny'])\n",
      "connect_to_associate : out : Remove client Sam, connecting to associate Zoe\n",
      "connect_to_associate : out : Remove client Danny, connecting to associate Jack\n",
      "connect_to_associate : No mlre clients waiting\n",
      "deque([])\n",
      "check_in : in : New client John joined the queue\n",
      "deque(['John'])\n",
      "check_in : in : New client Sam joined the queue\n",
      "deque(['John', 'Sam'])\n",
      "connect_to_associate : out : Remove client John, connecting to associate Emily\n",
      "deque(['Sam'])\n",
      "check_in : in : New client Danny joined the queue\n",
      "deque(['Sam', 'Danny'])\n",
      "connect_to_associate : out : Remove client Sam, connecting to associate Zoe\n",
      "connect_to_associate : out : Remove client Danny, connecting to associate Jack\n",
      "connect_to_associate : No mlre clients waiting\n",
      "deque([])\n",
      "check_in : in : New client John joined the queue\n",
      "deque(['John'])\n",
      "check_in : in : New client Sam joined the queue\n",
      "deque(['John', 'Sam'])\n",
      "connect_to_associate : out : Remove client John, connecting to associate Emily\n",
      "deque(['Sam'])\n",
      "check_in : in : New client Danny joined the queue\n",
      "deque(['Sam', 'Danny'])\n",
      "connect_to_associate : out : Remove client Sam, connecting to associate Zoe\n",
      "connect_to_associate : out : Remove client Danny, connecting to associate Jack\n",
      "connect_to_associate : No mlre clients waiting\n",
      "deque([])\n",
      "check_in : in : New client John joined the queue\n",
      "deque(['John'])\n",
      "check_in : in : New client Sam joined the queue\n",
      "deque(['John', 'Sam'])\n",
      "connect_to_associate : out : Remove client John, connecting to associate Emily\n",
      "deque(['Sam'])\n",
      "check_in : in : New client Danny joined the queue\n",
      "deque(['Sam', 'Danny'])\n",
      "connect_to_associate : out : Remove client Sam, connecting to associate Zoe\n"
     ]
    },
    {
     "name": "stdout",
     "output_type": "stream",
     "text": [
      "connect_to_associate : out : Remove client Danny, connecting to associate Jack\n",
      "connect_to_associate : No mlre clients waiting\n",
      "deque([])\n",
      "check_in : in : New client John joined the queue\n",
      "deque(['John'])\n",
      "check_in : in : New client Sam joined the queue\n",
      "deque(['John', 'Sam'])\n",
      "connect_to_associate : out : Remove client John, connecting to associate Emily\n",
      "deque(['Sam'])\n",
      "check_in : in : New client Danny joined the queue\n",
      "deque(['Sam', 'Danny'])\n",
      "connect_to_associate : out : Remove client Sam, connecting to associate Zoe\n",
      "connect_to_associate : out : Remove client Danny, connecting to associate Jack\n",
      "connect_to_associate : No mlre clients waiting\n",
      "deque([])\n",
      "check_in : in : New client John joined the queue\n",
      "deque(['John'])\n",
      "check_in : in : New client Sam joined the queue\n",
      "deque(['John', 'Sam'])\n",
      "connect_to_associate : out : Remove client John, connecting to associate Emily\n",
      "deque(['Sam'])\n",
      "check_in : in : New client Danny joined the queue\n",
      "deque(['Sam', 'Danny'])\n",
      "connect_to_associate : out : Remove client Sam, connecting to associate Zoe\n",
      "connect_to_associate : out : Remove client Danny, connecting to associate Jack\n",
      "connect_to_associate : No mlre clients waiting\n",
      "deque([])\n",
      "check_in : in : New client John joined the queue\n",
      "deque(['John'])\n",
      "check_in : in : New client Sam joined the queue\n",
      "deque(['John', 'Sam'])\n",
      "connect_to_associate : out : Remove client John, connecting to associate Emily\n",
      "deque(['Sam'])\n",
      "check_in : in : New client Danny joined the queue\n",
      "deque(['Sam', 'Danny'])\n",
      "connect_to_associate : out : Remove client Sam, connecting to associate Zoe\n",
      "connect_to_associate : out : Remove client Danny, connecting to associate Jack\n",
      "connect_to_associate : No mlre clients waiting\n",
      "deque([])\n",
      "check_in : in : New client John joined the queue\n",
      "deque(['John'])\n",
      "check_in : in : New client Sam joined the queue\n",
      "deque(['John', 'Sam'])\n",
      "connect_to_associate : out : Remove client John, connecting to associate Emily\n",
      "deque(['Sam'])\n",
      "check_in : in : New client Danny joined the queue\n",
      "deque(['Sam', 'Danny'])\n",
      "connect_to_associate : out : Remove client Sam, connecting to associate Zoe\n",
      "connect_to_associate : out : Remove client Danny, connecting to associate Jack\n",
      "connect_to_associate : No mlre clients waiting\n",
      "deque([])\n",
      "check_in : in : New client John joined the queue\n",
      "deque(['John'])\n",
      "check_in : in : New client Sam joined the queue\n",
      "deque(['John', 'Sam'])\n",
      "connect_to_associate : out : Remove client John, connecting to associate Emily\n",
      "deque(['Sam'])\n",
      "check_in : in : New client Danny joined the queue\n",
      "deque(['Sam', 'Danny'])\n",
      "connect_to_associate : out : Remove client Sam, connecting to associate Zoe\n",
      "connect_to_associate : out : Remove client Danny, connecting to associate Jack\n",
      "connect_to_associate : No mlre clients waiting\n",
      "deque([])\n",
      "check_in : in : New client John joined the queue\n",
      "deque(['John'])\n",
      "check_in : in : New client Sam joined the queue\n",
      "deque(['John', 'Sam'])\n",
      "connect_to_associate : out : Remove client John, connecting to associate Emily\n",
      "deque(['Sam'])\n",
      "check_in : in : New client Danny joined the queue\n",
      "deque(['Sam', 'Danny'])\n",
      "connect_to_associate : out : Remove client Sam, connecting to associate Zoe\n",
      "connect_to_associate : out : Remove client Danny, connecting to associate Jack\n",
      "connect_to_associate : No mlre clients waiting\n",
      "deque([])\n",
      "check_in : in : New client John joined the queue\n",
      "deque(['John'])\n",
      "check_in : in : New client Sam joined the queue\n",
      "deque(['John', 'Sam'])\n",
      "connect_to_associate : out : Remove client John, connecting to associate Emily\n",
      "deque(['Sam'])\n",
      "check_in : in : New client Danny joined the queue\n",
      "deque(['Sam', 'Danny'])\n",
      "connect_to_associate : out : Remove client Sam, connecting to associate Zoe\n",
      "connect_to_associate : out : Remove client Danny, connecting to associate Jack\n",
      "connect_to_associate : No mlre clients waiting\n",
      "deque([])\n",
      "check_in : in : New client John joined the queue\n",
      "deque(['John'])\n",
      "check_in : in : New client Sam joined the queue\n",
      "deque(['John', 'Sam'])\n",
      "connect_to_associate : out : Remove client John, connecting to associate Emily\n",
      "deque(['Sam'])\n",
      "check_in : in : New client Danny joined the queue\n",
      "deque(['Sam', 'Danny'])\n",
      "connect_to_associate : out : Remove client Sam, connecting to associate Zoe\n",
      "connect_to_associate : out : Remove client Danny, connecting to associate Jack\n",
      "connect_to_associate : No mlre clients waiting\n",
      "deque([])\n",
      "check_in : in : New client John joined the queue\n",
      "deque(['John'])\n",
      "check_in : in : New client Sam joined the queue\n",
      "deque(['John', 'Sam'])\n",
      "connect_to_associate : out : Remove client John, connecting to associate Emily\n",
      "deque(['Sam'])\n",
      "check_in : in : New client Danny joined the queue\n",
      "deque(['Sam', 'Danny'])\n",
      "connect_to_associate : out : Remove client Sam, connecting to associate Zoe\n",
      "connect_to_associate : out : Remove client Danny, connecting to associate Jack\n",
      "connect_to_associate : No mlre clients waiting\n",
      "deque([])\n",
      "check_in : in : New client John joined the queue\n",
      "deque(['John'])\n",
      "check_in : in : New client Sam joined the queue\n",
      "deque(['John', 'Sam'])\n",
      "connect_to_associate : out : Remove client John, connecting to associate Emily\n",
      "deque(['Sam'])\n",
      "check_in : in : New client Danny joined the queue\n",
      "deque(['Sam', 'Danny'])\n",
      "connect_to_associate : out : Remove client Sam, connecting to associate Zoe\n",
      "connect_to_associate : out : Remove client Danny, connecting to associate Jack\n",
      "connect_to_associate : No mlre clients waiting\n",
      "deque([])\n",
      "check_in : in : New client John joined the queue\n",
      "deque(['John'])\n",
      "check_in : in : New client Sam joined the queue\n",
      "deque(['John', 'Sam'])\n",
      "connect_to_associate : out : Remove client John, connecting to associate Emily\n",
      "deque(['Sam'])\n",
      "check_in : in : New client Danny joined the queue\n",
      "deque(['Sam', 'Danny'])\n",
      "connect_to_associate : out : Remove client Sam, connecting to associate Zoe\n",
      "connect_to_associate : out : Remove client Danny, connecting to associate Jack\n",
      "connect_to_associate : No mlre clients waiting\n",
      "deque([])\n",
      "check_in : in : New client John joined the queue\n",
      "deque(['John'])\n",
      "check_in : in : New client Sam joined the queue\n",
      "deque(['John', 'Sam'])\n",
      "connect_to_associate : out : Remove client John, connecting to associate Emily\n",
      "deque(['Sam'])\n",
      "check_in : in : New client Danny joined the queue\n",
      "deque(['Sam', 'Danny'])\n",
      "connect_to_associate : out : Remove client Sam, connecting to associate Zoe\n",
      "connect_to_associate : out : Remove client Danny, connecting to associate Jack\n",
      "connect_to_associate : No mlre clients waiting\n",
      "deque([])\n",
      "check_in : in : New client John joined the queue\n",
      "deque(['John'])\n",
      "check_in : in : New client Sam joined the queue\n",
      "deque(['John', 'Sam'])\n",
      "connect_to_associate : out : Remove client John, connecting to associate Emily\n",
      "deque(['Sam'])\n",
      "check_in : in : New client Danny joined the queue\n",
      "deque(['Sam', 'Danny'])\n",
      "connect_to_associate : out : Remove client Sam, connecting to associate Zoe\n",
      "connect_to_associate : out : Remove client Danny, connecting to associate Jack\n",
      "connect_to_associate : No mlre clients waiting\n",
      "deque([])\n",
      "check_in : in : New client John joined the queue\n",
      "deque(['John'])\n",
      "check_in : in : New client Sam joined the queue\n",
      "deque(['John', 'Sam'])\n",
      "connect_to_associate : out : Remove client John, connecting to associate Emily\n",
      "deque(['Sam'])\n",
      "check_in : in : New client Danny joined the queue\n",
      "deque(['Sam', 'Danny'])\n",
      "connect_to_associate : out : Remove client Sam, connecting to associate Zoe\n",
      "connect_to_associate : out : Remove client Danny, connecting to associate Jack\n",
      "connect_to_associate : No mlre clients waiting\n",
      "deque([])\n",
      "check_in : in : New client John joined the queue\n",
      "deque(['John'])\n",
      "check_in : in : New client Sam joined the queue\n",
      "deque(['John', 'Sam'])\n",
      "connect_to_associate : out : Remove client John, connecting to associate Emily\n",
      "deque(['Sam'])\n",
      "check_in : in : New client Danny joined the queue\n",
      "deque(['Sam', 'Danny'])\n",
      "connect_to_associate : out : Remove client Sam, connecting to associate Zoe\n",
      "connect_to_associate : out : Remove client Danny, connecting to associate Jack\n",
      "connect_to_associate : No mlre clients waiting\n",
      "deque([])\n",
      "check_in : in : New client John joined the queue\n",
      "deque(['John'])\n",
      "check_in : in : New client Sam joined the queue\n",
      "deque(['John', 'Sam'])\n",
      "connect_to_associate : out : Remove client John, connecting to associate Emily\n",
      "deque(['Sam'])\n",
      "check_in : in : New client Danny joined the queue\n",
      "deque(['Sam', 'Danny'])\n",
      "connect_to_associate : out : Remove client Sam, connecting to associate Zoe\n",
      "connect_to_associate : out : Remove client Danny, connecting to associate Jack\n",
      "connect_to_associate : No mlre clients waiting\n",
      "deque([])\n"
     ]
    },
    {
     "name": "stdout",
     "output_type": "stream",
     "text": [
      "check_in : in : New client John joined the queue\n",
      "deque(['John'])\n",
      "check_in : in : New client Sam joined the queue\n",
      "deque(['John', 'Sam'])\n",
      "connect_to_associate : out : Remove client John, connecting to associate Emily\n",
      "deque(['Sam'])\n",
      "check_in : in : New client Danny joined the queue\n",
      "deque(['Sam', 'Danny'])\n",
      "connect_to_associate : out : Remove client Sam, connecting to associate Zoe\n",
      "connect_to_associate : out : Remove client Danny, connecting to associate Jack\n",
      "connect_to_associate : No mlre clients waiting\n",
      "deque([])\n",
      "check_in : in : New client John joined the queue\n",
      "deque(['John'])\n",
      "check_in : in : New client Sam joined the queue\n",
      "deque(['John', 'Sam'])\n",
      "connect_to_associate : out : Remove client John, connecting to associate Emily\n",
      "deque(['Sam'])\n",
      "check_in : in : New client Danny joined the queue\n",
      "deque(['Sam', 'Danny'])\n",
      "connect_to_associate : out : Remove client Sam, connecting to associate Zoe\n",
      "connect_to_associate : out : Remove client Danny, connecting to associate Jack\n",
      "connect_to_associate : No mlre clients waiting\n",
      "deque([])\n",
      "check_in : in : New client John joined the queue\n",
      "deque(['John'])\n",
      "check_in : in : New client Sam joined the queue\n",
      "deque(['John', 'Sam'])\n",
      "connect_to_associate : out : Remove client John, connecting to associate Emily\n",
      "deque(['Sam'])\n",
      "check_in : in : New client Danny joined the queue\n",
      "deque(['Sam', 'Danny'])\n",
      "connect_to_associate : out : Remove client Sam, connecting to associate Zoe\n",
      "connect_to_associate : out : Remove client Danny, connecting to associate Jack\n",
      "connect_to_associate : No mlre clients waiting\n",
      "deque([])\n",
      "check_in : in : New client John joined the queue\n",
      "deque(['John'])\n",
      "check_in : in : New client Sam joined the queue\n",
      "deque(['John', 'Sam'])\n",
      "connect_to_associate : out : Remove client John, connecting to associate Emily\n",
      "deque(['Sam'])\n",
      "check_in : in : New client Danny joined the queue\n",
      "deque(['Sam', 'Danny'])\n",
      "connect_to_associate : out : Remove client Sam, connecting to associate Zoe\n",
      "connect_to_associate : out : Remove client Danny, connecting to associate Jack\n",
      "connect_to_associate : No mlre clients waiting\n",
      "deque([])\n",
      "check_in : in : New client John joined the queue\n",
      "deque(['John'])\n",
      "check_in : in : New client Sam joined the queue\n",
      "deque(['John', 'Sam'])\n",
      "connect_to_associate : out : Remove client John, connecting to associate Emily\n",
      "deque(['Sam'])\n",
      "check_in : in : New client Danny joined the queue\n",
      "deque(['Sam', 'Danny'])\n",
      "connect_to_associate : out : Remove client Sam, connecting to associate Zoe\n",
      "connect_to_associate : out : Remove client Danny, connecting to associate Jack\n",
      "connect_to_associate : No mlre clients waiting\n",
      "deque([])\n",
      "check_in : in : New client John joined the queue\n",
      "deque(['John'])\n",
      "check_in : in : New client Sam joined the queue\n",
      "deque(['John', 'Sam'])\n",
      "connect_to_associate : out : Remove client John, connecting to associate Emily\n",
      "deque(['Sam'])\n",
      "check_in : in : New client Danny joined the queue\n",
      "deque(['Sam', 'Danny'])\n",
      "connect_to_associate : out : Remove client Sam, connecting to associate Zoe\n",
      "connect_to_associate : out : Remove client Danny, connecting to associate Jack\n",
      "connect_to_associate : No mlre clients waiting\n",
      "deque([])\n",
      "check_in : in : New client John joined the queue\n",
      "deque(['John'])\n",
      "check_in : in : New client Sam joined the queue\n",
      "deque(['John', 'Sam'])\n",
      "connect_to_associate : out : Remove client John, connecting to associate Emily\n",
      "deque(['Sam'])\n",
      "check_in : in : New client Danny joined the queue\n",
      "deque(['Sam', 'Danny'])\n",
      "connect_to_associate : out : Remove client Sam, connecting to associate Zoe\n",
      "connect_to_associate : out : Remove client Danny, connecting to associate Jack\n",
      "connect_to_associate : No mlre clients waiting\n",
      "deque([])\n",
      "check_in : in : New client John joined the queue\n",
      "deque(['John'])\n",
      "check_in : in : New client Sam joined the queue\n",
      "deque(['John', 'Sam'])\n",
      "connect_to_associate : out : Remove client John, connecting to associate Emily\n",
      "deque(['Sam'])\n",
      "check_in : in : New client Danny joined the queue\n",
      "deque(['Sam', 'Danny'])\n",
      "connect_to_associate : out : Remove client Sam, connecting to associate Zoe\n",
      "connect_to_associate : out : Remove client Danny, connecting to associate Jack\n",
      "connect_to_associate : No mlre clients waiting\n",
      "deque([])\n",
      "check_in : in : New client John joined the queue\n",
      "deque(['John'])\n",
      "check_in : in : New client Sam joined the queue\n",
      "deque(['John', 'Sam'])\n",
      "connect_to_associate : out : Remove client John, connecting to associate Emily\n",
      "deque(['Sam'])\n",
      "check_in : in : New client Danny joined the queue\n",
      "deque(['Sam', 'Danny'])\n",
      "connect_to_associate : out : Remove client Sam, connecting to associate Zoe\n",
      "connect_to_associate : out : Remove client Danny, connecting to associate Jack\n",
      "connect_to_associate : No mlre clients waiting\n",
      "deque([])\n",
      "check_in : in : New client John joined the queue\n",
      "deque(['John'])\n",
      "check_in : in : New client Sam joined the queue\n",
      "deque(['John', 'Sam'])\n",
      "connect_to_associate : out : Remove client John, connecting to associate Emily\n",
      "deque(['Sam'])\n",
      "check_in : in : New client Danny joined the queue\n",
      "deque(['Sam', 'Danny'])\n",
      "connect_to_associate : out : Remove client Sam, connecting to associate Zoe\n",
      "connect_to_associate : out : Remove client Danny, connecting to associate Jack\n",
      "connect_to_associate : No mlre clients waiting\n",
      "deque([])\n",
      "check_in : in : New client John joined the queue\n",
      "deque(['John'])\n",
      "check_in : in : New client Sam joined the queue\n",
      "deque(['John', 'Sam'])\n",
      "connect_to_associate : out : Remove client John, connecting to associate Emily\n",
      "deque(['Sam'])\n",
      "check_in : in : New client Danny joined the queue\n",
      "deque(['Sam', 'Danny'])\n",
      "connect_to_associate : out : Remove client Sam, connecting to associate Zoe\n",
      "connect_to_associate : out : Remove client Danny, connecting to associate Jack\n",
      "connect_to_associate : No mlre clients waiting\n",
      "deque([])\n",
      "check_in : in : New client John joined the queue\n",
      "deque(['John'])\n",
      "check_in : in : New client Sam joined the queue\n",
      "deque(['John', 'Sam'])\n",
      "connect_to_associate : out : Remove client John, connecting to associate Emily\n",
      "deque(['Sam'])\n",
      "check_in : in : New client Danny joined the queue\n",
      "deque(['Sam', 'Danny'])\n",
      "connect_to_associate : out : Remove client Sam, connecting to associate Zoe\n",
      "connect_to_associate : out : Remove client Danny, connecting to associate Jack\n",
      "connect_to_associate : No mlre clients waiting\n",
      "deque([])\n",
      "check_in : in : New client John joined the queue\n",
      "deque(['John'])\n",
      "check_in : in : New client Sam joined the queue\n",
      "deque(['John', 'Sam'])\n",
      "connect_to_associate : out : Remove client John, connecting to associate Emily\n",
      "deque(['Sam'])\n",
      "check_in : in : New client Danny joined the queue\n",
      "deque(['Sam', 'Danny'])\n",
      "connect_to_associate : out : Remove client Sam, connecting to associate Zoe\n",
      "connect_to_associate : out : Remove client Danny, connecting to associate Jack\n",
      "connect_to_associate : No mlre clients waiting\n",
      "deque([])\n",
      "check_in : in : New client John joined the queue\n",
      "deque(['John'])\n",
      "check_in : in : New client Sam joined the queue\n",
      "deque(['John', 'Sam'])\n",
      "connect_to_associate : out : Remove client John, connecting to associate Emily\n",
      "deque(['Sam'])\n",
      "check_in : in : New client Danny joined the queue\n",
      "deque(['Sam', 'Danny'])\n",
      "connect_to_associate : out : Remove client Sam, connecting to associate Zoe\n",
      "connect_to_associate : out : Remove client Danny, connecting to associate Jack\n",
      "connect_to_associate : No mlre clients waiting\n",
      "deque([])\n",
      "check_in : in : New client John joined the queue\n",
      "deque(['John'])\n",
      "check_in : in : New client Sam joined the queue\n",
      "deque(['John', 'Sam'])\n",
      "connect_to_associate : out : Remove client John, connecting to associate Emily\n",
      "deque(['Sam'])\n",
      "check_in : in : New client Danny joined the queue\n",
      "deque(['Sam', 'Danny'])\n",
      "connect_to_associate : out : Remove client Sam, connecting to associate Zoe\n",
      "connect_to_associate : out : Remove client Danny, connecting to associate Jack\n",
      "connect_to_associate : No mlre clients waiting\n",
      "deque([])\n",
      "check_in : in : New client John joined the queue\n",
      "deque(['John'])\n",
      "check_in : in : New client Sam joined the queue\n",
      "deque(['John', 'Sam'])\n",
      "connect_to_associate : out : Remove client John, connecting to associate Emily\n",
      "deque(['Sam'])\n",
      "check_in : in : New client Danny joined the queue\n",
      "deque(['Sam', 'Danny'])\n",
      "connect_to_associate : out : Remove client Sam, connecting to associate Zoe\n",
      "connect_to_associate : out : Remove client Danny, connecting to associate Jack\n",
      "connect_to_associate : No mlre clients waiting\n",
      "deque([])\n",
      "check_in : in : New client John joined the queue\n",
      "deque(['John'])\n",
      "check_in : in : New client Sam joined the queue\n",
      "deque(['John', 'Sam'])\n"
     ]
    },
    {
     "name": "stdout",
     "output_type": "stream",
     "text": [
      "connect_to_associate : out : Remove client John, connecting to associate Emily\n",
      "deque(['Sam'])\n",
      "check_in : in : New client Danny joined the queue\n",
      "deque(['Sam', 'Danny'])\n",
      "connect_to_associate : out : Remove client Sam, connecting to associate Zoe\n",
      "connect_to_associate : out : Remove client Danny, connecting to associate Jack\n",
      "connect_to_associate : No mlre clients waiting\n",
      "deque([])\n",
      "check_in : in : New client John joined the queue\n",
      "deque(['John'])\n",
      "check_in : in : New client Sam joined the queue\n",
      "deque(['John', 'Sam'])\n",
      "connect_to_associate : out : Remove client John, connecting to associate Emily\n",
      "deque(['Sam'])\n",
      "check_in : in : New client Danny joined the queue\n",
      "deque(['Sam', 'Danny'])\n",
      "connect_to_associate : out : Remove client Sam, connecting to associate Zoe\n",
      "connect_to_associate : out : Remove client Danny, connecting to associate Jack\n",
      "connect_to_associate : No mlre clients waiting\n",
      "deque([])\n",
      "check_in : in : New client John joined the queue\n",
      "deque(['John'])\n",
      "check_in : in : New client Sam joined the queue\n",
      "deque(['John', 'Sam'])\n",
      "connect_to_associate : out : Remove client John, connecting to associate Emily\n",
      "deque(['Sam'])\n",
      "check_in : in : New client Danny joined the queue\n",
      "deque(['Sam', 'Danny'])\n",
      "connect_to_associate : out : Remove client Sam, connecting to associate Zoe\n",
      "connect_to_associate : out : Remove client Danny, connecting to associate Jack\n",
      "connect_to_associate : No mlre clients waiting\n",
      "deque([])\n",
      "check_in : in : New client John joined the queue\n",
      "deque(['John'])\n",
      "check_in : in : New client Sam joined the queue\n",
      "deque(['John', 'Sam'])\n",
      "connect_to_associate : out : Remove client John, connecting to associate Emily\n",
      "deque(['Sam'])\n",
      "check_in : in : New client Danny joined the queue\n",
      "deque(['Sam', 'Danny'])\n",
      "connect_to_associate : out : Remove client Sam, connecting to associate Zoe\n",
      "connect_to_associate : out : Remove client Danny, connecting to associate Jack\n",
      "connect_to_associate : No mlre clients waiting\n",
      "deque([])\n",
      "check_in : in : New client John joined the queue\n",
      "deque(['John'])\n",
      "check_in : in : New client Sam joined the queue\n",
      "deque(['John', 'Sam'])\n",
      "connect_to_associate : out : Remove client John, connecting to associate Emily\n",
      "deque(['Sam'])\n",
      "check_in : in : New client Danny joined the queue\n",
      "deque(['Sam', 'Danny'])\n",
      "connect_to_associate : out : Remove client Sam, connecting to associate Zoe\n",
      "connect_to_associate : out : Remove client Danny, connecting to associate Jack\n",
      "connect_to_associate : No mlre clients waiting\n",
      "deque([])\n",
      "check_in : in : New client John joined the queue\n",
      "deque(['John'])\n",
      "check_in : in : New client Sam joined the queue\n",
      "deque(['John', 'Sam'])\n",
      "connect_to_associate : out : Remove client John, connecting to associate Emily\n",
      "deque(['Sam'])\n",
      "check_in : in : New client Danny joined the queue\n",
      "deque(['Sam', 'Danny'])\n",
      "connect_to_associate : out : Remove client Sam, connecting to associate Zoe\n",
      "connect_to_associate : out : Remove client Danny, connecting to associate Jack\n",
      "connect_to_associate : No mlre clients waiting\n",
      "deque([])\n",
      "check_in : in : New client John joined the queue\n",
      "deque(['John'])\n",
      "check_in : in : New client Sam joined the queue\n",
      "deque(['John', 'Sam'])\n",
      "connect_to_associate : out : Remove client John, connecting to associate Emily\n",
      "deque(['Sam'])\n",
      "check_in : in : New client Danny joined the queue\n",
      "deque(['Sam', 'Danny'])\n",
      "connect_to_associate : out : Remove client Sam, connecting to associate Zoe\n",
      "connect_to_associate : out : Remove client Danny, connecting to associate Jack\n",
      "connect_to_associate : No mlre clients waiting\n",
      "deque([])\n",
      "check_in : in : New client John joined the queue\n",
      "deque(['John'])\n",
      "check_in : in : New client Sam joined the queue\n",
      "deque(['John', 'Sam'])\n",
      "connect_to_associate : out : Remove client John, connecting to associate Emily\n",
      "deque(['Sam'])\n",
      "check_in : in : New client Danny joined the queue\n",
      "deque(['Sam', 'Danny'])\n",
      "connect_to_associate : out : Remove client Sam, connecting to associate Zoe\n",
      "connect_to_associate : out : Remove client Danny, connecting to associate Jack\n",
      "connect_to_associate : No mlre clients waiting\n",
      "deque([])\n",
      "check_in : in : New client John joined the queue\n",
      "deque(['John'])\n",
      "check_in : in : New client Sam joined the queue\n",
      "deque(['John', 'Sam'])\n",
      "connect_to_associate : out : Remove client John, connecting to associate Emily\n",
      "deque(['Sam'])\n",
      "check_in : in : New client Danny joined the queue\n",
      "deque(['Sam', 'Danny'])\n",
      "connect_to_associate : out : Remove client Sam, connecting to associate Zoe\n",
      "connect_to_associate : out : Remove client Danny, connecting to associate Jack\n",
      "connect_to_associate : No mlre clients waiting\n",
      "deque([])\n",
      "check_in : in : New client John joined the queue\n",
      "deque(['John'])\n",
      "check_in : in : New client Sam joined the queue\n",
      "deque(['John', 'Sam'])\n",
      "connect_to_associate : out : Remove client John, connecting to associate Emily\n",
      "deque(['Sam'])\n",
      "check_in : in : New client Danny joined the queue\n",
      "deque(['Sam', 'Danny'])\n",
      "connect_to_associate : out : Remove client Sam, connecting to associate Zoe\n",
      "connect_to_associate : out : Remove client Danny, connecting to associate Jack\n",
      "connect_to_associate : No mlre clients waiting\n",
      "deque([])\n",
      "check_in : in : New client John joined the queue\n",
      "deque(['John'])\n",
      "check_in : in : New client Sam joined the queue\n",
      "deque(['John', 'Sam'])\n",
      "connect_to_associate : out : Remove client John, connecting to associate Emily\n",
      "deque(['Sam'])\n",
      "check_in : in : New client Danny joined the queue\n",
      "deque(['Sam', 'Danny'])\n",
      "connect_to_associate : out : Remove client Sam, connecting to associate Zoe\n",
      "connect_to_associate : out : Remove client Danny, connecting to associate Jack\n",
      "connect_to_associate : No mlre clients waiting\n",
      "deque([])\n",
      "check_in : in : New client John joined the queue\n",
      "deque(['John'])\n",
      "check_in : in : New client Sam joined the queue\n",
      "deque(['John', 'Sam'])\n",
      "connect_to_associate : out : Remove client John, connecting to associate Emily\n",
      "deque(['Sam'])\n",
      "check_in : in : New client Danny joined the queue\n",
      "deque(['Sam', 'Danny'])\n",
      "connect_to_associate : out : Remove client Sam, connecting to associate Zoe\n",
      "connect_to_associate : out : Remove client Danny, connecting to associate Jack\n",
      "connect_to_associate : No mlre clients waiting\n",
      "deque([])\n",
      "check_in : in : New client John joined the queue\n",
      "deque(['John'])\n",
      "check_in : in : New client Sam joined the queue\n",
      "deque(['John', 'Sam'])\n",
      "connect_to_associate : out : Remove client John, connecting to associate Emily\n",
      "deque(['Sam'])\n",
      "check_in : in : New client Danny joined the queue\n",
      "deque(['Sam', 'Danny'])\n",
      "connect_to_associate : out : Remove client Sam, connecting to associate Zoe\n",
      "connect_to_associate : out : Remove client Danny, connecting to associate Jack\n",
      "connect_to_associate : No mlre clients waiting\n",
      "deque([])\n",
      "check_in : in : New client John joined the queue\n",
      "deque(['John'])\n",
      "check_in : in : New client Sam joined the queue\n",
      "deque(['John', 'Sam'])\n",
      "connect_to_associate : out : Remove client John, connecting to associate Emily\n",
      "deque(['Sam'])\n",
      "check_in : in : New client Danny joined the queue\n",
      "deque(['Sam', 'Danny'])\n",
      "connect_to_associate : out : Remove client Sam, connecting to associate Zoe\n",
      "connect_to_associate : out : Remove client Danny, connecting to associate Jack\n",
      "connect_to_associate : No mlre clients waiting\n",
      "deque([])\n",
      "check_in : in : New client John joined the queue\n",
      "deque(['John'])\n",
      "check_in : in : New client Sam joined the queue\n",
      "deque(['John', 'Sam'])\n",
      "connect_to_associate : out : Remove client John, connecting to associate Emily\n",
      "deque(['Sam'])\n",
      "check_in : in : New client Danny joined the queue\n",
      "deque(['Sam', 'Danny'])\n",
      "connect_to_associate : out : Remove client Sam, connecting to associate Zoe\n",
      "connect_to_associate : out : Remove client Danny, connecting to associate Jack\n",
      "connect_to_associate : No mlre clients waiting\n",
      "deque([])\n",
      "check_in : in : New client John joined the queue\n",
      "deque(['John'])\n",
      "check_in : in : New client Sam joined the queue\n",
      "deque(['John', 'Sam'])\n",
      "connect_to_associate : out : Remove client John, connecting to associate Emily\n",
      "deque(['Sam'])\n",
      "check_in : in : New client Danny joined the queue\n",
      "deque(['Sam', 'Danny'])\n",
      "connect_to_associate : out : Remove client Sam, connecting to associate Zoe\n",
      "connect_to_associate : out : Remove client Danny, connecting to associate Jack\n",
      "connect_to_associate : No mlre clients waiting\n",
      "deque([])\n",
      "check_in : in : New client John joined the queue\n",
      "deque(['John'])\n",
      "check_in : in : New client Sam joined the queue\n",
      "deque(['John', 'Sam'])\n",
      "connect_to_associate : out : Remove client John, connecting to associate Emily\n",
      "deque(['Sam'])\n"
     ]
    },
    {
     "name": "stdout",
     "output_type": "stream",
     "text": [
      "check_in : in : New client Danny joined the queue\n",
      "deque(['Sam', 'Danny'])\n",
      "connect_to_associate : out : Remove client Sam, connecting to associate Zoe\n",
      "connect_to_associate : out : Remove client Danny, connecting to associate Jack\n",
      "connect_to_associate : No mlre clients waiting\n",
      "deque([])\n",
      "check_in : in : New client John joined the queue\n",
      "deque(['John'])\n",
      "check_in : in : New client Sam joined the queue\n",
      "deque(['John', 'Sam'])\n",
      "connect_to_associate : out : Remove client John, connecting to associate Emily\n",
      "deque(['Sam'])\n",
      "check_in : in : New client Danny joined the queue\n",
      "deque(['Sam', 'Danny'])\n",
      "connect_to_associate : out : Remove client Sam, connecting to associate Zoe\n",
      "connect_to_associate : out : Remove client Danny, connecting to associate Jack\n",
      "connect_to_associate : No mlre clients waiting\n",
      "deque([])\n",
      "check_in : in : New client John joined the queue\n",
      "deque(['John'])\n",
      "check_in : in : New client Sam joined the queue\n",
      "deque(['John', 'Sam'])\n",
      "connect_to_associate : out : Remove client John, connecting to associate Emily\n",
      "deque(['Sam'])\n",
      "check_in : in : New client Danny joined the queue\n",
      "deque(['Sam', 'Danny'])\n",
      "connect_to_associate : out : Remove client Sam, connecting to associate Zoe\n",
      "connect_to_associate : out : Remove client Danny, connecting to associate Jack\n",
      "connect_to_associate : No mlre clients waiting\n",
      "deque([])\n",
      "check_in : in : New client John joined the queue\n",
      "deque(['John'])\n",
      "check_in : in : New client Sam joined the queue\n",
      "deque(['John', 'Sam'])\n",
      "connect_to_associate : out : Remove client John, connecting to associate Emily\n",
      "deque(['Sam'])\n",
      "check_in : in : New client Danny joined the queue\n",
      "deque(['Sam', 'Danny'])\n",
      "connect_to_associate : out : Remove client Sam, connecting to associate Zoe\n",
      "connect_to_associate : out : Remove client Danny, connecting to associate Jack\n",
      "connect_to_associate : No mlre clients waiting\n",
      "deque([])\n",
      "check_in : in : New client John joined the queue\n",
      "deque(['John'])\n",
      "check_in : in : New client Sam joined the queue\n",
      "deque(['John', 'Sam'])\n",
      "connect_to_associate : out : Remove client John, connecting to associate Emily\n",
      "deque(['Sam'])\n",
      "check_in : in : New client Danny joined the queue\n",
      "deque(['Sam', 'Danny'])\n",
      "connect_to_associate : out : Remove client Sam, connecting to associate Zoe\n",
      "connect_to_associate : out : Remove client Danny, connecting to associate Jack\n",
      "connect_to_associate : No mlre clients waiting\n",
      "deque([])\n",
      "check_in : in : New client John joined the queue\n",
      "deque(['John'])\n",
      "check_in : in : New client Sam joined the queue\n",
      "deque(['John', 'Sam'])\n",
      "connect_to_associate : out : Remove client John, connecting to associate Emily\n",
      "deque(['Sam'])\n",
      "check_in : in : New client Danny joined the queue\n",
      "deque(['Sam', 'Danny'])\n",
      "connect_to_associate : out : Remove client Sam, connecting to associate Zoe\n",
      "connect_to_associate : out : Remove client Danny, connecting to associate Jack\n",
      "connect_to_associate : No mlre clients waiting\n",
      "deque([])\n",
      "check_in : in : New client John joined the queue\n",
      "deque(['John'])\n",
      "check_in : in : New client Sam joined the queue\n",
      "deque(['John', 'Sam'])\n",
      "connect_to_associate : out : Remove client John, connecting to associate Emily\n",
      "deque(['Sam'])\n",
      "check_in : in : New client Danny joined the queue\n",
      "deque(['Sam', 'Danny'])\n",
      "connect_to_associate : out : Remove client Sam, connecting to associate Zoe\n",
      "connect_to_associate : out : Remove client Danny, connecting to associate Jack\n",
      "connect_to_associate : No mlre clients waiting\n",
      "deque([])\n",
      "check_in : in : New client John joined the queue\n",
      "deque(['John'])\n",
      "check_in : in : New client Sam joined the queue\n",
      "deque(['John', 'Sam'])\n",
      "connect_to_associate : out : Remove client John, connecting to associate Emily\n",
      "deque(['Sam'])\n",
      "check_in : in : New client Danny joined the queue\n",
      "deque(['Sam', 'Danny'])\n",
      "connect_to_associate : out : Remove client Sam, connecting to associate Zoe\n",
      "connect_to_associate : out : Remove client Danny, connecting to associate Jack\n",
      "connect_to_associate : No mlre clients waiting\n",
      "deque([])\n",
      "check_in : in : New client John joined the queue\n",
      "deque(['John'])\n",
      "check_in : in : New client Sam joined the queue\n",
      "deque(['John', 'Sam'])\n",
      "connect_to_associate : out : Remove client John, connecting to associate Emily\n",
      "deque(['Sam'])\n",
      "check_in : in : New client Danny joined the queue\n",
      "deque(['Sam', 'Danny'])\n",
      "connect_to_associate : out : Remove client Sam, connecting to associate Zoe\n",
      "connect_to_associate : out : Remove client Danny, connecting to associate Jack\n",
      "connect_to_associate : No mlre clients waiting\n",
      "deque([])\n",
      "check_in : in : New client John joined the queue\n",
      "deque(['John'])\n",
      "check_in : in : New client Sam joined the queue\n",
      "deque(['John', 'Sam'])\n",
      "connect_to_associate : out : Remove client John, connecting to associate Emily\n",
      "deque(['Sam'])\n",
      "check_in : in : New client Danny joined the queue\n",
      "deque(['Sam', 'Danny'])\n",
      "connect_to_associate : out : Remove client Sam, connecting to associate Zoe\n",
      "connect_to_associate : out : Remove client Danny, connecting to associate Jack\n",
      "connect_to_associate : No mlre clients waiting\n",
      "deque([])\n",
      "check_in : in : New client John joined the queue\n",
      "deque(['John'])\n",
      "check_in : in : New client Sam joined the queue\n",
      "deque(['John', 'Sam'])\n",
      "connect_to_associate : out : Remove client John, connecting to associate Emily\n",
      "deque(['Sam'])\n",
      "check_in : in : New client Danny joined the queue\n",
      "deque(['Sam', 'Danny'])\n",
      "connect_to_associate : out : Remove client Sam, connecting to associate Zoe\n",
      "connect_to_associate : out : Remove client Danny, connecting to associate Jack\n",
      "connect_to_associate : No mlre clients waiting\n",
      "deque([])\n",
      "check_in : in : New client John joined the queue\n",
      "deque(['John'])\n",
      "check_in : in : New client Sam joined the queue\n",
      "deque(['John', 'Sam'])\n",
      "connect_to_associate : out : Remove client John, connecting to associate Emily\n",
      "deque(['Sam'])\n",
      "check_in : in : New client Danny joined the queue\n",
      "deque(['Sam', 'Danny'])\n",
      "connect_to_associate : out : Remove client Sam, connecting to associate Zoe\n",
      "connect_to_associate : out : Remove client Danny, connecting to associate Jack\n",
      "connect_to_associate : No mlre clients waiting\n",
      "deque([])\n",
      "check_in : in : New client John joined the queue\n",
      "deque(['John'])\n",
      "check_in : in : New client Sam joined the queue\n",
      "deque(['John', 'Sam'])\n",
      "connect_to_associate : out : Remove client John, connecting to associate Emily\n",
      "deque(['Sam'])\n",
      "check_in : in : New client Danny joined the queue\n",
      "deque(['Sam', 'Danny'])\n",
      "connect_to_associate : out : Remove client Sam, connecting to associate Zoe\n",
      "connect_to_associate : out : Remove client Danny, connecting to associate Jack\n",
      "connect_to_associate : No mlre clients waiting\n",
      "deque([])\n",
      "check_in : in : New client John joined the queue\n",
      "deque(['John'])\n",
      "check_in : in : New client Sam joined the queue\n",
      "deque(['John', 'Sam'])\n",
      "connect_to_associate : out : Remove client John, connecting to associate Emily\n",
      "deque(['Sam'])\n",
      "check_in : in : New client Danny joined the queue\n",
      "deque(['Sam', 'Danny'])\n",
      "connect_to_associate : out : Remove client Sam, connecting to associate Zoe\n",
      "connect_to_associate : out : Remove client Danny, connecting to associate Jack\n",
      "connect_to_associate : No mlre clients waiting\n",
      "deque([])\n",
      "check_in : in : New client John joined the queue\n",
      "deque(['John'])\n",
      "check_in : in : New client Sam joined the queue\n",
      "deque(['John', 'Sam'])\n",
      "connect_to_associate : out : Remove client John, connecting to associate Emily\n",
      "deque(['Sam'])\n",
      "check_in : in : New client Danny joined the queue\n",
      "deque(['Sam', 'Danny'])\n",
      "connect_to_associate : out : Remove client Sam, connecting to associate Zoe\n",
      "connect_to_associate : out : Remove client Danny, connecting to associate Jack\n",
      "connect_to_associate : No mlre clients waiting\n",
      "deque([])\n",
      "check_in : in : New client John joined the queue\n",
      "deque(['John'])\n",
      "check_in : in : New client Sam joined the queue\n",
      "deque(['John', 'Sam'])\n",
      "connect_to_associate : out : Remove client John, connecting to associate Emily\n",
      "deque(['Sam'])\n",
      "check_in : in : New client Danny joined the queue\n",
      "deque(['Sam', 'Danny'])\n",
      "connect_to_associate : out : Remove client Sam, connecting to associate Zoe\n",
      "connect_to_associate : out : Remove client Danny, connecting to associate Jack\n",
      "connect_to_associate : No mlre clients waiting\n",
      "deque([])\n",
      "check_in : in : New client John joined the queue\n",
      "deque(['John'])\n",
      "check_in : in : New client Sam joined the queue\n",
      "deque(['John', 'Sam'])\n",
      "connect_to_associate : out : Remove client John, connecting to associate Emily\n",
      "deque(['Sam'])\n",
      "check_in : in : New client Danny joined the queue\n",
      "deque(['Sam', 'Danny'])\n",
      "connect_to_associate : out : Remove client Sam, connecting to associate Zoe\n",
      "connect_to_associate : out : Remove client Danny, connecting to associate Jack\n",
      "connect_to_associate : No mlre clients waiting\n",
      "deque([])\n",
      "check_in : in : New client John joined the queue\n",
      "deque(['John'])\n",
      "check_in : in : New client Sam joined the queue\n",
      "deque(['John', 'Sam'])\n",
      "connect_to_associate : out : Remove client John, connecting to associate Emily\n",
      "deque(['Sam'])\n",
      "check_in : in : New client Danny joined the queue\n",
      "deque(['Sam', 'Danny'])\n"
     ]
    },
    {
     "name": "stdout",
     "output_type": "stream",
     "text": [
      "connect_to_associate : out : Remove client Sam, connecting to associate Zoe\n",
      "connect_to_associate : out : Remove client Danny, connecting to associate Jack\n",
      "connect_to_associate : No mlre clients waiting\n",
      "deque([])\n",
      "check_in : in : New client John joined the queue\n",
      "deque(['John'])\n",
      "check_in : in : New client Sam joined the queue\n",
      "deque(['John', 'Sam'])\n",
      "connect_to_associate : out : Remove client John, connecting to associate Emily\n",
      "deque(['Sam'])\n",
      "check_in : in : New client Danny joined the queue\n",
      "deque(['Sam', 'Danny'])\n",
      "connect_to_associate : out : Remove client Sam, connecting to associate Zoe\n",
      "connect_to_associate : out : Remove client Danny, connecting to associate Jack\n",
      "connect_to_associate : No mlre clients waiting\n",
      "deque([])\n",
      "check_in : in : New client John joined the queue\n",
      "deque(['John'])\n",
      "check_in : in : New client Sam joined the queue\n",
      "deque(['John', 'Sam'])\n",
      "connect_to_associate : out : Remove client John, connecting to associate Emily\n",
      "deque(['Sam'])\n",
      "check_in : in : New client Danny joined the queue\n",
      "deque(['Sam', 'Danny'])\n",
      "connect_to_associate : out : Remove client Sam, connecting to associate Zoe\n",
      "connect_to_associate : out : Remove client Danny, connecting to associate Jack\n",
      "connect_to_associate : No mlre clients waiting\n",
      "deque([])\n",
      "check_in : in : New client John joined the queue\n",
      "deque(['John'])\n",
      "check_in : in : New client Sam joined the queue\n",
      "deque(['John', 'Sam'])\n",
      "connect_to_associate : out : Remove client John, connecting to associate Emily\n",
      "deque(['Sam'])\n",
      "check_in : in : New client Danny joined the queue\n",
      "deque(['Sam', 'Danny'])\n",
      "connect_to_associate : out : Remove client Sam, connecting to associate Zoe\n",
      "connect_to_associate : out : Remove client Danny, connecting to associate Jack\n",
      "connect_to_associate : No mlre clients waiting\n",
      "deque([])\n",
      "check_in : in : New client John joined the queue\n",
      "deque(['John'])\n",
      "check_in : in : New client Sam joined the queue\n",
      "deque(['John', 'Sam'])\n",
      "connect_to_associate : out : Remove client John, connecting to associate Emily\n",
      "deque(['Sam'])\n",
      "check_in : in : New client Danny joined the queue\n",
      "deque(['Sam', 'Danny'])\n",
      "connect_to_associate : out : Remove client Sam, connecting to associate Zoe\n",
      "connect_to_associate : out : Remove client Danny, connecting to associate Jack\n",
      "connect_to_associate : No mlre clients waiting\n",
      "deque([])\n",
      "check_in : in : New client John joined the queue\n",
      "deque(['John'])\n",
      "check_in : in : New client Sam joined the queue\n",
      "deque(['John', 'Sam'])\n",
      "connect_to_associate : out : Remove client John, connecting to associate Emily\n",
      "deque(['Sam'])\n",
      "check_in : in : New client Danny joined the queue\n",
      "deque(['Sam', 'Danny'])\n",
      "connect_to_associate : out : Remove client Sam, connecting to associate Zoe\n",
      "connect_to_associate : out : Remove client Danny, connecting to associate Jack\n",
      "connect_to_associate : No mlre clients waiting\n",
      "deque([])\n",
      "check_in : in : New client John joined the queue\n",
      "deque(['John'])\n",
      "check_in : in : New client Sam joined the queue\n",
      "deque(['John', 'Sam'])\n",
      "connect_to_associate : out : Remove client John, connecting to associate Emily\n",
      "deque(['Sam'])\n",
      "check_in : in : New client Danny joined the queue\n",
      "deque(['Sam', 'Danny'])\n",
      "connect_to_associate : out : Remove client Sam, connecting to associate Zoe\n",
      "connect_to_associate : out : Remove client Danny, connecting to associate Jack\n",
      "connect_to_associate : No mlre clients waiting\n",
      "deque([])\n",
      "check_in : in : New client John joined the queue\n",
      "deque(['John'])\n",
      "check_in : in : New client Sam joined the queue\n",
      "deque(['John', 'Sam'])\n",
      "connect_to_associate : out : Remove client John, connecting to associate Emily\n",
      "deque(['Sam'])\n",
      "check_in : in : New client Danny joined the queue\n",
      "deque(['Sam', 'Danny'])\n",
      "connect_to_associate : out : Remove client Sam, connecting to associate Zoe\n",
      "connect_to_associate : out : Remove client Danny, connecting to associate Jack\n",
      "connect_to_associate : No mlre clients waiting\n",
      "deque([])\n",
      "check_in : in : New client John joined the queue\n",
      "deque(['John'])\n",
      "check_in : in : New client Sam joined the queue\n",
      "deque(['John', 'Sam'])\n",
      "connect_to_associate : out : Remove client John, connecting to associate Emily\n",
      "deque(['Sam'])\n",
      "check_in : in : New client Danny joined the queue\n",
      "deque(['Sam', 'Danny'])\n",
      "connect_to_associate : out : Remove client Sam, connecting to associate Zoe\n",
      "connect_to_associate : out : Remove client Danny, connecting to associate Jack\n",
      "connect_to_associate : No mlre clients waiting\n",
      "deque([])\n",
      "check_in : in : New client John joined the queue\n",
      "deque(['John'])\n",
      "check_in : in : New client Sam joined the queue\n",
      "deque(['John', 'Sam'])\n",
      "connect_to_associate : out : Remove client John, connecting to associate Emily\n",
      "deque(['Sam'])\n",
      "check_in : in : New client Danny joined the queue\n",
      "deque(['Sam', 'Danny'])\n",
      "connect_to_associate : out : Remove client Sam, connecting to associate Zoe\n",
      "connect_to_associate : out : Remove client Danny, connecting to associate Jack\n",
      "connect_to_associate : No mlre clients waiting\n",
      "deque([])\n",
      "check_in : in : New client John joined the queue\n",
      "deque(['John'])\n",
      "check_in : in : New client Sam joined the queue\n",
      "deque(['John', 'Sam'])\n",
      "connect_to_associate : out : Remove client John, connecting to associate Emily\n",
      "deque(['Sam'])\n",
      "check_in : in : New client Danny joined the queue\n",
      "deque(['Sam', 'Danny'])\n",
      "connect_to_associate : out : Remove client Sam, connecting to associate Zoe\n",
      "connect_to_associate : out : Remove client Danny, connecting to associate Jack\n",
      "connect_to_associate : No mlre clients waiting\n",
      "deque([])\n",
      "check_in : in : New client John joined the queue\n",
      "deque(['John'])\n",
      "check_in : in : New client Sam joined the queue\n",
      "deque(['John', 'Sam'])\n",
      "connect_to_associate : out : Remove client John, connecting to associate Emily\n",
      "deque(['Sam'])\n",
      "check_in : in : New client Danny joined the queue\n",
      "deque(['Sam', 'Danny'])\n",
      "connect_to_associate : out : Remove client Sam, connecting to associate Zoe\n",
      "connect_to_associate : out : Remove client Danny, connecting to associate Jack\n",
      "connect_to_associate : No mlre clients waiting\n",
      "deque([])\n",
      "check_in : in : New client John joined the queue\n",
      "deque(['John'])\n",
      "check_in : in : New client Sam joined the queue\n",
      "deque(['John', 'Sam'])\n",
      "connect_to_associate : out : Remove client John, connecting to associate Emily\n",
      "deque(['Sam'])\n",
      "check_in : in : New client Danny joined the queue\n",
      "deque(['Sam', 'Danny'])\n",
      "connect_to_associate : out : Remove client Sam, connecting to associate Zoe\n",
      "connect_to_associate : out : Remove client Danny, connecting to associate Jack\n",
      "connect_to_associate : No mlre clients waiting\n",
      "deque([])\n",
      "check_in : in : New client John joined the queue\n",
      "deque(['John'])\n",
      "check_in : in : New client Sam joined the queue\n",
      "deque(['John', 'Sam'])\n",
      "connect_to_associate : out : Remove client John, connecting to associate Emily\n",
      "deque(['Sam'])\n",
      "check_in : in : New client Danny joined the queue\n",
      "deque(['Sam', 'Danny'])\n",
      "connect_to_associate : out : Remove client Sam, connecting to associate Zoe\n",
      "connect_to_associate : out : Remove client Danny, connecting to associate Jack\n",
      "connect_to_associate : No mlre clients waiting\n",
      "deque([])\n",
      "check_in : in : New client John joined the queue\n",
      "deque(['John'])\n",
      "check_in : in : New client Sam joined the queue\n",
      "deque(['John', 'Sam'])\n",
      "connect_to_associate : out : Remove client John, connecting to associate Emily\n",
      "deque(['Sam'])\n",
      "check_in : in : New client Danny joined the queue\n",
      "deque(['Sam', 'Danny'])\n",
      "connect_to_associate : out : Remove client Sam, connecting to associate Zoe\n",
      "connect_to_associate : out : Remove client Danny, connecting to associate Jack\n",
      "connect_to_associate : No mlre clients waiting\n",
      "deque([])\n",
      "check_in : in : New client John joined the queue\n",
      "deque(['John'])\n",
      "check_in : in : New client Sam joined the queue\n",
      "deque(['John', 'Sam'])\n",
      "connect_to_associate : out : Remove client John, connecting to associate Emily\n",
      "deque(['Sam'])\n",
      "check_in : in : New client Danny joined the queue\n",
      "deque(['Sam', 'Danny'])\n",
      "connect_to_associate : out : Remove client Sam, connecting to associate Zoe\n",
      "connect_to_associate : out : Remove client Danny, connecting to associate Jack\n",
      "connect_to_associate : No mlre clients waiting\n",
      "deque([])\n",
      "check_in : in : New client John joined the queue\n",
      "deque(['John'])\n",
      "check_in : in : New client Sam joined the queue\n",
      "deque(['John', 'Sam'])\n",
      "connect_to_associate : out : Remove client John, connecting to associate Emily\n",
      "deque(['Sam'])\n",
      "check_in : in : New client Danny joined the queue\n",
      "deque(['Sam', 'Danny'])\n"
     ]
    },
    {
     "name": "stdout",
     "output_type": "stream",
     "text": [
      "connect_to_associate : out : Remove client Sam, connecting to associate Zoe\n",
      "connect_to_associate : out : Remove client Danny, connecting to associate Jack\n",
      "connect_to_associate : No mlre clients waiting\n",
      "deque([])\n",
      "check_in : in : New client John joined the queue\n",
      "deque(['John'])\n",
      "check_in : in : New client Sam joined the queue\n",
      "deque(['John', 'Sam'])\n",
      "connect_to_associate : out : Remove client John, connecting to associate Emily\n",
      "deque(['Sam'])\n",
      "check_in : in : New client Danny joined the queue\n",
      "deque(['Sam', 'Danny'])\n",
      "connect_to_associate : out : Remove client Sam, connecting to associate Zoe\n",
      "connect_to_associate : out : Remove client Danny, connecting to associate Jack\n",
      "connect_to_associate : No mlre clients waiting\n",
      "deque([])\n",
      "check_in : in : New client John joined the queue\n",
      "deque(['John'])\n",
      "check_in : in : New client Sam joined the queue\n",
      "deque(['John', 'Sam'])\n",
      "connect_to_associate : out : Remove client John, connecting to associate Emily\n",
      "deque(['Sam'])\n",
      "check_in : in : New client Danny joined the queue\n",
      "deque(['Sam', 'Danny'])\n",
      "connect_to_associate : out : Remove client Sam, connecting to associate Zoe\n",
      "connect_to_associate : out : Remove client Danny, connecting to associate Jack\n",
      "connect_to_associate : No mlre clients waiting\n",
      "deque([])\n",
      "29.621011100010946\n"
     ]
    }
   ],
   "source": [
    "import inspect\n",
    "from collections import deque\n",
    "from timeit import timeit\n",
    "\n",
    "clients = deque()\n",
    "\n",
    "def check_in(client):\n",
    "    clients.append(client)\n",
    "    print(f\"{inspect.stack()[0][3]} : in : New client {client} joined the queue\")\n",
    "    \n",
    "    return True\n",
    "\n",
    "def connect_to_associate(associate):\n",
    "    if clients : \n",
    "        client_to_connect = clients.popleft()\n",
    "        print(f\"{inspect.stack()[0][3]} : out : Remove client {client_to_connect}, connecting to associate {associate}\")\n",
    "    else:\n",
    "        print(f\"{inspect.stack()[0][3]} : No mlre clients waiting\")\n",
    "        \n",
    "    return True\n",
    "\n",
    "def run_trials():\n",
    "    check_in(\"John\")\n",
    "    print(f\"{clients}\")\n",
    "    check_in(\"Sam\")\n",
    "    print(f\"{clients}\")\n",
    "    connect_to_associate(\"Emily\")\n",
    "    print(f\"{clients}\")\n",
    "    check_in(\"Danny\")\n",
    "    print(f\"{clients}\")\n",
    "    connect_to_associate(\"Zoe\")\n",
    "    connect_to_associate(\"Jack\")\n",
    "    connect_to_associate(\"Aaron\")\n",
    "    print(f\"{clients}\")\n",
    "    \n",
    "    return True\n",
    "\n",
    "print(timeit(lambda : run_trials(), number=200))\n"
   ]
  },
  {
   "cell_type": "markdown",
   "metadata": {},
   "source": [
    "#### Counter to get most_common"
   ]
  },
  {
   "cell_type": "code",
   "execution_count": 89,
   "metadata": {},
   "outputs": [
    {
     "name": "stdout",
     "output_type": "stream",
     "text": [
      "[(' ', 251), ('e', 163), ('i', 155), ('u', 131), ('t', 130), ('a', 124), ('s', 103), ('o', 97), ('m', 77), ('r', 74), ('n', 70), ('l', 62), ('d', 53), ('p', 46), ('c', 42), ('q', 39), (',', 35), ('v', 22), ('b', 16), ('f', 10), ('g', 8), ('.', 7), ('h', 6), ('x', 6), ('[', 6), (']', 6), ('N', 2), ('?', 2), ('3', 2), ('S', 1), ('U', 1), ('D', 1), ('Q', 1), ('A', 1), ('E', 1), ('T', 1), ('I', 1)]\n"
     ]
    }
   ],
   "source": [
    "from collections import Counter\n",
    "\n",
    "my_str = \"Sed ut perspiciatis, unde omnis iste natus error sit voluptatem accusantium doloremque laudantium, totam rem aperiam eaque ipsa, quae ab illo inventore veritatis et quasi architecto beatae vitae dicta sunt, explicabo. Nemo enim ipsam voluptatem, quia voluptas sit, aspernatur aut odit aut fugit, sed quia consequuntur magni dolores eos, qui ratione voluptatem sequi nesciunt, neque porro quisquam est, qui do lorem ipsum, quia dolor sit amet consectetur adipisci[ng] velit, sed quia non numquam [do] eius modi tempora inci[di]dunt, ut labore et dolore magnam aliquam quaerat voluptatem. Ut enim ad minima veniam, quis nostrum[d] exercitationem ullam corporis suscipit laboriosam, nisi ut aliquid ex ea commodi consequatur? [D]Quis autem vel eum iure reprehenderit, qui in ea voluptate velit esse, quam nihil molestiae consequatur, vel illum, qui dolorem eum fugiat, quo voluptas nulla pariatur? [33] At vero eos et accusamus et iusto odio dignissimos ducimus, qui blanditiis praesentium voluptatum deleniti atque corrupti, quos dolores et quas molestias excepturi sint, obcaecati cupiditate non provident, similique sunt in culpa, qui officia deserunt mollitia animi, id est laborum et dolorum fuga. Et harum quidem rerum facilis est et expedita distinctio. Nam libero tempore, cum soluta nobis est eligendi optio, cumque nihil impedit, quo minus id, quod maxime placeat, facere possimus, omnis voluptas assumenda est, omnis dolor repellendus. Temporibus autem quibusdam et aut officiis debitis aut rerum necessitatibus saepe eveniet, ut et voluptates repudiandae sint et molestiae non recusandae. Itaque earum rerum hic tenetur a sapiente delectus, ut aut reiciendis voluptatibus maiores alias consequatur aut perferendis doloribus asperiores repellat.\"\n",
    "\n",
    "counter = Counter(my_str)\n",
    "print(counter.most_common())"
   ]
  },
  {
   "cell_type": "markdown",
   "metadata": {},
   "source": [
    "# Fast Bar\n",
    "#### https://github.com/fastai/fastprogress"
   ]
  },
  {
   "cell_type": "code",
   "execution_count": 90,
   "metadata": {},
   "outputs": [
    {
     "name": "stdout",
     "output_type": "stream",
     "text": [
      "Note: you may need to restart the kernel to use updated packages.Collecting fastprogress\n",
      "\n",
      "  Downloading fastprogress-1.0.0-py3-none-any.whl (12 kB)"
     ]
    },
    {
     "name": "stderr",
     "output_type": "stream",
     "text": [
      "WARNING: You are using pip version 21.0.1; however, version 21.1.2 is available.\n",
      "You should consider upgrading via the 'c:\\rajesh\\jupyter\\venv\\scripts\\python.exe -m pip install --upgrade pip' command.\n"
     ]
    },
    {
     "name": "stdout",
     "output_type": "stream",
     "text": [
      "\n",
      "Requirement already satisfied: numpy in c:\\rajesh\\jupyter\\venv\\lib\\site-packages (from fastprogress) (1.19.4)\n",
      "Installing collected packages: fastprogress\n",
      "Successfully installed fastprogress-1.0.0\n"
     ]
    }
   ],
   "source": [
    "pip install fastprogress"
   ]
  },
  {
   "cell_type": "markdown",
   "metadata": {},
   "source": [
    "Example 1\n",
    "\n",
    "Here is a simple example. Each bar takes an iterator as a main argument, and we can specify the second bar is nested with the first by adding the argument parent=mb. We can then:\n",
    "\n",
    "    add a comment in the first bar by changing the value of mb.main_bar.comment\n",
    "    add a comment in the first bar by changing the value of mb.child.comment\n",
    "    write a line between the two bars with mb.write('message')\n"
   ]
  },
  {
   "cell_type": "code",
   "execution_count": 98,
   "metadata": {},
   "outputs": [
    {
     "data": {
      "text/html": [
       "Finished loop 0<p>Finished loop 1<p>Finished loop 2<p>Finished loop 3<p>Finished loop 4<p>Finished loop 5<p>Finished loop 6<p>Finished loop 7<p>Finished loop 8<p>Finished loop 9"
      ],
      "text/plain": [
       "<IPython.core.display.HTML object>"
      ]
     },
     "metadata": {},
     "output_type": "display_data"
    }
   ],
   "source": [
    "from fastprogress.fastprogress import master_bar, progress_bar\n",
    "\n",
    "from time import sleep\n",
    "\n",
    "mb = master_bar(range(10))\n",
    "mb.main_bar.comment = f\"Master/Main Bar Statistics\"\n",
    "\n",
    "for i in mb :\n",
    "    for j in progress_bar(range(100),parent=mb):\n",
    "        sleep(0.01)\n",
    "        mb.child.comment = f\"Progress Bar Statistics\"\n",
    "    mb.write(f\"Finished loop {i}\")"
   ]
  },
  {
   "cell_type": "markdown",
   "metadata": {},
   "source": [
    "Example 2\n",
    "\n",
    "To add a graph that get plots as the training goes, just use the command mb.update_graphs. It will create the figure on its first use. Arguments are:\n",
    "\n",
    "    graphs: a list of graphs to be plotted (each of the form [x,y])\n",
    "    x_bounds: the min and max values of the x axis (if None, it will those given by the graphs)\n",
    "    y_bounds: the min and max values of the y axis (if None, it will those given by the graphs)\n",
    "\n",
    "Note that it's best to specify x_bounds and y_bounds, otherwise the box will change as the loop progresses.\n",
    "\n",
    "Additionally, we can give the label of each graph via the command mb.names (should have as many elements as the graphs argument)."
   ]
  },
  {
   "cell_type": "code",
   "execution_count": 105,
   "metadata": {},
   "outputs": [
    {
     "data": {
      "text/html": [
       "Finished loop 0.<p>Finished loop 1.<p>Finished loop 2.<p>Finished loop 3.<p>Finished loop 4.<p>Finished loop 5.<p>Finished loop 6.<p>Finished loop 7.<p>Finished loop 8.<p>Finished loop 9."
      ],
      "text/plain": [
       "<IPython.core.display.HTML object>"
      ]
     },
     "metadata": {},
     "output_type": "display_data"
    },
    {
     "data": {
      "image/png": "[encoded data removed]",
      "text/plain": [
       "<Figure size 432x288 with 1 Axes>"
      ]
     },
     "metadata": {},
     "output_type": "display_data"
    }
   ],
   "source": [
    "from fastprogress.fastprogress import master_bar, progress_bar\n",
    "from time import sleep\n",
    "import numpy as np\n",
    "\n",
    "mb=master_bar(range(10))\n",
    "mb.names=['cos','sin']\n",
    "mb.main_bar.comment = f\"Master Bar Statistics\"\n",
    " \n",
    "for i in mb:\n",
    "    for j in progress_bar(range(100),parent=mb):\n",
    "        if j%10 == 0:\n",
    "            k = 100 * i + j\n",
    "            x = np.arange(0, 2*k*np.pi/1000, 0.01)\n",
    "            y1, y2 = np.cos(x), np.sin(x)\n",
    "            graphs = [[x,y1], [x,y2]]\n",
    "            x_bounds = [0, 2*np.pi]\n",
    "            y_bounds = [-1,1]\n",
    "            mb.update_graph(graphs, x_bounds, y_bounds)\n",
    "            mb.child.comment = f\"Progress Bar Statistics\"\n",
    "    mb.write(f'Finished loop {i}.')"
   ]
  },
  {
   "cell_type": "markdown",
   "metadata": {},
   "source": [
    "## Deep copy"
   ]
  },
  {
   "cell_type": "code",
   "execution_count": 11,
   "metadata": {},
   "outputs": [
    {
     "name": "stdout",
     "output_type": "stream",
     "text": [
      "Original List : \t\t [[1, 2], [3, 4]]\n",
      "Directly assigned List : \t [[1, 2], [3, 4]]\n",
      "Shallow copy List : \t\t [[1, 2], [3, 4]]\n",
      "Deep copy List : \t\t [[1, 2], [3, 4]]\n",
      "Directly assigned List : \t [[10, 2], [3, 4]]\n",
      "Shallow copy List : \t\t [[10, 2], [3, 4]]\n",
      "Deep copy List : \t\t [[1, 2], [3, 4]]\n"
     ]
    }
   ],
   "source": [
    "from copy import copy, deepcopy\n",
    "\n",
    "orig_list = [[1,2],[3,4]]\n",
    "print(f\"Original List : \\t\\t {orig_list}\")\n",
    "\n",
    "direct_assign_list = orig_list\n",
    "print(f\"Directly assigned List : \\t {direct_assign_list}\")\n",
    "\n",
    "shallow_copy_list = copy(orig_list)\n",
    "print(f\"Shallow copy List : \\t\\t {shallow_copy_list}\")\n",
    "\n",
    "deep_copy_list=deepcopy(orig_list)\n",
    "print(f\"Deep copy List : \\t\\t {deep_copy_list}\")\n",
    "\n",
    "# Change value\n",
    "orig_list[0][0] = 10\n",
    "\n",
    "print(f\"Directly assigned List : \\t {direct_assign_list}\")\n",
    "print(f\"Shallow copy List : \\t\\t {shallow_copy_list}\")\n",
    "print(f\"Deep copy List : \\t\\t {deep_copy_list}\")\n"
   ]
  },
  {
   "cell_type": "markdown",
   "metadata": {},
   "source": [
    "### Deduplicate using dict comprehension"
   ]
  },
  {
   "cell_type": "code",
   "execution_count": 25,
   "metadata": {},
   "outputs": [
    {
     "name": "stdout",
     "output_type": "stream",
     "text": [
      "['Dana', 'Ana', 'Sara', 'Amber', 'Dana', 'Ana', 'Sara']\n",
      "{'Ana', 'Amber', 'Dana', 'Sara'}\n",
      "{'Dana': 5, 'Ana': 6, 'Sara': 8, 'Amber': 3}\n"
     ]
    }
   ],
   "source": [
    "names = ['Dana','Ana','Sara','Amber','Joyce','Dana','Ana','Tim','Sara']\n",
    "\n",
    "\n",
    "print([name for name in names if 'a' in name.lower()])\n",
    "print({name for name in names if 'a' in name.lower()})\n",
    "print({name:index for index,name in enumerate(names) if 'a' in name.lower()})"
   ]
  },
  {
   "cell_type": "markdown",
   "metadata": {},
   "source": [
    "### Bool inherits int"
   ]
  },
  {
   "cell_type": "code",
   "execution_count": 29,
   "metadata": {},
   "outputs": [
    {
     "name": "stdout",
     "output_type": "stream",
     "text": [
      "True\n",
      "2\n",
      "1\n"
     ]
    },
    {
     "ename": "ZeroDivisionError",
     "evalue": "division by zero",
     "output_type": "error",
     "traceback": [
      "\u001b[1;31m---------------------------------------------------------------------------\u001b[0m",
      "\u001b[1;31mZeroDivisionError\u001b[0m                         Traceback (most recent call last)",
      "\u001b[1;32m<ipython-input-29-a12ff3bf41bd>\u001b[0m in \u001b[0;36m<module>\u001b[1;34m\u001b[0m\n\u001b[0;32m      2\u001b[0m \u001b[0mprint\u001b[0m\u001b[1;33m(\u001b[0m\u001b[1;32mTrue\u001b[0m\u001b[1;33m+\u001b[0m\u001b[1;32mTrue\u001b[0m\u001b[1;33m)\u001b[0m\u001b[1;33m\u001b[0m\u001b[1;33m\u001b[0m\u001b[0m\n\u001b[0;32m      3\u001b[0m \u001b[0mprint\u001b[0m\u001b[1;33m(\u001b[0m\u001b[1;32mFalse\u001b[0m\u001b[1;33m+\u001b[0m\u001b[1;32mTrue\u001b[0m\u001b[1;33m)\u001b[0m\u001b[1;33m\u001b[0m\u001b[1;33m\u001b[0m\u001b[0m\n\u001b[1;32m----> 4\u001b[1;33m \u001b[0mprint\u001b[0m\u001b[1;33m(\u001b[0m\u001b[1;32mTrue\u001b[0m\u001b[1;33m/\u001b[0m\u001b[1;32mFalse\u001b[0m\u001b[1;33m)\u001b[0m\u001b[1;33m\u001b[0m\u001b[1;33m\u001b[0m\u001b[0m\n\u001b[0m",
      "\u001b[1;31mZeroDivisionError\u001b[0m: division by zero"
     ]
    }
   ],
   "source": [
    "print(True)\n",
    "print(True+True)\n",
    "print(False+True)\n",
    "print(True/False)"
   ]
  },
  {
   "cell_type": "markdown",
   "metadata": {},
   "source": [
    "### Standard error"
   ]
  },
  {
   "cell_type": "code",
   "execution_count": 69,
   "metadata": {},
   "outputs": [
    {
     "name": "stderr",
     "output_type": "stream",
     "text": [
      "This goes to standard error\n",
      "Cannot access file C:\\rajesh\\python3TRG\\jupyter\\myWork\\err\n"
     ]
    }
   ],
   "source": [
    "import sys\n",
    "\n",
    "print(\"This goes to standard error\", file=sys.stderr)\n",
    "!more err"
   ]
  },
  {
   "cell_type": "code",
   "execution_count": 1,
   "metadata": {},
   "outputs": [
    {
     "name": "stderr",
     "output_type": "stream",
     "text": [
      "INFO:root:In God We Trust !\n"
     ]
    }
   ],
   "source": [
    "import logging as logger\n",
    "logger.basicConfig(level=logger.DEBUG)\n",
    "logger.info(\"In God We Trust !\")"
   ]
  },
  {
   "cell_type": "markdown",
   "metadata": {},
   "source": [
    "### itertools slice"
   ]
  },
  {
   "cell_type": "code",
   "execution_count": 15,
   "metadata": {},
   "outputs": [],
   "source": [
    "from itertools import cycle, islice\n",
    "\n",
    "colours=[\"Red\",\"Orange\",\"Yellow\",\"Green\",\"Blue\",\"Indigo\",\"Violet\"]\n",
    "\n",
    "cycle_it=cycle(colours)"
   ]
  },
  {
   "cell_type": "code",
   "execution_count": 16,
   "metadata": {},
   "outputs": [
    {
     "data": {
      "text/plain": [
       "'Red'"
      ]
     },
     "execution_count": 16,
     "metadata": {},
     "output_type": "execute_result"
    }
   ],
   "source": [
    "next(cycle_it)"
   ]
  },
  {
   "cell_type": "code",
   "execution_count": 17,
   "metadata": {},
   "outputs": [
    {
     "data": {
      "text/plain": [
       "<itertools.islice at 0x7fa165241d60>"
      ]
     },
     "execution_count": 17,
     "metadata": {},
     "output_type": "execute_result"
    }
   ],
   "source": [
    "islice(cycle_it,2)"
   ]
  },
  {
   "cell_type": "code",
   "execution_count": 18,
   "metadata": {},
   "outputs": [
    {
     "data": {
      "text/plain": [
       "['Orange', 'Yellow']"
      ]
     },
     "execution_count": 18,
     "metadata": {},
     "output_type": "execute_result"
    }
   ],
   "source": [
    "list(islice(cycle_it,2))"
   ]
  },
  {
   "cell_type": "markdown",
   "metadata": {},
   "source": [
    "### mock.unittest patch\n",
    "#### Override temporarily"
   ]
  },
  {
   "cell_type": "code",
   "execution_count": 5,
   "metadata": {},
   "outputs": [
    {
     "name": "stdout",
     "output_type": "stream",
     "text": [
      "TEST\n",
      "STG\n",
      "TEST\n"
     ]
    }
   ],
   "source": [
    "import os\n",
    "from unittest.mock import patch\n",
    "\n",
    "os.environ[\"ENV\"] = \"TEST\"\n",
    "print(os.environ[\"ENV\"])\n",
    "\n",
    "with patch.dict(os.environ, {'ENV': 'STG'}):\n",
    "    print(os.environ[\"ENV\"])\n",
    "    \n",
    "print(os.environ[\"ENV\"])"
   ]
  },
  {
   "cell_type": "markdown",
   "metadata": {},
   "source": [
    "### List Comprehension"
   ]
  },
  {
   "cell_type": "code",
   "execution_count": 13,
   "metadata": {},
   "outputs": [
    {
     "name": "stdout",
     "output_type": "stream",
     "text": [
      "[[0, 1, 2], [0, 1, 2], [0, 1, 2], [0, 1, 2], [0, 1, 2], [0, 1, 2], [0, 1, 2], [0, 1, 2], [0, 1, 2], [0, 1, 2]]\n"
     ]
    }
   ],
   "source": [
    "my_list_outer=[]\n",
    "\n",
    "for elem in range(0,10):\n",
    "    my_list_inner=[]\n",
    "    for sub_elem in range(0,3) :\n",
    "        my_list_inner.append(sub_elem)\n",
    "        \n",
    "    my_list_outer.append(my_list_inner)\n",
    "\n",
    "print(my_list_outer)"
   ]
  },
  {
   "cell_type": "code",
   "execution_count": 14,
   "metadata": {},
   "outputs": [
    {
     "data": {
      "text/plain": [
       "[0, 1, 2]"
      ]
     },
     "execution_count": 14,
     "metadata": {},
     "output_type": "execute_result"
    }
   ],
   "source": [
    "[my_list_inner_elem for my_list_inner_elem in range(0,3)]"
   ]
  },
  {
   "cell_type": "code",
   "execution_count": 17,
   "metadata": {
    "scrolled": true
   },
   "outputs": [
    {
     "ename": "NameError",
     "evalue": "name 'my_list_inner_elem' is not defined",
     "output_type": "error",
     "traceback": [
      "\u001b[0;31m---------------------------------------------------------------------------\u001b[0m",
      "\u001b[0;31mNameError\u001b[0m                                 Traceback (most recent call last)",
      "\u001b[0;32m/tmp/ipykernel_12/4027856866.py\u001b[0m in \u001b[0;36m<module>\u001b[0;34m\u001b[0m\n\u001b[0;32m----> 1\u001b[0;31m \u001b[0;34m[\u001b[0m\u001b[0mmy_list_outer_elem\u001b[0m \u001b[0;32mfor\u001b[0m \u001b[0mmy_list_outer_elem\u001b[0m \u001b[0;32min\u001b[0m \u001b[0mmy_list_inner_elem\u001b[0m \u001b[0;32mfor\u001b[0m \u001b[0mmy_list_inner_elem\u001b[0m \u001b[0;32min\u001b[0m \u001b[0mrange\u001b[0m\u001b[0;34m(\u001b[0m\u001b[0;36m0\u001b[0m\u001b[0;34m,\u001b[0m\u001b[0;36m3\u001b[0m\u001b[0;34m)\u001b[0m\u001b[0;34m]\u001b[0m\u001b[0;34m\u001b[0m\u001b[0;34m\u001b[0m\u001b[0m\n\u001b[0m",
      "\u001b[0;31mNameError\u001b[0m: name 'my_list_inner_elem' is not defined"
     ]
    }
   ],
   "source": [
    "[my_list_outer_elem for my_list_outer_elem in my_list_inner_elem ]"
   ]
  },
  {
   "cell_type": "code",
   "execution_count": 18,
   "metadata": {},
   "outputs": [
    {
     "data": {
      "text/plain": [
       "[1, 2, 3, 4, 5, 6, 7, 8, 9]"
      ]
     },
     "execution_count": 18,
     "metadata": {},
     "output_type": "execute_result"
    }
   ],
   "source": [
    "lists = [[1, 2, 3], [4, 5, 6, 7], [8, 9]]\n",
    "[elem for sublist in lists for elem in sublist]"
   ]
  },
  {
   "cell_type": "code",
   "execution_count": 22,
   "metadata": {},
   "outputs": [
    {
     "name": "stdout",
     "output_type": "stream",
     "text": [
      "19,187,128\n"
     ]
    }
   ],
   "source": [
    "from random import randint\n",
    "r, g, b = [randint(0, 255) for _ in range(3)]\n",
    "print(f\"{r},{g},{b}\")"
   ]
  },
  {
   "cell_type": "markdown",
   "metadata": {},
   "source": [
    "#### Password generator using list comprehension"
   ]
  },
  {
   "cell_type": "code",
   "execution_count": 30,
   "metadata": {},
   "outputs": [
    {
     "data": {
      "text/plain": [
       "'9yfFz5Sbb:,Dyib#'"
      ]
     },
     "execution_count": 30,
     "metadata": {},
     "output_type": "execute_result"
    }
   ],
   "source": [
    "from string import ascii_lowercase, ascii_uppercase, punctuation, digits\n",
    "from random import choice\n",
    "\n",
    "\"\".join([choice(ascii_lowercase+ascii_uppercase+punctuation+digits) for _ in range(0,16)])"
   ]
  },
  {
   "cell_type": "markdown",
   "metadata": {},
   "source": [
    "### argparse"
   ]
  },
  {
   "cell_type": "code",
   "execution_count": 38,
   "metadata": {},
   "outputs": [
    {
     "data": {
      "text/plain": [
       "_StoreAction(option_strings=['-s', '--snippet'], dest='snippet', nargs=None, const=None, default=None, type=<class 'str'>, choices=None, help='Code snippet', metavar=None)"
      ]
     },
     "execution_count": 38,
     "metadata": {},
     "output_type": "execute_result"
    }
   ],
   "source": [
    "import argparse\n",
    "\n",
    "parser = argparse.ArgumentParser(description=\"Create a Carbon Code Image\")\n",
    "\n",
    "group = parser.add_mutually_exclusive_group(required=True)\n",
    "\n",
    "group.add_argument(\"-f\", \"--file\", type=str, help=\"File with code\")\n",
    "group.add_argument(\"-c\", \"--clipboard\", action=\"store_true\", help=\"Use code on clipboard\")\n",
    "group.add_argument(\"-s\", \"--snippet\", type=str, help=\"Code snippet\")\n",
    "\n",
    "# python script.py\n",
    "\n",
    "# python script.py -c -f script.py"
   ]
  },
  {
   "cell_type": "markdown",
   "metadata": {},
   "source": [
    "### Ellipses Object\n",
    "https://florian-dahlitz.de/articles/what-is-pythons-ellipsis-object"
   ]
  },
  {
   "cell_type": "code",
   "execution_count": 39,
   "metadata": {},
   "outputs": [
    {
     "data": {
      "text/plain": [
       "Ellipsis"
      ]
     },
     "execution_count": 39,
     "metadata": {},
     "output_type": "execute_result"
    }
   ],
   "source": [
    "...\n"
   ]
  },
  {
   "cell_type": "code",
   "execution_count": 41,
   "metadata": {},
   "outputs": [
    {
     "data": {
      "text/plain": [
       "Ellipsis"
      ]
     },
     "execution_count": 41,
     "metadata": {},
     "output_type": "execute_result"
    }
   ],
   "source": [
    "Ellipsis"
   ]
  },
  {
   "cell_type": "code",
   "execution_count": 46,
   "metadata": {},
   "outputs": [],
   "source": [
    "def return_tuple_two()-> tuple[int,int]:\n",
    "    pass\n",
    "\n",
    "def return_tuple_multi()-> tuple[int,...]:\n",
    "    pass\n",
    "\n",
    "from typing import Callable\n",
    "def return_callable()-> Callable[..., int]:\n",
    "    pass"
   ]
  },
  {
   "cell_type": "markdown",
   "metadata": {},
   "source": [
    "#### Drop-in Replacement for the Pass-Keyword"
   ]
  },
  {
   "cell_type": "code",
   "execution_count": 49,
   "metadata": {},
   "outputs": [],
   "source": [
    "def my_function_pass():\n",
    "    pass\n",
    "\n",
    "def my_function_num():\n",
    "    1\n",
    "\n",
    "def my_function_ellipsis():\n",
    "    ..."
   ]
  },
  {
   "cell_type": "markdown",
   "metadata": {},
   "source": [
    "### Specify the most general type for inputs and the most specific type for outputs."
   ]
  },
  {
   "cell_type": "code",
   "execution_count": 52,
   "metadata": {},
   "outputs": [
    {
     "name": "stdout",
     "output_type": "stream",
     "text": [
      "Collecting mypy\n",
      "  Downloading mypy-0.910-cp39-cp39-manylinux2010_x86_64.whl (23.2 MB)\n",
      "\u001b[K     |████████████████████████████████| 23.2 MB 22 kB/s  eta 0:00:01    |█████▊                          | 4.1 MB 773 kB/s eta 0:00:25     |███████████████                 | 10.8 MB 4.9 MB/s eta 0:00:03     |███████████████▉                | 11.4 MB 4.9 MB/s eta 0:00:03     |███████████████████████████▉    | 20.2 MB 9.5 MB/s eta 0:00:01     |███████████████████████████████▍| 22.8 MB 9.5 MB/s eta 0:00:01\n",
      "\u001b[?25hCollecting toml\n",
      "  Downloading toml-0.10.2-py2.py3-none-any.whl (16 kB)\n",
      "Collecting mypy-extensions<0.5.0,>=0.4.3\n",
      "  Downloading mypy_extensions-0.4.3-py2.py3-none-any.whl (4.5 kB)\n",
      "Collecting typing-extensions>=3.7.4\n",
      "  Downloading typing_extensions-3.10.0.2-py3-none-any.whl (26 kB)\n",
      "Installing collected packages: typing-extensions, toml, mypy-extensions, mypy\n",
      "Successfully installed mypy-0.910 mypy-extensions-0.4.3 toml-0.10.2 typing-extensions-3.10.0.2\n",
      "\u001b[33mWARNING: Running pip as the 'root' user can result in broken permissions and conflicting behaviour with the system package manager. It is recommended to use a virtual environment instead: https://pip.pypa.io/warnings/venv\u001b[0m\n",
      "Note: you may need to restart the kernel to use updated packages.\n"
     ]
    }
   ],
   "source": [
    "pip install mypy"
   ]
  },
  {
   "cell_type": "code",
   "execution_count": 3,
   "metadata": {},
   "outputs": [
    {
     "name": "stdout",
     "output_type": "stream",
     "text": [
      "18\n"
     ]
    }
   ],
   "source": [
    "from typing import List\n",
    "\n",
    "def sum_of_elements(elements: List[int])-> int:\n",
    "    sum_el = 0\n",
    "    \n",
    "    for element in elements:\n",
    "        sum_el += element\n",
    "        \n",
    "    return sum_el\n",
    "\n",
    "print(sum_of_elements((9,9)))\n",
    "\n"
   ]
  },
  {
   "cell_type": "code",
   "execution_count": 2,
   "metadata": {},
   "outputs": [
    {
     "name": "stdout",
     "output_type": "stream",
     "text": [
      "18\n"
     ]
    }
   ],
   "source": [
    "from typing import Iterable\n",
    "\n",
    "def sum_of_elements(elements: Iterable[int])-> int:\n",
    "    sum_el = 0\n",
    "    \n",
    "    for element in elements:\n",
    "        sum_el += element\n",
    "        \n",
    "    return sum_el\n",
    "\n",
    "print(sum_of_elements((9,9)))"
   ]
  },
  {
   "cell_type": "markdown",
   "metadata": {},
   "source": [
    "## Date formatting using f strings"
   ]
  },
  {
   "cell_type": "code",
   "execution_count": 5,
   "metadata": {},
   "outputs": [
    {
     "name": "stdout",
     "output_type": "stream",
     "text": [
      "Unformatted : 2021-10-06 01:35:33.588126\n",
      "Formatted YYYY-MM-DD :  2021-10-06\n",
      "Formatted YYYY :  2021\n"
     ]
    }
   ],
   "source": [
    "import datetime\n",
    "\n",
    "today = datetime.datetime.today()\n",
    "print(f\"Unformatted : {today}\")\n",
    "\n",
    "today_ddmmyyyy = f\"{today:%Y-%m-%d}\"\n",
    "print(f\"Formatted YYYY-MM-DD :  {today_ddmmyyyy}\")\n",
    "\n",
    "today_yyyy = f\"{today:%Y}\"\n",
    "print(f\"Formatted YYYY :  {today_yyyy}\")"
   ]
  },
  {
   "cell_type": "markdown",
   "metadata": {},
   "source": [
    "## why you shouldn't use lists as default values\n",
    "#### https://twitter.com/mathsppblog/status/1445327870218444804?t=VIsssw0jYo0-UVQoCC4IIQ&s=03"
   ]
  },
  {
   "cell_type": "code",
   "execution_count": 7,
   "metadata": {},
   "outputs": [],
   "source": [
    "def my_append(elem, l=[]):\n",
    "    l.append(elem)\n",
    "    \n",
    "    return l\n"
   ]
  },
  {
   "cell_type": "code",
   "execution_count": 9,
   "metadata": {},
   "outputs": [
    {
     "data": {
      "text/plain": [
       "'my_append'"
      ]
     },
     "execution_count": 9,
     "metadata": {},
     "output_type": "execute_result"
    }
   ],
   "source": [
    "my_append.__name__"
   ]
  },
  {
   "cell_type": "code",
   "execution_count": 8,
   "metadata": {},
   "outputs": [
    {
     "data": {
      "text/plain": [
       "([],)"
      ]
     },
     "execution_count": 8,
     "metadata": {},
     "output_type": "execute_result"
    }
   ],
   "source": [
    "my_append.__defaults__"
   ]
  },
  {
   "cell_type": "code",
   "execution_count": 15,
   "metadata": {},
   "outputs": [
    {
     "data": {
      "text/plain": [
       "140690452501504"
      ]
     },
     "execution_count": 15,
     "metadata": {},
     "output_type": "execute_result"
    }
   ],
   "source": [
    "id(my_append.__defaults__)"
   ]
  },
  {
   "cell_type": "code",
   "execution_count": 14,
   "metadata": {},
   "outputs": [
    {
     "data": {
      "text/plain": [
       "140690452163776"
      ]
     },
     "execution_count": 14,
     "metadata": {},
     "output_type": "execute_result"
    }
   ],
   "source": [
    "id(my_append.__defaults__[0])"
   ]
  },
  {
   "cell_type": "code",
   "execution_count": 16,
   "metadata": {},
   "outputs": [
    {
     "data": {
      "text/plain": [
       "['IGWT']"
      ]
     },
     "execution_count": 16,
     "metadata": {},
     "output_type": "execute_result"
    }
   ],
   "source": [
    "my_append('IGWT')"
   ]
  },
  {
   "cell_type": "code",
   "execution_count": 17,
   "metadata": {},
   "outputs": [
    {
     "data": {
      "text/plain": [
       "['IGWT', 'IGWT']"
      ]
     },
     "execution_count": 17,
     "metadata": {},
     "output_type": "execute_result"
    }
   ],
   "source": [
    "my_append('IGWT')"
   ]
  },
  {
   "cell_type": "code",
   "execution_count": 18,
   "metadata": {},
   "outputs": [
    {
     "data": {
      "text/plain": [
       "['IGWT', 'IGWT', 'IGWT']"
      ]
     },
     "execution_count": 18,
     "metadata": {},
     "output_type": "execute_result"
    }
   ],
   "source": [
    "my_append('IGWT')"
   ]
  },
  {
   "cell_type": "code",
   "execution_count": 19,
   "metadata": {},
   "outputs": [
    {
     "data": {
      "text/plain": [
       "['IGWT', 'IGWT', 'IGWT', 'IGWT']"
      ]
     },
     "execution_count": 19,
     "metadata": {},
     "output_type": "execute_result"
    }
   ],
   "source": [
    "my_append('IGWT')"
   ]
  },
  {
   "cell_type": "code",
   "execution_count": 20,
   "metadata": {},
   "outputs": [
    {
     "data": {
      "text/plain": [
       "140690452163776"
      ]
     },
     "execution_count": 20,
     "metadata": {},
     "output_type": "execute_result"
    }
   ],
   "source": [
    "id(my_append.__defaults__[0])"
   ]
  },
  {
   "cell_type": "markdown",
   "metadata": {},
   "source": [
    "## @property"
   ]
  },
  {
   "cell_type": "markdown",
   "metadata": {},
   "source": [
    "### Without @property"
   ]
  },
  {
   "cell_type": "code",
   "execution_count": 22,
   "metadata": {},
   "outputs": [],
   "source": [
    "class Celsius:\n",
    "    def __init__(self, temp_in_celsius: float = 0)-> None:\n",
    "        self.temp_in_celsius = temp_in_celsius\n",
    "        \n",
    "    def to_fahrenheit(self)-> float :\n",
    "        return (self.temp_in_celsius * 1.8)+32"
   ]
  },
  {
   "cell_type": "code",
   "execution_count": 23,
   "metadata": {},
   "outputs": [
    {
     "name": "stdout",
     "output_type": "stream",
     "text": [
      "37\n",
      "98.60000000000001\n"
     ]
    }
   ],
   "source": [
    "human = Celsius(37)\n",
    "\n",
    "# human.temp_in_celsius = 37\n",
    "\n",
    "print(human.temp_in_celsius)\n",
    "\n",
    "print(human.to_fahrenheit())"
   ]
  },
  {
   "cell_type": "markdown",
   "metadata": {},
   "source": [
    "### Without @property - with getters and setters"
   ]
  },
  {
   "cell_type": "code",
   "execution_count": 28,
   "metadata": {},
   "outputs": [],
   "source": [
    "class Celsius:\n",
    "    def __init__(self, temp_in_celsius: float)-> None:\n",
    "        self.set_temperature(temp_in_celsius)\n",
    "        \n",
    "    def to_fahrenheit(self)-> float :\n",
    "        return (self._temp_in_celsius * 1.8)+32\n",
    "    \n",
    "    # Getter\n",
    "    def get_temperature(self)-> float:\n",
    "        return self._temp_in_celsius\n",
    "    \n",
    "    # Setter\n",
    "    def set_temperature(self, value)-> None:\n",
    "        if value < -273.15:\n",
    "            raise ValueError(\"Temperature below -273.15 is not possible\")\n",
    "            \n",
    "        self._temp_in_celsius = value\n",
    "        "
   ]
  },
  {
   "cell_type": "code",
   "execution_count": 34,
   "metadata": {},
   "outputs": [
    {
     "name": "stdout",
     "output_type": "stream",
     "text": [
      "37\n",
      "98.60000000000001\n",
      "300\n",
      "572.0\n"
     ]
    },
    {
     "ename": "ValueError",
     "evalue": "Temperature below -273.15 is not possible",
     "output_type": "error",
     "traceback": [
      "\u001b[0;31m---------------------------------------------------------------------------\u001b[0m",
      "\u001b[0;31mValueError\u001b[0m                                Traceback (most recent call last)",
      "\u001b[0;32m/tmp/ipykernel_12/655572446.py\u001b[0m in \u001b[0;36m<module>\u001b[0;34m\u001b[0m\n\u001b[1;32m     11\u001b[0m \u001b[0mprint\u001b[0m\u001b[0;34m(\u001b[0m\u001b[0mhuman\u001b[0m\u001b[0;34m.\u001b[0m\u001b[0mto_fahrenheit\u001b[0m\u001b[0;34m(\u001b[0m\u001b[0;34m)\u001b[0m\u001b[0;34m)\u001b[0m\u001b[0;34m\u001b[0m\u001b[0;34m\u001b[0m\u001b[0m\n\u001b[1;32m     12\u001b[0m \u001b[0;34m\u001b[0m\u001b[0m\n\u001b[0;32m---> 13\u001b[0;31m \u001b[0mhuman\u001b[0m\u001b[0;34m.\u001b[0m\u001b[0mset_temperature\u001b[0m\u001b[0;34m(\u001b[0m\u001b[0;34m-\u001b[0m\u001b[0;36m300\u001b[0m\u001b[0;34m)\u001b[0m\u001b[0;34m\u001b[0m\u001b[0;34m\u001b[0m\u001b[0m\n\u001b[0m",
      "\u001b[0;32m/tmp/ipykernel_12/1587608054.py\u001b[0m in \u001b[0;36mset_temperature\u001b[0;34m(self, value)\u001b[0m\n\u001b[1;32m     13\u001b[0m     \u001b[0;32mdef\u001b[0m \u001b[0mset_temperature\u001b[0m\u001b[0;34m(\u001b[0m\u001b[0mself\u001b[0m\u001b[0;34m,\u001b[0m \u001b[0mvalue\u001b[0m\u001b[0;34m)\u001b[0m\u001b[0;34m->\u001b[0m \u001b[0;32mNone\u001b[0m\u001b[0;34m:\u001b[0m\u001b[0;34m\u001b[0m\u001b[0;34m\u001b[0m\u001b[0m\n\u001b[1;32m     14\u001b[0m         \u001b[0;32mif\u001b[0m \u001b[0mvalue\u001b[0m \u001b[0;34m<\u001b[0m \u001b[0;34m-\u001b[0m\u001b[0;36m273.15\u001b[0m\u001b[0;34m:\u001b[0m\u001b[0;34m\u001b[0m\u001b[0;34m\u001b[0m\u001b[0m\n\u001b[0;32m---> 15\u001b[0;31m             \u001b[0;32mraise\u001b[0m \u001b[0mValueError\u001b[0m\u001b[0;34m(\u001b[0m\u001b[0;34m\"Temperature below -273.15 is not possible\"\u001b[0m\u001b[0;34m)\u001b[0m\u001b[0;34m\u001b[0m\u001b[0;34m\u001b[0m\u001b[0m\n\u001b[0m\u001b[1;32m     16\u001b[0m \u001b[0;34m\u001b[0m\u001b[0m\n\u001b[1;32m     17\u001b[0m         \u001b[0mself\u001b[0m\u001b[0;34m.\u001b[0m\u001b[0m_temp_in_celsius\u001b[0m \u001b[0;34m=\u001b[0m \u001b[0mvalue\u001b[0m\u001b[0;34m\u001b[0m\u001b[0;34m\u001b[0m\u001b[0m\n",
      "\u001b[0;31mValueError\u001b[0m: Temperature below -273.15 is not possible"
     ]
    }
   ],
   "source": [
    "human = Celsius(37)\n",
    "\n",
    "print(human.get_temperature())\n",
    "\n",
    "print(human.to_fahrenheit())\n",
    "\n",
    "human.set_temperature(300)\n",
    "\n",
    "print(human.get_temperature())\n",
    "\n",
    "print(human.to_fahrenheit())\n",
    "\n",
    "human.set_temperature(-300)"
   ]
  },
  {
   "cell_type": "markdown",
   "metadata": {},
   "source": [
    "### Explicity using property()"
   ]
  },
  {
   "cell_type": "code",
   "execution_count": 38,
   "metadata": {},
   "outputs": [],
   "source": [
    "class Celsius:\n",
    "    def __init__(self, temp_in_celsius: float)-> None:\n",
    "        self.set_temperature(temp_in_celsius)\n",
    "        \n",
    "    def to_fahrenheit(self)-> float :\n",
    "        return (self._temp_in_celsius * 1.8)+32\n",
    "    \n",
    "    # Getter\n",
    "    def get_temperature(self)-> float:\n",
    "        print(\"Getting value...\")\n",
    "        return self._temp_in_celsius\n",
    "    \n",
    "    # Setter\n",
    "    def set_temperature(self, value)-> None:\n",
    "        print(\"Setting value...\")\n",
    "        if value < -273.15:\n",
    "            raise ValueError(\"Temperature below -273.15 is not possible\")\n",
    "            \n",
    "        self._temp_in_celsius = value\n",
    "        \n",
    "    # property(fget=None, fset=None, fdel=None, doc=None)\n",
    "    # make empty property\n",
    "    # temperature = property()\n",
    "    # assign fget\n",
    "    # temperature = temperature.getter(get_temperature)\n",
    "    # assign fset\n",
    "    # temperature = temperature.setter(set_temperature)\n",
    "    temperature = property(get_temperature, set_temperature)\n",
    "        "
   ]
  },
  {
   "cell_type": "code",
   "execution_count": 36,
   "metadata": {},
   "outputs": [
    {
     "name": "stdout",
     "output_type": "stream",
     "text": [
      "Setting value...\n",
      "Getting value...\n",
      "37\n",
      "98.60000000000001\n",
      "Setting value...\n",
      "Getting value...\n",
      "300\n",
      "572.0\n",
      "Setting value...\n"
     ]
    },
    {
     "ename": "ValueError",
     "evalue": "Temperature below -273.15 is not possible",
     "output_type": "error",
     "traceback": [
      "\u001b[0;31m---------------------------------------------------------------------------\u001b[0m",
      "\u001b[0;31mValueError\u001b[0m                                Traceback (most recent call last)",
      "\u001b[0;32m/tmp/ipykernel_12/655572446.py\u001b[0m in \u001b[0;36m<module>\u001b[0;34m\u001b[0m\n\u001b[1;32m     11\u001b[0m \u001b[0mprint\u001b[0m\u001b[0;34m(\u001b[0m\u001b[0mhuman\u001b[0m\u001b[0;34m.\u001b[0m\u001b[0mto_fahrenheit\u001b[0m\u001b[0;34m(\u001b[0m\u001b[0;34m)\u001b[0m\u001b[0;34m)\u001b[0m\u001b[0;34m\u001b[0m\u001b[0;34m\u001b[0m\u001b[0m\n\u001b[1;32m     12\u001b[0m \u001b[0;34m\u001b[0m\u001b[0m\n\u001b[0;32m---> 13\u001b[0;31m \u001b[0mhuman\u001b[0m\u001b[0;34m.\u001b[0m\u001b[0mset_temperature\u001b[0m\u001b[0;34m(\u001b[0m\u001b[0;34m-\u001b[0m\u001b[0;36m300\u001b[0m\u001b[0;34m)\u001b[0m\u001b[0;34m\u001b[0m\u001b[0;34m\u001b[0m\u001b[0m\n\u001b[0m",
      "\u001b[0;32m/tmp/ipykernel_12/2841133466.py\u001b[0m in \u001b[0;36mset_temperature\u001b[0;34m(self, value)\u001b[0m\n\u001b[1;32m     15\u001b[0m         \u001b[0mprint\u001b[0m\u001b[0;34m(\u001b[0m\u001b[0;34m\"Setting value...\"\u001b[0m\u001b[0;34m)\u001b[0m\u001b[0;34m\u001b[0m\u001b[0;34m\u001b[0m\u001b[0m\n\u001b[1;32m     16\u001b[0m         \u001b[0;32mif\u001b[0m \u001b[0mvalue\u001b[0m \u001b[0;34m<\u001b[0m \u001b[0;34m-\u001b[0m\u001b[0;36m273.15\u001b[0m\u001b[0;34m:\u001b[0m\u001b[0;34m\u001b[0m\u001b[0;34m\u001b[0m\u001b[0m\n\u001b[0;32m---> 17\u001b[0;31m             \u001b[0;32mraise\u001b[0m \u001b[0mValueError\u001b[0m\u001b[0;34m(\u001b[0m\u001b[0;34m\"Temperature below -273.15 is not possible\"\u001b[0m\u001b[0;34m)\u001b[0m\u001b[0;34m\u001b[0m\u001b[0;34m\u001b[0m\u001b[0m\n\u001b[0m\u001b[1;32m     18\u001b[0m \u001b[0;34m\u001b[0m\u001b[0m\n\u001b[1;32m     19\u001b[0m         \u001b[0mself\u001b[0m\u001b[0;34m.\u001b[0m\u001b[0m_temp_in_celsius\u001b[0m \u001b[0;34m=\u001b[0m \u001b[0mvalue\u001b[0m\u001b[0;34m\u001b[0m\u001b[0;34m\u001b[0m\u001b[0m\n",
      "\u001b[0;31mValueError\u001b[0m: Temperature below -273.15 is not possible"
     ]
    }
   ],
   "source": [
    "human = Celsius(37)\n",
    "\n",
    "print(human.get_temperature())\n",
    "\n",
    "print(human.to_fahrenheit())\n",
    "\n",
    "human.set_temperature(300)\n",
    "\n",
    "print(human.get_temperature())\n",
    "\n",
    "print(human.to_fahrenheit())\n",
    "\n",
    "human.set_temperature(-300)"
   ]
  },
  {
   "cell_type": "markdown",
   "metadata": {},
   "source": [
    "### Using @property decorator"
   ]
  },
  {
   "cell_type": "code",
   "execution_count": 63,
   "metadata": {},
   "outputs": [],
   "source": [
    "# Using @property decorator\n",
    "class Celsius:\n",
    "    def __init__(self, temperature=0):\n",
    "        self.temperature = temperature\n",
    "\n",
    "    def to_fahrenheit(self):\n",
    "        return (self.temperature * 1.8) + 32\n",
    "\n",
    "    @property\n",
    "    def temperature(self):\n",
    "        print(\"Getting value...\")\n",
    "        return self._temperature\n",
    "\n",
    "    @temperature.setter\n",
    "    def temperature(self, value):\n",
    "        print(\"Setting value...\")\n",
    "        if value < -273.15:\n",
    "            raise ValueError(\"Temperature below -273 is not possible\")\n",
    "        self._temperature = value"
   ]
  },
  {
   "cell_type": "code",
   "execution_count": 64,
   "metadata": {},
   "outputs": [
    {
     "name": "stdout",
     "output_type": "stream",
     "text": [
      "Setting value...\n",
      "Getting value...\n",
      "37\n"
     ]
    }
   ],
   "source": [
    "human = Celsius(37)\n",
    "\n",
    "print(human.temperature)"
   ]
  },
  {
   "cell_type": "markdown",
   "metadata": {},
   "source": [
    "## Emojis"
   ]
  },
  {
   "cell_type": "code",
   "execution_count": 70,
   "metadata": {},
   "outputs": [
    {
     "name": "stdout",
     "output_type": "stream",
     "text": [
      "🤣\n",
      "😆\n",
      "😀\n"
     ]
    }
   ],
   "source": [
    "print(\"\\U0001F923\")\n",
    "print(\"\\U0001F606\")\n",
    "print(\"\\U0001f600\")"
   ]
  },
  {
   "cell_type": "code",
   "execution_count": 73,
   "metadata": {},
   "outputs": [
    {
     "name": "stdout",
     "output_type": "stream",
     "text": [
      "{'orderNum': '12345'}\n"
     ]
    },
    {
     "data": {
      "text/plain": [
       "<function print>"
      ]
     },
     "execution_count": 73,
     "metadata": {},
     "output_type": "execute_result"
    }
   ],
   "source": [
    "query={}\n",
    "query['orderNum'] = '12345'\n",
    "print(query)\n",
    "print"
   ]
  },
  {
   "cell_type": "code",
   "execution_count": null,
   "metadata": {},
   "outputs": [],
   "source": []
  }
 ],
 "metadata": {
  "interpreter": {
   "hash": "61d7c060b65e63e0c17ab32c589a05d6ff902abf7dbf0803abdaab1adeca0d86"
  },
  "kernelspec": {
   "display_name": "Python 3.10.2 ('venv': venv)",
   "language": "python",
   "name": "python3"
  },
  "language_info": {
   "codemirror_mode": {
    "name": "ipython",
    "version": 3
   },
   "file_extension": ".py",
   "mimetype": "text/x-python",
   "name": "python",
   "nbconvert_exporter": "python",
   "pygments_lexer": "ipython3",
   "version": "3.10.2"
  }
 },
 "nbformat": 4,
 "nbformat_minor": 4
}
