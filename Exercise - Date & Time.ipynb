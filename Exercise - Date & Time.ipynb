{
 "cells": [
  {
   "cell_type": "code",
   "execution_count": 1,
   "metadata": {},
   "outputs": [
    {
     "name": "stdout",
     "output_type": "stream",
     "text": [
      "Requirement already satisfied: pytz in c:\\rajesh\\jupyter\\venv\\lib\\site-packages (2020.5)\n",
      "Note: you may need to restart the kernel to use updated packages.\n"
     ]
    },
    {
     "name": "stderr",
     "output_type": "stream",
     "text": [
      "WARNING: You are using pip version 21.0.1; however, version 21.1.1 is available.\n",
      "You should consider upgrading via the 'c:\\rajesh\\jupyter\\venv\\scripts\\python.exe -m pip install --upgrade pip' command.\n"
     ]
    }
   ],
   "source": [
    "pip install pytz"
   ]
  },
  {
   "cell_type": "code",
   "execution_count": 2,
   "metadata": {},
   "outputs": [
    {
     "name": "stdout",
     "output_type": "stream",
     "text": [
      "New Zealand\n",
      "['Pacific/Auckland', 'Pacific/Chatham']\n"
     ]
    }
   ],
   "source": [
    "import pytz\n",
    "print(pytz.country_names['nz'])\n",
    "print(pytz.country_timezones['nz'])"
   ]
  },
  {
   "cell_type": "code",
   "execution_count": 3,
   "metadata": {},
   "outputs": [
    {
     "name": "stdout",
     "output_type": "stream",
     "text": [
      "2021-05-13 2021-05-06\n",
      "13/05/2021\n"
     ]
    }
   ],
   "source": [
    "import pytz\n",
    "from datetime import datetime,timedelta\n",
    "\n",
    "\n",
    "now=datetime.date(datetime.now(pytz.timezone('Pacific/Auckland')))\n",
    "weekago = now - timedelta(days=7)\n",
    "print(now , weekago)\n",
    "\n",
    "print(datetime.today().strftime(\"%d/%m/%Y\"))"
   ]
  },
  {
   "cell_type": "code",
   "execution_count": 4,
   "metadata": {},
   "outputs": [
    {
     "name": "stdout",
     "output_type": "stream",
     "text": [
      "2021-05-07 00:00:00 , 2021-05-13 23:59:59, 2021-05-14 00:00:00\n"
     ]
    }
   ],
   "source": [
    "from enum import Enum\n",
    "\n",
    "class ReportDates(Enum):\n",
    "    to_date = datetime.date(datetime.now(pytz.timezone('Pacific/Auckland')))\n",
    "    from_date = to_date - timedelta(days=6)\n",
    "    begin_date = to_date + timedelta(days=1)\n",
    "    \n",
    "    to_date_str = str(to_date) + \" 23:59:59\"\n",
    "    from_date_str = str(from_date) + \" 00:00:00\"\n",
    "    begin_date_str = str(begin_date) + \" 00:00:00\"\n",
    "    \n",
    "print(f\"{ReportDates.from_date_str.value} , {ReportDates.to_date_str.value}, {ReportDates.begin_date_str.value}\")\n"
   ]
  },
  {
   "cell_type": "code",
   "execution_count": 5,
   "metadata": {},
   "outputs": [
    {
     "name": "stdout",
     "output_type": "stream",
     "text": [
      "<bound method TextCalendar.formatmonth of <calendar.TextCalendar object at 0x0000021551CED710>>\n",
      "['', 'Jan', 'Feb', 'Mar', 'Apr', 'May', 'Jun', 'Jul', 'Aug', 'Sep', 'Oct', 'Nov', 'Dec']\n",
      "{0: '', 1: 'Jan', 2: 'Feb', 3: 'Mar', 4: 'Apr', 5: 'May', 6: 'Jun', 7: 'Jul', 8: 'Aug', 9: 'Sep', 10: 'Oct', 11: 'Nov', 12: 'Dec'}\n"
     ]
    },
    {
     "data": {
      "text/plain": [
       "{'': 0,\n",
       " 'Jan': 1,\n",
       " 'Feb': 2,\n",
       " 'Mar': 3,\n",
       " 'Apr': 4,\n",
       " 'May': 5,\n",
       " 'Jun': 6,\n",
       " 'Jul': 7,\n",
       " 'Aug': 8,\n",
       " 'Sep': 9,\n",
       " 'Oct': 10,\n",
       " 'Nov': 11,\n",
       " 'Dec': 12}"
      ]
     },
     "execution_count": 5,
     "metadata": {},
     "output_type": "execute_result"
    }
   ],
   "source": [
    "import calendar\n",
    "\n",
    "print(calendar.month)\n",
    "print(calendar.month_abbr[0:])\n",
    "\n",
    "# Generate dictionary of num : name for month\n",
    "months_names_to_nums_dict = dict(enumerate(calendar.month_abbr[0:], start=0))\n",
    "print(months_names_to_nums_dict)\n",
    "\n",
    "# Reverse months to names dictionary Key & Value\n",
    "{month:num for num,month in months_names_to_nums_dict.items()}"
   ]
  },
  {
   "cell_type": "code",
   "execution_count": 6,
   "metadata": {},
   "outputs": [
    {
     "name": "stdout",
     "output_type": "stream",
     "text": [
      "2021-05-09 18:11:00\n",
      "2021-05-09 18:11:00\n",
      "2021-05-09 18:11:00\n",
      "2021-09-05 18:11:00\n"
     ]
    }
   ],
   "source": [
    "from dateutil.parser import parse\n",
    "print(parse(\"2021-05-09 18:11:00\"))\n",
    "print(parse(\"2021/05/09 18:11:00\"))\n",
    "print(parse(\"2021.05.09 18:11:00\"))\n",
    "print(parse(\"09/05/2021 18:11:00\"))"
   ]
  },
  {
   "cell_type": "code",
   "execution_count": 6,
   "metadata": {},
   "outputs": [
    {
     "name": "stdout",
     "output_type": "stream",
     "text": [
      "1621575049.3943894\n",
      "2021-05-21 17:30:49.394389\n",
      "2021-05-21 17:30:49.394389\n"
     ]
    }
   ],
   "source": [
    "from time import time\n",
    "from datetime import datetime\n",
    "from dateutil.parser import parse\n",
    "\n",
    "tstamp=time()\n",
    "print(tstamp)\n",
    "# print(parse(tstamp)) - This does not work : TypeError: Parser must be a string or character stream, not float\n",
    "\n",
    "print(datetime.fromtimestamp(tstamp))\n",
    "print(parse(str(datetime.fromtimestamp(tstamp))))"
   ]
  },
  {
   "cell_type": "code",
   "execution_count": 7,
   "metadata": {},
   "outputs": [
    {
     "name": "stdout",
     "output_type": "stream",
     "text": [
      "2021-05-22 13:10:17.662765\n",
      "2021-05-22 13:10:17.663767\n"
     ]
    }
   ],
   "source": [
    "from datetime import datetime\n",
    "\n",
    "print(datetime.now())\n",
    "print(datetime.today())"
   ]
  },
  {
   "cell_type": "code",
   "execution_count": null,
   "metadata": {},
   "outputs": [],
   "source": []
  }
 ],
 "metadata": {
  "kernelspec": {
   "display_name": "Python 3",
   "language": "python",
   "name": "python3"
  },
  "language_info": {
   "codemirror_mode": {
    "name": "ipython",
    "version": 3
   },
   "file_extension": ".py",
   "mimetype": "text/x-python",
   "name": "python",
   "nbconvert_exporter": "python",
   "pygments_lexer": "ipython3",
   "version": "3.7.3"
  }
 },
 "nbformat": 4,
 "nbformat_minor": 4
}
