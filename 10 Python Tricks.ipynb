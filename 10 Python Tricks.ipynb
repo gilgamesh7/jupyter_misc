{
 "cells": [
  {
   "cell_type": "markdown",
   "metadata": {},
   "source": [
    "# Condition inside Print"
   ]
  },
  {
   "cell_type": "code",
   "execution_count": 1,
   "metadata": {},
   "outputs": [
    {
     "name": "stdout",
     "output_type": "stream",
     "text": [
      "Enter a number : 2\n",
      "even\n"
     ]
    }
   ],
   "source": [
    "print(\"odd\" if int(input(\"Enter a number : \"))%2 else \"even\")"
   ]
  },
  {
   "cell_type": "markdown",
   "metadata": {},
   "source": [
    "# Conditional List - all instead of and in list\n",
    "# +\n",
    "# Multiple inputs from one line"
   ]
  },
  {
   "cell_type": "code",
   "execution_count": 36,
   "metadata": {},
   "outputs": [
    {
     "name": "stdout",
     "output_type": "stream",
     "text": [
      "Enter Score , wickets, Catches :  1 2 3\n",
      "Good game\n"
     ]
    }
   ],
   "source": [
    "# score,wickets, catch = int(input(\"Enter Score : \")), int(input(\"Enter Wickets : \")), int(input(\"Enter Catches : \"))\n",
    "score,wickets, catch = input(\"Enter Score , wickets, Catches : \").split()\n",
    "\n",
    "list_cond = [\n",
    "    int(score) > 300, \n",
    "    int(wickets) > 2,\n",
    "    int(catch) > 3\n",
    "]\n",
    "\n",
    "print(\"Man of Match\" if all(list_cond) else \"Good game\")"
   ]
  },
  {
   "cell_type": "markdown",
   "metadata": {},
   "source": [
    "# Conditional List - any instead of or in list"
   ]
  },
  {
   "cell_type": "code",
   "execution_count": 28,
   "metadata": {
    "scrolled": true
   },
   "outputs": [
    {
     "name": "stdout",
     "output_type": "stream",
     "text": [
      "Enter cost : 11000\n",
      "Enter Star Rating : 3\n",
      "Do no buy the car\n"
     ]
    }
   ],
   "source": [
    "cost, star_rating = int(input(\"Enter cost : \")), int(input(\"Enter Star Rating : \"))\n",
    "\n",
    "cond_list=[\n",
    "    cost < 10000,\n",
    "    star_rating > 4\n",
    "]\n",
    "\n",
    "print(\"Buy the car\" if any(cond_list) else \"Do not buy the car\")"
   ]
  },
  {
   "cell_type": "markdown",
   "metadata": {},
   "source": [
    "# Remove duplicates\n",
    "# +\n",
    "# Count max & min"
   ]
  },
  {
   "cell_type": "code",
   "execution_count": 40,
   "metadata": {},
   "outputs": [
    {
     "name": "stdout",
     "output_type": "stream",
     "text": [
      "[1, 2, 3, 3, 5, 6, 1, 9, 9, 8, 7, 6, 5, 4, 3, 2, 4, 4, 4, 4, 4, 4]\n",
      "{1, 2, 3, 4, 5, 6, 7, 8, 9}\n",
      "4\n"
     ]
    }
   ],
   "source": [
    "my_list=[1,2,3,3,5,6,1,9,9,8,7,6,5,4,3,2,4,4,4,4,4,4]\n",
    "print(my_list)\n",
    "print(set(my_list))\n",
    "print(max(set(my_list), key=my_list.count))"
   ]
  },
  {
   "cell_type": "markdown",
   "metadata": {},
   "source": [
    "# Infinite arguments"
   ]
  },
  {
   "cell_type": "code",
   "execution_count": 48,
   "metadata": {},
   "outputs": [
    {
     "name": "stdout",
     "output_type": "stream",
     "text": [
      "1\n",
      "2\n",
      "3\n",
      "4\n",
      "5\n",
      "6\n",
      "7\n",
      "8\n",
      "9\n",
      "10\n",
      "11\n",
      "12\n",
      "13\n",
      "14\n",
      "range(100, 105, 2)\n",
      "100 102 104\n"
     ]
    }
   ],
   "source": [
    "def my_func(*input_list):\n",
    "    for num in input_list:\n",
    "        print(num)\n",
    "    \n",
    "    return True\n",
    "\n",
    "my_func(1,2,3)\n",
    "my_func(4,5,6,7,8,9)\n",
    "my_func(*range(10,15))\n",
    "\n",
    "print(range(100,105,2))\n",
    "print(*range(100,105,2))"
   ]
  },
  {
   "cell_type": "code",
   "execution_count": null,
   "metadata": {},
   "outputs": [],
   "source": []
  }
 ],
 "metadata": {
  "kernelspec": {
   "display_name": "Python 3",
   "language": "python",
   "name": "python3"
  },
  "language_info": {
   "codemirror_mode": {
    "name": "ipython",
    "version": 3
   },
   "file_extension": ".py",
   "mimetype": "text/x-python",
   "name": "python",
   "nbconvert_exporter": "python",
   "pygments_lexer": "ipython3",
   "version": "3.7.3"
  }
 },
 "nbformat": 4,
 "nbformat_minor": 4
}
