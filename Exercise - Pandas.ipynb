{
 "cells": [
  {
   "cell_type": "markdown",
   "metadata": {},
   "source": [
    "#### Pandas to read HTML table\n",
    "##### https://pbpython.com/pandas-html-table.html"
   ]
  },
  {
   "cell_type": "code",
   "execution_count": 3,
   "metadata": {},
   "outputs": [
    {
     "name": "stdout",
     "output_type": "stream",
     "text": [
      "Requirement already satisfied: pandas in c:\\rajesh\\jupyter\\venv\\lib\\site-packages (1.2.0)\n",
      "Requirement already satisfied: python-dateutil>=2.7.3 in c:\\rajesh\\jupyter\\venv\\lib\\site-packages (from pandas) (2.8.1)\n",
      "Requirement already satisfied: pytz>=2017.3 in c:\\rajesh\\jupyter\\venv\\lib\\site-packages (from pandas) (2020.5)\n",
      "Requirement already satisfied: numpy>=1.16.5 in c:\\rajesh\\jupyter\\venv\\lib\\site-packages (from pandas) (1.19.4)\n",
      "Requirement already satisfied: six>=1.5 in c:\\rajesh\\jupyter\\venv\\lib\\site-packages (from python-dateutil>=2.7.3->pandas) (1.15.0)\n",
      "Note: you may need to restart the kernel to use updated packages.\n"
     ]
    },
    {
     "name": "stderr",
     "output_type": "stream",
     "text": [
      "WARNING: You are using pip version 21.0.1; however, version 21.1.1 is available.\n",
      "You should consider upgrading via the 'c:\\rajesh\\jupyter\\venv\\scripts\\python.exe -m pip install --upgrade pip' command.\n"
     ]
    }
   ],
   "source": [
    "pip install pandas"
   ]
  },
  {
   "cell_type": "code",
   "execution_count": 2,
   "metadata": {},
   "outputs": [
    {
     "name": "stdout",
     "output_type": "stream",
     "text": [
      "\u001b[33mWARNING: Retrying (Retry(total=4, connect=None, read=None, redirect=None, status=None)) after connection broken by 'ConnectTimeoutError(<pip._vendor.urllib3.connection.HTTPSConnection object at 0x7fc0ec8d53a0>, 'Connection to pypi.org timed out. (connect timeout=15)')': /simple/lxml/\u001b[0m\n",
      "\u001b[33mWARNING: Retrying (Retry(total=3, connect=None, read=None, redirect=None, status=None)) after connection broken by 'ConnectTimeoutError(<pip._vendor.urllib3.connection.HTTPSConnection object at 0x7fc0ec8d52e0>, 'Connection to pypi.org timed out. (connect timeout=15)')': /simple/lxml/\u001b[0m\n",
      "\u001b[33mWARNING: Retrying (Retry(total=2, connect=None, read=None, redirect=None, status=None)) after connection broken by 'ConnectTimeoutError(<pip._vendor.urllib3.connection.HTTPSConnection object at 0x7fc0ec8d5af0>, 'Connection to pypi.org timed out. (connect timeout=15)')': /simple/lxml/\u001b[0m\n",
      "\u001b[33mWARNING: Retrying (Retry(total=1, connect=None, read=None, redirect=None, status=None)) after connection broken by 'ConnectTimeoutError(<pip._vendor.urllib3.connection.HTTPSConnection object at 0x7fc0ec8d5c70>, 'Connection to pypi.org timed out. (connect timeout=15)')': /simple/lxml/\u001b[0m\n",
      "\u001b[33mWARNING: Retrying (Retry(total=0, connect=None, read=None, redirect=None, status=None)) after connection broken by 'ConnectTimeoutError(<pip._vendor.urllib3.connection.HTTPSConnection object at 0x7fc0ec8d5df0>, 'Connection to pypi.org timed out. (connect timeout=15)')': /simple/lxml/\u001b[0m\n",
      "\u001b[31mERROR: Could not find a version that satisfies the requirement lxml (from versions: none)\u001b[0m\n",
      "\u001b[31mERROR: No matching distribution found for lxml\u001b[0m\n",
      "Note: you may need to restart the kernel to use updated packages.\n"
     ]
    }
   ],
   "source": [
    "pip install lxml"
   ]
  },
  {
   "cell_type": "code",
   "execution_count": 1,
   "metadata": {},
   "outputs": [
    {
     "ename": "ImportError",
     "evalue": "lxml not found, please install it",
     "output_type": "error",
     "traceback": [
      "\u001b[0;31m---------------------------------------------------------------------------\u001b[0m",
      "\u001b[0;31mImportError\u001b[0m                               Traceback (most recent call last)",
      "\u001b[0;32m/tmp/ipykernel_50/1536096094.py\u001b[0m in \u001b[0;36m<module>\u001b[0;34m\u001b[0m\n\u001b[1;32m      3\u001b[0m \u001b[0;31m# Test against Minnesota\u001b[0m\u001b[0;34m\u001b[0m\u001b[0;34m\u001b[0m\u001b[0;34m\u001b[0m\u001b[0m\n\u001b[1;32m      4\u001b[0m \u001b[0;31m# Get all tables\u001b[0m\u001b[0;34m\u001b[0m\u001b[0;34m\u001b[0m\u001b[0;34m\u001b[0m\u001b[0m\n\u001b[0;32m----> 5\u001b[0;31m \u001b[0mtable_MN\u001b[0m \u001b[0;34m=\u001b[0m \u001b[0mpd\u001b[0m\u001b[0;34m.\u001b[0m\u001b[0mread_html\u001b[0m\u001b[0;34m(\u001b[0m\u001b[0;34m'https://en.wikipedia.org/wiki/Minnesota'\u001b[0m\u001b[0;34m)\u001b[0m\u001b[0;34m\u001b[0m\u001b[0;34m\u001b[0m\u001b[0m\n\u001b[0m\u001b[1;32m      6\u001b[0m \u001b[0mprint\u001b[0m\u001b[0;34m(\u001b[0m\u001b[0;34mf\"Number of tables : {len(table_MN)}\"\u001b[0m\u001b[0;34m)\u001b[0m\u001b[0;34m\u001b[0m\u001b[0;34m\u001b[0m\u001b[0m\n\u001b[1;32m      7\u001b[0m \u001b[0;31m# Select Specific table\u001b[0m\u001b[0;34m\u001b[0m\u001b[0;34m\u001b[0m\u001b[0;34m\u001b[0m\u001b[0m\n",
      "\u001b[0;32m/opt/conda/lib/python3.9/site-packages/pandas/util/_decorators.py\u001b[0m in \u001b[0;36mwrapper\u001b[0;34m(*args, **kwargs)\u001b[0m\n\u001b[1;32m    309\u001b[0m                     \u001b[0mstacklevel\u001b[0m\u001b[0;34m=\u001b[0m\u001b[0mstacklevel\u001b[0m\u001b[0;34m,\u001b[0m\u001b[0;34m\u001b[0m\u001b[0;34m\u001b[0m\u001b[0m\n\u001b[1;32m    310\u001b[0m                 )\n\u001b[0;32m--> 311\u001b[0;31m             \u001b[0;32mreturn\u001b[0m \u001b[0mfunc\u001b[0m\u001b[0;34m(\u001b[0m\u001b[0;34m*\u001b[0m\u001b[0margs\u001b[0m\u001b[0;34m,\u001b[0m \u001b[0;34m**\u001b[0m\u001b[0mkwargs\u001b[0m\u001b[0;34m)\u001b[0m\u001b[0;34m\u001b[0m\u001b[0;34m\u001b[0m\u001b[0m\n\u001b[0m\u001b[1;32m    312\u001b[0m \u001b[0;34m\u001b[0m\u001b[0m\n\u001b[1;32m    313\u001b[0m         \u001b[0;32mreturn\u001b[0m \u001b[0mwrapper\u001b[0m\u001b[0;34m\u001b[0m\u001b[0;34m\u001b[0m\u001b[0m\n",
      "\u001b[0;32m/opt/conda/lib/python3.9/site-packages/pandas/io/html.py\u001b[0m in \u001b[0;36mread_html\u001b[0;34m(io, match, flavor, header, index_col, skiprows, attrs, parse_dates, thousands, encoding, decimal, converters, na_values, keep_default_na, displayed_only)\u001b[0m\n\u001b[1;32m   1096\u001b[0m     \u001b[0mio\u001b[0m \u001b[0;34m=\u001b[0m \u001b[0mstringify_path\u001b[0m\u001b[0;34m(\u001b[0m\u001b[0mio\u001b[0m\u001b[0;34m)\u001b[0m\u001b[0;34m\u001b[0m\u001b[0;34m\u001b[0m\u001b[0m\n\u001b[1;32m   1097\u001b[0m \u001b[0;34m\u001b[0m\u001b[0m\n\u001b[0;32m-> 1098\u001b[0;31m     return _parse(\n\u001b[0m\u001b[1;32m   1099\u001b[0m         \u001b[0mflavor\u001b[0m\u001b[0;34m=\u001b[0m\u001b[0mflavor\u001b[0m\u001b[0;34m,\u001b[0m\u001b[0;34m\u001b[0m\u001b[0;34m\u001b[0m\u001b[0m\n\u001b[1;32m   1100\u001b[0m         \u001b[0mio\u001b[0m\u001b[0;34m=\u001b[0m\u001b[0mio\u001b[0m\u001b[0;34m,\u001b[0m\u001b[0;34m\u001b[0m\u001b[0;34m\u001b[0m\u001b[0m\n",
      "\u001b[0;32m/opt/conda/lib/python3.9/site-packages/pandas/io/html.py\u001b[0m in \u001b[0;36m_parse\u001b[0;34m(flavor, io, match, attrs, encoding, displayed_only, **kwargs)\u001b[0m\n\u001b[1;32m    900\u001b[0m     \u001b[0mretained\u001b[0m \u001b[0;34m=\u001b[0m \u001b[0;32mNone\u001b[0m\u001b[0;34m\u001b[0m\u001b[0;34m\u001b[0m\u001b[0m\n\u001b[1;32m    901\u001b[0m     \u001b[0;32mfor\u001b[0m \u001b[0mflav\u001b[0m \u001b[0;32min\u001b[0m \u001b[0mflavor\u001b[0m\u001b[0;34m:\u001b[0m\u001b[0;34m\u001b[0m\u001b[0;34m\u001b[0m\u001b[0m\n\u001b[0;32m--> 902\u001b[0;31m         \u001b[0mparser\u001b[0m \u001b[0;34m=\u001b[0m \u001b[0m_parser_dispatch\u001b[0m\u001b[0;34m(\u001b[0m\u001b[0mflav\u001b[0m\u001b[0;34m)\u001b[0m\u001b[0;34m\u001b[0m\u001b[0;34m\u001b[0m\u001b[0m\n\u001b[0m\u001b[1;32m    903\u001b[0m         \u001b[0mp\u001b[0m \u001b[0;34m=\u001b[0m \u001b[0mparser\u001b[0m\u001b[0;34m(\u001b[0m\u001b[0mio\u001b[0m\u001b[0;34m,\u001b[0m \u001b[0mcompiled_match\u001b[0m\u001b[0;34m,\u001b[0m \u001b[0mattrs\u001b[0m\u001b[0;34m,\u001b[0m \u001b[0mencoding\u001b[0m\u001b[0;34m,\u001b[0m \u001b[0mdisplayed_only\u001b[0m\u001b[0;34m)\u001b[0m\u001b[0;34m\u001b[0m\u001b[0;34m\u001b[0m\u001b[0m\n\u001b[1;32m    904\u001b[0m \u001b[0;34m\u001b[0m\u001b[0m\n",
      "\u001b[0;32m/opt/conda/lib/python3.9/site-packages/pandas/io/html.py\u001b[0m in \u001b[0;36m_parser_dispatch\u001b[0;34m(flavor)\u001b[0m\n\u001b[1;32m    857\u001b[0m     \u001b[0;32melse\u001b[0m\u001b[0;34m:\u001b[0m\u001b[0;34m\u001b[0m\u001b[0;34m\u001b[0m\u001b[0m\n\u001b[1;32m    858\u001b[0m         \u001b[0;32mif\u001b[0m \u001b[0;32mnot\u001b[0m \u001b[0m_HAS_LXML\u001b[0m\u001b[0;34m:\u001b[0m\u001b[0;34m\u001b[0m\u001b[0;34m\u001b[0m\u001b[0m\n\u001b[0;32m--> 859\u001b[0;31m             \u001b[0;32mraise\u001b[0m \u001b[0mImportError\u001b[0m\u001b[0;34m(\u001b[0m\u001b[0;34m\"lxml not found, please install it\"\u001b[0m\u001b[0;34m)\u001b[0m\u001b[0;34m\u001b[0m\u001b[0;34m\u001b[0m\u001b[0m\n\u001b[0m\u001b[1;32m    860\u001b[0m     \u001b[0;32mreturn\u001b[0m \u001b[0m_valid_parsers\u001b[0m\u001b[0;34m[\u001b[0m\u001b[0mflavor\u001b[0m\u001b[0;34m]\u001b[0m\u001b[0;34m\u001b[0m\u001b[0;34m\u001b[0m\u001b[0m\n\u001b[1;32m    861\u001b[0m \u001b[0;34m\u001b[0m\u001b[0m\n",
      "\u001b[0;31mImportError\u001b[0m: lxml not found, please install it"
     ]
    }
   ],
   "source": [
    "import pandas as pd\n",
    "\n",
    "# Test against Minnesota\n",
    "# Get all tables\n",
    "table_MN = pd.read_html('https://en.wikipedia.org/wiki/Minnesota')\n",
    "print(f\"Number of tables : {len(table_MN)}\")\n",
    "# Select Specific table\n",
    "table_MN = pd.read_html('https://en.wikipedia.org/wiki/Minnesota', match='Election results from statewide races')\n",
    "print(f\"Number of tables after match: {len(table_MN)}\")\n",
    "\n",
    "\n",
    "# Get British Army Figures\n",
    "table_list = pd.read_html('https://en.wikipedia.org/wiki/Monthly_recruiting_figures_for_the_British_Army_in_the_First_World_War')\n",
    "\n",
    "# Will have a list of tables if more than 1 table in page\n",
    "print(f\"Number of tables : {len(table_list)}\")\n",
    "\n",
    "# This has only one - print it as df\n",
    "df = table_list[0]\n",
    "print(df)"
   ]
  },
  {
   "cell_type": "markdown",
   "metadata": {},
   "source": [
    "### Generate dictionary from website directly"
   ]
  },
  {
   "cell_type": "code",
   "execution_count": 27,
   "metadata": {},
   "outputs": [
    {
     "name": "stdout",
     "output_type": "stream",
     "text": [
      "Number of tables : 1\n",
      "Dimensions : 2\n",
      "Shape : (18, 3)\n",
      "Size : 54\n",
      "{'EVENT_SCHEDULER_STARTED': 'The scheduler was started', 'EVENT_SCHEDULER_SHUTDOWN': 'The scheduler was shut down', 'EVENT_SCHEDULER_PAUSED': 'Job processing in the scheduler was paused', 'EVENT_SCHEDULER_RESUMED': 'Job processing in the scheduler was resumed', 'EVENT_EXECUTOR_ADDED': 'An executor was added to the scheduler', 'EVENT_EXECUTOR_REMOVED': 'An executor was removed to the scheduler', 'EVENT_JOBSTORE_ADDED': 'A job store was added to the scheduler', 'EVENT_JOBSTORE_REMOVED': 'A job store was removed from the scheduler', 'EVENT_ALL_JOBS_REMOVED': 'All jobs were removed from either all job stores or one particular job store', 'EVENT_JOB_ADDED': 'A job was added to a job store', 'EVENT_JOB_REMOVED': 'A job was removed from a job store', 'EVENT_JOB_MODIFIED': 'A job was modified from outside the scheduler', 'EVENT_JOB_SUBMITTED': 'A job was submitted to its executor to be run', 'EVENT_JOB_MAX_INSTANCES': 'A job being submitted to its executor was not accepted by the executor because the job has already reached its maximum concurrently executing instances', 'EVENT_JOB_EXECUTED': 'A job was executed successfully', 'EVENT_JOB_ERROR': 'A job raised an exception during execution', 'EVENT_JOB_MISSED': 'A job’s execution was missed', 'EVENT_ALL': 'A catch-all mask that includes every event type'}\n"
     ]
    }
   ],
   "source": [
    "import pandas as pd\n",
    "\n",
    "import ast\n",
    "\n",
    "# Get  table\n",
    "table_events = pd.read_html('https://apscheduler.readthedocs.io/en/stable/modules/events.html#module-apscheduler.events')\n",
    "print(f\"Number of tables : {len(table_events)}\")\n",
    "\n",
    "df = table_events[0]\n",
    "\n",
    "print(f\"Dimensions : {df.ndim}\")\n",
    "print(f\"Shape : {df.shape}\")\n",
    "print(f\"Size : {df.size}\")\n",
    "\n",
    "# print('{')\n",
    "# for row in df.to_numpy(dtype=object, copy=False):\n",
    "#     print(f\"{row[0]} : '{row[1]}',\")\n",
    "# print('}')\n",
    "\n",
    "event_dict = pd.Series(df.Description.values, index=df.Constant.values).to_dict()\n",
    "print(event_dict)\n",
    "\n"
   ]
  },
  {
   "cell_type": "code",
   "execution_count": 4,
   "metadata": {},
   "outputs": [
    {
     "name": "stdout",
     "output_type": "stream",
     "text": [
      "              from_wbse       to_wbse  costcentre activitytype  hours\n",
      "0   350377/TRANRL/S1018  301110/30073        7655          G05    8.5\n",
      "1  350377/TRANRL/S10187   301110/3007        7655          G05   10.5\n",
      "2  350377/TRANRL/S10187  301110/30073        7655          G05   37.5\n",
      "[{'from_wbse': '350377/TRANRL/S1018', 'to_wbse': '301110/30073', 'costcentre': 7655, 'activitytype': 'G05', 'hours': 8.5}, {'from_wbse': '350377/TRANRL/S10187', 'to_wbse': '301110/3007', 'costcentre': 7655, 'activitytype': 'G05', 'hours': 10.5}, {'from_wbse': '350377/TRANRL/S10187', 'to_wbse': '301110/30073', 'costcentre': 7655, 'activitytype': 'G05', 'hours': 37.5}]\n"
     ]
    }
   ],
   "source": [
    "import pandas as pd\n",
    "\n",
    "df = pd.DataFrame(\n",
    "{'from_wbse': ['350377/TRANRL/S10187', '350377/TRANRL/S1018', '350377/TRANRL/S10187', '350377/TRANRL/S10187', '350377/TRANRL/S10187'], \n",
    "'to_wbse': ['301110/30073', '301110/30073', '301110/3007', '301110/30073', '301110/30073'], \n",
    "'hours': [11.0, 8.5, 10.5, 15.0, 11.5],\n",
    "'costcentre': [7655, 7655, 7655,7655, 7655],\n",
    "'activitytype': ['G05','G05','G05','G05','G05']})\n",
    "\n",
    "# print(df)\n",
    "df2=df.groupby(by=['from_wbse','to_wbse','costcentre','activitytype']).sum().reset_index()\n",
    "print(df2)\n",
    "# df3 = df.groupby(by=['from_wbse','to_wbse'])['hours'].sum().reset_index()\n",
    "# print(df3)\n",
    "# myList=df2.values.tolist()\n",
    "# print(myList)\n",
    "# myDictList=df2.T.to_dict().values()\n",
    "# print(myDictList)\n",
    "myDictList=df2.to_dict('records')\n",
    "print(myDictList)"
   ]
  },
  {
   "cell_type": "markdown",
   "metadata": {},
   "source": [
    "## Dataframes\n",
    "### https://realpython.com/pandas-dataframe/"
   ]
  },
  {
   "cell_type": "markdown",
   "metadata": {},
   "source": [
    "### Creating a Pandas DataFrame With Dictionaries"
   ]
  },
  {
   "cell_type": "code",
   "execution_count": 30,
   "metadata": {},
   "outputs": [
    {
     "name": "stdout",
     "output_type": "stream",
     "text": [
      "[101, 103, 105, 107, 109, 111, 113]\n",
      "       name         city  age  py-score\n",
      "101  Xavier  Mexico City   41      88.0\n",
      "103     Ann      Toronto   28      79.0\n",
      "105    Jana       Prague   33      81.0\n",
      "107      Yi     Shanghai   34      80.0\n",
      "109   Robin   Manchester   38      68.0\n",
      "111    Amal        Cairo   31      61.0\n",
      "113    Nori        Osaka   37      84.0\n",
      "--------------------------------------------------------------------------------\n",
      "       name         city  age  py-score\n",
      "101  Xavier  Mexico City   41      88.0\n",
      "103     Ann      Toronto   28      79.0\n",
      "105    Jana       Prague   33      81.0\n",
      "107      Yi     Shanghai   34      80.0\n",
      "109   Robin   Manchester   38      68.0\n",
      "--------------------------------------------------------------------------------\n",
      "      name        city  age  py-score\n",
      "105   Jana      Prague   33      81.0\n",
      "107     Yi    Shanghai   34      80.0\n",
      "109  Robin  Manchester   38      68.0\n",
      "111   Amal       Cairo   31      61.0\n",
      "113   Nori       Osaka   37      84.0\n",
      "--------------------------------------------------------------------------------\n",
      "     name   city  age  py-score\n",
      "111  Amal  Cairo   31      61.0\n",
      "113  Nori  Osaka   37      84.0\n",
      "--------------------------------------------------------------------------------\n",
      "101    Mexico City\n",
      "103        Toronto\n",
      "105         Prague\n",
      "107       Shanghai\n",
      "109     Manchester\n",
      "111          Cairo\n",
      "113          Osaka\n",
      "Name: city, dtype: object\n",
      "--------------------------------------------------------------------------------\n",
      "101    41\n",
      "103    28\n",
      "105    33\n",
      "107    34\n",
      "109    38\n",
      "111    31\n",
      "113    37\n",
      "Name: age, dtype: int64\n",
      "--------------------------------------------------------------------------------\n",
      "Ann\n",
      "[101, 103, 105, 107, 109, 111, 113]\n",
      "       name         city  age  py-score\n",
      "101  Xavier  Mexico City   41      88.0\n",
      "103     Ann      Toronto   28      79.0\n",
      "105    Jana       Prague   33      81.0\n",
      "107      Yi     Shanghai   34      80.0\n",
      "109   Robin   Manchester   38      68.0\n",
      "111    Amal        Cairo   31      61.0\n",
      "113    Nori        Osaka   37      84.0\n",
      "--------------------------------------------------------------------------------\n",
      "       name         city  age  py-score\n",
      "101  Xavier  Mexico City   41      88.0\n",
      "103     Ann      Toronto   28      79.0\n",
      "105    Jana       Prague   33      81.0\n",
      "107      Yi     Shanghai   34      80.0\n",
      "109   Robin   Manchester   38      68.0\n",
      "--------------------------------------------------------------------------------\n",
      "      name        city  age  py-score\n",
      "105   Jana      Prague   33      81.0\n",
      "107     Yi    Shanghai   34      80.0\n",
      "109  Robin  Manchester   38      68.0\n",
      "111   Amal       Cairo   31      61.0\n",
      "113   Nori       Osaka   37      84.0\n",
      "--------------------------------------------------------------------------------\n",
      "     name   city  age  py-score\n",
      "111  Amal  Cairo   31      61.0\n",
      "113  Nori  Osaka   37      84.0\n",
      "--------------------------------------------------------------------------------\n",
      "101    Mexico City\n",
      "103        Toronto\n",
      "105         Prague\n",
      "107       Shanghai\n",
      "109     Manchester\n",
      "111          Cairo\n",
      "113          Osaka\n",
      "Name: city, dtype: object\n",
      "--------------------------------------------------------------------------------\n",
      "101    41\n",
      "103    28\n",
      "105    33\n",
      "107    34\n",
      "109    38\n",
      "111    31\n",
      "113    37\n",
      "Name: age, dtype: int64\n",
      "--------------------------------------------------------------------------------\n",
      "name            Ann\n",
      "city        Toronto\n",
      "age              28\n",
      "py-score       79.0\n",
      "Name: 103, dtype: object\n",
      "--------------------------------------------------------------------------------\n",
      "Toronto\n"
     ]
    }
   ],
   "source": [
    "import pandas as pd\n",
    "\n",
    "# Use dictionary to pass data (can also use pandas series / list / tuple / NumPy array)\n",
    "data = {\n",
    "    'name':['Xavier', 'Ann', 'Jana', 'Yi', 'Robin', 'Amal', 'Nori'],\n",
    "    'city' : ['Mexico City', 'Toronto', 'Prague', 'Shanghai','Manchester', 'Cairo', 'Osaka'],\n",
    "    'age' : [41, 28, 33, 34, 38, 31, 37],\n",
    "    'py-score' : [88.0, 79.0, 81.0, 80.0, 68.0, 61.0, 84.0]\n",
    "}\n",
    "\n",
    "row_labels = (lambda : list(range(101,114,2)))()\n",
    "print(row_labels)\n",
    "\n",
    "df = pd.DataFrame(data=data, index=row_labels)\n",
    "#df=pd.DataFrame(data=data)\n",
    "print(df)\n",
    "print(80*'-')\n",
    "print(df.head())\n",
    "print(80*'-')\n",
    "print(df.tail())\n",
    "print(80*'-')\n",
    "print(df.tail(n=2))\n",
    "print(80*'-')\n",
    "print(df['city'])\n",
    "print(80*'-')\n",
    "# print(df['101'])\n",
    "print(df.age)\n",
    "print(80*'-')\n",
    "print(df.name[103])\n",
    "import pandas as pd\n",
    "\n",
    "# Use dictionary to pass data (can also use pandas series / list / tuple / NumPy array)\n",
    "data = {\n",
    "    'name':['Xavier', 'Ann', 'Jana', 'Yi', 'Robin', 'Amal', 'Nori'],\n",
    "    'city' : ['Mexico City', 'Toronto', 'Prague', 'Shanghai','Manchester', 'Cairo', 'Osaka'],\n",
    "    'age' : [41, 28, 33, 34, 38, 31, 37],\n",
    "    'py-score' : [88.0, 79.0, 81.0, 80.0, 68.0, 61.0, 84.0]\n",
    "}\n",
    "\n",
    "row_labels = (lambda : list(range(101,114,2)))()\n",
    "print(row_labels)\n",
    "\n",
    "df = pd.DataFrame(data=data, index=row_labels)\n",
    "#df=pd.DataFrame(data=data)\n",
    "print(df)\n",
    "print(80*'-')\n",
    "print(df.head())\n",
    "print(80*'-')\n",
    "print(df.tail())\n",
    "print(80*'-')\n",
    "print(df.tail(n=2))\n",
    "print(80*'-')\n",
    "print(df['city'])\n",
    "print(80*'-')\n",
    "# print(df['101'])\n",
    "print(df.age)\n",
    "print(80*'-')\n",
    "print(df.loc[103])\n",
    "print(80*'-')\n",
    "print(df.loc[103].city)"
   ]
  },
  {
   "cell_type": "markdown",
   "metadata": {},
   "source": [
    "#### Example 2 of creating DataFrame from dictionaries"
   ]
  },
  {
   "cell_type": "code",
   "execution_count": 34,
   "metadata": {},
   "outputs": [
    {
     "name": "stdout",
     "output_type": "stream",
     "text": [
      "   x  y    z\n",
      "0  1  2  100\n",
      "1  2  4  100\n",
      "2  3  8  100\n",
      "--------------------------------------------------------------------------------\n",
      "       z  x  y\n",
      "101  100  1  2\n",
      "103  100  2  4\n",
      "105  100  3  8\n",
      "--------------------------------------------------------------------------------\n"
     ]
    }
   ],
   "source": [
    "import pandas as pd\n",
    "import numpy as np\n",
    "\n",
    "my_dict={\n",
    "    'x': [1,2,3],\n",
    "    'y': np.array([2,4,8]),\n",
    "    'z': 100\n",
    "}\n",
    "\n",
    "df = pd.DataFrame(data=my_dict)\n",
    "print(df)\n",
    "print(80*'-')\n",
    "df = pd.DataFrame(my_dict, index=[101,103,105], columns=['z','x','y'])\n",
    "print(df)\n",
    "print(80*'-')                                                        "
   ]
  },
  {
   "cell_type": "markdown",
   "metadata": {},
   "source": [
    "### Creating a Pandas DataFrame With Lists"
   ]
  },
  {
   "cell_type": "markdown",
   "metadata": {},
   "source": [
    "####  list of dictionaries to create a Pandas DataFrame"
   ]
  },
  {
   "cell_type": "code",
   "execution_count": 35,
   "metadata": {},
   "outputs": [
    {
     "name": "stdout",
     "output_type": "stream",
     "text": [
      "   x  y  z\n",
      "0  1  2  3\n",
      "1  2  4  6\n",
      "2  3  6  8\n"
     ]
    }
   ],
   "source": [
    "my_list=[\n",
    "    {'x': 1 , 'y' : 2 , 'z': 3},\n",
    "    {'x': 2 , 'y' : 4 , 'z': 6},\n",
    "    {'x': 3 , 'y' : 6 , 'z': 8},\n",
    "]\n",
    "\n",
    "df = pd.DataFrame(my_list)\n",
    "print(df)"
   ]
  },
  {
   "cell_type": "markdown",
   "metadata": {},
   "source": [
    "####  nested list to create a Pandas DataFrame"
   ]
  },
  {
   "cell_type": "code",
   "execution_count": 38,
   "metadata": {},
   "outputs": [
    {
     "name": "stdout",
     "output_type": "stream",
     "text": [
      "   0  1  2\n",
      "0  1  2  3\n",
      "1  2  4  6\n",
      "2  3  6  8\n",
      "--------------------------------------------------------------------------------\n",
      "   x  y  z\n",
      "a  1  2  3\n",
      "b  2  4  6\n",
      "c  3  6  8\n"
     ]
    }
   ],
   "source": [
    "my_list=[\n",
    "    [1,2,3],\n",
    "    [2,4,6],\n",
    "    [3,6,8]\n",
    "]\n",
    "\n",
    "df = pd.DataFrame(my_list)\n",
    "print(df)\n",
    "print(80*'-')\n",
    "df = pd.DataFrame(data=my_list, index=('a','b','c'), columns=('x','y','z'))\n",
    "print(df)"
   ]
  },
  {
   "cell_type": "markdown",
   "metadata": {},
   "source": [
    "### Creating a Pandas DataFrame With NumPy Arrays"
   ]
  },
  {
   "cell_type": "code",
   "execution_count": 47,
   "metadata": {},
   "outputs": [
    {
     "name": "stdout",
     "output_type": "stream",
     "text": [
      "[[1 2 3]\n",
      " [2 4 6]\n",
      " [3 6 8]]\n",
      "--------------------------------------------------------------------------------\n",
      "   0  1  2\n",
      "0  1  2  3\n",
      "1  2  4  6\n",
      "2  3  6  8\n",
      "--------------------------------------------------------------------------------\n",
      "[[1000    2    3]\n",
      " [   2    4    6]\n",
      " [   3    6    8]]\n",
      "      0  1  2\n",
      "0  1000  2  3\n",
      "1     2  4  6\n",
      "2     3  6  8\n",
      "--------------------------------------------------------------------------------\n",
      "[[1000    2    3]\n",
      " [   2    4    6]\n",
      " [   3    6    8]]\n",
      "      0  1  2\n",
      "0  1000  2  3\n",
      "1     2  4  6\n",
      "2     3  6  8\n",
      "--------------------------------------------------------------------------------\n",
      "[[1000 1000    3]\n",
      " [   2    4    6]\n",
      " [   3    6    8]]\n",
      "      0  1  2\n",
      "0  1000  2  3\n",
      "1     2  4  6\n",
      "2     3  6  8\n",
      "--------------------------------------------------------------------------------\n"
     ]
    }
   ],
   "source": [
    "my_array = np.array([\n",
    "    [1,2,3],\n",
    "    [2,4,6],\n",
    "    [3,6,8]\n",
    "])\n",
    "print(my_array)\n",
    "print('-'*80)\n",
    "df = pd.DataFrame(my_array, copy=False)\n",
    "print(df)\n",
    "print('-'*80)\n",
    "'''\n",
    "When copy is set to False (its default setting), \n",
    "the data from the NumPy array isn’t copied. \n",
    "This means that the original data from the array is assigned to the Pandas DataFrame. \n",
    "If you modify the array, then your DataFrame will change too\n",
    "'''\n",
    "my_array[0,0] = 1000\n",
    "print(my_array)\n",
    "print(df)\n",
    "print('-'*80)\n",
    "\n",
    "df = pd.DataFrame(my_array, copy=True)\n",
    "print(my_array)\n",
    "print(df)\n",
    "print('-'*80)\n",
    "\n",
    "my_array[0,1] = 1000\n",
    "print(my_array)\n",
    "print(df)\n",
    "print('-'*80)"
   ]
  },
  {
   "cell_type": "markdown",
   "metadata": {},
   "source": [
    "### Creating a Pandas DataFrame From Files"
   ]
  },
  {
   "cell_type": "code",
   "execution_count": 48,
   "metadata": {},
   "outputs": [
    {
     "data": {
      "text/html": [
       "<div>\n",
       "<style scoped>\n",
       "    .dataframe tbody tr th:only-of-type {\n",
       "        vertical-align: middle;\n",
       "    }\n",
       "\n",
       "    .dataframe tbody tr th {\n",
       "        vertical-align: top;\n",
       "    }\n",
       "\n",
       "    .dataframe thead th {\n",
       "        text-align: right;\n",
       "    }\n",
       "</style>\n",
       "<table border=\"1\" class=\"dataframe\">\n",
       "  <thead>\n",
       "    <tr style=\"text-align: right;\">\n",
       "      <th></th>\n",
       "      <th>Unnamed: 0</th>\n",
       "      <th>name</th>\n",
       "      <th>city</th>\n",
       "      <th>age</th>\n",
       "      <th>py-score</th>\n",
       "    </tr>\n",
       "  </thead>\n",
       "  <tbody>\n",
       "    <tr>\n",
       "      <th>0</th>\n",
       "      <td>101</td>\n",
       "      <td>Xavier</td>\n",
       "      <td>Mexico City</td>\n",
       "      <td>41</td>\n",
       "      <td>88.0</td>\n",
       "    </tr>\n",
       "    <tr>\n",
       "      <th>1</th>\n",
       "      <td>102</td>\n",
       "      <td>Ann</td>\n",
       "      <td>Toronto</td>\n",
       "      <td>28</td>\n",
       "      <td>79.0</td>\n",
       "    </tr>\n",
       "    <tr>\n",
       "      <th>2</th>\n",
       "      <td>103</td>\n",
       "      <td>Jana</td>\n",
       "      <td>Prague</td>\n",
       "      <td>33</td>\n",
       "      <td>81.0</td>\n",
       "    </tr>\n",
       "    <tr>\n",
       "      <th>3</th>\n",
       "      <td>104</td>\n",
       "      <td>Yi</td>\n",
       "      <td>Shanghai</td>\n",
       "      <td>34</td>\n",
       "      <td>80.0</td>\n",
       "    </tr>\n",
       "    <tr>\n",
       "      <th>4</th>\n",
       "      <td>105</td>\n",
       "      <td>Robin</td>\n",
       "      <td>Manchester</td>\n",
       "      <td>38</td>\n",
       "      <td>68.0</td>\n",
       "    </tr>\n",
       "    <tr>\n",
       "      <th>5</th>\n",
       "      <td>106</td>\n",
       "      <td>Amal</td>\n",
       "      <td>Cairo</td>\n",
       "      <td>31</td>\n",
       "      <td>61.0</td>\n",
       "    </tr>\n",
       "    <tr>\n",
       "      <th>6</th>\n",
       "      <td>107</td>\n",
       "      <td>Nori</td>\n",
       "      <td>Osaka</td>\n",
       "      <td>37</td>\n",
       "      <td>84.0</td>\n",
       "    </tr>\n",
       "  </tbody>\n",
       "</table>\n",
       "</div>"
      ],
      "text/plain": [
       "   Unnamed: 0    name         city  age  py-score\n",
       "0         101  Xavier  Mexico City   41      88.0\n",
       "1         102     Ann      Toronto   28      79.0\n",
       "2         103    Jana       Prague   33      81.0\n",
       "3         104      Yi     Shanghai   34      80.0\n",
       "4         105   Robin   Manchester   38      68.0\n",
       "5         106    Amal        Cairo   31      61.0\n",
       "6         107    Nori        Osaka   37      84.0"
      ]
     },
     "execution_count": 48,
     "metadata": {},
     "output_type": "execute_result"
    }
   ],
   "source": [
    "pd.read_csv('data\\pandas_csv_example.csv')"
   ]
  },
  {
   "cell_type": "markdown",
   "metadata": {},
   "source": [
    "### Retrieving Labels and Data"
   ]
  },
  {
   "cell_type": "markdown",
   "metadata": {},
   "source": [
    "#### Index using arange"
   ]
  },
  {
   "cell_type": "code",
   "execution_count": 61,
   "metadata": {},
   "outputs": [
    {
     "name": "stdout",
     "output_type": "stream",
     "text": [
      "Index(['Unnamed: 0', 'name', 'city', 'age', 'py-score'], dtype='object')\n",
      "name\n",
      "^^^^^^^^^^^^^^^^^^^^^^^^^^^^^^^^^^^^^^^^^^^^^^^^^^^^^^^^^^^^^^^^^^^^^^\n",
      "RangeIndex(start=0, stop=7, step=1)\n",
      "Float64Index([100.0, 102.0, 104.0, 106.0, 108.0, 110.0, 112.0], dtype='float64')\n",
      "Int64Index([100, 102, 104, 106, 108, 110, 112], dtype='int64')\n"
     ]
    }
   ],
   "source": [
    "import numpy as np\n",
    "\n",
    "df = pd.read_csv('data\\pandas_csv_example.csv')\n",
    "\n",
    "print(df.columns)\n",
    "print(df.columns[1])\n",
    "print(70*'^')\n",
    "print(df.index)\n",
    "df.index = np.arange(start=100, stop=114, step=2, dtype=float)\n",
    "print(df.index)\n",
    "df.index = np.arange(start=100, stop=114, step=2, dtype=int)\n",
    "print(df.index)\n"
   ]
  },
  {
   "cell_type": "markdown",
   "metadata": {},
   "source": [
    "#### extract data from a Pandas DataFrame without its labels using numpy"
   ]
  },
  {
   "cell_type": "code",
   "execution_count": 65,
   "metadata": {},
   "outputs": [
    {
     "name": "stdout",
     "output_type": "stream",
     "text": [
      "   Unnamed: 0    name         city  age  py-score\n",
      "0         101  Xavier  Mexico City   41      88.0\n",
      "1         102     Ann      Toronto   28      79.0\n",
      "2         103    Jana       Prague   33      81.0\n",
      "3         104      Yi     Shanghai   34      80.0\n",
      "4         105   Robin   Manchester   38      68.0\n",
      "5         106    Amal        Cairo   31      61.0\n",
      "6         107    Nori        Osaka   37      84.0\n",
      "----------------------------------------------------------------------\n",
      "[[101 'Xavier' 'Mexico City' 41 88.0]\n",
      " [102 'Ann' 'Toronto' 28 79.0]\n",
      " [103 'Jana' 'Prague' 33 81.0]\n",
      " [104 'Yi' 'Shanghai' 34 80.0]\n",
      " [105 'Robin' 'Manchester' 38 68.0]\n",
      " [106 'Amal' 'Cairo' 31 61.0]\n",
      " [107 'Nori' 'Osaka' 37 84.0]]\n",
      "----------------------------------------------------------------------\n",
      "[[101 'Xavier' 'Mexico City' 41 88.0]\n",
      " [102 'Ann' 'Toronto' 28 79.0]\n",
      " [103 'Jana' 'Prague' 33 81.0]\n",
      " [104 'Yi' 'Shanghai' 34 80.0]\n",
      " [105 'Robin' 'Manchester' 38 68.0]\n",
      " [106 'Amal' 'Cairo' 31 61.0]\n",
      " [107 'Nori' 'Osaka' 37 84.0]]\n"
     ]
    }
   ],
   "source": [
    "import numpy as np\n",
    "\n",
    "df = pd.read_csv('data\\pandas_csv_example.csv')\n",
    "print(df)\n",
    "print('-'*70)\n",
    "print(df.to_numpy(dtype=object, copy=False))\n",
    "print('-'*70)\n",
    "print(df.values)\n"
   ]
  },
  {
   "cell_type": "markdown",
   "metadata": {},
   "source": [
    "#### control dtypes using numpy"
   ]
  },
  {
   "cell_type": "code",
   "execution_count": 70,
   "metadata": {},
   "outputs": [
    {
     "name": "stdout",
     "output_type": "stream",
     "text": [
      "   Unnamed: 0    name         city  age  py-score\n",
      "0         101  Xavier  Mexico City   41      88.0\n",
      "1         102     Ann      Toronto   28      79.0\n",
      "2         103    Jana       Prague   33      81.0\n",
      "3         104      Yi     Shanghai   34      80.0\n",
      "4         105   Robin   Manchester   38      68.0\n",
      "5         106    Amal        Cairo   31      61.0\n",
      "6         107    Nori        Osaka   37      84.0\n",
      "----------------------------------------------------------------------\n",
      "Unnamed: 0      int64\n",
      "name           object\n",
      "city           object\n",
      "age             int64\n",
      "py-score      float64\n",
      "dtype: object\n",
      "----------------------------------------------------------------------\n",
      "   Unnamed: 0    name         city   age  py-score\n",
      "0         101  Xavier  Mexico City  41.0        88\n",
      "1         102     Ann      Toronto  28.0        79\n",
      "2         103    Jana       Prague  33.0        81\n",
      "3         104      Yi     Shanghai  34.0        80\n",
      "4         105   Robin   Manchester  38.0        68\n",
      "5         106    Amal        Cairo  31.0        61\n",
      "6         107    Nori        Osaka  37.0        84\n",
      "Unnamed: 0      int64\n",
      "name           object\n",
      "city           object\n",
      "age           float64\n",
      "py-score        int32\n",
      "dtype: object\n",
      "----------------------------------------------------------------------\n"
     ]
    }
   ],
   "source": [
    "import numpy as np\n",
    "\n",
    "df = pd.read_csv('data\\pandas_csv_example.csv')\n",
    "print(df)\n",
    "print('-'*70)\n",
    "\n",
    "print(df.dtypes)\n",
    "print('-'*70)\n",
    "\n",
    "df_ = df.astype({'age':np.float64 , 'py-score':np.int32})\n",
    "print(df_)\n",
    "print(df_.dtypes)\n",
    "print('-'*70)\n"
   ]
  },
  {
   "cell_type": "markdown",
   "metadata": {},
   "source": [
    "#### Dimensions of Dataframe"
   ]
  },
  {
   "cell_type": "code",
   "execution_count": 74,
   "metadata": {},
   "outputs": [
    {
     "name": "stdout",
     "output_type": "stream",
     "text": [
      "   Unnamed: 0    name         city  age  py-score\n",
      "0         101  Xavier  Mexico City   41      88.0\n",
      "1         102     Ann      Toronto   28      79.0\n",
      "2         103    Jana       Prague   33      81.0\n",
      "3         104      Yi     Shanghai   34      80.0\n",
      "4         105   Robin   Manchester   38      68.0\n",
      "5         106    Amal        Cairo   31      61.0\n",
      "6         107    Nori        Osaka   37      84.0\n",
      "----------------------------------------------------------------------\n",
      "Dimensions : 2\n",
      "Shape : (7, 5)\n",
      "Size : 35\n",
      "Memory Usage : Index         128\n",
      "Unnamed: 0     56\n",
      "name           56\n",
      "city           56\n",
      "age            56\n",
      "py-score       56\n",
      "dtype: int64\n",
      "----------------------------------------------------------------------\n"
     ]
    }
   ],
   "source": [
    "import numpy as np\n",
    "\n",
    "df = pd.read_csv('data\\pandas_csv_example.csv')\n",
    "print(df)\n",
    "print('-'*70)\n",
    "print(f\"Dimensions : {df.ndim}\")\n",
    "print(f\"Shape : {df.shape}\")\n",
    "print(f\"Size : {df.size}\")\n",
    "print(f\"Memory Usage : {df.memory_usage()}\")\n",
    "print('-'*70)\n"
   ]
  },
  {
   "cell_type": "markdown",
   "metadata": {},
   "source": [
    "### Accessing and Modifying Data"
   ]
  },
  {
   "cell_type": "code",
   "execution_count": 92,
   "metadata": {},
   "outputs": [
    {
     "name": "stdout",
     "output_type": "stream",
     "text": [
      "   Unnamed: 0    name         city  age  py-score\n",
      "0         101  Xavier  Mexico City   41      88.0\n",
      "1         102     Ann      Toronto   28      79.0\n",
      "2         103    Jana       Prague   33      81.0\n",
      "3         104      Yi     Shanghai   34      80.0\n",
      "4         105   Robin   Manchester   38      68.0\n",
      "5         106    Amal        Cairo   31      61.0\n",
      "6         107    Nori        Osaka   37      84.0\n",
      "----------------------------------------------------------------------\n",
      "     Unnamed: 0    name         city  age  py-score\n",
      "100         101  Xavier  Mexico City   41      88.0\n",
      "101         102     Ann      Toronto   28      79.0\n",
      "102         103    Jana       Prague   33      81.0\n",
      "103         104      Yi     Shanghai   34      80.0\n",
      "104         105   Robin   Manchester   38      68.0\n",
      "105         106    Amal        Cairo   31      61.0\n",
      "106         107    Nori        Osaka   37      84.0\n",
      "----------------------------------------------------------------------\n",
      "Unnamed: 0            101\n",
      "name               Xavier\n",
      "city          Mexico City\n",
      "age                    41\n",
      "py-score             88.0\n",
      "Name: 100, dtype: object\n",
      "----------------------------------------------------------------------\n",
      "Unnamed: 0            101\n",
      "name               Xavier\n",
      "city          Mexico City\n",
      "age                    41\n",
      "py-score             88.0\n",
      "Name: 100, dtype: object\n",
      "----------------------------------------------------------------------\n",
      "Xavier\n",
      "----------------------------------------------------------------------\n",
      "Xavier\n",
      "----------------------------------------------------------------------\n",
      "100    Xavier\n",
      "101       Ann\n",
      "102      Jana\n",
      "103        Yi\n",
      "104     Robin\n",
      "105      Amal\n",
      "106      Nori\n",
      "Name: name, dtype: object\n"
     ]
    }
   ],
   "source": [
    "df = pd.read_csv('data\\pandas_csv_example.csv')\n",
    "print(df)\n",
    "print('-'*70)\n",
    "df.index = np.arange(start=100, stop=107, step=1, dtype=int)\n",
    "print(df)\n",
    "print('-'*70)\n",
    "print(df.loc[100])\n",
    "print('-'*70)\n",
    "print(df.iloc[0])\n",
    "print('-'*70)\n",
    "print(df.at[100,'name'])\n",
    "print('-'*70)\n",
    "print(df.iat[0,1])\n",
    "print('-'*70)\n",
    "print(df['name'])"
   ]
  },
  {
   "cell_type": "markdown",
   "metadata": {},
   "source": [
    "### Slicing using loc and iloc"
   ]
  },
  {
   "cell_type": "code",
   "execution_count": 118,
   "metadata": {},
   "outputs": [
    {
     "name": "stdout",
     "output_type": "stream",
     "text": [
      "Unnamed: 0            101\n",
      "name               Xavier\n",
      "city          Mexico City\n",
      "age                    41\n",
      "py-score             88.0\n",
      "Name: 100, dtype: object\n",
      "----------------------------------------------------------------------\n",
      "Mexico City\n",
      "----------------------------------------------------------------------\n",
      "100    Mexico City\n",
      "101        Toronto\n",
      "102         Prague\n",
      "103       Shanghai\n",
      "104     Manchester\n",
      "105          Cairo\n",
      "106          Osaka\n",
      "Name: city, dtype: object\n",
      "----------------------------------------------------------------------\n",
      "100    Mexico City\n",
      "101        Toronto\n",
      "102         Prague\n",
      "103       Shanghai\n",
      "104     Manchester\n",
      "105          Cairo\n",
      "106          Osaka\n",
      "Name: city, dtype: object\n",
      "----------------------------------------------------------------------\n",
      "101       Toronto\n",
      "102        Prague\n",
      "103      Shanghai\n",
      "104    Manchester\n",
      "105         Cairo\n",
      "Name: city, dtype: object\n",
      "----------------------------------------------------------------------\n",
      "100    Xavier\n",
      "101       Ann\n",
      "102      Jana\n",
      "103        Yi\n",
      "104     Robin\n",
      "105      Amal\n",
      "106      Nori\n",
      "Name: name, dtype: object\n",
      "----------------------------------------------------------------------\n",
      "102    33\n",
      "103    34\n",
      "104    38\n",
      "Name: age, dtype: int64\n",
      "----------------------------------------------------------------------\n",
      "102        Prague\n",
      "104    Manchester\n",
      "106         Osaka\n",
      "Name: city, dtype: object\n",
      "----------------------------------------------------------------------\n",
      "102        Prague\n",
      "104    Manchester\n",
      "106         Osaka\n",
      "Name: city, dtype: object\n",
      "----------------------------------------------------------------------\n",
      "102        Prague\n",
      "104    Manchester\n",
      "106         Osaka\n",
      "Name: city, dtype: object\n",
      "----------------------------------------------------------------------\n",
      "102        Prague\n",
      "104    Manchester\n",
      "106         Osaka\n",
      "Name: city, dtype: object\n"
     ]
    }
   ],
   "source": [
    "print(df.loc[100])\n",
    "print('-'*70)\n",
    "print(df.loc[100,'city'])\n",
    "print('-'*70)\n",
    "print(df.loc[:,'city'])\n",
    "print('-'*70)\n",
    "print(df['city'])\n",
    "print('-'*70)\n",
    "print(df.loc[101:105,'city'])\n",
    "print('-'*70)\n",
    "print(df.iloc[:,1])\n",
    "print('-'*70)\n",
    "print(df.iloc[2:5,3])\n",
    "print('-'*70)\n",
    "print(df.iloc[2:7:2,2])\n",
    "print('-'*70)\n",
    "print(df.iloc[slice(2,7,2), 2])\n",
    "print('-'*70)\n",
    "print(df.iloc[np.s_[2:7:2], 2])\n",
    "print('-'*70)\n",
    "print(df.iloc[pd.IndexSlice[2:7:2], 2])"
   ]
  },
  {
   "cell_type": "markdown",
   "metadata": {},
   "source": [
    "### Get value of cell at loc"
   ]
  },
  {
   "cell_type": "code",
   "execution_count": 126,
   "metadata": {},
   "outputs": [
    {
     "name": "stdout",
     "output_type": "stream",
     "text": [
      "     Unnamed: 0    name         city  age  py-score\n",
      "100         101  Xavier  Mexico City   41      88.0\n",
      "101         102     Ann      Toronto   28      79.0\n",
      "102         103    Jana       Prague   33      81.0\n",
      "103         104      Yi     Shanghai   34      80.0\n",
      "104         105   Robin   Manchester   38      68.0\n",
      "105         106    Amal        Cairo   31      61.0\n",
      "106         107    Nori        Osaka   37      84.0\n",
      "Jana\n",
      "Jana\n"
     ]
    }
   ],
   "source": [
    "print(df)\n",
    "print(df.at[102, 'name'])\n",
    "print(df.iat[2,1])"
   ]
  },
  {
   "cell_type": "markdown",
   "metadata": {},
   "source": [
    "### setting data with accessors"
   ]
  },
  {
   "cell_type": "code",
   "execution_count": 135,
   "metadata": {},
   "outputs": [
    {
     "name": "stdout",
     "output_type": "stream",
     "text": [
      "100        0.0\n",
      "101        0.0\n",
      "102        0.0\n",
      "103       80.0\n",
      "104       68.0\n",
      "105       61.0\n",
      "106       84.0\n",
      "100102     NaN\n",
      "Name: py-score, dtype: float64\n",
      "....................................................................................................\n",
      "100        0.0\n",
      "101        0.0\n",
      "102        0.0\n",
      "103       80.0\n",
      "104       68.0\n",
      "105       61.0\n",
      "106       84.0\n",
      "100102     NaN\n",
      "Name: py-score, dtype: float64\n"
     ]
    },
    {
     "data": {
      "text/html": [
       "<div>\n",
       "<style scoped>\n",
       "    .dataframe tbody tr th:only-of-type {\n",
       "        vertical-align: middle;\n",
       "    }\n",
       "\n",
       "    .dataframe tbody tr th {\n",
       "        vertical-align: top;\n",
       "    }\n",
       "\n",
       "    .dataframe thead th {\n",
       "        text-align: right;\n",
       "    }\n",
       "</style>\n",
       "<table border=\"1\" class=\"dataframe\">\n",
       "  <thead>\n",
       "    <tr style=\"text-align: right;\">\n",
       "      <th></th>\n",
       "      <th>Unnamed: 0</th>\n",
       "      <th>name</th>\n",
       "      <th>city</th>\n",
       "      <th>age</th>\n",
       "      <th>py-score</th>\n",
       "    </tr>\n",
       "  </thead>\n",
       "  <tbody>\n",
       "    <tr>\n",
       "      <th>100</th>\n",
       "      <td>101.0</td>\n",
       "      <td>Xavier</td>\n",
       "      <td>Mexico City</td>\n",
       "      <td>41.0</td>\n",
       "      <td>0.0</td>\n",
       "    </tr>\n",
       "    <tr>\n",
       "      <th>101</th>\n",
       "      <td>102.0</td>\n",
       "      <td>Ann</td>\n",
       "      <td>Toronto</td>\n",
       "      <td>28.0</td>\n",
       "      <td>0.0</td>\n",
       "    </tr>\n",
       "    <tr>\n",
       "      <th>102</th>\n",
       "      <td>103.0</td>\n",
       "      <td>Jana</td>\n",
       "      <td>Prague</td>\n",
       "      <td>33.0</td>\n",
       "      <td>0.0</td>\n",
       "    </tr>\n",
       "    <tr>\n",
       "      <th>103</th>\n",
       "      <td>104.0</td>\n",
       "      <td>Yi</td>\n",
       "      <td>Shanghai</td>\n",
       "      <td>34.0</td>\n",
       "      <td>80.0</td>\n",
       "    </tr>\n",
       "    <tr>\n",
       "      <th>104</th>\n",
       "      <td>105.0</td>\n",
       "      <td>Robin</td>\n",
       "      <td>Manchester</td>\n",
       "      <td>38.0</td>\n",
       "      <td>68.0</td>\n",
       "    </tr>\n",
       "    <tr>\n",
       "      <th>105</th>\n",
       "      <td>106.0</td>\n",
       "      <td>Amal</td>\n",
       "      <td>Cairo</td>\n",
       "      <td>31.0</td>\n",
       "      <td>61.0</td>\n",
       "    </tr>\n",
       "    <tr>\n",
       "      <th>106</th>\n",
       "      <td>107.0</td>\n",
       "      <td>Nori</td>\n",
       "      <td>Osaka</td>\n",
       "      <td>37.0</td>\n",
       "      <td>84.0</td>\n",
       "    </tr>\n",
       "  </tbody>\n",
       "</table>\n",
       "</div>"
      ],
      "text/plain": [
       "     Unnamed: 0    name         city   age  py-score\n",
       "100       101.0  Xavier  Mexico City  41.0       0.0\n",
       "101       102.0     Ann      Toronto  28.0       0.0\n",
       "102       103.0    Jana       Prague  33.0       0.0\n",
       "103       104.0      Yi     Shanghai  34.0      80.0\n",
       "104       105.0   Robin   Manchester  38.0      68.0\n",
       "105       106.0    Amal        Cairo  31.0      61.0\n",
       "106       107.0    Nori        Osaka  37.0      84.0"
      ]
     },
     "execution_count": 135,
     "metadata": {},
     "output_type": "execute_result"
    }
   ],
   "source": [
    "print(df.loc[:, 'py-score'])\n",
    "print('.'*100)\n",
    "df.loc[100:102,'py-score'] = [0,0,0]\n",
    "print(df.loc[:, 'py-score'])\n",
    "\n",
    "df.drop(100102,axis=0)"
   ]
  },
  {
   "cell_type": "markdown",
   "metadata": {},
   "source": [
    "### Inserting & deleting data"
   ]
  },
  {
   "cell_type": "code",
   "execution_count": 149,
   "metadata": {},
   "outputs": [
    {
     "name": "stdout",
     "output_type": "stream",
     "text": [
      "      name  number\n",
      "0   Helium       2\n",
      "1     Neon      10\n",
      "2  Krypton      36\n",
      "3    Xenon      54\n",
      "name      Radon\n",
      "number       86\n",
      "Name: 4, dtype: object\n",
      "      name  number\n",
      "0   Helium       2\n",
      "1     Neon      10\n",
      "2  Krypton      36\n",
      "3    Xenon      54\n",
      "      name  number\n",
      "0   Helium       2\n",
      "1     Neon      10\n",
      "2  Krypton      36\n",
      "3    Xenon      54\n",
      "4    Radon      86\n",
      "         name  number\n",
      "0      Helium       2\n",
      "1        Neon      10\n",
      "2     Krypton      36\n",
      "3       Xenon      54\n",
      "4       Radon      86\n",
      "1200    Dummy    1200\n",
      "      name  number\n",
      "0   Helium       2\n",
      "1     Neon      10\n",
      "2  Krypton      36\n",
      "3    Xenon      54\n",
      "4    Radon      86\n"
     ]
    }
   ],
   "source": [
    "gas_df_dict={\n",
    "    'name':['Helium','Neon','Krypton','Xenon'],\n",
    "    'number' : [2,10,36,54]\n",
    "}\n",
    "gas_df = pd.DataFrame(data=gas_df_dict)\n",
    "print(gas_df)\n",
    "# create Series object to insert\n",
    "new_gas=pd.Series(data=['Radon',86],index=gas_df.columns, name = 4)\n",
    "print(new_gas)\n",
    "# insert\n",
    "gas_df.append(new_gas)\n",
    "print(gas_df)\n",
    "gas_df = gas_df.append(new_gas)\n",
    "print(gas_df)\n",
    "# Create dummy gas & drop\n",
    "new_gas = pd.Series(data=['Dummy',1200], index=gas_df.columns,name=1200)\n",
    "gas_df = gas_df.append(new_gas)\n",
    "print(gas_df)\n",
    "gas_df.drop(labels=[1200],inplace=True)\n",
    "print(gas_df)"
   ]
  },
  {
   "cell_type": "code",
   "execution_count": 160,
   "metadata": {},
   "outputs": [
    {
     "name": "stdout",
     "output_type": "stream",
     "text": [
      "      name  number\n",
      "0   Helium       2\n",
      "1     Neon      10\n",
      "2  Krypton      36\n",
      "3    Xenon      54\n",
      "      name  number  dummy\n",
      "0   Helium       2    100\n",
      "1     Neon      10    101\n",
      "2  Krypton      36    102\n",
      "3    Xenon      54    103\n",
      "      name  number  dummy  dummy2\n",
      "0   Helium       2    100      10\n",
      "1     Neon      10    101      10\n",
      "2  Krypton      36    102      10\n",
      "3    Xenon      54    103      10\n",
      "      name  number  dummy    weight  dummy2\n",
      "0   Helium       2    100    4.0026      10\n",
      "1     Neon      10    101   20.1800      10\n",
      "2  Krypton      36    102   83.7980      10\n",
      "3    Xenon      54    103  131.2900      10\n",
      "      name  number  dummy    weight  dummy2\n",
      "0   Helium       2    100    4.0026      10\n",
      "1     Neon      10    101   20.1800      10\n",
      "2  Krypton      36    102   83.7980      10\n",
      "3    Xenon      54    103  131.2900      10\n",
      "      name  number    weight\n",
      "0   Helium       2    4.0026\n",
      "1     Neon      10   20.1800\n",
      "2  Krypton      36   83.7980\n",
      "3    Xenon      54  131.2900\n"
     ]
    }
   ],
   "source": [
    "gas_df_dict={\n",
    "    'name':['Helium','Neon','Krypton','Xenon'],\n",
    "    'number' : [2,10,36,54]\n",
    "}\n",
    "gas_df = pd.DataFrame(data=gas_df_dict)\n",
    "print(gas_df)\n",
    "gas_df['dummy'] = (lambda: list(range(100,104)))()\n",
    "print(gas_df)\n",
    "gas_df['dummy2'] = 10\n",
    "print(gas_df)\n",
    "gas_df.insert(loc=3, column='weight', value = np.array([4.0026 , 20.180, 83.798, 131.29]))\n",
    "print(gas_df)\n",
    "gas_df.drop(labels=['dummy','dummy2'], axis=1)\n",
    "print(gas_df)\n",
    "gas_df.drop(labels=['dummy','dummy2'], axis=1, inplace=True)\n",
    "print(gas_df)"
   ]
  },
  {
   "cell_type": "markdown",
   "metadata": {},
   "source": [
    "### Concat"
   ]
  },
  {
   "cell_type": "code",
   "execution_count": 30,
   "metadata": {},
   "outputs": [],
   "source": [
    "import pandas as pd\n",
    "\n",
    "city_countries = pd.DataFrame({\n",
    "    \"country\":[\"Holland\", \"Japan\", \"Holland\", \"Canada\", \"Spain\"],\n",
    "    \"capital\":[1,1,0,0,0],\n",
    "    \"city\" : [\"Amsterdam\", \"Tokyo\", \"Rotterdam\", \"Toronto\", \"Barcelona\"]\n",
    "})\n",
    "\n",
    "## TBD"
   ]
  },
  {
   "cell_type": "code",
   "execution_count": null,
   "metadata": {},
   "outputs": [],
   "source": []
  }
 ],
 "metadata": {
  "kernelspec": {
   "display_name": "Python 3 (ipykernel)",
   "language": "python",
   "name": "python3"
  },
  "language_info": {
   "codemirror_mode": {
    "name": "ipython",
    "version": 3
   },
   "file_extension": ".py",
   "mimetype": "text/x-python",
   "name": "python",
   "nbconvert_exporter": "python",
   "pygments_lexer": "ipython3",
   "version": "3.9.7"
  }
 },
 "nbformat": 4,
 "nbformat_minor": 4
}
