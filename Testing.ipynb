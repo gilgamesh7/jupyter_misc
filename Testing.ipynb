{
 "cells": [
  {
   "cell_type": "markdown",
   "id": "17259619",
   "metadata": {},
   "source": [
    "# testdriven.io\n",
    "https://testdriven.io/blog/testing-python/"
   ]
  },
  {
   "cell_type": "code",
   "execution_count": 9,
   "id": "795fc12e",
   "metadata": {},
   "outputs": [
    {
     "name": "stdout",
     "output_type": "stream",
     "text": [
      "Collecting pytest\n",
      "  Downloading pytest-6.2.5-py3-none-any.whl (280 kB)\n",
      "\u001b[K     |████████████████████████████████| 280 kB 1.4 MB/s eta 0:00:01\n",
      "\u001b[?25hRequirement already satisfied: toml in /usr/local/lib/python3.9/site-packages (from pytest) (0.10.2)\n",
      "Collecting iniconfig\n",
      "  Downloading iniconfig-1.1.1-py2.py3-none-any.whl (5.0 kB)\n",
      "Requirement already satisfied: packaging in /usr/local/lib/python3.9/site-packages (from pytest) (21.0)\n",
      "Collecting pluggy<2.0,>=0.12\n",
      "  Downloading pluggy-1.0.0-py2.py3-none-any.whl (13 kB)\n",
      "Requirement already satisfied: attrs>=19.2.0 in /usr/local/lib/python3.9/site-packages (from pytest) (21.2.0)\n",
      "Collecting py>=1.8.2\n",
      "  Downloading py-1.10.0-py2.py3-none-any.whl (97 kB)\n",
      "\u001b[K     |████████████████████████████████| 97 kB 1.4 MB/s eta 0:00:01\n",
      "\u001b[?25hRequirement already satisfied: pyparsing>=2.0.2 in /usr/local/lib/python3.9/site-packages (from packaging->pytest) (2.4.7)\n",
      "Installing collected packages: py, pluggy, iniconfig, pytest\n",
      "Successfully installed iniconfig-1.1.1 pluggy-1.0.0 py-1.10.0 pytest-6.2.5\n",
      "\u001b[33mWARNING: Running pip as the 'root' user can result in broken permissions and conflicting behaviour with the system package manager. It is recommended to use a virtual environment instead: https://pip.pypa.io/warnings/venv\u001b[0m\n",
      "Note: you may need to restart the kernel to use updated packages.\n"
     ]
    }
   ],
   "source": [
    "pip install -U pytest"
   ]
  },
  {
   "cell_type": "code",
   "execution_count": 1,
   "id": "19f3d5fe",
   "metadata": {},
   "outputs": [],
   "source": [
    "import requests\n",
    "\n",
    "def get_my_ip():\n",
    "    response = requests.get(\n",
    "        \"http://ipinfo.io/json\")\n",
    "    \n",
    "    return response.json()\n",
    "\n"
   ]
  },
  {
   "cell_type": "code",
   "execution_count": 2,
   "id": "6224939a",
   "metadata": {},
   "outputs": [
    {
     "data": {
      "text/plain": [
       "{'ip': '146.171.247.44',\n",
       " 'hostname': '146-171-247-44.spark.co.nz',\n",
       " 'city': 'Auckland',\n",
       " 'region': 'Auckland',\n",
       " 'country': 'NZ',\n",
       " 'loc': '-36.8485,174.7635',\n",
       " 'org': 'AS2570 Spark New Zealand Trading Ltd',\n",
       " 'postal': '1010',\n",
       " 'timezone': 'Pacific/Auckland',\n",
       " 'readme': 'https://ipinfo.io/missingauth'}"
      ]
     },
     "execution_count": 2,
     "metadata": {},
     "output_type": "execute_result"
    }
   ],
   "source": [
    "get_my_ip()"
   ]
  },
  {
   "cell_type": "code",
   "execution_count": 5,
   "id": "71000de1",
   "metadata": {},
   "outputs": [],
   "source": [
    "def test_get_my_ip(monkeypatch):\n",
    "    my_ip = \"123.123.123.123\"\n",
    "    \n",
    "    class MockResponse:\n",
    "        def __init__(self, json_body):\n",
    "            self.json_body\n",
    "            \n",
    "        def json(self):\n",
    "            return self.json_body\n",
    "            \n",
    "    \n",
    "    monkeypatch.setattr(\n",
    "        requests,\n",
    "        'get',\n",
    "        lambda *args, **kwargs: MockResponse({'ip': my_ip}))\n",
    "    \n",
    "    assert get_my_ip == my_ip"
   ]
  },
  {
   "cell_type": "code",
   "execution_count": 9,
   "id": "457021e0",
   "metadata": {},
   "outputs": [
    {
     "ename": "NameError",
     "evalue": "name 'pytest' is not defined",
     "output_type": "error",
     "traceback": [
      "\u001b[0;31m---------------------------------------------------------------------------\u001b[0m",
      "\u001b[0;31mNameError\u001b[0m                                 Traceback (most recent call last)",
      "\u001b[0;32m/tmp/ipykernel_115/365994756.py\u001b[0m in \u001b[0;36m<module>\u001b[0;34m\u001b[0m\n\u001b[0;32m----> 1\u001b[0;31m \u001b[0mpytest\u001b[0m\u001b[0;34m\u001b[0m\u001b[0;34m\u001b[0m\u001b[0m\n\u001b[0m",
      "\u001b[0;31mNameError\u001b[0m: name 'pytest' is not defined"
     ]
    }
   ],
   "source": [
    "pytest"
   ]
  },
  {
   "cell_type": "code",
   "execution_count": null,
   "id": "b5af0541",
   "metadata": {},
   "outputs": [],
   "source": []
  }
 ],
 "metadata": {
  "kernelspec": {
   "display_name": "Python 3 (ipykernel)",
   "language": "python",
   "name": "python3"
  },
  "language_info": {
   "codemirror_mode": {
    "name": "ipython",
    "version": 3
   },
   "file_extension": ".py",
   "mimetype": "text/x-python",
   "name": "python",
   "nbconvert_exporter": "python",
   "pygments_lexer": "ipython3",
   "version": "3.9.7"
  }
 },
 "nbformat": 4,
 "nbformat_minor": 5
}
