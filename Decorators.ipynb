{
 "cells": [
  {
   "cell_type": "markdown",
   "metadata": {},
   "source": [
    "# Top 10 Python decorators\n",
    "## https://towardsdatascience.com/10-fabulous-python-decorators-ab674a732871"
   ]
  },
  {
   "cell_type": "markdown",
   "metadata": {},
   "source": [
    "### @lru_cache & @do_twice"
   ]
  },
  {
   "cell_type": "code",
   "execution_count": 7,
   "metadata": {},
   "outputs": [
    {
     "name": "stdout",
     "output_type": "stream",
     "text": [
      "Requirement already satisfied: decorators in c:\\rajesh\\jupyter\\venv\\lib\\site-packages (2.0.7)\n",
      "Note: you may need to restart the kernel to use updated packages.\n"
     ]
    },
    {
     "name": "stderr",
     "output_type": "stream",
     "text": [
      "WARNING: You are using pip version 21.0.1; however, version 21.1.2 is available.\n",
      "You should consider upgrading via the 'c:\\rajesh\\jupyter\\venv\\scripts\\python.exe -m pip install --upgrade pip' command.\n"
     ]
    }
   ],
   "source": [
    "pip install -U decorators"
   ]
  },
  {
   "cell_type": "code",
   "execution_count": 3,
   "metadata": {},
   "outputs": [
    {
     "ename": "ImportError",
     "evalue": "cannot import name 'do_twice' from 'decorators' (c:\\rajesh\\jupyter\\venv\\lib\\site-packages\\decorators\\__init__.py)",
     "output_type": "error",
     "traceback": [
      "\u001b[1;31m---------------------------------------------------------------------------\u001b[0m",
      "\u001b[1;31mImportError\u001b[0m                               Traceback (most recent call last)",
      "\u001b[1;32m<ipython-input-3-e43ea0e289d4>\u001b[0m in \u001b[0;36m<module>\u001b[1;34m\u001b[0m\n\u001b[1;32m----> 1\u001b[1;33m \u001b[1;32mfrom\u001b[0m \u001b[0mdecorators\u001b[0m \u001b[1;32mimport\u001b[0m \u001b[0mdo_twice\u001b[0m\u001b[1;33m\u001b[0m\u001b[1;33m\u001b[0m\u001b[0m\n\u001b[0m\u001b[0;32m      2\u001b[0m \u001b[1;33m\u001b[0m\u001b[0m\n\u001b[0;32m      3\u001b[0m \u001b[1;32mdef\u001b[0m \u001b[0mfactorial\u001b[0m\u001b[1;33m(\u001b[0m\u001b[0mn\u001b[0m\u001b[1;33m)\u001b[0m\u001b[1;33m:\u001b[0m\u001b[1;33m\u001b[0m\u001b[1;33m\u001b[0m\u001b[0m\n\u001b[0;32m      4\u001b[0m     \u001b[1;31m# Base & Recursion case in same line using trenery operator\u001b[0m\u001b[1;33m\u001b[0m\u001b[1;33m\u001b[0m\u001b[1;33m\u001b[0m\u001b[0m\n\u001b[0;32m      5\u001b[0m     \u001b[0mprint\u001b[0m\u001b[1;33m(\u001b[0m\u001b[0mn\u001b[0m\u001b[1;33m)\u001b[0m\u001b[1;33m\u001b[0m\u001b[1;33m\u001b[0m\u001b[0m\n",
      "\u001b[1;31mImportError\u001b[0m: cannot import name 'do_twice' from 'decorators' (c:\\rajesh\\jupyter\\venv\\lib\\site-packages\\decorators\\__init__.py)"
     ]
    }
   ],
   "source": [
    "from decorators import do_twice\n",
    "\n",
    "def factorial(n):\n",
    "    # Base & Recursion case in same line using trenery operator\n",
    "    print(n)\n",
    "    return n* factorial(n-1) if n else 1\n",
    "\n",
    "print(factorial(5))\n",
    "\n",
    "@do_twice\n",
    "def timer_func():\n",
    "    print(\"whee\")\n",
    "    \n",
    "timer_func()"
   ]
  },
  {
   "cell_type": "code",
   "execution_count": 7,
   "metadata": {},
   "outputs": [
    {
     "name": "stdout",
     "output_type": "stream",
     "text": [
      "5\n",
      "4\n",
      "3\n",
      "2\n",
      "1\n",
      "0\n",
      "120\n"
     ]
    }
   ],
   "source": [
    "from functools import lru_cache\n",
    "\n",
    "@lru_cache(maxsize=None)\n",
    "def factorial(n):\n",
    "    # Base & Recursion case in same line using trenery operator\n",
    "    print(n)\n",
    "    return n* factorial(n-1) if n else 1\n",
    "\n",
    "print(factorial(5))"
   ]
  },
  {
   "cell_type": "code",
   "execution_count": 8,
   "metadata": {},
   "outputs": [
    {
     "name": "stdout",
     "output_type": "stream",
     "text": [
      "Calculating F(5)\n",
      "Calculating F(4)\n",
      "Calculating F(3)\n",
      "Calculating F(2)\n",
      "Calculating F(1)\n",
      "Calculating F(0)\n",
      "Calculating F(1)\n",
      "Calculating F(2)\n",
      "Calculating F(1)\n",
      "Calculating F(0)\n",
      "Calculating F(3)\n",
      "Calculating F(2)\n",
      "Calculating F(1)\n",
      "Calculating F(0)\n",
      "Calculating F(1)\n"
     ]
    },
    {
     "data": {
      "text/plain": [
       "5"
      ]
     },
     "execution_count": 8,
     "metadata": {},
     "output_type": "execute_result"
    }
   ],
   "source": [
    "def fibonacci_recursive(n):\n",
    "    print(f\"Calculating F({n})\")\n",
    "    # base case\n",
    "    if n == 0:\n",
    "        return 0\n",
    "    elif n == 1:\n",
    "        return 1\n",
    "    \n",
    "    # Recursive case\n",
    "    else:\n",
    "        return fibonacci_recursive(n-1) + fibonacci_recursive(n-2)\n",
    "\n",
    "fibonacci_recursive(5)"
   ]
  },
  {
   "cell_type": "code",
   "execution_count": 9,
   "metadata": {},
   "outputs": [
    {
     "name": "stdout",
     "output_type": "stream",
     "text": [
      "Calculating F(5)\n",
      "Calculating F(4)\n",
      "Calculating F(3)\n",
      "Calculating F(2)\n",
      "Calculating F(1)\n",
      "Calculating F(0)\n"
     ]
    },
    {
     "data": {
      "text/plain": [
       "5"
      ]
     },
     "execution_count": 9,
     "metadata": {},
     "output_type": "execute_result"
    }
   ],
   "source": [
    "from functools import lru_cache\n",
    "\n",
    "@lru_cache(maxsize=None)\n",
    "def fibonacci_recursive(n):\n",
    "    print(f\"Calculating F({n})\")\n",
    "    # base case\n",
    "    if n == 0:\n",
    "        return 0\n",
    "    elif n == 1:\n",
    "        return 1\n",
    "    \n",
    "    # Recursive case\n",
    "    else:\n",
    "        return fibonacci_recursive(n-1) + fibonacci_recursive(n-2)\n",
    "\n",
    "fibonacci_recursive(5)"
   ]
  },
  {
   "cell_type": "markdown",
   "metadata": {},
   "source": [
    "## @jit"
   ]
  },
  {
   "cell_type": "code",
   "execution_count": 11,
   "metadata": {},
   "outputs": [
    {
     "name": "stdout",
     "output_type": "stream",
     "text": [
      "Collecting numba\n",
      "  Downloading numba-0.53.1-cp37-cp37m-win_amd64.whl (2.3 MB)\n",
      "Requirement already satisfied: numpy>=1.15 in c:\\rajesh\\jupyter\\venv\\lib\\site-packages (from numba) (1.19.4)\n",
      "Requirement already satisfied: setuptools in c:\\rajesh\\jupyter\\venv\\lib\\site-packages (from numba) (40.8.0)\n",
      "Collecting llvmlite<0.37,>=0.36.0rc1\n",
      "  Downloading llvmlite-0.36.0-cp37-cp37m-win_amd64.whl (16.0 MB)\n",
      "Installing collected packages: llvmlite, numba\n",
      "Successfully installed llvmlite-0.36.0 numba-0.53.1\n",
      "Note: you may need to restart the kernel to use updated packages.\n"
     ]
    },
    {
     "name": "stderr",
     "output_type": "stream",
     "text": [
      "WARNING: You are using pip version 21.0.1; however, version 21.1.2 is available.\n",
      "You should consider upgrading via the 'c:\\rajesh\\jupyter\\venv\\scripts\\python.exe -m pip install --upgrade pip' command.\n"
     ]
    }
   ],
   "source": [
    "pip install numba"
   ]
  },
  {
   "cell_type": "code",
   "execution_count": 21,
   "metadata": {},
   "outputs": [
    {
     "name": "stdout",
     "output_type": "stream",
     "text": [
      "0.8524\n"
     ]
    }
   ],
   "source": [
    "from numba import jit\n",
    "import random\n",
    "\n",
    "def monte_carlo_pi(nsamples):\n",
    "    acc=0\n",
    "    for i in range(nsamples):\n",
    "        x = random.random()\n",
    "        y = random.random()\n",
    "        if (x ** 2 + y **2) > 1.0 :\n",
    "            acc += 1\n",
    "\n",
    "    return 4.0 * acc / nsamples\n",
    "\n",
    "print(monte_carlo_pi(10000))"
   ]
  },
  {
   "cell_type": "code",
   "execution_count": 24,
   "metadata": {},
   "outputs": [
    {
     "name": "stdout",
     "output_type": "stream",
     "text": [
      "0.8748\n"
     ]
    }
   ],
   "source": [
    "@jit(nopython=True)\n",
    "def monte_carlo_pi(nsamples):\n",
    "    acc=0\n",
    "    for i in range(nsamples):\n",
    "        x = random.random()\n",
    "        y = random.random()\n",
    "        if (x ** 2 + y **2) > 1.0 :\n",
    "            acc += 1\n",
    "\n",
    "    return 4.0 * acc / nsamples\n",
    "\n",
    "print(monte_carlo_pi(10000))"
   ]
  },
  {
   "cell_type": "markdown",
   "metadata": {},
   "source": [
    "### @count_calls"
   ]
  },
  {
   "cell_type": "code",
   "execution_count": 4,
   "metadata": {},
   "outputs": [
    {
     "ename": "ImportError",
     "evalue": "cannot import name 'count_calls' from 'decorators' (c:\\rajesh\\jupyter\\venv\\lib\\site-packages\\decorators\\__init__.py)",
     "output_type": "error",
     "traceback": [
      "\u001b[1;31m---------------------------------------------------------------------------\u001b[0m",
      "\u001b[1;31mImportError\u001b[0m                               Traceback (most recent call last)",
      "\u001b[1;32m<ipython-input-4-e7992a8c1432>\u001b[0m in \u001b[0;36m<module>\u001b[1;34m\u001b[0m\n\u001b[1;32m----> 1\u001b[1;33m \u001b[1;32mfrom\u001b[0m \u001b[0mdecorators\u001b[0m \u001b[1;32mimport\u001b[0m \u001b[0mcount_calls\u001b[0m\u001b[1;33m\u001b[0m\u001b[1;33m\u001b[0m\u001b[0m\n\u001b[0m",
      "\u001b[1;31mImportError\u001b[0m: cannot import name 'count_calls' from 'decorators' (c:\\rajesh\\jupyter\\venv\\lib\\site-packages\\decorators\\__init__.py)"
     ]
    }
   ],
   "source": [
    "from decorators import count_calls"
   ]
  },
  {
   "cell_type": "markdown",
   "metadata": {},
   "source": [
    "## Simple Example of using decorators"
   ]
  },
  {
   "cell_type": "code",
   "execution_count": 3,
   "metadata": {},
   "outputs": [
    {
     "name": "stdout",
     "output_type": "stream",
     "text": [
      "what is the passcode ? 1234\n",
      "Access granted\n",
      "Rajesh is queylIs The Unforgettable. Tlhlngan maH !\n",
      "what is the passcode ? 22\n",
      "Wrong passcode\n"
     ]
    }
   ],
   "source": [
    "def ask_for_passcode(func):\n",
    "    def ask_pass():\n",
    "        passcode = input(\"what is the passcode ? \")\n",
    "        \n",
    "        if passcode != \"1234\":\n",
    "            print(\"Wrong passcode\")\n",
    "        else :\n",
    "            print(\"Access granted\")\n",
    "            func()\n",
    "            \n",
    "    return ask_pass\n",
    "    \n",
    "@ask_for_passcode    \n",
    "def reveal_secret_identity():\n",
    "    print(\"Rajesh is queylIs The Unforgettable. Tlhlngan maH !\")\n",
    "\n",
    "@ask_for_passcode\n",
    "def reveal_creditcard_pin():\n",
    "    print(\"Naresh's credit card pin is 1234\")\n",
    "    \n",
    "reveal_secret_identity()\n",
    "reveal_creditcard_pin()"
   ]
  },
  {
   "cell_type": "code",
   "execution_count": 17,
   "metadata": {},
   "outputs": [
    {
     "name": "stdout",
     "output_type": "stream",
     "text": [
      "Bad things can happen without Type Hints\n",
      "In God We Trust\n",
      "IN GOD WE TRUST\n",
      "In God We Trust\n",
      "IN GOD WE TRUST\n",
      "Good things dont necessarily happen with Type Hints\n",
      "In God We Trust\n",
      "IN GOD WE TRUST\n",
      "In God We Trust\n",
      "IN GOD WE TRUST\n"
     ]
    }
   ],
   "source": [
    "def headline(text, title=True):\n",
    "    if title:\n",
    "      text = text.title()\n",
    "\n",
    "    return f\"{text}\"\n",
    "\n",
    "def headline_with_typehints(text: str, title: bool=True) ->str:\n",
    "    if title:\n",
    "      text = text.title()\n",
    "\n",
    "    return f\"{text}\"\n",
    "\n",
    "print(\"Bad things can happen without Type Hints\")\n",
    "print(headline(\"IN GOD WE TRUST\", True))\n",
    "print(headline(\"IN GOD WE TRUST\", False))\n",
    "print(headline(\"IN GOD WE TRUST\", \"Imuckedup\"))\n",
    "print(headline(\"IN GOD WE TRUST\", \"\"))\n",
    "\n",
    "print(\"Good things dont necessarily happen with Type Hints\")\n",
    "print(headline_with_typehints(\"IN GOD WE TRUST\", True))\n",
    "print(headline_with_typehints(\"IN GOD WE TRUST\", False))\n",
    "print(headline_with_typehints(\"IN GOD WE TRUST\", \"Imuckedup\"))\n",
    "print(headline_with_typehints(\"IN GOD WE TRUST\", \"\"))\n"
   ]
  },
  {
   "cell_type": "markdown",
   "metadata": {},
   "source": [
    "# TUTORIAL / Geir Arne Hjelle / Introduction to Decorators: Power UP Your Python Code"
   ]
  },
  {
   "cell_type": "markdown",
   "metadata": {},
   "source": [
    "## https://www.youtube.com/watch?v=VWZAh1QrqRE&list=RDCMUCMjMBMGt0WJQLeluw6qNJuA&start_radio=1&rv=VWZAh1QrqRE&t=137"
   ]
  },
  {
   "cell_type": "code",
   "execution_count": 30,
   "metadata": {},
   "outputs": [
    {
     "name": "stdout",
     "output_type": "stream",
     "text": [
      "Sleeping for 3 seconds\n",
      "Sleeping for 3 seconds\n",
      "Sleeping for 3 seconds\n"
     ]
    },
    {
     "data": {
      "text/plain": [
       "9"
      ]
     },
     "execution_count": 30,
     "metadata": {},
     "output_type": "execute_result"
    }
   ],
   "source": [
    "import time\n",
    "\n",
    "def slow_square(number:int)-> int:\n",
    "    print(f\"Sleeping for {number} seconds\")\n",
    "    time.sleep(number)\n",
    "    \n",
    "    return number**2\n",
    "\n",
    "slow_square(3)\n",
    "slow_square(3)\n",
    "slow_square(3)\n"
   ]
  },
  {
   "cell_type": "code",
   "execution_count": 31,
   "metadata": {},
   "outputs": [
    {
     "name": "stdout",
     "output_type": "stream",
     "text": [
      "Sleeping for 3 seconds\n"
     ]
    },
    {
     "data": {
      "text/plain": [
       "9"
      ]
     },
     "execution_count": 31,
     "metadata": {},
     "output_type": "execute_result"
    }
   ],
   "source": [
    "import functools\n",
    "\n",
    "@functools.lru_cache\n",
    "def slow_square(number:int)->int:\n",
    "    print(f\"Sleeping for {number} seconds\")\n",
    "    time.sleep(number)\n",
    "    \n",
    "    return number**2\n",
    "\n",
    "\n",
    "slow_square(3)"
   ]
  },
  {
   "cell_type": "code",
   "execution_count": 32,
   "metadata": {},
   "outputs": [
    {
     "data": {
      "text/plain": [
       "9"
      ]
     },
     "execution_count": 32,
     "metadata": {},
     "output_type": "execute_result"
    }
   ],
   "source": [
    "# This one doesnt take 3 seconds\n",
    "slow_square(3)"
   ]
  },
  {
   "cell_type": "code",
   "execution_count": 26,
   "metadata": {},
   "outputs": [
    {
     "data": {
      "text/plain": [
       "<function functools.lru_cache(maxsize=128, typed=False)>"
      ]
     },
     "execution_count": 26,
     "metadata": {},
     "output_type": "execute_result"
    }
   ],
   "source": [
    "functools.lru_cache"
   ]
  },
  {
   "cell_type": "code",
   "execution_count": 39,
   "metadata": {},
   "outputs": [
    {
     "data": {
      "text/plain": [
       "<function print>"
      ]
     },
     "execution_count": 39,
     "metadata": {},
     "output_type": "execute_result"
    }
   ],
   "source": [
    "print"
   ]
  },
  {
   "cell_type": "code",
   "execution_count": 28,
   "metadata": {},
   "outputs": [
    {
     "data": {
      "text/plain": [
       "<function print>"
      ]
     },
     "execution_count": 28,
     "metadata": {},
     "output_type": "execute_result"
    }
   ],
   "source": [
    "# norwegian for print\n",
    "skriv_ut = print\n",
    "skriv_ut"
   ]
  },
  {
   "cell_type": "code",
   "execution_count": 29,
   "metadata": {},
   "outputs": [
    {
     "name": "stdout",
     "output_type": "stream",
     "text": [
      "Sleeping for 2 seconds\n",
      "In God We Trust ! 4\n"
     ]
    }
   ],
   "source": [
    "skriv_ut(f\"In God We Trust ! {slow_square(2)}\")"
   ]
  },
  {
   "cell_type": "code",
   "execution_count": 48,
   "metadata": {},
   "outputs": [
    {
     "name": "stdout",
     "output_type": "stream",
     "text": [
      "Bragi, In God We Trust!\n"
     ]
    }
   ],
   "source": [
    "def greet(name: str, printer: Callable = print)-> None:\n",
    "    printer(f\"{name}, In God We Trust!\")\n",
    "    \n",
    "greet(\"Bragi\")\n",
    "\n"
   ]
  },
  {
   "cell_type": "code",
   "execution_count": 50,
   "metadata": {},
   "outputs": [
    {
     "name": "stdout",
     "output_type": "stream",
     "text": [
      "!tsurT eW doG nI ,rohT\n"
     ]
    }
   ],
   "source": [
    "def tnirp(name: str)-> None:\n",
    "    print(name[::-1])\n",
    "\n",
    "greet(\"Thor\",printer = tnirp)"
   ]
  },
  {
   "cell_type": "code",
   "execution_count": 42,
   "metadata": {},
   "outputs": [
    {
     "ename": "TypeError",
     "evalue": "tnirp() missing 1 required positional argument: 'name'",
     "output_type": "error",
     "traceback": [
      "\u001b[0;31m---------------------------------------------------------------------------\u001b[0m",
      "\u001b[0;31mTypeError\u001b[0m                                 Traceback (most recent call last)",
      "\u001b[0;32m/tmp/ipykernel_50/1621894872.py\u001b[0m in \u001b[0;36m<module>\u001b[0;34m\u001b[0m\n\u001b[0;32m----> 1\u001b[0;31m \u001b[0mgreet\u001b[0m\u001b[0;34m(\u001b[0m\u001b[0;34m\"Thor\"\u001b[0m\u001b[0;34m,\u001b[0m\u001b[0mprinter\u001b[0m \u001b[0;34m=\u001b[0m \u001b[0mtnirp\u001b[0m\u001b[0;34m(\u001b[0m\u001b[0;34m)\u001b[0m\u001b[0;34m)\u001b[0m\u001b[0;34m\u001b[0m\u001b[0;34m\u001b[0m\u001b[0m\n\u001b[0m",
      "\u001b[0;31mTypeError\u001b[0m: tnirp() missing 1 required positional argument: 'name'"
     ]
    }
   ],
   "source": [
    "greet(\"Thor\",printer = tnirp())"
   ]
  },
  {
   "cell_type": "code",
   "execution_count": 43,
   "metadata": {},
   "outputs": [
    {
     "name": "stdout",
     "output_type": "stream",
     "text": [
      "\n"
     ]
    },
    {
     "ename": "TypeError",
     "evalue": "'NoneType' object is not callable",
     "output_type": "error",
     "traceback": [
      "\u001b[0;31m---------------------------------------------------------------------------\u001b[0m",
      "\u001b[0;31mTypeError\u001b[0m                                 Traceback (most recent call last)",
      "\u001b[0;32m/tmp/ipykernel_50/426446679.py\u001b[0m in \u001b[0;36m<module>\u001b[0;34m\u001b[0m\n\u001b[0;32m----> 1\u001b[0;31m \u001b[0mgreet\u001b[0m\u001b[0;34m(\u001b[0m\u001b[0;34m\"Thor\"\u001b[0m\u001b[0;34m,\u001b[0m\u001b[0mprinter\u001b[0m \u001b[0;34m=\u001b[0m \u001b[0mprint\u001b[0m\u001b[0;34m(\u001b[0m\u001b[0;34m)\u001b[0m\u001b[0;34m)\u001b[0m\u001b[0;34m\u001b[0m\u001b[0;34m\u001b[0m\u001b[0m\n\u001b[0m",
      "\u001b[0;32m/tmp/ipykernel_50/619395691.py\u001b[0m in \u001b[0;36mgreet\u001b[0;34m(name, printer)\u001b[0m\n\u001b[1;32m      3\u001b[0m \u001b[0;34m\u001b[0m\u001b[0m\n\u001b[1;32m      4\u001b[0m \u001b[0;32mdef\u001b[0m \u001b[0mgreet\u001b[0m\u001b[0;34m(\u001b[0m\u001b[0mname\u001b[0m\u001b[0;34m:\u001b[0m \u001b[0mstr\u001b[0m\u001b[0;34m,\u001b[0m \u001b[0mprinter\u001b[0m \u001b[0;34m=\u001b[0m \u001b[0mtnirp\u001b[0m\u001b[0;34m)\u001b[0m\u001b[0;34m->\u001b[0m \u001b[0;32mNone\u001b[0m\u001b[0;34m:\u001b[0m\u001b[0;34m\u001b[0m\u001b[0;34m\u001b[0m\u001b[0m\n\u001b[0;32m----> 5\u001b[0;31m     \u001b[0mprinter\u001b[0m\u001b[0;34m(\u001b[0m\u001b[0;34mf\"{name}, In God We Trust!\"\u001b[0m\u001b[0;34m)\u001b[0m\u001b[0;34m\u001b[0m\u001b[0;34m\u001b[0m\u001b[0m\n\u001b[0m\u001b[1;32m      6\u001b[0m \u001b[0;34m\u001b[0m\u001b[0m\n\u001b[1;32m      7\u001b[0m \u001b[0mgreet\u001b[0m\u001b[0;34m(\u001b[0m\u001b[0;34m\"Thor\"\u001b[0m\u001b[0;34m)\u001b[0m\u001b[0;34m\u001b[0m\u001b[0;34m\u001b[0m\u001b[0m\n",
      "\u001b[0;31mTypeError\u001b[0m: 'NoneType' object is not callable"
     ]
    }
   ],
   "source": [
    "greet(\"Thor\",printer = print())"
   ]
  },
  {
   "cell_type": "code",
   "execution_count": 45,
   "metadata": {},
   "outputs": [
    {
     "name": "stdout",
     "output_type": "stream",
     "text": [
      "<built-in function print>\n",
      "\n",
      "None\n"
     ]
    }
   ],
   "source": [
    "print(print)\n",
    "print(print())"
   ]
  },
  {
   "cell_type": "markdown",
   "metadata": {},
   "source": [
    "### Inner functions"
   ]
  },
  {
   "cell_type": "code",
   "execution_count": 57,
   "metadata": {},
   "outputs": [
    {
     "name": "stdout",
     "output_type": "stream",
     "text": [
      "<function prefix_factory.<locals>.prefix_printer at 0x7f06cc1e7ee0>\n",
      "DEBUG : In God We Trust!\n",
      "None\n"
     ]
    }
   ],
   "source": [
    "def prefix_factory(prefix:str)->Callable:\n",
    "    def prefix_printer(text:str)->None:\n",
    "        print(f\"{prefix} : {text}\")\n",
    "    \n",
    "    return prefix_printer\n",
    "\n",
    "debug = prefix_factory(\"DEBUG\")\n",
    "print(debug)\n",
    "print(debug(\"In God We Trust!\"))"
   ]
  },
  {
   "cell_type": "code",
   "execution_count": 58,
   "metadata": {},
   "outputs": [
    {
     "name": "stdout",
     "output_type": "stream",
     "text": [
      "DEBUG : All others pay in cash, In God We Trust!\n"
     ]
    }
   ],
   "source": [
    "greet(\"All others pay in cash\",printer=debug)"
   ]
  },
  {
   "cell_type": "markdown",
   "metadata": {},
   "source": [
    "#### Let me try"
   ]
  },
  {
   "cell_type": "code",
   "execution_count": 62,
   "metadata": {},
   "outputs": [
    {
     "name": "stdout",
     "output_type": "stream",
     "text": [
      "Nintendo : SWITCH\n"
     ]
    }
   ],
   "source": [
    "def tech_gadget(brand: str)->Callable:\n",
    "    def tech_gadget_model(model_name: str)->str:\n",
    "        return f\"{brand} : {model_name}\"\n",
    "    \n",
    "    return tech_gadget_model\n",
    "\n",
    "print(tech_gadget(\"Nintendo\")(\"SWITCH\"))"
   ]
  },
  {
   "cell_type": "markdown",
   "metadata": {},
   "source": [
    "## Function as input and output - A decorator"
   ]
  },
  {
   "cell_type": "code",
   "execution_count": 63,
   "metadata": {},
   "outputs": [
    {
     "name": "stdout",
     "output_type": "stream",
     "text": [
      "!tsurT eW doG nI\n"
     ]
    }
   ],
   "source": [
    "def reverse_factory(in_func: Callable)-> Callable:\n",
    "    def reverse_caller(text: str)-> Callable:\n",
    "        in_func(text[::-1])\n",
    "        \n",
    "    return reverse_caller\n",
    "\n",
    "reverse_print=reverse_factory(print)\n",
    "\n",
    "reverse_print(\"In God We Trust!\")"
   ]
  },
  {
   "cell_type": "code",
   "execution_count": 65,
   "metadata": {},
   "outputs": [
    {
     "name": "stdout",
     "output_type": "stream",
     "text": [
      "In God We Trust!\n"
     ]
    }
   ],
   "source": [
    "def tnirp(name: str)-> None:\n",
    "    print(name[::-1])\n",
    "    \n",
    "reverse_print=reverse_factory(tnirp)\n",
    "reverse_print(\"In God We Trust!\")"
   ]
  },
  {
   "cell_type": "code",
   "execution_count": 66,
   "metadata": {},
   "outputs": [
    {
     "name": "stdout",
     "output_type": "stream",
     "text": [
      "DEBUG : !tsurT eW doG nI\n"
     ]
    }
   ],
   "source": [
    "debug = prefix_factory(\"DEBUG\")\n",
    "\n",
    "debug_reverse = reverse_factory(debug)\n",
    "debug_reverse(\"In God We Trust!\")"
   ]
  },
  {
   "cell_type": "code",
   "execution_count": 71,
   "metadata": {},
   "outputs": [
    {
     "name": "stdout",
     "output_type": "stream",
     "text": [
      "Hello doG !\n"
     ]
    }
   ],
   "source": [
    "@reverse_factory\n",
    "def greet(name: str)-> None:\n",
    "    print(f\"Hello {name} !\")\n",
    "\n",
    "greet(\"God\")"
   ]
  },
  {
   "cell_type": "markdown",
   "metadata": {},
   "source": [
    "## Different syntax, without \"@\""
   ]
  },
  {
   "cell_type": "code",
   "execution_count": 72,
   "metadata": {},
   "outputs": [
    {
     "name": "stdout",
     "output_type": "stream",
     "text": [
      "Hello doG !\n"
     ]
    }
   ],
   "source": [
    "def greet(name: str)-> None:\n",
    "    print(f\"Hello {name} !\")\n",
    "    \n",
    "greet = reverse_factory(greet)\n",
    "\n",
    "greet(\"God\")"
   ]
  },
  {
   "cell_type": "markdown",
   "metadata": {},
   "source": [
    "### Exercise 1 : BEFORE & AFTER"
   ]
  },
  {
   "cell_type": "code",
   "execution_count": 78,
   "metadata": {},
   "outputs": [
    {
     "name": "stdout",
     "output_type": "stream",
     "text": [
      "BEFORE\n",
      "God Bless You, Maya from Dad!\n",
      "AFTER\n"
     ]
    }
   ],
   "source": [
    "def before_and_after(in_func: Callable)-> Callable:\n",
    "    def add_before_and_after(in_text1: str, in_text2: str)-> None:\n",
    "        print(\"BEFORE\")\n",
    "        in_func(in_text1,in_text2)\n",
    "        print(\"AFTER\")\n",
    "        \n",
    "    return add_before_and_after\n",
    "\n",
    "def greet(name: str)->str:\n",
    "    return f\"God Bless You, {name} !\"\n",
    "\n",
    "greet(\"Maya\")\n",
    "\n",
    "@before_and_after\n",
    "def greet(name: str, who: str)->None:\n",
    "    print(f\"God Bless You, {name} from {who}!\")\n",
    "\n",
    "greet(\"Maya\", \"Dad\")"
   ]
  },
  {
   "cell_type": "markdown",
   "metadata": {},
   "source": [
    "### Variable parameters + = in f strings"
   ]
  },
  {
   "cell_type": "code",
   "execution_count": 79,
   "metadata": {},
   "outputs": [
    {
     "name": "stdout",
     "output_type": "stream",
     "text": [
      "args = ()\n",
      "kwargs = {}\n"
     ]
    }
   ],
   "source": [
    "def params(*args, **kwargs)-> None:\n",
    "    print(f\"{args = }\")\n",
    "    print(f\"{kwargs = }\")\n",
    "    \n",
    "params()"
   ]
  },
  {
   "cell_type": "code",
   "execution_count": 82,
   "metadata": {},
   "outputs": [
    {
     "name": "stdout",
     "output_type": "stream",
     "text": [
      "args = (1, 2, 3)\n",
      "kwargs = {'pycon': 2021, 'greet': 'Bless'}\n"
     ]
    }
   ],
   "source": [
    "params(1,2,3,pycon=2021,greet=\"Bless\")"
   ]
  },
  {
   "cell_type": "code",
   "execution_count": 83,
   "metadata": {},
   "outputs": [
    {
     "name": "stdout",
     "output_type": "stream",
     "text": [
      "BEFORE\n",
      "God Bless You, Maya from Dad!\n",
      "AFTER\n"
     ]
    }
   ],
   "source": [
    "def before_and_after(in_func: Callable)-> Callable:\n",
    "    def add_before_and_after(*args, **kwargs)-> None:\n",
    "        print(\"BEFORE\")\n",
    "        in_func(*args, **kwargs)\n",
    "        print(\"AFTER\")\n",
    "        \n",
    "    return add_before_and_after\n",
    "\n",
    "@before_and_after\n",
    "def greet(name: str, who: str)->None:\n",
    "    print(f\"God Bless You, {name} from {who}!\")\n",
    "\n",
    "greet(\"Maya\", \"Dad\")"
   ]
  },
  {
   "cell_type": "markdown",
   "metadata": {},
   "source": [
    "### def adder"
   ]
  },
  {
   "cell_type": "code",
   "execution_count": 85,
   "metadata": {},
   "outputs": [
    {
     "name": "stdout",
     "output_type": "stream",
     "text": [
      "BEFORE\n",
      "AFTER\n",
      "25\n"
     ]
    }
   ],
   "source": [
    "def before_and_after(in_func: Callable)-> Callable:\n",
    "    def add_before_and_after(*args, **kwargs)-> None:\n",
    "        print(\"BEFORE\")\n",
    "        value = in_func(*args, **kwargs)\n",
    "        print(\"AFTER\")\n",
    "        return value\n",
    "        \n",
    "    return add_before_and_after\n",
    "\n",
    "@before_and_after\n",
    "def adder(number_1: int, number_2 :int)-> int:\n",
    "    return number_1 + number_2\n",
    "\n",
    "value = adder(10,15)\n",
    "print(value)"
   ]
  },
  {
   "cell_type": "code",
   "execution_count": 89,
   "metadata": {},
   "outputs": [
    {
     "name": "stdout",
     "output_type": "stream",
     "text": [
      "BEFORE\n",
      "AFTER\n",
      "25\n",
      "BEFORE\n",
      "AFTER\n",
      "70\n"
     ]
    }
   ],
   "source": [
    "@before_and_after\n",
    "def adder(*args)-> int:\n",
    "    value = 0\n",
    "    for arg in args:\n",
    "        value += arg\n",
    "    return value\n",
    "\n",
    "value = adder(10,15)\n",
    "print(value)\n",
    "\n",
    "value = adder(10,15,20,25)\n",
    "print(value)"
   ]
  },
  {
   "cell_type": "markdown",
   "metadata": {},
   "source": [
    "### Exercise 1: do twice"
   ]
  },
  {
   "cell_type": "code",
   "execution_count": 10,
   "metadata": {},
   "outputs": [
    {
     "data": {
      "text/plain": [
       "((1, 3), (2, 2))"
      ]
     },
     "execution_count": 10,
     "metadata": {},
     "output_type": "execute_result"
    }
   ],
   "source": [
    "def do_twice(in_func):\n",
    "    def run_and_repeat(*args, **kwargs):\n",
    "        return (in_func(*args, **kwargs), in_func(*args, **kwargs))\n",
    "\n",
    "    return run_and_repeat\n",
    "\n",
    "import random\n",
    "\n",
    "@do_twice\n",
    "def roll_dice():\n",
    "    return random.randint(1,6)\n",
    "\n",
    "@do_twice\n",
    "def concatenate_strings(*input_strings):\n",
    "    final_string=\"\"\n",
    "    for one_string in input_strings:\n",
    "        final_string += one_string\n",
    "        \n",
    "    return final_string\n",
    "\n",
    "roll_dice()\n",
    "\n",
    "concatenate_strings(\"In \", \"God \", \"We \", \"Trust\")\n",
    "\n",
    "@do_twice\n",
    "@do_twice\n",
    "def roll_dice():\n",
    "    return random.randint(1,6)\n",
    "\n",
    "roll_dice()"
   ]
  },
  {
   "cell_type": "code",
   "execution_count": 107,
   "metadata": {},
   "outputs": [
    {
     "name": "stdout",
     "output_type": "stream",
     "text": [
      "\n",
      "def reveal_secret_identity():\n",
      "    print(\"Rajesh is queylIs The Unforgettable. Tlhlngan maH !\")\n",
      "\n",
      "def reveal_creditcard_pin():\n",
      "    print(\"Naresh's credit card pin is 1234\")\n",
      "    \n",
      "reveal_secret_identity()\n",
      "\n",
      "def reveal_secret_identity():\n",
      "    print(\"Rajesh is queylIs The Unforgettable. Tlhlngan maH !\")\n",
      "\n",
      "def reveal_creditcard_pin():\n",
      "    print(\"Naresh's credit card pin is 1234\")\n",
      "    \n",
      "reveal_secret_identity()\n",
      "reveal_creditcard_pin()\n",
      "def ask_for_passcode(func):\n",
      "    def ask_pass():\n",
      "        passcode = input(\"what is the passcode ? \")\n",
      "        \n",
      "        if passcode != \"1234\":\n",
      "            print(\"Wrong passcode\")\n",
      "        else :\n",
      "            print(\"Access granted\")\n",
      "            func()\n",
      "            \n",
      "    return ask_pass\n",
      "    \n",
      "@ask_for_passcode    \n",
      "def reveal_secret_identity():\n",
      "    print(\"Rajesh is queylIs The Unforgettable. Tlhlngan maH !\")\n",
      "\n",
      "@ask_for_passcode\n",
      "def reveal_creditcard_pin():\n",
      "    print(\"Naresh's credit card pin is 1234\")\n",
      "    \n",
      "reveal_secret_identity()\n",
      "reveal_creditcard_pin()\n",
      "def headline(text, title=True):\n",
      "    if title:\n",
      "      text = text.title()\n",
      "\n",
      "    return f\"{text}\\n{'-' * len(text)}\"\n",
      "\n",
      "headline(\"IN GOD WE TRUST\", True)\n",
      "def headline(text, title=True):\n",
      "    if title:\n",
      "      text = text.title()\n",
      "\n",
      "    return f\"{text}\\\\n{'-' * len(text)}\"\n",
      "\n",
      "headline(\"IN GOD WE TRUST\", True)\n",
      "def headline(text, title=True):\n",
      "    if title:\n",
      "      text = text.title()\n",
      "\n",
      "    return f\"{text} \\n{'-' * len(text)}\"\n",
      "\n",
      "headline(\"IN GOD WE TRUST\", True)\n",
      "def headline(text, title=True):\n",
      "    if title:\n",
      "      text = text.title()\n",
      "\n",
      "    return f\"{text} \\n {'-' * len(text)}\"\n",
      "\n",
      "headline(\"IN GOD WE TRUST\", True)\n",
      "def headline(text, title=True):\n",
      "    if title:\n",
      "      text = text.title()\n",
      "\n",
      "    return f\"{text}\"\n",
      "\n",
      "headline(\"IN GOD WE TRUST\", True)\n",
      "def headline(text, title=True):\n",
      "    if title:\n",
      "      text = text.title()\n",
      "\n",
      "    return f\"{text}\"\n",
      "\n",
      "headline(\"IN GOD WE TRUST\", True)\n",
      "headline(\"IN GOD WE TRUST\", False)\n",
      "def headline(text, title=True):\n",
      "    if title:\n",
      "      text = text.title()\n",
      "\n",
      "    return f\"{text}\"\n",
      "\n",
      "headline(\"IN GOD WE TRUST\", True)\n",
      "headline(\"IN GOD WE TRUST\", False)\n",
      "def headline(text, title=True):\n",
      "    if title:\n",
      "      text = text.title()\n",
      "\n",
      "    return f\"{text}\"\n",
      "\n",
      "print(headline(\"IN GOD WE TRUST\", True))\n",
      "print(headline(\"IN GOD WE TRUST\", False))\n",
      "def headline(text, title=True):\n",
      "    if title:\n",
      "      text = text.title()\n",
      "\n",
      "    return f\"{text}\"\n",
      "\n",
      "print(headline(\"IN GOD WE TRUST\", True))\n",
      "print(headline(\"IN GOD WE TRUST\", False))\n",
      "print(headline(\"IN GOD WE TRUST\", \"Imuckedup\"))\n",
      "def headline(text, title=True):\n",
      "    if title:\n",
      "      text = text.title()\n",
      "\n",
      "    return f\"{text}\"\n",
      "\n",
      "print(headline(\"IN GOD WE TRUST\", True))\n",
      "print(headline(\"IN GOD WE TRUST\", False))\n",
      "print(headline(\"IN GOD WE TRUST\", \"Imuckedup\"))\n",
      "print(headline(\"IN GOD WE TRUST\", \"\"))\n",
      "def headline(text, title=True):\n",
      "    if title:\n",
      "      text = text.title()\n",
      "\n",
      "    return f\"{text}\"\n",
      "\n",
      "def headline_with_typehints(text: str, title: bool=True) ->str:\n",
      "    if title:\n",
      "      text = text.title()\n",
      "\n",
      "    return f\"{text}\"\n",
      "\n",
      "Print(\"Bad things can happen without Type Hints\")\n",
      "print(headline(\"IN GOD WE TRUST\", True))\n",
      "print(headline(\"IN GOD WE TRUST\", False))\n",
      "print(headline(\"IN GOD WE TRUST\", \"Imuckedup\"))\n",
      "print(headline(\"IN GOD WE TRUST\", \"\"))\n",
      "\n",
      "Print(\"Good things  happen with Type Hints\")\n",
      "print(headline_with_typehints(\"IN GOD WE TRUST\", True))\n",
      "def headline(text, title=True):\n",
      "    if title:\n",
      "      text = text.title()\n",
      "\n",
      "    return f\"{text}\"\n",
      "\n",
      "def headline_with_typehints(text: str, title: bool=True) ->str:\n",
      "    if title:\n",
      "      text = text.title()\n",
      "\n",
      "    return f\"{text}\"\n",
      "\n",
      "print(\"Bad things can happen without Type Hints\")\n",
      "print(headline(\"IN GOD WE TRUST\", True))\n",
      "print(headline(\"IN GOD WE TRUST\", False))\n",
      "print(headline(\"IN GOD WE TRUST\", \"Imuckedup\"))\n",
      "print(headline(\"IN GOD WE TRUST\", \"\"))\n",
      "\n",
      "print(\"Good things  happen with Type Hints\")\n",
      "print(headline_with_typehints(\"IN GOD WE TRUST\", True))\n",
      "def headline(text, title=True):\n",
      "    if title:\n",
      "      text = text.title()\n",
      "\n",
      "    return f\"{text}\"\n",
      "\n",
      "def headline_with_typehints(text: str, title: bool=True) ->str:\n",
      "    if title:\n",
      "      text = text.title()\n",
      "\n",
      "    return f\"{text}\"\n",
      "\n",
      "print(\"Bad things can happen without Type Hints\")\n",
      "print(headline(\"IN GOD WE TRUST\", True))\n",
      "print(headline(\"IN GOD WE TRUST\", False))\n",
      "print(headline(\"IN GOD WE TRUST\", \"Imuckedup\"))\n",
      "print(headline(\"IN GOD WE TRUST\", \"\"))\n",
      "\n",
      "print(\"Good things  happen with Type Hints\")\n",
      "print(headline_with_typehints(\"IN GOD WE TRUST\", True))\n",
      "print(headline_with_typehints(\"IN GOD WE TRUST\", False))\n",
      "print(headline_with_typehints(\"IN GOD WE TRUST\", \"Imuckedup\"))\n",
      "print(headline_with_typehints(\"IN GOD WE TRUST\", \"\"))\n",
      "def headline(text, title=True):\n",
      "    if title:\n",
      "      text = text.title()\n",
      "\n",
      "    return f\"{text}\"\n",
      "\n",
      "def headline_with_typehints(text: str, title: bool=True) ->str:\n",
      "    if title:\n",
      "      text = text.title()\n",
      "\n",
      "    return f\"{text}\"\n",
      "\n",
      "print(\"Bad things can happen without Type Hints\")\n",
      "print(headline(\"IN GOD WE TRUST\", True))\n",
      "print(headline(\"IN GOD WE TRUST\", False))\n",
      "print(headline(\"IN GOD WE TRUST\", \"Imuckedup\"))\n",
      "print(headline(\"IN GOD WE TRUST\", \"\"))\n",
      "\n",
      "print(\"Good things dont necessarily happen with Type Hints\")\n",
      "print(headline_with_typehints(\"IN GOD WE TRUST\", True))\n",
      "print(headline_with_typehints(\"IN GOD WE TRUST\", False))\n",
      "print(headline_with_typehints(\"IN GOD WE TRUST\", \"Imuckedup\"))\n",
      "print(headline_with_typehints(\"IN GOD WE TRUST\", \"\"))\n",
      "import time\n",
      "import time\n",
      "\n",
      "def slow_square(number -> int):\n",
      "    print(f\"Sleeping for {number} seconds\")\n",
      "    time.sleep(number)\n",
      "    \n",
      "    return number**2\n",
      "\n",
      "slow_square(3)\n",
      "import time\n",
      "\n",
      "def slow_square(number->int):\n",
      "    print(f\"Sleeping for {number} seconds\")\n",
      "    time.sleep(number)\n",
      "    \n",
      "    return number**2\n",
      "\n",
      "slow_square(3)\n",
      "import time\n",
      "\n",
      "def slow_square(number:int):\n",
      "    print(f\"Sleeping for {number} seconds\")\n",
      "    time.sleep(number)\n",
      "    \n",
      "    return number**2\n",
      "\n",
      "slow_square(3)\n",
      "import time\n",
      "\n",
      "def slow_square(number:int):\n",
      "    print(f\"Sleeping for {number} seconds\")\n",
      "    time.sleep(number)\n",
      "    \n",
      "    return number**2\n",
      "\n",
      "slow_square(3)\n",
      "slow_square(3)\n",
      "slow_square(3)\n",
      "import functools\n",
      "\n",
      "@functools.lru_cache\n",
      "def slow_square(number:int):\n",
      "    print(f\"Sleeping for {number} seconds\")\n",
      "    time.sleep(number)\n",
      "    \n",
      "    return number**2\n",
      "\n",
      "\n",
      "slow_square(3)\n",
      "import functools\n",
      "\n",
      "@functools.lru_cache\n",
      "def slow_square(number:int):\n",
      "    print(f\"Sleeping for {number} seconds\")\n",
      "    time.sleep(number)\n",
      "    \n",
      "    return number**2\n",
      "\n",
      "\n",
      "slow_square(3)\n",
      "slow_square(3)\n",
      "slow_square(3)\n",
      "functools.lru_cache\n",
      "# norwegian for print\n",
      "skriv_ut = print\n",
      "# norwegian for print\n",
      "skriv_ut = print\n",
      "skriv_ut\n",
      "skriv_ut(f\"In God We Trust ! {slow_square(2)}\")\n",
      "import time\n",
      "\n",
      "def slow_square(number:int)-> int:\n",
      "    print(f\"Sleeping for {number} seconds\")\n",
      "    time.sleep(number)\n",
      "    \n",
      "    return number**2\n",
      "\n",
      "slow_square(3)\n",
      "slow_square(3)\n",
      "slow_square(3)\n",
      "import functools\n",
      "\n",
      "@functools.lru_cache\n",
      "def slow_square(number:int)->int:\n",
      "    print(f\"Sleeping for {number} seconds\")\n",
      "    time.sleep(number)\n",
      "    \n",
      "    return number**2\n",
      "\n",
      "\n",
      "slow_square(3)\n",
      "# This one doesnt take 3 seconds\n",
      "slow_square(3)\n",
      "def greet(name: str, printer: function = print)-> None:\n",
      "    printer(f\"{}, In God We Trust!\")\n",
      "    \n",
      "greet(\"Bragi\")\n",
      "def greet(name: str, printer: function = print)-> None:\n",
      "    printer(f\"{name}, In God We Trust!\")\n",
      "    \n",
      "greet(\"Bragi\")\n",
      "def greet(name: str, printer = print)-> None:\n",
      "    printer(f\"{name}, In God We Trust!\")\n",
      "    \n",
      "greet(\"Bragi\")\n",
      "def tnirp(name: str)->None:\n",
      "    print(\"{name}, In God We Trust!\")\n",
      "\n",
      "def greet(name: str, printer = tnirp)-> None:\n",
      "    printer(f\"{name}, In God We Trust!\")\n",
      "\n",
      "greet(\"Thor\")\n",
      "def tnirp(name: str)-> None:\n",
      "    print(name[::-1])\n",
      "\n",
      "def greet(name: str, printer = tnirp)-> None:\n",
      "    printer(f\"{name}, In God We Trust!\")\n",
      "\n",
      "greet(\"Thor\")\n",
      "def tnirp(name: str)-> None:\n",
      "    print(name[::-1])\n",
      "\n",
      "greet(\"Thor\",printer = tnirp)\n",
      "print\n",
      "greet(\"Thor\",printer = tnir()))\n",
      "greet(\"Thor\",printer = tnir())\n",
      "greet(\"Thor\",printer = tnirp())\n",
      "greet(\"Thor\",printer = print())\n",
      "print(print)\n",
      "print(print)\n",
      "print(print())\n",
      "from typing import Callable\n",
      "\n",
      "def prefix_factory(prefix:str)->Callable:\n",
      "    def prefix_printer(text:str)->None:\n",
      "        print(f\"{prefix} : {text}\")\n",
      "    \n",
      "    return prefix_printer\n",
      "def greet(name: str, printer:Callable = print)-> None:\n",
      "    printer(f\"{name}, In God We Trust!\")\n",
      "    \n",
      "greet(\"Bragi\")\n",
      "def greet(name: str, printer: Callable = print)-> None:\n",
      "    printer(f\"{name}, In God We Trust!\")\n",
      "    \n",
      "greet(\"Bragi\")\n",
      "def tnirp(name: str)-> None:\n",
      "    print(name[::-1])\n",
      "\n",
      "greet(\"Thor\",printer = tnirp)\n",
      "def tnirp(name: str)-> None:\n",
      "    print(name[::-1])\n",
      "\n",
      "greet(\"Thor\",printer = tnirp)\n",
      "def prefix_factory(prefix:str)->Callable:\n",
      "    def prefix_printer(text:str)->None:\n",
      "        print(f\"{prefix} : {text}\")\n",
      "    \n",
      "    return prefix_printer\n",
      "def prefix_factory(prefix:str)->Callable:\n",
      "    def prefix_printer(text:str)->None:\n",
      "        print(f\"{prefix} : {text}\")\n",
      "    \n",
      "    return prefix_printer\n",
      "\n",
      "debug = prefix_factory(\"DEBUG\")\n",
      "def prefix_factory(prefix:str)->Callable:\n",
      "    def prefix_printer(text:str)->None:\n",
      "        print(f\"{prefix} : {text}\")\n",
      "    \n",
      "    return prefix_printer\n",
      "\n",
      "debug = prefix_factory(\"DEBUG\")\n",
      "print(debug)\n",
      "def prefix_factory(prefix:str)->Callable:\n",
      "    def prefix_printer(text:str)->None:\n",
      "        print(f\"{prefix} : {text}\")\n",
      "    \n",
      "    return prefix_printer\n",
      "\n",
      "debug = prefix_factory(\"DEBUG\")\n",
      "print(debug)\n",
      "print(debug(\"In God We Trust!\"))\n",
      "def prefix_factory(prefix:str)->Callable:\n",
      "    def prefix_printer(text:str):\n",
      "        print(f\"{prefix} : {text}\")\n",
      "    \n",
      "    return prefix_printer\n",
      "\n",
      "debug = prefix_factory(\"DEBUG\")\n",
      "print(debug)\n",
      "print(debug(\"In God We Trust!\"))\n",
      "def prefix_factory(prefix:str)->Callable:\n",
      "    def prefix_printer(text:str)->None:\n",
      "        print(f\"{prefix} : {text}\")\n",
      "    \n",
      "    return prefix_printer\n",
      "\n",
      "debug = prefix_factory(\"DEBUG\")\n",
      "print(debug)\n",
      "print(debug(\"In God We Trust!\"))\n",
      "def prefix_factory(prefix:str)->Callable:\n",
      "    def prefix_printer(text:str)->None:\n",
      "        print(f\"{prefix} : {text}\")\n",
      "    \n",
      "    return prefix_printer\n",
      "\n",
      "debug = prefix_factory(\"DEBUG\")\n",
      "print(debug)\n",
      "print(debug(\"In God We Trust!\"))\n",
      "greet(\"All others pay in cash\",printer=debug)\n",
      "def tech_gadget(brand: str)->Callable:\n",
      "    def tech_gadget_model(model_name: str)->str:\n",
      "        return f\"{brand} : {model}\"\n",
      "    \n",
      "    return tech_gadget_model\n",
      "\n",
      "print(tech_gadget(\"Nintendo\")\n",
      "def tech_gadget(brand: str)->Callable:\n",
      "    def tech_gadget_model(model_name: str)->str:\n",
      "        return f\"{brand} : {model}\"\n",
      "    \n",
      "    return tech_gadget_model\n",
      "\n",
      "print(tech_gadget(\"Nintendo\"))\n",
      "def tech_gadget(brand: str)->Callable:\n",
      "    def tech_gadget_model(model_name: str)->str:\n",
      "        return f\"{brand} : {model}\"\n",
      "    \n",
      "    return tech_gadget_model\n",
      "\n",
      "print(tech_gadget(\"Nintendo\")(\"SWITCH\"))\n",
      "def tech_gadget(brand: str)->Callable:\n",
      "    def tech_gadget_model(model_name: str)->str:\n",
      "        return f\"{brand} : {model_name}\"\n",
      "    \n",
      "    return tech_gadget_model\n",
      "\n",
      "print(tech_gadget(\"Nintendo\")(\"SWITCH\"))\n",
      "def reverse_factory(in_func: Callable)-> Callable:\n",
      "    def reverse_caller(text: str)-> Callable:\n",
      "        in_func(text[::-1])\n",
      "        \n",
      "    return reverse_caller\n",
      "\n",
      "reverse_print=reverse_factory(print)\n",
      "\n",
      "reverse_print(\"In God We Trust!\")\n",
      "reverse_print=reverse_factory(tnirp)\n",
      "def tnirp(name: str)-> None:\n",
      "    print(name[::-1])\n",
      "    \n",
      "reverse_print=reverse_factory(tnirp)\n",
      "reverse_print(\"In God We Trust!\")\n",
      "debug = prefix_factory(\"DEBUG\")\n",
      "\n",
      "debug_reverse = reverse_factory(debug)\n",
      "debug_reverse(\"In God We Trust!\")\n",
      "def greet(name: str)-> str:\n",
      "    return f\"Hello {name} !\"\n",
      "\n",
      "print(greet(\"God\"))\n",
      "def greet(name: str)-> None:\n",
      "    print f\"Hello {name} !\"\n",
      "\n",
      "print(greet(\"God\"))\n",
      "def greet(name: str)-> None:\n",
      "    print(f\"Hello {name} !\")\n",
      "\n",
      "print(greet(\"God\"))\n",
      "def greet(name: str)-> None:\n",
      "    print(f\"Hello {name} !\")\n",
      "\n",
      "greet(\"God\")\n",
      "@reverse_factory\n",
      "def greet(name: str)-> None:\n",
      "    print(f\"Hello {name} !\")\n",
      "\n",
      "greet(\"God\")\n",
      "def greet(name: str)-> None:\n",
      "    print(f\"Hello {name} !\")\n",
      "    \n",
      "greet = reverse_factory(greet)\n",
      "\n",
      "greet(\"God\")\n",
      "def before_and_after(in_func: Callable)-> Callable:\n",
      "    def add_before_and_after(in_text: str)-> None:\n",
      "        print(\"BEFORE\")\n",
      "        print(in_text)\n",
      "        print(\"AFTER\")\n",
      "        \n",
      "    return add_before_and_after\n",
      "\n",
      "def greet(name: str)->str:\n",
      "    return f\"God Bless You, {name} !\"\n",
      "\n",
      "greet(\"Maya\")\n",
      "def before_and_after(in_func: Callable)-> Callable:\n",
      "    def add_before_and_after(in_text: str)-> None:\n",
      "        print(\"BEFORE\")\n",
      "        print(in_text)\n",
      "        print(\"AFTER\")\n",
      "        \n",
      "    return add_before_and_after\n",
      "\n",
      "def greet(name: str)->str:\n",
      "    return f\"God Bless You, {name} !\"\n",
      "\n",
      "greet(\"Maya\")\n",
      "\n",
      "@before_and_after\n",
      "def greet(name: str)->str:\n",
      "    return f\"God Bless You, {name} !\"\n",
      "\n",
      "greet(\"Maya\")\n",
      "def before_and_after(in_func: Callable)-> Callable:\n",
      "    def add_before_and_after(in_text: str)-> None:\n",
      "        print(\"BEFORE\")\n",
      "        in_func(in_text)\n",
      "        print(\"AFTER\")\n",
      "        \n",
      "    return add_before_and_after\n",
      "\n",
      "def greet(name: str)->str:\n",
      "    return f\"God Bless You, {name} !\"\n",
      "\n",
      "greet(\"Maya\")\n",
      "\n",
      "@before_and_after\n",
      "def greet(name: str)->str:\n",
      "    return f\"God Bless You, {name} !\"\n",
      "\n",
      "greet(\"Maya\")\n",
      "def before_and_after(in_func: Callable)-> Callable:\n",
      "    def add_before_and_after(in_text: str)-> None:\n",
      "        print(\"BEFORE\")\n",
      "        in_func(in_text)\n",
      "        print(\"AFTER\")\n",
      "        \n",
      "    return add_before_and_after\n",
      "\n",
      "def greet(name: str)->str:\n",
      "    return f\"God Bless You, {name} !\"\n",
      "\n",
      "greet(\"Maya\")\n",
      "\n",
      "@before_and_after\n",
      "def greet(name: str)->None:\n",
      "    print(f\"God Bless You, {name} !\")\n",
      "\n",
      "greet(\"Maya\")\n",
      "def before_and_after(in_func: Callable)-> Callable:\n",
      "    def add_before_and_after(in_text1: str, in_text2: str)-> None:\n",
      "        print(\"BEFORE\")\n",
      "        in_func(in_text1,in_text2)\n",
      "        print(\"AFTER\")\n",
      "        \n",
      "    return add_before_and_after\n",
      "\n",
      "def greet(name: str)->str:\n",
      "    return f\"God Bless You, {name} !\"\n",
      "\n",
      "greet(\"Maya\", \"Dad\")\n",
      "\n",
      "@before_and_after\n",
      "def greet(name: str, who: str)->None:\n",
      "    print(f\"God Bless You, {name} from {who}!\")\n",
      "\n",
      "greet(\"Maya\", \"Dad\")\n",
      "def before_and_after(in_func: Callable)-> Callable:\n",
      "    def add_before_and_after(in_text1: str, in_text2: str)-> None:\n",
      "        print(\"BEFORE\")\n",
      "        in_func(in_text1,in_text2)\n",
      "        print(\"AFTER\")\n",
      "        \n",
      "    return add_before_and_after\n",
      "\n",
      "def greet(name: str)->str:\n",
      "    return f\"God Bless You, {name} !\"\n",
      "\n",
      "greet(\"Maya\")\n",
      "\n",
      "@before_and_after\n",
      "def greet(name: str, who: str)->None:\n",
      "    print(f\"God Bless You, {name} from {who}!\")\n",
      "\n",
      "greet(\"Maya\", \"Dad\")\n",
      "def params(*args, **kwargs)-> None:\n",
      "    print(f\"{args = }\")\n",
      "    print(f\"{kwargs = }\")\n",
      "    \n",
      "params()\n",
      "params(1,2,pycon=\"2021\")\n",
      "params(1,2,pycon=2021)\n",
      "params(1,2,3,pycon=2021,greet=\"Bless\")\n",
      "def before_and_after(in_func: Callable)-> Callable:\n",
      "    def add_before_and_after(*args, **kwargs)-> None:\n",
      "        print(\"BEFORE\")\n",
      "        in_func(*args, **kwargs)\n",
      "        print(\"AFTER\")\n",
      "        \n",
      "    return add_before_and_after\n",
      "\n",
      "@before_and_after\n",
      "def greet(name: str, who: str)->None:\n",
      "    print(f\"God Bless You, {name} from {who}!\")\n",
      "\n",
      "greet(\"Maya\", \"Dad\")\n",
      "def before_and_after(in_func: Callable)-> Callable:\n",
      "    def add_before_and_after(*args, **kwargs)-> None:\n",
      "        print(\"BEFORE\")\n",
      "        value = in_func(*args, **kwargs)\n",
      "        print(\"AFTER\")\n",
      "        return value\n",
      "        \n",
      "    return add_before_and_after\n",
      "\n",
      "@before_and_after\n",
      "def adder(number_1: int, number_2 :int)-> int:\n",
      "    return number_1 + number_2\n",
      "\n",
      "adder(10,15)\n",
      "def before_and_after(in_func: Callable)-> Callable:\n",
      "    def add_before_and_after(*args, **kwargs)-> None:\n",
      "        print(\"BEFORE\")\n",
      "        value = in_func(*args, **kwargs)\n",
      "        print(\"AFTER\")\n",
      "        return value\n",
      "        \n",
      "    return add_before_and_after\n",
      "\n",
      "@before_and_after\n",
      "def adder(number_1: int, number_2 :int)-> int:\n",
      "    return number_1 + number_2\n",
      "\n",
      "value = adder(10,15)\n",
      "print(value)\n",
      "@before_and_after\n",
      "def adder(*args)-> int:\n",
      "    value = 0\n",
      "    for int(arg) in *args:\n",
      "        value += arg\n",
      "    return value\n",
      "\n",
      "value = adder(10,15)\n",
      "print(value)\n",
      "@before_and_after\n",
      "def adder(*args)-> int:\n",
      "    value = 0\n",
      "    for arg in *args:\n",
      "        value += arg\n",
      "    return value\n",
      "\n",
      "value = adder(10,15)\n",
      "print(value)\n",
      "@before_and_after\n",
      "def adder(*args)-> int:\n",
      "    value = 0\n",
      "    for arg in args:\n",
      "        value += arg\n",
      "    return value\n",
      "\n",
      "value = adder(10,15)\n",
      "print(value)\n",
      "@before_and_after\n",
      "def adder(*args)-> int:\n",
      "    value = 0\n",
      "    for arg in args:\n",
      "        value += arg\n",
      "    return value\n",
      "\n",
      "value = adder(10,15)\n",
      "print(value)\n",
      "\n",
      "value = adder(10,15,20,25)\n",
      "print(value)\n",
      "import random\n",
      "\n",
      "def roll_dice():\n",
      "    return random.random_int(1,6)\n",
      "\n",
      "roll_dice()\n",
      "import random\n",
      "\n",
      "def roll_dice():\n",
      "    return random.randomint(1,6)\n",
      "\n",
      "roll_dice()\n",
      "import random\n",
      "\n",
      "def roll_dice():\n",
      "    return random.randint(1,6)\n",
      "\n",
      "roll_dice()\n",
      "import random\n",
      "\n",
      "def roll_dice():\n",
      "    return random.randint(1,6)\n",
      "\n",
      "roll_dice()\n",
      "import random\n",
      "\n",
      "def roll_dice():\n",
      "    return random.randint(1,6)\n",
      "\n",
      "roll_dice()\n",
      "import random\n",
      "\n",
      "def roll_dice():\n",
      "    return random.randint(1,6)\n",
      "\n",
      "roll_dice()\n",
      "import random\n",
      "\n",
      "def roll_dice():\n",
      "    return random.randint(1,6)\n",
      "\n",
      "roll_dice()\n",
      "def do_twice(in_func):\n",
      "    def run_and_repeat():\n",
      "        return (in_func(), in_func())\n",
      "\n",
      "    return run_and_repeat\n",
      "\n",
      "import random\n",
      "\n",
      "def roll_dice():\n",
      "    return random.randint(1,6)\n",
      "\n",
      "roll_dice()\n",
      "def do_twice(in_func):\n",
      "    def run_and_repeat():\n",
      "        return (in_func(), in_func())\n",
      "\n",
      "    return run_and_repeat\n",
      "\n",
      "import random\n",
      "\n",
      "def roll_dice():\n",
      "    return random.randint(1,6)\n",
      "\n",
      "@do_twice\n",
      "roll_dice()\n",
      "def do_twice(in_func):\n",
      "    def run_and_repeat():\n",
      "        return (in_func(), in_func())\n",
      "\n",
      "    return run_and_repeat\n",
      "\n",
      "import random\n",
      "\n",
      "@do_twice\n",
      "def roll_dice():\n",
      "    return random.randint(1,6)\n",
      "\n",
      "\n",
      "roll_dice()\n",
      "def do_twice(in_func):\n",
      "    def run_and_repeat():\n",
      "        return (in_func(), in_func())\n",
      "\n",
      "    return run_and_repeat\n",
      "\n",
      "import random\n",
      "\n",
      "@do_twice\n",
      "def roll_dice():\n",
      "    return random.randint(1,6)\n",
      "\n",
      "\n",
      "roll_dice()\n",
      "def do_twice(in_func):\n",
      "    def run_and_repeat():\n",
      "        return (in_func(), in_func())\n",
      "\n",
      "    return run_and_repeat\n",
      "\n",
      "import random\n",
      "\n",
      "@do_twice\n",
      "def roll_dice():\n",
      "    return random.randint(1,6)\n",
      "\n",
      "\n",
      "roll_dice()\n",
      "def do_twice(in_func):\n",
      "    def run_and_repeat(*args, **kwargs):\n",
      "        return (in_func(), in_func())\n",
      "\n",
      "    return run_and_repeat\n",
      "\n",
      "import random\n",
      "\n",
      "@do_twice\n",
      "def roll_dice():\n",
      "    return random.randint(1,6)\n",
      "\n",
      "\n",
      "roll_dice()\n",
      "def do_twice(in_func):\n",
      "    def run_and_repeat(*args, **kwargs):\n",
      "        return (in_func(*args, **kwargs), in_func(*args, **kwargs))\n",
      "\n",
      "    return run_and_repeat\n",
      "\n",
      "import random\n",
      "\n",
      "@do_twice\n",
      "def roll_dice():\n",
      "    return random.randint(1,6)\n",
      "\n",
      "\n",
      "roll_dice()\n",
      "def do_twice(in_func):\n",
      "    def run_and_repeat(*args, **kwargs):\n",
      "        return (in_func(*args, **kwargs), in_func(*args, **kwargs))\n",
      "\n",
      "    return run_and_repeat\n",
      "\n",
      "import random\n",
      "\n",
      "@do_twice\n",
      "def roll_dice():\n",
      "    return random.randint(1,6)\n",
      "\n",
      "def concatenate_strings(*input_strings):\n",
      "    final_string=\"\"\n",
      "    for one_string in input_strings:\n",
      "        final_string.append(one_string)\n",
      "        \n",
      "    return final_string\n",
      "\n",
      "roll_dice()\n",
      "\n",
      "concatenate_strings(\"In \", \"God \", \"We \", \"Trust\")\n",
      "def do_twice(in_func):\n",
      "    def run_and_repeat(*args, **kwargs):\n",
      "        return (in_func(*args, **kwargs), in_func(*args, **kwargs))\n",
      "\n",
      "    return run_and_repeat\n",
      "\n",
      "import random\n",
      "\n",
      "@do_twice\n",
      "def roll_dice():\n",
      "    return random.randint(1,6)\n",
      "\n",
      "def concatenate_strings(*input_strings):\n",
      "    final_string=\"\"\n",
      "    for one_string in input_strings:\n",
      "        final_string += one_string\n",
      "        \n",
      "    return final_string\n",
      "\n",
      "roll_dice()\n",
      "\n",
      "concatenate_strings(\"In \", \"God \", \"We \", \"Trust\")\n",
      "def do_twice(in_func):\n",
      "    def run_and_repeat(*args, **kwargs):\n",
      "        return (in_func(*args, **kwargs), in_func(*args, **kwargs))\n",
      "\n",
      "    return run_and_repeat\n",
      "\n",
      "import random\n",
      "\n",
      "@do_twice\n",
      "def roll_dice():\n",
      "    return random.randint(1,6)\n",
      "\n",
      "@do_twice\n",
      "def concatenate_strings(*input_strings):\n",
      "    final_string=\"\"\n",
      "    for one_string in input_strings:\n",
      "        final_string += one_string\n",
      "        \n",
      "    return final_string\n",
      "\n",
      "roll_dice()\n",
      "\n",
      "concatenate_strings(\"In \", \"God \", \"We \", \"Trust\")\n",
      "history\n"
     ]
    }
   ],
   "source": [
    "history"
   ]
  },
  {
   "cell_type": "code",
   "execution_count": 109,
   "metadata": {},
   "outputs": [
    {
     "name": "stdout",
     "output_type": "stream",
     "text": [
      "Defining roll_dice\n"
     ]
    },
    {
     "data": {
      "text/plain": [
       "2"
      ]
     },
     "execution_count": 109,
     "metadata": {},
     "output_type": "execute_result"
    }
   ],
   "source": [
    "def define(in_func: Callable)-> Callable:\n",
    "    print(f\"Defining {in_func.__name__}\")\n",
    "    \n",
    "    return(in_func)\n",
    "\n",
    "@define\n",
    "def roll_dice():\n",
    "    return random.randint(1,6)\n",
    "\n",
    "roll_dice()"
   ]
  },
  {
   "cell_type": "code",
   "execution_count": 110,
   "metadata": {},
   "outputs": [
    {
     "data": {
      "text/plain": [
       "<function __main__.roll_dice()>"
      ]
     },
     "execution_count": 110,
     "metadata": {},
     "output_type": "execute_result"
    }
   ],
   "source": [
    "roll_dice"
   ]
  },
  {
   "cell_type": "code",
   "execution_count": 111,
   "metadata": {},
   "outputs": [
    {
     "data": {
      "text/plain": [
       "<function __main__.before_and_after.<locals>.add_before_and_after(*args, **kwargs) -> None>"
      ]
     },
     "execution_count": 111,
     "metadata": {},
     "output_type": "execute_result"
    }
   ],
   "source": [
    "greet"
   ]
  },
  {
   "cell_type": "markdown",
   "metadata": {},
   "source": [
    "### Exercise 3: decorator, which stores references to decorated functions in a dictionary"
   ]
  },
  {
   "cell_type": "code",
   "execution_count": 8,
   "metadata": {},
   "outputs": [
    {
     "name": "stdout",
     "output_type": "stream",
     "text": [
      "{'roll_dice': <function roll_dice at 0x7fbfd020f790>}\n",
      "{'roll_dice': <function roll_dice at 0x7fbfd020f790>, 'adder': <function adder at 0x7fbfd0293280>}\n"
     ]
    },
    {
     "data": {
      "text/plain": [
       "3"
      ]
     },
     "execution_count": 8,
     "metadata": {},
     "output_type": "execute_result"
    }
   ],
   "source": [
    "from typing import Callable \n",
    "import random\n",
    "\n",
    "FUNCTIONS = {}\n",
    "\n",
    "def log_decorated_functions(in_func: Callable)-> Callable:\n",
    "    FUNCTIONS.update({in_func.__name__ : in_func})\n",
    "    \n",
    "    return in_func\n",
    "\n",
    "@log_decorated_functions\n",
    "def roll_dice():\n",
    "    return random.randint(1,6)\n",
    "\n",
    "print(FUNCTIONS)\n",
    "\n",
    "@log_decorated_functions\n",
    "def adder(num1,num2):\n",
    "    return num1 + num2\n",
    "\n",
    "print(FUNCTIONS)\n",
    "\n",
    "FUNCTIONS['roll_dice']()"
   ]
  },
  {
   "cell_type": "markdown",
   "metadata": {},
   "source": [
    "### Timer decorator"
   ]
  },
  {
   "cell_type": "code",
   "execution_count": 123,
   "metadata": {},
   "outputs": [
    {
     "name": "stdout",
     "output_type": "stream",
     "text": [
      "Elapsed Time : 3.0008993000374176\n",
      "5\n"
     ]
    }
   ],
   "source": [
    "import timeit\n",
    "\n",
    "def calculate_elapsed_time(in_func: Callable)-> Callable:\n",
    "    def calculate_timer(*args, **kwargs)-> int:\n",
    "        start = timeit.default_timer()\n",
    "        value=in_func(*args)\n",
    "        end = timeit.default_timer()\n",
    "        print(f\"Elapsed Time : {end-start}\")\n",
    "        return value\n",
    "        \n",
    "    return calculate_timer\n",
    "\n",
    "@calculate_elapsed_time\n",
    "def slow_add(num1: int, num2: int)-> int:\n",
    "    time.sleep(3)\n",
    "    return num1+num2\n",
    "\n",
    "print(slow_add(2,3))"
   ]
  },
  {
   "cell_type": "markdown",
   "metadata": {},
   "source": [
    "### More than 1 decorator is simply chaing them : Using @ syntax and usin direc assignment examples below"
   ]
  },
  {
   "cell_type": "code",
   "execution_count": 127,
   "metadata": {},
   "outputs": [
    {
     "data": {
      "text/plain": [
       "(5, 2)"
      ]
     },
     "execution_count": 127,
     "metadata": {},
     "output_type": "execute_result"
    }
   ],
   "source": [
    "@log_decorated_functions\n",
    "@do_twice\n",
    "def roll_dice():\n",
    "    return random.randint(1,6)\n",
    "\n",
    "roll_dice()"
   ]
  },
  {
   "cell_type": "code",
   "execution_count": 128,
   "metadata": {},
   "outputs": [
    {
     "data": {
      "text/plain": [
       "{'roll_dice': <function __main__.roll_dice()>,\n",
       " 'adder': <function __main__.adder(num1, num2)>,\n",
       " 'run_and_repeat': <function __main__.do_twice.<locals>.run_and_repeat(*args, **kwargs)>}"
      ]
     },
     "execution_count": 128,
     "metadata": {},
     "output_type": "execute_result"
    }
   ],
   "source": [
    "FUNCTIONS"
   ]
  },
  {
   "cell_type": "code",
   "execution_count": 12,
   "metadata": {},
   "outputs": [
    {
     "data": {
      "text/plain": [
       "((((2, 1), (4, 2)), ((2, 3), (4, 2))), (((5, 5), (4, 4)), ((2, 1), (5, 1))))"
      ]
     },
     "execution_count": 12,
     "metadata": {},
     "output_type": "execute_result"
    }
   ],
   "source": [
    "roll_dice = log_decorated_functions(do_twice(roll_dice))\n",
    "roll_dice()"
   ]
  },
  {
   "cell_type": "code",
   "execution_count": 13,
   "metadata": {},
   "outputs": [
    {
     "data": {
      "text/plain": [
       "{'roll_dice': <function __main__.roll_dice()>,\n",
       " 'adder': <function __main__.adder(num1, num2)>,\n",
       " 'run_and_repeat': <function __main__.do_twice.<locals>.run_and_repeat(*args, **kwargs)>}"
      ]
     },
     "execution_count": 13,
     "metadata": {},
     "output_type": "execute_result"
    }
   ],
   "source": [
    "FUNCTIONS"
   ]
  },
  {
   "cell_type": "code",
   "execution_count": 17,
   "metadata": {},
   "outputs": [
    {
     "data": {
      "text/plain": [
       "2"
      ]
     },
     "execution_count": 17,
     "metadata": {},
     "output_type": "execute_result"
    }
   ],
   "source": [
    "FUNCTIONS['roll_dice']()"
   ]
  },
  {
   "cell_type": "markdown",
   "metadata": {},
   "source": [
    "### update_wrapper - wraps(func)\n",
    "wraps takes the wrapper's metadata and replaces those with the decorated functions metadata"
   ]
  },
  {
   "cell_type": "code",
   "execution_count": 2,
   "metadata": {},
   "outputs": [],
   "source": [
    "import functools\n",
    "\n",
    "functools.update_wrapper?"
   ]
  },
  {
   "cell_type": "markdown",
   "metadata": {},
   "source": [
    "#### With functools.wraps()"
   ]
  },
  {
   "cell_type": "code",
   "execution_count": 29,
   "metadata": {},
   "outputs": [
    {
     "data": {
      "text/plain": [
       "<function __main__.roll_dice() -> None>"
      ]
     },
     "execution_count": 29,
     "metadata": {},
     "output_type": "execute_result"
    }
   ],
   "source": [
    "import functools\n",
    "\n",
    "def do_twice(func: Callable)-> Callable:\n",
    "    @functools.wraps(func)\n",
    "    def wrapper(*args, **kwargs):\n",
    "        first = func(*args, **kwargs)\n",
    "        second = func(*args, **kwargs)\n",
    "        return first , second\n",
    "\n",
    "    return wrapper\n",
    "\n",
    "@do_twice\n",
    "def roll_dice()-> None :\n",
    "    return random.randint(1,6)\n",
    "\n",
    "roll_dice\n",
    "    \n",
    "    "
   ]
  },
  {
   "cell_type": "markdown",
   "metadata": {},
   "source": [
    "#### Without functools.wraps()"
   ]
  },
  {
   "cell_type": "code",
   "execution_count": 28,
   "metadata": {},
   "outputs": [
    {
     "data": {
      "text/plain": [
       "<function __main__.do_twice.<locals>.wrapper(*args, **kwargs)>"
      ]
     },
     "execution_count": 28,
     "metadata": {},
     "output_type": "execute_result"
    }
   ],
   "source": [
    "import functools\n",
    "\n",
    "def do_twice(func: Callable)-> Callable:\n",
    "    def wrapper(*args, **kwargs):\n",
    "        first = func(*args, **kwargs)\n",
    "        second = func(*args, **kwargs)\n",
    "        return first , second\n",
    "\n",
    "    return wrapper\n",
    "\n",
    "@do_twice\n",
    "def roll_dice()-> None :\n",
    "    return random.randint(1,6)\n",
    "\n",
    "roll_dice"
   ]
  },
  {
   "cell_type": "code",
   "execution_count": 25,
   "metadata": {},
   "outputs": [
    {
     "data": {
      "text/plain": [
       "(2, 5)"
      ]
     },
     "execution_count": 25,
     "metadata": {},
     "output_type": "execute_result"
    }
   ],
   "source": [
    "roll_dice()"
   ]
  },
  {
   "cell_type": "markdown",
   "metadata": {},
   "source": [
    "#### Run function only without wrapper\n",
    "Works ONLY if decorated with functools.wraps()"
   ]
  },
  {
   "cell_type": "code",
   "execution_count": 30,
   "metadata": {},
   "outputs": [
    {
     "data": {
      "text/plain": [
       "<function __main__.roll_dice() -> None>"
      ]
     },
     "execution_count": 30,
     "metadata": {},
     "output_type": "execute_result"
    }
   ],
   "source": [
    "roll_dice.__wrapped__"
   ]
  },
  {
   "cell_type": "markdown",
   "metadata": {},
   "source": [
    "### Order of decorator aplication\n",
    "#### innermost wrapped by other outside"
   ]
  },
  {
   "cell_type": "code",
   "execution_count": 39,
   "metadata": {},
   "outputs": [],
   "source": [
    "def before_and_after(func: Callable)-> Callable:\n",
    "    @functools.wraps(func)\n",
    "    def wrapper(*args, **kwargs)-> None:\n",
    "        print(\"BEFORE\")\n",
    "        func()\n",
    "        print(\"AFTER\")\n",
    "        \n",
    "    return wrapper\n",
    "\n",
    "def do_twice(func: Callable)-> Callable:\n",
    "    @functools.wraps(func)\n",
    "    def wrapper(*args, **kwargs):\n",
    "        func()\n",
    "        func()\n",
    "        \n",
    "    return wrapper\n",
    "\n"
   ]
  },
  {
   "cell_type": "code",
   "execution_count": 42,
   "metadata": {},
   "outputs": [
    {
     "name": "stdout",
     "output_type": "stream",
     "text": [
      "BEFORE\n",
      "1\n",
      "True\n",
      "AFTER\n",
      "BEFORE\n",
      "1\n",
      "True\n",
      "AFTER\n"
     ]
    }
   ],
   "source": [
    "@do_twice\n",
    "@before_and_after\n",
    "def roll_dice()-> bool:\n",
    "    print(random.randint(1,6))\n",
    "    return True\n",
    "\n",
    "roll_dice()"
   ]
  },
  {
   "cell_type": "code",
   "execution_count": 43,
   "metadata": {},
   "outputs": [
    {
     "name": "stdout",
     "output_type": "stream",
     "text": [
      "BEFORE\n",
      "4\n",
      "4\n",
      "None\n",
      "AFTER\n"
     ]
    }
   ],
   "source": [
    "@before_and_after\n",
    "@do_twice\n",
    "def roll_dice()-> bool:\n",
    "    print(random.randint(1,6))\n",
    "    return True\n",
    "\n",
    "roll_dice()"
   ]
  },
  {
   "cell_type": "markdown",
   "metadata": {},
   "source": [
    "### Exercise 4\n",
    "#### Decorator that retries a decorated function as long as it rauses an exception"
   ]
  },
  {
   "cell_type": "code",
   "execution_count": 51,
   "metadata": {},
   "outputs": [],
   "source": [
    "def retry(func: Callable)-> Callable:\n",
    "    @functools.wraps(func)\n",
    "    def wrapper(*args, **kwargs):\n",
    "        while True:\n",
    "            try:\n",
    "                func(*args, **kwargs)\n",
    "                \n",
    "                break\n",
    "            except ValueError:\n",
    "                continue\n",
    "        \n",
    "        \n",
    "    return wrapper\n",
    "\n",
    "@retry\n",
    "def throw_only_sixes()-> None:\n",
    "    number = random.randint(1,6)\n",
    "    print(number)\n",
    "    if number != 6 :\n",
    "        raise ValueError\n",
    "    return number\n",
    "    \n"
   ]
  },
  {
   "cell_type": "code",
   "execution_count": 55,
   "metadata": {},
   "outputs": [
    {
     "name": "stdout",
     "output_type": "stream",
     "text": [
      "4\n",
      "4\n",
      "4\n",
      "6\n"
     ]
    }
   ],
   "source": [
    "throw_only_sixes()"
   ]
  },
  {
   "cell_type": "code",
   "execution_count": 57,
   "metadata": {},
   "outputs": [
    {
     "name": "stdout",
     "output_type": "stream",
     "text": [
      "How old are you ?twelve\n",
      "How old are you ?ss\n",
      "How old are you ?.45\n",
      "How old are you ?45\n"
     ]
    }
   ],
   "source": [
    "@retry\n",
    "def get_age()-> int:\n",
    "    return int(input(\"How old are you ?\"))\n",
    "\n",
    "get_age()"
   ]
  },
  {
   "cell_type": "markdown",
   "metadata": {},
   "source": [
    "### Decorator takes argument"
   ]
  },
  {
   "cell_type": "code",
   "execution_count": 1,
   "metadata": {},
   "outputs": [],
   "source": [
    "from typing import Callable\n",
    "import random\n",
    "import functools\n",
    "\n",
    "def retry(error_value)-> Callable:\n",
    "    def decorator(func: Callable)-> Callable :\n",
    "        @functools.wraps(func)\n",
    "        def wrapper(*args, **kwargs):\n",
    "            while True:\n",
    "                try:\n",
    "                    return func(*args, **kwargs)\n",
    "                except Exception as e:\n",
    "                    print(f\"Retrying for exception ({e})\")\n",
    "\n",
    "        return wrapper\n",
    "    return decorator\n",
    "\n",
    "\n",
    "@retry(ValueError)\n",
    "def calculate(*args, **kwargs) -> None:\n",
    "    number = random.randint(-5,5)\n",
    "    if abs(1/number) > 0.2 :\n",
    "        raise ValueError(number)\n",
    "    return number\n",
    "\n",
    "\n",
    "    \n"
   ]
  },
  {
   "cell_type": "code",
   "execution_count": 42,
   "metadata": {},
   "outputs": [
    {
     "name": "stdout",
     "output_type": "stream",
     "text": [
      "Retrying for exception (-2)\n",
      "Retrying for exception (division by zero)\n",
      "Retrying for exception (4)\n",
      "Retrying for exception (3)\n",
      "Retrying for exception (-1)\n",
      "Retrying for exception (-1)\n",
      "-5\n"
     ]
    }
   ],
   "source": [
    "print(calculate())"
   ]
  },
  {
   "cell_type": "markdown",
   "metadata": {},
   "source": [
    "#### Quick Reminder test"
   ]
  },
  {
   "cell_type": "code",
   "execution_count": 95,
   "metadata": {},
   "outputs": [
    {
     "name": "stdout",
     "output_type": "stream",
     "text": [
      "Starting Summation\n",
      "Ending Summation\n"
     ]
    },
    {
     "data": {
      "text/plain": [
       "3"
      ]
     },
     "execution_count": 95,
     "metadata": {},
     "output_type": "execute_result"
    }
   ],
   "source": [
    "def add_messages(func: Callable)-> Callable:\n",
    "    @functools.wraps(func)\n",
    "    def wrapper(*args, **kwargs)-> int:\n",
    "        print(\"Starting Summation\")\n",
    "        value = func(*args, **kwargs)\n",
    "        print(\"Ending Summation\")\n",
    "        \n",
    "        return value\n",
    "        \n",
    "    return wrapper\n",
    "\n",
    "def retry_for_int(func: Callable)-> Callable:\n",
    "    @functools.wraps(func)\n",
    "    def wrapper(*args, **kwargs)-> int:\n",
    "        while True:\n",
    "            try:\n",
    "                value = func(*args,**kwargs)\n",
    "                break\n",
    "            except Exception as e:\n",
    "                print(f\"{e}\")\n",
    "        return value\n",
    "                \n",
    "    return wrapper\n",
    "\n",
    "@add_messages\n",
    "@retry_for_int\n",
    "def sum_and_message(num1: int, num2:int)-> int:\n",
    "    if type(num1) != int or type(num2) != int:\n",
    "        raise TypeError(\"Input must be integer only\")\n",
    "        \n",
    "    return num1+num2\n",
    "\n",
    "\n",
    "sum_and_message(1, 2)"
   ]
  },
  {
   "cell_type": "markdown",
   "metadata": {},
   "source": [
    "### Adapt retry so it does only n number of times"
   ]
  },
  {
   "cell_type": "markdown",
   "metadata": {},
   "source": [
    "##### Mine"
   ]
  },
  {
   "cell_type": "code",
   "execution_count": 47,
   "metadata": {},
   "outputs": [],
   "source": [
    "from typing import Callable\n",
    "import random\n",
    "import functools\n",
    "\n",
    "def retry(max_retries: int)-> Callable:\n",
    "    def decorator(func: Callable)-> Callable :\n",
    "        @functools.wraps(func)\n",
    "        def wrapper(*args, **kwargs):\n",
    "            try_number = 1\n",
    "            while (try_number:= try_number+1) <= max_retries :\n",
    "                try:\n",
    "                    print(f\"Try {try_number}\")\n",
    "                    return func(*args, **kwargs)\n",
    "                except Exception as e:\n",
    "                    print(f\"Retrying for exception ({e})\")\n",
    "\n",
    "        return wrapper\n",
    "    return decorator\n",
    "\n",
    "\n",
    "@retry(max_retries=5)\n",
    "def calculate(*args, **kwargs) -> None:\n",
    "    number = random.randint(-5,5)\n",
    "    if abs(1/number) > 0.2 :\n",
    "        raise ValueError(number)\n",
    "    return number\n"
   ]
  },
  {
   "cell_type": "code",
   "execution_count": 50,
   "metadata": {},
   "outputs": [
    {
     "name": "stdout",
     "output_type": "stream",
     "text": [
      "Try 2\n",
      "Retrying for exception (-1)\n",
      "Try 3\n",
      "Retrying for exception (2)\n",
      "Try 4\n",
      "Retrying for exception (-1)\n",
      "Try 5\n",
      "Retrying for exception (division by zero)\n",
      "None\n"
     ]
    }
   ],
   "source": [
    "print(calculate())"
   ]
  },
  {
   "cell_type": "markdown",
   "metadata": {},
   "source": [
    "#### Geir's solution"
   ]
  },
  {
   "cell_type": "code",
   "execution_count": 54,
   "metadata": {},
   "outputs": [
    {
     "name": "stdout",
     "output_type": "stream",
     "text": [
      "Try 1\n",
      "Retrying for exception (division by zero)\n",
      "Try 1\n",
      "Retrying for exception (-2)\n",
      "Try 1\n",
      "-5\n"
     ]
    }
   ],
   "source": [
    "from typing import Callable\n",
    "import random\n",
    "import functools\n",
    "\n",
    "def retry(max_retries: int)-> Callable:\n",
    "    def decorator(func: Callable)-> Callable :\n",
    "        @functools.wraps(func)\n",
    "        def wrapper(*args, **kwargs):\n",
    "            try_number = 1\n",
    "            for _ in range(max_retries) :\n",
    "                try:\n",
    "                    print(f\"Try {try_number}\")\n",
    "                    return func(*args, **kwargs)\n",
    "                except Exception as e:\n",
    "                    print(f\"Retrying for exception ({e})\")\n",
    "\n",
    "        return wrapper\n",
    "    return decorator\n",
    "\n",
    "\n",
    "@retry(max_retries=5)\n",
    "def calculate(*args, **kwargs) -> None:\n",
    "    number = random.randint(-5,5)\n",
    "    if abs(1/number) > 0.2 :\n",
    "        raise ValueError(number)\n",
    "    return number\n",
    "\n",
    "print(calculate())"
   ]
  },
  {
   "cell_type": "markdown",
   "metadata": {},
   "source": [
    "### maintaing state in decorators\n",
    "How to count retries across multiple function calls\n"
   ]
  },
  {
   "cell_type": "markdown",
   "metadata": {},
   "source": [
    "##### Original"
   ]
  },
  {
   "cell_type": "code",
   "execution_count": 62,
   "metadata": {},
   "outputs": [
    {
     "name": "stdout",
     "output_type": "stream",
     "text": [
      "1\n",
      "4\n",
      "5\n"
     ]
    }
   ],
   "source": [
    "def retry(max_retries):\n",
    "    def decorator(func: Callable)-> Callable:\n",
    "        @functools.wraps(func)\n",
    "        def wrapper(*args, **kwargs):\n",
    "            for _ in range(max_retries):\n",
    "                try:\n",
    "                    func(*args, **kwargs)\n",
    "                \n",
    "                    break\n",
    "                except ValueError:\n",
    "                    continue\n",
    "        return wrapper\n",
    "        \n",
    "    return decorator\n",
    "\n",
    "@retry(max_retries=3)\n",
    "def throw_only_sixes()-> None:\n",
    "    number = random.randint(1,6)\n",
    "    print(number)\n",
    "    if number != 6 :\n",
    "        raise ValueError\n",
    "    return number\n",
    "    \n",
    "throw_only_sixes()"
   ]
  },
  {
   "cell_type": "code",
   "execution_count": 64,
   "metadata": {},
   "outputs": [
    {
     "data": {
      "text/plain": [
       "<function __main__.throw_only_sixes() -> None>"
      ]
     },
     "execution_count": 64,
     "metadata": {},
     "output_type": "execute_result"
    }
   ],
   "source": [
    "throw_only_sixes.__wrapped__"
   ]
  },
  {
   "cell_type": "markdown",
   "metadata": {},
   "source": [
    "#### With built in counter"
   ]
  },
  {
   "cell_type": "code",
   "execution_count": 91,
   "metadata": {},
   "outputs": [
    {
     "name": "stdout",
     "output_type": "stream",
     "text": [
      "5\n",
      "3\n",
      "1\n",
      "6\n"
     ]
    }
   ],
   "source": [
    "def retry(max_retries):\n",
    "    def decorator(func: Callable)-> Callable:\n",
    "        @functools.wraps(func)\n",
    "        def wrapper(*args, **kwargs):\n",
    "            for _ in range(max_retries - wrapper.num_retries):\n",
    "                try:\n",
    "                    func(*args, **kwargs)\n",
    "                \n",
    "                    break\n",
    "                except ValueError:\n",
    "                    wrapper.num_retries += 1\n",
    "                    continue\n",
    "        wrapper.num_retries = 0\n",
    "        \n",
    "        return wrapper\n",
    "        \n",
    "    return decorator\n",
    "\n",
    "@retry(max_retries=10)\n",
    "def throw_only_sixes()-> None:\n",
    "    number = random.randint(1,6)\n",
    "    print(number)\n",
    "    if number != 6 :\n",
    "        raise ValueError\n",
    "    return number\n",
    "    \n",
    "throw_only_sixes()"
   ]
  },
  {
   "cell_type": "code",
   "execution_count": 92,
   "metadata": {},
   "outputs": [
    {
     "data": {
      "text/plain": [
       "3"
      ]
     },
     "execution_count": 92,
     "metadata": {},
     "output_type": "execute_result"
    }
   ],
   "source": [
    "throw_only_sixes.num_retries"
   ]
  },
  {
   "cell_type": "markdown",
   "metadata": {},
   "source": [
    "### Classes"
   ]
  },
  {
   "cell_type": "code",
   "execution_count": 101,
   "metadata": {},
   "outputs": [
    {
     "name": "stdout",
     "output_type": "stream",
     "text": [
      "BEFORE\n",
      "Hello Rabantaka\n",
      "AFTER\n",
      "BEFORE\n",
      "Hello Rabantaka\n",
      "AFTER\n"
     ]
    }
   ],
   "source": [
    "def before_and_after(func: Callable)-> Callable:\n",
    "    @functools.wraps(func)\n",
    "    def wrapper(*args, **kwargs)-> None:\n",
    "        print(\"BEFORE\")\n",
    "        value = func(*args, **kwargs)\n",
    "        print(\"AFTER\")\n",
    "        \n",
    "        return value\n",
    "        \n",
    "    return wrapper\n",
    "\n",
    "@before_and_after\n",
    "def greet(name: str)-> None :\n",
    "    print(f\"Hello {name}\")\n",
    "    \n",
    "greet(\"Rabantaka\")\n",
    "\n",
    "class BeforeAndAfter:\n",
    "    def __init__(self, func):\n",
    "        functools.update_wrapper(self,func)\n",
    "        self.func = func\n",
    "        \n",
    "    def __call__(self, *args, **kwargs):\n",
    "        print(\"BEFORE\")\n",
    "        value = self.func(*args, **kwargs)\n",
    "        print(\"AFTER\")\n",
    "        \n",
    "        return value\n",
    "    \n",
    "@BeforeAndAfter\n",
    "def greet_class_decorator(name: str)-> None :\n",
    "    print(f\"Hello {name}\")\n",
    "    \n",
    "greet_class_decorator(\"Rabantaka\")"
   ]
  },
  {
   "cell_type": "markdown",
   "metadata": {},
   "source": [
    "### Class as decorators with state"
   ]
  },
  {
   "cell_type": "code",
   "execution_count": 134,
   "metadata": {},
   "outputs": [
    {
     "name": "stdout",
     "output_type": "stream",
     "text": [
      "3\n",
      "Retry Number : 1\n",
      "2\n",
      "Retry Number : 2\n",
      "3\n",
      "Retry Number : 3\n",
      "5\n",
      "Retry Number : 4\n",
      "1\n",
      "Retry Number : 5\n",
      "3\n",
      "Retry Number : 6\n",
      "1\n",
      "Retry Number : 7\n",
      "6\n"
     ]
    },
    {
     "data": {
      "text/plain": [
       "6"
      ]
     },
     "execution_count": 134,
     "metadata": {},
     "output_type": "execute_result"
    }
   ],
   "source": [
    "class Retry:\n",
    "    def __init__(self, func):\n",
    "        functools.update_wrapper(self,func)\n",
    "        self.func = func\n",
    "        self.num_retries = 0\n",
    "        \n",
    "    def __call__(self, *args, **kwargs):\n",
    "        while True : \n",
    "            try:\n",
    "                value = self.func(*args, **kwargs)\n",
    "                break\n",
    "            except Exception as e:\n",
    "                self.num_retries += 1\n",
    "                print(f\"Retry Number : {self.num_retries}\")\n",
    "                continue\n",
    "        \n",
    "        return value\n",
    "    \n",
    "    \n",
    "@Retry   \n",
    "def throw_only_sixes()-> int:\n",
    "    number = random.randint(1,6)\n",
    "    print(number)\n",
    "    if number != 6 :\n",
    "        raise ValueError\n",
    "    return number\n",
    "    \n",
    "throw_only_sixes()"
   ]
  },
  {
   "cell_type": "code",
   "execution_count": 135,
   "metadata": {},
   "outputs": [
    {
     "data": {
      "text/plain": [
       "<__main__.Retry at 0x7f4cd9e47490>"
      ]
     },
     "execution_count": 135,
     "metadata": {},
     "output_type": "execute_result"
    }
   ],
   "source": [
    "throw_only_sixes"
   ]
  },
  {
   "cell_type": "markdown",
   "metadata": {},
   "source": [
    "## Flexible Decorators\n",
    "#### https://www.youtube.com/watch?v=eMr8Om1ZjKY"
   ]
  },
  {
   "cell_type": "code",
   "execution_count": 11,
   "metadata": {},
   "outputs": [
    {
     "name": "stdout",
     "output_type": "stream",
     "text": [
      "Enter the voice (normal, shout, whisper) : whisper\n",
      "this is a sample text\n"
     ]
    }
   ],
   "source": [
    "import functools\n",
    "from typing import Callable\n",
    "\n",
    "def normal(func) -> Callable:\n",
    "    return func\n",
    "\n",
    "def shout(func) -> Callable:\n",
    "    @functools.wraps(func)\n",
    "    def wrapper(*args, **kwargs):\n",
    "        return func(*args, **kwargs).upper()\n",
    "    \n",
    "    return wrapper\n",
    "\n",
    "def whisper(func)-> Callable:\n",
    "    @functools.wraps(func)\n",
    "    def wrapper(*args, **kwargs):\n",
    "        return func(*args, **kwargs).lower()\n",
    "    \n",
    "    return wrapper\n",
    "\n",
    "DECORATORS = {\n",
    "    \"normal\": normal,\n",
    "    \"shout\": shout,\n",
    "    \"whisper\": whisper,\n",
    "}\n",
    "\n",
    "voice = input(f\"Enter the voice ({', '.join(DECORATORS)}) : \")\n",
    "\n",
    "@DECORATORS[voice]\n",
    "def get_text()-> str:\n",
    "    return \"This is a sample text\"\n",
    "\n",
    "print(get_text())"
   ]
  },
  {
   "cell_type": "markdown",
   "metadata": {},
   "source": [
    "## Email from Rodrigo - inspecting a Python decorator"
   ]
  },
  {
   "cell_type": "code",
   "execution_count": 2,
   "metadata": {},
   "outputs": [
    {
     "name": "stdout",
     "output_type": "stream",
     "text": [
      "Inside print debugger with function add\n"
     ]
    },
    {
     "data": {
      "text/plain": [
       "13"
      ]
     },
     "execution_count": 2,
     "metadata": {},
     "output_type": "execute_result"
    }
   ],
   "source": [
    "# decorators run once immediately after the function definition\n",
    "\n",
    "def print_debugger(f):\n",
    "    print(f\"Inside print debugger with function {f.__name__}\")\n",
    "\n",
    "    return f\n",
    "\n",
    "@print_debugger\n",
    "def add(a,b):\n",
    "    return a+b\n",
    "\n",
    "add(6,7)"
   ]
  },
  {
   "cell_type": "code",
   "execution_count": 5,
   "metadata": {},
   "outputs": [
    {
     "name": "stdout",
     "output_type": "stream",
     "text": [
      "Inside print debugger with function say_hi\n",
      "Salvete, Intrantes!\n",
      "Completed function say_hi\n"
     ]
    }
   ],
   "source": [
    "# decorator needs to return the modified function\n",
    "\n",
    "def print_debugger(f):\n",
    "    def wrapper():\n",
    "        print(f\"Inside print debugger with function {f.__name__}\")\n",
    "        f()\n",
    "        print(f\"Completed function {f.__name__}\")\n",
    "\n",
    "    return wrapper\n",
    "\n",
    "@print_debugger\n",
    "def say_hi():\n",
    "    print(\"Salvete, Intrantes!\")\n",
    "\n",
    "say_hi()"
   ]
  },
  {
   "cell_type": "code",
   "execution_count": 7,
   "metadata": {},
   "outputs": [
    {
     "name": "stdout",
     "output_type": "stream",
     "text": [
      "Inside print debugger with function add with args (6, 7) & kwargs {}\n",
      "Completed function add\n",
      "Inside print debugger with function say_hi with args () & kwargs {}\n",
      "Salvete, Intrantes!\n",
      "Completed function say_hi\n"
     ]
    }
   ],
   "source": [
    "# Handling arbitrary arguments\n",
    "\n",
    "def print_debugger(f):\n",
    "    def wrapper(*args, **kwargs):\n",
    "        print(f\"Inside print debugger with function {f.__name__} with args {args} & kwargs {kwargs}\")\n",
    "        f(*args, **kwargs)\n",
    "        print(f\"Completed function {f.__name__}\")\n",
    "\n",
    "    return wrapper\n",
    "\n",
    "@print_debugger\n",
    "def say_hi():\n",
    "    print(\"Salvete, Intrantes!\")\n",
    "\n",
    "@print_debugger\n",
    "def add(a,b):\n",
    "    return a+b\n",
    "\n",
    "add(6,7)\n",
    "\n",
    "say_hi()"
   ]
  },
  {
   "cell_type": "code",
   "execution_count": 9,
   "metadata": {},
   "outputs": [
    {
     "name": "stdout",
     "output_type": "stream",
     "text": [
      "Inside print debugger with function add with args (6, 7) & kwargs {}\n",
      "Completed function add\n",
      "13\n"
     ]
    }
   ],
   "source": [
    "# Handling return values\n",
    "\n",
    "def print_debugger(f):\n",
    "    def wrapper(*args, **kwargs):\n",
    "        print(f\"Inside print debugger with function {f.__name__} with args {args} & kwargs {kwargs}\")\n",
    "        ret_val = f(*args, **kwargs)\n",
    "        print(f\"Completed function {f.__name__}\")\n",
    "\n",
    "        return ret_val\n",
    "\n",
    "    return wrapper\n",
    "\n",
    "@print_debugger\n",
    "def add(a,b):\n",
    "    return a+b\n",
    "\n",
    "ret_value = add(6,7)\n",
    "print(f\"{ret_value}\")"
   ]
  },
  {
   "cell_type": "markdown",
   "metadata": {},
   "source": [
    "## functools.wraps\n",
    "### TL;DR: whenever you define a decorator in Python, use functools.wraps to preserve things like the documentation string and the name of the function!"
   ]
  },
  {
   "cell_type": "code",
   "execution_count": 4,
   "metadata": {},
   "outputs": [
    {
     "name": "stdout",
     "output_type": "stream",
     "text": [
      "args = (1, 2) and kwargs = {}\n",
      "<function print_args.<locals>.wrapper at 0x105859240>\n",
      "wrapper\n",
      "None\n"
     ]
    }
   ],
   "source": [
    "# No functools.wraps\n",
    "def print_args(f):\n",
    "    def wrapper(*args, **kwargs):\n",
    "        print(f\"{args = } and {kwargs = }\")\n",
    "\n",
    "        return f(*args, **kwargs)\n",
    "\n",
    "    return wrapper\n",
    "\n",
    "@print_args\n",
    "def add(a,b)-> int:\n",
    "    \"\"\"Adds two numbers together.\"\"\"\n",
    "    return a+b\n",
    "\n",
    "add(1,2)\n",
    "\n",
    "# The issue is that applying the decorator @print_args replaced the function add with the function called wrapper that is defined inside print_args\n",
    "print(add)\n",
    "print(add.__name__)\n",
    "print(add.__doc__)"
   ]
  },
  {
   "cell_type": "code",
   "execution_count": 6,
   "metadata": {},
   "outputs": [
    {
     "name": "stdout",
     "output_type": "stream",
     "text": [
      "args = (1, 2) and kwargs = {}\n",
      "<function print_args.<locals>.wrapper at 0x1058591b0>\n",
      "add\n",
      "Adds two numbers together.\n"
     ]
    }
   ],
   "source": [
    "# Manual , partial fix\n",
    "def print_args(f):\n",
    "    def wrapper(*args, **kwargs):\n",
    "        print(f\"{args = } and {kwargs = }\")\n",
    "\n",
    "        return f(*args, **kwargs)\n",
    "\n",
    "    # replace the dunders before moving ahead\n",
    "    wrapper.__name__ = f.__name__\n",
    "    wrapper.__doc__ = f.__doc__\n",
    "\n",
    "    return wrapper\n",
    "\n",
    "@print_args\n",
    "def add(a,b)-> int:\n",
    "    \"\"\"Adds two numbers together.\"\"\"\n",
    "    return a+b\n",
    "\n",
    "add(1,2)\n",
    "\n",
    "print(add)\n",
    "print(add.__name__)\n",
    "print(add.__doc__)"
   ]
  },
  {
   "cell_type": "code",
   "execution_count": 8,
   "metadata": {},
   "outputs": [
    {
     "name": "stdout",
     "output_type": "stream",
     "text": [
      "args = (1, 2) and kwargs = {}\n",
      "<function add at 0x1057ed7e0>\n",
      "add\n",
      "Adds two numbers together.\n"
     ]
    }
   ],
   "source": [
    "# With functools.wraps\n",
    "import functools\n",
    "\n",
    "def print_args(f):\n",
    "    @functools.wraps(f)\n",
    "    def wrapper(*args, **kwargs):\n",
    "        print(f\"{args = } and {kwargs = }\")\n",
    "\n",
    "        return f(*args, **kwargs)\n",
    "\n",
    "    return wrapper\n",
    "\n",
    "@print_args\n",
    "def add(a,b)-> int:\n",
    "    \"\"\"Adds two numbers together.\"\"\"\n",
    "    return a+b\n",
    "\n",
    "add(1,2)\n",
    "\n",
    "# The issue is that applying the decorator @print_args replaced the function add with the function called wrapper that is defined inside print_args\n",
    "print(add)\n",
    "print(add.__name__)\n",
    "print(add.__doc__)"
   ]
  },
  {
   "attachments": {},
   "cell_type": "markdown",
   "metadata": {},
   "source": [
    "## [Complete Guide : Python decorators](https://www.youtube.com/watch?v=QH5fw9kxDQA)"
   ]
  },
  {
   "cell_type": "code",
   "execution_count": 19,
   "metadata": {},
   "outputs": [
    {
     "name": "stdout",
     "output_type": "stream",
     "text": [
      "Calling BenchmarkDecorator\n",
      "Execution of ConcreteComponent took (0.0815688329985278)\n",
      "Finished BenchmarkDecorator\n",
      "9592\n"
     ]
    }
   ],
   "source": [
    "# Abstract object oriented decorator\n",
    "\n",
    "# import logging\n",
    "from abc import ABC, abstractmethod\n",
    "from math import sqrt\n",
    "from time import perf_counter\n",
    "\n",
    "# logger = logging.getLogger()\n",
    "# logger.setLevel(logging.INFO)\n",
    "\n",
    "def is_prime(number: int)-> bool:\n",
    "    # print(number)\n",
    "    if number < 2:\n",
    "        return False\n",
    "\n",
    "    for element in range(2, int(sqrt(number))+1):\n",
    "        if number % element == 0:\n",
    "            return False\n",
    "    \n",
    "    return True\n",
    "\n",
    "class AbstractComponent(ABC):\n",
    "    @abstractmethod\n",
    "    def execute(self, upper_bound: int)-> int:\n",
    "        pass\n",
    "\n",
    "class ConcreteComponent(AbstractComponent):\n",
    "    def execute(self, upper_bound: int)-> int:\n",
    "        # print(f\"CC : {upper_bound}\")\n",
    "        count = 0\n",
    "        for number in range(upper_bound):\n",
    "            # print(f\"CC : {number}\")\n",
    "            if is_prime(number):\n",
    "                count += 1\n",
    "        return count\n",
    "\n",
    "class AbstractDecorator(AbstractComponent):\n",
    "    def __init__(self, decorated: AbstractComponent) -> None:\n",
    "        self._decorated = decorated\n",
    "\n",
    "class BenchmarkDecorator(AbstractDecorator):\n",
    "    def execute(self, upper_bound: int)-> int :\n",
    "        # print(f\"BD : {upper_bound}\")\n",
    "        start_time = perf_counter()\n",
    "        value = self._decorated.execute(upper_bound)\n",
    "        end_time = perf_counter()\n",
    "        run_time = end_time - start_time\n",
    "        print(\n",
    "            f\"Execution of {self._decorated.__class__.__name__} took ({run_time})\"\n",
    "        )\n",
    "\n",
    "        return value\n",
    "\n",
    "class LoggingDecorator(AbstractDecorator):\n",
    "    def execute(self, upper_bound: int)-> int:\n",
    "        print(f\"Calling {self._decorated.__class__.__name__}\")\n",
    "        value = self._decorated.execute(upper_bound)\n",
    "        print(f\"Finished {self._decorated.__class__.__name__}\")\n",
    "\n",
    "        return value\n",
    "\n",
    "def main()-> None:\n",
    "    component = ConcreteComponent()\n",
    "\n",
    "    benchmark_decorator = BenchmarkDecorator(component)\n",
    "    logging_decorator = LoggingDecorator(benchmark_decorator)\n",
    "    value = logging_decorator.execute(100000)\n",
    "    print(value)\n",
    "\n",
    "main()"
   ]
  },
  {
   "cell_type": "code",
   "execution_count": 20,
   "metadata": {},
   "outputs": [
    {
     "name": "stdout",
     "output_type": "stream",
     "text": [
      "Execution of count_prime_numbers took (0.08306737499879091)\n"
     ]
    }
   ],
   "source": [
    "# Non OOP - Pythonic \n",
    "# Iteration 1 : Remove classes\n",
    "\n",
    "def is_prime(number: int)-> bool:\n",
    "    if number < 2:\n",
    "        return False\n",
    "\n",
    "    for element in range(2, int(sqrt(number))+1):\n",
    "        if number % element == 0:\n",
    "            return False\n",
    "    \n",
    "    return True\n",
    "\n",
    "def count_prime_numbers(upper_bound: int)-> int:\n",
    "    count = 0\n",
    "    for number in range(upper_bound):\n",
    "        if is_prime(number):\n",
    "            count += 1\n",
    "    return count\n",
    "\n",
    "def benchmark(upper_bound: int)-> int :\n",
    "    # print(f\"BD : {upper_bound}\")\n",
    "    start_time = perf_counter()\n",
    "    value = count_prime_numbers(upper_bound)\n",
    "    end_time = perf_counter()\n",
    "    run_time = end_time - start_time\n",
    "    print(\n",
    "        f\"Execution of count_prime_numbers took ({run_time})\"\n",
    "    )\n",
    "\n",
    "    return value\n",
    "\n",
    "def main()-> None:\n",
    "    benchmark(100000)\n",
    "\n",
    "main()\n"
   ]
  },
  {
   "cell_type": "code",
   "execution_count": 22,
   "metadata": {},
   "outputs": [
    {
     "name": "stdout",
     "output_type": "stream",
     "text": [
      "Execution of count_prime_numbers took (0.08078650000061316)\n",
      "9592\n"
     ]
    }
   ],
   "source": [
    "# Non OOP - Pythonic \n",
    "# Iteration 2 : Make benchmark a decorator\n",
    "\n",
    "from typing import Callable, Any\n",
    "\n",
    "def is_prime(number: int)-> bool:\n",
    "    if number < 2:\n",
    "        return False\n",
    "\n",
    "    for element in range(2, int(sqrt(number))+1):\n",
    "        if number % element == 0:\n",
    "            return False\n",
    "    \n",
    "    return True\n",
    "\n",
    "def count_prime_numbers(upper_bound: int)-> int:\n",
    "    count = 0\n",
    "    for number in range(upper_bound):\n",
    "        if is_prime(number):\n",
    "            count += 1\n",
    "    return count\n",
    "\n",
    "def benchmark(func: Callable[..., Any])-> Callable[..., Any] :\n",
    "    def wrapper(*args: Any , **kwargs: Any)-> Any : \n",
    "        start_time = perf_counter()\n",
    "        value = func(*args, **kwargs)\n",
    "        end_time = perf_counter()\n",
    "        run_time = end_time - start_time\n",
    "        print(\n",
    "            f\"Execution of {func.__name__} took ({run_time})\"\n",
    "        )\n",
    "\n",
    "        return value\n",
    "\n",
    "    return wrapper\n",
    "\n",
    "def main()-> None:\n",
    "    wrapper = benchmark(count_prime_numbers)\n",
    "    value = wrapper(100000)\n",
    "    print(value)\n",
    "\n",
    "main()\n"
   ]
  },
  {
   "cell_type": "code",
   "execution_count": 31,
   "metadata": {},
   "outputs": [
    {
     "name": "stdout",
     "output_type": "stream",
     "text": [
      "Calling wrapper\n",
      "Execution of count_prime_numbers took (0.08083470799829229)\n",
      "Finished wrapper\n",
      "9592\n"
     ]
    }
   ],
   "source": [
    "# Non OOP - Pythonic \n",
    "# Iteration 3 : Udse @ instead of getting the wrapper function an then calling it in main()\n",
    "\n",
    "from typing import Callable, Any\n",
    "\n",
    "def is_prime(number: int)-> bool:\n",
    "    if number < 2:\n",
    "        return False\n",
    "\n",
    "    for element in range(2, int(sqrt(number))+1):\n",
    "        if number % element == 0:\n",
    "            return False\n",
    "    \n",
    "    return True\n",
    "\n",
    "def benchmark(func: Callable[..., Any])-> Callable[..., Any] :\n",
    "    def wrapper(*args: Any , **kwargs: Any)-> Any : \n",
    "        start_time = perf_counter()\n",
    "        value = func(*args, **kwargs)\n",
    "        end_time = perf_counter()\n",
    "        run_time = end_time - start_time\n",
    "        print(\n",
    "            f\"Execution of {func.__name__} took ({run_time})\"\n",
    "        )\n",
    "\n",
    "        return value\n",
    "\n",
    "    return wrapper\n",
    "\n",
    "def with_logging(func: Callable[..., Any])-> Callable[..., Any] :\n",
    "    def wrapper(*args: Any , **kwargs: Any)-> Any : \n",
    "        print(f\"Calling {func.__name__}\")\n",
    "        value = func(*args, **kwargs)\n",
    "        print(f\"Finished {func.__name__}\")\n",
    "\n",
    "        return value\n",
    "\n",
    "    return wrapper\n",
    "\n",
    "@with_logging\n",
    "@benchmark\n",
    "def count_prime_numbers(upper_bound: int)-> int:\n",
    "    count = 0\n",
    "    for number in range(upper_bound):\n",
    "        if is_prime(number):\n",
    "            count += 1\n",
    "    return count\n",
    "\n",
    "def main()-> None:\n",
    "    value = count_prime_numbers(100000)\n",
    "    print(value)\n",
    "\n",
    "main()\n"
   ]
  },
  {
   "cell_type": "code",
   "execution_count": 33,
   "metadata": {},
   "outputs": [
    {
     "name": "stdout",
     "output_type": "stream",
     "text": [
      "Calling count_prime_numbers\n",
      "Execution of count_prime_numbers took (0.08166241700018873)\n",
      "Finished count_prime_numbers\n",
      "9592\n"
     ]
    }
   ],
   "source": [
    "# Non OOP - Pythonic \n",
    "# Iteration 4 : @wraps to get the function name\n",
    "\n",
    "from typing import Callable, Any\n",
    "import functools\n",
    "\n",
    "def is_prime(number: int)-> bool:\n",
    "    if number < 2:\n",
    "        return False\n",
    "\n",
    "    for element in range(2, int(sqrt(number))+1):\n",
    "        if number % element == 0:\n",
    "            return False\n",
    "    \n",
    "    return True\n",
    "\n",
    "def benchmark(func: Callable[..., Any])-> Callable[..., Any] :\n",
    "    @functools.wraps(func)\n",
    "    def wrapper(*args: Any , **kwargs: Any)-> Any : \n",
    "        start_time = perf_counter()\n",
    "        value = func(*args, **kwargs)\n",
    "        end_time = perf_counter()\n",
    "        run_time = end_time - start_time\n",
    "        print(\n",
    "            f\"Execution of {func.__name__} took ({run_time})\"\n",
    "        )\n",
    "\n",
    "        return value\n",
    "\n",
    "    return wrapper\n",
    "\n",
    "def with_logging(func: Callable[..., Any])-> Callable[..., Any] :\n",
    "    @functools.wraps(func)\n",
    "    def wrapper(*args: Any , **kwargs: Any)-> Any : \n",
    "        print(f\"Calling {func.__name__}\")\n",
    "        value = func(*args, **kwargs)\n",
    "        print(f\"Finished {func.__name__}\")\n",
    "\n",
    "        return value\n",
    "\n",
    "    return wrapper\n",
    "\n",
    "@with_logging\n",
    "@benchmark\n",
    "def count_prime_numbers(upper_bound: int)-> int:\n",
    "    count = 0\n",
    "    for number in range(upper_bound):\n",
    "        if is_prime(number):\n",
    "            count += 1\n",
    "    return count\n",
    "\n",
    "def main()-> None:\n",
    "    value = count_prime_numbers(100000)\n",
    "    print(value)\n",
    "\n",
    "main()\n"
   ]
  },
  {
   "cell_type": "code",
   "execution_count": 34,
   "metadata": {},
   "outputs": [
    {
     "name": "stdout",
     "output_type": "stream",
     "text": [
      "Calling count_prime_numbers with In God We Trust\n",
      "Execution of count_prime_numbers took (0.08004887499919278)\n",
      "Finished count_prime_numbers with In God We Trust\n",
      "9592\n"
     ]
    }
   ],
   "source": [
    "# Non OOP - Pythonic \n",
    "# Iteration 5 : Pass arguments\n",
    "\n",
    "from typing import Callable, Any\n",
    "import functools\n",
    "\n",
    "def is_prime(number: int)-> bool:\n",
    "    if number < 2:\n",
    "        return False\n",
    "\n",
    "    for element in range(2, int(sqrt(number))+1):\n",
    "        if number % element == 0:\n",
    "            return False\n",
    "    \n",
    "    return True\n",
    "\n",
    "def benchmark(func: Callable[..., Any])-> Callable[..., Any] :\n",
    "    @functools.wraps(func)\n",
    "    def wrapper(*args: Any , **kwargs: Any)-> Any : \n",
    "        start_time = perf_counter()\n",
    "        value = func(*args, **kwargs)\n",
    "        end_time = perf_counter()\n",
    "        run_time = end_time - start_time\n",
    "        print(\n",
    "            f\"Execution of {func.__name__} took ({run_time})\"\n",
    "        )\n",
    "\n",
    "        return value\n",
    "\n",
    "    return wrapper\n",
    "\n",
    "def with_logging(name: str):\n",
    "    def decorator(func: Callable[..., Any])-> Callable[..., Any] :\n",
    "        @functools.wraps(func)\n",
    "        def wrapper(*args: Any , **kwargs: Any)-> Any : \n",
    "            print(f\"Calling {func.__name__} with {name}\")\n",
    "            value = func(*args, **kwargs)\n",
    "            print(f\"Finished {func.__name__} with {name}\")\n",
    "\n",
    "            return value\n",
    "\n",
    "        return wrapper\n",
    "\n",
    "    return decorator\n",
    "\n",
    "@with_logging(\"In God We Trust\")\n",
    "@benchmark\n",
    "def count_prime_numbers(upper_bound: int)-> int:\n",
    "    count = 0\n",
    "    for number in range(upper_bound):\n",
    "        if is_prime(number):\n",
    "            count += 1\n",
    "    return count\n",
    "\n",
    "def main()-> None:\n",
    "    value = count_prime_numbers(100000)\n",
    "    print(value)\n",
    "\n",
    "main()\n"
   ]
  },
  {
   "cell_type": "code",
   "execution_count": 37,
   "metadata": {},
   "outputs": [
    {
     "name": "stdout",
     "output_type": "stream",
     "text": [
      "Calling count_prime_numbers with In God We Trust\n",
      "Execution of count_prime_numbers took (0.07983558400155744)\n",
      "Finished count_prime_numbers with In God We Trust\n",
      "9592\n"
     ]
    }
   ],
   "source": [
    "# Non OOP - Pythonic \n",
    "# Iteration 6 : partial functions with logging already applied\n",
    "\n",
    "from typing import Callable, Any\n",
    "import functools\n",
    "\n",
    "def is_prime(number: int)-> bool:\n",
    "    if number < 2:\n",
    "        return False\n",
    "\n",
    "    for element in range(2, int(sqrt(number))+1):\n",
    "        if number % element == 0:\n",
    "            return False\n",
    "    \n",
    "    return True\n",
    "\n",
    "def benchmark(func: Callable[..., Any])-> Callable[..., Any] :\n",
    "    @functools.wraps(func)\n",
    "    def wrapper(*args: Any , **kwargs: Any)-> Any : \n",
    "        start_time = perf_counter()\n",
    "        value = func(*args, **kwargs)\n",
    "        end_time = perf_counter()\n",
    "        run_time = end_time - start_time\n",
    "        print(\n",
    "            f\"Execution of {func.__name__} took ({run_time})\"\n",
    "        )\n",
    "\n",
    "        return value\n",
    "\n",
    "    return wrapper\n",
    "\n",
    "def with_logging(func: Callable[..., Any], name: str)-> Callable[..., Any] :\n",
    "    @functools.wraps(func)\n",
    "    def wrapper(*args: Any , **kwargs: Any)-> Any : \n",
    "        print(f\"Calling {func.__name__} with {name}\")\n",
    "        value = func(*args, **kwargs)\n",
    "        print(f\"Finished {func.__name__} with {name}\")\n",
    "\n",
    "        return value\n",
    "\n",
    "    return wrapper\n",
    "\n",
    "with_default_logging = functools.partial(with_logging, name=\"In God We Trust\")\n",
    "\n",
    "@with_default_logging\n",
    "@benchmark\n",
    "def count_prime_numbers(upper_bound: int)-> int:\n",
    "    count = 0\n",
    "    for number in range(upper_bound):\n",
    "        if is_prime(number):\n",
    "            count += 1\n",
    "    return count\n",
    "\n",
    "def main()-> None:\n",
    "    value = count_prime_numbers(100000)\n",
    "    print(value)\n",
    "\n",
    "main()\n"
   ]
  }
 ],
 "metadata": {
  "kernelspec": {
   "display_name": "Python 3.10.6 ('venv': venv)",
   "language": "python",
   "name": "python3"
  },
  "language_info": {
   "codemirror_mode": {
    "name": "ipython",
    "version": 3
   },
   "file_extension": ".py",
   "mimetype": "text/x-python",
   "name": "python",
   "nbconvert_exporter": "python",
   "pygments_lexer": "ipython3",
   "version": "3.10.6 (v3.10.6:9c7b4bd164, Aug  1 2022, 17:13:48) [Clang 13.0.0 (clang-1300.0.29.30)]"
  },
  "vscode": {
   "interpreter": {
    "hash": "61d7c060b65e63e0c17ab32c589a05d6ff902abf7dbf0803abdaab1adeca0d86"
   }
  }
 },
 "nbformat": 4,
 "nbformat_minor": 4
}
