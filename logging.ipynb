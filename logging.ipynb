{
 "cells": [
  {
   "attachments": {},
   "cell_type": "markdown",
   "metadata": {},
   "source": [
    "## [Logging deep dive](https://www.youtube.com/watch?v=pxuXaaT1u3k)"
   ]
  },
  {
   "attachments": {},
   "cell_type": "markdown",
   "metadata": {},
   "source": [
    "[Logging in Jupter notebooks](https://towardsdatascience.com/building-and-exporting-python-logs-in-jupyter-notebooks-87b6d7a86c4)"
   ]
  },
  {
   "cell_type": "code",
   "execution_count": 1,
   "metadata": {},
   "outputs": [],
   "source": [
    "# Import logger and redirect to file that we can open in VC\n",
    "\n",
    "import logging\n",
    "\n",
    "logging.basicConfig(\n",
    "    filename='logging_deep_dive.log', \n",
    "    level=logging.INFO,\n",
    "    # format=\"%(asctime)s %(levelname)s %(message)s\",\n",
    "    format=\"[{asctime}] - {funcName} - {lineno} - {message}\", \n",
    "    style='{',\n",
    "    datefmt=\"%Y-%m-%d %H:%M:%S\"\n",
    "    )\n",
    "\n",
    "logging.debug(\"This is a debug message\")\n",
    "logging.info(\"This is a info message\")\n",
    "logging.warning(\"This is a warning message\")\n",
    "logging.error(\"This is a error message\")\n",
    "logging.critical(\"This is a critical message\")\n",
    "\n",
    "\n"
   ]
  },
  {
   "cell_type": "code",
   "execution_count": 1,
   "metadata": {},
   "outputs": [],
   "source": [
    "# Use a log surfacer (Papertrial)\n",
    "# Papertrial destination created using  :\n",
    "#    https://www.papertrail.com/help/log-destinations/\n",
    "\n",
    "import logging\n",
    "from logging.handlers import SysLogHandler\n",
    "\n",
    "PAPERTRIAL_HOST = \"logs6.papertrailapp.com\"\n",
    "PAPERTRIAL_PORT = 11375\n",
    "\n",
    "def main()-> None:\n",
    "    logger = logging.getLogger(\"loggingdeepdive\")\n",
    "    logger.setLevel(logging.DEBUG)\n",
    "    handler = SysLogHandler(address=(PAPERTRIAL_HOST, PAPERTRIAL_PORT))\n",
    "    logger.addHandler(handler)\n",
    "\n",
    "    logger.debug(\"This is a debug message\")\n",
    "\n",
    "main()\n"
   ]
  }
 ],
 "metadata": {
  "kernelspec": {
   "display_name": "venv",
   "language": "python",
   "name": "python3"
  },
  "language_info": {
   "codemirror_mode": {
    "name": "ipython",
    "version": 3
   },
   "file_extension": ".py",
   "mimetype": "text/x-python",
   "name": "python",
   "nbconvert_exporter": "python",
   "pygments_lexer": "ipython3",
   "version": "3.10.6"
  },
  "orig_nbformat": 4,
  "vscode": {
   "interpreter": {
    "hash": "61d7c060b65e63e0c17ab32c589a05d6ff902abf7dbf0803abdaab1adeca0d86"
   }
  }
 },
 "nbformat": 4,
 "nbformat_minor": 2
}
