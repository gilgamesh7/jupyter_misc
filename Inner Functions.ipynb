{
 "cells": [
  {
   "cell_type": "markdown",
   "metadata": {},
   "source": [
    "# Inner Functions\n",
    "https://realpython.com/inner-functions-what-are-they-good-for/"
   ]
  },
  {
   "cell_type": "code",
   "execution_count": 3,
   "metadata": {},
   "outputs": [
    {
     "name": "stdout",
     "output_type": "stream",
     "text": [
      "In God We Trust\n"
     ]
    }
   ],
   "source": [
    "def outer_func(who):\n",
    "    def inner_func():\n",
    "        print(f'In {who} We Trust')\n",
    "    inner_func()\n",
    "\n",
    "outer_func(\"God\")\n",
    "        "
   ]
  },
  {
   "cell_type": "code",
   "execution_count": 8,
   "metadata": {},
   "outputs": [
    {
     "name": "stdout",
     "output_type": "stream",
     "text": [
      "4\n",
      "3\n",
      "2\n",
      "1\n",
      "0\n"
     ]
    },
    {
     "data": {
      "text/plain": [
       "24"
      ]
     },
     "execution_count": 8,
     "metadata": {},
     "output_type": "execute_result"
    }
   ],
   "source": [
    "def factorial(number):\n",
    "    if not isinstance(number, int):\n",
    "        raise TypeError(f'Input ({number}) must be an integer')\n",
    "    if number < 0:\n",
    "        raise ValueError(f'Input ({number}) must be greater than zero')\n",
    "        \n",
    "    def calc_factorial(number):\n",
    "        print(f'{number}')\n",
    "        if number < 1:\n",
    "            return 1\n",
    "        \n",
    "        return number * calc_factorial(number -1)\n",
    "    \n",
    "    return calc_factorial(number)\n",
    "\n",
    "factorial(4)\n",
    "# factorial(\"IGWT\")\n",
    "# factorial(-2)"
   ]
  },
  {
   "cell_type": "code",
   "execution_count": 9,
   "metadata": {},
   "outputs": [
    {
     "data": {
      "text/plain": [
       "15"
      ]
     },
     "execution_count": 9,
     "metadata": {},
     "output_type": "execute_result"
    }
   ],
   "source": [
    "def add_numbers(number):\n",
    "    if number <= 0:\n",
    "        return 0\n",
    "    \n",
    "    return number+add_numbers(number-1)\n",
    "\n",
    "add_numbers(5)"
   ]
  },
  {
   "cell_type": "markdown",
   "metadata": {},
   "source": [
    "Providing Encapsulation\n",
    "A common use case of inner functions arises when you need to protect, or hide, a given function from everything happening outside of it so that the function is totally hidden from the global scope. This kind of behavior is commonly known as encapsulation."
   ]
  },
  {
   "cell_type": "code",
   "execution_count": 10,
   "metadata": {},
   "outputs": [
    {
     "data": {
      "text/plain": [
       "11"
      ]
     },
     "execution_count": 10,
     "metadata": {},
     "output_type": "execute_result"
    }
   ],
   "source": [
    "def increment(number):\n",
    "    if not isinstance(number,int):\n",
    "        raise TypeError(f'{number} is not an integer.')\n",
    "    \n",
    "    def inner_increment(number):\n",
    "        return number+1\n",
    "    \n",
    "    return inner_increment(number)\n",
    "\n",
    "increment(10)\n",
    "    \n"
   ]
  },
  {
   "cell_type": "code",
   "execution_count": 11,
   "metadata": {},
   "outputs": [
    {
     "ename": "NameError",
     "evalue": "name 'inner_increement' is not defined",
     "output_type": "error",
     "traceback": [
      "\u001b[1;31m---------------------------------------------------------------------------\u001b[0m",
      "\u001b[1;31mNameError\u001b[0m                                 Traceback (most recent call last)",
      "\u001b[1;32m<ipython-input-11-d83d1337044f>\u001b[0m in \u001b[0;36m<module>\u001b[1;34m\u001b[0m\n\u001b[1;32m----> 1\u001b[1;33m \u001b[0minner_increement\u001b[0m\u001b[1;33m(\u001b[0m\u001b[1;36m10\u001b[0m\u001b[1;33m)\u001b[0m\u001b[1;33m\u001b[0m\u001b[1;33m\u001b[0m\u001b[0m\n\u001b[0m",
      "\u001b[1;31mNameError\u001b[0m: name 'inner_increement' is not defined"
     ]
    }
   ],
   "source": [
    "inner_increement(10)"
   ]
  },
  {
   "cell_type": "code",
   "execution_count": 12,
   "metadata": {},
   "outputs": [
    {
     "data": {
      "text/plain": [
       "11"
      ]
     },
     "execution_count": 12,
     "metadata": {},
     "output_type": "execute_result"
    }
   ],
   "source": [
    "increment(10)"
   ]
  },
  {
   "cell_type": "code",
   "execution_count": 13,
   "metadata": {},
   "outputs": [
    {
     "ename": "TypeError",
     "evalue": "j is not an integer.",
     "output_type": "error",
     "traceback": [
      "\u001b[1;31m---------------------------------------------------------------------------\u001b[0m",
      "\u001b[1;31mTypeError\u001b[0m                                 Traceback (most recent call last)",
      "\u001b[1;32m<ipython-input-13-bbf855106ade>\u001b[0m in \u001b[0;36m<module>\u001b[1;34m\u001b[0m\n\u001b[1;32m----> 1\u001b[1;33m \u001b[0mincrement\u001b[0m\u001b[1;33m(\u001b[0m\u001b[1;34m'j'\u001b[0m\u001b[1;33m)\u001b[0m\u001b[1;33m\u001b[0m\u001b[1;33m\u001b[0m\u001b[0m\n\u001b[0m",
      "\u001b[1;32m<ipython-input-10-f7ffcd3b0c5c>\u001b[0m in \u001b[0;36mincrement\u001b[1;34m(number)\u001b[0m\n\u001b[0;32m      1\u001b[0m \u001b[1;32mdef\u001b[0m \u001b[0mincrement\u001b[0m\u001b[1;33m(\u001b[0m\u001b[0mnumber\u001b[0m\u001b[1;33m)\u001b[0m\u001b[1;33m:\u001b[0m\u001b[1;33m\u001b[0m\u001b[1;33m\u001b[0m\u001b[0m\n\u001b[0;32m      2\u001b[0m     \u001b[1;32mif\u001b[0m \u001b[1;32mnot\u001b[0m \u001b[0misinstance\u001b[0m\u001b[1;33m(\u001b[0m\u001b[0mnumber\u001b[0m\u001b[1;33m,\u001b[0m\u001b[0mint\u001b[0m\u001b[1;33m)\u001b[0m\u001b[1;33m:\u001b[0m\u001b[1;33m\u001b[0m\u001b[1;33m\u001b[0m\u001b[0m\n\u001b[1;32m----> 3\u001b[1;33m         \u001b[1;32mraise\u001b[0m \u001b[0mTypeError\u001b[0m\u001b[1;33m(\u001b[0m\u001b[1;34mf'{number} is not an integer.'\u001b[0m\u001b[1;33m)\u001b[0m\u001b[1;33m\u001b[0m\u001b[1;33m\u001b[0m\u001b[0m\n\u001b[0m\u001b[0;32m      4\u001b[0m \u001b[1;33m\u001b[0m\u001b[0m\n\u001b[0;32m      5\u001b[0m     \u001b[1;32mdef\u001b[0m \u001b[0minner_increment\u001b[0m\u001b[1;33m(\u001b[0m\u001b[0mnumber\u001b[0m\u001b[1;33m)\u001b[0m\u001b[1;33m:\u001b[0m\u001b[1;33m\u001b[0m\u001b[1;33m\u001b[0m\u001b[0m\n",
      "\u001b[1;31mTypeError\u001b[0m: j is not an integer."
     ]
    }
   ],
   "source": [
    "increment('j')"
   ]
  },
  {
   "cell_type": "markdown",
   "metadata": {},
   "source": [
    "Building Helper Inner Functions\n",
    "Sometimes you have a function that performs the same chunk of code in several places within its body. For example, say you want to write a function to process a CSV file containing information about the Wi-Fi hotspots in New York City. To find the total number of hotspots in New York as well as the company that provides most of them, you create the following script:"
   ]
  },
  {
   "cell_type": "code",
   "execution_count": 65,
   "metadata": {},
   "outputs": [
    {
     "name": "stdout",
     "output_type": "stream",
     "text": [
      "[('', 12), ('Kissena Park', 2), ('MARIA HERNANDEZ', 2)]\n",
      "There are 172 hotspots in NYC. with 12\n"
     ]
    }
   ],
   "source": [
    "import csv\n",
    "from collections import Counter\n",
    "\n",
    "def process_hotspots(file):\n",
    "    def most_common_provider(file_obj):\n",
    "        hotspots=[]\n",
    "        with file_obj as csvfile:\n",
    "            content=csv.DictReader(csvfile)\n",
    "        \n",
    "            # Extract unique Providers\n",
    "            for row in content:\n",
    "                hotspots.append(row[\"Name\"])\n",
    "\n",
    "        \n",
    "        # Load into Couinter object\n",
    "        counter=Counter(hotspots)\n",
    "        \n",
    "        #Print output\n",
    "        print(counter.most_common(3))\n",
    "        print(f'There are {len(hotspots)} hotspots in NYC.{counter.most_common(1)[0][0]} with {counter.most_common(1)[0][1]}')\n",
    "        \n",
    "    # Check input type before calling helper function\n",
    "    if isinstance(file, str):\n",
    "        # Input is a file path\n",
    "        file_obj=open(file,\"r\")\n",
    "        most_common_provider(file_obj)\n",
    "    else:\n",
    "        # Imput is a file object\n",
    "        most_common_provider(file)\n",
    "\n",
    "process_hotspots('data\\\\NYC_Wi-Fi_Hotspot_Locations-1.csv')"
   ]
  },
  {
   "cell_type": "markdown",
   "metadata": {},
   "source": [
    "Retaining State in a Closure\n",
    "A closure causes the inner function to retain the state of its environment when called. The closure isn’t the inner function itself but the inner function along with its enclosing environment. The closure captures the local variables and name in the containing function and keeps them around."
   ]
  },
  {
   "cell_type": "code",
   "execution_count": 68,
   "metadata": {},
   "outputs": [],
   "source": [
    "# closure factory function\n",
    "def generate_power(exponent):\n",
    "    def power(base):\n",
    "        ret_val=base ** exponent\n",
    "        print(ret_val)\n",
    "        return ret_val\n",
    "    \n",
    "    # return power as a function object, without calling it\n",
    "    return power\n",
    "\n",
    "raise_2 = generate_power(3)\n"
   ]
  },
  {
   "cell_type": "markdown",
   "metadata": {},
   "source": [
    "example of how to build a decorator function to add new functionality to an existing function"
   ]
  },
  {
   "cell_type": "code",
   "execution_count": 69,
   "metadata": {},
   "outputs": [
    {
     "name": "stdout",
     "output_type": "stream",
     "text": [
      "This is my first decorator\n",
      "Hello, World !\n",
      "In God We Trust!\n"
     ]
    }
   ],
   "source": [
    "def add_messages(func):\n",
    "    def _add_messages():\n",
    "        print('This is my first decorator')\n",
    "        func()\n",
    "        print('In God We Trust!')\n",
    "        \n",
    "    return _add_messages\n",
    "\n",
    "@add_messages\n",
    "def greet():\n",
    "    print('Hello, World !')\n",
    "    \n",
    "greet()"
   ]
  },
  {
   "cell_type": "code",
   "execution_count": 73,
   "metadata": {},
   "outputs": [
    {
     "name": "stdout",
     "output_type": "stream",
     "text": [
      "add , arges : (2, 3) , kwargs : {} , Result : 5\n"
     ]
    },
    {
     "data": {
      "text/plain": [
       "5"
      ]
     },
     "execution_count": 73,
     "metadata": {},
     "output_type": "execute_result"
    }
   ],
   "source": [
    "def debug(func):\n",
    "    def _debug(*args, **kwargs):\n",
    "        result=func(*args, **kwargs)\n",
    "        print(f'{func.__name__} , arges : {args} , kwargs : {kwargs} , Result : {result}')\n",
    "        \n",
    "        return result\n",
    "    return _debug\n",
    "\n",
    "@debug\n",
    "def add(a,b):\n",
    "    return a+b\n",
    "\n",
    "add(2,3)"
   ]
  },
  {
   "cell_type": "code",
   "execution_count": null,
   "metadata": {},
   "outputs": [],
   "source": []
  }
 ],
 "metadata": {
  "kernelspec": {
   "display_name": "Python 3",
   "language": "python",
   "name": "python3"
  },
  "language_info": {
   "codemirror_mode": {
    "name": "ipython",
    "version": 3
   },
   "file_extension": ".py",
   "mimetype": "text/x-python",
   "name": "python",
   "nbconvert_exporter": "python",
   "pygments_lexer": "ipython3",
   "version": "3.7.3"
  }
 },
 "nbformat": 4,
 "nbformat_minor": 4
}
