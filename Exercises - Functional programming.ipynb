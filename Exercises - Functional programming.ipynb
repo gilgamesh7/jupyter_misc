{
 "cells": [
  {
   "cell_type": "markdown",
   "metadata": {},
   "source": [
    "# Functional Programming\n",
    "#### https://realpython.com/python-functional-programming/"
   ]
  },
  {
   "cell_type": "markdown",
   "metadata": {},
   "source": [
    " functions are first-class citizens. That means functions have the same characteristics as values like strings and numbers. Anything you would expect to be able to do with a string or number you can do with a function as well."
   ]
  },
  {
   "cell_type": "code",
   "execution_count": 79,
   "metadata": {},
   "outputs": [
    {
     "name": "stdout",
     "output_type": "stream",
     "text": [
      "In God We Trust\n",
      "In God We Trust\n"
     ]
    }
   ],
   "source": [
    "def my_func():\n",
    "    print(\"In God We Trust\")\n",
    "\n",
    "# calling \n",
    "my_func()\n",
    "# assign to anotjher function\n",
    "my_func_clone = my_func\n",
    "my_func_clone()"
   ]
  },
  {
   "cell_type": "code",
   "execution_count": 90,
   "metadata": {
    "scrolled": true
   },
   "outputs": [
    {
     "name": "stdout",
     "output_type": "stream",
     "text": [
      "In God We Trust 0\n",
      "In God We Trust 1\n",
      "In God We Trust 2\n",
      "<function my_func at 0x0000012ECEF0B268>\n",
      "<function my_func at 0x0000012ECEF0B268>\n",
      "<function my_func at 0x0000012ECEF0B268>\n",
      "In God We Trust 0\n",
      "In God We Trust 1\n",
      "In God We Trust 2\n"
     ]
    }
   ],
   "source": [
    "# add tl list or dictionary as key\n",
    "def my_func(x):\n",
    "    print(f\"In God We Trust {x}\")\n",
    "\n",
    "my_func(0)\n",
    "# clone function\n",
    "my_func_clone1 = my_func\n",
    "my_func_clone1(1)\n",
    "my_func_clone2 = my_func\n",
    "my_func_clone2(2)\n",
    "\n",
    "# add to list\n",
    "func_list = [my_func, my_func_clone1 , my_func_clone2]\n",
    "for func in func_list:\n",
    "    print(func)\n",
    "\n",
    "# Execute from list\n",
    "for count,func in enumerate(func_list):\n",
    "    func(count)"
   ]
  },
  {
   "cell_type": "code",
   "execution_count": 121,
   "metadata": {},
   "outputs": [
    {
     "name": "stdout",
     "output_type": "stream",
     "text": [
      "my_func_1 received In God We Trust\n",
      "my_func_2 received E pluribus Unum\n",
      "my_func_3 received Ne Que Noctua Curat\n"
     ]
    }
   ],
   "source": [
    "# run from dictionary\n",
    "import inspect\n",
    "\n",
    "def my_func_1(my_str):\n",
    "    print(f\"{inspect.stack()[0][3]} received {my_str}\")\n",
    "\n",
    "def my_func_2(my_str):\n",
    "    print(f\"{inspect.stack()[0][3]} received {my_str}\")\n",
    "\n",
    "def my_func_3(my_str):\n",
    "    print(f\"{inspect.stack()[0][3]} received {my_str}\")\n",
    "\n",
    "# my_func_1(\"In God We Trust\")\n",
    "# my_func_2(\"E pluribus Unum\")\n",
    "# my_func_2(\"Ne Que Noctua Curat\")\n",
    "\n",
    "my_func_dict={\n",
    "    my_func_1 : \"In God We Trust\",\n",
    "    my_func_2 : \"E pluribus Unum\",\n",
    "    my_func_3 : \"Ne Que Noctua Curat\"\n",
    "}\n",
    "\n",
    "for key,value in my_func_dict.items():\n",
    "    key(value)\n"
   ]
  },
  {
   "cell_type": "code",
   "execution_count": 122,
   "metadata": {},
   "outputs": [
    {
     "name": "stdout",
     "output_type": "stream",
     "text": [
      "In God We Trust\n"
     ]
    }
   ],
   "source": [
    "# Passing functions as arguments - function composition\n",
    "# Use decorators instead\n",
    "def inner():\n",
    "    print(\"In God We Trust\")\n",
    "\n",
    "def outer(function):\n",
    "     function()\n",
    "\n",
    "outer(inner)"
   ]
  },
  {
   "cell_type": "markdown",
   "metadata": {},
   "source": [
    "### Callback functions\n",
    "When you pass a function to another function, the passed-in function sometimes is referred to as a callback because a call back to the inner function can modify the outer function’s behavior"
   ]
  },
  {
   "cell_type": "code",
   "execution_count": 129,
   "metadata": {},
   "outputs": [
    {
     "name": "stdout",
     "output_type": "stream",
     "text": [
      "Length : 4\n",
      "Reverse Length : -4\n",
      "Sorted : ['dog', 'ferret', 'gecko', 'vole']\n",
      "Reverse Sorted with callback: ['ferret', 'gecko', 'vole', 'dog']\n"
     ]
    }
   ],
   "source": [
    "animals = [\"ferret\", \"vole\", \"dog\", \"gecko\"]\n",
    "\n",
    "print(f\"Length : {len(animals)}\")\n",
    "print(f\"Reverse Length : {-len(animals)}\")\n",
    "\n",
    "print(f\"Sorted : {sorted(animals)}\")\n",
    "\n",
    "def reverse_len(s):\n",
    "    return -len(s)\n",
    "\n",
    "print(f\"Reverse Sorted with callback: {sorted(animals,key=reverse_len)}\")\n",
    "\n"
   ]
  },
  {
   "cell_type": "markdown",
   "metadata": {},
   "source": [
    "### Returning functions"
   ]
  },
  {
   "cell_type": "code",
   "execution_count": 137,
   "metadata": {},
   "outputs": [
    {
     "name": "stdout",
     "output_type": "stream",
     "text": [
      "Am in outer\n",
      "Am in outer\n",
      "Am in inner\n"
     ]
    }
   ],
   "source": [
    "import inspect\n",
    "\n",
    "def outer():\n",
    "    print(f\"Am in {inspect.stack()[0][3]}\")\n",
    "\n",
    "    def inner():\n",
    "        print(f\"Am in {inspect.stack()[0][3]}\")\n",
    "    \n",
    "    return(inner)\n",
    "        \n",
    "outer()\n",
    "outer()()"
   ]
  },
  {
   "cell_type": "markdown",
   "metadata": {},
   "source": [
    "### Lambda\n",
    "\n",
    "Format : \n",
    "lambda #parameter_list#:#expression# <br>\n",
    "A lambda expression <br>\n",
    "can’t contain statements like assignment or return, <br>\n",
    "nor can it contain control structures such as for, while, if, else, or def.\n"
   ]
  },
  {
   "cell_type": "code",
   "execution_count": 192,
   "metadata": {},
   "outputs": [
    {
     "name": "stdout",
     "output_type": "stream",
     "text": [
      "tsurT eW doG nI\n",
      "tsuRT eW doG nI\n",
      "10\n",
      "['dog', 'ferret', 'gecko', 'vole']\n",
      "['ferret', 'gecko', 'vole', 'dog']\n",
      "<function <lambda> at 0x0000012ECEFD4C80>\n",
      "42\n",
      "(5, 25, 125)\n",
      "{'in': 4, 'in2': 8, 'insq': 16}\n",
      "[1, 2, 3, 4, 5, 6]\n"
     ]
    }
   ],
   "source": [
    "# Function \n",
    "lambda my_str:my_str[::-1]\n",
    "\n",
    "# Assign & Call using variable\n",
    "reverse=lambda my_str:my_str[::-1]\n",
    "print(reverse(\"In God We Trust\"))\n",
    "\n",
    "# Use directly\n",
    "print((lambda my_str:my_str[::-1])(\"In God We TRust\"))\n",
    "\n",
    "# Example with numbers\n",
    "print((lambda w,x,y,z : w+x+y+z)(1,2,3,4))\n",
    "\n",
    "# In callback\n",
    "animals = [\"ferret\", \"vole\", \"dog\", \"gecko\"]\n",
    "print(sorted(animals))\n",
    "print(sorted(animals, key=lambda my_str: -len(my_str)))\n",
    "\n",
    "# no arguments\n",
    "print(lambda : 42)\n",
    "print((lambda : 42)())\n",
    "\n",
    "# returning a tuple\n",
    "# explicitly pack tuple / dictionary\n",
    "print((lambda x : (x, x*x , x**3))(5))\n",
    "print((lambda x : {\"in\":x, \"in2\":x*2, \"insq\":x**2})(4))\n",
    "\n",
    "# return a list\n",
    "print((lambda : list(range(1,7)))())"
   ]
  },
  {
   "cell_type": "code",
   "execution_count": 109,
   "metadata": {
    "scrolled": true
   },
   "outputs": [
    {
     "name": "stdout",
     "output_type": "stream",
     "text": [
      "FrameInfo(frame=<frame at 0x0000012ECDEEEDC8, file '<ipython-input-109-6aaef73b8ce4>', line 5, code my_func_1>, filename='<ipython-input-109-6aaef73b8ce4>', lineno=5, function='my_func_1', code_context=['    print(inspect.stack()[0])\\n'], index=0)\n",
      "<frame at 0x0000012ECDEEEDC8, file '<ipython-input-109-6aaef73b8ce4>', line 8, code my_func_1>\n",
      "<ipython-input-109-6aaef73b8ce4>\n",
      "7\n",
      "my_func_1\n",
      "['    for item in inspect.stack()[0] :\\n']\n",
      "0\n"
     ]
    }
   ],
   "source": [
    "# Testing inspect\n",
    "import inspect \n",
    "\n",
    "def my_func_1(my_str):\n",
    "    print(inspect.stack()[0])\n",
    "#     print(inspect.stack()[0][3])\n",
    "    for item in inspect.stack()[0] :\n",
    "        print(f\"{item}\")\n",
    "\n",
    "#     print(f\"{inspect.stack()[0]} received {my_str}\")\n",
    "\n",
    "my_func_1(\"In God We Trust\")"
   ]
  },
  {
   "cell_type": "markdown",
   "metadata": {},
   "source": [
    "### Map\n",
    "Format : \n",
    "`map(<f>, <iterable>)`\n",
    "returns in iterator that yields the results of applying function `<f>` to each element of `<iterable>`"
   ]
  },
  {
   "cell_type": "code",
   "execution_count": 6,
   "metadata": {},
   "outputs": [
    {
     "name": "stdout",
     "output_type": "stream",
     "text": [
      "['tac', 'god', 'gohegdeh', 'okceg']\n"
     ]
    }
   ],
   "source": [
    "def reverse(s):\n",
    "    return s[::-1]\n",
    "\n",
    "animals = [\"cat\", \"dog\", \"hedgehog\", \"gecko\"]\n",
    "\n",
    "iterator = map(reverse,animals)\n",
    "\n",
    "print(list(iterator))\n",
    "\n",
    "for i in iterator:\n",
    "    print(i)\n",
    "    \n"
   ]
  },
  {
   "cell_type": "code",
   "execution_count": 9,
   "metadata": {
    "scrolled": true
   },
   "outputs": [
    {
     "name": "stdout",
     "output_type": "stream",
     "text": [
      "1\n",
      "4\n",
      "9\n",
      "16\n",
      "25\n",
      "36\n",
      "49\n",
      "64\n",
      "81\n",
      "100\n"
     ]
    }
   ],
   "source": [
    "my_numbers = [1,2,3,4,5,6,7,8,9,10]\n",
    "\n",
    "iterator = map(lambda i: i**2,my_numbers)\n",
    "\n",
    "for i in iterator:\n",
    "    print(i)"
   ]
  },
  {
   "cell_type": "code",
   "execution_count": 17,
   "metadata": {},
   "outputs": [
    {
     "name": "stdout",
     "output_type": "stream",
     "text": [
      "5\n",
      "1^2^3^4^5^6^7^8^9^10\n"
     ]
    }
   ],
   "source": [
    "my_numbers=[1,2,3,4,5,6,7,8,9,10]\n",
    "\n",
    "print((lambda i : str(i))(5))\n",
    "\n",
    "# num_str_iter = map(lambda i : str(i), my_numbers)\n",
    "# print('+'.join(num_str_iter))\n",
    "\n",
    "print('^'.join(map(lambda i : str(i), my_numbers)))"
   ]
  },
  {
   "cell_type": "markdown",
   "metadata": {},
   "source": [
    "#### Adding  elements in multiple lists using lambda and map"
   ]
  },
  {
   "cell_type": "code",
   "execution_count": 1,
   "metadata": {},
   "outputs": [
    {
     "name": "stdout",
     "output_type": "stream",
     "text": [
      "<map object at 0x0000025559961400>\n",
      "[12, 15, 18]\n"
     ]
    }
   ],
   "source": [
    "nums1=[1,2,3]\n",
    "nums2=[4,5,6]\n",
    "nums3=[7,8,9]\n",
    "\n",
    "result=map(lambda x,y,z: x+y+z , nums1,nums2, nums3)\n",
    "\n",
    "print(result)\n",
    "print(list(result))"
   ]
  },
  {
   "cell_type": "markdown",
   "metadata": {},
   "source": [
    "### filter()\n",
    "<br> allows you to select or filter items from an iterable based on evaluation of the given function <br>\n",
    "`filter(<f>, <iterable>)`"
   ]
  },
  {
   "cell_type": "code",
   "execution_count": 28,
   "metadata": {},
   "outputs": [
    {
     "name": "stdout",
     "output_type": "stream",
     "text": [
      "[False, True, False, True]\n",
      "[12, 15]\n"
     ]
    },
    {
     "data": {
      "text/plain": [
       "[0, 2, 4, 6, 8, 10, 12, 14, 16, 18]"
      ]
     },
     "execution_count": 28,
     "metadata": {},
     "output_type": "execute_result"
    }
   ],
   "source": [
    "(lambda x : x > 10)(12)\n",
    "\n",
    "print(list(map(lambda x : x > 10,[2,12,5,15])))\n",
    "\n",
    "print(list(filter(lambda x : x > 10,[2,12,5,15])))\n",
    "\n",
    "list(filter(lambda x : x%2 == 0, range(20)))"
   ]
  },
  {
   "cell_type": "markdown",
   "metadata": {},
   "source": [
    "### reduce()\n",
    "\n",
    "<br> applies a function to the items in an iterable two at a time, progressively combining them to produce a single result. <br>\n",
    "\n",
    "`reduce(<f>, <iterable>)\n",
    "`"
   ]
  },
  {
   "cell_type": "code",
   "execution_count": 44,
   "metadata": {},
   "outputs": [
    {
     "name": "stdout",
     "output_type": "stream",
     "text": [
      "10\n"
     ]
    },
    {
     "data": {
      "text/plain": [
       "300"
      ]
     },
     "execution_count": 44,
     "metadata": {},
     "output_type": "execute_result"
    }
   ],
   "source": [
    "\n",
    "reduce(lambda x,y : x+y , range(1,11))\n",
    "\n",
    "reduce(lambda x,y: x*y, range(1,6))\n",
    "\n",
    "from functools import reduce \n",
    "\n",
    "print(reduce(lambda x,y: x if x>y else y , [1,2,10,4]))\n",
    "\n",
    "reduce(lambda x,y: x if x>y else y , [1,2,10,4],300)"
   ]
  },
  {
   "cell_type": "code",
   "execution_count": 31,
   "metadata": {},
   "outputs": [
    {
     "data": {
      "text/plain": [
       "[0, 2, 4, 6, 8]"
      ]
     },
     "execution_count": 31,
     "metadata": {},
     "output_type": "execute_result"
    }
   ],
   "source": [
    "# Use list comprehension instead of map, filter, reduce + lambda\n",
    "[i for i in range(10) if i%2 == 0]"
   ]
  },
  {
   "cell_type": "code",
   "execution_count": null,
   "metadata": {},
   "outputs": [],
   "source": []
  }
 ],
 "metadata": {
  "kernelspec": {
   "display_name": "Python 3",
   "language": "python",
   "name": "python3"
  },
  "language_info": {
   "codemirror_mode": {
    "name": "ipython",
    "version": 3
   },
   "file_extension": ".py",
   "mimetype": "text/x-python",
   "name": "python",
   "nbconvert_exporter": "python",
   "pygments_lexer": "ipython3",
   "version": "3.7.3"
  }
 },
 "nbformat": 4,
 "nbformat_minor": 4
}
